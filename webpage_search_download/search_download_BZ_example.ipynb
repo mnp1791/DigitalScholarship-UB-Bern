{
 "cells": [
  {
   "cell_type": "markdown",
   "metadata": {},
   "source": [
    "# Download files from Bozner Zeitung\n",
    "\n",
    "--------------------------install specifically required packages-------------------------------------\n",
    "\n",
    "    conda install beautifulsoup4\n",
    "    conda install urllib3\n",
    "\n",
    "This is an example for how to download files from a complex webpage. This code relies havily on analyzing the structure of the given page, in this case the Tessmann digital archive. Therefore the code only works within this structure. If you want to download files from another webpage or archive, you need to analyze the structure of that page first, insert the different url-string-structures and follow the specific link-structure of the page. The tools and python packages used here are however very versatile, provide many more options and can therefore be used for a large range of webpages."
   ]
  },
  {
   "cell_type": "code",
   "execution_count": 1,
   "metadata": {},
   "outputs": [],
   "source": [
    "import shutil"
   ]
  },
  {
   "cell_type": "code",
   "execution_count": 2,
   "metadata": {},
   "outputs": [],
   "source": [
    "import re, os"
   ]
  },
  {
   "cell_type": "code",
   "execution_count": 3,
   "metadata": {},
   "outputs": [],
   "source": [
    "import urllib3\n",
    "from bs4 import BeautifulSoup"
   ]
  },
  {
   "cell_type": "markdown",
   "metadata": {},
   "source": [
    "## First we look at the journal startpage and get a list of available years\n",
    "\n",
    "it contains the dates for all the years"
   ]
  },
  {
   "cell_type": "code",
   "execution_count": 4,
   "metadata": {},
   "outputs": [],
   "source": [
    "# this url needs to be provided\n",
    "start_url = 'https://digital.tessmann.it/tessmannDigital/Zeitungsarchiv/Jahresuebersicht/Zeitung/2'"
   ]
  },
  {
   "cell_type": "code",
   "execution_count": 5,
   "metadata": {},
   "outputs": [],
   "source": [
    "http = urllib3.PoolManager()"
   ]
  },
  {
   "cell_type": "code",
   "execution_count": 6,
   "metadata": {},
   "outputs": [
    {
     "name": "stderr",
     "output_type": "stream",
     "text": [
      "/Users/nplattner/miniconda3/envs/AutoSearch/lib/python3.7/site-packages/urllib3/connectionpool.py:847: InsecureRequestWarning: Unverified HTTPS request is being made. Adding certificate verification is strongly advised. See: https://urllib3.readthedocs.io/en/latest/advanced-usage.html#ssl-warnings\n",
      "  InsecureRequestWarning)\n"
     ]
    }
   ],
   "source": [
    "response = http.request('GET', start_url)"
   ]
  },
  {
   "cell_type": "code",
   "execution_count": 7,
   "metadata": {},
   "outputs": [],
   "source": [
    "soup = BeautifulSoup(response.data)"
   ]
  },
  {
   "cell_type": "code",
   "execution_count": 8,
   "metadata": {
    "scrolled": true
   },
   "outputs": [],
   "source": [
    "# find lists in HTML\n",
    "ylist = soup.find_all('ul')\n",
    "ylist2 = ylist[2]\n",
    "#print(ylist2.text)"
   ]
  },
  {
   "cell_type": "markdown",
   "metadata": {},
   "source": [
    "Now we generate a list with all links to the month overview (starting page) for each year.\n",
    "For this we need to know the page structure of the month overview, which is inserted in the 'adr_string'-variable."
   ]
  },
  {
   "cell_type": "code",
   "execution_count": 9,
   "metadata": {},
   "outputs": [],
   "source": [
    "adr_string = 'https://digital.tessmann.it/tessmannDigital/Zeitungsarchiv/Monatsuebersicht/Zeitung/2/'\n",
    "year_link = []\n",
    "splitlist = ylist2.text.split('\\n')\n",
    "for item in splitlist:\n",
    "    if item.startswith('1'):\n",
    "        adr = adr_string+item\n",
    "        year_link.append(adr)"
   ]
  },
  {
   "cell_type": "code",
   "execution_count": 10,
   "metadata": {
    "scrolled": true
   },
   "outputs": [
    {
     "name": "stdout",
     "output_type": "stream",
     "text": [
      "1842 https://digital.tessmann.it/tessmannDigital/Zeitungsarchiv/Monatsuebersicht/Zeitung/2/1842\n",
      "1843 https://digital.tessmann.it/tessmannDigital/Zeitungsarchiv/Monatsuebersicht/Zeitung/2/1843\n",
      "1844 https://digital.tessmann.it/tessmannDigital/Zeitungsarchiv/Monatsuebersicht/Zeitung/2/1844\n",
      "1845 https://digital.tessmann.it/tessmannDigital/Zeitungsarchiv/Monatsuebersicht/Zeitung/2/1845\n",
      "1846 https://digital.tessmann.it/tessmannDigital/Zeitungsarchiv/Monatsuebersicht/Zeitung/2/1846\n",
      "1847 https://digital.tessmann.it/tessmannDigital/Zeitungsarchiv/Monatsuebersicht/Zeitung/2/1847\n",
      "1848 https://digital.tessmann.it/tessmannDigital/Zeitungsarchiv/Monatsuebersicht/Zeitung/2/1848\n",
      "1849 https://digital.tessmann.it/tessmannDigital/Zeitungsarchiv/Monatsuebersicht/Zeitung/2/1849\n",
      "1850 https://digital.tessmann.it/tessmannDigital/Zeitungsarchiv/Monatsuebersicht/Zeitung/2/1850\n",
      "1851 https://digital.tessmann.it/tessmannDigital/Zeitungsarchiv/Monatsuebersicht/Zeitung/2/1851\n",
      "1852 https://digital.tessmann.it/tessmannDigital/Zeitungsarchiv/Monatsuebersicht/Zeitung/2/1852\n",
      "1853 https://digital.tessmann.it/tessmannDigital/Zeitungsarchiv/Monatsuebersicht/Zeitung/2/1853\n",
      "1854 https://digital.tessmann.it/tessmannDigital/Zeitungsarchiv/Monatsuebersicht/Zeitung/2/1854\n",
      "1855 https://digital.tessmann.it/tessmannDigital/Zeitungsarchiv/Monatsuebersicht/Zeitung/2/1855\n",
      "1856 https://digital.tessmann.it/tessmannDigital/Zeitungsarchiv/Monatsuebersicht/Zeitung/2/1856\n",
      "1857 https://digital.tessmann.it/tessmannDigital/Zeitungsarchiv/Monatsuebersicht/Zeitung/2/1857\n",
      "1858 https://digital.tessmann.it/tessmannDigital/Zeitungsarchiv/Monatsuebersicht/Zeitung/2/1858\n",
      "1859 https://digital.tessmann.it/tessmannDigital/Zeitungsarchiv/Monatsuebersicht/Zeitung/2/1859\n",
      "1860 https://digital.tessmann.it/tessmannDigital/Zeitungsarchiv/Monatsuebersicht/Zeitung/2/1860\n",
      "1861 https://digital.tessmann.it/tessmannDigital/Zeitungsarchiv/Monatsuebersicht/Zeitung/2/1861\n",
      "1862 https://digital.tessmann.it/tessmannDigital/Zeitungsarchiv/Monatsuebersicht/Zeitung/2/1862\n",
      "1863 https://digital.tessmann.it/tessmannDigital/Zeitungsarchiv/Monatsuebersicht/Zeitung/2/1863\n",
      "1864 https://digital.tessmann.it/tessmannDigital/Zeitungsarchiv/Monatsuebersicht/Zeitung/2/1864\n",
      "1865 https://digital.tessmann.it/tessmannDigital/Zeitungsarchiv/Monatsuebersicht/Zeitung/2/1865\n",
      "1866 https://digital.tessmann.it/tessmannDigital/Zeitungsarchiv/Monatsuebersicht/Zeitung/2/1866\n",
      "1867 https://digital.tessmann.it/tessmannDigital/Zeitungsarchiv/Monatsuebersicht/Zeitung/2/1867\n",
      "1868 https://digital.tessmann.it/tessmannDigital/Zeitungsarchiv/Monatsuebersicht/Zeitung/2/1868\n",
      "1869 https://digital.tessmann.it/tessmannDigital/Zeitungsarchiv/Monatsuebersicht/Zeitung/2/1869\n",
      "1870 https://digital.tessmann.it/tessmannDigital/Zeitungsarchiv/Monatsuebersicht/Zeitung/2/1870\n",
      "1871 https://digital.tessmann.it/tessmannDigital/Zeitungsarchiv/Monatsuebersicht/Zeitung/2/1871\n",
      "1872 https://digital.tessmann.it/tessmannDigital/Zeitungsarchiv/Monatsuebersicht/Zeitung/2/1872\n",
      "1873 https://digital.tessmann.it/tessmannDigital/Zeitungsarchiv/Monatsuebersicht/Zeitung/2/1873\n",
      "1874 https://digital.tessmann.it/tessmannDigital/Zeitungsarchiv/Monatsuebersicht/Zeitung/2/1874\n",
      "1875 https://digital.tessmann.it/tessmannDigital/Zeitungsarchiv/Monatsuebersicht/Zeitung/2/1875\n",
      "1876 https://digital.tessmann.it/tessmannDigital/Zeitungsarchiv/Monatsuebersicht/Zeitung/2/1876\n",
      "1877 https://digital.tessmann.it/tessmannDigital/Zeitungsarchiv/Monatsuebersicht/Zeitung/2/1877\n",
      "1878 https://digital.tessmann.it/tessmannDigital/Zeitungsarchiv/Monatsuebersicht/Zeitung/2/1878\n",
      "1879 https://digital.tessmann.it/tessmannDigital/Zeitungsarchiv/Monatsuebersicht/Zeitung/2/1879\n",
      "1880 https://digital.tessmann.it/tessmannDigital/Zeitungsarchiv/Monatsuebersicht/Zeitung/2/1880\n",
      "1881 https://digital.tessmann.it/tessmannDigital/Zeitungsarchiv/Monatsuebersicht/Zeitung/2/1881\n",
      "1882 https://digital.tessmann.it/tessmannDigital/Zeitungsarchiv/Monatsuebersicht/Zeitung/2/1882\n",
      "1883 https://digital.tessmann.it/tessmannDigital/Zeitungsarchiv/Monatsuebersicht/Zeitung/2/1883\n",
      "1884 https://digital.tessmann.it/tessmannDigital/Zeitungsarchiv/Monatsuebersicht/Zeitung/2/1884\n",
      "1885 https://digital.tessmann.it/tessmannDigital/Zeitungsarchiv/Monatsuebersicht/Zeitung/2/1885\n",
      "1886 https://digital.tessmann.it/tessmannDigital/Zeitungsarchiv/Monatsuebersicht/Zeitung/2/1886\n",
      "1887 https://digital.tessmann.it/tessmannDigital/Zeitungsarchiv/Monatsuebersicht/Zeitung/2/1887\n",
      "1888 https://digital.tessmann.it/tessmannDigital/Zeitungsarchiv/Monatsuebersicht/Zeitung/2/1888\n",
      "1889 https://digital.tessmann.it/tessmannDigital/Zeitungsarchiv/Monatsuebersicht/Zeitung/2/1889\n",
      "1890 https://digital.tessmann.it/tessmannDigital/Zeitungsarchiv/Monatsuebersicht/Zeitung/2/1890\n",
      "1891 https://digital.tessmann.it/tessmannDigital/Zeitungsarchiv/Monatsuebersicht/Zeitung/2/1891\n",
      "1892 https://digital.tessmann.it/tessmannDigital/Zeitungsarchiv/Monatsuebersicht/Zeitung/2/1892\n",
      "1893 https://digital.tessmann.it/tessmannDigital/Zeitungsarchiv/Monatsuebersicht/Zeitung/2/1893\n",
      "1894 https://digital.tessmann.it/tessmannDigital/Zeitungsarchiv/Monatsuebersicht/Zeitung/2/1894\n",
      "1895 https://digital.tessmann.it/tessmannDigital/Zeitungsarchiv/Monatsuebersicht/Zeitung/2/1895\n",
      "1896 https://digital.tessmann.it/tessmannDigital/Zeitungsarchiv/Monatsuebersicht/Zeitung/2/1896\n",
      "1897 https://digital.tessmann.it/tessmannDigital/Zeitungsarchiv/Monatsuebersicht/Zeitung/2/1897\n",
      "1898 https://digital.tessmann.it/tessmannDigital/Zeitungsarchiv/Monatsuebersicht/Zeitung/2/1898\n",
      "1899 https://digital.tessmann.it/tessmannDigital/Zeitungsarchiv/Monatsuebersicht/Zeitung/2/1899\n",
      "1900 https://digital.tessmann.it/tessmannDigital/Zeitungsarchiv/Monatsuebersicht/Zeitung/2/1900\n",
      "1901 https://digital.tessmann.it/tessmannDigital/Zeitungsarchiv/Monatsuebersicht/Zeitung/2/1901\n",
      "1902 https://digital.tessmann.it/tessmannDigital/Zeitungsarchiv/Monatsuebersicht/Zeitung/2/1902\n",
      "1903 https://digital.tessmann.it/tessmannDigital/Zeitungsarchiv/Monatsuebersicht/Zeitung/2/1903\n",
      "1904 https://digital.tessmann.it/tessmannDigital/Zeitungsarchiv/Monatsuebersicht/Zeitung/2/1904\n",
      "1905 https://digital.tessmann.it/tessmannDigital/Zeitungsarchiv/Monatsuebersicht/Zeitung/2/1905\n",
      "1906 https://digital.tessmann.it/tessmannDigital/Zeitungsarchiv/Monatsuebersicht/Zeitung/2/1906\n",
      "1907 https://digital.tessmann.it/tessmannDigital/Zeitungsarchiv/Monatsuebersicht/Zeitung/2/1907\n",
      "1908 https://digital.tessmann.it/tessmannDigital/Zeitungsarchiv/Monatsuebersicht/Zeitung/2/1908\n",
      "1909 https://digital.tessmann.it/tessmannDigital/Zeitungsarchiv/Monatsuebersicht/Zeitung/2/1909\n",
      "1910 https://digital.tessmann.it/tessmannDigital/Zeitungsarchiv/Monatsuebersicht/Zeitung/2/1910\n",
      "1911 https://digital.tessmann.it/tessmannDigital/Zeitungsarchiv/Monatsuebersicht/Zeitung/2/1911\n",
      "1912 https://digital.tessmann.it/tessmannDigital/Zeitungsarchiv/Monatsuebersicht/Zeitung/2/1912\n",
      "1913 https://digital.tessmann.it/tessmannDigital/Zeitungsarchiv/Monatsuebersicht/Zeitung/2/1913\n",
      "1914 https://digital.tessmann.it/tessmannDigital/Zeitungsarchiv/Monatsuebersicht/Zeitung/2/1914\n",
      "1915 https://digital.tessmann.it/tessmannDigital/Zeitungsarchiv/Monatsuebersicht/Zeitung/2/1915\n",
      "1916 https://digital.tessmann.it/tessmannDigital/Zeitungsarchiv/Monatsuebersicht/Zeitung/2/1916\n",
      "1917 https://digital.tessmann.it/tessmannDigital/Zeitungsarchiv/Monatsuebersicht/Zeitung/2/1917\n",
      "1918 https://digital.tessmann.it/tessmannDigital/Zeitungsarchiv/Monatsuebersicht/Zeitung/2/1918\n"
     ]
    }
   ],
   "source": [
    "# generate starting page for each year\n",
    "year_list = []\n",
    "for num in range(len(year_link)):\n",
    "    lsplit = year_link[num].split('/')\n",
    "    year = lsplit[len(lsplit)-1]\n",
    "    print (year, year_link[num])\n",
    "    year_list.append(year)"
   ]
  },
  {
   "cell_type": "markdown",
   "metadata": {},
   "source": [
    "# Now we work with the list for a given year and download the pictures\n",
    "\n",
    "We could also loop over all the years, but in order to keep things simple we just download one year at the time. The year is selected by the year index below."
   ]
  },
  {
   "cell_type": "code",
   "execution_count": 11,
   "metadata": {},
   "outputs": [
    {
     "name": "stdout",
     "output_type": "stream",
     "text": [
      "year =  1844\n"
     ]
    },
    {
     "data": {
      "text/plain": [
       "'https://digital.tessmann.it/tessmannDigital/Zeitungsarchiv/Monatsuebersicht/Zeitung/2/1844'"
      ]
     },
     "execution_count": 11,
     "metadata": {},
     "output_type": "execute_result"
    }
   ],
   "source": [
    "# set year index\n",
    "year_index = 2\n",
    "print(\"year = \", year_list[year_index])\n",
    "month_url =  year_link[year_index]\n",
    "month_url"
   ]
  },
  {
   "cell_type": "code",
   "execution_count": 12,
   "metadata": {},
   "outputs": [
    {
     "name": "stderr",
     "output_type": "stream",
     "text": [
      "/Users/nplattner/miniconda3/envs/AutoSearch/lib/python3.7/site-packages/urllib3/connectionpool.py:847: InsecureRequestWarning: Unverified HTTPS request is being made. Adding certificate verification is strongly advised. See: https://urllib3.readthedocs.io/en/latest/advanced-usage.html#ssl-warnings\n",
      "  InsecureRequestWarning)\n"
     ]
    }
   ],
   "source": [
    "# get page data\n",
    "http = urllib3.PoolManager()\n",
    "response = http.request('GET', month_url)"
   ]
  },
  {
   "cell_type": "code",
   "execution_count": 13,
   "metadata": {},
   "outputs": [],
   "source": [
    "# analyze with beautiful soup\n",
    "soup = BeautifulSoup(response.data)"
   ]
  },
  {
   "cell_type": "code",
   "execution_count": 14,
   "metadata": {},
   "outputs": [],
   "source": [
    "# you can search for specific tags in page\n",
    "l1 = soup.find_all('a')"
   ]
  },
  {
   "cell_type": "code",
   "execution_count": 15,
   "metadata": {},
   "outputs": [
    {
     "data": {
      "text/plain": [
       "['<a href',\n",
       " '\"/tessmannDigital/Zeitungsarchiv/Tagesausgabe/Zeitung/2/26.01.1844\">26</a>']"
      ]
     },
     "execution_count": 15,
     "metadata": {},
     "output_type": "execute_result"
    }
   ],
   "source": [
    "# from the tag list we can get the links to different issues\n",
    "example = str(l1[20])\n",
    "example.split('=')"
   ]
  },
  {
   "cell_type": "markdown",
   "metadata": {},
   "source": [
    "Now we generate a list with the adresses of all issues.\n",
    "For generating the complete links the first part of the address needs to be provided as adr_string2."
   ]
  },
  {
   "cell_type": "code",
   "execution_count": 16,
   "metadata": {},
   "outputs": [],
   "source": [
    "adr_string2 = 'https://digital.tessmann.it'\n",
    "datelist = []\n",
    "linklist = []\n",
    "for item in l1:\n",
    "    splititem = str(item).split('=')\n",
    "    if 'Tagesausgabe' in splititem[1]:\n",
    "        split2 = splititem[1].split('>')\n",
    "        split3 = split2[0].split('/')\n",
    "        split4 = split3[6].split('\"')\n",
    "        datelist.append(split4[0])\n",
    "        lsplit = split2[0].split(('\"'))\n",
    "        linklist.append(adr_string2+str(lsplit[1]))"
   ]
  },
  {
   "cell_type": "code",
   "execution_count": 17,
   "metadata": {
    "scrolled": true
   },
   "outputs": [
    {
     "name": "stdout",
     "output_type": "stream",
     "text": [
      "05.01.1844 https://digital.tessmann.it/tessmannDigital/Zeitungsarchiv/Tagesausgabe/Zeitung/2/05.01.1844\n",
      "12.01.1844 https://digital.tessmann.it/tessmannDigital/Zeitungsarchiv/Tagesausgabe/Zeitung/2/12.01.1844\n",
      "19.01.1844 https://digital.tessmann.it/tessmannDigital/Zeitungsarchiv/Tagesausgabe/Zeitung/2/19.01.1844\n",
      "26.01.1844 https://digital.tessmann.it/tessmannDigital/Zeitungsarchiv/Tagesausgabe/Zeitung/2/26.01.1844\n",
      "02.02.1844 https://digital.tessmann.it/tessmannDigital/Zeitungsarchiv/Tagesausgabe/Zeitung/2/02.02.1844\n",
      "09.02.1844 https://digital.tessmann.it/tessmannDigital/Zeitungsarchiv/Tagesausgabe/Zeitung/2/09.02.1844\n",
      "16.02.1844 https://digital.tessmann.it/tessmannDigital/Zeitungsarchiv/Tagesausgabe/Zeitung/2/16.02.1844\n",
      "23.02.1844 https://digital.tessmann.it/tessmannDigital/Zeitungsarchiv/Tagesausgabe/Zeitung/2/23.02.1844\n",
      "01.03.1844 https://digital.tessmann.it/tessmannDigital/Zeitungsarchiv/Tagesausgabe/Zeitung/2/01.03.1844\n",
      "08.03.1844 https://digital.tessmann.it/tessmannDigital/Zeitungsarchiv/Tagesausgabe/Zeitung/2/08.03.1844\n",
      "15.03.1844 https://digital.tessmann.it/tessmannDigital/Zeitungsarchiv/Tagesausgabe/Zeitung/2/15.03.1844\n",
      "22.03.1844 https://digital.tessmann.it/tessmannDigital/Zeitungsarchiv/Tagesausgabe/Zeitung/2/22.03.1844\n",
      "29.03.1844 https://digital.tessmann.it/tessmannDigital/Zeitungsarchiv/Tagesausgabe/Zeitung/2/29.03.1844\n",
      "05.04.1844 https://digital.tessmann.it/tessmannDigital/Zeitungsarchiv/Tagesausgabe/Zeitung/2/05.04.1844\n",
      "12.04.1844 https://digital.tessmann.it/tessmannDigital/Zeitungsarchiv/Tagesausgabe/Zeitung/2/12.04.1844\n",
      "19.04.1844 https://digital.tessmann.it/tessmannDigital/Zeitungsarchiv/Tagesausgabe/Zeitung/2/19.04.1844\n",
      "26.04.1844 https://digital.tessmann.it/tessmannDigital/Zeitungsarchiv/Tagesausgabe/Zeitung/2/26.04.1844\n",
      "03.05.1844 https://digital.tessmann.it/tessmannDigital/Zeitungsarchiv/Tagesausgabe/Zeitung/2/03.05.1844\n",
      "10.05.1844 https://digital.tessmann.it/tessmannDigital/Zeitungsarchiv/Tagesausgabe/Zeitung/2/10.05.1844\n",
      "17.05.1844 https://digital.tessmann.it/tessmannDigital/Zeitungsarchiv/Tagesausgabe/Zeitung/2/17.05.1844\n",
      "24.05.1844 https://digital.tessmann.it/tessmannDigital/Zeitungsarchiv/Tagesausgabe/Zeitung/2/24.05.1844\n",
      "31.05.1844 https://digital.tessmann.it/tessmannDigital/Zeitungsarchiv/Tagesausgabe/Zeitung/2/31.05.1844\n",
      "07.06.1844 https://digital.tessmann.it/tessmannDigital/Zeitungsarchiv/Tagesausgabe/Zeitung/2/07.06.1844\n",
      "14.06.1844 https://digital.tessmann.it/tessmannDigital/Zeitungsarchiv/Tagesausgabe/Zeitung/2/14.06.1844\n",
      "21.06.1844 https://digital.tessmann.it/tessmannDigital/Zeitungsarchiv/Tagesausgabe/Zeitung/2/21.06.1844\n",
      "28.06.1844 https://digital.tessmann.it/tessmannDigital/Zeitungsarchiv/Tagesausgabe/Zeitung/2/28.06.1844\n",
      "05.07.1844 https://digital.tessmann.it/tessmannDigital/Zeitungsarchiv/Tagesausgabe/Zeitung/2/05.07.1844\n",
      "12.07.1844 https://digital.tessmann.it/tessmannDigital/Zeitungsarchiv/Tagesausgabe/Zeitung/2/12.07.1844\n",
      "19.07.1844 https://digital.tessmann.it/tessmannDigital/Zeitungsarchiv/Tagesausgabe/Zeitung/2/19.07.1844\n",
      "26.07.1844 https://digital.tessmann.it/tessmannDigital/Zeitungsarchiv/Tagesausgabe/Zeitung/2/26.07.1844\n",
      "02.08.1844 https://digital.tessmann.it/tessmannDigital/Zeitungsarchiv/Tagesausgabe/Zeitung/2/02.08.1844\n",
      "09.08.1844 https://digital.tessmann.it/tessmannDigital/Zeitungsarchiv/Tagesausgabe/Zeitung/2/09.08.1844\n",
      "16.08.1844 https://digital.tessmann.it/tessmannDigital/Zeitungsarchiv/Tagesausgabe/Zeitung/2/16.08.1844\n",
      "23.08.1844 https://digital.tessmann.it/tessmannDigital/Zeitungsarchiv/Tagesausgabe/Zeitung/2/23.08.1844\n",
      "30.08.1844 https://digital.tessmann.it/tessmannDigital/Zeitungsarchiv/Tagesausgabe/Zeitung/2/30.08.1844\n",
      "06.09.1844 https://digital.tessmann.it/tessmannDigital/Zeitungsarchiv/Tagesausgabe/Zeitung/2/06.09.1844\n",
      "13.09.1844 https://digital.tessmann.it/tessmannDigital/Zeitungsarchiv/Tagesausgabe/Zeitung/2/13.09.1844\n",
      "20.09.1844 https://digital.tessmann.it/tessmannDigital/Zeitungsarchiv/Tagesausgabe/Zeitung/2/20.09.1844\n",
      "27.09.1844 https://digital.tessmann.it/tessmannDigital/Zeitungsarchiv/Tagesausgabe/Zeitung/2/27.09.1844\n",
      "04.10.1844 https://digital.tessmann.it/tessmannDigital/Zeitungsarchiv/Tagesausgabe/Zeitung/2/04.10.1844\n",
      "11.10.1844 https://digital.tessmann.it/tessmannDigital/Zeitungsarchiv/Tagesausgabe/Zeitung/2/11.10.1844\n",
      "18.10.1844 https://digital.tessmann.it/tessmannDigital/Zeitungsarchiv/Tagesausgabe/Zeitung/2/18.10.1844\n",
      "25.10.1844 https://digital.tessmann.it/tessmannDigital/Zeitungsarchiv/Tagesausgabe/Zeitung/2/25.10.1844\n",
      "01.11.1844 https://digital.tessmann.it/tessmannDigital/Zeitungsarchiv/Tagesausgabe/Zeitung/2/01.11.1844\n",
      "08.11.1844 https://digital.tessmann.it/tessmannDigital/Zeitungsarchiv/Tagesausgabe/Zeitung/2/08.11.1844\n",
      "15.11.1844 https://digital.tessmann.it/tessmannDigital/Zeitungsarchiv/Tagesausgabe/Zeitung/2/15.11.1844\n",
      "22.11.1844 https://digital.tessmann.it/tessmannDigital/Zeitungsarchiv/Tagesausgabe/Zeitung/2/22.11.1844\n",
      "29.11.1844 https://digital.tessmann.it/tessmannDigital/Zeitungsarchiv/Tagesausgabe/Zeitung/2/29.11.1844\n",
      "06.12.1844 https://digital.tessmann.it/tessmannDigital/Zeitungsarchiv/Tagesausgabe/Zeitung/2/06.12.1844\n",
      "13.12.1844 https://digital.tessmann.it/tessmannDigital/Zeitungsarchiv/Tagesausgabe/Zeitung/2/13.12.1844\n",
      "20.12.1844 https://digital.tessmann.it/tessmannDigital/Zeitungsarchiv/Tagesausgabe/Zeitung/2/20.12.1844\n",
      "27.12.1844 https://digital.tessmann.it/tessmannDigital/Zeitungsarchiv/Tagesausgabe/Zeitung/2/27.12.1844\n"
     ]
    }
   ],
   "source": [
    "# now we have a list of all available issues\n",
    "for num in range(len(datelist)):\n",
    "    print(datelist[num], linklist[num])"
   ]
  },
  {
   "cell_type": "markdown",
   "metadata": {},
   "source": [
    "### Access issue list\n",
    "\n",
    "We can now get information form the issue list"
   ]
  },
  {
   "cell_type": "code",
   "execution_count": 18,
   "metadata": {},
   "outputs": [
    {
     "name": "stdout",
     "output_type": "stream",
     "text": [
      "19631\n",
      "19631\n"
     ]
    },
    {
     "name": "stderr",
     "output_type": "stream",
     "text": [
      "/Users/nplattner/miniconda3/envs/AutoSearch/lib/python3.7/site-packages/urllib3/connectionpool.py:847: InsecureRequestWarning: Unverified HTTPS request is being made. Adding certificate verification is strongly advised. See: https://urllib3.readthedocs.io/en/latest/advanced-usage.html#ssl-warnings\n",
      "  InsecureRequestWarning)\n"
     ]
    }
   ],
   "source": [
    "# testloop; this is for finding the required information, in this case an index number for the download link\n",
    "num = 0\n",
    "issue_url = linklist[num]\n",
    "http = urllib3.PoolManager()\n",
    "response = http.request('GET', issue_url)\n",
    "soup = BeautifulSoup(response.data)\n",
    "for item in soup.find_all('a'):\n",
    "    adress = item.attrs['href']\n",
    "    if adress.find('Seite') != -1 :\n",
    "        split = adress.split('/')\n",
    "        if int(split[(len(split)-1)]) > 3:\n",
    "            print(split[(len(split)-2)])\n",
    "            #ind_list.append"
   ]
  },
  {
   "cell_type": "code",
   "execution_count": 19,
   "metadata": {},
   "outputs": [
    {
     "name": "stderr",
     "output_type": "stream",
     "text": [
      "/Users/nplattner/miniconda3/envs/AutoSearch/lib/python3.7/site-packages/urllib3/connectionpool.py:847: InsecureRequestWarning: Unverified HTTPS request is being made. Adding certificate verification is strongly advised. See: https://urllib3.readthedocs.io/en/latest/advanced-usage.html#ssl-warnings\n",
      "  InsecureRequestWarning)\n",
      "/Users/nplattner/miniconda3/envs/AutoSearch/lib/python3.7/site-packages/urllib3/connectionpool.py:847: InsecureRequestWarning: Unverified HTTPS request is being made. Adding certificate verification is strongly advised. See: https://urllib3.readthedocs.io/en/latest/advanced-usage.html#ssl-warnings\n",
      "  InsecureRequestWarning)\n",
      "/Users/nplattner/miniconda3/envs/AutoSearch/lib/python3.7/site-packages/urllib3/connectionpool.py:847: InsecureRequestWarning: Unverified HTTPS request is being made. Adding certificate verification is strongly advised. See: https://urllib3.readthedocs.io/en/latest/advanced-usage.html#ssl-warnings\n",
      "  InsecureRequestWarning)\n",
      "/Users/nplattner/miniconda3/envs/AutoSearch/lib/python3.7/site-packages/urllib3/connectionpool.py:847: InsecureRequestWarning: Unverified HTTPS request is being made. Adding certificate verification is strongly advised. See: https://urllib3.readthedocs.io/en/latest/advanced-usage.html#ssl-warnings\n",
      "  InsecureRequestWarning)\n",
      "/Users/nplattner/miniconda3/envs/AutoSearch/lib/python3.7/site-packages/urllib3/connectionpool.py:847: InsecureRequestWarning: Unverified HTTPS request is being made. Adding certificate verification is strongly advised. See: https://urllib3.readthedocs.io/en/latest/advanced-usage.html#ssl-warnings\n",
      "  InsecureRequestWarning)\n",
      "/Users/nplattner/miniconda3/envs/AutoSearch/lib/python3.7/site-packages/urllib3/connectionpool.py:847: InsecureRequestWarning: Unverified HTTPS request is being made. Adding certificate verification is strongly advised. See: https://urllib3.readthedocs.io/en/latest/advanced-usage.html#ssl-warnings\n",
      "  InsecureRequestWarning)\n",
      "/Users/nplattner/miniconda3/envs/AutoSearch/lib/python3.7/site-packages/urllib3/connectionpool.py:847: InsecureRequestWarning: Unverified HTTPS request is being made. Adding certificate verification is strongly advised. See: https://urllib3.readthedocs.io/en/latest/advanced-usage.html#ssl-warnings\n",
      "  InsecureRequestWarning)\n",
      "/Users/nplattner/miniconda3/envs/AutoSearch/lib/python3.7/site-packages/urllib3/connectionpool.py:847: InsecureRequestWarning: Unverified HTTPS request is being made. Adding certificate verification is strongly advised. See: https://urllib3.readthedocs.io/en/latest/advanced-usage.html#ssl-warnings\n",
      "  InsecureRequestWarning)\n",
      "/Users/nplattner/miniconda3/envs/AutoSearch/lib/python3.7/site-packages/urllib3/connectionpool.py:847: InsecureRequestWarning: Unverified HTTPS request is being made. Adding certificate verification is strongly advised. See: https://urllib3.readthedocs.io/en/latest/advanced-usage.html#ssl-warnings\n",
      "  InsecureRequestWarning)\n",
      "/Users/nplattner/miniconda3/envs/AutoSearch/lib/python3.7/site-packages/urllib3/connectionpool.py:847: InsecureRequestWarning: Unverified HTTPS request is being made. Adding certificate verification is strongly advised. See: https://urllib3.readthedocs.io/en/latest/advanced-usage.html#ssl-warnings\n",
      "  InsecureRequestWarning)\n",
      "/Users/nplattner/miniconda3/envs/AutoSearch/lib/python3.7/site-packages/urllib3/connectionpool.py:847: InsecureRequestWarning: Unverified HTTPS request is being made. Adding certificate verification is strongly advised. See: https://urllib3.readthedocs.io/en/latest/advanced-usage.html#ssl-warnings\n",
      "  InsecureRequestWarning)\n",
      "/Users/nplattner/miniconda3/envs/AutoSearch/lib/python3.7/site-packages/urllib3/connectionpool.py:847: InsecureRequestWarning: Unverified HTTPS request is being made. Adding certificate verification is strongly advised. See: https://urllib3.readthedocs.io/en/latest/advanced-usage.html#ssl-warnings\n",
      "  InsecureRequestWarning)\n",
      "/Users/nplattner/miniconda3/envs/AutoSearch/lib/python3.7/site-packages/urllib3/connectionpool.py:847: InsecureRequestWarning: Unverified HTTPS request is being made. Adding certificate verification is strongly advised. See: https://urllib3.readthedocs.io/en/latest/advanced-usage.html#ssl-warnings\n",
      "  InsecureRequestWarning)\n",
      "/Users/nplattner/miniconda3/envs/AutoSearch/lib/python3.7/site-packages/urllib3/connectionpool.py:847: InsecureRequestWarning: Unverified HTTPS request is being made. Adding certificate verification is strongly advised. See: https://urllib3.readthedocs.io/en/latest/advanced-usage.html#ssl-warnings\n",
      "  InsecureRequestWarning)\n",
      "/Users/nplattner/miniconda3/envs/AutoSearch/lib/python3.7/site-packages/urllib3/connectionpool.py:847: InsecureRequestWarning: Unverified HTTPS request is being made. Adding certificate verification is strongly advised. See: https://urllib3.readthedocs.io/en/latest/advanced-usage.html#ssl-warnings\n",
      "  InsecureRequestWarning)\n",
      "/Users/nplattner/miniconda3/envs/AutoSearch/lib/python3.7/site-packages/urllib3/connectionpool.py:847: InsecureRequestWarning: Unverified HTTPS request is being made. Adding certificate verification is strongly advised. See: https://urllib3.readthedocs.io/en/latest/advanced-usage.html#ssl-warnings\n",
      "  InsecureRequestWarning)\n",
      "/Users/nplattner/miniconda3/envs/AutoSearch/lib/python3.7/site-packages/urllib3/connectionpool.py:847: InsecureRequestWarning: Unverified HTTPS request is being made. Adding certificate verification is strongly advised. See: https://urllib3.readthedocs.io/en/latest/advanced-usage.html#ssl-warnings\n",
      "  InsecureRequestWarning)\n",
      "/Users/nplattner/miniconda3/envs/AutoSearch/lib/python3.7/site-packages/urllib3/connectionpool.py:847: InsecureRequestWarning: Unverified HTTPS request is being made. Adding certificate verification is strongly advised. See: https://urllib3.readthedocs.io/en/latest/advanced-usage.html#ssl-warnings\n",
      "  InsecureRequestWarning)\n",
      "/Users/nplattner/miniconda3/envs/AutoSearch/lib/python3.7/site-packages/urllib3/connectionpool.py:847: InsecureRequestWarning: Unverified HTTPS request is being made. Adding certificate verification is strongly advised. See: https://urllib3.readthedocs.io/en/latest/advanced-usage.html#ssl-warnings\n",
      "  InsecureRequestWarning)\n",
      "/Users/nplattner/miniconda3/envs/AutoSearch/lib/python3.7/site-packages/urllib3/connectionpool.py:847: InsecureRequestWarning: Unverified HTTPS request is being made. Adding certificate verification is strongly advised. See: https://urllib3.readthedocs.io/en/latest/advanced-usage.html#ssl-warnings\n",
      "  InsecureRequestWarning)\n",
      "/Users/nplattner/miniconda3/envs/AutoSearch/lib/python3.7/site-packages/urllib3/connectionpool.py:847: InsecureRequestWarning: Unverified HTTPS request is being made. Adding certificate verification is strongly advised. See: https://urllib3.readthedocs.io/en/latest/advanced-usage.html#ssl-warnings\n",
      "  InsecureRequestWarning)\n",
      "/Users/nplattner/miniconda3/envs/AutoSearch/lib/python3.7/site-packages/urllib3/connectionpool.py:847: InsecureRequestWarning: Unverified HTTPS request is being made. Adding certificate verification is strongly advised. See: https://urllib3.readthedocs.io/en/latest/advanced-usage.html#ssl-warnings\n",
      "  InsecureRequestWarning)\n",
      "/Users/nplattner/miniconda3/envs/AutoSearch/lib/python3.7/site-packages/urllib3/connectionpool.py:847: InsecureRequestWarning: Unverified HTTPS request is being made. Adding certificate verification is strongly advised. See: https://urllib3.readthedocs.io/en/latest/advanced-usage.html#ssl-warnings\n",
      "  InsecureRequestWarning)\n",
      "/Users/nplattner/miniconda3/envs/AutoSearch/lib/python3.7/site-packages/urllib3/connectionpool.py:847: InsecureRequestWarning: Unverified HTTPS request is being made. Adding certificate verification is strongly advised. See: https://urllib3.readthedocs.io/en/latest/advanced-usage.html#ssl-warnings\n",
      "  InsecureRequestWarning)\n",
      "/Users/nplattner/miniconda3/envs/AutoSearch/lib/python3.7/site-packages/urllib3/connectionpool.py:847: InsecureRequestWarning: Unverified HTTPS request is being made. Adding certificate verification is strongly advised. See: https://urllib3.readthedocs.io/en/latest/advanced-usage.html#ssl-warnings\n",
      "  InsecureRequestWarning)\n",
      "/Users/nplattner/miniconda3/envs/AutoSearch/lib/python3.7/site-packages/urllib3/connectionpool.py:847: InsecureRequestWarning: Unverified HTTPS request is being made. Adding certificate verification is strongly advised. See: https://urllib3.readthedocs.io/en/latest/advanced-usage.html#ssl-warnings\n",
      "  InsecureRequestWarning)\n"
     ]
    },
    {
     "name": "stderr",
     "output_type": "stream",
     "text": [
      "/Users/nplattner/miniconda3/envs/AutoSearch/lib/python3.7/site-packages/urllib3/connectionpool.py:847: InsecureRequestWarning: Unverified HTTPS request is being made. Adding certificate verification is strongly advised. See: https://urllib3.readthedocs.io/en/latest/advanced-usage.html#ssl-warnings\n",
      "  InsecureRequestWarning)\n",
      "/Users/nplattner/miniconda3/envs/AutoSearch/lib/python3.7/site-packages/urllib3/connectionpool.py:847: InsecureRequestWarning: Unverified HTTPS request is being made. Adding certificate verification is strongly advised. See: https://urllib3.readthedocs.io/en/latest/advanced-usage.html#ssl-warnings\n",
      "  InsecureRequestWarning)\n",
      "/Users/nplattner/miniconda3/envs/AutoSearch/lib/python3.7/site-packages/urllib3/connectionpool.py:847: InsecureRequestWarning: Unverified HTTPS request is being made. Adding certificate verification is strongly advised. See: https://urllib3.readthedocs.io/en/latest/advanced-usage.html#ssl-warnings\n",
      "  InsecureRequestWarning)\n",
      "/Users/nplattner/miniconda3/envs/AutoSearch/lib/python3.7/site-packages/urllib3/connectionpool.py:847: InsecureRequestWarning: Unverified HTTPS request is being made. Adding certificate verification is strongly advised. See: https://urllib3.readthedocs.io/en/latest/advanced-usage.html#ssl-warnings\n",
      "  InsecureRequestWarning)\n",
      "/Users/nplattner/miniconda3/envs/AutoSearch/lib/python3.7/site-packages/urllib3/connectionpool.py:847: InsecureRequestWarning: Unverified HTTPS request is being made. Adding certificate verification is strongly advised. See: https://urllib3.readthedocs.io/en/latest/advanced-usage.html#ssl-warnings\n",
      "  InsecureRequestWarning)\n",
      "/Users/nplattner/miniconda3/envs/AutoSearch/lib/python3.7/site-packages/urllib3/connectionpool.py:847: InsecureRequestWarning: Unverified HTTPS request is being made. Adding certificate verification is strongly advised. See: https://urllib3.readthedocs.io/en/latest/advanced-usage.html#ssl-warnings\n",
      "  InsecureRequestWarning)\n",
      "/Users/nplattner/miniconda3/envs/AutoSearch/lib/python3.7/site-packages/urllib3/connectionpool.py:847: InsecureRequestWarning: Unverified HTTPS request is being made. Adding certificate verification is strongly advised. See: https://urllib3.readthedocs.io/en/latest/advanced-usage.html#ssl-warnings\n",
      "  InsecureRequestWarning)\n",
      "/Users/nplattner/miniconda3/envs/AutoSearch/lib/python3.7/site-packages/urllib3/connectionpool.py:847: InsecureRequestWarning: Unverified HTTPS request is being made. Adding certificate verification is strongly advised. See: https://urllib3.readthedocs.io/en/latest/advanced-usage.html#ssl-warnings\n",
      "  InsecureRequestWarning)\n",
      "/Users/nplattner/miniconda3/envs/AutoSearch/lib/python3.7/site-packages/urllib3/connectionpool.py:847: InsecureRequestWarning: Unverified HTTPS request is being made. Adding certificate verification is strongly advised. See: https://urllib3.readthedocs.io/en/latest/advanced-usage.html#ssl-warnings\n",
      "  InsecureRequestWarning)\n",
      "/Users/nplattner/miniconda3/envs/AutoSearch/lib/python3.7/site-packages/urllib3/connectionpool.py:847: InsecureRequestWarning: Unverified HTTPS request is being made. Adding certificate verification is strongly advised. See: https://urllib3.readthedocs.io/en/latest/advanced-usage.html#ssl-warnings\n",
      "  InsecureRequestWarning)\n",
      "/Users/nplattner/miniconda3/envs/AutoSearch/lib/python3.7/site-packages/urllib3/connectionpool.py:847: InsecureRequestWarning: Unverified HTTPS request is being made. Adding certificate verification is strongly advised. See: https://urllib3.readthedocs.io/en/latest/advanced-usage.html#ssl-warnings\n",
      "  InsecureRequestWarning)\n",
      "/Users/nplattner/miniconda3/envs/AutoSearch/lib/python3.7/site-packages/urllib3/connectionpool.py:847: InsecureRequestWarning: Unverified HTTPS request is being made. Adding certificate verification is strongly advised. See: https://urllib3.readthedocs.io/en/latest/advanced-usage.html#ssl-warnings\n",
      "  InsecureRequestWarning)\n",
      "/Users/nplattner/miniconda3/envs/AutoSearch/lib/python3.7/site-packages/urllib3/connectionpool.py:847: InsecureRequestWarning: Unverified HTTPS request is being made. Adding certificate verification is strongly advised. See: https://urllib3.readthedocs.io/en/latest/advanced-usage.html#ssl-warnings\n",
      "  InsecureRequestWarning)\n",
      "/Users/nplattner/miniconda3/envs/AutoSearch/lib/python3.7/site-packages/urllib3/connectionpool.py:847: InsecureRequestWarning: Unverified HTTPS request is being made. Adding certificate verification is strongly advised. See: https://urllib3.readthedocs.io/en/latest/advanced-usage.html#ssl-warnings\n",
      "  InsecureRequestWarning)\n",
      "/Users/nplattner/miniconda3/envs/AutoSearch/lib/python3.7/site-packages/urllib3/connectionpool.py:847: InsecureRequestWarning: Unverified HTTPS request is being made. Adding certificate verification is strongly advised. See: https://urllib3.readthedocs.io/en/latest/advanced-usage.html#ssl-warnings\n",
      "  InsecureRequestWarning)\n",
      "/Users/nplattner/miniconda3/envs/AutoSearch/lib/python3.7/site-packages/urllib3/connectionpool.py:847: InsecureRequestWarning: Unverified HTTPS request is being made. Adding certificate verification is strongly advised. See: https://urllib3.readthedocs.io/en/latest/advanced-usage.html#ssl-warnings\n",
      "  InsecureRequestWarning)\n",
      "/Users/nplattner/miniconda3/envs/AutoSearch/lib/python3.7/site-packages/urllib3/connectionpool.py:847: InsecureRequestWarning: Unverified HTTPS request is being made. Adding certificate verification is strongly advised. See: https://urllib3.readthedocs.io/en/latest/advanced-usage.html#ssl-warnings\n",
      "  InsecureRequestWarning)\n",
      "/Users/nplattner/miniconda3/envs/AutoSearch/lib/python3.7/site-packages/urllib3/connectionpool.py:847: InsecureRequestWarning: Unverified HTTPS request is being made. Adding certificate verification is strongly advised. See: https://urllib3.readthedocs.io/en/latest/advanced-usage.html#ssl-warnings\n",
      "  InsecureRequestWarning)\n",
      "/Users/nplattner/miniconda3/envs/AutoSearch/lib/python3.7/site-packages/urllib3/connectionpool.py:847: InsecureRequestWarning: Unverified HTTPS request is being made. Adding certificate verification is strongly advised. See: https://urllib3.readthedocs.io/en/latest/advanced-usage.html#ssl-warnings\n",
      "  InsecureRequestWarning)\n",
      "/Users/nplattner/miniconda3/envs/AutoSearch/lib/python3.7/site-packages/urllib3/connectionpool.py:847: InsecureRequestWarning: Unverified HTTPS request is being made. Adding certificate verification is strongly advised. See: https://urllib3.readthedocs.io/en/latest/advanced-usage.html#ssl-warnings\n",
      "  InsecureRequestWarning)\n",
      "/Users/nplattner/miniconda3/envs/AutoSearch/lib/python3.7/site-packages/urllib3/connectionpool.py:847: InsecureRequestWarning: Unverified HTTPS request is being made. Adding certificate verification is strongly advised. See: https://urllib3.readthedocs.io/en/latest/advanced-usage.html#ssl-warnings\n",
      "  InsecureRequestWarning)\n",
      "/Users/nplattner/miniconda3/envs/AutoSearch/lib/python3.7/site-packages/urllib3/connectionpool.py:847: InsecureRequestWarning: Unverified HTTPS request is being made. Adding certificate verification is strongly advised. See: https://urllib3.readthedocs.io/en/latest/advanced-usage.html#ssl-warnings\n",
      "  InsecureRequestWarning)\n",
      "/Users/nplattner/miniconda3/envs/AutoSearch/lib/python3.7/site-packages/urllib3/connectionpool.py:847: InsecureRequestWarning: Unverified HTTPS request is being made. Adding certificate verification is strongly advised. See: https://urllib3.readthedocs.io/en/latest/advanced-usage.html#ssl-warnings\n",
      "  InsecureRequestWarning)\n",
      "/Users/nplattner/miniconda3/envs/AutoSearch/lib/python3.7/site-packages/urllib3/connectionpool.py:847: InsecureRequestWarning: Unverified HTTPS request is being made. Adding certificate verification is strongly advised. See: https://urllib3.readthedocs.io/en/latest/advanced-usage.html#ssl-warnings\n",
      "  InsecureRequestWarning)\n",
      "/Users/nplattner/miniconda3/envs/AutoSearch/lib/python3.7/site-packages/urllib3/connectionpool.py:847: InsecureRequestWarning: Unverified HTTPS request is being made. Adding certificate verification is strongly advised. See: https://urllib3.readthedocs.io/en/latest/advanced-usage.html#ssl-warnings\n",
      "  InsecureRequestWarning)\n",
      "/Users/nplattner/miniconda3/envs/AutoSearch/lib/python3.7/site-packages/urllib3/connectionpool.py:847: InsecureRequestWarning: Unverified HTTPS request is being made. Adding certificate verification is strongly advised. See: https://urllib3.readthedocs.io/en/latest/advanced-usage.html#ssl-warnings\n",
      "  InsecureRequestWarning)\n"
     ]
    }
   ],
   "source": [
    "# dataloop: we get the information found above for all available dates of this year\n",
    "ind_list = [\"\" for x in range(len(datelist))]\n",
    "for num in range(len(datelist)):\n",
    "    issue_url = linklist[num]\n",
    "    http = urllib3.PoolManager()\n",
    "    response = http.request('GET', issue_url)\n",
    "    soup = BeautifulSoup(response.data)\n",
    "    for item in soup.find_all('a'):\n",
    "        adress = item.attrs['href']\n",
    "        if adress.find('Seite') != -1 :\n",
    "            split = adress.split('/')\n",
    "            if int(split[(len(split)-1)]) > 3:\n",
    "                #print(split[(len(split)-2)])\n",
    "                ind_list[num] = split[(len(split)-2)]"
   ]
  },
  {
   "cell_type": "markdown",
   "metadata": {},
   "source": [
    "### Sort datelist\n",
    "\n",
    "We sort the list by date. This is not really required, but makes the download structure easier to understand"
   ]
  },
  {
   "cell_type": "code",
   "execution_count": 20,
   "metadata": {
    "scrolled": true
   },
   "outputs": [
    {
     "data": {
      "text/plain": [
       "[['01-05-1844', '05.01.1844', '19631'],\n",
       " ['01-12-1844', '12.01.1844', '19632'],\n",
       " ['01-19-1844', '19.01.1844', '19633'],\n",
       " ['01-26-1844', '26.01.1844', '19634'],\n",
       " ['02-02-1844', '02.02.1844', '19635'],\n",
       " ['02-09-1844', '09.02.1844', '19636'],\n",
       " ['02-16-1844', '16.02.1844', '19637'],\n",
       " ['02-23-1844', '23.02.1844', '19638'],\n",
       " ['03-01-1844', '01.03.1844', '19639'],\n",
       " ['03-08-1844', '08.03.1844', '19640'],\n",
       " ['03-15-1844', '15.03.1844', '19641'],\n",
       " ['03-22-1844', '22.03.1844', '19642'],\n",
       " ['03-29-1844', '29.03.1844', '19643'],\n",
       " ['04-05-1844', '05.04.1844', '19644'],\n",
       " ['04-12-1844', '12.04.1844', '19645'],\n",
       " ['04-19-1844', '19.04.1844', '19646'],\n",
       " ['04-26-1844', '26.04.1844', '19647'],\n",
       " ['05-03-1844', '03.05.1844', '19648'],\n",
       " ['05-10-1844', '10.05.1844', '19649'],\n",
       " ['05-17-1844', '17.05.1844', '19650'],\n",
       " ['05-24-1844', '24.05.1844', '19651'],\n",
       " ['05-31-1844', '31.05.1844', '19652'],\n",
       " ['06-07-1844', '07.06.1844', '19653'],\n",
       " ['06-14-1844', '14.06.1844', '19654'],\n",
       " ['06-21-1844', '21.06.1844', '19655'],\n",
       " ['06-28-1844', '28.06.1844', '19656'],\n",
       " ['07-05-1844', '05.07.1844', '19657'],\n",
       " ['07-12-1844', '12.07.1844', '19658'],\n",
       " ['07-19-1844', '19.07.1844', '19659'],\n",
       " ['07-26-1844', '26.07.1844', '19660'],\n",
       " ['08-02-1844', '02.08.1844', '19661'],\n",
       " ['08-09-1844', '09.08.1844', '19662'],\n",
       " ['08-16-1844', '16.08.1844', '19663'],\n",
       " ['08-23-1844', '23.08.1844', '19664'],\n",
       " ['08-30-1844', '30.08.1844', '19665'],\n",
       " ['09-06-1844', '06.09.1844', '19666'],\n",
       " ['09-13-1844', '13.09.1844', '19667'],\n",
       " ['09-20-1844', '20.09.1844', '19668'],\n",
       " ['09-27-1844', '27.09.1844', '19669'],\n",
       " ['10-04-1844', '04.10.1844', '19670'],\n",
       " ['10-11-1844', '11.10.1844', '19671'],\n",
       " ['10-18-1844', '18.10.1844', '19672'],\n",
       " ['10-25-1844', '25.10.1844', '19673'],\n",
       " ['11-01-1844', '01.11.1844', '146724'],\n",
       " ['11-08-1844', '08.11.1844', '146725'],\n",
       " ['11-15-1844', '15.11.1844', '146726'],\n",
       " ['11-22-1844', '22.11.1844', '146727'],\n",
       " ['11-29-1844', '29.11.1844', '146728'],\n",
       " ['12-06-1844', '06.12.1844', '19674'],\n",
       " ['12-13-1844', '13.12.1844', '19675'],\n",
       " ['12-20-1844', '20.12.1844', '19676'],\n",
       " ['12-27-1844', '27.12.1844', '19677']]"
      ]
     },
     "execution_count": 20,
     "metadata": {},
     "output_type": "execute_result"
    }
   ],
   "source": [
    "# sort datelist\n",
    "new_list = []\n",
    "for num, item in enumerate(datelist):\n",
    "    #print(item.split('.'))\n",
    "    strl = item.split('.')\n",
    "    new_list.append([])\n",
    "    new_list[num].append(str(strl[1])+'-'+str(strl[0])+'-'+str(strl[2]))\n",
    "    new_list[num].append(item)\n",
    "    new_list[num].append(ind_list[num])\n",
    "new_list.sort()\n",
    "new_list"
   ]
  },
  {
   "cell_type": "markdown",
   "metadata": {},
   "source": [
    "## Go to page 4 of specific issues \n",
    "\n",
    "The data of interest is on page 4, so we just need to download this page for each issue.\n",
    "Again, adstr1 and adstr2 are obtained by analyzing the page structure. Together with the index number they provide us with the download link"
   ]
  },
  {
   "cell_type": "code",
   "execution_count": 21,
   "metadata": {},
   "outputs": [
    {
     "data": {
      "text/plain": [
       "'https://digital.tessmann.it/tessmannDigital/Zeitungsarchiv/Seite/Zeitung/2/1/05.01.1844/19631/4'"
      ]
     },
     "execution_count": 21,
     "metadata": {},
     "output_type": "execute_result"
    }
   ],
   "source": [
    "num = 0\n",
    "adstr1 = 'https://digital.tessmann.it/tessmannDigital/Zeitungsarchiv/Seite/Zeitung/2/1/'\n",
    "adstr2 = '/'+str(ind_list[num])+'/4'\n",
    "page_url = adstr1+new_list[0][1]+adstr2\n",
    "page_url"
   ]
  },
  {
   "cell_type": "code",
   "execution_count": 22,
   "metadata": {},
   "outputs": [],
   "source": [
    "# loop over issues for this year\n",
    "page_url_list = []\n",
    "for num in range(len(new_list)):\n",
    "    adstr2 = '/'+str(ind_list[num])+'/4'\n",
    "    page_url_list.append(adstr1+new_list[num][1]+adstr2)"
   ]
  },
  {
   "cell_type": "code",
   "execution_count": 23,
   "metadata": {
    "scrolled": true
   },
   "outputs": [
    {
     "data": {
      "text/plain": [
       "['https://digital.tessmann.it/tessmannDigital/Zeitungsarchiv/Seite/Zeitung/2/1/05.01.1844/19631/4',\n",
       " 'https://digital.tessmann.it/tessmannDigital/Zeitungsarchiv/Seite/Zeitung/2/1/12.01.1844/19632/4',\n",
       " 'https://digital.tessmann.it/tessmannDigital/Zeitungsarchiv/Seite/Zeitung/2/1/19.01.1844/19633/4',\n",
       " 'https://digital.tessmann.it/tessmannDigital/Zeitungsarchiv/Seite/Zeitung/2/1/26.01.1844/19634/4',\n",
       " 'https://digital.tessmann.it/tessmannDigital/Zeitungsarchiv/Seite/Zeitung/2/1/02.02.1844/19635/4',\n",
       " 'https://digital.tessmann.it/tessmannDigital/Zeitungsarchiv/Seite/Zeitung/2/1/09.02.1844/19636/4',\n",
       " 'https://digital.tessmann.it/tessmannDigital/Zeitungsarchiv/Seite/Zeitung/2/1/16.02.1844/19637/4',\n",
       " 'https://digital.tessmann.it/tessmannDigital/Zeitungsarchiv/Seite/Zeitung/2/1/23.02.1844/19638/4',\n",
       " 'https://digital.tessmann.it/tessmannDigital/Zeitungsarchiv/Seite/Zeitung/2/1/01.03.1844/19639/4',\n",
       " 'https://digital.tessmann.it/tessmannDigital/Zeitungsarchiv/Seite/Zeitung/2/1/08.03.1844/19640/4',\n",
       " 'https://digital.tessmann.it/tessmannDigital/Zeitungsarchiv/Seite/Zeitung/2/1/15.03.1844/19641/4',\n",
       " 'https://digital.tessmann.it/tessmannDigital/Zeitungsarchiv/Seite/Zeitung/2/1/22.03.1844/19642/4',\n",
       " 'https://digital.tessmann.it/tessmannDigital/Zeitungsarchiv/Seite/Zeitung/2/1/29.03.1844/19643/4',\n",
       " 'https://digital.tessmann.it/tessmannDigital/Zeitungsarchiv/Seite/Zeitung/2/1/05.04.1844/19644/4',\n",
       " 'https://digital.tessmann.it/tessmannDigital/Zeitungsarchiv/Seite/Zeitung/2/1/12.04.1844/19645/4',\n",
       " 'https://digital.tessmann.it/tessmannDigital/Zeitungsarchiv/Seite/Zeitung/2/1/19.04.1844/19646/4',\n",
       " 'https://digital.tessmann.it/tessmannDigital/Zeitungsarchiv/Seite/Zeitung/2/1/26.04.1844/19647/4',\n",
       " 'https://digital.tessmann.it/tessmannDigital/Zeitungsarchiv/Seite/Zeitung/2/1/03.05.1844/19648/4',\n",
       " 'https://digital.tessmann.it/tessmannDigital/Zeitungsarchiv/Seite/Zeitung/2/1/10.05.1844/19649/4',\n",
       " 'https://digital.tessmann.it/tessmannDigital/Zeitungsarchiv/Seite/Zeitung/2/1/17.05.1844/19650/4',\n",
       " 'https://digital.tessmann.it/tessmannDigital/Zeitungsarchiv/Seite/Zeitung/2/1/24.05.1844/19651/4',\n",
       " 'https://digital.tessmann.it/tessmannDigital/Zeitungsarchiv/Seite/Zeitung/2/1/31.05.1844/19652/4',\n",
       " 'https://digital.tessmann.it/tessmannDigital/Zeitungsarchiv/Seite/Zeitung/2/1/07.06.1844/19653/4',\n",
       " 'https://digital.tessmann.it/tessmannDigital/Zeitungsarchiv/Seite/Zeitung/2/1/14.06.1844/19654/4',\n",
       " 'https://digital.tessmann.it/tessmannDigital/Zeitungsarchiv/Seite/Zeitung/2/1/21.06.1844/19655/4',\n",
       " 'https://digital.tessmann.it/tessmannDigital/Zeitungsarchiv/Seite/Zeitung/2/1/28.06.1844/19656/4',\n",
       " 'https://digital.tessmann.it/tessmannDigital/Zeitungsarchiv/Seite/Zeitung/2/1/05.07.1844/19657/4',\n",
       " 'https://digital.tessmann.it/tessmannDigital/Zeitungsarchiv/Seite/Zeitung/2/1/12.07.1844/19658/4',\n",
       " 'https://digital.tessmann.it/tessmannDigital/Zeitungsarchiv/Seite/Zeitung/2/1/19.07.1844/19659/4',\n",
       " 'https://digital.tessmann.it/tessmannDigital/Zeitungsarchiv/Seite/Zeitung/2/1/26.07.1844/19660/4',\n",
       " 'https://digital.tessmann.it/tessmannDigital/Zeitungsarchiv/Seite/Zeitung/2/1/02.08.1844/19661/4',\n",
       " 'https://digital.tessmann.it/tessmannDigital/Zeitungsarchiv/Seite/Zeitung/2/1/09.08.1844/19662/4',\n",
       " 'https://digital.tessmann.it/tessmannDigital/Zeitungsarchiv/Seite/Zeitung/2/1/16.08.1844/19663/4',\n",
       " 'https://digital.tessmann.it/tessmannDigital/Zeitungsarchiv/Seite/Zeitung/2/1/23.08.1844/19664/4',\n",
       " 'https://digital.tessmann.it/tessmannDigital/Zeitungsarchiv/Seite/Zeitung/2/1/30.08.1844/19665/4',\n",
       " 'https://digital.tessmann.it/tessmannDigital/Zeitungsarchiv/Seite/Zeitung/2/1/06.09.1844/19666/4',\n",
       " 'https://digital.tessmann.it/tessmannDigital/Zeitungsarchiv/Seite/Zeitung/2/1/13.09.1844/19667/4',\n",
       " 'https://digital.tessmann.it/tessmannDigital/Zeitungsarchiv/Seite/Zeitung/2/1/20.09.1844/19668/4',\n",
       " 'https://digital.tessmann.it/tessmannDigital/Zeitungsarchiv/Seite/Zeitung/2/1/27.09.1844/19669/4',\n",
       " 'https://digital.tessmann.it/tessmannDigital/Zeitungsarchiv/Seite/Zeitung/2/1/04.10.1844/19670/4',\n",
       " 'https://digital.tessmann.it/tessmannDigital/Zeitungsarchiv/Seite/Zeitung/2/1/11.10.1844/19671/4',\n",
       " 'https://digital.tessmann.it/tessmannDigital/Zeitungsarchiv/Seite/Zeitung/2/1/18.10.1844/19672/4',\n",
       " 'https://digital.tessmann.it/tessmannDigital/Zeitungsarchiv/Seite/Zeitung/2/1/25.10.1844/19673/4',\n",
       " 'https://digital.tessmann.it/tessmannDigital/Zeitungsarchiv/Seite/Zeitung/2/1/01.11.1844/146724/4',\n",
       " 'https://digital.tessmann.it/tessmannDigital/Zeitungsarchiv/Seite/Zeitung/2/1/08.11.1844/146725/4',\n",
       " 'https://digital.tessmann.it/tessmannDigital/Zeitungsarchiv/Seite/Zeitung/2/1/15.11.1844/146726/4',\n",
       " 'https://digital.tessmann.it/tessmannDigital/Zeitungsarchiv/Seite/Zeitung/2/1/22.11.1844/146727/4',\n",
       " 'https://digital.tessmann.it/tessmannDigital/Zeitungsarchiv/Seite/Zeitung/2/1/29.11.1844/146728/4',\n",
       " 'https://digital.tessmann.it/tessmannDigital/Zeitungsarchiv/Seite/Zeitung/2/1/06.12.1844/19674/4',\n",
       " 'https://digital.tessmann.it/tessmannDigital/Zeitungsarchiv/Seite/Zeitung/2/1/13.12.1844/19675/4',\n",
       " 'https://digital.tessmann.it/tessmannDigital/Zeitungsarchiv/Seite/Zeitung/2/1/20.12.1844/19676/4',\n",
       " 'https://digital.tessmann.it/tessmannDigital/Zeitungsarchiv/Seite/Zeitung/2/1/27.12.1844/19677/4']"
      ]
     },
     "execution_count": 23,
     "metadata": {},
     "output_type": "execute_result"
    }
   ],
   "source": [
    "# list of links with pages 4 for all issues in this year\n",
    "page_url_list"
   ]
  },
  {
   "cell_type": "code",
   "execution_count": 24,
   "metadata": {},
   "outputs": [
    {
     "name": "stderr",
     "output_type": "stream",
     "text": [
      "/Users/nplattner/miniconda3/envs/AutoSearch/lib/python3.7/site-packages/urllib3/connectionpool.py:847: InsecureRequestWarning: Unverified HTTPS request is being made. Adding certificate verification is strongly advised. See: https://urllib3.readthedocs.io/en/latest/advanced-usage.html#ssl-warnings\n",
      "  InsecureRequestWarning)\n"
     ]
    },
    {
     "name": "stdout",
     "output_type": "stream",
     "text": [
      "0 https://digital.tessmann.it/mediaArchive/media/image/Page/BZZ/1844/05_01_1844/BZZ_1844_01_05_4_object_460267.png?auth=be15d03b6659c46595ffb798047b2d8a\n"
     ]
    },
    {
     "name": "stderr",
     "output_type": "stream",
     "text": [
      "/Users/nplattner/miniconda3/envs/AutoSearch/lib/python3.7/site-packages/urllib3/connectionpool.py:847: InsecureRequestWarning: Unverified HTTPS request is being made. Adding certificate verification is strongly advised. See: https://urllib3.readthedocs.io/en/latest/advanced-usage.html#ssl-warnings\n",
      "  InsecureRequestWarning)\n"
     ]
    },
    {
     "name": "stdout",
     "output_type": "stream",
     "text": [
      "1 https://digital.tessmann.it/mediaArchive/media/image/Page/BZZ/1844/12_01_1844/BZZ_1844_01_12_4_object_460274.png?auth=94283663b542fc3ac3c866c5712db754\n"
     ]
    },
    {
     "name": "stderr",
     "output_type": "stream",
     "text": [
      "/Users/nplattner/miniconda3/envs/AutoSearch/lib/python3.7/site-packages/urllib3/connectionpool.py:847: InsecureRequestWarning: Unverified HTTPS request is being made. Adding certificate verification is strongly advised. See: https://urllib3.readthedocs.io/en/latest/advanced-usage.html#ssl-warnings\n",
      "  InsecureRequestWarning)\n"
     ]
    },
    {
     "name": "stdout",
     "output_type": "stream",
     "text": [
      "2 https://digital.tessmann.it/mediaArchive/media/image/Page/BZZ/1844/19_01_1844/BZZ_1844_01_19_4_object_460280.png?auth=39ddfe4d41a886e98c8a7154b32fa7fb\n"
     ]
    },
    {
     "name": "stderr",
     "output_type": "stream",
     "text": [
      "/Users/nplattner/miniconda3/envs/AutoSearch/lib/python3.7/site-packages/urllib3/connectionpool.py:847: InsecureRequestWarning: Unverified HTTPS request is being made. Adding certificate verification is strongly advised. See: https://urllib3.readthedocs.io/en/latest/advanced-usage.html#ssl-warnings\n",
      "  InsecureRequestWarning)\n"
     ]
    },
    {
     "name": "stdout",
     "output_type": "stream",
     "text": [
      "3 https://digital.tessmann.it/mediaArchive/media/image/Page/BZZ/1844/26_01_1844/BZZ_1844_01_26_4_object_460290.png?auth=7d6d99c576bc04fad59c1b233c47111a\n"
     ]
    },
    {
     "name": "stderr",
     "output_type": "stream",
     "text": [
      "/Users/nplattner/miniconda3/envs/AutoSearch/lib/python3.7/site-packages/urllib3/connectionpool.py:847: InsecureRequestWarning: Unverified HTTPS request is being made. Adding certificate verification is strongly advised. See: https://urllib3.readthedocs.io/en/latest/advanced-usage.html#ssl-warnings\n",
      "  InsecureRequestWarning)\n"
     ]
    },
    {
     "name": "stdout",
     "output_type": "stream",
     "text": [
      "4 https://digital.tessmann.it/mediaArchive/media/image/Page/BZZ/1844/02_02_1844/BZZ_1844_02_02_4_object_460304.png?auth=8ee297adf951ea8ea1ea7a2eb593962d\n"
     ]
    },
    {
     "name": "stderr",
     "output_type": "stream",
     "text": [
      "/Users/nplattner/miniconda3/envs/AutoSearch/lib/python3.7/site-packages/urllib3/connectionpool.py:847: InsecureRequestWarning: Unverified HTTPS request is being made. Adding certificate verification is strongly advised. See: https://urllib3.readthedocs.io/en/latest/advanced-usage.html#ssl-warnings\n",
      "  InsecureRequestWarning)\n"
     ]
    },
    {
     "name": "stdout",
     "output_type": "stream",
     "text": [
      "5 https://digital.tessmann.it/mediaArchive/media/image/Page/BZZ/1844/09_02_1844/BZZ_1844_02_09_4_object_460062.png?auth=ff3d73e2c1c73a86a5a041ca3b8c4316\n"
     ]
    },
    {
     "name": "stderr",
     "output_type": "stream",
     "text": [
      "/Users/nplattner/miniconda3/envs/AutoSearch/lib/python3.7/site-packages/urllib3/connectionpool.py:847: InsecureRequestWarning: Unverified HTTPS request is being made. Adding certificate verification is strongly advised. See: https://urllib3.readthedocs.io/en/latest/advanced-usage.html#ssl-warnings\n",
      "  InsecureRequestWarning)\n"
     ]
    },
    {
     "name": "stdout",
     "output_type": "stream",
     "text": [
      "6 https://digital.tessmann.it/mediaArchive/media/image/Page/BZZ/1844/16_02_1844/BZZ_1844_02_16_4_object_460068.png?auth=7c7ba7c44c538e64eec15bd48fd70956\n"
     ]
    },
    {
     "name": "stderr",
     "output_type": "stream",
     "text": [
      "/Users/nplattner/miniconda3/envs/AutoSearch/lib/python3.7/site-packages/urllib3/connectionpool.py:847: InsecureRequestWarning: Unverified HTTPS request is being made. Adding certificate verification is strongly advised. See: https://urllib3.readthedocs.io/en/latest/advanced-usage.html#ssl-warnings\n",
      "  InsecureRequestWarning)\n"
     ]
    },
    {
     "name": "stdout",
     "output_type": "stream",
     "text": [
      "7 https://digital.tessmann.it/mediaArchive/media/image/Page/BZZ/1844/23_02_1844/BZZ_1844_02_23_4_object_460075.png?auth=a5334aa516e3160f95ac61ff3d22bb6e\n"
     ]
    },
    {
     "name": "stderr",
     "output_type": "stream",
     "text": [
      "/Users/nplattner/miniconda3/envs/AutoSearch/lib/python3.7/site-packages/urllib3/connectionpool.py:847: InsecureRequestWarning: Unverified HTTPS request is being made. Adding certificate verification is strongly advised. See: https://urllib3.readthedocs.io/en/latest/advanced-usage.html#ssl-warnings\n",
      "  InsecureRequestWarning)\n"
     ]
    },
    {
     "name": "stdout",
     "output_type": "stream",
     "text": [
      "8 https://digital.tessmann.it/mediaArchive/media/image/Page/BZZ/1844/01_03_1844/BZZ_1844_03_01_4_object_460082.png?auth=3a64c0f84f97f155905131577d1c2000\n"
     ]
    },
    {
     "name": "stderr",
     "output_type": "stream",
     "text": [
      "/Users/nplattner/miniconda3/envs/AutoSearch/lib/python3.7/site-packages/urllib3/connectionpool.py:847: InsecureRequestWarning: Unverified HTTPS request is being made. Adding certificate verification is strongly advised. See: https://urllib3.readthedocs.io/en/latest/advanced-usage.html#ssl-warnings\n",
      "  InsecureRequestWarning)\n"
     ]
    },
    {
     "name": "stdout",
     "output_type": "stream",
     "text": [
      "9 https://digital.tessmann.it/mediaArchive/media/image/Page/BZZ/1844/08_03_1844/BZZ_1844_03_08_4_object_460092.png?auth=db9abaf42d6a5c0823dc5b02559cf3a0\n"
     ]
    },
    {
     "name": "stderr",
     "output_type": "stream",
     "text": [
      "/Users/nplattner/miniconda3/envs/AutoSearch/lib/python3.7/site-packages/urllib3/connectionpool.py:847: InsecureRequestWarning: Unverified HTTPS request is being made. Adding certificate verification is strongly advised. See: https://urllib3.readthedocs.io/en/latest/advanced-usage.html#ssl-warnings\n",
      "  InsecureRequestWarning)\n"
     ]
    },
    {
     "name": "stdout",
     "output_type": "stream",
     "text": [
      "10 https://digital.tessmann.it/mediaArchive/media/image/Page/BZZ/1844/15_03_1844/BZZ_1844_03_15_4_object_460105.png?auth=b4dcacea589a1f93c65c70922baeb597\n"
     ]
    },
    {
     "name": "stderr",
     "output_type": "stream",
     "text": [
      "/Users/nplattner/miniconda3/envs/AutoSearch/lib/python3.7/site-packages/urllib3/connectionpool.py:847: InsecureRequestWarning: Unverified HTTPS request is being made. Adding certificate verification is strongly advised. See: https://urllib3.readthedocs.io/en/latest/advanced-usage.html#ssl-warnings\n",
      "  InsecureRequestWarning)\n"
     ]
    },
    {
     "name": "stdout",
     "output_type": "stream",
     "text": [
      "11 https://digital.tessmann.it/mediaArchive/media/image/Page/BZZ/1844/22_03_1844/BZZ_1844_03_22_4_object_460121.png?auth=faa93d2945265d2c8db45c901c0cc90d\n"
     ]
    },
    {
     "name": "stderr",
     "output_type": "stream",
     "text": [
      "/Users/nplattner/miniconda3/envs/AutoSearch/lib/python3.7/site-packages/urllib3/connectionpool.py:847: InsecureRequestWarning: Unverified HTTPS request is being made. Adding certificate verification is strongly advised. See: https://urllib3.readthedocs.io/en/latest/advanced-usage.html#ssl-warnings\n",
      "  InsecureRequestWarning)\n"
     ]
    },
    {
     "name": "stdout",
     "output_type": "stream",
     "text": [
      "12 https://digital.tessmann.it/mediaArchive/media/image/Page/BZZ/1844/29_03_1844/BZZ_1844_03_29_4_object_460138.png?auth=fa1ba26ff147e4879769d1055a74ee98\n"
     ]
    },
    {
     "name": "stderr",
     "output_type": "stream",
     "text": [
      "/Users/nplattner/miniconda3/envs/AutoSearch/lib/python3.7/site-packages/urllib3/connectionpool.py:847: InsecureRequestWarning: Unverified HTTPS request is being made. Adding certificate verification is strongly advised. See: https://urllib3.readthedocs.io/en/latest/advanced-usage.html#ssl-warnings\n",
      "  InsecureRequestWarning)\n"
     ]
    },
    {
     "name": "stdout",
     "output_type": "stream",
     "text": [
      "13 https://digital.tessmann.it/mediaArchive/media/image/Page/BZZ/1844/05_04_1844/BZZ_1844_04_05_4_object_460151.png?auth=fa78b6aebbd48d14960fb668870a9177\n"
     ]
    },
    {
     "name": "stderr",
     "output_type": "stream",
     "text": [
      "/Users/nplattner/miniconda3/envs/AutoSearch/lib/python3.7/site-packages/urllib3/connectionpool.py:847: InsecureRequestWarning: Unverified HTTPS request is being made. Adding certificate verification is strongly advised. See: https://urllib3.readthedocs.io/en/latest/advanced-usage.html#ssl-warnings\n",
      "  InsecureRequestWarning)\n"
     ]
    },
    {
     "name": "stdout",
     "output_type": "stream",
     "text": [
      "14 https://digital.tessmann.it/mediaArchive/media/image/Page/BZZ/1844/12_04_1844/BZZ_1844_04_12_4_object_460161.png?auth=207611cbad9c3fe96c70741eba41a8d7\n"
     ]
    },
    {
     "name": "stderr",
     "output_type": "stream",
     "text": [
      "/Users/nplattner/miniconda3/envs/AutoSearch/lib/python3.7/site-packages/urllib3/connectionpool.py:847: InsecureRequestWarning: Unverified HTTPS request is being made. Adding certificate verification is strongly advised. See: https://urllib3.readthedocs.io/en/latest/advanced-usage.html#ssl-warnings\n",
      "  InsecureRequestWarning)\n"
     ]
    },
    {
     "name": "stdout",
     "output_type": "stream",
     "text": [
      "15 https://digital.tessmann.it/mediaArchive/media/image/Page/BZZ/1844/19_04_1844/BZZ_1844_04_19_4_object_460171.png?auth=abfb6b24145750ee2396f0c51b6cbd68\n"
     ]
    },
    {
     "name": "stderr",
     "output_type": "stream",
     "text": [
      "/Users/nplattner/miniconda3/envs/AutoSearch/lib/python3.7/site-packages/urllib3/connectionpool.py:847: InsecureRequestWarning: Unverified HTTPS request is being made. Adding certificate verification is strongly advised. See: https://urllib3.readthedocs.io/en/latest/advanced-usage.html#ssl-warnings\n",
      "  InsecureRequestWarning)\n"
     ]
    },
    {
     "name": "stdout",
     "output_type": "stream",
     "text": [
      "16 https://digital.tessmann.it/mediaArchive/media/image/Page/BZZ/1844/26_04_1844/BZZ_1844_04_26_4_object_459880.png?auth=6d9c8ac92d7f789be8b8d14df9151d47\n"
     ]
    },
    {
     "name": "stderr",
     "output_type": "stream",
     "text": [
      "/Users/nplattner/miniconda3/envs/AutoSearch/lib/python3.7/site-packages/urllib3/connectionpool.py:847: InsecureRequestWarning: Unverified HTTPS request is being made. Adding certificate verification is strongly advised. See: https://urllib3.readthedocs.io/en/latest/advanced-usage.html#ssl-warnings\n",
      "  InsecureRequestWarning)\n"
     ]
    },
    {
     "name": "stdout",
     "output_type": "stream",
     "text": [
      "17 https://digital.tessmann.it/mediaArchive/media/image/Page/BZZ/1844/03_05_1844/BZZ_1844_05_03_4_object_459904.png?auth=74b745432f5a75d71d5befcfaea4c1fb\n"
     ]
    },
    {
     "name": "stderr",
     "output_type": "stream",
     "text": [
      "/Users/nplattner/miniconda3/envs/AutoSearch/lib/python3.7/site-packages/urllib3/connectionpool.py:847: InsecureRequestWarning: Unverified HTTPS request is being made. Adding certificate verification is strongly advised. See: https://urllib3.readthedocs.io/en/latest/advanced-usage.html#ssl-warnings\n",
      "  InsecureRequestWarning)\n"
     ]
    },
    {
     "name": "stdout",
     "output_type": "stream",
     "text": [
      "18 https://digital.tessmann.it/mediaArchive/media/image/Page/BZZ/1844/10_05_1844/BZZ_1844_05_10_4_object_459927.png?auth=7869e296bb7622fc9171876958b45511\n"
     ]
    },
    {
     "name": "stderr",
     "output_type": "stream",
     "text": [
      "/Users/nplattner/miniconda3/envs/AutoSearch/lib/python3.7/site-packages/urllib3/connectionpool.py:847: InsecureRequestWarning: Unverified HTTPS request is being made. Adding certificate verification is strongly advised. See: https://urllib3.readthedocs.io/en/latest/advanced-usage.html#ssl-warnings\n",
      "  InsecureRequestWarning)\n"
     ]
    },
    {
     "name": "stdout",
     "output_type": "stream",
     "text": [
      "19 https://digital.tessmann.it/mediaArchive/media/image/Page/BZZ/1844/17_05_1844/BZZ_1844_05_17_4_object_459947.png?auth=9297ab3dee72a9e6576d81101fe89722\n"
     ]
    },
    {
     "name": "stderr",
     "output_type": "stream",
     "text": [
      "/Users/nplattner/miniconda3/envs/AutoSearch/lib/python3.7/site-packages/urllib3/connectionpool.py:847: InsecureRequestWarning: Unverified HTTPS request is being made. Adding certificate verification is strongly advised. See: https://urllib3.readthedocs.io/en/latest/advanced-usage.html#ssl-warnings\n",
      "  InsecureRequestWarning)\n"
     ]
    },
    {
     "name": "stdout",
     "output_type": "stream",
     "text": [
      "20 https://digital.tessmann.it/mediaArchive/media/image/Page/BZZ/1844/24_05_1844/BZZ_1844_05_24_4_object_459960.png?auth=b24405da67cf0fb6f396cd92c02ff27d\n"
     ]
    },
    {
     "name": "stderr",
     "output_type": "stream",
     "text": [
      "/Users/nplattner/miniconda3/envs/AutoSearch/lib/python3.7/site-packages/urllib3/connectionpool.py:847: InsecureRequestWarning: Unverified HTTPS request is being made. Adding certificate verification is strongly advised. See: https://urllib3.readthedocs.io/en/latest/advanced-usage.html#ssl-warnings\n",
      "  InsecureRequestWarning)\n"
     ]
    },
    {
     "name": "stdout",
     "output_type": "stream",
     "text": [
      "21 https://digital.tessmann.it/mediaArchive/media/image/Page/BZZ/1844/31_05_1844/BZZ_1844_05_31_4_object_459984.png?auth=fc4833469cbfaabaa3c4b3e7d4d9ca31\n"
     ]
    },
    {
     "name": "stderr",
     "output_type": "stream",
     "text": [
      "/Users/nplattner/miniconda3/envs/AutoSearch/lib/python3.7/site-packages/urllib3/connectionpool.py:847: InsecureRequestWarning: Unverified HTTPS request is being made. Adding certificate verification is strongly advised. See: https://urllib3.readthedocs.io/en/latest/advanced-usage.html#ssl-warnings\n",
      "  InsecureRequestWarning)\n"
     ]
    },
    {
     "name": "stdout",
     "output_type": "stream",
     "text": [
      "22 https://digital.tessmann.it/mediaArchive/media/image/Page/BZZ/1844/07_06_1844/BZZ_1844_06_07_4_object_460002.png?auth=b2119fd5210185574a04fb20f5ea270e\n"
     ]
    },
    {
     "name": "stderr",
     "output_type": "stream",
     "text": [
      "/Users/nplattner/miniconda3/envs/AutoSearch/lib/python3.7/site-packages/urllib3/connectionpool.py:847: InsecureRequestWarning: Unverified HTTPS request is being made. Adding certificate verification is strongly advised. See: https://urllib3.readthedocs.io/en/latest/advanced-usage.html#ssl-warnings\n",
      "  InsecureRequestWarning)\n"
     ]
    },
    {
     "name": "stdout",
     "output_type": "stream",
     "text": [
      "23 https://digital.tessmann.it/mediaArchive/media/image/Page/BZZ/1844/14_06_1844/BZZ_1844_06_14_4_object_460021.png?auth=eb5bc3acc0d7d67a6dd2c284702077d4\n"
     ]
    },
    {
     "name": "stderr",
     "output_type": "stream",
     "text": [
      "/Users/nplattner/miniconda3/envs/AutoSearch/lib/python3.7/site-packages/urllib3/connectionpool.py:847: InsecureRequestWarning: Unverified HTTPS request is being made. Adding certificate verification is strongly advised. See: https://urllib3.readthedocs.io/en/latest/advanced-usage.html#ssl-warnings\n",
      "  InsecureRequestWarning)\n"
     ]
    },
    {
     "name": "stdout",
     "output_type": "stream",
     "text": [
      "24 https://digital.tessmann.it/mediaArchive/media/image/Page/BZZ/1844/21_06_1844/BZZ_1844_06_21_4_object_460035.png?auth=b6f7f3e32b8f368cb80eb95a46de8e96\n"
     ]
    },
    {
     "name": "stderr",
     "output_type": "stream",
     "text": [
      "/Users/nplattner/miniconda3/envs/AutoSearch/lib/python3.7/site-packages/urllib3/connectionpool.py:847: InsecureRequestWarning: Unverified HTTPS request is being made. Adding certificate verification is strongly advised. See: https://urllib3.readthedocs.io/en/latest/advanced-usage.html#ssl-warnings\n",
      "  InsecureRequestWarning)\n"
     ]
    },
    {
     "name": "stdout",
     "output_type": "stream",
     "text": [
      "25 https://digital.tessmann.it/mediaArchive/media/image/Page/BZZ/1844/28_06_1844/BZZ_1844_06_28_4_object_460049.png?auth=b52d956d5c93a69263d08b67787c53c5\n"
     ]
    },
    {
     "name": "stderr",
     "output_type": "stream",
     "text": [
      "/Users/nplattner/miniconda3/envs/AutoSearch/lib/python3.7/site-packages/urllib3/connectionpool.py:847: InsecureRequestWarning: Unverified HTTPS request is being made. Adding certificate verification is strongly advised. See: https://urllib3.readthedocs.io/en/latest/advanced-usage.html#ssl-warnings\n",
      "  InsecureRequestWarning)\n"
     ]
    },
    {
     "name": "stdout",
     "output_type": "stream",
     "text": [
      "26 https://digital.tessmann.it/mediaArchive/media/image/Page/BZZ/1844/05_07_1844/BZZ_1844_07_05_4_object_459710.png?auth=156d2c31f2529e946a729860093a6e38\n"
     ]
    },
    {
     "name": "stderr",
     "output_type": "stream",
     "text": [
      "/Users/nplattner/miniconda3/envs/AutoSearch/lib/python3.7/site-packages/urllib3/connectionpool.py:847: InsecureRequestWarning: Unverified HTTPS request is being made. Adding certificate verification is strongly advised. See: https://urllib3.readthedocs.io/en/latest/advanced-usage.html#ssl-warnings\n",
      "  InsecureRequestWarning)\n"
     ]
    },
    {
     "name": "stdout",
     "output_type": "stream",
     "text": [
      "27 https://digital.tessmann.it/mediaArchive/media/image/Page/BZZ/1844/12_07_1844/BZZ_1844_07_12_4_object_459723.png?auth=0c2c5e9a8c2656df8cdf21bd409bd4bf\n"
     ]
    },
    {
     "name": "stderr",
     "output_type": "stream",
     "text": [
      "/Users/nplattner/miniconda3/envs/AutoSearch/lib/python3.7/site-packages/urllib3/connectionpool.py:847: InsecureRequestWarning: Unverified HTTPS request is being made. Adding certificate verification is strongly advised. See: https://urllib3.readthedocs.io/en/latest/advanced-usage.html#ssl-warnings\n",
      "  InsecureRequestWarning)\n"
     ]
    },
    {
     "name": "stdout",
     "output_type": "stream",
     "text": [
      "28 https://digital.tessmann.it/mediaArchive/media/image/Page/BZZ/1844/19_07_1844/BZZ_1844_07_19_4_object_459737.png?auth=cca58b5d38fab7bb6ce1e4fd0a62918a\n"
     ]
    },
    {
     "name": "stderr",
     "output_type": "stream",
     "text": [
      "/Users/nplattner/miniconda3/envs/AutoSearch/lib/python3.7/site-packages/urllib3/connectionpool.py:847: InsecureRequestWarning: Unverified HTTPS request is being made. Adding certificate verification is strongly advised. See: https://urllib3.readthedocs.io/en/latest/advanced-usage.html#ssl-warnings\n",
      "  InsecureRequestWarning)\n"
     ]
    },
    {
     "name": "stdout",
     "output_type": "stream",
     "text": [
      "29 https://digital.tessmann.it/mediaArchive/media/image/Page/BZZ/1844/26_07_1844/BZZ_1844_07_26_4_object_459751.png?auth=1b4f56e6ae9b739c9ee90f39a2c074ad\n"
     ]
    },
    {
     "name": "stderr",
     "output_type": "stream",
     "text": [
      "/Users/nplattner/miniconda3/envs/AutoSearch/lib/python3.7/site-packages/urllib3/connectionpool.py:847: InsecureRequestWarning: Unverified HTTPS request is being made. Adding certificate verification is strongly advised. See: https://urllib3.readthedocs.io/en/latest/advanced-usage.html#ssl-warnings\n",
      "  InsecureRequestWarning)\n"
     ]
    },
    {
     "name": "stdout",
     "output_type": "stream",
     "text": [
      "30 https://digital.tessmann.it/mediaArchive/media/image/Page/BZZ/1844/02_08_1844/BZZ_1844_08_02_4_object_459770.png?auth=e0f7e8cf97861c0fecafb959fc37e6ac\n"
     ]
    },
    {
     "name": "stderr",
     "output_type": "stream",
     "text": [
      "/Users/nplattner/miniconda3/envs/AutoSearch/lib/python3.7/site-packages/urllib3/connectionpool.py:847: InsecureRequestWarning: Unverified HTTPS request is being made. Adding certificate verification is strongly advised. See: https://urllib3.readthedocs.io/en/latest/advanced-usage.html#ssl-warnings\n",
      "  InsecureRequestWarning)\n"
     ]
    },
    {
     "name": "stdout",
     "output_type": "stream",
     "text": [
      "31 https://digital.tessmann.it/mediaArchive/media/image/Page/BZZ/1844/09_08_1844/BZZ_1844_08_09_4_object_459789.png?auth=43db956975a4d0a33235e7f08256d36c\n"
     ]
    },
    {
     "name": "stderr",
     "output_type": "stream",
     "text": [
      "/Users/nplattner/miniconda3/envs/AutoSearch/lib/python3.7/site-packages/urllib3/connectionpool.py:847: InsecureRequestWarning: Unverified HTTPS request is being made. Adding certificate verification is strongly advised. See: https://urllib3.readthedocs.io/en/latest/advanced-usage.html#ssl-warnings\n",
      "  InsecureRequestWarning)\n"
     ]
    },
    {
     "name": "stdout",
     "output_type": "stream",
     "text": [
      "32 https://digital.tessmann.it/mediaArchive/media/image/Page/BZZ/1844/16_08_1844/BZZ_1844_08_16_4_object_459798.png?auth=0f0675c0711eb700d1980134a5738541\n"
     ]
    },
    {
     "name": "stderr",
     "output_type": "stream",
     "text": [
      "/Users/nplattner/miniconda3/envs/AutoSearch/lib/python3.7/site-packages/urllib3/connectionpool.py:847: InsecureRequestWarning: Unverified HTTPS request is being made. Adding certificate verification is strongly advised. See: https://urllib3.readthedocs.io/en/latest/advanced-usage.html#ssl-warnings\n",
      "  InsecureRequestWarning)\n"
     ]
    },
    {
     "name": "stdout",
     "output_type": "stream",
     "text": [
      "33 https://digital.tessmann.it/mediaArchive/media/image/Page/BZZ/1844/23_08_1844/BZZ_1844_08_23_4_object_459807.png?auth=b86b9c259e38f4fa400b818206e8d565\n"
     ]
    },
    {
     "name": "stderr",
     "output_type": "stream",
     "text": [
      "/Users/nplattner/miniconda3/envs/AutoSearch/lib/python3.7/site-packages/urllib3/connectionpool.py:847: InsecureRequestWarning: Unverified HTTPS request is being made. Adding certificate verification is strongly advised. See: https://urllib3.readthedocs.io/en/latest/advanced-usage.html#ssl-warnings\n",
      "  InsecureRequestWarning)\n"
     ]
    },
    {
     "name": "stdout",
     "output_type": "stream",
     "text": [
      "34 https://digital.tessmann.it/mediaArchive/media/image/Page/BZZ/1844/30_08_1844/BZZ_1844_08_30_4_object_459821.png?auth=4aeb56b61561766e966aa874b3bb72a3\n"
     ]
    },
    {
     "name": "stderr",
     "output_type": "stream",
     "text": [
      "/Users/nplattner/miniconda3/envs/AutoSearch/lib/python3.7/site-packages/urllib3/connectionpool.py:847: InsecureRequestWarning: Unverified HTTPS request is being made. Adding certificate verification is strongly advised. See: https://urllib3.readthedocs.io/en/latest/advanced-usage.html#ssl-warnings\n",
      "  InsecureRequestWarning)\n"
     ]
    },
    {
     "name": "stdout",
     "output_type": "stream",
     "text": [
      "35 https://digital.tessmann.it/mediaArchive/media/image/Page/BZZ/1844/06_09_1844/BZZ_1844_09_06_4_object_459845.png?auth=2bd5cd0e14cc4660f49b2d2b3818d77d\n"
     ]
    },
    {
     "name": "stderr",
     "output_type": "stream",
     "text": [
      "/Users/nplattner/miniconda3/envs/AutoSearch/lib/python3.7/site-packages/urllib3/connectionpool.py:847: InsecureRequestWarning: Unverified HTTPS request is being made. Adding certificate verification is strongly advised. See: https://urllib3.readthedocs.io/en/latest/advanced-usage.html#ssl-warnings\n",
      "  InsecureRequestWarning)\n"
     ]
    },
    {
     "name": "stdout",
     "output_type": "stream",
     "text": [
      "36 https://digital.tessmann.it/mediaArchive/media/image/Page/BZZ/1844/13_09_1844/BZZ_1844_09_13_4_object_459873.png?auth=210766091aa5cf322ee8c2220fbb5e73\n"
     ]
    },
    {
     "name": "stderr",
     "output_type": "stream",
     "text": [
      "/Users/nplattner/miniconda3/envs/AutoSearch/lib/python3.7/site-packages/urllib3/connectionpool.py:847: InsecureRequestWarning: Unverified HTTPS request is being made. Adding certificate verification is strongly advised. See: https://urllib3.readthedocs.io/en/latest/advanced-usage.html#ssl-warnings\n",
      "  InsecureRequestWarning)\n"
     ]
    },
    {
     "name": "stdout",
     "output_type": "stream",
     "text": [
      "37 https://digital.tessmann.it/mediaArchive/media/image/Page/BZZ/1844/20_09_1844/BZZ_1844_09_20_4_object_459544.png?auth=3adf153f05e560eaa0e0dae2946f7387\n"
     ]
    },
    {
     "name": "stderr",
     "output_type": "stream",
     "text": [
      "/Users/nplattner/miniconda3/envs/AutoSearch/lib/python3.7/site-packages/urllib3/connectionpool.py:847: InsecureRequestWarning: Unverified HTTPS request is being made. Adding certificate verification is strongly advised. See: https://urllib3.readthedocs.io/en/latest/advanced-usage.html#ssl-warnings\n",
      "  InsecureRequestWarning)\n"
     ]
    },
    {
     "name": "stdout",
     "output_type": "stream",
     "text": [
      "38 https://digital.tessmann.it/mediaArchive/media/image/Page/BZZ/1844/27_09_1844/BZZ_1844_09_27_4_object_459563.png?auth=458c628950edf0bce14d884743bbc389\n"
     ]
    },
    {
     "name": "stderr",
     "output_type": "stream",
     "text": [
      "/Users/nplattner/miniconda3/envs/AutoSearch/lib/python3.7/site-packages/urllib3/connectionpool.py:847: InsecureRequestWarning: Unverified HTTPS request is being made. Adding certificate verification is strongly advised. See: https://urllib3.readthedocs.io/en/latest/advanced-usage.html#ssl-warnings\n",
      "  InsecureRequestWarning)\n"
     ]
    },
    {
     "name": "stdout",
     "output_type": "stream",
     "text": [
      "39 https://digital.tessmann.it/mediaArchive/media/image/Page/BZZ/1844/04_10_1844/BZZ_1844_10_04_4_object_459582.png?auth=43dc63853193b2eba2483c5a17aa019f\n"
     ]
    },
    {
     "name": "stderr",
     "output_type": "stream",
     "text": [
      "/Users/nplattner/miniconda3/envs/AutoSearch/lib/python3.7/site-packages/urllib3/connectionpool.py:847: InsecureRequestWarning: Unverified HTTPS request is being made. Adding certificate verification is strongly advised. See: https://urllib3.readthedocs.io/en/latest/advanced-usage.html#ssl-warnings\n",
      "  InsecureRequestWarning)\n"
     ]
    },
    {
     "name": "stdout",
     "output_type": "stream",
     "text": [
      "40 https://digital.tessmann.it/mediaArchive/media/image/Page/BZZ/1844/11_10_1844/BZZ_1844_10_11_4_object_459595.png?auth=74efd3c2ff14af97d4960f871f0006e8\n"
     ]
    },
    {
     "name": "stderr",
     "output_type": "stream",
     "text": [
      "/Users/nplattner/miniconda3/envs/AutoSearch/lib/python3.7/site-packages/urllib3/connectionpool.py:847: InsecureRequestWarning: Unverified HTTPS request is being made. Adding certificate verification is strongly advised. See: https://urllib3.readthedocs.io/en/latest/advanced-usage.html#ssl-warnings\n",
      "  InsecureRequestWarning)\n"
     ]
    },
    {
     "name": "stdout",
     "output_type": "stream",
     "text": [
      "41 https://digital.tessmann.it/mediaArchive/media/image/Page/BZZ/1844/18_10_1844/BZZ_1844_10_18_4_object_459609.png?auth=523cae8c17d5e91eb0a18708391d8308\n"
     ]
    },
    {
     "name": "stderr",
     "output_type": "stream",
     "text": [
      "/Users/nplattner/miniconda3/envs/AutoSearch/lib/python3.7/site-packages/urllib3/connectionpool.py:847: InsecureRequestWarning: Unverified HTTPS request is being made. Adding certificate verification is strongly advised. See: https://urllib3.readthedocs.io/en/latest/advanced-usage.html#ssl-warnings\n",
      "  InsecureRequestWarning)\n"
     ]
    },
    {
     "name": "stdout",
     "output_type": "stream",
     "text": [
      "42 https://digital.tessmann.it/mediaArchive/media/image/Page/BZZ/1844/25_10_1844/BZZ_1844_10_25_4_object_459623.png?auth=d85d17e2668750d03273177388febe13\n"
     ]
    },
    {
     "name": "stderr",
     "output_type": "stream",
     "text": [
      "/Users/nplattner/miniconda3/envs/AutoSearch/lib/python3.7/site-packages/urllib3/connectionpool.py:847: InsecureRequestWarning: Unverified HTTPS request is being made. Adding certificate verification is strongly advised. See: https://urllib3.readthedocs.io/en/latest/advanced-usage.html#ssl-warnings\n",
      "  InsecureRequestWarning)\n"
     ]
    },
    {
     "name": "stdout",
     "output_type": "stream",
     "text": [
      "43 https://digital.tessmann.it/mediaArchive/media/image/Page/BZZ/1844/01_11_1844/BZZ_1844_11_01_4_object_2617685.png?auth=15e7fc66f36011a4b6f2d39e5687f48d\n"
     ]
    },
    {
     "name": "stderr",
     "output_type": "stream",
     "text": [
      "/Users/nplattner/miniconda3/envs/AutoSearch/lib/python3.7/site-packages/urllib3/connectionpool.py:847: InsecureRequestWarning: Unverified HTTPS request is being made. Adding certificate verification is strongly advised. See: https://urllib3.readthedocs.io/en/latest/advanced-usage.html#ssl-warnings\n",
      "  InsecureRequestWarning)\n"
     ]
    },
    {
     "name": "stdout",
     "output_type": "stream",
     "text": [
      "44 https://digital.tessmann.it/mediaArchive/media/image/Page/BZZ/1844/08_11_1844/BZZ_1844_11_08_4_object_2617701.png?auth=8379a1dd679a691ba2ce6d796d364cbc\n"
     ]
    },
    {
     "name": "stderr",
     "output_type": "stream",
     "text": [
      "/Users/nplattner/miniconda3/envs/AutoSearch/lib/python3.7/site-packages/urllib3/connectionpool.py:847: InsecureRequestWarning: Unverified HTTPS request is being made. Adding certificate verification is strongly advised. See: https://urllib3.readthedocs.io/en/latest/advanced-usage.html#ssl-warnings\n",
      "  InsecureRequestWarning)\n"
     ]
    },
    {
     "name": "stdout",
     "output_type": "stream",
     "text": [
      "45 https://digital.tessmann.it/mediaArchive/media/image/Page/BZZ/1844/15_11_1844/BZZ_1844_11_15_4_object_2617716.png?auth=546a1b636a78581dc5b71a8c6f9f6410\n"
     ]
    },
    {
     "name": "stderr",
     "output_type": "stream",
     "text": [
      "/Users/nplattner/miniconda3/envs/AutoSearch/lib/python3.7/site-packages/urllib3/connectionpool.py:847: InsecureRequestWarning: Unverified HTTPS request is being made. Adding certificate verification is strongly advised. See: https://urllib3.readthedocs.io/en/latest/advanced-usage.html#ssl-warnings\n",
      "  InsecureRequestWarning)\n"
     ]
    },
    {
     "name": "stdout",
     "output_type": "stream",
     "text": [
      "46 https://digital.tessmann.it/mediaArchive/media/image/Page/BZZ/1844/22_11_1844/BZZ_1844_11_22_4_object_2617731.png?auth=bb7f24a51c052e6304db856102f9395e\n"
     ]
    },
    {
     "name": "stderr",
     "output_type": "stream",
     "text": [
      "/Users/nplattner/miniconda3/envs/AutoSearch/lib/python3.7/site-packages/urllib3/connectionpool.py:847: InsecureRequestWarning: Unverified HTTPS request is being made. Adding certificate verification is strongly advised. See: https://urllib3.readthedocs.io/en/latest/advanced-usage.html#ssl-warnings\n",
      "  InsecureRequestWarning)\n"
     ]
    },
    {
     "name": "stdout",
     "output_type": "stream",
     "text": [
      "47 https://digital.tessmann.it/mediaArchive/media/image/Page/BZZ/1844/29_11_1844/BZZ_1844_11_29_4_object_2617742.png?auth=8ef05bffe83e795c12f5214a004d0179\n"
     ]
    },
    {
     "name": "stderr",
     "output_type": "stream",
     "text": [
      "/Users/nplattner/miniconda3/envs/AutoSearch/lib/python3.7/site-packages/urllib3/connectionpool.py:847: InsecureRequestWarning: Unverified HTTPS request is being made. Adding certificate verification is strongly advised. See: https://urllib3.readthedocs.io/en/latest/advanced-usage.html#ssl-warnings\n",
      "  InsecureRequestWarning)\n"
     ]
    },
    {
     "name": "stdout",
     "output_type": "stream",
     "text": [
      "48 https://digital.tessmann.it/mediaArchive/media/image/Page/BZZ/1844/06_12_1844/BZZ_1844_12_06_4_object_459637.png?auth=ab4aea6dca3d9ee9fabb3de0dc7cabfb\n"
     ]
    },
    {
     "name": "stderr",
     "output_type": "stream",
     "text": [
      "/Users/nplattner/miniconda3/envs/AutoSearch/lib/python3.7/site-packages/urllib3/connectionpool.py:847: InsecureRequestWarning: Unverified HTTPS request is being made. Adding certificate verification is strongly advised. See: https://urllib3.readthedocs.io/en/latest/advanced-usage.html#ssl-warnings\n",
      "  InsecureRequestWarning)\n"
     ]
    },
    {
     "name": "stdout",
     "output_type": "stream",
     "text": [
      "49 https://digital.tessmann.it/mediaArchive/media/image/Page/BZZ/1844/13_12_1844/BZZ_1844_12_13_4_object_459651.png?auth=314412b4e2c95fcf1fed710bc5341259\n"
     ]
    },
    {
     "name": "stderr",
     "output_type": "stream",
     "text": [
      "/Users/nplattner/miniconda3/envs/AutoSearch/lib/python3.7/site-packages/urllib3/connectionpool.py:847: InsecureRequestWarning: Unverified HTTPS request is being made. Adding certificate verification is strongly advised. See: https://urllib3.readthedocs.io/en/latest/advanced-usage.html#ssl-warnings\n",
      "  InsecureRequestWarning)\n"
     ]
    },
    {
     "name": "stdout",
     "output_type": "stream",
     "text": [
      "50 https://digital.tessmann.it/mediaArchive/media/image/Page/BZZ/1844/20_12_1844/BZZ_1844_12_20_4_object_459665.png?auth=a21f19554a779561cc2d9d8923133d8f\n"
     ]
    },
    {
     "name": "stderr",
     "output_type": "stream",
     "text": [
      "/Users/nplattner/miniconda3/envs/AutoSearch/lib/python3.7/site-packages/urllib3/connectionpool.py:847: InsecureRequestWarning: Unverified HTTPS request is being made. Adding certificate verification is strongly advised. See: https://urllib3.readthedocs.io/en/latest/advanced-usage.html#ssl-warnings\n",
      "  InsecureRequestWarning)\n"
     ]
    },
    {
     "name": "stdout",
     "output_type": "stream",
     "text": [
      "51 https://digital.tessmann.it/mediaArchive/media/image/Page/BZZ/1844/27_12_1844/BZZ_1844_12_27_4_object_459674.png?auth=34c73e81197ce40865d3b01483000625\n"
     ]
    }
   ],
   "source": [
    "# from these links, we get a list of the picture links\n",
    "pictures = []\n",
    "for num in range(len(page_url_list)):\n",
    "    http = urllib3.PoolManager()\n",
    "    response = http.request('GET', page_url_list[num])\n",
    "    soup = BeautifulSoup(response.data)\n",
    "    for item in soup.find_all('a'):\n",
    "        adress = item.attrs['href']\n",
    "        if adress.find('media/image') != -1 :\n",
    "            print (num, adress)\n",
    "            pictures.append(adress)"
   ]
  },
  {
   "cell_type": "markdown",
   "metadata": {},
   "source": [
    "Now we have all the download links. We create a folder for the given year and download page 4 of all issues."
   ]
  },
  {
   "cell_type": "code",
   "execution_count": 25,
   "metadata": {},
   "outputs": [],
   "source": [
    "# make folder\n",
    "folder = 'bozner_zeitung_'+str(year_list[year_index])\n",
    "if not os.path.exists(folder):\n",
    "    os.mkdir(folder)"
   ]
  },
  {
   "cell_type": "code",
   "execution_count": 26,
   "metadata": {
    "scrolled": true
   },
   "outputs": [
    {
     "name": "stdout",
     "output_type": "stream",
     "text": [
      "05.01.1844 https://digital.tessmann.it/mediaArchive/media/image/Page/BZZ/1844/05_01_1844/BZZ_1844_01_05_4_object_460267.png?auth=be15d03b6659c46595ffb798047b2d8a\n",
      "12.01.1844 https://digital.tessmann.it/mediaArchive/media/image/Page/BZZ/1844/12_01_1844/BZZ_1844_01_12_4_object_460274.png?auth=94283663b542fc3ac3c866c5712db754\n",
      "19.01.1844 https://digital.tessmann.it/mediaArchive/media/image/Page/BZZ/1844/19_01_1844/BZZ_1844_01_19_4_object_460280.png?auth=39ddfe4d41a886e98c8a7154b32fa7fb\n",
      "26.01.1844 https://digital.tessmann.it/mediaArchive/media/image/Page/BZZ/1844/26_01_1844/BZZ_1844_01_26_4_object_460290.png?auth=7d6d99c576bc04fad59c1b233c47111a\n",
      "02.02.1844 https://digital.tessmann.it/mediaArchive/media/image/Page/BZZ/1844/02_02_1844/BZZ_1844_02_02_4_object_460304.png?auth=8ee297adf951ea8ea1ea7a2eb593962d\n",
      "09.02.1844 https://digital.tessmann.it/mediaArchive/media/image/Page/BZZ/1844/09_02_1844/BZZ_1844_02_09_4_object_460062.png?auth=ff3d73e2c1c73a86a5a041ca3b8c4316\n",
      "16.02.1844 https://digital.tessmann.it/mediaArchive/media/image/Page/BZZ/1844/16_02_1844/BZZ_1844_02_16_4_object_460068.png?auth=7c7ba7c44c538e64eec15bd48fd70956\n",
      "23.02.1844 https://digital.tessmann.it/mediaArchive/media/image/Page/BZZ/1844/23_02_1844/BZZ_1844_02_23_4_object_460075.png?auth=a5334aa516e3160f95ac61ff3d22bb6e\n",
      "01.03.1844 https://digital.tessmann.it/mediaArchive/media/image/Page/BZZ/1844/01_03_1844/BZZ_1844_03_01_4_object_460082.png?auth=3a64c0f84f97f155905131577d1c2000\n",
      "08.03.1844 https://digital.tessmann.it/mediaArchive/media/image/Page/BZZ/1844/08_03_1844/BZZ_1844_03_08_4_object_460092.png?auth=db9abaf42d6a5c0823dc5b02559cf3a0\n",
      "15.03.1844 https://digital.tessmann.it/mediaArchive/media/image/Page/BZZ/1844/15_03_1844/BZZ_1844_03_15_4_object_460105.png?auth=b4dcacea589a1f93c65c70922baeb597\n",
      "22.03.1844 https://digital.tessmann.it/mediaArchive/media/image/Page/BZZ/1844/22_03_1844/BZZ_1844_03_22_4_object_460121.png?auth=faa93d2945265d2c8db45c901c0cc90d\n",
      "29.03.1844 https://digital.tessmann.it/mediaArchive/media/image/Page/BZZ/1844/29_03_1844/BZZ_1844_03_29_4_object_460138.png?auth=fa1ba26ff147e4879769d1055a74ee98\n",
      "05.04.1844 https://digital.tessmann.it/mediaArchive/media/image/Page/BZZ/1844/05_04_1844/BZZ_1844_04_05_4_object_460151.png?auth=fa78b6aebbd48d14960fb668870a9177\n",
      "12.04.1844 https://digital.tessmann.it/mediaArchive/media/image/Page/BZZ/1844/12_04_1844/BZZ_1844_04_12_4_object_460161.png?auth=207611cbad9c3fe96c70741eba41a8d7\n",
      "19.04.1844 https://digital.tessmann.it/mediaArchive/media/image/Page/BZZ/1844/19_04_1844/BZZ_1844_04_19_4_object_460171.png?auth=abfb6b24145750ee2396f0c51b6cbd68\n",
      "26.04.1844 https://digital.tessmann.it/mediaArchive/media/image/Page/BZZ/1844/26_04_1844/BZZ_1844_04_26_4_object_459880.png?auth=6d9c8ac92d7f789be8b8d14df9151d47\n",
      "03.05.1844 https://digital.tessmann.it/mediaArchive/media/image/Page/BZZ/1844/03_05_1844/BZZ_1844_05_03_4_object_459904.png?auth=74b745432f5a75d71d5befcfaea4c1fb\n",
      "10.05.1844 https://digital.tessmann.it/mediaArchive/media/image/Page/BZZ/1844/10_05_1844/BZZ_1844_05_10_4_object_459927.png?auth=7869e296bb7622fc9171876958b45511\n",
      "17.05.1844 https://digital.tessmann.it/mediaArchive/media/image/Page/BZZ/1844/17_05_1844/BZZ_1844_05_17_4_object_459947.png?auth=9297ab3dee72a9e6576d81101fe89722\n",
      "24.05.1844 https://digital.tessmann.it/mediaArchive/media/image/Page/BZZ/1844/24_05_1844/BZZ_1844_05_24_4_object_459960.png?auth=b24405da67cf0fb6f396cd92c02ff27d\n",
      "31.05.1844 https://digital.tessmann.it/mediaArchive/media/image/Page/BZZ/1844/31_05_1844/BZZ_1844_05_31_4_object_459984.png?auth=fc4833469cbfaabaa3c4b3e7d4d9ca31\n",
      "07.06.1844 https://digital.tessmann.it/mediaArchive/media/image/Page/BZZ/1844/07_06_1844/BZZ_1844_06_07_4_object_460002.png?auth=b2119fd5210185574a04fb20f5ea270e\n",
      "14.06.1844 https://digital.tessmann.it/mediaArchive/media/image/Page/BZZ/1844/14_06_1844/BZZ_1844_06_14_4_object_460021.png?auth=eb5bc3acc0d7d67a6dd2c284702077d4\n",
      "21.06.1844 https://digital.tessmann.it/mediaArchive/media/image/Page/BZZ/1844/21_06_1844/BZZ_1844_06_21_4_object_460035.png?auth=b6f7f3e32b8f368cb80eb95a46de8e96\n",
      "28.06.1844 https://digital.tessmann.it/mediaArchive/media/image/Page/BZZ/1844/28_06_1844/BZZ_1844_06_28_4_object_460049.png?auth=b52d956d5c93a69263d08b67787c53c5\n",
      "05.07.1844 https://digital.tessmann.it/mediaArchive/media/image/Page/BZZ/1844/05_07_1844/BZZ_1844_07_05_4_object_459710.png?auth=156d2c31f2529e946a729860093a6e38\n",
      "12.07.1844 https://digital.tessmann.it/mediaArchive/media/image/Page/BZZ/1844/12_07_1844/BZZ_1844_07_12_4_object_459723.png?auth=0c2c5e9a8c2656df8cdf21bd409bd4bf\n",
      "19.07.1844 https://digital.tessmann.it/mediaArchive/media/image/Page/BZZ/1844/19_07_1844/BZZ_1844_07_19_4_object_459737.png?auth=cca58b5d38fab7bb6ce1e4fd0a62918a\n",
      "26.07.1844 https://digital.tessmann.it/mediaArchive/media/image/Page/BZZ/1844/26_07_1844/BZZ_1844_07_26_4_object_459751.png?auth=1b4f56e6ae9b739c9ee90f39a2c074ad\n",
      "02.08.1844 https://digital.tessmann.it/mediaArchive/media/image/Page/BZZ/1844/02_08_1844/BZZ_1844_08_02_4_object_459770.png?auth=e0f7e8cf97861c0fecafb959fc37e6ac\n",
      "09.08.1844 https://digital.tessmann.it/mediaArchive/media/image/Page/BZZ/1844/09_08_1844/BZZ_1844_08_09_4_object_459789.png?auth=43db956975a4d0a33235e7f08256d36c\n",
      "16.08.1844 https://digital.tessmann.it/mediaArchive/media/image/Page/BZZ/1844/16_08_1844/BZZ_1844_08_16_4_object_459798.png?auth=0f0675c0711eb700d1980134a5738541\n",
      "23.08.1844 https://digital.tessmann.it/mediaArchive/media/image/Page/BZZ/1844/23_08_1844/BZZ_1844_08_23_4_object_459807.png?auth=b86b9c259e38f4fa400b818206e8d565\n",
      "30.08.1844 https://digital.tessmann.it/mediaArchive/media/image/Page/BZZ/1844/30_08_1844/BZZ_1844_08_30_4_object_459821.png?auth=4aeb56b61561766e966aa874b3bb72a3\n",
      "06.09.1844 https://digital.tessmann.it/mediaArchive/media/image/Page/BZZ/1844/06_09_1844/BZZ_1844_09_06_4_object_459845.png?auth=2bd5cd0e14cc4660f49b2d2b3818d77d\n",
      "13.09.1844 https://digital.tessmann.it/mediaArchive/media/image/Page/BZZ/1844/13_09_1844/BZZ_1844_09_13_4_object_459873.png?auth=210766091aa5cf322ee8c2220fbb5e73\n",
      "20.09.1844 https://digital.tessmann.it/mediaArchive/media/image/Page/BZZ/1844/20_09_1844/BZZ_1844_09_20_4_object_459544.png?auth=3adf153f05e560eaa0e0dae2946f7387\n",
      "27.09.1844 https://digital.tessmann.it/mediaArchive/media/image/Page/BZZ/1844/27_09_1844/BZZ_1844_09_27_4_object_459563.png?auth=458c628950edf0bce14d884743bbc389\n",
      "04.10.1844 https://digital.tessmann.it/mediaArchive/media/image/Page/BZZ/1844/04_10_1844/BZZ_1844_10_04_4_object_459582.png?auth=43dc63853193b2eba2483c5a17aa019f\n",
      "11.10.1844 https://digital.tessmann.it/mediaArchive/media/image/Page/BZZ/1844/11_10_1844/BZZ_1844_10_11_4_object_459595.png?auth=74efd3c2ff14af97d4960f871f0006e8\n",
      "18.10.1844 https://digital.tessmann.it/mediaArchive/media/image/Page/BZZ/1844/18_10_1844/BZZ_1844_10_18_4_object_459609.png?auth=523cae8c17d5e91eb0a18708391d8308\n",
      "25.10.1844 https://digital.tessmann.it/mediaArchive/media/image/Page/BZZ/1844/25_10_1844/BZZ_1844_10_25_4_object_459623.png?auth=d85d17e2668750d03273177388febe13\n",
      "01.11.1844 https://digital.tessmann.it/mediaArchive/media/image/Page/BZZ/1844/01_11_1844/BZZ_1844_11_01_4_object_2617685.png?auth=15e7fc66f36011a4b6f2d39e5687f48d\n",
      "08.11.1844 https://digital.tessmann.it/mediaArchive/media/image/Page/BZZ/1844/08_11_1844/BZZ_1844_11_08_4_object_2617701.png?auth=8379a1dd679a691ba2ce6d796d364cbc\n",
      "15.11.1844 https://digital.tessmann.it/mediaArchive/media/image/Page/BZZ/1844/15_11_1844/BZZ_1844_11_15_4_object_2617716.png?auth=546a1b636a78581dc5b71a8c6f9f6410\n",
      "22.11.1844 https://digital.tessmann.it/mediaArchive/media/image/Page/BZZ/1844/22_11_1844/BZZ_1844_11_22_4_object_2617731.png?auth=bb7f24a51c052e6304db856102f9395e\n",
      "29.11.1844 https://digital.tessmann.it/mediaArchive/media/image/Page/BZZ/1844/29_11_1844/BZZ_1844_11_29_4_object_2617742.png?auth=8ef05bffe83e795c12f5214a004d0179\n",
      "06.12.1844 https://digital.tessmann.it/mediaArchive/media/image/Page/BZZ/1844/06_12_1844/BZZ_1844_12_06_4_object_459637.png?auth=ab4aea6dca3d9ee9fabb3de0dc7cabfb\n",
      "13.12.1844 https://digital.tessmann.it/mediaArchive/media/image/Page/BZZ/1844/13_12_1844/BZZ_1844_12_13_4_object_459651.png?auth=314412b4e2c95fcf1fed710bc5341259\n",
      "20.12.1844 https://digital.tessmann.it/mediaArchive/media/image/Page/BZZ/1844/20_12_1844/BZZ_1844_12_20_4_object_459665.png?auth=a21f19554a779561cc2d9d8923133d8f\n",
      "27.12.1844 https://digital.tessmann.it/mediaArchive/media/image/Page/BZZ/1844/27_12_1844/BZZ_1844_12_27_4_object_459674.png?auth=34c73e81197ce40865d3b01483000625\n"
     ]
    }
   ],
   "source": [
    "# show list\n",
    "for num in range(len(datelist)):\n",
    "    print (new_list[num][1], pictures[num])"
   ]
  },
  {
   "cell_type": "code",
   "execution_count": 27,
   "metadata": {},
   "outputs": [
    {
     "name": "stderr",
     "output_type": "stream",
     "text": [
      "/Users/nplattner/miniconda3/envs/AutoSearch/lib/python3.7/site-packages/urllib3/connectionpool.py:847: InsecureRequestWarning: Unverified HTTPS request is being made. Adding certificate verification is strongly advised. See: https://urllib3.readthedocs.io/en/latest/advanced-usage.html#ssl-warnings\n",
      "  InsecureRequestWarning)\n"
     ]
    }
   ],
   "source": [
    "### testblock; test downloading for a single file here!!!!\n",
    "num = 0\n",
    "filename = os.path.join(folder,(str(new_list[num][0])+'.png'))\n",
    "http = urllib3.PoolManager()\n",
    "c = urllib3.PoolManager()\n",
    "\n",
    "with c.request('GET',pictures[0], preload_content=False) as resp, open(filename, 'wb') as out_file:\n",
    "    shutil.copyfileobj(resp, out_file)\n",
    "\n",
    "resp.release_conn()  "
   ]
  },
  {
   "cell_type": "code",
   "execution_count": 28,
   "metadata": {},
   "outputs": [
    {
     "name": "stderr",
     "output_type": "stream",
     "text": [
      "/Users/nplattner/miniconda3/envs/AutoSearch/lib/python3.7/site-packages/urllib3/connectionpool.py:847: InsecureRequestWarning: Unverified HTTPS request is being made. Adding certificate verification is strongly advised. See: https://urllib3.readthedocs.io/en/latest/advanced-usage.html#ssl-warnings\n",
      "  InsecureRequestWarning)\n",
      "/Users/nplattner/miniconda3/envs/AutoSearch/lib/python3.7/site-packages/urllib3/connectionpool.py:847: InsecureRequestWarning: Unverified HTTPS request is being made. Adding certificate verification is strongly advised. See: https://urllib3.readthedocs.io/en/latest/advanced-usage.html#ssl-warnings\n",
      "  InsecureRequestWarning)\n",
      "/Users/nplattner/miniconda3/envs/AutoSearch/lib/python3.7/site-packages/urllib3/connectionpool.py:847: InsecureRequestWarning: Unverified HTTPS request is being made. Adding certificate verification is strongly advised. See: https://urllib3.readthedocs.io/en/latest/advanced-usage.html#ssl-warnings\n",
      "  InsecureRequestWarning)\n",
      "/Users/nplattner/miniconda3/envs/AutoSearch/lib/python3.7/site-packages/urllib3/connectionpool.py:847: InsecureRequestWarning: Unverified HTTPS request is being made. Adding certificate verification is strongly advised. See: https://urllib3.readthedocs.io/en/latest/advanced-usage.html#ssl-warnings\n",
      "  InsecureRequestWarning)\n",
      "/Users/nplattner/miniconda3/envs/AutoSearch/lib/python3.7/site-packages/urllib3/connectionpool.py:847: InsecureRequestWarning: Unverified HTTPS request is being made. Adding certificate verification is strongly advised. See: https://urllib3.readthedocs.io/en/latest/advanced-usage.html#ssl-warnings\n",
      "  InsecureRequestWarning)\n",
      "/Users/nplattner/miniconda3/envs/AutoSearch/lib/python3.7/site-packages/urllib3/connectionpool.py:847: InsecureRequestWarning: Unverified HTTPS request is being made. Adding certificate verification is strongly advised. See: https://urllib3.readthedocs.io/en/latest/advanced-usage.html#ssl-warnings\n",
      "  InsecureRequestWarning)\n",
      "/Users/nplattner/miniconda3/envs/AutoSearch/lib/python3.7/site-packages/urllib3/connectionpool.py:847: InsecureRequestWarning: Unverified HTTPS request is being made. Adding certificate verification is strongly advised. See: https://urllib3.readthedocs.io/en/latest/advanced-usage.html#ssl-warnings\n",
      "  InsecureRequestWarning)\n",
      "/Users/nplattner/miniconda3/envs/AutoSearch/lib/python3.7/site-packages/urllib3/connectionpool.py:847: InsecureRequestWarning: Unverified HTTPS request is being made. Adding certificate verification is strongly advised. See: https://urllib3.readthedocs.io/en/latest/advanced-usage.html#ssl-warnings\n",
      "  InsecureRequestWarning)\n",
      "/Users/nplattner/miniconda3/envs/AutoSearch/lib/python3.7/site-packages/urllib3/connectionpool.py:847: InsecureRequestWarning: Unverified HTTPS request is being made. Adding certificate verification is strongly advised. See: https://urllib3.readthedocs.io/en/latest/advanced-usage.html#ssl-warnings\n",
      "  InsecureRequestWarning)\n",
      "/Users/nplattner/miniconda3/envs/AutoSearch/lib/python3.7/site-packages/urllib3/connectionpool.py:847: InsecureRequestWarning: Unverified HTTPS request is being made. Adding certificate verification is strongly advised. See: https://urllib3.readthedocs.io/en/latest/advanced-usage.html#ssl-warnings\n",
      "  InsecureRequestWarning)\n",
      "/Users/nplattner/miniconda3/envs/AutoSearch/lib/python3.7/site-packages/urllib3/connectionpool.py:847: InsecureRequestWarning: Unverified HTTPS request is being made. Adding certificate verification is strongly advised. See: https://urllib3.readthedocs.io/en/latest/advanced-usage.html#ssl-warnings\n",
      "  InsecureRequestWarning)\n",
      "/Users/nplattner/miniconda3/envs/AutoSearch/lib/python3.7/site-packages/urllib3/connectionpool.py:847: InsecureRequestWarning: Unverified HTTPS request is being made. Adding certificate verification is strongly advised. See: https://urllib3.readthedocs.io/en/latest/advanced-usage.html#ssl-warnings\n",
      "  InsecureRequestWarning)\n",
      "/Users/nplattner/miniconda3/envs/AutoSearch/lib/python3.7/site-packages/urllib3/connectionpool.py:847: InsecureRequestWarning: Unverified HTTPS request is being made. Adding certificate verification is strongly advised. See: https://urllib3.readthedocs.io/en/latest/advanced-usage.html#ssl-warnings\n",
      "  InsecureRequestWarning)\n",
      "/Users/nplattner/miniconda3/envs/AutoSearch/lib/python3.7/site-packages/urllib3/connectionpool.py:847: InsecureRequestWarning: Unverified HTTPS request is being made. Adding certificate verification is strongly advised. See: https://urllib3.readthedocs.io/en/latest/advanced-usage.html#ssl-warnings\n",
      "  InsecureRequestWarning)\n",
      "/Users/nplattner/miniconda3/envs/AutoSearch/lib/python3.7/site-packages/urllib3/connectionpool.py:847: InsecureRequestWarning: Unverified HTTPS request is being made. Adding certificate verification is strongly advised. See: https://urllib3.readthedocs.io/en/latest/advanced-usage.html#ssl-warnings\n",
      "  InsecureRequestWarning)\n",
      "/Users/nplattner/miniconda3/envs/AutoSearch/lib/python3.7/site-packages/urllib3/connectionpool.py:847: InsecureRequestWarning: Unverified HTTPS request is being made. Adding certificate verification is strongly advised. See: https://urllib3.readthedocs.io/en/latest/advanced-usage.html#ssl-warnings\n",
      "  InsecureRequestWarning)\n",
      "/Users/nplattner/miniconda3/envs/AutoSearch/lib/python3.7/site-packages/urllib3/connectionpool.py:847: InsecureRequestWarning: Unverified HTTPS request is being made. Adding certificate verification is strongly advised. See: https://urllib3.readthedocs.io/en/latest/advanced-usage.html#ssl-warnings\n",
      "  InsecureRequestWarning)\n",
      "/Users/nplattner/miniconda3/envs/AutoSearch/lib/python3.7/site-packages/urllib3/connectionpool.py:847: InsecureRequestWarning: Unverified HTTPS request is being made. Adding certificate verification is strongly advised. See: https://urllib3.readthedocs.io/en/latest/advanced-usage.html#ssl-warnings\n",
      "  InsecureRequestWarning)\n",
      "/Users/nplattner/miniconda3/envs/AutoSearch/lib/python3.7/site-packages/urllib3/connectionpool.py:847: InsecureRequestWarning: Unverified HTTPS request is being made. Adding certificate verification is strongly advised. See: https://urllib3.readthedocs.io/en/latest/advanced-usage.html#ssl-warnings\n",
      "  InsecureRequestWarning)\n",
      "/Users/nplattner/miniconda3/envs/AutoSearch/lib/python3.7/site-packages/urllib3/connectionpool.py:847: InsecureRequestWarning: Unverified HTTPS request is being made. Adding certificate verification is strongly advised. See: https://urllib3.readthedocs.io/en/latest/advanced-usage.html#ssl-warnings\n",
      "  InsecureRequestWarning)\n",
      "/Users/nplattner/miniconda3/envs/AutoSearch/lib/python3.7/site-packages/urllib3/connectionpool.py:847: InsecureRequestWarning: Unverified HTTPS request is being made. Adding certificate verification is strongly advised. See: https://urllib3.readthedocs.io/en/latest/advanced-usage.html#ssl-warnings\n",
      "  InsecureRequestWarning)\n",
      "/Users/nplattner/miniconda3/envs/AutoSearch/lib/python3.7/site-packages/urllib3/connectionpool.py:847: InsecureRequestWarning: Unverified HTTPS request is being made. Adding certificate verification is strongly advised. See: https://urllib3.readthedocs.io/en/latest/advanced-usage.html#ssl-warnings\n",
      "  InsecureRequestWarning)\n",
      "/Users/nplattner/miniconda3/envs/AutoSearch/lib/python3.7/site-packages/urllib3/connectionpool.py:847: InsecureRequestWarning: Unverified HTTPS request is being made. Adding certificate verification is strongly advised. See: https://urllib3.readthedocs.io/en/latest/advanced-usage.html#ssl-warnings\n",
      "  InsecureRequestWarning)\n",
      "/Users/nplattner/miniconda3/envs/AutoSearch/lib/python3.7/site-packages/urllib3/connectionpool.py:847: InsecureRequestWarning: Unverified HTTPS request is being made. Adding certificate verification is strongly advised. See: https://urllib3.readthedocs.io/en/latest/advanced-usage.html#ssl-warnings\n",
      "  InsecureRequestWarning)\n",
      "/Users/nplattner/miniconda3/envs/AutoSearch/lib/python3.7/site-packages/urllib3/connectionpool.py:847: InsecureRequestWarning: Unverified HTTPS request is being made. Adding certificate verification is strongly advised. See: https://urllib3.readthedocs.io/en/latest/advanced-usage.html#ssl-warnings\n",
      "  InsecureRequestWarning)\n",
      "/Users/nplattner/miniconda3/envs/AutoSearch/lib/python3.7/site-packages/urllib3/connectionpool.py:847: InsecureRequestWarning: Unverified HTTPS request is being made. Adding certificate verification is strongly advised. See: https://urllib3.readthedocs.io/en/latest/advanced-usage.html#ssl-warnings\n",
      "  InsecureRequestWarning)\n"
     ]
    },
    {
     "name": "stderr",
     "output_type": "stream",
     "text": [
      "/Users/nplattner/miniconda3/envs/AutoSearch/lib/python3.7/site-packages/urllib3/connectionpool.py:847: InsecureRequestWarning: Unverified HTTPS request is being made. Adding certificate verification is strongly advised. See: https://urllib3.readthedocs.io/en/latest/advanced-usage.html#ssl-warnings\n",
      "  InsecureRequestWarning)\n",
      "/Users/nplattner/miniconda3/envs/AutoSearch/lib/python3.7/site-packages/urllib3/connectionpool.py:847: InsecureRequestWarning: Unverified HTTPS request is being made. Adding certificate verification is strongly advised. See: https://urllib3.readthedocs.io/en/latest/advanced-usage.html#ssl-warnings\n",
      "  InsecureRequestWarning)\n",
      "/Users/nplattner/miniconda3/envs/AutoSearch/lib/python3.7/site-packages/urllib3/connectionpool.py:847: InsecureRequestWarning: Unverified HTTPS request is being made. Adding certificate verification is strongly advised. See: https://urllib3.readthedocs.io/en/latest/advanced-usage.html#ssl-warnings\n",
      "  InsecureRequestWarning)\n",
      "/Users/nplattner/miniconda3/envs/AutoSearch/lib/python3.7/site-packages/urllib3/connectionpool.py:847: InsecureRequestWarning: Unverified HTTPS request is being made. Adding certificate verification is strongly advised. See: https://urllib3.readthedocs.io/en/latest/advanced-usage.html#ssl-warnings\n",
      "  InsecureRequestWarning)\n",
      "/Users/nplattner/miniconda3/envs/AutoSearch/lib/python3.7/site-packages/urllib3/connectionpool.py:847: InsecureRequestWarning: Unverified HTTPS request is being made. Adding certificate verification is strongly advised. See: https://urllib3.readthedocs.io/en/latest/advanced-usage.html#ssl-warnings\n",
      "  InsecureRequestWarning)\n",
      "/Users/nplattner/miniconda3/envs/AutoSearch/lib/python3.7/site-packages/urllib3/connectionpool.py:847: InsecureRequestWarning: Unverified HTTPS request is being made. Adding certificate verification is strongly advised. See: https://urllib3.readthedocs.io/en/latest/advanced-usage.html#ssl-warnings\n",
      "  InsecureRequestWarning)\n",
      "/Users/nplattner/miniconda3/envs/AutoSearch/lib/python3.7/site-packages/urllib3/connectionpool.py:847: InsecureRequestWarning: Unverified HTTPS request is being made. Adding certificate verification is strongly advised. See: https://urllib3.readthedocs.io/en/latest/advanced-usage.html#ssl-warnings\n",
      "  InsecureRequestWarning)\n",
      "/Users/nplattner/miniconda3/envs/AutoSearch/lib/python3.7/site-packages/urllib3/connectionpool.py:847: InsecureRequestWarning: Unverified HTTPS request is being made. Adding certificate verification is strongly advised. See: https://urllib3.readthedocs.io/en/latest/advanced-usage.html#ssl-warnings\n",
      "  InsecureRequestWarning)\n",
      "/Users/nplattner/miniconda3/envs/AutoSearch/lib/python3.7/site-packages/urllib3/connectionpool.py:847: InsecureRequestWarning: Unverified HTTPS request is being made. Adding certificate verification is strongly advised. See: https://urllib3.readthedocs.io/en/latest/advanced-usage.html#ssl-warnings\n",
      "  InsecureRequestWarning)\n",
      "/Users/nplattner/miniconda3/envs/AutoSearch/lib/python3.7/site-packages/urllib3/connectionpool.py:847: InsecureRequestWarning: Unverified HTTPS request is being made. Adding certificate verification is strongly advised. See: https://urllib3.readthedocs.io/en/latest/advanced-usage.html#ssl-warnings\n",
      "  InsecureRequestWarning)\n",
      "/Users/nplattner/miniconda3/envs/AutoSearch/lib/python3.7/site-packages/urllib3/connectionpool.py:847: InsecureRequestWarning: Unverified HTTPS request is being made. Adding certificate verification is strongly advised. See: https://urllib3.readthedocs.io/en/latest/advanced-usage.html#ssl-warnings\n",
      "  InsecureRequestWarning)\n",
      "/Users/nplattner/miniconda3/envs/AutoSearch/lib/python3.7/site-packages/urllib3/connectionpool.py:847: InsecureRequestWarning: Unverified HTTPS request is being made. Adding certificate verification is strongly advised. See: https://urllib3.readthedocs.io/en/latest/advanced-usage.html#ssl-warnings\n",
      "  InsecureRequestWarning)\n",
      "/Users/nplattner/miniconda3/envs/AutoSearch/lib/python3.7/site-packages/urllib3/connectionpool.py:847: InsecureRequestWarning: Unverified HTTPS request is being made. Adding certificate verification is strongly advised. See: https://urllib3.readthedocs.io/en/latest/advanced-usage.html#ssl-warnings\n",
      "  InsecureRequestWarning)\n",
      "/Users/nplattner/miniconda3/envs/AutoSearch/lib/python3.7/site-packages/urllib3/connectionpool.py:847: InsecureRequestWarning: Unverified HTTPS request is being made. Adding certificate verification is strongly advised. See: https://urllib3.readthedocs.io/en/latest/advanced-usage.html#ssl-warnings\n",
      "  InsecureRequestWarning)\n",
      "/Users/nplattner/miniconda3/envs/AutoSearch/lib/python3.7/site-packages/urllib3/connectionpool.py:847: InsecureRequestWarning: Unverified HTTPS request is being made. Adding certificate verification is strongly advised. See: https://urllib3.readthedocs.io/en/latest/advanced-usage.html#ssl-warnings\n",
      "  InsecureRequestWarning)\n",
      "/Users/nplattner/miniconda3/envs/AutoSearch/lib/python3.7/site-packages/urllib3/connectionpool.py:847: InsecureRequestWarning: Unverified HTTPS request is being made. Adding certificate verification is strongly advised. See: https://urllib3.readthedocs.io/en/latest/advanced-usage.html#ssl-warnings\n",
      "  InsecureRequestWarning)\n",
      "/Users/nplattner/miniconda3/envs/AutoSearch/lib/python3.7/site-packages/urllib3/connectionpool.py:847: InsecureRequestWarning: Unverified HTTPS request is being made. Adding certificate verification is strongly advised. See: https://urllib3.readthedocs.io/en/latest/advanced-usage.html#ssl-warnings\n",
      "  InsecureRequestWarning)\n",
      "/Users/nplattner/miniconda3/envs/AutoSearch/lib/python3.7/site-packages/urllib3/connectionpool.py:847: InsecureRequestWarning: Unverified HTTPS request is being made. Adding certificate verification is strongly advised. See: https://urllib3.readthedocs.io/en/latest/advanced-usage.html#ssl-warnings\n",
      "  InsecureRequestWarning)\n",
      "/Users/nplattner/miniconda3/envs/AutoSearch/lib/python3.7/site-packages/urllib3/connectionpool.py:847: InsecureRequestWarning: Unverified HTTPS request is being made. Adding certificate verification is strongly advised. See: https://urllib3.readthedocs.io/en/latest/advanced-usage.html#ssl-warnings\n",
      "  InsecureRequestWarning)\n",
      "/Users/nplattner/miniconda3/envs/AutoSearch/lib/python3.7/site-packages/urllib3/connectionpool.py:847: InsecureRequestWarning: Unverified HTTPS request is being made. Adding certificate verification is strongly advised. See: https://urllib3.readthedocs.io/en/latest/advanced-usage.html#ssl-warnings\n",
      "  InsecureRequestWarning)\n",
      "/Users/nplattner/miniconda3/envs/AutoSearch/lib/python3.7/site-packages/urllib3/connectionpool.py:847: InsecureRequestWarning: Unverified HTTPS request is being made. Adding certificate verification is strongly advised. See: https://urllib3.readthedocs.io/en/latest/advanced-usage.html#ssl-warnings\n",
      "  InsecureRequestWarning)\n",
      "/Users/nplattner/miniconda3/envs/AutoSearch/lib/python3.7/site-packages/urllib3/connectionpool.py:847: InsecureRequestWarning: Unverified HTTPS request is being made. Adding certificate verification is strongly advised. See: https://urllib3.readthedocs.io/en/latest/advanced-usage.html#ssl-warnings\n",
      "  InsecureRequestWarning)\n",
      "/Users/nplattner/miniconda3/envs/AutoSearch/lib/python3.7/site-packages/urllib3/connectionpool.py:847: InsecureRequestWarning: Unverified HTTPS request is being made. Adding certificate verification is strongly advised. See: https://urllib3.readthedocs.io/en/latest/advanced-usage.html#ssl-warnings\n",
      "  InsecureRequestWarning)\n",
      "/Users/nplattner/miniconda3/envs/AutoSearch/lib/python3.7/site-packages/urllib3/connectionpool.py:847: InsecureRequestWarning: Unverified HTTPS request is being made. Adding certificate verification is strongly advised. See: https://urllib3.readthedocs.io/en/latest/advanced-usage.html#ssl-warnings\n",
      "  InsecureRequestWarning)\n",
      "/Users/nplattner/miniconda3/envs/AutoSearch/lib/python3.7/site-packages/urllib3/connectionpool.py:847: InsecureRequestWarning: Unverified HTTPS request is being made. Adding certificate verification is strongly advised. See: https://urllib3.readthedocs.io/en/latest/advanced-usage.html#ssl-warnings\n",
      "  InsecureRequestWarning)\n",
      "/Users/nplattner/miniconda3/envs/AutoSearch/lib/python3.7/site-packages/urllib3/connectionpool.py:847: InsecureRequestWarning: Unverified HTTPS request is being made. Adding certificate verification is strongly advised. See: https://urllib3.readthedocs.io/en/latest/advanced-usage.html#ssl-warnings\n",
      "  InsecureRequestWarning)\n"
     ]
    }
   ],
   "source": [
    "## Download loop: here we download all the files for the given year\n",
    "for num in range(len(new_list)):\n",
    "    filename = os.path.join(folder,(str(new_list[num][0])+'.png'))\n",
    "    http = urllib3.PoolManager()\n",
    "    c = urllib3.PoolManager()\n",
    "\n",
    "    with c.request('GET',pictures[num], preload_content=False) as resp, open(filename, 'wb') as out_file:\n",
    "        shutil.copyfileobj(resp, out_file)\n",
    "\n",
    "    resp.release_conn()  "
   ]
  },
  {
   "cell_type": "code",
   "execution_count": null,
   "metadata": {},
   "outputs": [],
   "source": []
  },
  {
   "cell_type": "code",
   "execution_count": null,
   "metadata": {},
   "outputs": [],
   "source": []
  }
 ],
 "metadata": {
  "kernelspec": {
   "display_name": "Python 3",
   "language": "python",
   "name": "python3"
  },
  "language_info": {
   "codemirror_mode": {
    "name": "ipython",
    "version": 3
   },
   "file_extension": ".py",
   "mimetype": "text/x-python",
   "name": "python",
   "nbconvert_exporter": "python",
   "pygments_lexer": "ipython3",
   "version": "3.7.1"
  }
 },
 "nbformat": 4,
 "nbformat_minor": 2
}
