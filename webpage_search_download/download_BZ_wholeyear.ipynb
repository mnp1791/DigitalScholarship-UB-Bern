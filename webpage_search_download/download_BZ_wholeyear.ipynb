{
 "cells": [
  {
   "cell_type": "markdown",
   "metadata": {},
   "source": [
    "# Download all pages for all issues of a given year from Bozner Zeitung\n",
    "\n",
    "--------------------------install specifically required packages-------------------------------------\n",
    "\n",
    "    conda install beautifulsoup4\n",
    "    conda install urllib3\n",
    "\n",
    "This is an example for how to download files from a complex webpage. This code relies havily on analyzing the structure of the given page, in this case the Tessmann digital archive. Therefore the code only works within this structure. If you want to download files from another webpage or archive, you need to analyze the structure of that page first, insert the different url-string-structures and follow the specific link-structure of the page. The tools and python packages used here are however very versatile, provide many more options and can therefore be used for a large range of webpages.\n",
    "\n",
    "The code below contains fields marked as 'testloop' and fields marked 'dataloop'. For just downloading the pages of a given year, testloops can be skipped. The testloops are the inner loops of the 'dataloop' fields, i.e. they download or get information about one specific issue. For modifying information and download loops, testloops can be used initially to check whether all changes are meaningful."
   ]
  },
  {
   "cell_type": "code",
   "execution_count": 1,
   "metadata": {},
   "outputs": [],
   "source": [
    "import shutil"
   ]
  },
  {
   "cell_type": "code",
   "execution_count": 2,
   "metadata": {},
   "outputs": [],
   "source": [
    "import re, os"
   ]
  },
  {
   "cell_type": "code",
   "execution_count": 3,
   "metadata": {},
   "outputs": [],
   "source": [
    "import numpy as np"
   ]
  },
  {
   "cell_type": "code",
   "execution_count": 4,
   "metadata": {},
   "outputs": [],
   "source": [
    "import urllib3\n",
    "from bs4 import BeautifulSoup"
   ]
  },
  {
   "cell_type": "markdown",
   "metadata": {},
   "source": [
    "## First we look at the journal startpage and get a list of available years\n",
    "\n",
    "it contains the dates for all the years"
   ]
  },
  {
   "cell_type": "code",
   "execution_count": 5,
   "metadata": {},
   "outputs": [],
   "source": [
    "# this url needs to be provided\n",
    "start_url = 'https://digital.tessmann.it/tessmannDigital/Zeitungsarchiv/Jahresuebersicht/Zeitung/2'"
   ]
  },
  {
   "cell_type": "code",
   "execution_count": 6,
   "metadata": {},
   "outputs": [],
   "source": [
    "http = urllib3.PoolManager()"
   ]
  },
  {
   "cell_type": "code",
   "execution_count": 7,
   "metadata": {},
   "outputs": [
    {
     "name": "stderr",
     "output_type": "stream",
     "text": [
      "/Users/nplattner/miniconda3/envs/AutoSearch/lib/python3.7/site-packages/urllib3/connectionpool.py:847: InsecureRequestWarning: Unverified HTTPS request is being made. Adding certificate verification is strongly advised. See: https://urllib3.readthedocs.io/en/latest/advanced-usage.html#ssl-warnings\n",
      "  InsecureRequestWarning)\n"
     ]
    }
   ],
   "source": [
    "response = http.request('GET', start_url)"
   ]
  },
  {
   "cell_type": "code",
   "execution_count": 8,
   "metadata": {},
   "outputs": [],
   "source": [
    "soup = BeautifulSoup(response.data)"
   ]
  },
  {
   "cell_type": "code",
   "execution_count": 9,
   "metadata": {
    "scrolled": true
   },
   "outputs": [],
   "source": [
    "# find lists in HTML\n",
    "ylist = soup.find_all('ul')\n",
    "ylist2 = ylist[2]\n",
    "#print(ylist2.text)"
   ]
  },
  {
   "cell_type": "markdown",
   "metadata": {},
   "source": [
    "Now we generate a list with all links to the month overview (starting page) for each year.\n",
    "For this we need to know the page structure of the month overview, which is inserted in the 'adr_string'-variable."
   ]
  },
  {
   "cell_type": "code",
   "execution_count": 10,
   "metadata": {},
   "outputs": [],
   "source": [
    "adr_string = 'https://digital.tessmann.it/tessmannDigital/Zeitungsarchiv/Monatsuebersicht/Zeitung/2/'\n",
    "year_link = []\n",
    "splitlist = ylist2.text.split('\\n')\n",
    "for item in splitlist:\n",
    "    if item.startswith('1'):\n",
    "        adr = adr_string+item\n",
    "        year_link.append(adr)"
   ]
  },
  {
   "cell_type": "code",
   "execution_count": 11,
   "metadata": {
    "scrolled": true
   },
   "outputs": [
    {
     "name": "stdout",
     "output_type": "stream",
     "text": [
      "1842 https://digital.tessmann.it/tessmannDigital/Zeitungsarchiv/Monatsuebersicht/Zeitung/2/1842\n",
      "1843 https://digital.tessmann.it/tessmannDigital/Zeitungsarchiv/Monatsuebersicht/Zeitung/2/1843\n",
      "1844 https://digital.tessmann.it/tessmannDigital/Zeitungsarchiv/Monatsuebersicht/Zeitung/2/1844\n",
      "1845 https://digital.tessmann.it/tessmannDigital/Zeitungsarchiv/Monatsuebersicht/Zeitung/2/1845\n",
      "1846 https://digital.tessmann.it/tessmannDigital/Zeitungsarchiv/Monatsuebersicht/Zeitung/2/1846\n",
      "1847 https://digital.tessmann.it/tessmannDigital/Zeitungsarchiv/Monatsuebersicht/Zeitung/2/1847\n",
      "1848 https://digital.tessmann.it/tessmannDigital/Zeitungsarchiv/Monatsuebersicht/Zeitung/2/1848\n",
      "1849 https://digital.tessmann.it/tessmannDigital/Zeitungsarchiv/Monatsuebersicht/Zeitung/2/1849\n",
      "1850 https://digital.tessmann.it/tessmannDigital/Zeitungsarchiv/Monatsuebersicht/Zeitung/2/1850\n",
      "1851 https://digital.tessmann.it/tessmannDigital/Zeitungsarchiv/Monatsuebersicht/Zeitung/2/1851\n",
      "1852 https://digital.tessmann.it/tessmannDigital/Zeitungsarchiv/Monatsuebersicht/Zeitung/2/1852\n",
      "1853 https://digital.tessmann.it/tessmannDigital/Zeitungsarchiv/Monatsuebersicht/Zeitung/2/1853\n",
      "1854 https://digital.tessmann.it/tessmannDigital/Zeitungsarchiv/Monatsuebersicht/Zeitung/2/1854\n",
      "1855 https://digital.tessmann.it/tessmannDigital/Zeitungsarchiv/Monatsuebersicht/Zeitung/2/1855\n",
      "1856 https://digital.tessmann.it/tessmannDigital/Zeitungsarchiv/Monatsuebersicht/Zeitung/2/1856\n",
      "1857 https://digital.tessmann.it/tessmannDigital/Zeitungsarchiv/Monatsuebersicht/Zeitung/2/1857\n",
      "1858 https://digital.tessmann.it/tessmannDigital/Zeitungsarchiv/Monatsuebersicht/Zeitung/2/1858\n",
      "1859 https://digital.tessmann.it/tessmannDigital/Zeitungsarchiv/Monatsuebersicht/Zeitung/2/1859\n",
      "1860 https://digital.tessmann.it/tessmannDigital/Zeitungsarchiv/Monatsuebersicht/Zeitung/2/1860\n",
      "1861 https://digital.tessmann.it/tessmannDigital/Zeitungsarchiv/Monatsuebersicht/Zeitung/2/1861\n",
      "1862 https://digital.tessmann.it/tessmannDigital/Zeitungsarchiv/Monatsuebersicht/Zeitung/2/1862\n",
      "1863 https://digital.tessmann.it/tessmannDigital/Zeitungsarchiv/Monatsuebersicht/Zeitung/2/1863\n",
      "1864 https://digital.tessmann.it/tessmannDigital/Zeitungsarchiv/Monatsuebersicht/Zeitung/2/1864\n",
      "1865 https://digital.tessmann.it/tessmannDigital/Zeitungsarchiv/Monatsuebersicht/Zeitung/2/1865\n",
      "1866 https://digital.tessmann.it/tessmannDigital/Zeitungsarchiv/Monatsuebersicht/Zeitung/2/1866\n",
      "1867 https://digital.tessmann.it/tessmannDigital/Zeitungsarchiv/Monatsuebersicht/Zeitung/2/1867\n",
      "1868 https://digital.tessmann.it/tessmannDigital/Zeitungsarchiv/Monatsuebersicht/Zeitung/2/1868\n",
      "1869 https://digital.tessmann.it/tessmannDigital/Zeitungsarchiv/Monatsuebersicht/Zeitung/2/1869\n",
      "1870 https://digital.tessmann.it/tessmannDigital/Zeitungsarchiv/Monatsuebersicht/Zeitung/2/1870\n",
      "1871 https://digital.tessmann.it/tessmannDigital/Zeitungsarchiv/Monatsuebersicht/Zeitung/2/1871\n",
      "1872 https://digital.tessmann.it/tessmannDigital/Zeitungsarchiv/Monatsuebersicht/Zeitung/2/1872\n",
      "1873 https://digital.tessmann.it/tessmannDigital/Zeitungsarchiv/Monatsuebersicht/Zeitung/2/1873\n",
      "1874 https://digital.tessmann.it/tessmannDigital/Zeitungsarchiv/Monatsuebersicht/Zeitung/2/1874\n",
      "1875 https://digital.tessmann.it/tessmannDigital/Zeitungsarchiv/Monatsuebersicht/Zeitung/2/1875\n",
      "1876 https://digital.tessmann.it/tessmannDigital/Zeitungsarchiv/Monatsuebersicht/Zeitung/2/1876\n",
      "1877 https://digital.tessmann.it/tessmannDigital/Zeitungsarchiv/Monatsuebersicht/Zeitung/2/1877\n",
      "1878 https://digital.tessmann.it/tessmannDigital/Zeitungsarchiv/Monatsuebersicht/Zeitung/2/1878\n",
      "1879 https://digital.tessmann.it/tessmannDigital/Zeitungsarchiv/Monatsuebersicht/Zeitung/2/1879\n",
      "1880 https://digital.tessmann.it/tessmannDigital/Zeitungsarchiv/Monatsuebersicht/Zeitung/2/1880\n",
      "1881 https://digital.tessmann.it/tessmannDigital/Zeitungsarchiv/Monatsuebersicht/Zeitung/2/1881\n",
      "1882 https://digital.tessmann.it/tessmannDigital/Zeitungsarchiv/Monatsuebersicht/Zeitung/2/1882\n",
      "1883 https://digital.tessmann.it/tessmannDigital/Zeitungsarchiv/Monatsuebersicht/Zeitung/2/1883\n",
      "1884 https://digital.tessmann.it/tessmannDigital/Zeitungsarchiv/Monatsuebersicht/Zeitung/2/1884\n",
      "1885 https://digital.tessmann.it/tessmannDigital/Zeitungsarchiv/Monatsuebersicht/Zeitung/2/1885\n",
      "1886 https://digital.tessmann.it/tessmannDigital/Zeitungsarchiv/Monatsuebersicht/Zeitung/2/1886\n",
      "1887 https://digital.tessmann.it/tessmannDigital/Zeitungsarchiv/Monatsuebersicht/Zeitung/2/1887\n",
      "1888 https://digital.tessmann.it/tessmannDigital/Zeitungsarchiv/Monatsuebersicht/Zeitung/2/1888\n",
      "1889 https://digital.tessmann.it/tessmannDigital/Zeitungsarchiv/Monatsuebersicht/Zeitung/2/1889\n",
      "1890 https://digital.tessmann.it/tessmannDigital/Zeitungsarchiv/Monatsuebersicht/Zeitung/2/1890\n",
      "1891 https://digital.tessmann.it/tessmannDigital/Zeitungsarchiv/Monatsuebersicht/Zeitung/2/1891\n",
      "1892 https://digital.tessmann.it/tessmannDigital/Zeitungsarchiv/Monatsuebersicht/Zeitung/2/1892\n",
      "1893 https://digital.tessmann.it/tessmannDigital/Zeitungsarchiv/Monatsuebersicht/Zeitung/2/1893\n",
      "1894 https://digital.tessmann.it/tessmannDigital/Zeitungsarchiv/Monatsuebersicht/Zeitung/2/1894\n",
      "1895 https://digital.tessmann.it/tessmannDigital/Zeitungsarchiv/Monatsuebersicht/Zeitung/2/1895\n",
      "1896 https://digital.tessmann.it/tessmannDigital/Zeitungsarchiv/Monatsuebersicht/Zeitung/2/1896\n",
      "1897 https://digital.tessmann.it/tessmannDigital/Zeitungsarchiv/Monatsuebersicht/Zeitung/2/1897\n",
      "1898 https://digital.tessmann.it/tessmannDigital/Zeitungsarchiv/Monatsuebersicht/Zeitung/2/1898\n",
      "1899 https://digital.tessmann.it/tessmannDigital/Zeitungsarchiv/Monatsuebersicht/Zeitung/2/1899\n",
      "1900 https://digital.tessmann.it/tessmannDigital/Zeitungsarchiv/Monatsuebersicht/Zeitung/2/1900\n",
      "1901 https://digital.tessmann.it/tessmannDigital/Zeitungsarchiv/Monatsuebersicht/Zeitung/2/1901\n",
      "1902 https://digital.tessmann.it/tessmannDigital/Zeitungsarchiv/Monatsuebersicht/Zeitung/2/1902\n",
      "1903 https://digital.tessmann.it/tessmannDigital/Zeitungsarchiv/Monatsuebersicht/Zeitung/2/1903\n",
      "1904 https://digital.tessmann.it/tessmannDigital/Zeitungsarchiv/Monatsuebersicht/Zeitung/2/1904\n",
      "1905 https://digital.tessmann.it/tessmannDigital/Zeitungsarchiv/Monatsuebersicht/Zeitung/2/1905\n",
      "1906 https://digital.tessmann.it/tessmannDigital/Zeitungsarchiv/Monatsuebersicht/Zeitung/2/1906\n",
      "1907 https://digital.tessmann.it/tessmannDigital/Zeitungsarchiv/Monatsuebersicht/Zeitung/2/1907\n",
      "1908 https://digital.tessmann.it/tessmannDigital/Zeitungsarchiv/Monatsuebersicht/Zeitung/2/1908\n",
      "1909 https://digital.tessmann.it/tessmannDigital/Zeitungsarchiv/Monatsuebersicht/Zeitung/2/1909\n",
      "1910 https://digital.tessmann.it/tessmannDigital/Zeitungsarchiv/Monatsuebersicht/Zeitung/2/1910\n",
      "1911 https://digital.tessmann.it/tessmannDigital/Zeitungsarchiv/Monatsuebersicht/Zeitung/2/1911\n",
      "1912 https://digital.tessmann.it/tessmannDigital/Zeitungsarchiv/Monatsuebersicht/Zeitung/2/1912\n",
      "1913 https://digital.tessmann.it/tessmannDigital/Zeitungsarchiv/Monatsuebersicht/Zeitung/2/1913\n",
      "1914 https://digital.tessmann.it/tessmannDigital/Zeitungsarchiv/Monatsuebersicht/Zeitung/2/1914\n",
      "1915 https://digital.tessmann.it/tessmannDigital/Zeitungsarchiv/Monatsuebersicht/Zeitung/2/1915\n",
      "1916 https://digital.tessmann.it/tessmannDigital/Zeitungsarchiv/Monatsuebersicht/Zeitung/2/1916\n",
      "1917 https://digital.tessmann.it/tessmannDigital/Zeitungsarchiv/Monatsuebersicht/Zeitung/2/1917\n",
      "1918 https://digital.tessmann.it/tessmannDigital/Zeitungsarchiv/Monatsuebersicht/Zeitung/2/1918\n"
     ]
    }
   ],
   "source": [
    "# generate starting page for each year\n",
    "year_list = []\n",
    "for num in range(len(year_link)):\n",
    "    lsplit = year_link[num].split('/')\n",
    "    year = lsplit[len(lsplit)-1]\n",
    "    print (year, year_link[num])\n",
    "    year_list.append(year)"
   ]
  },
  {
   "cell_type": "markdown",
   "metadata": {},
   "source": [
    "# Now we select a given year from the list and download the pictures\n",
    "\n",
    "We could also loop over all the years, but in order to keep things simple we just download one year at the time. The year is selected by the year index below."
   ]
  },
  {
   "cell_type": "code",
   "execution_count": 12,
   "metadata": {},
   "outputs": [
    {
     "name": "stdout",
     "output_type": "stream",
     "text": [
      "year =  1845\n"
     ]
    },
    {
     "data": {
      "text/plain": [
       "'https://digital.tessmann.it/tessmannDigital/Zeitungsarchiv/Monatsuebersicht/Zeitung/2/1845'"
      ]
     },
     "execution_count": 12,
     "metadata": {},
     "output_type": "execute_result"
    }
   ],
   "source": [
    "# set year index\n",
    "year_index = 3\n",
    "print(\"year = \", year_list[year_index])\n",
    "month_url =  year_link[year_index]\n",
    "month_url"
   ]
  },
  {
   "cell_type": "code",
   "execution_count": 13,
   "metadata": {},
   "outputs": [
    {
     "name": "stderr",
     "output_type": "stream",
     "text": [
      "/Users/nplattner/miniconda3/envs/AutoSearch/lib/python3.7/site-packages/urllib3/connectionpool.py:847: InsecureRequestWarning: Unverified HTTPS request is being made. Adding certificate verification is strongly advised. See: https://urllib3.readthedocs.io/en/latest/advanced-usage.html#ssl-warnings\n",
      "  InsecureRequestWarning)\n"
     ]
    }
   ],
   "source": [
    "# get page data\n",
    "http = urllib3.PoolManager()\n",
    "response = http.request('GET', month_url)"
   ]
  },
  {
   "cell_type": "code",
   "execution_count": 14,
   "metadata": {},
   "outputs": [],
   "source": [
    "# analyze with beautiful soup\n",
    "soup = BeautifulSoup(response.data)"
   ]
  },
  {
   "cell_type": "code",
   "execution_count": 15,
   "metadata": {},
   "outputs": [],
   "source": [
    "# you can search for specific tags in page\n",
    "l1 = soup.find_all('a')"
   ]
  },
  {
   "cell_type": "code",
   "execution_count": 16,
   "metadata": {},
   "outputs": [
    {
     "data": {
      "text/plain": [
       "['<a href',\n",
       " '\"/tessmannDigital/Zeitungsarchiv/Tagesausgabe/Zeitung/2/24.01.1845\">24</a>']"
      ]
     },
     "execution_count": 16,
     "metadata": {},
     "output_type": "execute_result"
    }
   ],
   "source": [
    "# from the tag list we can get the links to different issues\n",
    "example = str(l1[20])\n",
    "example.split('=')"
   ]
  },
  {
   "cell_type": "markdown",
   "metadata": {},
   "source": [
    "Now we generate a list with the adresses of all issues.\n",
    "For generating the complete links the first part of the address needs to be provided as adr_string2."
   ]
  },
  {
   "cell_type": "code",
   "execution_count": 17,
   "metadata": {},
   "outputs": [],
   "source": [
    "adr_string2 = 'https://digital.tessmann.it'\n",
    "datelist = []\n",
    "linklist = []\n",
    "for item in l1:\n",
    "    splititem = str(item).split('=')\n",
    "    if 'Tagesausgabe' in splititem[1]:\n",
    "        split2 = splititem[1].split('>')\n",
    "        split3 = split2[0].split('/')\n",
    "        split4 = split3[6].split('\"')\n",
    "        datelist.append(split4[0])\n",
    "        lsplit = split2[0].split(('\"'))\n",
    "        linklist.append(adr_string2+str(lsplit[1]))"
   ]
  },
  {
   "cell_type": "code",
   "execution_count": 18,
   "metadata": {
    "scrolled": true
   },
   "outputs": [
    {
     "name": "stdout",
     "output_type": "stream",
     "text": [
      "03.01.1845 https://digital.tessmann.it/tessmannDigital/Zeitungsarchiv/Tagesausgabe/Zeitung/2/03.01.1845\n",
      "10.01.1845 https://digital.tessmann.it/tessmannDigital/Zeitungsarchiv/Tagesausgabe/Zeitung/2/10.01.1845\n",
      "17.01.1845 https://digital.tessmann.it/tessmannDigital/Zeitungsarchiv/Tagesausgabe/Zeitung/2/17.01.1845\n",
      "24.01.1845 https://digital.tessmann.it/tessmannDigital/Zeitungsarchiv/Tagesausgabe/Zeitung/2/24.01.1845\n",
      "31.01.1845 https://digital.tessmann.it/tessmannDigital/Zeitungsarchiv/Tagesausgabe/Zeitung/2/31.01.1845\n",
      "07.02.1845 https://digital.tessmann.it/tessmannDigital/Zeitungsarchiv/Tagesausgabe/Zeitung/2/07.02.1845\n",
      "14.02.1845 https://digital.tessmann.it/tessmannDigital/Zeitungsarchiv/Tagesausgabe/Zeitung/2/14.02.1845\n",
      "21.02.1845 https://digital.tessmann.it/tessmannDigital/Zeitungsarchiv/Tagesausgabe/Zeitung/2/21.02.1845\n",
      "28.02.1845 https://digital.tessmann.it/tessmannDigital/Zeitungsarchiv/Tagesausgabe/Zeitung/2/28.02.1845\n",
      "07.03.1845 https://digital.tessmann.it/tessmannDigital/Zeitungsarchiv/Tagesausgabe/Zeitung/2/07.03.1845\n",
      "14.03.1845 https://digital.tessmann.it/tessmannDigital/Zeitungsarchiv/Tagesausgabe/Zeitung/2/14.03.1845\n",
      "21.03.1845 https://digital.tessmann.it/tessmannDigital/Zeitungsarchiv/Tagesausgabe/Zeitung/2/21.03.1845\n",
      "28.03.1845 https://digital.tessmann.it/tessmannDigital/Zeitungsarchiv/Tagesausgabe/Zeitung/2/28.03.1845\n",
      "04.04.1845 https://digital.tessmann.it/tessmannDigital/Zeitungsarchiv/Tagesausgabe/Zeitung/2/04.04.1845\n",
      "11.04.1845 https://digital.tessmann.it/tessmannDigital/Zeitungsarchiv/Tagesausgabe/Zeitung/2/11.04.1845\n",
      "18.04.1845 https://digital.tessmann.it/tessmannDigital/Zeitungsarchiv/Tagesausgabe/Zeitung/2/18.04.1845\n",
      "25.04.1845 https://digital.tessmann.it/tessmannDigital/Zeitungsarchiv/Tagesausgabe/Zeitung/2/25.04.1845\n",
      "02.05.1845 https://digital.tessmann.it/tessmannDigital/Zeitungsarchiv/Tagesausgabe/Zeitung/2/02.05.1845\n",
      "09.05.1845 https://digital.tessmann.it/tessmannDigital/Zeitungsarchiv/Tagesausgabe/Zeitung/2/09.05.1845\n",
      "16.05.1845 https://digital.tessmann.it/tessmannDigital/Zeitungsarchiv/Tagesausgabe/Zeitung/2/16.05.1845\n",
      "23.05.1845 https://digital.tessmann.it/tessmannDigital/Zeitungsarchiv/Tagesausgabe/Zeitung/2/23.05.1845\n",
      "30.05.1845 https://digital.tessmann.it/tessmannDigital/Zeitungsarchiv/Tagesausgabe/Zeitung/2/30.05.1845\n",
      "06.06.1845 https://digital.tessmann.it/tessmannDigital/Zeitungsarchiv/Tagesausgabe/Zeitung/2/06.06.1845\n",
      "13.06.1845 https://digital.tessmann.it/tessmannDigital/Zeitungsarchiv/Tagesausgabe/Zeitung/2/13.06.1845\n",
      "20.06.1845 https://digital.tessmann.it/tessmannDigital/Zeitungsarchiv/Tagesausgabe/Zeitung/2/20.06.1845\n",
      "27.06.1845 https://digital.tessmann.it/tessmannDigital/Zeitungsarchiv/Tagesausgabe/Zeitung/2/27.06.1845\n",
      "04.07.1845 https://digital.tessmann.it/tessmannDigital/Zeitungsarchiv/Tagesausgabe/Zeitung/2/04.07.1845\n",
      "11.07.1845 https://digital.tessmann.it/tessmannDigital/Zeitungsarchiv/Tagesausgabe/Zeitung/2/11.07.1845\n",
      "18.07.1845 https://digital.tessmann.it/tessmannDigital/Zeitungsarchiv/Tagesausgabe/Zeitung/2/18.07.1845\n",
      "25.07.1845 https://digital.tessmann.it/tessmannDigital/Zeitungsarchiv/Tagesausgabe/Zeitung/2/25.07.1845\n",
      "01.08.1845 https://digital.tessmann.it/tessmannDigital/Zeitungsarchiv/Tagesausgabe/Zeitung/2/01.08.1845\n",
      "08.08.1845 https://digital.tessmann.it/tessmannDigital/Zeitungsarchiv/Tagesausgabe/Zeitung/2/08.08.1845\n",
      "15.08.1845 https://digital.tessmann.it/tessmannDigital/Zeitungsarchiv/Tagesausgabe/Zeitung/2/15.08.1845\n",
      "22.08.1845 https://digital.tessmann.it/tessmannDigital/Zeitungsarchiv/Tagesausgabe/Zeitung/2/22.08.1845\n",
      "29.08.1845 https://digital.tessmann.it/tessmannDigital/Zeitungsarchiv/Tagesausgabe/Zeitung/2/29.08.1845\n",
      "05.09.1845 https://digital.tessmann.it/tessmannDigital/Zeitungsarchiv/Tagesausgabe/Zeitung/2/05.09.1845\n",
      "12.09.1845 https://digital.tessmann.it/tessmannDigital/Zeitungsarchiv/Tagesausgabe/Zeitung/2/12.09.1845\n",
      "19.09.1845 https://digital.tessmann.it/tessmannDigital/Zeitungsarchiv/Tagesausgabe/Zeitung/2/19.09.1845\n",
      "03.10.1845 https://digital.tessmann.it/tessmannDigital/Zeitungsarchiv/Tagesausgabe/Zeitung/2/03.10.1845\n",
      "10.10.1845 https://digital.tessmann.it/tessmannDigital/Zeitungsarchiv/Tagesausgabe/Zeitung/2/10.10.1845\n",
      "17.10.1845 https://digital.tessmann.it/tessmannDigital/Zeitungsarchiv/Tagesausgabe/Zeitung/2/17.10.1845\n",
      "24.10.1845 https://digital.tessmann.it/tessmannDigital/Zeitungsarchiv/Tagesausgabe/Zeitung/2/24.10.1845\n",
      "31.10.1845 https://digital.tessmann.it/tessmannDigital/Zeitungsarchiv/Tagesausgabe/Zeitung/2/31.10.1845\n",
      "07.11.1845 https://digital.tessmann.it/tessmannDigital/Zeitungsarchiv/Tagesausgabe/Zeitung/2/07.11.1845\n",
      "14.11.1845 https://digital.tessmann.it/tessmannDigital/Zeitungsarchiv/Tagesausgabe/Zeitung/2/14.11.1845\n",
      "21.11.1845 https://digital.tessmann.it/tessmannDigital/Zeitungsarchiv/Tagesausgabe/Zeitung/2/21.11.1845\n",
      "28.11.1845 https://digital.tessmann.it/tessmannDigital/Zeitungsarchiv/Tagesausgabe/Zeitung/2/28.11.1845\n",
      "05.12.1845 https://digital.tessmann.it/tessmannDigital/Zeitungsarchiv/Tagesausgabe/Zeitung/2/05.12.1845\n",
      "12.12.1845 https://digital.tessmann.it/tessmannDigital/Zeitungsarchiv/Tagesausgabe/Zeitung/2/12.12.1845\n",
      "19.12.1845 https://digital.tessmann.it/tessmannDigital/Zeitungsarchiv/Tagesausgabe/Zeitung/2/19.12.1845\n",
      "26.12.1845 https://digital.tessmann.it/tessmannDigital/Zeitungsarchiv/Tagesausgabe/Zeitung/2/26.12.1845\n"
     ]
    }
   ],
   "source": [
    "# now we have a list of all available issues\n",
    "for num in range(len(datelist)):\n",
    "    print(datelist[num], linklist[num])"
   ]
  },
  {
   "cell_type": "markdown",
   "metadata": {},
   "source": [
    "### Access issue list\n",
    "\n",
    "We can now get information form the issue list"
   ]
  },
  {
   "cell_type": "code",
   "execution_count": 19,
   "metadata": {},
   "outputs": [
    {
     "name": "stdout",
     "output_type": "stream",
     "text": [
      "number of pages in this issue:  6\n",
      "['/tessmannDigital/Zeitungsarchiv/Seite/Zeitung/2/1/03.01.1845/19678/1', '/tessmannDigital/Zeitungsarchiv/Seite/Zeitung/2/1/03.01.1845/19678/2', '/tessmannDigital/Zeitungsarchiv/Seite/Zeitung/2/1/03.01.1845/19678/3', '/tessmannDigital/Zeitungsarchiv/Seite/Zeitung/2/1/03.01.1845/19678/4', '/tessmannDigital/Zeitungsarchiv/Seite/Zeitung/2/1/03.01.1845/19678/5', '/tessmannDigital/Zeitungsarchiv/Seite/Zeitung/2/1/03.01.1845/19678/6']\n"
     ]
    },
    {
     "name": "stderr",
     "output_type": "stream",
     "text": [
      "/Users/nplattner/miniconda3/envs/AutoSearch/lib/python3.7/site-packages/urllib3/connectionpool.py:847: InsecureRequestWarning: Unverified HTTPS request is being made. Adding certificate verification is strongly advised. See: https://urllib3.readthedocs.io/en/latest/advanced-usage.html#ssl-warnings\n",
      "  InsecureRequestWarning)\n"
     ]
    }
   ],
   "source": [
    "# testloop; this is for finding the required information, in this case an index number for the download link\n",
    "num = 0\n",
    "ind_list = []\n",
    "issue_url = linklist[num]\n",
    "http = urllib3.PoolManager()\n",
    "response = http.request('GET', issue_url)\n",
    "soup = BeautifulSoup(response.data)\n",
    "maxpage = 0 # initialize pagenr. to find maximum\n",
    "for item in soup.find_all('a'):\n",
    "    adress = item.attrs['href']\n",
    "    if adress.find('Seite') != -1 :\n",
    "        #print (adress)\n",
    "        split = adress.split('/')\n",
    "        oldmax = maxpage\n",
    "        newmax = int(split[(len(split)-1)])\n",
    "        if newmax > oldmax:\n",
    "            maxpage = newmax\n",
    "            ind_list.append(adress)\n",
    "print ('number of pages in this issue: ', maxpage)\n",
    "print (ind_list)"
   ]
  },
  {
   "cell_type": "code",
   "execution_count": 20,
   "metadata": {},
   "outputs": [
    {
     "name": "stderr",
     "output_type": "stream",
     "text": [
      "/Users/nplattner/miniconda3/envs/AutoSearch/lib/python3.7/site-packages/urllib3/connectionpool.py:847: InsecureRequestWarning: Unverified HTTPS request is being made. Adding certificate verification is strongly advised. See: https://urllib3.readthedocs.io/en/latest/advanced-usage.html#ssl-warnings\n",
      "  InsecureRequestWarning)\n",
      "/Users/nplattner/miniconda3/envs/AutoSearch/lib/python3.7/site-packages/urllib3/connectionpool.py:847: InsecureRequestWarning: Unverified HTTPS request is being made. Adding certificate verification is strongly advised. See: https://urllib3.readthedocs.io/en/latest/advanced-usage.html#ssl-warnings\n",
      "  InsecureRequestWarning)\n",
      "/Users/nplattner/miniconda3/envs/AutoSearch/lib/python3.7/site-packages/urllib3/connectionpool.py:847: InsecureRequestWarning: Unverified HTTPS request is being made. Adding certificate verification is strongly advised. See: https://urllib3.readthedocs.io/en/latest/advanced-usage.html#ssl-warnings\n",
      "  InsecureRequestWarning)\n",
      "/Users/nplattner/miniconda3/envs/AutoSearch/lib/python3.7/site-packages/urllib3/connectionpool.py:847: InsecureRequestWarning: Unverified HTTPS request is being made. Adding certificate verification is strongly advised. See: https://urllib3.readthedocs.io/en/latest/advanced-usage.html#ssl-warnings\n",
      "  InsecureRequestWarning)\n",
      "/Users/nplattner/miniconda3/envs/AutoSearch/lib/python3.7/site-packages/urllib3/connectionpool.py:847: InsecureRequestWarning: Unverified HTTPS request is being made. Adding certificate verification is strongly advised. See: https://urllib3.readthedocs.io/en/latest/advanced-usage.html#ssl-warnings\n",
      "  InsecureRequestWarning)\n",
      "/Users/nplattner/miniconda3/envs/AutoSearch/lib/python3.7/site-packages/urllib3/connectionpool.py:847: InsecureRequestWarning: Unverified HTTPS request is being made. Adding certificate verification is strongly advised. See: https://urllib3.readthedocs.io/en/latest/advanced-usage.html#ssl-warnings\n",
      "  InsecureRequestWarning)\n",
      "/Users/nplattner/miniconda3/envs/AutoSearch/lib/python3.7/site-packages/urllib3/connectionpool.py:847: InsecureRequestWarning: Unverified HTTPS request is being made. Adding certificate verification is strongly advised. See: https://urllib3.readthedocs.io/en/latest/advanced-usage.html#ssl-warnings\n",
      "  InsecureRequestWarning)\n",
      "/Users/nplattner/miniconda3/envs/AutoSearch/lib/python3.7/site-packages/urllib3/connectionpool.py:847: InsecureRequestWarning: Unverified HTTPS request is being made. Adding certificate verification is strongly advised. See: https://urllib3.readthedocs.io/en/latest/advanced-usage.html#ssl-warnings\n",
      "  InsecureRequestWarning)\n",
      "/Users/nplattner/miniconda3/envs/AutoSearch/lib/python3.7/site-packages/urllib3/connectionpool.py:847: InsecureRequestWarning: Unverified HTTPS request is being made. Adding certificate verification is strongly advised. See: https://urllib3.readthedocs.io/en/latest/advanced-usage.html#ssl-warnings\n",
      "  InsecureRequestWarning)\n",
      "/Users/nplattner/miniconda3/envs/AutoSearch/lib/python3.7/site-packages/urllib3/connectionpool.py:847: InsecureRequestWarning: Unverified HTTPS request is being made. Adding certificate verification is strongly advised. See: https://urllib3.readthedocs.io/en/latest/advanced-usage.html#ssl-warnings\n",
      "  InsecureRequestWarning)\n",
      "/Users/nplattner/miniconda3/envs/AutoSearch/lib/python3.7/site-packages/urllib3/connectionpool.py:847: InsecureRequestWarning: Unverified HTTPS request is being made. Adding certificate verification is strongly advised. See: https://urllib3.readthedocs.io/en/latest/advanced-usage.html#ssl-warnings\n",
      "  InsecureRequestWarning)\n",
      "/Users/nplattner/miniconda3/envs/AutoSearch/lib/python3.7/site-packages/urllib3/connectionpool.py:847: InsecureRequestWarning: Unverified HTTPS request is being made. Adding certificate verification is strongly advised. See: https://urllib3.readthedocs.io/en/latest/advanced-usage.html#ssl-warnings\n",
      "  InsecureRequestWarning)\n",
      "/Users/nplattner/miniconda3/envs/AutoSearch/lib/python3.7/site-packages/urllib3/connectionpool.py:847: InsecureRequestWarning: Unverified HTTPS request is being made. Adding certificate verification is strongly advised. See: https://urllib3.readthedocs.io/en/latest/advanced-usage.html#ssl-warnings\n",
      "  InsecureRequestWarning)\n",
      "/Users/nplattner/miniconda3/envs/AutoSearch/lib/python3.7/site-packages/urllib3/connectionpool.py:847: InsecureRequestWarning: Unverified HTTPS request is being made. Adding certificate verification is strongly advised. See: https://urllib3.readthedocs.io/en/latest/advanced-usage.html#ssl-warnings\n",
      "  InsecureRequestWarning)\n",
      "/Users/nplattner/miniconda3/envs/AutoSearch/lib/python3.7/site-packages/urllib3/connectionpool.py:847: InsecureRequestWarning: Unverified HTTPS request is being made. Adding certificate verification is strongly advised. See: https://urllib3.readthedocs.io/en/latest/advanced-usage.html#ssl-warnings\n",
      "  InsecureRequestWarning)\n",
      "/Users/nplattner/miniconda3/envs/AutoSearch/lib/python3.7/site-packages/urllib3/connectionpool.py:847: InsecureRequestWarning: Unverified HTTPS request is being made. Adding certificate verification is strongly advised. See: https://urllib3.readthedocs.io/en/latest/advanced-usage.html#ssl-warnings\n",
      "  InsecureRequestWarning)\n",
      "/Users/nplattner/miniconda3/envs/AutoSearch/lib/python3.7/site-packages/urllib3/connectionpool.py:847: InsecureRequestWarning: Unverified HTTPS request is being made. Adding certificate verification is strongly advised. See: https://urllib3.readthedocs.io/en/latest/advanced-usage.html#ssl-warnings\n",
      "  InsecureRequestWarning)\n",
      "/Users/nplattner/miniconda3/envs/AutoSearch/lib/python3.7/site-packages/urllib3/connectionpool.py:847: InsecureRequestWarning: Unverified HTTPS request is being made. Adding certificate verification is strongly advised. See: https://urllib3.readthedocs.io/en/latest/advanced-usage.html#ssl-warnings\n",
      "  InsecureRequestWarning)\n",
      "/Users/nplattner/miniconda3/envs/AutoSearch/lib/python3.7/site-packages/urllib3/connectionpool.py:847: InsecureRequestWarning: Unverified HTTPS request is being made. Adding certificate verification is strongly advised. See: https://urllib3.readthedocs.io/en/latest/advanced-usage.html#ssl-warnings\n",
      "  InsecureRequestWarning)\n",
      "/Users/nplattner/miniconda3/envs/AutoSearch/lib/python3.7/site-packages/urllib3/connectionpool.py:847: InsecureRequestWarning: Unverified HTTPS request is being made. Adding certificate verification is strongly advised. See: https://urllib3.readthedocs.io/en/latest/advanced-usage.html#ssl-warnings\n",
      "  InsecureRequestWarning)\n",
      "/Users/nplattner/miniconda3/envs/AutoSearch/lib/python3.7/site-packages/urllib3/connectionpool.py:847: InsecureRequestWarning: Unverified HTTPS request is being made. Adding certificate verification is strongly advised. See: https://urllib3.readthedocs.io/en/latest/advanced-usage.html#ssl-warnings\n",
      "  InsecureRequestWarning)\n",
      "/Users/nplattner/miniconda3/envs/AutoSearch/lib/python3.7/site-packages/urllib3/connectionpool.py:847: InsecureRequestWarning: Unverified HTTPS request is being made. Adding certificate verification is strongly advised. See: https://urllib3.readthedocs.io/en/latest/advanced-usage.html#ssl-warnings\n",
      "  InsecureRequestWarning)\n",
      "/Users/nplattner/miniconda3/envs/AutoSearch/lib/python3.7/site-packages/urllib3/connectionpool.py:847: InsecureRequestWarning: Unverified HTTPS request is being made. Adding certificate verification is strongly advised. See: https://urllib3.readthedocs.io/en/latest/advanced-usage.html#ssl-warnings\n",
      "  InsecureRequestWarning)\n",
      "/Users/nplattner/miniconda3/envs/AutoSearch/lib/python3.7/site-packages/urllib3/connectionpool.py:847: InsecureRequestWarning: Unverified HTTPS request is being made. Adding certificate verification is strongly advised. See: https://urllib3.readthedocs.io/en/latest/advanced-usage.html#ssl-warnings\n",
      "  InsecureRequestWarning)\n",
      "/Users/nplattner/miniconda3/envs/AutoSearch/lib/python3.7/site-packages/urllib3/connectionpool.py:847: InsecureRequestWarning: Unverified HTTPS request is being made. Adding certificate verification is strongly advised. See: https://urllib3.readthedocs.io/en/latest/advanced-usage.html#ssl-warnings\n",
      "  InsecureRequestWarning)\n",
      "/Users/nplattner/miniconda3/envs/AutoSearch/lib/python3.7/site-packages/urllib3/connectionpool.py:847: InsecureRequestWarning: Unverified HTTPS request is being made. Adding certificate verification is strongly advised. See: https://urllib3.readthedocs.io/en/latest/advanced-usage.html#ssl-warnings\n",
      "  InsecureRequestWarning)\n"
     ]
    },
    {
     "name": "stderr",
     "output_type": "stream",
     "text": [
      "/Users/nplattner/miniconda3/envs/AutoSearch/lib/python3.7/site-packages/urllib3/connectionpool.py:847: InsecureRequestWarning: Unverified HTTPS request is being made. Adding certificate verification is strongly advised. See: https://urllib3.readthedocs.io/en/latest/advanced-usage.html#ssl-warnings\n",
      "  InsecureRequestWarning)\n",
      "/Users/nplattner/miniconda3/envs/AutoSearch/lib/python3.7/site-packages/urllib3/connectionpool.py:847: InsecureRequestWarning: Unverified HTTPS request is being made. Adding certificate verification is strongly advised. See: https://urllib3.readthedocs.io/en/latest/advanced-usage.html#ssl-warnings\n",
      "  InsecureRequestWarning)\n",
      "/Users/nplattner/miniconda3/envs/AutoSearch/lib/python3.7/site-packages/urllib3/connectionpool.py:847: InsecureRequestWarning: Unverified HTTPS request is being made. Adding certificate verification is strongly advised. See: https://urllib3.readthedocs.io/en/latest/advanced-usage.html#ssl-warnings\n",
      "  InsecureRequestWarning)\n",
      "/Users/nplattner/miniconda3/envs/AutoSearch/lib/python3.7/site-packages/urllib3/connectionpool.py:847: InsecureRequestWarning: Unverified HTTPS request is being made. Adding certificate verification is strongly advised. See: https://urllib3.readthedocs.io/en/latest/advanced-usage.html#ssl-warnings\n",
      "  InsecureRequestWarning)\n",
      "/Users/nplattner/miniconda3/envs/AutoSearch/lib/python3.7/site-packages/urllib3/connectionpool.py:847: InsecureRequestWarning: Unverified HTTPS request is being made. Adding certificate verification is strongly advised. See: https://urllib3.readthedocs.io/en/latest/advanced-usage.html#ssl-warnings\n",
      "  InsecureRequestWarning)\n",
      "/Users/nplattner/miniconda3/envs/AutoSearch/lib/python3.7/site-packages/urllib3/connectionpool.py:847: InsecureRequestWarning: Unverified HTTPS request is being made. Adding certificate verification is strongly advised. See: https://urllib3.readthedocs.io/en/latest/advanced-usage.html#ssl-warnings\n",
      "  InsecureRequestWarning)\n",
      "/Users/nplattner/miniconda3/envs/AutoSearch/lib/python3.7/site-packages/urllib3/connectionpool.py:847: InsecureRequestWarning: Unverified HTTPS request is being made. Adding certificate verification is strongly advised. See: https://urllib3.readthedocs.io/en/latest/advanced-usage.html#ssl-warnings\n",
      "  InsecureRequestWarning)\n",
      "/Users/nplattner/miniconda3/envs/AutoSearch/lib/python3.7/site-packages/urllib3/connectionpool.py:847: InsecureRequestWarning: Unverified HTTPS request is being made. Adding certificate verification is strongly advised. See: https://urllib3.readthedocs.io/en/latest/advanced-usage.html#ssl-warnings\n",
      "  InsecureRequestWarning)\n",
      "/Users/nplattner/miniconda3/envs/AutoSearch/lib/python3.7/site-packages/urllib3/connectionpool.py:847: InsecureRequestWarning: Unverified HTTPS request is being made. Adding certificate verification is strongly advised. See: https://urllib3.readthedocs.io/en/latest/advanced-usage.html#ssl-warnings\n",
      "  InsecureRequestWarning)\n",
      "/Users/nplattner/miniconda3/envs/AutoSearch/lib/python3.7/site-packages/urllib3/connectionpool.py:847: InsecureRequestWarning: Unverified HTTPS request is being made. Adding certificate verification is strongly advised. See: https://urllib3.readthedocs.io/en/latest/advanced-usage.html#ssl-warnings\n",
      "  InsecureRequestWarning)\n",
      "/Users/nplattner/miniconda3/envs/AutoSearch/lib/python3.7/site-packages/urllib3/connectionpool.py:847: InsecureRequestWarning: Unverified HTTPS request is being made. Adding certificate verification is strongly advised. See: https://urllib3.readthedocs.io/en/latest/advanced-usage.html#ssl-warnings\n",
      "  InsecureRequestWarning)\n",
      "/Users/nplattner/miniconda3/envs/AutoSearch/lib/python3.7/site-packages/urllib3/connectionpool.py:847: InsecureRequestWarning: Unverified HTTPS request is being made. Adding certificate verification is strongly advised. See: https://urllib3.readthedocs.io/en/latest/advanced-usage.html#ssl-warnings\n",
      "  InsecureRequestWarning)\n",
      "/Users/nplattner/miniconda3/envs/AutoSearch/lib/python3.7/site-packages/urllib3/connectionpool.py:847: InsecureRequestWarning: Unverified HTTPS request is being made. Adding certificate verification is strongly advised. See: https://urllib3.readthedocs.io/en/latest/advanced-usage.html#ssl-warnings\n",
      "  InsecureRequestWarning)\n",
      "/Users/nplattner/miniconda3/envs/AutoSearch/lib/python3.7/site-packages/urllib3/connectionpool.py:847: InsecureRequestWarning: Unverified HTTPS request is being made. Adding certificate verification is strongly advised. See: https://urllib3.readthedocs.io/en/latest/advanced-usage.html#ssl-warnings\n",
      "  InsecureRequestWarning)\n",
      "/Users/nplattner/miniconda3/envs/AutoSearch/lib/python3.7/site-packages/urllib3/connectionpool.py:847: InsecureRequestWarning: Unverified HTTPS request is being made. Adding certificate verification is strongly advised. See: https://urllib3.readthedocs.io/en/latest/advanced-usage.html#ssl-warnings\n",
      "  InsecureRequestWarning)\n",
      "/Users/nplattner/miniconda3/envs/AutoSearch/lib/python3.7/site-packages/urllib3/connectionpool.py:847: InsecureRequestWarning: Unverified HTTPS request is being made. Adding certificate verification is strongly advised. See: https://urllib3.readthedocs.io/en/latest/advanced-usage.html#ssl-warnings\n",
      "  InsecureRequestWarning)\n",
      "/Users/nplattner/miniconda3/envs/AutoSearch/lib/python3.7/site-packages/urllib3/connectionpool.py:847: InsecureRequestWarning: Unverified HTTPS request is being made. Adding certificate verification is strongly advised. See: https://urllib3.readthedocs.io/en/latest/advanced-usage.html#ssl-warnings\n",
      "  InsecureRequestWarning)\n",
      "/Users/nplattner/miniconda3/envs/AutoSearch/lib/python3.7/site-packages/urllib3/connectionpool.py:847: InsecureRequestWarning: Unverified HTTPS request is being made. Adding certificate verification is strongly advised. See: https://urllib3.readthedocs.io/en/latest/advanced-usage.html#ssl-warnings\n",
      "  InsecureRequestWarning)\n",
      "/Users/nplattner/miniconda3/envs/AutoSearch/lib/python3.7/site-packages/urllib3/connectionpool.py:847: InsecureRequestWarning: Unverified HTTPS request is being made. Adding certificate verification is strongly advised. See: https://urllib3.readthedocs.io/en/latest/advanced-usage.html#ssl-warnings\n",
      "  InsecureRequestWarning)\n",
      "/Users/nplattner/miniconda3/envs/AutoSearch/lib/python3.7/site-packages/urllib3/connectionpool.py:847: InsecureRequestWarning: Unverified HTTPS request is being made. Adding certificate verification is strongly advised. See: https://urllib3.readthedocs.io/en/latest/advanced-usage.html#ssl-warnings\n",
      "  InsecureRequestWarning)\n",
      "/Users/nplattner/miniconda3/envs/AutoSearch/lib/python3.7/site-packages/urllib3/connectionpool.py:847: InsecureRequestWarning: Unverified HTTPS request is being made. Adding certificate verification is strongly advised. See: https://urllib3.readthedocs.io/en/latest/advanced-usage.html#ssl-warnings\n",
      "  InsecureRequestWarning)\n",
      "/Users/nplattner/miniconda3/envs/AutoSearch/lib/python3.7/site-packages/urllib3/connectionpool.py:847: InsecureRequestWarning: Unverified HTTPS request is being made. Adding certificate verification is strongly advised. See: https://urllib3.readthedocs.io/en/latest/advanced-usage.html#ssl-warnings\n",
      "  InsecureRequestWarning)\n",
      "/Users/nplattner/miniconda3/envs/AutoSearch/lib/python3.7/site-packages/urllib3/connectionpool.py:847: InsecureRequestWarning: Unverified HTTPS request is being made. Adding certificate verification is strongly advised. See: https://urllib3.readthedocs.io/en/latest/advanced-usage.html#ssl-warnings\n",
      "  InsecureRequestWarning)\n",
      "/Users/nplattner/miniconda3/envs/AutoSearch/lib/python3.7/site-packages/urllib3/connectionpool.py:847: InsecureRequestWarning: Unverified HTTPS request is being made. Adding certificate verification is strongly advised. See: https://urllib3.readthedocs.io/en/latest/advanced-usage.html#ssl-warnings\n",
      "  InsecureRequestWarning)\n",
      "/Users/nplattner/miniconda3/envs/AutoSearch/lib/python3.7/site-packages/urllib3/connectionpool.py:847: InsecureRequestWarning: Unverified HTTPS request is being made. Adding certificate verification is strongly advised. See: https://urllib3.readthedocs.io/en/latest/advanced-usage.html#ssl-warnings\n",
      "  InsecureRequestWarning)\n"
     ]
    }
   ],
   "source": [
    "# dataloop: we get the information found above for all available dates of this year\n",
    "ind_list = []\n",
    "max_list = np.zeros((len(datelist)))\n",
    "for num in range(len(datelist)):\n",
    "    ind_list.append([])\n",
    "    issue_url = linklist[num]\n",
    "    http = urllib3.PoolManager()\n",
    "    response = http.request('GET', issue_url)\n",
    "    soup = BeautifulSoup(response.data)\n",
    "    maxpage = 0\n",
    "    for item in soup.find_all('a'):\n",
    "        adress = item.attrs['href']\n",
    "        if adress.find('Seite') != -1 :\n",
    "            split = adress.split('/')\n",
    "            oldmax = maxpage\n",
    "            newmax = int(split[(len(split)-1)])\n",
    "            if newmax > oldmax:\n",
    "                maxpage = newmax\n",
    "                ind_list[num].append(adress)\n",
    "        max_list[num] = maxpage"
   ]
  },
  {
   "cell_type": "code",
   "execution_count": 21,
   "metadata": {},
   "outputs": [
    {
     "name": "stdout",
     "output_type": "stream",
     "text": [
      "[ 6.  6.  4.  6.  8.  8.  8.  8.  6. 11. 11. 11. 10.  8.  6.  6.  7.  8.\n",
      " 10.  8. 11.  6.  6.  6.  8.  8.  8.  6.  6.  6.  6.  8. 10. 10. 10. 11.\n",
      " 11. 11.  9.  8.  8.  4.  6.  8.  6.  4.  6.  8.  6.  6.  4.]\n",
      "['/tessmannDigital/Zeitungsarchiv/Seite/Zeitung/2/1/07.02.1845/19683/1', '/tessmannDigital/Zeitungsarchiv/Seite/Zeitung/2/1/07.02.1845/19683/2', '/tessmannDigital/Zeitungsarchiv/Seite/Zeitung/2/1/07.02.1845/19683/3', '/tessmannDigital/Zeitungsarchiv/Seite/Zeitung/2/1/07.02.1845/19683/4', '/tessmannDigital/Zeitungsarchiv/Seite/Zeitung/2/1/07.02.1845/19683/5', '/tessmannDigital/Zeitungsarchiv/Seite/Zeitung/2/1/07.02.1845/19683/6', '/tessmannDigital/Zeitungsarchiv/Seite/Zeitung/2/1/07.02.1845/19683/7', '/tessmannDigital/Zeitungsarchiv/Seite/Zeitung/2/1/07.02.1845/19683/8']\n"
     ]
    }
   ],
   "source": [
    "print (max_list)\n",
    "print (ind_list[5])"
   ]
  },
  {
   "cell_type": "markdown",
   "metadata": {},
   "source": [
    "### Sort datelist\n",
    "\n",
    "We sort the list by date. This is not really required, but makes the download structure easier to understand"
   ]
  },
  {
   "cell_type": "code",
   "execution_count": 22,
   "metadata": {
    "scrolled": true
   },
   "outputs": [
    {
     "data": {
      "text/plain": [
       "[['01-03-1845',\n",
       "  '03.01.1845',\n",
       "  ['/tessmannDigital/Zeitungsarchiv/Seite/Zeitung/2/1/03.01.1845/19678/1',\n",
       "   '/tessmannDigital/Zeitungsarchiv/Seite/Zeitung/2/1/03.01.1845/19678/2',\n",
       "   '/tessmannDigital/Zeitungsarchiv/Seite/Zeitung/2/1/03.01.1845/19678/3',\n",
       "   '/tessmannDigital/Zeitungsarchiv/Seite/Zeitung/2/1/03.01.1845/19678/4',\n",
       "   '/tessmannDigital/Zeitungsarchiv/Seite/Zeitung/2/1/03.01.1845/19678/5',\n",
       "   '/tessmannDigital/Zeitungsarchiv/Seite/Zeitung/2/1/03.01.1845/19678/6']],\n",
       " ['01-10-1845',\n",
       "  '10.01.1845',\n",
       "  ['/tessmannDigital/Zeitungsarchiv/Seite/Zeitung/2/1/10.01.1845/19679/1',\n",
       "   '/tessmannDigital/Zeitungsarchiv/Seite/Zeitung/2/1/10.01.1845/19679/2',\n",
       "   '/tessmannDigital/Zeitungsarchiv/Seite/Zeitung/2/1/10.01.1845/19679/3',\n",
       "   '/tessmannDigital/Zeitungsarchiv/Seite/Zeitung/2/1/10.01.1845/19679/4',\n",
       "   '/tessmannDigital/Zeitungsarchiv/Seite/Zeitung/2/1/10.01.1845/19679/5',\n",
       "   '/tessmannDigital/Zeitungsarchiv/Seite/Zeitung/2/1/10.01.1845/19679/6']],\n",
       " ['01-17-1845',\n",
       "  '17.01.1845',\n",
       "  ['/tessmannDigital/Zeitungsarchiv/Seite/Zeitung/2/1/17.01.1845/19680/1',\n",
       "   '/tessmannDigital/Zeitungsarchiv/Seite/Zeitung/2/1/17.01.1845/19680/2',\n",
       "   '/tessmannDigital/Zeitungsarchiv/Seite/Zeitung/2/1/17.01.1845/19680/3',\n",
       "   '/tessmannDigital/Zeitungsarchiv/Seite/Zeitung/2/1/17.01.1845/19680/4']],\n",
       " ['01-24-1845',\n",
       "  '24.01.1845',\n",
       "  ['/tessmannDigital/Zeitungsarchiv/Seite/Zeitung/2/1/24.01.1845/19681/1',\n",
       "   '/tessmannDigital/Zeitungsarchiv/Seite/Zeitung/2/1/24.01.1845/19681/2',\n",
       "   '/tessmannDigital/Zeitungsarchiv/Seite/Zeitung/2/1/24.01.1845/19681/3',\n",
       "   '/tessmannDigital/Zeitungsarchiv/Seite/Zeitung/2/1/24.01.1845/19681/4',\n",
       "   '/tessmannDigital/Zeitungsarchiv/Seite/Zeitung/2/1/24.01.1845/19681/5',\n",
       "   '/tessmannDigital/Zeitungsarchiv/Seite/Zeitung/2/1/24.01.1845/19681/6']],\n",
       " ['01-31-1845',\n",
       "  '31.01.1845',\n",
       "  ['/tessmannDigital/Zeitungsarchiv/Seite/Zeitung/2/1/31.01.1845/19682/1',\n",
       "   '/tessmannDigital/Zeitungsarchiv/Seite/Zeitung/2/1/31.01.1845/19682/2',\n",
       "   '/tessmannDigital/Zeitungsarchiv/Seite/Zeitung/2/1/31.01.1845/19682/3',\n",
       "   '/tessmannDigital/Zeitungsarchiv/Seite/Zeitung/2/1/31.01.1845/19682/4',\n",
       "   '/tessmannDigital/Zeitungsarchiv/Seite/Zeitung/2/1/31.01.1845/19682/5',\n",
       "   '/tessmannDigital/Zeitungsarchiv/Seite/Zeitung/2/1/31.01.1845/19682/6',\n",
       "   '/tessmannDigital/Zeitungsarchiv/Seite/Zeitung/2/1/31.01.1845/19682/7',\n",
       "   '/tessmannDigital/Zeitungsarchiv/Seite/Zeitung/2/1/31.01.1845/19682/8']],\n",
       " ['02-07-1845',\n",
       "  '07.02.1845',\n",
       "  ['/tessmannDigital/Zeitungsarchiv/Seite/Zeitung/2/1/07.02.1845/19683/1',\n",
       "   '/tessmannDigital/Zeitungsarchiv/Seite/Zeitung/2/1/07.02.1845/19683/2',\n",
       "   '/tessmannDigital/Zeitungsarchiv/Seite/Zeitung/2/1/07.02.1845/19683/3',\n",
       "   '/tessmannDigital/Zeitungsarchiv/Seite/Zeitung/2/1/07.02.1845/19683/4',\n",
       "   '/tessmannDigital/Zeitungsarchiv/Seite/Zeitung/2/1/07.02.1845/19683/5',\n",
       "   '/tessmannDigital/Zeitungsarchiv/Seite/Zeitung/2/1/07.02.1845/19683/6',\n",
       "   '/tessmannDigital/Zeitungsarchiv/Seite/Zeitung/2/1/07.02.1845/19683/7',\n",
       "   '/tessmannDigital/Zeitungsarchiv/Seite/Zeitung/2/1/07.02.1845/19683/8']],\n",
       " ['02-14-1845',\n",
       "  '14.02.1845',\n",
       "  ['/tessmannDigital/Zeitungsarchiv/Seite/Zeitung/2/1/14.02.1845/19684/1',\n",
       "   '/tessmannDigital/Zeitungsarchiv/Seite/Zeitung/2/1/14.02.1845/19684/2',\n",
       "   '/tessmannDigital/Zeitungsarchiv/Seite/Zeitung/2/1/14.02.1845/19684/3',\n",
       "   '/tessmannDigital/Zeitungsarchiv/Seite/Zeitung/2/1/14.02.1845/19684/4',\n",
       "   '/tessmannDigital/Zeitungsarchiv/Seite/Zeitung/2/1/14.02.1845/19684/5',\n",
       "   '/tessmannDigital/Zeitungsarchiv/Seite/Zeitung/2/1/14.02.1845/19684/6',\n",
       "   '/tessmannDigital/Zeitungsarchiv/Seite/Zeitung/2/1/14.02.1845/19684/7',\n",
       "   '/tessmannDigital/Zeitungsarchiv/Seite/Zeitung/2/1/14.02.1845/19684/8']],\n",
       " ['02-21-1845',\n",
       "  '21.02.1845',\n",
       "  ['/tessmannDigital/Zeitungsarchiv/Seite/Zeitung/2/1/21.02.1845/19685/1',\n",
       "   '/tessmannDigital/Zeitungsarchiv/Seite/Zeitung/2/1/21.02.1845/19685/2',\n",
       "   '/tessmannDigital/Zeitungsarchiv/Seite/Zeitung/2/1/21.02.1845/19685/3',\n",
       "   '/tessmannDigital/Zeitungsarchiv/Seite/Zeitung/2/1/21.02.1845/19685/4',\n",
       "   '/tessmannDigital/Zeitungsarchiv/Seite/Zeitung/2/1/21.02.1845/19685/5',\n",
       "   '/tessmannDigital/Zeitungsarchiv/Seite/Zeitung/2/1/21.02.1845/19685/6',\n",
       "   '/tessmannDigital/Zeitungsarchiv/Seite/Zeitung/2/1/21.02.1845/19685/7',\n",
       "   '/tessmannDigital/Zeitungsarchiv/Seite/Zeitung/2/1/21.02.1845/19685/8']],\n",
       " ['02-28-1845',\n",
       "  '28.02.1845',\n",
       "  ['/tessmannDigital/Zeitungsarchiv/Seite/Zeitung/2/1/28.02.1845/19686/1',\n",
       "   '/tessmannDigital/Zeitungsarchiv/Seite/Zeitung/2/1/28.02.1845/19686/2',\n",
       "   '/tessmannDigital/Zeitungsarchiv/Seite/Zeitung/2/1/28.02.1845/19686/3',\n",
       "   '/tessmannDigital/Zeitungsarchiv/Seite/Zeitung/2/1/28.02.1845/19686/4',\n",
       "   '/tessmannDigital/Zeitungsarchiv/Seite/Zeitung/2/1/28.02.1845/19686/5',\n",
       "   '/tessmannDigital/Zeitungsarchiv/Seite/Zeitung/2/1/28.02.1845/19686/6']],\n",
       " ['03-07-1845',\n",
       "  '07.03.1845',\n",
       "  ['/tessmannDigital/Zeitungsarchiv/Seite/Zeitung/2/1/07.03.1845/19687/1',\n",
       "   '/tessmannDigital/Zeitungsarchiv/Seite/Zeitung/2/1/07.03.1845/19687/2',\n",
       "   '/tessmannDigital/Zeitungsarchiv/Seite/Zeitung/2/1/07.03.1845/19687/3',\n",
       "   '/tessmannDigital/Zeitungsarchiv/Seite/Zeitung/2/1/07.03.1845/19687/4',\n",
       "   '/tessmannDigital/Zeitungsarchiv/Seite/Zeitung/2/1/07.03.1845/19687/5',\n",
       "   '/tessmannDigital/Zeitungsarchiv/Seite/Zeitung/2/1/07.03.1845/19687/6',\n",
       "   '/tessmannDigital/Zeitungsarchiv/Seite/Zeitung/2/1/07.03.1845/19687/7',\n",
       "   '/tessmannDigital/Zeitungsarchiv/Seite/Zeitung/2/1/07.03.1845/19687/8',\n",
       "   '/tessmannDigital/Zeitungsarchiv/Seite/Zeitung/2/1/07.03.1845/19687/9',\n",
       "   '/tessmannDigital/Zeitungsarchiv/Seite/Zeitung/2/1/07.03.1845/19687/10',\n",
       "   '/tessmannDigital/Zeitungsarchiv/Seite/Zeitung/2/1/07.03.1845/19687/11']],\n",
       " ['03-14-1845',\n",
       "  '14.03.1845',\n",
       "  ['/tessmannDigital/Zeitungsarchiv/Seite/Zeitung/2/1/14.03.1845/19688/1',\n",
       "   '/tessmannDigital/Zeitungsarchiv/Seite/Zeitung/2/1/14.03.1845/19688/2',\n",
       "   '/tessmannDigital/Zeitungsarchiv/Seite/Zeitung/2/1/14.03.1845/19688/3',\n",
       "   '/tessmannDigital/Zeitungsarchiv/Seite/Zeitung/2/1/14.03.1845/19688/4',\n",
       "   '/tessmannDigital/Zeitungsarchiv/Seite/Zeitung/2/1/14.03.1845/19688/5',\n",
       "   '/tessmannDigital/Zeitungsarchiv/Seite/Zeitung/2/1/14.03.1845/19688/6',\n",
       "   '/tessmannDigital/Zeitungsarchiv/Seite/Zeitung/2/1/14.03.1845/19688/7',\n",
       "   '/tessmannDigital/Zeitungsarchiv/Seite/Zeitung/2/1/14.03.1845/19688/8',\n",
       "   '/tessmannDigital/Zeitungsarchiv/Seite/Zeitung/2/1/14.03.1845/19688/9',\n",
       "   '/tessmannDigital/Zeitungsarchiv/Seite/Zeitung/2/1/14.03.1845/19688/10',\n",
       "   '/tessmannDigital/Zeitungsarchiv/Seite/Zeitung/2/1/14.03.1845/19688/11']],\n",
       " ['03-21-1845',\n",
       "  '21.03.1845',\n",
       "  ['/tessmannDigital/Zeitungsarchiv/Seite/Zeitung/2/1/21.03.1845/19689/1',\n",
       "   '/tessmannDigital/Zeitungsarchiv/Seite/Zeitung/2/1/21.03.1845/19689/2',\n",
       "   '/tessmannDigital/Zeitungsarchiv/Seite/Zeitung/2/1/21.03.1845/19689/3',\n",
       "   '/tessmannDigital/Zeitungsarchiv/Seite/Zeitung/2/1/21.03.1845/19689/4',\n",
       "   '/tessmannDigital/Zeitungsarchiv/Seite/Zeitung/2/1/21.03.1845/19689/5',\n",
       "   '/tessmannDigital/Zeitungsarchiv/Seite/Zeitung/2/1/21.03.1845/19689/6',\n",
       "   '/tessmannDigital/Zeitungsarchiv/Seite/Zeitung/2/1/21.03.1845/19689/7',\n",
       "   '/tessmannDigital/Zeitungsarchiv/Seite/Zeitung/2/1/21.03.1845/19689/8',\n",
       "   '/tessmannDigital/Zeitungsarchiv/Seite/Zeitung/2/1/21.03.1845/19689/9',\n",
       "   '/tessmannDigital/Zeitungsarchiv/Seite/Zeitung/2/1/21.03.1845/19689/10',\n",
       "   '/tessmannDigital/Zeitungsarchiv/Seite/Zeitung/2/1/21.03.1845/19689/11']],\n",
       " ['03-28-1845',\n",
       "  '28.03.1845',\n",
       "  ['/tessmannDigital/Zeitungsarchiv/Seite/Zeitung/2/1/28.03.1845/19690/1',\n",
       "   '/tessmannDigital/Zeitungsarchiv/Seite/Zeitung/2/1/28.03.1845/19690/2',\n",
       "   '/tessmannDigital/Zeitungsarchiv/Seite/Zeitung/2/1/28.03.1845/19690/3',\n",
       "   '/tessmannDigital/Zeitungsarchiv/Seite/Zeitung/2/1/28.03.1845/19690/4',\n",
       "   '/tessmannDigital/Zeitungsarchiv/Seite/Zeitung/2/1/28.03.1845/19690/5',\n",
       "   '/tessmannDigital/Zeitungsarchiv/Seite/Zeitung/2/1/28.03.1845/19690/6',\n",
       "   '/tessmannDigital/Zeitungsarchiv/Seite/Zeitung/2/1/28.03.1845/19690/7',\n",
       "   '/tessmannDigital/Zeitungsarchiv/Seite/Zeitung/2/1/28.03.1845/19690/8',\n",
       "   '/tessmannDigital/Zeitungsarchiv/Seite/Zeitung/2/1/28.03.1845/19690/9',\n",
       "   '/tessmannDigital/Zeitungsarchiv/Seite/Zeitung/2/1/28.03.1845/19690/10']],\n",
       " ['04-04-1845',\n",
       "  '04.04.1845',\n",
       "  ['/tessmannDigital/Zeitungsarchiv/Seite/Zeitung/2/1/04.04.1845/19691/1',\n",
       "   '/tessmannDigital/Zeitungsarchiv/Seite/Zeitung/2/1/04.04.1845/19691/2',\n",
       "   '/tessmannDigital/Zeitungsarchiv/Seite/Zeitung/2/1/04.04.1845/19691/3',\n",
       "   '/tessmannDigital/Zeitungsarchiv/Seite/Zeitung/2/1/04.04.1845/19691/4',\n",
       "   '/tessmannDigital/Zeitungsarchiv/Seite/Zeitung/2/1/04.04.1845/19691/5',\n",
       "   '/tessmannDigital/Zeitungsarchiv/Seite/Zeitung/2/1/04.04.1845/19691/6',\n",
       "   '/tessmannDigital/Zeitungsarchiv/Seite/Zeitung/2/1/04.04.1845/19691/7',\n",
       "   '/tessmannDigital/Zeitungsarchiv/Seite/Zeitung/2/1/04.04.1845/19691/8']],\n",
       " ['04-11-1845',\n",
       "  '11.04.1845',\n",
       "  ['/tessmannDigital/Zeitungsarchiv/Seite/Zeitung/2/1/11.04.1845/19692/1',\n",
       "   '/tessmannDigital/Zeitungsarchiv/Seite/Zeitung/2/1/11.04.1845/19692/2',\n",
       "   '/tessmannDigital/Zeitungsarchiv/Seite/Zeitung/2/1/11.04.1845/19692/3',\n",
       "   '/tessmannDigital/Zeitungsarchiv/Seite/Zeitung/2/1/11.04.1845/19692/4',\n",
       "   '/tessmannDigital/Zeitungsarchiv/Seite/Zeitung/2/1/11.04.1845/19692/5',\n",
       "   '/tessmannDigital/Zeitungsarchiv/Seite/Zeitung/2/1/11.04.1845/19692/6']],\n",
       " ['04-18-1845',\n",
       "  '18.04.1845',\n",
       "  ['/tessmannDigital/Zeitungsarchiv/Seite/Zeitung/2/1/18.04.1845/19693/1',\n",
       "   '/tessmannDigital/Zeitungsarchiv/Seite/Zeitung/2/1/18.04.1845/19693/2',\n",
       "   '/tessmannDigital/Zeitungsarchiv/Seite/Zeitung/2/1/18.04.1845/19693/3',\n",
       "   '/tessmannDigital/Zeitungsarchiv/Seite/Zeitung/2/1/18.04.1845/19693/4',\n",
       "   '/tessmannDigital/Zeitungsarchiv/Seite/Zeitung/2/1/18.04.1845/19693/5',\n",
       "   '/tessmannDigital/Zeitungsarchiv/Seite/Zeitung/2/1/18.04.1845/19693/6']],\n",
       " ['04-25-1845',\n",
       "  '25.04.1845',\n",
       "  ['/tessmannDigital/Zeitungsarchiv/Seite/Zeitung/2/1/25.04.1845/19694/1',\n",
       "   '/tessmannDigital/Zeitungsarchiv/Seite/Zeitung/2/1/25.04.1845/19694/2',\n",
       "   '/tessmannDigital/Zeitungsarchiv/Seite/Zeitung/2/1/25.04.1845/19694/3',\n",
       "   '/tessmannDigital/Zeitungsarchiv/Seite/Zeitung/2/1/25.04.1845/19694/4',\n",
       "   '/tessmannDigital/Zeitungsarchiv/Seite/Zeitung/2/1/25.04.1845/19694/5',\n",
       "   '/tessmannDigital/Zeitungsarchiv/Seite/Zeitung/2/1/25.04.1845/19694/6',\n",
       "   '/tessmannDigital/Zeitungsarchiv/Seite/Zeitung/2/1/25.04.1845/19694/7']],\n",
       " ['05-02-1845',\n",
       "  '02.05.1845',\n",
       "  ['/tessmannDigital/Zeitungsarchiv/Seite/Zeitung/2/1/02.05.1845/19695/1',\n",
       "   '/tessmannDigital/Zeitungsarchiv/Seite/Zeitung/2/1/02.05.1845/19695/2',\n",
       "   '/tessmannDigital/Zeitungsarchiv/Seite/Zeitung/2/1/02.05.1845/19695/3',\n",
       "   '/tessmannDigital/Zeitungsarchiv/Seite/Zeitung/2/1/02.05.1845/19695/4',\n",
       "   '/tessmannDigital/Zeitungsarchiv/Seite/Zeitung/2/1/02.05.1845/19695/5',\n",
       "   '/tessmannDigital/Zeitungsarchiv/Seite/Zeitung/2/1/02.05.1845/19695/6',\n",
       "   '/tessmannDigital/Zeitungsarchiv/Seite/Zeitung/2/1/02.05.1845/19695/7',\n",
       "   '/tessmannDigital/Zeitungsarchiv/Seite/Zeitung/2/1/02.05.1845/19695/8']],\n",
       " ['05-09-1845',\n",
       "  '09.05.1845',\n",
       "  ['/tessmannDigital/Zeitungsarchiv/Seite/Zeitung/2/1/09.05.1845/19696/1',\n",
       "   '/tessmannDigital/Zeitungsarchiv/Seite/Zeitung/2/1/09.05.1845/19696/2',\n",
       "   '/tessmannDigital/Zeitungsarchiv/Seite/Zeitung/2/1/09.05.1845/19696/3',\n",
       "   '/tessmannDigital/Zeitungsarchiv/Seite/Zeitung/2/1/09.05.1845/19696/4',\n",
       "   '/tessmannDigital/Zeitungsarchiv/Seite/Zeitung/2/1/09.05.1845/19696/5',\n",
       "   '/tessmannDigital/Zeitungsarchiv/Seite/Zeitung/2/1/09.05.1845/19696/6',\n",
       "   '/tessmannDigital/Zeitungsarchiv/Seite/Zeitung/2/1/09.05.1845/19696/7',\n",
       "   '/tessmannDigital/Zeitungsarchiv/Seite/Zeitung/2/1/09.05.1845/19696/8',\n",
       "   '/tessmannDigital/Zeitungsarchiv/Seite/Zeitung/2/1/09.05.1845/19696/9',\n",
       "   '/tessmannDigital/Zeitungsarchiv/Seite/Zeitung/2/1/09.05.1845/19696/10']],\n",
       " ['05-16-1845',\n",
       "  '16.05.1845',\n",
       "  ['/tessmannDigital/Zeitungsarchiv/Seite/Zeitung/2/1/16.05.1845/19697/1',\n",
       "   '/tessmannDigital/Zeitungsarchiv/Seite/Zeitung/2/1/16.05.1845/19697/2',\n",
       "   '/tessmannDigital/Zeitungsarchiv/Seite/Zeitung/2/1/16.05.1845/19697/3',\n",
       "   '/tessmannDigital/Zeitungsarchiv/Seite/Zeitung/2/1/16.05.1845/19697/4',\n",
       "   '/tessmannDigital/Zeitungsarchiv/Seite/Zeitung/2/1/16.05.1845/19697/5',\n",
       "   '/tessmannDigital/Zeitungsarchiv/Seite/Zeitung/2/1/16.05.1845/19697/6',\n",
       "   '/tessmannDigital/Zeitungsarchiv/Seite/Zeitung/2/1/16.05.1845/19697/7',\n",
       "   '/tessmannDigital/Zeitungsarchiv/Seite/Zeitung/2/1/16.05.1845/19697/8']],\n",
       " ['05-23-1845',\n",
       "  '23.05.1845',\n",
       "  ['/tessmannDigital/Zeitungsarchiv/Seite/Zeitung/2/1/23.05.1845/19698/1',\n",
       "   '/tessmannDigital/Zeitungsarchiv/Seite/Zeitung/2/1/23.05.1845/19698/2',\n",
       "   '/tessmannDigital/Zeitungsarchiv/Seite/Zeitung/2/1/23.05.1845/19698/3',\n",
       "   '/tessmannDigital/Zeitungsarchiv/Seite/Zeitung/2/1/23.05.1845/19698/4',\n",
       "   '/tessmannDigital/Zeitungsarchiv/Seite/Zeitung/2/1/23.05.1845/19698/5',\n",
       "   '/tessmannDigital/Zeitungsarchiv/Seite/Zeitung/2/1/23.05.1845/19698/6',\n",
       "   '/tessmannDigital/Zeitungsarchiv/Seite/Zeitung/2/1/23.05.1845/19698/7',\n",
       "   '/tessmannDigital/Zeitungsarchiv/Seite/Zeitung/2/1/23.05.1845/19698/8',\n",
       "   '/tessmannDigital/Zeitungsarchiv/Seite/Zeitung/2/1/23.05.1845/19698/9',\n",
       "   '/tessmannDigital/Zeitungsarchiv/Seite/Zeitung/2/1/23.05.1845/19698/10',\n",
       "   '/tessmannDigital/Zeitungsarchiv/Seite/Zeitung/2/1/23.05.1845/19698/11']],\n",
       " ['05-30-1845',\n",
       "  '30.05.1845',\n",
       "  ['/tessmannDigital/Zeitungsarchiv/Seite/Zeitung/2/1/30.05.1845/19699/1',\n",
       "   '/tessmannDigital/Zeitungsarchiv/Seite/Zeitung/2/1/30.05.1845/19699/2',\n",
       "   '/tessmannDigital/Zeitungsarchiv/Seite/Zeitung/2/1/30.05.1845/19699/3',\n",
       "   '/tessmannDigital/Zeitungsarchiv/Seite/Zeitung/2/1/30.05.1845/19699/4',\n",
       "   '/tessmannDigital/Zeitungsarchiv/Seite/Zeitung/2/1/30.05.1845/19699/5',\n",
       "   '/tessmannDigital/Zeitungsarchiv/Seite/Zeitung/2/1/30.05.1845/19699/6']],\n",
       " ['06-06-1845',\n",
       "  '06.06.1845',\n",
       "  ['/tessmannDigital/Zeitungsarchiv/Seite/Zeitung/2/1/06.06.1845/19700/1',\n",
       "   '/tessmannDigital/Zeitungsarchiv/Seite/Zeitung/2/1/06.06.1845/19700/2',\n",
       "   '/tessmannDigital/Zeitungsarchiv/Seite/Zeitung/2/1/06.06.1845/19700/3',\n",
       "   '/tessmannDigital/Zeitungsarchiv/Seite/Zeitung/2/1/06.06.1845/19700/4',\n",
       "   '/tessmannDigital/Zeitungsarchiv/Seite/Zeitung/2/1/06.06.1845/19700/5',\n",
       "   '/tessmannDigital/Zeitungsarchiv/Seite/Zeitung/2/1/06.06.1845/19700/6']],\n",
       " ['06-13-1845',\n",
       "  '13.06.1845',\n",
       "  ['/tessmannDigital/Zeitungsarchiv/Seite/Zeitung/2/1/13.06.1845/19701/1',\n",
       "   '/tessmannDigital/Zeitungsarchiv/Seite/Zeitung/2/1/13.06.1845/19701/2',\n",
       "   '/tessmannDigital/Zeitungsarchiv/Seite/Zeitung/2/1/13.06.1845/19701/3',\n",
       "   '/tessmannDigital/Zeitungsarchiv/Seite/Zeitung/2/1/13.06.1845/19701/4',\n",
       "   '/tessmannDigital/Zeitungsarchiv/Seite/Zeitung/2/1/13.06.1845/19701/5',\n",
       "   '/tessmannDigital/Zeitungsarchiv/Seite/Zeitung/2/1/13.06.1845/19701/6']],\n",
       " ['06-20-1845',\n",
       "  '20.06.1845',\n",
       "  ['/tessmannDigital/Zeitungsarchiv/Seite/Zeitung/2/1/20.06.1845/19702/1',\n",
       "   '/tessmannDigital/Zeitungsarchiv/Seite/Zeitung/2/1/20.06.1845/19702/2',\n",
       "   '/tessmannDigital/Zeitungsarchiv/Seite/Zeitung/2/1/20.06.1845/19702/3',\n",
       "   '/tessmannDigital/Zeitungsarchiv/Seite/Zeitung/2/1/20.06.1845/19702/4',\n",
       "   '/tessmannDigital/Zeitungsarchiv/Seite/Zeitung/2/1/20.06.1845/19702/5',\n",
       "   '/tessmannDigital/Zeitungsarchiv/Seite/Zeitung/2/1/20.06.1845/19702/6',\n",
       "   '/tessmannDigital/Zeitungsarchiv/Seite/Zeitung/2/1/20.06.1845/19702/7',\n",
       "   '/tessmannDigital/Zeitungsarchiv/Seite/Zeitung/2/1/20.06.1845/19702/8']],\n",
       " ['06-27-1845',\n",
       "  '27.06.1845',\n",
       "  ['/tessmannDigital/Zeitungsarchiv/Seite/Zeitung/2/1/27.06.1845/19703/1',\n",
       "   '/tessmannDigital/Zeitungsarchiv/Seite/Zeitung/2/1/27.06.1845/19703/2',\n",
       "   '/tessmannDigital/Zeitungsarchiv/Seite/Zeitung/2/1/27.06.1845/19703/3',\n",
       "   '/tessmannDigital/Zeitungsarchiv/Seite/Zeitung/2/1/27.06.1845/19703/4',\n",
       "   '/tessmannDigital/Zeitungsarchiv/Seite/Zeitung/2/1/27.06.1845/19703/5',\n",
       "   '/tessmannDigital/Zeitungsarchiv/Seite/Zeitung/2/1/27.06.1845/19703/6',\n",
       "   '/tessmannDigital/Zeitungsarchiv/Seite/Zeitung/2/1/27.06.1845/19703/7',\n",
       "   '/tessmannDigital/Zeitungsarchiv/Seite/Zeitung/2/1/27.06.1845/19703/8']],\n",
       " ['07-04-1845',\n",
       "  '04.07.1845',\n",
       "  ['/tessmannDigital/Zeitungsarchiv/Seite/Zeitung/2/1/04.07.1845/19704/1',\n",
       "   '/tessmannDigital/Zeitungsarchiv/Seite/Zeitung/2/1/04.07.1845/19704/2',\n",
       "   '/tessmannDigital/Zeitungsarchiv/Seite/Zeitung/2/1/04.07.1845/19704/3',\n",
       "   '/tessmannDigital/Zeitungsarchiv/Seite/Zeitung/2/1/04.07.1845/19704/4',\n",
       "   '/tessmannDigital/Zeitungsarchiv/Seite/Zeitung/2/1/04.07.1845/19704/5',\n",
       "   '/tessmannDigital/Zeitungsarchiv/Seite/Zeitung/2/1/04.07.1845/19704/6',\n",
       "   '/tessmannDigital/Zeitungsarchiv/Seite/Zeitung/2/1/04.07.1845/19704/7',\n",
       "   '/tessmannDigital/Zeitungsarchiv/Seite/Zeitung/2/1/04.07.1845/19704/8']],\n",
       " ['07-11-1845',\n",
       "  '11.07.1845',\n",
       "  ['/tessmannDigital/Zeitungsarchiv/Seite/Zeitung/2/1/11.07.1845/19705/1',\n",
       "   '/tessmannDigital/Zeitungsarchiv/Seite/Zeitung/2/1/11.07.1845/19705/2',\n",
       "   '/tessmannDigital/Zeitungsarchiv/Seite/Zeitung/2/1/11.07.1845/19705/3',\n",
       "   '/tessmannDigital/Zeitungsarchiv/Seite/Zeitung/2/1/11.07.1845/19705/4',\n",
       "   '/tessmannDigital/Zeitungsarchiv/Seite/Zeitung/2/1/11.07.1845/19705/5',\n",
       "   '/tessmannDigital/Zeitungsarchiv/Seite/Zeitung/2/1/11.07.1845/19705/6']],\n",
       " ['07-18-1845',\n",
       "  '18.07.1845',\n",
       "  ['/tessmannDigital/Zeitungsarchiv/Seite/Zeitung/2/1/18.07.1845/19706/1',\n",
       "   '/tessmannDigital/Zeitungsarchiv/Seite/Zeitung/2/1/18.07.1845/19706/2',\n",
       "   '/tessmannDigital/Zeitungsarchiv/Seite/Zeitung/2/1/18.07.1845/19706/3',\n",
       "   '/tessmannDigital/Zeitungsarchiv/Seite/Zeitung/2/1/18.07.1845/19706/4',\n",
       "   '/tessmannDigital/Zeitungsarchiv/Seite/Zeitung/2/1/18.07.1845/19706/5',\n",
       "   '/tessmannDigital/Zeitungsarchiv/Seite/Zeitung/2/1/18.07.1845/19706/6']],\n",
       " ['07-25-1845',\n",
       "  '25.07.1845',\n",
       "  ['/tessmannDigital/Zeitungsarchiv/Seite/Zeitung/2/1/25.07.1845/19707/1',\n",
       "   '/tessmannDigital/Zeitungsarchiv/Seite/Zeitung/2/1/25.07.1845/19707/2',\n",
       "   '/tessmannDigital/Zeitungsarchiv/Seite/Zeitung/2/1/25.07.1845/19707/3',\n",
       "   '/tessmannDigital/Zeitungsarchiv/Seite/Zeitung/2/1/25.07.1845/19707/4',\n",
       "   '/tessmannDigital/Zeitungsarchiv/Seite/Zeitung/2/1/25.07.1845/19707/5',\n",
       "   '/tessmannDigital/Zeitungsarchiv/Seite/Zeitung/2/1/25.07.1845/19707/6']],\n",
       " ['08-01-1845',\n",
       "  '01.08.1845',\n",
       "  ['/tessmannDigital/Zeitungsarchiv/Seite/Zeitung/2/1/01.08.1845/19708/1',\n",
       "   '/tessmannDigital/Zeitungsarchiv/Seite/Zeitung/2/1/01.08.1845/19708/2',\n",
       "   '/tessmannDigital/Zeitungsarchiv/Seite/Zeitung/2/1/01.08.1845/19708/3',\n",
       "   '/tessmannDigital/Zeitungsarchiv/Seite/Zeitung/2/1/01.08.1845/19708/4',\n",
       "   '/tessmannDigital/Zeitungsarchiv/Seite/Zeitung/2/1/01.08.1845/19708/5',\n",
       "   '/tessmannDigital/Zeitungsarchiv/Seite/Zeitung/2/1/01.08.1845/19708/6']],\n",
       " ['08-08-1845',\n",
       "  '08.08.1845',\n",
       "  ['/tessmannDigital/Zeitungsarchiv/Seite/Zeitung/2/1/08.08.1845/19709/1',\n",
       "   '/tessmannDigital/Zeitungsarchiv/Seite/Zeitung/2/1/08.08.1845/19709/2',\n",
       "   '/tessmannDigital/Zeitungsarchiv/Seite/Zeitung/2/1/08.08.1845/19709/3',\n",
       "   '/tessmannDigital/Zeitungsarchiv/Seite/Zeitung/2/1/08.08.1845/19709/4',\n",
       "   '/tessmannDigital/Zeitungsarchiv/Seite/Zeitung/2/1/08.08.1845/19709/5',\n",
       "   '/tessmannDigital/Zeitungsarchiv/Seite/Zeitung/2/1/08.08.1845/19709/6',\n",
       "   '/tessmannDigital/Zeitungsarchiv/Seite/Zeitung/2/1/08.08.1845/19709/7',\n",
       "   '/tessmannDigital/Zeitungsarchiv/Seite/Zeitung/2/1/08.08.1845/19709/8']],\n",
       " ['08-15-1845',\n",
       "  '15.08.1845',\n",
       "  ['/tessmannDigital/Zeitungsarchiv/Seite/Zeitung/2/1/15.08.1845/19710/1',\n",
       "   '/tessmannDigital/Zeitungsarchiv/Seite/Zeitung/2/1/15.08.1845/19710/2',\n",
       "   '/tessmannDigital/Zeitungsarchiv/Seite/Zeitung/2/1/15.08.1845/19710/3',\n",
       "   '/tessmannDigital/Zeitungsarchiv/Seite/Zeitung/2/1/15.08.1845/19710/4',\n",
       "   '/tessmannDigital/Zeitungsarchiv/Seite/Zeitung/2/1/15.08.1845/19710/5',\n",
       "   '/tessmannDigital/Zeitungsarchiv/Seite/Zeitung/2/1/15.08.1845/19710/6',\n",
       "   '/tessmannDigital/Zeitungsarchiv/Seite/Zeitung/2/1/15.08.1845/19710/7',\n",
       "   '/tessmannDigital/Zeitungsarchiv/Seite/Zeitung/2/1/15.08.1845/19710/8',\n",
       "   '/tessmannDigital/Zeitungsarchiv/Seite/Zeitung/2/1/15.08.1845/19710/9',\n",
       "   '/tessmannDigital/Zeitungsarchiv/Seite/Zeitung/2/1/15.08.1845/19710/10']],\n",
       " ['08-22-1845',\n",
       "  '22.08.1845',\n",
       "  ['/tessmannDigital/Zeitungsarchiv/Seite/Zeitung/2/1/22.08.1845/19711/1',\n",
       "   '/tessmannDigital/Zeitungsarchiv/Seite/Zeitung/2/1/22.08.1845/19711/2',\n",
       "   '/tessmannDigital/Zeitungsarchiv/Seite/Zeitung/2/1/22.08.1845/19711/3',\n",
       "   '/tessmannDigital/Zeitungsarchiv/Seite/Zeitung/2/1/22.08.1845/19711/4',\n",
       "   '/tessmannDigital/Zeitungsarchiv/Seite/Zeitung/2/1/22.08.1845/19711/5',\n",
       "   '/tessmannDigital/Zeitungsarchiv/Seite/Zeitung/2/1/22.08.1845/19711/6',\n",
       "   '/tessmannDigital/Zeitungsarchiv/Seite/Zeitung/2/1/22.08.1845/19711/7',\n",
       "   '/tessmannDigital/Zeitungsarchiv/Seite/Zeitung/2/1/22.08.1845/19711/8',\n",
       "   '/tessmannDigital/Zeitungsarchiv/Seite/Zeitung/2/1/22.08.1845/19711/9',\n",
       "   '/tessmannDigital/Zeitungsarchiv/Seite/Zeitung/2/1/22.08.1845/19711/10']],\n",
       " ['08-29-1845',\n",
       "  '29.08.1845',\n",
       "  ['/tessmannDigital/Zeitungsarchiv/Seite/Zeitung/2/1/29.08.1845/19712/1',\n",
       "   '/tessmannDigital/Zeitungsarchiv/Seite/Zeitung/2/1/29.08.1845/19712/2',\n",
       "   '/tessmannDigital/Zeitungsarchiv/Seite/Zeitung/2/1/29.08.1845/19712/3',\n",
       "   '/tessmannDigital/Zeitungsarchiv/Seite/Zeitung/2/1/29.08.1845/19712/4',\n",
       "   '/tessmannDigital/Zeitungsarchiv/Seite/Zeitung/2/1/29.08.1845/19712/5',\n",
       "   '/tessmannDigital/Zeitungsarchiv/Seite/Zeitung/2/1/29.08.1845/19712/6',\n",
       "   '/tessmannDigital/Zeitungsarchiv/Seite/Zeitung/2/1/29.08.1845/19712/7',\n",
       "   '/tessmannDigital/Zeitungsarchiv/Seite/Zeitung/2/1/29.08.1845/19712/8',\n",
       "   '/tessmannDigital/Zeitungsarchiv/Seite/Zeitung/2/1/29.08.1845/19712/9',\n",
       "   '/tessmannDigital/Zeitungsarchiv/Seite/Zeitung/2/1/29.08.1845/19712/10']],\n",
       " ['09-05-1845',\n",
       "  '05.09.1845',\n",
       "  ['/tessmannDigital/Zeitungsarchiv/Seite/Zeitung/2/1/05.09.1845/19713/1',\n",
       "   '/tessmannDigital/Zeitungsarchiv/Seite/Zeitung/2/1/05.09.1845/19713/2',\n",
       "   '/tessmannDigital/Zeitungsarchiv/Seite/Zeitung/2/1/05.09.1845/19713/3',\n",
       "   '/tessmannDigital/Zeitungsarchiv/Seite/Zeitung/2/1/05.09.1845/19713/4',\n",
       "   '/tessmannDigital/Zeitungsarchiv/Seite/Zeitung/2/1/05.09.1845/19713/5',\n",
       "   '/tessmannDigital/Zeitungsarchiv/Seite/Zeitung/2/1/05.09.1845/19713/6',\n",
       "   '/tessmannDigital/Zeitungsarchiv/Seite/Zeitung/2/1/05.09.1845/19713/7',\n",
       "   '/tessmannDigital/Zeitungsarchiv/Seite/Zeitung/2/1/05.09.1845/19713/8',\n",
       "   '/tessmannDigital/Zeitungsarchiv/Seite/Zeitung/2/1/05.09.1845/19713/9',\n",
       "   '/tessmannDigital/Zeitungsarchiv/Seite/Zeitung/2/1/05.09.1845/19713/10',\n",
       "   '/tessmannDigital/Zeitungsarchiv/Seite/Zeitung/2/1/05.09.1845/19713/11']],\n",
       " ['09-12-1845',\n",
       "  '12.09.1845',\n",
       "  ['/tessmannDigital/Zeitungsarchiv/Seite/Zeitung/2/1/12.09.1845/19714/1',\n",
       "   '/tessmannDigital/Zeitungsarchiv/Seite/Zeitung/2/1/12.09.1845/19714/2',\n",
       "   '/tessmannDigital/Zeitungsarchiv/Seite/Zeitung/2/1/12.09.1845/19714/3',\n",
       "   '/tessmannDigital/Zeitungsarchiv/Seite/Zeitung/2/1/12.09.1845/19714/4',\n",
       "   '/tessmannDigital/Zeitungsarchiv/Seite/Zeitung/2/1/12.09.1845/19714/5',\n",
       "   '/tessmannDigital/Zeitungsarchiv/Seite/Zeitung/2/1/12.09.1845/19714/6',\n",
       "   '/tessmannDigital/Zeitungsarchiv/Seite/Zeitung/2/1/12.09.1845/19714/7',\n",
       "   '/tessmannDigital/Zeitungsarchiv/Seite/Zeitung/2/1/12.09.1845/19714/8',\n",
       "   '/tessmannDigital/Zeitungsarchiv/Seite/Zeitung/2/1/12.09.1845/19714/9',\n",
       "   '/tessmannDigital/Zeitungsarchiv/Seite/Zeitung/2/1/12.09.1845/19714/10',\n",
       "   '/tessmannDigital/Zeitungsarchiv/Seite/Zeitung/2/1/12.09.1845/19714/11']],\n",
       " ['09-19-1845',\n",
       "  '19.09.1845',\n",
       "  ['/tessmannDigital/Zeitungsarchiv/Seite/Zeitung/2/1/19.09.1845/19715/1',\n",
       "   '/tessmannDigital/Zeitungsarchiv/Seite/Zeitung/2/1/19.09.1845/19715/2',\n",
       "   '/tessmannDigital/Zeitungsarchiv/Seite/Zeitung/2/1/19.09.1845/19715/3',\n",
       "   '/tessmannDigital/Zeitungsarchiv/Seite/Zeitung/2/1/19.09.1845/19715/4',\n",
       "   '/tessmannDigital/Zeitungsarchiv/Seite/Zeitung/2/1/19.09.1845/19715/5',\n",
       "   '/tessmannDigital/Zeitungsarchiv/Seite/Zeitung/2/1/19.09.1845/19715/6',\n",
       "   '/tessmannDigital/Zeitungsarchiv/Seite/Zeitung/2/1/19.09.1845/19715/7',\n",
       "   '/tessmannDigital/Zeitungsarchiv/Seite/Zeitung/2/1/19.09.1845/19715/8',\n",
       "   '/tessmannDigital/Zeitungsarchiv/Seite/Zeitung/2/1/19.09.1845/19715/9',\n",
       "   '/tessmannDigital/Zeitungsarchiv/Seite/Zeitung/2/1/19.09.1845/19715/10',\n",
       "   '/tessmannDigital/Zeitungsarchiv/Seite/Zeitung/2/1/19.09.1845/19715/11']],\n",
       " ['10-03-1845',\n",
       "  '03.10.1845',\n",
       "  ['/tessmannDigital/Zeitungsarchiv/Seite/Zeitung/2/1/03.10.1845/19716/1',\n",
       "   '/tessmannDigital/Zeitungsarchiv/Seite/Zeitung/2/1/03.10.1845/19716/2',\n",
       "   '/tessmannDigital/Zeitungsarchiv/Seite/Zeitung/2/1/03.10.1845/19716/3',\n",
       "   '/tessmannDigital/Zeitungsarchiv/Seite/Zeitung/2/1/03.10.1845/19716/4',\n",
       "   '/tessmannDigital/Zeitungsarchiv/Seite/Zeitung/2/1/03.10.1845/19716/5',\n",
       "   '/tessmannDigital/Zeitungsarchiv/Seite/Zeitung/2/1/03.10.1845/19716/6',\n",
       "   '/tessmannDigital/Zeitungsarchiv/Seite/Zeitung/2/1/03.10.1845/19716/7',\n",
       "   '/tessmannDigital/Zeitungsarchiv/Seite/Zeitung/2/1/03.10.1845/19716/8',\n",
       "   '/tessmannDigital/Zeitungsarchiv/Seite/Zeitung/2/1/03.10.1845/19716/9']],\n",
       " ['10-10-1845',\n",
       "  '10.10.1845',\n",
       "  ['/tessmannDigital/Zeitungsarchiv/Seite/Zeitung/2/1/10.10.1845/19717/1',\n",
       "   '/tessmannDigital/Zeitungsarchiv/Seite/Zeitung/2/1/10.10.1845/19717/2',\n",
       "   '/tessmannDigital/Zeitungsarchiv/Seite/Zeitung/2/1/10.10.1845/19717/3',\n",
       "   '/tessmannDigital/Zeitungsarchiv/Seite/Zeitung/2/1/10.10.1845/19717/4',\n",
       "   '/tessmannDigital/Zeitungsarchiv/Seite/Zeitung/2/1/10.10.1845/19717/5',\n",
       "   '/tessmannDigital/Zeitungsarchiv/Seite/Zeitung/2/1/10.10.1845/19717/6',\n",
       "   '/tessmannDigital/Zeitungsarchiv/Seite/Zeitung/2/1/10.10.1845/19717/7',\n",
       "   '/tessmannDigital/Zeitungsarchiv/Seite/Zeitung/2/1/10.10.1845/19717/8']],\n",
       " ['10-17-1845',\n",
       "  '17.10.1845',\n",
       "  ['/tessmannDigital/Zeitungsarchiv/Seite/Zeitung/2/1/17.10.1845/19718/1',\n",
       "   '/tessmannDigital/Zeitungsarchiv/Seite/Zeitung/2/1/17.10.1845/19718/2',\n",
       "   '/tessmannDigital/Zeitungsarchiv/Seite/Zeitung/2/1/17.10.1845/19718/3',\n",
       "   '/tessmannDigital/Zeitungsarchiv/Seite/Zeitung/2/1/17.10.1845/19718/4',\n",
       "   '/tessmannDigital/Zeitungsarchiv/Seite/Zeitung/2/1/17.10.1845/19718/5',\n",
       "   '/tessmannDigital/Zeitungsarchiv/Seite/Zeitung/2/1/17.10.1845/19718/6',\n",
       "   '/tessmannDigital/Zeitungsarchiv/Seite/Zeitung/2/1/17.10.1845/19718/7',\n",
       "   '/tessmannDigital/Zeitungsarchiv/Seite/Zeitung/2/1/17.10.1845/19718/8']],\n",
       " ['10-24-1845',\n",
       "  '24.10.1845',\n",
       "  ['/tessmannDigital/Zeitungsarchiv/Seite/Zeitung/2/1/24.10.1845/19719/1',\n",
       "   '/tessmannDigital/Zeitungsarchiv/Seite/Zeitung/2/1/24.10.1845/19719/2',\n",
       "   '/tessmannDigital/Zeitungsarchiv/Seite/Zeitung/2/1/24.10.1845/19719/3',\n",
       "   '/tessmannDigital/Zeitungsarchiv/Seite/Zeitung/2/1/24.10.1845/19719/4']],\n",
       " ['10-31-1845',\n",
       "  '31.10.1845',\n",
       "  ['/tessmannDigital/Zeitungsarchiv/Seite/Zeitung/2/1/31.10.1845/19720/1',\n",
       "   '/tessmannDigital/Zeitungsarchiv/Seite/Zeitung/2/1/31.10.1845/19720/2',\n",
       "   '/tessmannDigital/Zeitungsarchiv/Seite/Zeitung/2/1/31.10.1845/19720/3',\n",
       "   '/tessmannDigital/Zeitungsarchiv/Seite/Zeitung/2/1/31.10.1845/19720/4',\n",
       "   '/tessmannDigital/Zeitungsarchiv/Seite/Zeitung/2/1/31.10.1845/19720/5',\n",
       "   '/tessmannDigital/Zeitungsarchiv/Seite/Zeitung/2/1/31.10.1845/19720/6']],\n",
       " ['11-07-1845',\n",
       "  '07.11.1845',\n",
       "  ['/tessmannDigital/Zeitungsarchiv/Seite/Zeitung/2/1/07.11.1845/19721/1',\n",
       "   '/tessmannDigital/Zeitungsarchiv/Seite/Zeitung/2/1/07.11.1845/19721/2',\n",
       "   '/tessmannDigital/Zeitungsarchiv/Seite/Zeitung/2/1/07.11.1845/19721/3',\n",
       "   '/tessmannDigital/Zeitungsarchiv/Seite/Zeitung/2/1/07.11.1845/19721/4',\n",
       "   '/tessmannDigital/Zeitungsarchiv/Seite/Zeitung/2/1/07.11.1845/19721/5',\n",
       "   '/tessmannDigital/Zeitungsarchiv/Seite/Zeitung/2/1/07.11.1845/19721/6',\n",
       "   '/tessmannDigital/Zeitungsarchiv/Seite/Zeitung/2/1/07.11.1845/19721/7',\n",
       "   '/tessmannDigital/Zeitungsarchiv/Seite/Zeitung/2/1/07.11.1845/19721/8']],\n",
       " ['11-14-1845',\n",
       "  '14.11.1845',\n",
       "  ['/tessmannDigital/Zeitungsarchiv/Seite/Zeitung/2/1/14.11.1845/19722/1',\n",
       "   '/tessmannDigital/Zeitungsarchiv/Seite/Zeitung/2/1/14.11.1845/19722/2',\n",
       "   '/tessmannDigital/Zeitungsarchiv/Seite/Zeitung/2/1/14.11.1845/19722/3',\n",
       "   '/tessmannDigital/Zeitungsarchiv/Seite/Zeitung/2/1/14.11.1845/19722/4',\n",
       "   '/tessmannDigital/Zeitungsarchiv/Seite/Zeitung/2/1/14.11.1845/19722/5',\n",
       "   '/tessmannDigital/Zeitungsarchiv/Seite/Zeitung/2/1/14.11.1845/19722/6']],\n",
       " ['11-21-1845',\n",
       "  '21.11.1845',\n",
       "  ['/tessmannDigital/Zeitungsarchiv/Seite/Zeitung/2/1/21.11.1845/19723/1',\n",
       "   '/tessmannDigital/Zeitungsarchiv/Seite/Zeitung/2/1/21.11.1845/19723/2',\n",
       "   '/tessmannDigital/Zeitungsarchiv/Seite/Zeitung/2/1/21.11.1845/19723/3',\n",
       "   '/tessmannDigital/Zeitungsarchiv/Seite/Zeitung/2/1/21.11.1845/19723/4']],\n",
       " ['11-28-1845',\n",
       "  '28.11.1845',\n",
       "  ['/tessmannDigital/Zeitungsarchiv/Seite/Zeitung/2/1/28.11.1845/19724/1',\n",
       "   '/tessmannDigital/Zeitungsarchiv/Seite/Zeitung/2/1/28.11.1845/19724/2',\n",
       "   '/tessmannDigital/Zeitungsarchiv/Seite/Zeitung/2/1/28.11.1845/19724/3',\n",
       "   '/tessmannDigital/Zeitungsarchiv/Seite/Zeitung/2/1/28.11.1845/19724/4',\n",
       "   '/tessmannDigital/Zeitungsarchiv/Seite/Zeitung/2/1/28.11.1845/19724/5',\n",
       "   '/tessmannDigital/Zeitungsarchiv/Seite/Zeitung/2/1/28.11.1845/19724/6']],\n",
       " ['12-05-1845',\n",
       "  '05.12.1845',\n",
       "  ['/tessmannDigital/Zeitungsarchiv/Seite/Zeitung/2/1/05.12.1845/19725/1',\n",
       "   '/tessmannDigital/Zeitungsarchiv/Seite/Zeitung/2/1/05.12.1845/19725/2',\n",
       "   '/tessmannDigital/Zeitungsarchiv/Seite/Zeitung/2/1/05.12.1845/19725/3',\n",
       "   '/tessmannDigital/Zeitungsarchiv/Seite/Zeitung/2/1/05.12.1845/19725/4',\n",
       "   '/tessmannDigital/Zeitungsarchiv/Seite/Zeitung/2/1/05.12.1845/19725/5',\n",
       "   '/tessmannDigital/Zeitungsarchiv/Seite/Zeitung/2/1/05.12.1845/19725/6',\n",
       "   '/tessmannDigital/Zeitungsarchiv/Seite/Zeitung/2/1/05.12.1845/19725/7',\n",
       "   '/tessmannDigital/Zeitungsarchiv/Seite/Zeitung/2/1/05.12.1845/19725/8']],\n",
       " ['12-12-1845',\n",
       "  '12.12.1845',\n",
       "  ['/tessmannDigital/Zeitungsarchiv/Seite/Zeitung/2/1/12.12.1845/19726/1',\n",
       "   '/tessmannDigital/Zeitungsarchiv/Seite/Zeitung/2/1/12.12.1845/19726/2',\n",
       "   '/tessmannDigital/Zeitungsarchiv/Seite/Zeitung/2/1/12.12.1845/19726/3',\n",
       "   '/tessmannDigital/Zeitungsarchiv/Seite/Zeitung/2/1/12.12.1845/19726/4',\n",
       "   '/tessmannDigital/Zeitungsarchiv/Seite/Zeitung/2/1/12.12.1845/19726/5',\n",
       "   '/tessmannDigital/Zeitungsarchiv/Seite/Zeitung/2/1/12.12.1845/19726/6']],\n",
       " ['12-19-1845',\n",
       "  '19.12.1845',\n",
       "  ['/tessmannDigital/Zeitungsarchiv/Seite/Zeitung/2/1/19.12.1845/19727/1',\n",
       "   '/tessmannDigital/Zeitungsarchiv/Seite/Zeitung/2/1/19.12.1845/19727/2',\n",
       "   '/tessmannDigital/Zeitungsarchiv/Seite/Zeitung/2/1/19.12.1845/19727/3',\n",
       "   '/tessmannDigital/Zeitungsarchiv/Seite/Zeitung/2/1/19.12.1845/19727/4',\n",
       "   '/tessmannDigital/Zeitungsarchiv/Seite/Zeitung/2/1/19.12.1845/19727/5',\n",
       "   '/tessmannDigital/Zeitungsarchiv/Seite/Zeitung/2/1/19.12.1845/19727/6']],\n",
       " ['12-26-1845',\n",
       "  '26.12.1845',\n",
       "  ['/tessmannDigital/Zeitungsarchiv/Seite/Zeitung/2/1/26.12.1845/19728/1',\n",
       "   '/tessmannDigital/Zeitungsarchiv/Seite/Zeitung/2/1/26.12.1845/19728/2',\n",
       "   '/tessmannDigital/Zeitungsarchiv/Seite/Zeitung/2/1/26.12.1845/19728/3',\n",
       "   '/tessmannDigital/Zeitungsarchiv/Seite/Zeitung/2/1/26.12.1845/19728/4']]]"
      ]
     },
     "execution_count": 22,
     "metadata": {},
     "output_type": "execute_result"
    }
   ],
   "source": [
    "# sort datelist\n",
    "new_list = []\n",
    "for num, item in enumerate(datelist):\n",
    "    #print(item.split('.'))\n",
    "    strl = item.split('.')\n",
    "    new_list.append([])\n",
    "    new_list[num].append(str(strl[1])+'-'+str(strl[0])+'-'+str(strl[2]))\n",
    "    new_list[num].append(item)\n",
    "    new_list[num].append(ind_list[num])\n",
    "new_list.sort()\n",
    "new_list"
   ]
  },
  {
   "cell_type": "markdown",
   "metadata": {},
   "source": [
    "## Download all pages of each issue\n",
    "\n",
    "We don't know yet what page we are interested in, therefore we dowload all pages of all issues."
   ]
  },
  {
   "cell_type": "code",
   "execution_count": 23,
   "metadata": {},
   "outputs": [
    {
     "name": "stdout",
     "output_type": "stream",
     "text": [
      "01-03-1845\n"
     ]
    },
    {
     "data": {
      "text/plain": [
       "'https://digital.tessmann.it/tessmannDigital/Zeitungsarchiv/Seite/Zeitung/2/1/03.01.1845/19678/1'"
      ]
     },
     "execution_count": 23,
     "metadata": {},
     "output_type": "execute_result"
    }
   ],
   "source": [
    "# test address \n",
    "num = 0\n",
    "print(new_list[num][0])\n",
    "adstr1 = 'https://digital.tessmann.it'\n",
    "adstr2 = str(new_list[num][2][0])\n",
    "page_url = adstr1+adstr2\n",
    "page_url"
   ]
  },
  {
   "cell_type": "code",
   "execution_count": 24,
   "metadata": {},
   "outputs": [],
   "source": [
    "# loop over issues for this year\n",
    "page_url_list = []\n",
    "for num in range(len(new_list)):\n",
    "    page_url_list.append([])\n",
    "    for p in range(len(new_list[num][2])):\n",
    "        adstr2 = str(new_list[num][2][p])\n",
    "        page_url_list[num].append(adstr1+adstr2)"
   ]
  },
  {
   "cell_type": "code",
   "execution_count": 25,
   "metadata": {
    "scrolled": true
   },
   "outputs": [
    {
     "data": {
      "text/plain": [
       "[['https://digital.tessmann.it/tessmannDigital/Zeitungsarchiv/Seite/Zeitung/2/1/03.01.1845/19678/1',\n",
       "  'https://digital.tessmann.it/tessmannDigital/Zeitungsarchiv/Seite/Zeitung/2/1/03.01.1845/19678/2',\n",
       "  'https://digital.tessmann.it/tessmannDigital/Zeitungsarchiv/Seite/Zeitung/2/1/03.01.1845/19678/3',\n",
       "  'https://digital.tessmann.it/tessmannDigital/Zeitungsarchiv/Seite/Zeitung/2/1/03.01.1845/19678/4',\n",
       "  'https://digital.tessmann.it/tessmannDigital/Zeitungsarchiv/Seite/Zeitung/2/1/03.01.1845/19678/5',\n",
       "  'https://digital.tessmann.it/tessmannDigital/Zeitungsarchiv/Seite/Zeitung/2/1/03.01.1845/19678/6'],\n",
       " ['https://digital.tessmann.it/tessmannDigital/Zeitungsarchiv/Seite/Zeitung/2/1/10.01.1845/19679/1',\n",
       "  'https://digital.tessmann.it/tessmannDigital/Zeitungsarchiv/Seite/Zeitung/2/1/10.01.1845/19679/2',\n",
       "  'https://digital.tessmann.it/tessmannDigital/Zeitungsarchiv/Seite/Zeitung/2/1/10.01.1845/19679/3',\n",
       "  'https://digital.tessmann.it/tessmannDigital/Zeitungsarchiv/Seite/Zeitung/2/1/10.01.1845/19679/4',\n",
       "  'https://digital.tessmann.it/tessmannDigital/Zeitungsarchiv/Seite/Zeitung/2/1/10.01.1845/19679/5',\n",
       "  'https://digital.tessmann.it/tessmannDigital/Zeitungsarchiv/Seite/Zeitung/2/1/10.01.1845/19679/6'],\n",
       " ['https://digital.tessmann.it/tessmannDigital/Zeitungsarchiv/Seite/Zeitung/2/1/17.01.1845/19680/1',\n",
       "  'https://digital.tessmann.it/tessmannDigital/Zeitungsarchiv/Seite/Zeitung/2/1/17.01.1845/19680/2',\n",
       "  'https://digital.tessmann.it/tessmannDigital/Zeitungsarchiv/Seite/Zeitung/2/1/17.01.1845/19680/3',\n",
       "  'https://digital.tessmann.it/tessmannDigital/Zeitungsarchiv/Seite/Zeitung/2/1/17.01.1845/19680/4'],\n",
       " ['https://digital.tessmann.it/tessmannDigital/Zeitungsarchiv/Seite/Zeitung/2/1/24.01.1845/19681/1',\n",
       "  'https://digital.tessmann.it/tessmannDigital/Zeitungsarchiv/Seite/Zeitung/2/1/24.01.1845/19681/2',\n",
       "  'https://digital.tessmann.it/tessmannDigital/Zeitungsarchiv/Seite/Zeitung/2/1/24.01.1845/19681/3',\n",
       "  'https://digital.tessmann.it/tessmannDigital/Zeitungsarchiv/Seite/Zeitung/2/1/24.01.1845/19681/4',\n",
       "  'https://digital.tessmann.it/tessmannDigital/Zeitungsarchiv/Seite/Zeitung/2/1/24.01.1845/19681/5',\n",
       "  'https://digital.tessmann.it/tessmannDigital/Zeitungsarchiv/Seite/Zeitung/2/1/24.01.1845/19681/6'],\n",
       " ['https://digital.tessmann.it/tessmannDigital/Zeitungsarchiv/Seite/Zeitung/2/1/31.01.1845/19682/1',\n",
       "  'https://digital.tessmann.it/tessmannDigital/Zeitungsarchiv/Seite/Zeitung/2/1/31.01.1845/19682/2',\n",
       "  'https://digital.tessmann.it/tessmannDigital/Zeitungsarchiv/Seite/Zeitung/2/1/31.01.1845/19682/3',\n",
       "  'https://digital.tessmann.it/tessmannDigital/Zeitungsarchiv/Seite/Zeitung/2/1/31.01.1845/19682/4',\n",
       "  'https://digital.tessmann.it/tessmannDigital/Zeitungsarchiv/Seite/Zeitung/2/1/31.01.1845/19682/5',\n",
       "  'https://digital.tessmann.it/tessmannDigital/Zeitungsarchiv/Seite/Zeitung/2/1/31.01.1845/19682/6',\n",
       "  'https://digital.tessmann.it/tessmannDigital/Zeitungsarchiv/Seite/Zeitung/2/1/31.01.1845/19682/7',\n",
       "  'https://digital.tessmann.it/tessmannDigital/Zeitungsarchiv/Seite/Zeitung/2/1/31.01.1845/19682/8'],\n",
       " ['https://digital.tessmann.it/tessmannDigital/Zeitungsarchiv/Seite/Zeitung/2/1/07.02.1845/19683/1',\n",
       "  'https://digital.tessmann.it/tessmannDigital/Zeitungsarchiv/Seite/Zeitung/2/1/07.02.1845/19683/2',\n",
       "  'https://digital.tessmann.it/tessmannDigital/Zeitungsarchiv/Seite/Zeitung/2/1/07.02.1845/19683/3',\n",
       "  'https://digital.tessmann.it/tessmannDigital/Zeitungsarchiv/Seite/Zeitung/2/1/07.02.1845/19683/4',\n",
       "  'https://digital.tessmann.it/tessmannDigital/Zeitungsarchiv/Seite/Zeitung/2/1/07.02.1845/19683/5',\n",
       "  'https://digital.tessmann.it/tessmannDigital/Zeitungsarchiv/Seite/Zeitung/2/1/07.02.1845/19683/6',\n",
       "  'https://digital.tessmann.it/tessmannDigital/Zeitungsarchiv/Seite/Zeitung/2/1/07.02.1845/19683/7',\n",
       "  'https://digital.tessmann.it/tessmannDigital/Zeitungsarchiv/Seite/Zeitung/2/1/07.02.1845/19683/8'],\n",
       " ['https://digital.tessmann.it/tessmannDigital/Zeitungsarchiv/Seite/Zeitung/2/1/14.02.1845/19684/1',\n",
       "  'https://digital.tessmann.it/tessmannDigital/Zeitungsarchiv/Seite/Zeitung/2/1/14.02.1845/19684/2',\n",
       "  'https://digital.tessmann.it/tessmannDigital/Zeitungsarchiv/Seite/Zeitung/2/1/14.02.1845/19684/3',\n",
       "  'https://digital.tessmann.it/tessmannDigital/Zeitungsarchiv/Seite/Zeitung/2/1/14.02.1845/19684/4',\n",
       "  'https://digital.tessmann.it/tessmannDigital/Zeitungsarchiv/Seite/Zeitung/2/1/14.02.1845/19684/5',\n",
       "  'https://digital.tessmann.it/tessmannDigital/Zeitungsarchiv/Seite/Zeitung/2/1/14.02.1845/19684/6',\n",
       "  'https://digital.tessmann.it/tessmannDigital/Zeitungsarchiv/Seite/Zeitung/2/1/14.02.1845/19684/7',\n",
       "  'https://digital.tessmann.it/tessmannDigital/Zeitungsarchiv/Seite/Zeitung/2/1/14.02.1845/19684/8'],\n",
       " ['https://digital.tessmann.it/tessmannDigital/Zeitungsarchiv/Seite/Zeitung/2/1/21.02.1845/19685/1',\n",
       "  'https://digital.tessmann.it/tessmannDigital/Zeitungsarchiv/Seite/Zeitung/2/1/21.02.1845/19685/2',\n",
       "  'https://digital.tessmann.it/tessmannDigital/Zeitungsarchiv/Seite/Zeitung/2/1/21.02.1845/19685/3',\n",
       "  'https://digital.tessmann.it/tessmannDigital/Zeitungsarchiv/Seite/Zeitung/2/1/21.02.1845/19685/4',\n",
       "  'https://digital.tessmann.it/tessmannDigital/Zeitungsarchiv/Seite/Zeitung/2/1/21.02.1845/19685/5',\n",
       "  'https://digital.tessmann.it/tessmannDigital/Zeitungsarchiv/Seite/Zeitung/2/1/21.02.1845/19685/6',\n",
       "  'https://digital.tessmann.it/tessmannDigital/Zeitungsarchiv/Seite/Zeitung/2/1/21.02.1845/19685/7',\n",
       "  'https://digital.tessmann.it/tessmannDigital/Zeitungsarchiv/Seite/Zeitung/2/1/21.02.1845/19685/8'],\n",
       " ['https://digital.tessmann.it/tessmannDigital/Zeitungsarchiv/Seite/Zeitung/2/1/28.02.1845/19686/1',\n",
       "  'https://digital.tessmann.it/tessmannDigital/Zeitungsarchiv/Seite/Zeitung/2/1/28.02.1845/19686/2',\n",
       "  'https://digital.tessmann.it/tessmannDigital/Zeitungsarchiv/Seite/Zeitung/2/1/28.02.1845/19686/3',\n",
       "  'https://digital.tessmann.it/tessmannDigital/Zeitungsarchiv/Seite/Zeitung/2/1/28.02.1845/19686/4',\n",
       "  'https://digital.tessmann.it/tessmannDigital/Zeitungsarchiv/Seite/Zeitung/2/1/28.02.1845/19686/5',\n",
       "  'https://digital.tessmann.it/tessmannDigital/Zeitungsarchiv/Seite/Zeitung/2/1/28.02.1845/19686/6'],\n",
       " ['https://digital.tessmann.it/tessmannDigital/Zeitungsarchiv/Seite/Zeitung/2/1/07.03.1845/19687/1',\n",
       "  'https://digital.tessmann.it/tessmannDigital/Zeitungsarchiv/Seite/Zeitung/2/1/07.03.1845/19687/2',\n",
       "  'https://digital.tessmann.it/tessmannDigital/Zeitungsarchiv/Seite/Zeitung/2/1/07.03.1845/19687/3',\n",
       "  'https://digital.tessmann.it/tessmannDigital/Zeitungsarchiv/Seite/Zeitung/2/1/07.03.1845/19687/4',\n",
       "  'https://digital.tessmann.it/tessmannDigital/Zeitungsarchiv/Seite/Zeitung/2/1/07.03.1845/19687/5',\n",
       "  'https://digital.tessmann.it/tessmannDigital/Zeitungsarchiv/Seite/Zeitung/2/1/07.03.1845/19687/6',\n",
       "  'https://digital.tessmann.it/tessmannDigital/Zeitungsarchiv/Seite/Zeitung/2/1/07.03.1845/19687/7',\n",
       "  'https://digital.tessmann.it/tessmannDigital/Zeitungsarchiv/Seite/Zeitung/2/1/07.03.1845/19687/8',\n",
       "  'https://digital.tessmann.it/tessmannDigital/Zeitungsarchiv/Seite/Zeitung/2/1/07.03.1845/19687/9',\n",
       "  'https://digital.tessmann.it/tessmannDigital/Zeitungsarchiv/Seite/Zeitung/2/1/07.03.1845/19687/10',\n",
       "  'https://digital.tessmann.it/tessmannDigital/Zeitungsarchiv/Seite/Zeitung/2/1/07.03.1845/19687/11'],\n",
       " ['https://digital.tessmann.it/tessmannDigital/Zeitungsarchiv/Seite/Zeitung/2/1/14.03.1845/19688/1',\n",
       "  'https://digital.tessmann.it/tessmannDigital/Zeitungsarchiv/Seite/Zeitung/2/1/14.03.1845/19688/2',\n",
       "  'https://digital.tessmann.it/tessmannDigital/Zeitungsarchiv/Seite/Zeitung/2/1/14.03.1845/19688/3',\n",
       "  'https://digital.tessmann.it/tessmannDigital/Zeitungsarchiv/Seite/Zeitung/2/1/14.03.1845/19688/4',\n",
       "  'https://digital.tessmann.it/tessmannDigital/Zeitungsarchiv/Seite/Zeitung/2/1/14.03.1845/19688/5',\n",
       "  'https://digital.tessmann.it/tessmannDigital/Zeitungsarchiv/Seite/Zeitung/2/1/14.03.1845/19688/6',\n",
       "  'https://digital.tessmann.it/tessmannDigital/Zeitungsarchiv/Seite/Zeitung/2/1/14.03.1845/19688/7',\n",
       "  'https://digital.tessmann.it/tessmannDigital/Zeitungsarchiv/Seite/Zeitung/2/1/14.03.1845/19688/8',\n",
       "  'https://digital.tessmann.it/tessmannDigital/Zeitungsarchiv/Seite/Zeitung/2/1/14.03.1845/19688/9',\n",
       "  'https://digital.tessmann.it/tessmannDigital/Zeitungsarchiv/Seite/Zeitung/2/1/14.03.1845/19688/10',\n",
       "  'https://digital.tessmann.it/tessmannDigital/Zeitungsarchiv/Seite/Zeitung/2/1/14.03.1845/19688/11'],\n",
       " ['https://digital.tessmann.it/tessmannDigital/Zeitungsarchiv/Seite/Zeitung/2/1/21.03.1845/19689/1',\n",
       "  'https://digital.tessmann.it/tessmannDigital/Zeitungsarchiv/Seite/Zeitung/2/1/21.03.1845/19689/2',\n",
       "  'https://digital.tessmann.it/tessmannDigital/Zeitungsarchiv/Seite/Zeitung/2/1/21.03.1845/19689/3',\n",
       "  'https://digital.tessmann.it/tessmannDigital/Zeitungsarchiv/Seite/Zeitung/2/1/21.03.1845/19689/4',\n",
       "  'https://digital.tessmann.it/tessmannDigital/Zeitungsarchiv/Seite/Zeitung/2/1/21.03.1845/19689/5',\n",
       "  'https://digital.tessmann.it/tessmannDigital/Zeitungsarchiv/Seite/Zeitung/2/1/21.03.1845/19689/6',\n",
       "  'https://digital.tessmann.it/tessmannDigital/Zeitungsarchiv/Seite/Zeitung/2/1/21.03.1845/19689/7',\n",
       "  'https://digital.tessmann.it/tessmannDigital/Zeitungsarchiv/Seite/Zeitung/2/1/21.03.1845/19689/8',\n",
       "  'https://digital.tessmann.it/tessmannDigital/Zeitungsarchiv/Seite/Zeitung/2/1/21.03.1845/19689/9',\n",
       "  'https://digital.tessmann.it/tessmannDigital/Zeitungsarchiv/Seite/Zeitung/2/1/21.03.1845/19689/10',\n",
       "  'https://digital.tessmann.it/tessmannDigital/Zeitungsarchiv/Seite/Zeitung/2/1/21.03.1845/19689/11'],\n",
       " ['https://digital.tessmann.it/tessmannDigital/Zeitungsarchiv/Seite/Zeitung/2/1/28.03.1845/19690/1',\n",
       "  'https://digital.tessmann.it/tessmannDigital/Zeitungsarchiv/Seite/Zeitung/2/1/28.03.1845/19690/2',\n",
       "  'https://digital.tessmann.it/tessmannDigital/Zeitungsarchiv/Seite/Zeitung/2/1/28.03.1845/19690/3',\n",
       "  'https://digital.tessmann.it/tessmannDigital/Zeitungsarchiv/Seite/Zeitung/2/1/28.03.1845/19690/4',\n",
       "  'https://digital.tessmann.it/tessmannDigital/Zeitungsarchiv/Seite/Zeitung/2/1/28.03.1845/19690/5',\n",
       "  'https://digital.tessmann.it/tessmannDigital/Zeitungsarchiv/Seite/Zeitung/2/1/28.03.1845/19690/6',\n",
       "  'https://digital.tessmann.it/tessmannDigital/Zeitungsarchiv/Seite/Zeitung/2/1/28.03.1845/19690/7',\n",
       "  'https://digital.tessmann.it/tessmannDigital/Zeitungsarchiv/Seite/Zeitung/2/1/28.03.1845/19690/8',\n",
       "  'https://digital.tessmann.it/tessmannDigital/Zeitungsarchiv/Seite/Zeitung/2/1/28.03.1845/19690/9',\n",
       "  'https://digital.tessmann.it/tessmannDigital/Zeitungsarchiv/Seite/Zeitung/2/1/28.03.1845/19690/10'],\n",
       " ['https://digital.tessmann.it/tessmannDigital/Zeitungsarchiv/Seite/Zeitung/2/1/04.04.1845/19691/1',\n",
       "  'https://digital.tessmann.it/tessmannDigital/Zeitungsarchiv/Seite/Zeitung/2/1/04.04.1845/19691/2',\n",
       "  'https://digital.tessmann.it/tessmannDigital/Zeitungsarchiv/Seite/Zeitung/2/1/04.04.1845/19691/3',\n",
       "  'https://digital.tessmann.it/tessmannDigital/Zeitungsarchiv/Seite/Zeitung/2/1/04.04.1845/19691/4',\n",
       "  'https://digital.tessmann.it/tessmannDigital/Zeitungsarchiv/Seite/Zeitung/2/1/04.04.1845/19691/5',\n",
       "  'https://digital.tessmann.it/tessmannDigital/Zeitungsarchiv/Seite/Zeitung/2/1/04.04.1845/19691/6',\n",
       "  'https://digital.tessmann.it/tessmannDigital/Zeitungsarchiv/Seite/Zeitung/2/1/04.04.1845/19691/7',\n",
       "  'https://digital.tessmann.it/tessmannDigital/Zeitungsarchiv/Seite/Zeitung/2/1/04.04.1845/19691/8'],\n",
       " ['https://digital.tessmann.it/tessmannDigital/Zeitungsarchiv/Seite/Zeitung/2/1/11.04.1845/19692/1',\n",
       "  'https://digital.tessmann.it/tessmannDigital/Zeitungsarchiv/Seite/Zeitung/2/1/11.04.1845/19692/2',\n",
       "  'https://digital.tessmann.it/tessmannDigital/Zeitungsarchiv/Seite/Zeitung/2/1/11.04.1845/19692/3',\n",
       "  'https://digital.tessmann.it/tessmannDigital/Zeitungsarchiv/Seite/Zeitung/2/1/11.04.1845/19692/4',\n",
       "  'https://digital.tessmann.it/tessmannDigital/Zeitungsarchiv/Seite/Zeitung/2/1/11.04.1845/19692/5',\n",
       "  'https://digital.tessmann.it/tessmannDigital/Zeitungsarchiv/Seite/Zeitung/2/1/11.04.1845/19692/6'],\n",
       " ['https://digital.tessmann.it/tessmannDigital/Zeitungsarchiv/Seite/Zeitung/2/1/18.04.1845/19693/1',\n",
       "  'https://digital.tessmann.it/tessmannDigital/Zeitungsarchiv/Seite/Zeitung/2/1/18.04.1845/19693/2',\n",
       "  'https://digital.tessmann.it/tessmannDigital/Zeitungsarchiv/Seite/Zeitung/2/1/18.04.1845/19693/3',\n",
       "  'https://digital.tessmann.it/tessmannDigital/Zeitungsarchiv/Seite/Zeitung/2/1/18.04.1845/19693/4',\n",
       "  'https://digital.tessmann.it/tessmannDigital/Zeitungsarchiv/Seite/Zeitung/2/1/18.04.1845/19693/5',\n",
       "  'https://digital.tessmann.it/tessmannDigital/Zeitungsarchiv/Seite/Zeitung/2/1/18.04.1845/19693/6'],\n",
       " ['https://digital.tessmann.it/tessmannDigital/Zeitungsarchiv/Seite/Zeitung/2/1/25.04.1845/19694/1',\n",
       "  'https://digital.tessmann.it/tessmannDigital/Zeitungsarchiv/Seite/Zeitung/2/1/25.04.1845/19694/2',\n",
       "  'https://digital.tessmann.it/tessmannDigital/Zeitungsarchiv/Seite/Zeitung/2/1/25.04.1845/19694/3',\n",
       "  'https://digital.tessmann.it/tessmannDigital/Zeitungsarchiv/Seite/Zeitung/2/1/25.04.1845/19694/4',\n",
       "  'https://digital.tessmann.it/tessmannDigital/Zeitungsarchiv/Seite/Zeitung/2/1/25.04.1845/19694/5',\n",
       "  'https://digital.tessmann.it/tessmannDigital/Zeitungsarchiv/Seite/Zeitung/2/1/25.04.1845/19694/6',\n",
       "  'https://digital.tessmann.it/tessmannDigital/Zeitungsarchiv/Seite/Zeitung/2/1/25.04.1845/19694/7'],\n",
       " ['https://digital.tessmann.it/tessmannDigital/Zeitungsarchiv/Seite/Zeitung/2/1/02.05.1845/19695/1',\n",
       "  'https://digital.tessmann.it/tessmannDigital/Zeitungsarchiv/Seite/Zeitung/2/1/02.05.1845/19695/2',\n",
       "  'https://digital.tessmann.it/tessmannDigital/Zeitungsarchiv/Seite/Zeitung/2/1/02.05.1845/19695/3',\n",
       "  'https://digital.tessmann.it/tessmannDigital/Zeitungsarchiv/Seite/Zeitung/2/1/02.05.1845/19695/4',\n",
       "  'https://digital.tessmann.it/tessmannDigital/Zeitungsarchiv/Seite/Zeitung/2/1/02.05.1845/19695/5',\n",
       "  'https://digital.tessmann.it/tessmannDigital/Zeitungsarchiv/Seite/Zeitung/2/1/02.05.1845/19695/6',\n",
       "  'https://digital.tessmann.it/tessmannDigital/Zeitungsarchiv/Seite/Zeitung/2/1/02.05.1845/19695/7',\n",
       "  'https://digital.tessmann.it/tessmannDigital/Zeitungsarchiv/Seite/Zeitung/2/1/02.05.1845/19695/8'],\n",
       " ['https://digital.tessmann.it/tessmannDigital/Zeitungsarchiv/Seite/Zeitung/2/1/09.05.1845/19696/1',\n",
       "  'https://digital.tessmann.it/tessmannDigital/Zeitungsarchiv/Seite/Zeitung/2/1/09.05.1845/19696/2',\n",
       "  'https://digital.tessmann.it/tessmannDigital/Zeitungsarchiv/Seite/Zeitung/2/1/09.05.1845/19696/3',\n",
       "  'https://digital.tessmann.it/tessmannDigital/Zeitungsarchiv/Seite/Zeitung/2/1/09.05.1845/19696/4',\n",
       "  'https://digital.tessmann.it/tessmannDigital/Zeitungsarchiv/Seite/Zeitung/2/1/09.05.1845/19696/5',\n",
       "  'https://digital.tessmann.it/tessmannDigital/Zeitungsarchiv/Seite/Zeitung/2/1/09.05.1845/19696/6',\n",
       "  'https://digital.tessmann.it/tessmannDigital/Zeitungsarchiv/Seite/Zeitung/2/1/09.05.1845/19696/7',\n",
       "  'https://digital.tessmann.it/tessmannDigital/Zeitungsarchiv/Seite/Zeitung/2/1/09.05.1845/19696/8',\n",
       "  'https://digital.tessmann.it/tessmannDigital/Zeitungsarchiv/Seite/Zeitung/2/1/09.05.1845/19696/9',\n",
       "  'https://digital.tessmann.it/tessmannDigital/Zeitungsarchiv/Seite/Zeitung/2/1/09.05.1845/19696/10'],\n",
       " ['https://digital.tessmann.it/tessmannDigital/Zeitungsarchiv/Seite/Zeitung/2/1/16.05.1845/19697/1',\n",
       "  'https://digital.tessmann.it/tessmannDigital/Zeitungsarchiv/Seite/Zeitung/2/1/16.05.1845/19697/2',\n",
       "  'https://digital.tessmann.it/tessmannDigital/Zeitungsarchiv/Seite/Zeitung/2/1/16.05.1845/19697/3',\n",
       "  'https://digital.tessmann.it/tessmannDigital/Zeitungsarchiv/Seite/Zeitung/2/1/16.05.1845/19697/4',\n",
       "  'https://digital.tessmann.it/tessmannDigital/Zeitungsarchiv/Seite/Zeitung/2/1/16.05.1845/19697/5',\n",
       "  'https://digital.tessmann.it/tessmannDigital/Zeitungsarchiv/Seite/Zeitung/2/1/16.05.1845/19697/6',\n",
       "  'https://digital.tessmann.it/tessmannDigital/Zeitungsarchiv/Seite/Zeitung/2/1/16.05.1845/19697/7',\n",
       "  'https://digital.tessmann.it/tessmannDigital/Zeitungsarchiv/Seite/Zeitung/2/1/16.05.1845/19697/8'],\n",
       " ['https://digital.tessmann.it/tessmannDigital/Zeitungsarchiv/Seite/Zeitung/2/1/23.05.1845/19698/1',\n",
       "  'https://digital.tessmann.it/tessmannDigital/Zeitungsarchiv/Seite/Zeitung/2/1/23.05.1845/19698/2',\n",
       "  'https://digital.tessmann.it/tessmannDigital/Zeitungsarchiv/Seite/Zeitung/2/1/23.05.1845/19698/3',\n",
       "  'https://digital.tessmann.it/tessmannDigital/Zeitungsarchiv/Seite/Zeitung/2/1/23.05.1845/19698/4',\n",
       "  'https://digital.tessmann.it/tessmannDigital/Zeitungsarchiv/Seite/Zeitung/2/1/23.05.1845/19698/5',\n",
       "  'https://digital.tessmann.it/tessmannDigital/Zeitungsarchiv/Seite/Zeitung/2/1/23.05.1845/19698/6',\n",
       "  'https://digital.tessmann.it/tessmannDigital/Zeitungsarchiv/Seite/Zeitung/2/1/23.05.1845/19698/7',\n",
       "  'https://digital.tessmann.it/tessmannDigital/Zeitungsarchiv/Seite/Zeitung/2/1/23.05.1845/19698/8',\n",
       "  'https://digital.tessmann.it/tessmannDigital/Zeitungsarchiv/Seite/Zeitung/2/1/23.05.1845/19698/9',\n",
       "  'https://digital.tessmann.it/tessmannDigital/Zeitungsarchiv/Seite/Zeitung/2/1/23.05.1845/19698/10',\n",
       "  'https://digital.tessmann.it/tessmannDigital/Zeitungsarchiv/Seite/Zeitung/2/1/23.05.1845/19698/11'],\n",
       " ['https://digital.tessmann.it/tessmannDigital/Zeitungsarchiv/Seite/Zeitung/2/1/30.05.1845/19699/1',\n",
       "  'https://digital.tessmann.it/tessmannDigital/Zeitungsarchiv/Seite/Zeitung/2/1/30.05.1845/19699/2',\n",
       "  'https://digital.tessmann.it/tessmannDigital/Zeitungsarchiv/Seite/Zeitung/2/1/30.05.1845/19699/3',\n",
       "  'https://digital.tessmann.it/tessmannDigital/Zeitungsarchiv/Seite/Zeitung/2/1/30.05.1845/19699/4',\n",
       "  'https://digital.tessmann.it/tessmannDigital/Zeitungsarchiv/Seite/Zeitung/2/1/30.05.1845/19699/5',\n",
       "  'https://digital.tessmann.it/tessmannDigital/Zeitungsarchiv/Seite/Zeitung/2/1/30.05.1845/19699/6'],\n",
       " ['https://digital.tessmann.it/tessmannDigital/Zeitungsarchiv/Seite/Zeitung/2/1/06.06.1845/19700/1',\n",
       "  'https://digital.tessmann.it/tessmannDigital/Zeitungsarchiv/Seite/Zeitung/2/1/06.06.1845/19700/2',\n",
       "  'https://digital.tessmann.it/tessmannDigital/Zeitungsarchiv/Seite/Zeitung/2/1/06.06.1845/19700/3',\n",
       "  'https://digital.tessmann.it/tessmannDigital/Zeitungsarchiv/Seite/Zeitung/2/1/06.06.1845/19700/4',\n",
       "  'https://digital.tessmann.it/tessmannDigital/Zeitungsarchiv/Seite/Zeitung/2/1/06.06.1845/19700/5',\n",
       "  'https://digital.tessmann.it/tessmannDigital/Zeitungsarchiv/Seite/Zeitung/2/1/06.06.1845/19700/6'],\n",
       " ['https://digital.tessmann.it/tessmannDigital/Zeitungsarchiv/Seite/Zeitung/2/1/13.06.1845/19701/1',\n",
       "  'https://digital.tessmann.it/tessmannDigital/Zeitungsarchiv/Seite/Zeitung/2/1/13.06.1845/19701/2',\n",
       "  'https://digital.tessmann.it/tessmannDigital/Zeitungsarchiv/Seite/Zeitung/2/1/13.06.1845/19701/3',\n",
       "  'https://digital.tessmann.it/tessmannDigital/Zeitungsarchiv/Seite/Zeitung/2/1/13.06.1845/19701/4',\n",
       "  'https://digital.tessmann.it/tessmannDigital/Zeitungsarchiv/Seite/Zeitung/2/1/13.06.1845/19701/5',\n",
       "  'https://digital.tessmann.it/tessmannDigital/Zeitungsarchiv/Seite/Zeitung/2/1/13.06.1845/19701/6'],\n",
       " ['https://digital.tessmann.it/tessmannDigital/Zeitungsarchiv/Seite/Zeitung/2/1/20.06.1845/19702/1',\n",
       "  'https://digital.tessmann.it/tessmannDigital/Zeitungsarchiv/Seite/Zeitung/2/1/20.06.1845/19702/2',\n",
       "  'https://digital.tessmann.it/tessmannDigital/Zeitungsarchiv/Seite/Zeitung/2/1/20.06.1845/19702/3',\n",
       "  'https://digital.tessmann.it/tessmannDigital/Zeitungsarchiv/Seite/Zeitung/2/1/20.06.1845/19702/4',\n",
       "  'https://digital.tessmann.it/tessmannDigital/Zeitungsarchiv/Seite/Zeitung/2/1/20.06.1845/19702/5',\n",
       "  'https://digital.tessmann.it/tessmannDigital/Zeitungsarchiv/Seite/Zeitung/2/1/20.06.1845/19702/6',\n",
       "  'https://digital.tessmann.it/tessmannDigital/Zeitungsarchiv/Seite/Zeitung/2/1/20.06.1845/19702/7',\n",
       "  'https://digital.tessmann.it/tessmannDigital/Zeitungsarchiv/Seite/Zeitung/2/1/20.06.1845/19702/8'],\n",
       " ['https://digital.tessmann.it/tessmannDigital/Zeitungsarchiv/Seite/Zeitung/2/1/27.06.1845/19703/1',\n",
       "  'https://digital.tessmann.it/tessmannDigital/Zeitungsarchiv/Seite/Zeitung/2/1/27.06.1845/19703/2',\n",
       "  'https://digital.tessmann.it/tessmannDigital/Zeitungsarchiv/Seite/Zeitung/2/1/27.06.1845/19703/3',\n",
       "  'https://digital.tessmann.it/tessmannDigital/Zeitungsarchiv/Seite/Zeitung/2/1/27.06.1845/19703/4',\n",
       "  'https://digital.tessmann.it/tessmannDigital/Zeitungsarchiv/Seite/Zeitung/2/1/27.06.1845/19703/5',\n",
       "  'https://digital.tessmann.it/tessmannDigital/Zeitungsarchiv/Seite/Zeitung/2/1/27.06.1845/19703/6',\n",
       "  'https://digital.tessmann.it/tessmannDigital/Zeitungsarchiv/Seite/Zeitung/2/1/27.06.1845/19703/7',\n",
       "  'https://digital.tessmann.it/tessmannDigital/Zeitungsarchiv/Seite/Zeitung/2/1/27.06.1845/19703/8'],\n",
       " ['https://digital.tessmann.it/tessmannDigital/Zeitungsarchiv/Seite/Zeitung/2/1/04.07.1845/19704/1',\n",
       "  'https://digital.tessmann.it/tessmannDigital/Zeitungsarchiv/Seite/Zeitung/2/1/04.07.1845/19704/2',\n",
       "  'https://digital.tessmann.it/tessmannDigital/Zeitungsarchiv/Seite/Zeitung/2/1/04.07.1845/19704/3',\n",
       "  'https://digital.tessmann.it/tessmannDigital/Zeitungsarchiv/Seite/Zeitung/2/1/04.07.1845/19704/4',\n",
       "  'https://digital.tessmann.it/tessmannDigital/Zeitungsarchiv/Seite/Zeitung/2/1/04.07.1845/19704/5',\n",
       "  'https://digital.tessmann.it/tessmannDigital/Zeitungsarchiv/Seite/Zeitung/2/1/04.07.1845/19704/6',\n",
       "  'https://digital.tessmann.it/tessmannDigital/Zeitungsarchiv/Seite/Zeitung/2/1/04.07.1845/19704/7',\n",
       "  'https://digital.tessmann.it/tessmannDigital/Zeitungsarchiv/Seite/Zeitung/2/1/04.07.1845/19704/8'],\n",
       " ['https://digital.tessmann.it/tessmannDigital/Zeitungsarchiv/Seite/Zeitung/2/1/11.07.1845/19705/1',\n",
       "  'https://digital.tessmann.it/tessmannDigital/Zeitungsarchiv/Seite/Zeitung/2/1/11.07.1845/19705/2',\n",
       "  'https://digital.tessmann.it/tessmannDigital/Zeitungsarchiv/Seite/Zeitung/2/1/11.07.1845/19705/3',\n",
       "  'https://digital.tessmann.it/tessmannDigital/Zeitungsarchiv/Seite/Zeitung/2/1/11.07.1845/19705/4',\n",
       "  'https://digital.tessmann.it/tessmannDigital/Zeitungsarchiv/Seite/Zeitung/2/1/11.07.1845/19705/5',\n",
       "  'https://digital.tessmann.it/tessmannDigital/Zeitungsarchiv/Seite/Zeitung/2/1/11.07.1845/19705/6'],\n",
       " ['https://digital.tessmann.it/tessmannDigital/Zeitungsarchiv/Seite/Zeitung/2/1/18.07.1845/19706/1',\n",
       "  'https://digital.tessmann.it/tessmannDigital/Zeitungsarchiv/Seite/Zeitung/2/1/18.07.1845/19706/2',\n",
       "  'https://digital.tessmann.it/tessmannDigital/Zeitungsarchiv/Seite/Zeitung/2/1/18.07.1845/19706/3',\n",
       "  'https://digital.tessmann.it/tessmannDigital/Zeitungsarchiv/Seite/Zeitung/2/1/18.07.1845/19706/4',\n",
       "  'https://digital.tessmann.it/tessmannDigital/Zeitungsarchiv/Seite/Zeitung/2/1/18.07.1845/19706/5',\n",
       "  'https://digital.tessmann.it/tessmannDigital/Zeitungsarchiv/Seite/Zeitung/2/1/18.07.1845/19706/6'],\n",
       " ['https://digital.tessmann.it/tessmannDigital/Zeitungsarchiv/Seite/Zeitung/2/1/25.07.1845/19707/1',\n",
       "  'https://digital.tessmann.it/tessmannDigital/Zeitungsarchiv/Seite/Zeitung/2/1/25.07.1845/19707/2',\n",
       "  'https://digital.tessmann.it/tessmannDigital/Zeitungsarchiv/Seite/Zeitung/2/1/25.07.1845/19707/3',\n",
       "  'https://digital.tessmann.it/tessmannDigital/Zeitungsarchiv/Seite/Zeitung/2/1/25.07.1845/19707/4',\n",
       "  'https://digital.tessmann.it/tessmannDigital/Zeitungsarchiv/Seite/Zeitung/2/1/25.07.1845/19707/5',\n",
       "  'https://digital.tessmann.it/tessmannDigital/Zeitungsarchiv/Seite/Zeitung/2/1/25.07.1845/19707/6'],\n",
       " ['https://digital.tessmann.it/tessmannDigital/Zeitungsarchiv/Seite/Zeitung/2/1/01.08.1845/19708/1',\n",
       "  'https://digital.tessmann.it/tessmannDigital/Zeitungsarchiv/Seite/Zeitung/2/1/01.08.1845/19708/2',\n",
       "  'https://digital.tessmann.it/tessmannDigital/Zeitungsarchiv/Seite/Zeitung/2/1/01.08.1845/19708/3',\n",
       "  'https://digital.tessmann.it/tessmannDigital/Zeitungsarchiv/Seite/Zeitung/2/1/01.08.1845/19708/4',\n",
       "  'https://digital.tessmann.it/tessmannDigital/Zeitungsarchiv/Seite/Zeitung/2/1/01.08.1845/19708/5',\n",
       "  'https://digital.tessmann.it/tessmannDigital/Zeitungsarchiv/Seite/Zeitung/2/1/01.08.1845/19708/6'],\n",
       " ['https://digital.tessmann.it/tessmannDigital/Zeitungsarchiv/Seite/Zeitung/2/1/08.08.1845/19709/1',\n",
       "  'https://digital.tessmann.it/tessmannDigital/Zeitungsarchiv/Seite/Zeitung/2/1/08.08.1845/19709/2',\n",
       "  'https://digital.tessmann.it/tessmannDigital/Zeitungsarchiv/Seite/Zeitung/2/1/08.08.1845/19709/3',\n",
       "  'https://digital.tessmann.it/tessmannDigital/Zeitungsarchiv/Seite/Zeitung/2/1/08.08.1845/19709/4',\n",
       "  'https://digital.tessmann.it/tessmannDigital/Zeitungsarchiv/Seite/Zeitung/2/1/08.08.1845/19709/5',\n",
       "  'https://digital.tessmann.it/tessmannDigital/Zeitungsarchiv/Seite/Zeitung/2/1/08.08.1845/19709/6',\n",
       "  'https://digital.tessmann.it/tessmannDigital/Zeitungsarchiv/Seite/Zeitung/2/1/08.08.1845/19709/7',\n",
       "  'https://digital.tessmann.it/tessmannDigital/Zeitungsarchiv/Seite/Zeitung/2/1/08.08.1845/19709/8'],\n",
       " ['https://digital.tessmann.it/tessmannDigital/Zeitungsarchiv/Seite/Zeitung/2/1/15.08.1845/19710/1',\n",
       "  'https://digital.tessmann.it/tessmannDigital/Zeitungsarchiv/Seite/Zeitung/2/1/15.08.1845/19710/2',\n",
       "  'https://digital.tessmann.it/tessmannDigital/Zeitungsarchiv/Seite/Zeitung/2/1/15.08.1845/19710/3',\n",
       "  'https://digital.tessmann.it/tessmannDigital/Zeitungsarchiv/Seite/Zeitung/2/1/15.08.1845/19710/4',\n",
       "  'https://digital.tessmann.it/tessmannDigital/Zeitungsarchiv/Seite/Zeitung/2/1/15.08.1845/19710/5',\n",
       "  'https://digital.tessmann.it/tessmannDigital/Zeitungsarchiv/Seite/Zeitung/2/1/15.08.1845/19710/6',\n",
       "  'https://digital.tessmann.it/tessmannDigital/Zeitungsarchiv/Seite/Zeitung/2/1/15.08.1845/19710/7',\n",
       "  'https://digital.tessmann.it/tessmannDigital/Zeitungsarchiv/Seite/Zeitung/2/1/15.08.1845/19710/8',\n",
       "  'https://digital.tessmann.it/tessmannDigital/Zeitungsarchiv/Seite/Zeitung/2/1/15.08.1845/19710/9',\n",
       "  'https://digital.tessmann.it/tessmannDigital/Zeitungsarchiv/Seite/Zeitung/2/1/15.08.1845/19710/10'],\n",
       " ['https://digital.tessmann.it/tessmannDigital/Zeitungsarchiv/Seite/Zeitung/2/1/22.08.1845/19711/1',\n",
       "  'https://digital.tessmann.it/tessmannDigital/Zeitungsarchiv/Seite/Zeitung/2/1/22.08.1845/19711/2',\n",
       "  'https://digital.tessmann.it/tessmannDigital/Zeitungsarchiv/Seite/Zeitung/2/1/22.08.1845/19711/3',\n",
       "  'https://digital.tessmann.it/tessmannDigital/Zeitungsarchiv/Seite/Zeitung/2/1/22.08.1845/19711/4',\n",
       "  'https://digital.tessmann.it/tessmannDigital/Zeitungsarchiv/Seite/Zeitung/2/1/22.08.1845/19711/5',\n",
       "  'https://digital.tessmann.it/tessmannDigital/Zeitungsarchiv/Seite/Zeitung/2/1/22.08.1845/19711/6',\n",
       "  'https://digital.tessmann.it/tessmannDigital/Zeitungsarchiv/Seite/Zeitung/2/1/22.08.1845/19711/7',\n",
       "  'https://digital.tessmann.it/tessmannDigital/Zeitungsarchiv/Seite/Zeitung/2/1/22.08.1845/19711/8',\n",
       "  'https://digital.tessmann.it/tessmannDigital/Zeitungsarchiv/Seite/Zeitung/2/1/22.08.1845/19711/9',\n",
       "  'https://digital.tessmann.it/tessmannDigital/Zeitungsarchiv/Seite/Zeitung/2/1/22.08.1845/19711/10'],\n",
       " ['https://digital.tessmann.it/tessmannDigital/Zeitungsarchiv/Seite/Zeitung/2/1/29.08.1845/19712/1',\n",
       "  'https://digital.tessmann.it/tessmannDigital/Zeitungsarchiv/Seite/Zeitung/2/1/29.08.1845/19712/2',\n",
       "  'https://digital.tessmann.it/tessmannDigital/Zeitungsarchiv/Seite/Zeitung/2/1/29.08.1845/19712/3',\n",
       "  'https://digital.tessmann.it/tessmannDigital/Zeitungsarchiv/Seite/Zeitung/2/1/29.08.1845/19712/4',\n",
       "  'https://digital.tessmann.it/tessmannDigital/Zeitungsarchiv/Seite/Zeitung/2/1/29.08.1845/19712/5',\n",
       "  'https://digital.tessmann.it/tessmannDigital/Zeitungsarchiv/Seite/Zeitung/2/1/29.08.1845/19712/6',\n",
       "  'https://digital.tessmann.it/tessmannDigital/Zeitungsarchiv/Seite/Zeitung/2/1/29.08.1845/19712/7',\n",
       "  'https://digital.tessmann.it/tessmannDigital/Zeitungsarchiv/Seite/Zeitung/2/1/29.08.1845/19712/8',\n",
       "  'https://digital.tessmann.it/tessmannDigital/Zeitungsarchiv/Seite/Zeitung/2/1/29.08.1845/19712/9',\n",
       "  'https://digital.tessmann.it/tessmannDigital/Zeitungsarchiv/Seite/Zeitung/2/1/29.08.1845/19712/10'],\n",
       " ['https://digital.tessmann.it/tessmannDigital/Zeitungsarchiv/Seite/Zeitung/2/1/05.09.1845/19713/1',\n",
       "  'https://digital.tessmann.it/tessmannDigital/Zeitungsarchiv/Seite/Zeitung/2/1/05.09.1845/19713/2',\n",
       "  'https://digital.tessmann.it/tessmannDigital/Zeitungsarchiv/Seite/Zeitung/2/1/05.09.1845/19713/3',\n",
       "  'https://digital.tessmann.it/tessmannDigital/Zeitungsarchiv/Seite/Zeitung/2/1/05.09.1845/19713/4',\n",
       "  'https://digital.tessmann.it/tessmannDigital/Zeitungsarchiv/Seite/Zeitung/2/1/05.09.1845/19713/5',\n",
       "  'https://digital.tessmann.it/tessmannDigital/Zeitungsarchiv/Seite/Zeitung/2/1/05.09.1845/19713/6',\n",
       "  'https://digital.tessmann.it/tessmannDigital/Zeitungsarchiv/Seite/Zeitung/2/1/05.09.1845/19713/7',\n",
       "  'https://digital.tessmann.it/tessmannDigital/Zeitungsarchiv/Seite/Zeitung/2/1/05.09.1845/19713/8',\n",
       "  'https://digital.tessmann.it/tessmannDigital/Zeitungsarchiv/Seite/Zeitung/2/1/05.09.1845/19713/9',\n",
       "  'https://digital.tessmann.it/tessmannDigital/Zeitungsarchiv/Seite/Zeitung/2/1/05.09.1845/19713/10',\n",
       "  'https://digital.tessmann.it/tessmannDigital/Zeitungsarchiv/Seite/Zeitung/2/1/05.09.1845/19713/11'],\n",
       " ['https://digital.tessmann.it/tessmannDigital/Zeitungsarchiv/Seite/Zeitung/2/1/12.09.1845/19714/1',\n",
       "  'https://digital.tessmann.it/tessmannDigital/Zeitungsarchiv/Seite/Zeitung/2/1/12.09.1845/19714/2',\n",
       "  'https://digital.tessmann.it/tessmannDigital/Zeitungsarchiv/Seite/Zeitung/2/1/12.09.1845/19714/3',\n",
       "  'https://digital.tessmann.it/tessmannDigital/Zeitungsarchiv/Seite/Zeitung/2/1/12.09.1845/19714/4',\n",
       "  'https://digital.tessmann.it/tessmannDigital/Zeitungsarchiv/Seite/Zeitung/2/1/12.09.1845/19714/5',\n",
       "  'https://digital.tessmann.it/tessmannDigital/Zeitungsarchiv/Seite/Zeitung/2/1/12.09.1845/19714/6',\n",
       "  'https://digital.tessmann.it/tessmannDigital/Zeitungsarchiv/Seite/Zeitung/2/1/12.09.1845/19714/7',\n",
       "  'https://digital.tessmann.it/tessmannDigital/Zeitungsarchiv/Seite/Zeitung/2/1/12.09.1845/19714/8',\n",
       "  'https://digital.tessmann.it/tessmannDigital/Zeitungsarchiv/Seite/Zeitung/2/1/12.09.1845/19714/9',\n",
       "  'https://digital.tessmann.it/tessmannDigital/Zeitungsarchiv/Seite/Zeitung/2/1/12.09.1845/19714/10',\n",
       "  'https://digital.tessmann.it/tessmannDigital/Zeitungsarchiv/Seite/Zeitung/2/1/12.09.1845/19714/11'],\n",
       " ['https://digital.tessmann.it/tessmannDigital/Zeitungsarchiv/Seite/Zeitung/2/1/19.09.1845/19715/1',\n",
       "  'https://digital.tessmann.it/tessmannDigital/Zeitungsarchiv/Seite/Zeitung/2/1/19.09.1845/19715/2',\n",
       "  'https://digital.tessmann.it/tessmannDigital/Zeitungsarchiv/Seite/Zeitung/2/1/19.09.1845/19715/3',\n",
       "  'https://digital.tessmann.it/tessmannDigital/Zeitungsarchiv/Seite/Zeitung/2/1/19.09.1845/19715/4',\n",
       "  'https://digital.tessmann.it/tessmannDigital/Zeitungsarchiv/Seite/Zeitung/2/1/19.09.1845/19715/5',\n",
       "  'https://digital.tessmann.it/tessmannDigital/Zeitungsarchiv/Seite/Zeitung/2/1/19.09.1845/19715/6',\n",
       "  'https://digital.tessmann.it/tessmannDigital/Zeitungsarchiv/Seite/Zeitung/2/1/19.09.1845/19715/7',\n",
       "  'https://digital.tessmann.it/tessmannDigital/Zeitungsarchiv/Seite/Zeitung/2/1/19.09.1845/19715/8',\n",
       "  'https://digital.tessmann.it/tessmannDigital/Zeitungsarchiv/Seite/Zeitung/2/1/19.09.1845/19715/9',\n",
       "  'https://digital.tessmann.it/tessmannDigital/Zeitungsarchiv/Seite/Zeitung/2/1/19.09.1845/19715/10',\n",
       "  'https://digital.tessmann.it/tessmannDigital/Zeitungsarchiv/Seite/Zeitung/2/1/19.09.1845/19715/11'],\n",
       " ['https://digital.tessmann.it/tessmannDigital/Zeitungsarchiv/Seite/Zeitung/2/1/03.10.1845/19716/1',\n",
       "  'https://digital.tessmann.it/tessmannDigital/Zeitungsarchiv/Seite/Zeitung/2/1/03.10.1845/19716/2',\n",
       "  'https://digital.tessmann.it/tessmannDigital/Zeitungsarchiv/Seite/Zeitung/2/1/03.10.1845/19716/3',\n",
       "  'https://digital.tessmann.it/tessmannDigital/Zeitungsarchiv/Seite/Zeitung/2/1/03.10.1845/19716/4',\n",
       "  'https://digital.tessmann.it/tessmannDigital/Zeitungsarchiv/Seite/Zeitung/2/1/03.10.1845/19716/5',\n",
       "  'https://digital.tessmann.it/tessmannDigital/Zeitungsarchiv/Seite/Zeitung/2/1/03.10.1845/19716/6',\n",
       "  'https://digital.tessmann.it/tessmannDigital/Zeitungsarchiv/Seite/Zeitung/2/1/03.10.1845/19716/7',\n",
       "  'https://digital.tessmann.it/tessmannDigital/Zeitungsarchiv/Seite/Zeitung/2/1/03.10.1845/19716/8',\n",
       "  'https://digital.tessmann.it/tessmannDigital/Zeitungsarchiv/Seite/Zeitung/2/1/03.10.1845/19716/9'],\n",
       " ['https://digital.tessmann.it/tessmannDigital/Zeitungsarchiv/Seite/Zeitung/2/1/10.10.1845/19717/1',\n",
       "  'https://digital.tessmann.it/tessmannDigital/Zeitungsarchiv/Seite/Zeitung/2/1/10.10.1845/19717/2',\n",
       "  'https://digital.tessmann.it/tessmannDigital/Zeitungsarchiv/Seite/Zeitung/2/1/10.10.1845/19717/3',\n",
       "  'https://digital.tessmann.it/tessmannDigital/Zeitungsarchiv/Seite/Zeitung/2/1/10.10.1845/19717/4',\n",
       "  'https://digital.tessmann.it/tessmannDigital/Zeitungsarchiv/Seite/Zeitung/2/1/10.10.1845/19717/5',\n",
       "  'https://digital.tessmann.it/tessmannDigital/Zeitungsarchiv/Seite/Zeitung/2/1/10.10.1845/19717/6',\n",
       "  'https://digital.tessmann.it/tessmannDigital/Zeitungsarchiv/Seite/Zeitung/2/1/10.10.1845/19717/7',\n",
       "  'https://digital.tessmann.it/tessmannDigital/Zeitungsarchiv/Seite/Zeitung/2/1/10.10.1845/19717/8'],\n",
       " ['https://digital.tessmann.it/tessmannDigital/Zeitungsarchiv/Seite/Zeitung/2/1/17.10.1845/19718/1',\n",
       "  'https://digital.tessmann.it/tessmannDigital/Zeitungsarchiv/Seite/Zeitung/2/1/17.10.1845/19718/2',\n",
       "  'https://digital.tessmann.it/tessmannDigital/Zeitungsarchiv/Seite/Zeitung/2/1/17.10.1845/19718/3',\n",
       "  'https://digital.tessmann.it/tessmannDigital/Zeitungsarchiv/Seite/Zeitung/2/1/17.10.1845/19718/4',\n",
       "  'https://digital.tessmann.it/tessmannDigital/Zeitungsarchiv/Seite/Zeitung/2/1/17.10.1845/19718/5',\n",
       "  'https://digital.tessmann.it/tessmannDigital/Zeitungsarchiv/Seite/Zeitung/2/1/17.10.1845/19718/6',\n",
       "  'https://digital.tessmann.it/tessmannDigital/Zeitungsarchiv/Seite/Zeitung/2/1/17.10.1845/19718/7',\n",
       "  'https://digital.tessmann.it/tessmannDigital/Zeitungsarchiv/Seite/Zeitung/2/1/17.10.1845/19718/8'],\n",
       " ['https://digital.tessmann.it/tessmannDigital/Zeitungsarchiv/Seite/Zeitung/2/1/24.10.1845/19719/1',\n",
       "  'https://digital.tessmann.it/tessmannDigital/Zeitungsarchiv/Seite/Zeitung/2/1/24.10.1845/19719/2',\n",
       "  'https://digital.tessmann.it/tessmannDigital/Zeitungsarchiv/Seite/Zeitung/2/1/24.10.1845/19719/3',\n",
       "  'https://digital.tessmann.it/tessmannDigital/Zeitungsarchiv/Seite/Zeitung/2/1/24.10.1845/19719/4'],\n",
       " ['https://digital.tessmann.it/tessmannDigital/Zeitungsarchiv/Seite/Zeitung/2/1/31.10.1845/19720/1',\n",
       "  'https://digital.tessmann.it/tessmannDigital/Zeitungsarchiv/Seite/Zeitung/2/1/31.10.1845/19720/2',\n",
       "  'https://digital.tessmann.it/tessmannDigital/Zeitungsarchiv/Seite/Zeitung/2/1/31.10.1845/19720/3',\n",
       "  'https://digital.tessmann.it/tessmannDigital/Zeitungsarchiv/Seite/Zeitung/2/1/31.10.1845/19720/4',\n",
       "  'https://digital.tessmann.it/tessmannDigital/Zeitungsarchiv/Seite/Zeitung/2/1/31.10.1845/19720/5',\n",
       "  'https://digital.tessmann.it/tessmannDigital/Zeitungsarchiv/Seite/Zeitung/2/1/31.10.1845/19720/6'],\n",
       " ['https://digital.tessmann.it/tessmannDigital/Zeitungsarchiv/Seite/Zeitung/2/1/07.11.1845/19721/1',\n",
       "  'https://digital.tessmann.it/tessmannDigital/Zeitungsarchiv/Seite/Zeitung/2/1/07.11.1845/19721/2',\n",
       "  'https://digital.tessmann.it/tessmannDigital/Zeitungsarchiv/Seite/Zeitung/2/1/07.11.1845/19721/3',\n",
       "  'https://digital.tessmann.it/tessmannDigital/Zeitungsarchiv/Seite/Zeitung/2/1/07.11.1845/19721/4',\n",
       "  'https://digital.tessmann.it/tessmannDigital/Zeitungsarchiv/Seite/Zeitung/2/1/07.11.1845/19721/5',\n",
       "  'https://digital.tessmann.it/tessmannDigital/Zeitungsarchiv/Seite/Zeitung/2/1/07.11.1845/19721/6',\n",
       "  'https://digital.tessmann.it/tessmannDigital/Zeitungsarchiv/Seite/Zeitung/2/1/07.11.1845/19721/7',\n",
       "  'https://digital.tessmann.it/tessmannDigital/Zeitungsarchiv/Seite/Zeitung/2/1/07.11.1845/19721/8'],\n",
       " ['https://digital.tessmann.it/tessmannDigital/Zeitungsarchiv/Seite/Zeitung/2/1/14.11.1845/19722/1',\n",
       "  'https://digital.tessmann.it/tessmannDigital/Zeitungsarchiv/Seite/Zeitung/2/1/14.11.1845/19722/2',\n",
       "  'https://digital.tessmann.it/tessmannDigital/Zeitungsarchiv/Seite/Zeitung/2/1/14.11.1845/19722/3',\n",
       "  'https://digital.tessmann.it/tessmannDigital/Zeitungsarchiv/Seite/Zeitung/2/1/14.11.1845/19722/4',\n",
       "  'https://digital.tessmann.it/tessmannDigital/Zeitungsarchiv/Seite/Zeitung/2/1/14.11.1845/19722/5',\n",
       "  'https://digital.tessmann.it/tessmannDigital/Zeitungsarchiv/Seite/Zeitung/2/1/14.11.1845/19722/6'],\n",
       " ['https://digital.tessmann.it/tessmannDigital/Zeitungsarchiv/Seite/Zeitung/2/1/21.11.1845/19723/1',\n",
       "  'https://digital.tessmann.it/tessmannDigital/Zeitungsarchiv/Seite/Zeitung/2/1/21.11.1845/19723/2',\n",
       "  'https://digital.tessmann.it/tessmannDigital/Zeitungsarchiv/Seite/Zeitung/2/1/21.11.1845/19723/3',\n",
       "  'https://digital.tessmann.it/tessmannDigital/Zeitungsarchiv/Seite/Zeitung/2/1/21.11.1845/19723/4'],\n",
       " ['https://digital.tessmann.it/tessmannDigital/Zeitungsarchiv/Seite/Zeitung/2/1/28.11.1845/19724/1',\n",
       "  'https://digital.tessmann.it/tessmannDigital/Zeitungsarchiv/Seite/Zeitung/2/1/28.11.1845/19724/2',\n",
       "  'https://digital.tessmann.it/tessmannDigital/Zeitungsarchiv/Seite/Zeitung/2/1/28.11.1845/19724/3',\n",
       "  'https://digital.tessmann.it/tessmannDigital/Zeitungsarchiv/Seite/Zeitung/2/1/28.11.1845/19724/4',\n",
       "  'https://digital.tessmann.it/tessmannDigital/Zeitungsarchiv/Seite/Zeitung/2/1/28.11.1845/19724/5',\n",
       "  'https://digital.tessmann.it/tessmannDigital/Zeitungsarchiv/Seite/Zeitung/2/1/28.11.1845/19724/6'],\n",
       " ['https://digital.tessmann.it/tessmannDigital/Zeitungsarchiv/Seite/Zeitung/2/1/05.12.1845/19725/1',\n",
       "  'https://digital.tessmann.it/tessmannDigital/Zeitungsarchiv/Seite/Zeitung/2/1/05.12.1845/19725/2',\n",
       "  'https://digital.tessmann.it/tessmannDigital/Zeitungsarchiv/Seite/Zeitung/2/1/05.12.1845/19725/3',\n",
       "  'https://digital.tessmann.it/tessmannDigital/Zeitungsarchiv/Seite/Zeitung/2/1/05.12.1845/19725/4',\n",
       "  'https://digital.tessmann.it/tessmannDigital/Zeitungsarchiv/Seite/Zeitung/2/1/05.12.1845/19725/5',\n",
       "  'https://digital.tessmann.it/tessmannDigital/Zeitungsarchiv/Seite/Zeitung/2/1/05.12.1845/19725/6',\n",
       "  'https://digital.tessmann.it/tessmannDigital/Zeitungsarchiv/Seite/Zeitung/2/1/05.12.1845/19725/7',\n",
       "  'https://digital.tessmann.it/tessmannDigital/Zeitungsarchiv/Seite/Zeitung/2/1/05.12.1845/19725/8'],\n",
       " ['https://digital.tessmann.it/tessmannDigital/Zeitungsarchiv/Seite/Zeitung/2/1/12.12.1845/19726/1',\n",
       "  'https://digital.tessmann.it/tessmannDigital/Zeitungsarchiv/Seite/Zeitung/2/1/12.12.1845/19726/2',\n",
       "  'https://digital.tessmann.it/tessmannDigital/Zeitungsarchiv/Seite/Zeitung/2/1/12.12.1845/19726/3',\n",
       "  'https://digital.tessmann.it/tessmannDigital/Zeitungsarchiv/Seite/Zeitung/2/1/12.12.1845/19726/4',\n",
       "  'https://digital.tessmann.it/tessmannDigital/Zeitungsarchiv/Seite/Zeitung/2/1/12.12.1845/19726/5',\n",
       "  'https://digital.tessmann.it/tessmannDigital/Zeitungsarchiv/Seite/Zeitung/2/1/12.12.1845/19726/6'],\n",
       " ['https://digital.tessmann.it/tessmannDigital/Zeitungsarchiv/Seite/Zeitung/2/1/19.12.1845/19727/1',\n",
       "  'https://digital.tessmann.it/tessmannDigital/Zeitungsarchiv/Seite/Zeitung/2/1/19.12.1845/19727/2',\n",
       "  'https://digital.tessmann.it/tessmannDigital/Zeitungsarchiv/Seite/Zeitung/2/1/19.12.1845/19727/3',\n",
       "  'https://digital.tessmann.it/tessmannDigital/Zeitungsarchiv/Seite/Zeitung/2/1/19.12.1845/19727/4',\n",
       "  'https://digital.tessmann.it/tessmannDigital/Zeitungsarchiv/Seite/Zeitung/2/1/19.12.1845/19727/5',\n",
       "  'https://digital.tessmann.it/tessmannDigital/Zeitungsarchiv/Seite/Zeitung/2/1/19.12.1845/19727/6'],\n",
       " ['https://digital.tessmann.it/tessmannDigital/Zeitungsarchiv/Seite/Zeitung/2/1/26.12.1845/19728/1',\n",
       "  'https://digital.tessmann.it/tessmannDigital/Zeitungsarchiv/Seite/Zeitung/2/1/26.12.1845/19728/2',\n",
       "  'https://digital.tessmann.it/tessmannDigital/Zeitungsarchiv/Seite/Zeitung/2/1/26.12.1845/19728/3',\n",
       "  'https://digital.tessmann.it/tessmannDigital/Zeitungsarchiv/Seite/Zeitung/2/1/26.12.1845/19728/4']]"
      ]
     },
     "execution_count": 25,
     "metadata": {},
     "output_type": "execute_result"
    }
   ],
   "source": [
    "# list of links with all pages for all issues in this year\n",
    "page_url_list"
   ]
  },
  {
   "cell_type": "code",
   "execution_count": 26,
   "metadata": {},
   "outputs": [
    {
     "name": "stderr",
     "output_type": "stream",
     "text": [
      "/Users/nplattner/miniconda3/envs/AutoSearch/lib/python3.7/site-packages/urllib3/connectionpool.py:847: InsecureRequestWarning: Unverified HTTPS request is being made. Adding certificate verification is strongly advised. See: https://urllib3.readthedocs.io/en/latest/advanced-usage.html#ssl-warnings\n",
      "  InsecureRequestWarning)\n"
     ]
    },
    {
     "name": "stdout",
     "output_type": "stream",
     "text": [
      "0 https://digital.tessmann.it/mediaArchive/media/image/Page/BZZ/1845/03_01_1845/BZZ_1845_01_03_1_object_459681.png?auth=32ba81b0586768bd4acffca31de634a4\n"
     ]
    },
    {
     "name": "stderr",
     "output_type": "stream",
     "text": [
      "/Users/nplattner/miniconda3/envs/AutoSearch/lib/python3.7/site-packages/urllib3/connectionpool.py:847: InsecureRequestWarning: Unverified HTTPS request is being made. Adding certificate verification is strongly advised. See: https://urllib3.readthedocs.io/en/latest/advanced-usage.html#ssl-warnings\n",
      "  InsecureRequestWarning)\n"
     ]
    },
    {
     "name": "stdout",
     "output_type": "stream",
     "text": [
      "0 https://digital.tessmann.it/mediaArchive/media/image/Page/BZZ/1845/03_01_1845/BZZ_1845_01_03_2_object_459683.png?auth=a7592f24b7b2efda8aad9f154d40295c\n"
     ]
    },
    {
     "name": "stderr",
     "output_type": "stream",
     "text": [
      "/Users/nplattner/miniconda3/envs/AutoSearch/lib/python3.7/site-packages/urllib3/connectionpool.py:847: InsecureRequestWarning: Unverified HTTPS request is being made. Adding certificate verification is strongly advised. See: https://urllib3.readthedocs.io/en/latest/advanced-usage.html#ssl-warnings\n",
      "  InsecureRequestWarning)\n"
     ]
    },
    {
     "name": "stdout",
     "output_type": "stream",
     "text": [
      "0 https://digital.tessmann.it/mediaArchive/media/image/Page/BZZ/1845/03_01_1845/BZZ_1845_01_03_3_object_459686.png?auth=3b7af8e547106266bfbf39779907d00c\n"
     ]
    },
    {
     "name": "stderr",
     "output_type": "stream",
     "text": [
      "/Users/nplattner/miniconda3/envs/AutoSearch/lib/python3.7/site-packages/urllib3/connectionpool.py:847: InsecureRequestWarning: Unverified HTTPS request is being made. Adding certificate verification is strongly advised. See: https://urllib3.readthedocs.io/en/latest/advanced-usage.html#ssl-warnings\n",
      "  InsecureRequestWarning)\n"
     ]
    },
    {
     "name": "stdout",
     "output_type": "stream",
     "text": [
      "0 https://digital.tessmann.it/mediaArchive/media/image/Page/BZZ/1845/03_01_1845/BZZ_1845_01_03_4_object_459688.png?auth=e9647f33f2df1a9696bab4c5b2093d3d\n"
     ]
    },
    {
     "name": "stderr",
     "output_type": "stream",
     "text": [
      "/Users/nplattner/miniconda3/envs/AutoSearch/lib/python3.7/site-packages/urllib3/connectionpool.py:847: InsecureRequestWarning: Unverified HTTPS request is being made. Adding certificate verification is strongly advised. See: https://urllib3.readthedocs.io/en/latest/advanced-usage.html#ssl-warnings\n",
      "  InsecureRequestWarning)\n"
     ]
    },
    {
     "name": "stdout",
     "output_type": "stream",
     "text": [
      "0 https://digital.tessmann.it/mediaArchive/media/image/Page/BZZ/1845/03_01_1845/BZZ_1845_01_03_5_object_459690.png?auth=ff954a098abe00068e791b7348bf2dd3\n"
     ]
    },
    {
     "name": "stderr",
     "output_type": "stream",
     "text": [
      "/Users/nplattner/miniconda3/envs/AutoSearch/lib/python3.7/site-packages/urllib3/connectionpool.py:847: InsecureRequestWarning: Unverified HTTPS request is being made. Adding certificate verification is strongly advised. See: https://urllib3.readthedocs.io/en/latest/advanced-usage.html#ssl-warnings\n",
      "  InsecureRequestWarning)\n"
     ]
    },
    {
     "name": "stdout",
     "output_type": "stream",
     "text": [
      "0 https://digital.tessmann.it/mediaArchive/media/image/Page/BZZ/1845/03_01_1845/BZZ_1845_01_03_6_object_459693.png?auth=d811da803e8cadbc113397e79f310be9\n"
     ]
    },
    {
     "name": "stderr",
     "output_type": "stream",
     "text": [
      "/Users/nplattner/miniconda3/envs/AutoSearch/lib/python3.7/site-packages/urllib3/connectionpool.py:847: InsecureRequestWarning: Unverified HTTPS request is being made. Adding certificate verification is strongly advised. See: https://urllib3.readthedocs.io/en/latest/advanced-usage.html#ssl-warnings\n",
      "  InsecureRequestWarning)\n"
     ]
    },
    {
     "name": "stdout",
     "output_type": "stream",
     "text": [
      "1 https://digital.tessmann.it/mediaArchive/media/image/Page/BZZ/1845/10_01_1845/BZZ_1845_01_10_1_object_459695.png?auth=a279b8bf89344a9f6d4136659c8583af\n"
     ]
    },
    {
     "name": "stderr",
     "output_type": "stream",
     "text": [
      "/Users/nplattner/miniconda3/envs/AutoSearch/lib/python3.7/site-packages/urllib3/connectionpool.py:847: InsecureRequestWarning: Unverified HTTPS request is being made. Adding certificate verification is strongly advised. See: https://urllib3.readthedocs.io/en/latest/advanced-usage.html#ssl-warnings\n",
      "  InsecureRequestWarning)\n"
     ]
    },
    {
     "name": "stdout",
     "output_type": "stream",
     "text": [
      "1 https://digital.tessmann.it/mediaArchive/media/image/Page/BZZ/1845/10_01_1845/BZZ_1845_01_10_2_object_459697.png?auth=226460e0c4aa8ba9b05aeeb86845f7fb\n"
     ]
    },
    {
     "name": "stderr",
     "output_type": "stream",
     "text": [
      "/Users/nplattner/miniconda3/envs/AutoSearch/lib/python3.7/site-packages/urllib3/connectionpool.py:847: InsecureRequestWarning: Unverified HTTPS request is being made. Adding certificate verification is strongly advised. See: https://urllib3.readthedocs.io/en/latest/advanced-usage.html#ssl-warnings\n",
      "  InsecureRequestWarning)\n"
     ]
    },
    {
     "name": "stdout",
     "output_type": "stream",
     "text": [
      "1 https://digital.tessmann.it/mediaArchive/media/image/Page/BZZ/1845/10_01_1845/BZZ_1845_01_10_3_object_459700.png?auth=b7372919f31f83b0d5ecaed8f0e8b3ed\n"
     ]
    },
    {
     "name": "stderr",
     "output_type": "stream",
     "text": [
      "/Users/nplattner/miniconda3/envs/AutoSearch/lib/python3.7/site-packages/urllib3/connectionpool.py:847: InsecureRequestWarning: Unverified HTTPS request is being made. Adding certificate verification is strongly advised. See: https://urllib3.readthedocs.io/en/latest/advanced-usage.html#ssl-warnings\n",
      "  InsecureRequestWarning)\n"
     ]
    },
    {
     "name": "stdout",
     "output_type": "stream",
     "text": [
      "1 https://digital.tessmann.it/mediaArchive/media/image/Page/BZZ/1845/10_01_1845/BZZ_1845_01_10_4_object_459349.png?auth=c43a8cb223d4c3e0bf4573e655cd4141\n"
     ]
    },
    {
     "name": "stderr",
     "output_type": "stream",
     "text": [
      "/Users/nplattner/miniconda3/envs/AutoSearch/lib/python3.7/site-packages/urllib3/connectionpool.py:847: InsecureRequestWarning: Unverified HTTPS request is being made. Adding certificate verification is strongly advised. See: https://urllib3.readthedocs.io/en/latest/advanced-usage.html#ssl-warnings\n",
      "  InsecureRequestWarning)\n"
     ]
    },
    {
     "name": "stdout",
     "output_type": "stream",
     "text": [
      "1 https://digital.tessmann.it/mediaArchive/media/image/Page/BZZ/1845/10_01_1845/BZZ_1845_01_10_5_object_459351.png?auth=7af0972cd7e6e02dde432a5c3f01bc16\n"
     ]
    },
    {
     "name": "stderr",
     "output_type": "stream",
     "text": [
      "/Users/nplattner/miniconda3/envs/AutoSearch/lib/python3.7/site-packages/urllib3/connectionpool.py:847: InsecureRequestWarning: Unverified HTTPS request is being made. Adding certificate verification is strongly advised. See: https://urllib3.readthedocs.io/en/latest/advanced-usage.html#ssl-warnings\n",
      "  InsecureRequestWarning)\n"
     ]
    },
    {
     "name": "stdout",
     "output_type": "stream",
     "text": [
      "1 https://digital.tessmann.it/mediaArchive/media/image/Page/BZZ/1845/10_01_1845/BZZ_1845_01_10_6_object_459354.png?auth=b9a930792d7a3959d9cb0be049bb3456\n"
     ]
    },
    {
     "name": "stderr",
     "output_type": "stream",
     "text": [
      "/Users/nplattner/miniconda3/envs/AutoSearch/lib/python3.7/site-packages/urllib3/connectionpool.py:847: InsecureRequestWarning: Unverified HTTPS request is being made. Adding certificate verification is strongly advised. See: https://urllib3.readthedocs.io/en/latest/advanced-usage.html#ssl-warnings\n",
      "  InsecureRequestWarning)\n"
     ]
    },
    {
     "name": "stdout",
     "output_type": "stream",
     "text": [
      "2 https://digital.tessmann.it/mediaArchive/media/image/Page/BZZ/1845/17_01_1845/BZZ_1845_01_17_1_object_459356.png?auth=852c21b79dc4f0048f4b72cde77a6167\n"
     ]
    },
    {
     "name": "stderr",
     "output_type": "stream",
     "text": [
      "/Users/nplattner/miniconda3/envs/AutoSearch/lib/python3.7/site-packages/urllib3/connectionpool.py:847: InsecureRequestWarning: Unverified HTTPS request is being made. Adding certificate verification is strongly advised. See: https://urllib3.readthedocs.io/en/latest/advanced-usage.html#ssl-warnings\n",
      "  InsecureRequestWarning)\n"
     ]
    },
    {
     "name": "stdout",
     "output_type": "stream",
     "text": [
      "2 https://digital.tessmann.it/mediaArchive/media/image/Page/BZZ/1845/17_01_1845/BZZ_1845_01_17_2_object_459359.png?auth=c090519feaf0ffc482c44d85d8a2557f\n"
     ]
    },
    {
     "name": "stderr",
     "output_type": "stream",
     "text": [
      "/Users/nplattner/miniconda3/envs/AutoSearch/lib/python3.7/site-packages/urllib3/connectionpool.py:847: InsecureRequestWarning: Unverified HTTPS request is being made. Adding certificate verification is strongly advised. See: https://urllib3.readthedocs.io/en/latest/advanced-usage.html#ssl-warnings\n",
      "  InsecureRequestWarning)\n"
     ]
    },
    {
     "name": "stdout",
     "output_type": "stream",
     "text": [
      "2 https://digital.tessmann.it/mediaArchive/media/image/Page/BZZ/1845/17_01_1845/BZZ_1845_01_17_3_object_459360.png?auth=95435269cae31546bdda0b19f8903b24\n"
     ]
    },
    {
     "name": "stderr",
     "output_type": "stream",
     "text": [
      "/Users/nplattner/miniconda3/envs/AutoSearch/lib/python3.7/site-packages/urllib3/connectionpool.py:847: InsecureRequestWarning: Unverified HTTPS request is being made. Adding certificate verification is strongly advised. See: https://urllib3.readthedocs.io/en/latest/advanced-usage.html#ssl-warnings\n",
      "  InsecureRequestWarning)\n"
     ]
    },
    {
     "name": "stdout",
     "output_type": "stream",
     "text": [
      "2 https://digital.tessmann.it/mediaArchive/media/image/Page/BZZ/1845/17_01_1845/BZZ_1845_01_17_4_object_459363.png?auth=9949ad61e254b39626bc7af8a211ef62\n"
     ]
    },
    {
     "name": "stderr",
     "output_type": "stream",
     "text": [
      "/Users/nplattner/miniconda3/envs/AutoSearch/lib/python3.7/site-packages/urllib3/connectionpool.py:847: InsecureRequestWarning: Unverified HTTPS request is being made. Adding certificate verification is strongly advised. See: https://urllib3.readthedocs.io/en/latest/advanced-usage.html#ssl-warnings\n",
      "  InsecureRequestWarning)\n"
     ]
    },
    {
     "name": "stdout",
     "output_type": "stream",
     "text": [
      "3 https://digital.tessmann.it/mediaArchive/media/image/Page/BZZ/1845/24_01_1845/BZZ_1845_01_24_1_object_459366.png?auth=84b8557741877916161f766482cb4301\n"
     ]
    },
    {
     "name": "stderr",
     "output_type": "stream",
     "text": [
      "/Users/nplattner/miniconda3/envs/AutoSearch/lib/python3.7/site-packages/urllib3/connectionpool.py:847: InsecureRequestWarning: Unverified HTTPS request is being made. Adding certificate verification is strongly advised. See: https://urllib3.readthedocs.io/en/latest/advanced-usage.html#ssl-warnings\n",
      "  InsecureRequestWarning)\n"
     ]
    },
    {
     "name": "stdout",
     "output_type": "stream",
     "text": [
      "3 https://digital.tessmann.it/mediaArchive/media/image/Page/BZZ/1845/24_01_1845/BZZ_1845_01_24_2_object_459367.png?auth=8ce25afe2c3bfaa535abe46a2d60426f\n"
     ]
    },
    {
     "name": "stderr",
     "output_type": "stream",
     "text": [
      "/Users/nplattner/miniconda3/envs/AutoSearch/lib/python3.7/site-packages/urllib3/connectionpool.py:847: InsecureRequestWarning: Unverified HTTPS request is being made. Adding certificate verification is strongly advised. See: https://urllib3.readthedocs.io/en/latest/advanced-usage.html#ssl-warnings\n",
      "  InsecureRequestWarning)\n"
     ]
    },
    {
     "name": "stdout",
     "output_type": "stream",
     "text": [
      "3 https://digital.tessmann.it/mediaArchive/media/image/Page/BZZ/1845/24_01_1845/BZZ_1845_01_24_3_object_459370.png?auth=f8e6500565f82e0859a66f4254862c44\n"
     ]
    },
    {
     "name": "stderr",
     "output_type": "stream",
     "text": [
      "/Users/nplattner/miniconda3/envs/AutoSearch/lib/python3.7/site-packages/urllib3/connectionpool.py:847: InsecureRequestWarning: Unverified HTTPS request is being made. Adding certificate verification is strongly advised. See: https://urllib3.readthedocs.io/en/latest/advanced-usage.html#ssl-warnings\n",
      "  InsecureRequestWarning)\n"
     ]
    },
    {
     "name": "stdout",
     "output_type": "stream",
     "text": [
      "3 https://digital.tessmann.it/mediaArchive/media/image/Page/BZZ/1845/24_01_1845/BZZ_1845_01_24_4_object_459373.png?auth=b41f77f04b66d0caedff3a4fbd99318e\n"
     ]
    },
    {
     "name": "stderr",
     "output_type": "stream",
     "text": [
      "/Users/nplattner/miniconda3/envs/AutoSearch/lib/python3.7/site-packages/urllib3/connectionpool.py:847: InsecureRequestWarning: Unverified HTTPS request is being made. Adding certificate verification is strongly advised. See: https://urllib3.readthedocs.io/en/latest/advanced-usage.html#ssl-warnings\n",
      "  InsecureRequestWarning)\n"
     ]
    },
    {
     "name": "stdout",
     "output_type": "stream",
     "text": [
      "3 https://digital.tessmann.it/mediaArchive/media/image/Page/BZZ/1845/24_01_1845/BZZ_1845_01_24_5_object_459374.png?auth=36a1e29c2d7be1139750af850191f296\n"
     ]
    },
    {
     "name": "stderr",
     "output_type": "stream",
     "text": [
      "/Users/nplattner/miniconda3/envs/AutoSearch/lib/python3.7/site-packages/urllib3/connectionpool.py:847: InsecureRequestWarning: Unverified HTTPS request is being made. Adding certificate verification is strongly advised. See: https://urllib3.readthedocs.io/en/latest/advanced-usage.html#ssl-warnings\n",
      "  InsecureRequestWarning)\n"
     ]
    },
    {
     "name": "stdout",
     "output_type": "stream",
     "text": [
      "3 https://digital.tessmann.it/mediaArchive/media/image/Page/BZZ/1845/24_01_1845/BZZ_1845_01_24_6_object_459377.png?auth=e80de775d9a60cacb35beb4a35897c56\n"
     ]
    },
    {
     "name": "stderr",
     "output_type": "stream",
     "text": [
      "/Users/nplattner/miniconda3/envs/AutoSearch/lib/python3.7/site-packages/urllib3/connectionpool.py:847: InsecureRequestWarning: Unverified HTTPS request is being made. Adding certificate verification is strongly advised. See: https://urllib3.readthedocs.io/en/latest/advanced-usage.html#ssl-warnings\n",
      "  InsecureRequestWarning)\n"
     ]
    },
    {
     "name": "stdout",
     "output_type": "stream",
     "text": [
      "4 https://digital.tessmann.it/mediaArchive/media/image/Page/BZZ/1845/31_01_1845/BZZ_1845_01_31_1_object_459379.png?auth=c46aa79c4fd8ea1e4d9ad387c7e055a0\n"
     ]
    },
    {
     "name": "stderr",
     "output_type": "stream",
     "text": [
      "/Users/nplattner/miniconda3/envs/AutoSearch/lib/python3.7/site-packages/urllib3/connectionpool.py:847: InsecureRequestWarning: Unverified HTTPS request is being made. Adding certificate verification is strongly advised. See: https://urllib3.readthedocs.io/en/latest/advanced-usage.html#ssl-warnings\n",
      "  InsecureRequestWarning)\n"
     ]
    },
    {
     "name": "stdout",
     "output_type": "stream",
     "text": [
      "4 https://digital.tessmann.it/mediaArchive/media/image/Page/BZZ/1845/31_01_1845/BZZ_1845_01_31_2_object_459381.png?auth=6fe9f3d18611e6c733bb06755c782438\n"
     ]
    },
    {
     "name": "stderr",
     "output_type": "stream",
     "text": [
      "/Users/nplattner/miniconda3/envs/AutoSearch/lib/python3.7/site-packages/urllib3/connectionpool.py:847: InsecureRequestWarning: Unverified HTTPS request is being made. Adding certificate verification is strongly advised. See: https://urllib3.readthedocs.io/en/latest/advanced-usage.html#ssl-warnings\n",
      "  InsecureRequestWarning)\n"
     ]
    },
    {
     "name": "stdout",
     "output_type": "stream",
     "text": [
      "4 https://digital.tessmann.it/mediaArchive/media/image/Page/BZZ/1845/31_01_1845/BZZ_1845_01_31_3_object_459384.png?auth=b82070ff0971cb82627b343f081e2f22\n"
     ]
    },
    {
     "name": "stderr",
     "output_type": "stream",
     "text": [
      "/Users/nplattner/miniconda3/envs/AutoSearch/lib/python3.7/site-packages/urllib3/connectionpool.py:847: InsecureRequestWarning: Unverified HTTPS request is being made. Adding certificate verification is strongly advised. See: https://urllib3.readthedocs.io/en/latest/advanced-usage.html#ssl-warnings\n",
      "  InsecureRequestWarning)\n"
     ]
    },
    {
     "name": "stdout",
     "output_type": "stream",
     "text": [
      "4 https://digital.tessmann.it/mediaArchive/media/image/Page/BZZ/1845/31_01_1845/BZZ_1845_01_31_4_object_459387.png?auth=9865e75bca61d66335f58c4096b2b983\n"
     ]
    },
    {
     "name": "stderr",
     "output_type": "stream",
     "text": [
      "/Users/nplattner/miniconda3/envs/AutoSearch/lib/python3.7/site-packages/urllib3/connectionpool.py:847: InsecureRequestWarning: Unverified HTTPS request is being made. Adding certificate verification is strongly advised. See: https://urllib3.readthedocs.io/en/latest/advanced-usage.html#ssl-warnings\n",
      "  InsecureRequestWarning)\n"
     ]
    },
    {
     "name": "stdout",
     "output_type": "stream",
     "text": [
      "4 https://digital.tessmann.it/mediaArchive/media/image/Page/BZZ/1845/31_01_1845/BZZ_1845_01_31_5_object_459388.png?auth=9c3eb5de1ac8b4e2a0c2e191c8c06f49\n"
     ]
    },
    {
     "name": "stderr",
     "output_type": "stream",
     "text": [
      "/Users/nplattner/miniconda3/envs/AutoSearch/lib/python3.7/site-packages/urllib3/connectionpool.py:847: InsecureRequestWarning: Unverified HTTPS request is being made. Adding certificate verification is strongly advised. See: https://urllib3.readthedocs.io/en/latest/advanced-usage.html#ssl-warnings\n",
      "  InsecureRequestWarning)\n"
     ]
    },
    {
     "name": "stdout",
     "output_type": "stream",
     "text": [
      "4 https://digital.tessmann.it/mediaArchive/media/image/Page/BZZ/1845/31_01_1845/BZZ_1845_01_31_6_object_459391.png?auth=c33d42e4d59d18922a50e8a36de59aa5\n"
     ]
    },
    {
     "name": "stderr",
     "output_type": "stream",
     "text": [
      "/Users/nplattner/miniconda3/envs/AutoSearch/lib/python3.7/site-packages/urllib3/connectionpool.py:847: InsecureRequestWarning: Unverified HTTPS request is being made. Adding certificate verification is strongly advised. See: https://urllib3.readthedocs.io/en/latest/advanced-usage.html#ssl-warnings\n",
      "  InsecureRequestWarning)\n"
     ]
    },
    {
     "name": "stdout",
     "output_type": "stream",
     "text": [
      "4 https://digital.tessmann.it/mediaArchive/media/image/Page/BZZ/1845/31_01_1845/BZZ_1845_01_31_7_object_459393.png?auth=8a5d03992359360b16fc08131193cf01\n"
     ]
    },
    {
     "name": "stderr",
     "output_type": "stream",
     "text": [
      "/Users/nplattner/miniconda3/envs/AutoSearch/lib/python3.7/site-packages/urllib3/connectionpool.py:847: InsecureRequestWarning: Unverified HTTPS request is being made. Adding certificate verification is strongly advised. See: https://urllib3.readthedocs.io/en/latest/advanced-usage.html#ssl-warnings\n",
      "  InsecureRequestWarning)\n"
     ]
    },
    {
     "name": "stdout",
     "output_type": "stream",
     "text": [
      "4 https://digital.tessmann.it/mediaArchive/media/image/Page/BZZ/1845/31_01_1845/BZZ_1845_01_31_8_object_459395.png?auth=863bb111c44dae8b7c017585ce1352d0\n"
     ]
    },
    {
     "name": "stderr",
     "output_type": "stream",
     "text": [
      "/Users/nplattner/miniconda3/envs/AutoSearch/lib/python3.7/site-packages/urllib3/connectionpool.py:847: InsecureRequestWarning: Unverified HTTPS request is being made. Adding certificate verification is strongly advised. See: https://urllib3.readthedocs.io/en/latest/advanced-usage.html#ssl-warnings\n",
      "  InsecureRequestWarning)\n"
     ]
    },
    {
     "name": "stdout",
     "output_type": "stream",
     "text": [
      "5 https://digital.tessmann.it/mediaArchive/media/image/Page/BZZ/1845/07_02_1845/BZZ_1845_02_07_1_object_459398.png?auth=0eeed9c15012ef48ea312a31b8b0894d\n"
     ]
    },
    {
     "name": "stderr",
     "output_type": "stream",
     "text": [
      "/Users/nplattner/miniconda3/envs/AutoSearch/lib/python3.7/site-packages/urllib3/connectionpool.py:847: InsecureRequestWarning: Unverified HTTPS request is being made. Adding certificate verification is strongly advised. See: https://urllib3.readthedocs.io/en/latest/advanced-usage.html#ssl-warnings\n",
      "  InsecureRequestWarning)\n"
     ]
    },
    {
     "name": "stdout",
     "output_type": "stream",
     "text": [
      "5 https://digital.tessmann.it/mediaArchive/media/image/Page/BZZ/1845/07_02_1845/BZZ_1845_02_07_2_object_459401.png?auth=554a581c45a2bf2d0e90dd3c13de72f1\n"
     ]
    },
    {
     "name": "stderr",
     "output_type": "stream",
     "text": [
      "/Users/nplattner/miniconda3/envs/AutoSearch/lib/python3.7/site-packages/urllib3/connectionpool.py:847: InsecureRequestWarning: Unverified HTTPS request is being made. Adding certificate verification is strongly advised. See: https://urllib3.readthedocs.io/en/latest/advanced-usage.html#ssl-warnings\n",
      "  InsecureRequestWarning)\n"
     ]
    },
    {
     "name": "stdout",
     "output_type": "stream",
     "text": [
      "5 https://digital.tessmann.it/mediaArchive/media/image/Page/BZZ/1845/07_02_1845/BZZ_1845_02_07_3_object_459402.png?auth=c49701f5f326215a1d27e61053e46d29\n"
     ]
    },
    {
     "name": "stderr",
     "output_type": "stream",
     "text": [
      "/Users/nplattner/miniconda3/envs/AutoSearch/lib/python3.7/site-packages/urllib3/connectionpool.py:847: InsecureRequestWarning: Unverified HTTPS request is being made. Adding certificate verification is strongly advised. See: https://urllib3.readthedocs.io/en/latest/advanced-usage.html#ssl-warnings\n",
      "  InsecureRequestWarning)\n"
     ]
    },
    {
     "name": "stdout",
     "output_type": "stream",
     "text": [
      "5 https://digital.tessmann.it/mediaArchive/media/image/Page/BZZ/1845/07_02_1845/BZZ_1845_02_07_4_object_459405.png?auth=1316f86402806efe1b831e1226cb541e\n"
     ]
    },
    {
     "name": "stderr",
     "output_type": "stream",
     "text": [
      "/Users/nplattner/miniconda3/envs/AutoSearch/lib/python3.7/site-packages/urllib3/connectionpool.py:847: InsecureRequestWarning: Unverified HTTPS request is being made. Adding certificate verification is strongly advised. See: https://urllib3.readthedocs.io/en/latest/advanced-usage.html#ssl-warnings\n",
      "  InsecureRequestWarning)\n"
     ]
    },
    {
     "name": "stdout",
     "output_type": "stream",
     "text": [
      "5 https://digital.tessmann.it/mediaArchive/media/image/Page/BZZ/1845/07_02_1845/BZZ_1845_02_07_5_object_459408.png?auth=f71ba4ab19d768b3cfdb749695b3bd9e\n"
     ]
    },
    {
     "name": "stderr",
     "output_type": "stream",
     "text": [
      "/Users/nplattner/miniconda3/envs/AutoSearch/lib/python3.7/site-packages/urllib3/connectionpool.py:847: InsecureRequestWarning: Unverified HTTPS request is being made. Adding certificate verification is strongly advised. See: https://urllib3.readthedocs.io/en/latest/advanced-usage.html#ssl-warnings\n",
      "  InsecureRequestWarning)\n"
     ]
    },
    {
     "name": "stdout",
     "output_type": "stream",
     "text": [
      "5 https://digital.tessmann.it/mediaArchive/media/image/Page/BZZ/1845/07_02_1845/BZZ_1845_02_07_6_object_459409.png?auth=9a723688fc5c88024e42fef877f1916e\n"
     ]
    },
    {
     "name": "stderr",
     "output_type": "stream",
     "text": [
      "/Users/nplattner/miniconda3/envs/AutoSearch/lib/python3.7/site-packages/urllib3/connectionpool.py:847: InsecureRequestWarning: Unverified HTTPS request is being made. Adding certificate verification is strongly advised. See: https://urllib3.readthedocs.io/en/latest/advanced-usage.html#ssl-warnings\n",
      "  InsecureRequestWarning)\n"
     ]
    },
    {
     "name": "stdout",
     "output_type": "stream",
     "text": [
      "5 https://digital.tessmann.it/mediaArchive/media/image/Page/BZZ/1845/07_02_1845/BZZ_1845_02_07_7_object_459412.png?auth=b94b3ff0ac9e4166b06bd76a060607e9\n"
     ]
    },
    {
     "name": "stderr",
     "output_type": "stream",
     "text": [
      "/Users/nplattner/miniconda3/envs/AutoSearch/lib/python3.7/site-packages/urllib3/connectionpool.py:847: InsecureRequestWarning: Unverified HTTPS request is being made. Adding certificate verification is strongly advised. See: https://urllib3.readthedocs.io/en/latest/advanced-usage.html#ssl-warnings\n",
      "  InsecureRequestWarning)\n"
     ]
    },
    {
     "name": "stdout",
     "output_type": "stream",
     "text": [
      "5 https://digital.tessmann.it/mediaArchive/media/image/Page/BZZ/1845/07_02_1845/BZZ_1845_02_07_8_object_459415.png?auth=5ea1832099bfe94d33965c1dcf0ad0f9\n"
     ]
    },
    {
     "name": "stderr",
     "output_type": "stream",
     "text": [
      "/Users/nplattner/miniconda3/envs/AutoSearch/lib/python3.7/site-packages/urllib3/connectionpool.py:847: InsecureRequestWarning: Unverified HTTPS request is being made. Adding certificate verification is strongly advised. See: https://urllib3.readthedocs.io/en/latest/advanced-usage.html#ssl-warnings\n",
      "  InsecureRequestWarning)\n"
     ]
    },
    {
     "name": "stdout",
     "output_type": "stream",
     "text": [
      "6 https://digital.tessmann.it/mediaArchive/media/image/Page/BZZ/1845/14_02_1845/BZZ_1845_02_14_1_object_459416.png?auth=2a367d003d4131500e66a7503d079268\n"
     ]
    },
    {
     "name": "stderr",
     "output_type": "stream",
     "text": [
      "/Users/nplattner/miniconda3/envs/AutoSearch/lib/python3.7/site-packages/urllib3/connectionpool.py:847: InsecureRequestWarning: Unverified HTTPS request is being made. Adding certificate verification is strongly advised. See: https://urllib3.readthedocs.io/en/latest/advanced-usage.html#ssl-warnings\n",
      "  InsecureRequestWarning)\n"
     ]
    },
    {
     "name": "stdout",
     "output_type": "stream",
     "text": [
      "6 https://digital.tessmann.it/mediaArchive/media/image/Page/BZZ/1845/14_02_1845/BZZ_1845_02_14_2_object_459419.png?auth=bc2e32dfa9221011cd6ffd7ca2d6023d\n"
     ]
    },
    {
     "name": "stderr",
     "output_type": "stream",
     "text": [
      "/Users/nplattner/miniconda3/envs/AutoSearch/lib/python3.7/site-packages/urllib3/connectionpool.py:847: InsecureRequestWarning: Unverified HTTPS request is being made. Adding certificate verification is strongly advised. See: https://urllib3.readthedocs.io/en/latest/advanced-usage.html#ssl-warnings\n",
      "  InsecureRequestWarning)\n"
     ]
    },
    {
     "name": "stdout",
     "output_type": "stream",
     "text": [
      "6 https://digital.tessmann.it/mediaArchive/media/image/Page/BZZ/1845/14_02_1845/BZZ_1845_02_14_3_object_459422.png?auth=2b005c293dfc8084335c59e36d441f5d\n"
     ]
    },
    {
     "name": "stderr",
     "output_type": "stream",
     "text": [
      "/Users/nplattner/miniconda3/envs/AutoSearch/lib/python3.7/site-packages/urllib3/connectionpool.py:847: InsecureRequestWarning: Unverified HTTPS request is being made. Adding certificate verification is strongly advised. See: https://urllib3.readthedocs.io/en/latest/advanced-usage.html#ssl-warnings\n",
      "  InsecureRequestWarning)\n"
     ]
    },
    {
     "name": "stdout",
     "output_type": "stream",
     "text": [
      "6 https://digital.tessmann.it/mediaArchive/media/image/Page/BZZ/1845/14_02_1845/BZZ_1845_02_14_4_object_459423.png?auth=1d60a260dc0a99cb0fe7dfb20104109d\n"
     ]
    },
    {
     "name": "stderr",
     "output_type": "stream",
     "text": [
      "/Users/nplattner/miniconda3/envs/AutoSearch/lib/python3.7/site-packages/urllib3/connectionpool.py:847: InsecureRequestWarning: Unverified HTTPS request is being made. Adding certificate verification is strongly advised. See: https://urllib3.readthedocs.io/en/latest/advanced-usage.html#ssl-warnings\n",
      "  InsecureRequestWarning)\n"
     ]
    },
    {
     "name": "stdout",
     "output_type": "stream",
     "text": [
      "6 https://digital.tessmann.it/mediaArchive/media/image/Page/BZZ/1845/14_02_1845/BZZ_1845_02_14_5_object_459426.png?auth=73b42956306e7733dce238bb020c8e91\n"
     ]
    },
    {
     "name": "stderr",
     "output_type": "stream",
     "text": [
      "/Users/nplattner/miniconda3/envs/AutoSearch/lib/python3.7/site-packages/urllib3/connectionpool.py:847: InsecureRequestWarning: Unverified HTTPS request is being made. Adding certificate verification is strongly advised. See: https://urllib3.readthedocs.io/en/latest/advanced-usage.html#ssl-warnings\n",
      "  InsecureRequestWarning)\n"
     ]
    },
    {
     "name": "stdout",
     "output_type": "stream",
     "text": [
      "6 https://digital.tessmann.it/mediaArchive/media/image/Page/BZZ/1845/14_02_1845/BZZ_1845_02_14_6_object_459429.png?auth=b0eb3c5decd8e28f6d3552993c1701bf\n"
     ]
    },
    {
     "name": "stderr",
     "output_type": "stream",
     "text": [
      "/Users/nplattner/miniconda3/envs/AutoSearch/lib/python3.7/site-packages/urllib3/connectionpool.py:847: InsecureRequestWarning: Unverified HTTPS request is being made. Adding certificate verification is strongly advised. See: https://urllib3.readthedocs.io/en/latest/advanced-usage.html#ssl-warnings\n",
      "  InsecureRequestWarning)\n"
     ]
    },
    {
     "name": "stdout",
     "output_type": "stream",
     "text": [
      "6 https://digital.tessmann.it/mediaArchive/media/image/Page/BZZ/1845/14_02_1845/BZZ_1845_02_14_7_object_459430.png?auth=46e8a85abfe2ddf287f38a212b43b08e\n"
     ]
    },
    {
     "name": "stderr",
     "output_type": "stream",
     "text": [
      "/Users/nplattner/miniconda3/envs/AutoSearch/lib/python3.7/site-packages/urllib3/connectionpool.py:847: InsecureRequestWarning: Unverified HTTPS request is being made. Adding certificate verification is strongly advised. See: https://urllib3.readthedocs.io/en/latest/advanced-usage.html#ssl-warnings\n",
      "  InsecureRequestWarning)\n"
     ]
    },
    {
     "name": "stdout",
     "output_type": "stream",
     "text": [
      "6 https://digital.tessmann.it/mediaArchive/media/image/Page/BZZ/1845/14_02_1845/BZZ_1845_02_14_8_object_459433.png?auth=d2d97ea112c3d52f89b269cf2cc9261a\n"
     ]
    },
    {
     "name": "stderr",
     "output_type": "stream",
     "text": [
      "/Users/nplattner/miniconda3/envs/AutoSearch/lib/python3.7/site-packages/urllib3/connectionpool.py:847: InsecureRequestWarning: Unverified HTTPS request is being made. Adding certificate verification is strongly advised. See: https://urllib3.readthedocs.io/en/latest/advanced-usage.html#ssl-warnings\n",
      "  InsecureRequestWarning)\n"
     ]
    },
    {
     "name": "stdout",
     "output_type": "stream",
     "text": [
      "7 https://digital.tessmann.it/mediaArchive/media/image/Page/BZZ/1845/21_02_1845/BZZ_1845_02_21_1_object_459436.png?auth=c6a154b762c1d0880b3a9409416cba9a\n"
     ]
    },
    {
     "name": "stderr",
     "output_type": "stream",
     "text": [
      "/Users/nplattner/miniconda3/envs/AutoSearch/lib/python3.7/site-packages/urllib3/connectionpool.py:847: InsecureRequestWarning: Unverified HTTPS request is being made. Adding certificate verification is strongly advised. See: https://urllib3.readthedocs.io/en/latest/advanced-usage.html#ssl-warnings\n",
      "  InsecureRequestWarning)\n"
     ]
    },
    {
     "name": "stdout",
     "output_type": "stream",
     "text": [
      "7 https://digital.tessmann.it/mediaArchive/media/image/Page/BZZ/1845/21_02_1845/BZZ_1845_02_21_2_object_459437.png?auth=bdd5fd28c7d6a0bdfc5668a3778430fd\n"
     ]
    },
    {
     "name": "stderr",
     "output_type": "stream",
     "text": [
      "/Users/nplattner/miniconda3/envs/AutoSearch/lib/python3.7/site-packages/urllib3/connectionpool.py:847: InsecureRequestWarning: Unverified HTTPS request is being made. Adding certificate verification is strongly advised. See: https://urllib3.readthedocs.io/en/latest/advanced-usage.html#ssl-warnings\n",
      "  InsecureRequestWarning)\n"
     ]
    },
    {
     "name": "stdout",
     "output_type": "stream",
     "text": [
      "7 https://digital.tessmann.it/mediaArchive/media/image/Page/BZZ/1845/21_02_1845/BZZ_1845_02_21_3_object_459440.png?auth=c058ea64ae951cdc513742d09a944c5a\n"
     ]
    },
    {
     "name": "stderr",
     "output_type": "stream",
     "text": [
      "/Users/nplattner/miniconda3/envs/AutoSearch/lib/python3.7/site-packages/urllib3/connectionpool.py:847: InsecureRequestWarning: Unverified HTTPS request is being made. Adding certificate verification is strongly advised. See: https://urllib3.readthedocs.io/en/latest/advanced-usage.html#ssl-warnings\n",
      "  InsecureRequestWarning)\n"
     ]
    },
    {
     "name": "stdout",
     "output_type": "stream",
     "text": [
      "7 https://digital.tessmann.it/mediaArchive/media/image/Page/BZZ/1845/21_02_1845/BZZ_1845_02_21_4_object_459443.png?auth=7b04156bf11b4d218cb9edea37c61814\n"
     ]
    },
    {
     "name": "stderr",
     "output_type": "stream",
     "text": [
      "/Users/nplattner/miniconda3/envs/AutoSearch/lib/python3.7/site-packages/urllib3/connectionpool.py:847: InsecureRequestWarning: Unverified HTTPS request is being made. Adding certificate verification is strongly advised. See: https://urllib3.readthedocs.io/en/latest/advanced-usage.html#ssl-warnings\n",
      "  InsecureRequestWarning)\n"
     ]
    },
    {
     "name": "stdout",
     "output_type": "stream",
     "text": [
      "7 https://digital.tessmann.it/mediaArchive/media/image/Page/BZZ/1845/21_02_1845/BZZ_1845_02_21_5_object_459444.png?auth=e330f94ee21c448ec5f0d4b248b2deed\n"
     ]
    },
    {
     "name": "stderr",
     "output_type": "stream",
     "text": [
      "/Users/nplattner/miniconda3/envs/AutoSearch/lib/python3.7/site-packages/urllib3/connectionpool.py:847: InsecureRequestWarning: Unverified HTTPS request is being made. Adding certificate verification is strongly advised. See: https://urllib3.readthedocs.io/en/latest/advanced-usage.html#ssl-warnings\n",
      "  InsecureRequestWarning)\n"
     ]
    },
    {
     "name": "stdout",
     "output_type": "stream",
     "text": [
      "7 https://digital.tessmann.it/mediaArchive/media/image/Page/BZZ/1845/21_02_1845/BZZ_1845_02_21_6_object_459447.png?auth=a3ba13f2faf9b585cc2d81db25549f2c\n"
     ]
    },
    {
     "name": "stderr",
     "output_type": "stream",
     "text": [
      "/Users/nplattner/miniconda3/envs/AutoSearch/lib/python3.7/site-packages/urllib3/connectionpool.py:847: InsecureRequestWarning: Unverified HTTPS request is being made. Adding certificate verification is strongly advised. See: https://urllib3.readthedocs.io/en/latest/advanced-usage.html#ssl-warnings\n",
      "  InsecureRequestWarning)\n"
     ]
    },
    {
     "name": "stdout",
     "output_type": "stream",
     "text": [
      "7 https://digital.tessmann.it/mediaArchive/media/image/Page/BZZ/1845/21_02_1845/BZZ_1845_02_21_7_object_459450.png?auth=77900eb0c80258ec7731424e12220af8\n"
     ]
    },
    {
     "name": "stderr",
     "output_type": "stream",
     "text": [
      "/Users/nplattner/miniconda3/envs/AutoSearch/lib/python3.7/site-packages/urllib3/connectionpool.py:847: InsecureRequestWarning: Unverified HTTPS request is being made. Adding certificate verification is strongly advised. See: https://urllib3.readthedocs.io/en/latest/advanced-usage.html#ssl-warnings\n",
      "  InsecureRequestWarning)\n"
     ]
    },
    {
     "name": "stdout",
     "output_type": "stream",
     "text": [
      "7 https://digital.tessmann.it/mediaArchive/media/image/Page/BZZ/1845/21_02_1845/BZZ_1845_02_21_8_object_459451.png?auth=ed23d80c88736eb237eb27285d81a14f\n"
     ]
    },
    {
     "name": "stderr",
     "output_type": "stream",
     "text": [
      "/Users/nplattner/miniconda3/envs/AutoSearch/lib/python3.7/site-packages/urllib3/connectionpool.py:847: InsecureRequestWarning: Unverified HTTPS request is being made. Adding certificate verification is strongly advised. See: https://urllib3.readthedocs.io/en/latest/advanced-usage.html#ssl-warnings\n",
      "  InsecureRequestWarning)\n"
     ]
    },
    {
     "name": "stdout",
     "output_type": "stream",
     "text": [
      "8 https://digital.tessmann.it/mediaArchive/media/image/Page/BZZ/1845/28_02_1845/BZZ_1845_02_28_1_object_459454.png?auth=bb9d53ae8f08a7c45c4fff24fc09fc41\n"
     ]
    },
    {
     "name": "stderr",
     "output_type": "stream",
     "text": [
      "/Users/nplattner/miniconda3/envs/AutoSearch/lib/python3.7/site-packages/urllib3/connectionpool.py:847: InsecureRequestWarning: Unverified HTTPS request is being made. Adding certificate verification is strongly advised. See: https://urllib3.readthedocs.io/en/latest/advanced-usage.html#ssl-warnings\n",
      "  InsecureRequestWarning)\n"
     ]
    },
    {
     "name": "stdout",
     "output_type": "stream",
     "text": [
      "8 https://digital.tessmann.it/mediaArchive/media/image/Page/BZZ/1845/28_02_1845/BZZ_1845_02_28_2_object_459457.png?auth=1030152269fdb9baaad9806527d0e79d\n"
     ]
    },
    {
     "name": "stderr",
     "output_type": "stream",
     "text": [
      "/Users/nplattner/miniconda3/envs/AutoSearch/lib/python3.7/site-packages/urllib3/connectionpool.py:847: InsecureRequestWarning: Unverified HTTPS request is being made. Adding certificate verification is strongly advised. See: https://urllib3.readthedocs.io/en/latest/advanced-usage.html#ssl-warnings\n",
      "  InsecureRequestWarning)\n"
     ]
    },
    {
     "name": "stdout",
     "output_type": "stream",
     "text": [
      "8 https://digital.tessmann.it/mediaArchive/media/image/Page/BZZ/1845/28_02_1845/BZZ_1845_02_28_3_object_459458.png?auth=49ce7fcce88a727a57e9e9dd3a036a69\n"
     ]
    },
    {
     "name": "stderr",
     "output_type": "stream",
     "text": [
      "/Users/nplattner/miniconda3/envs/AutoSearch/lib/python3.7/site-packages/urllib3/connectionpool.py:847: InsecureRequestWarning: Unverified HTTPS request is being made. Adding certificate verification is strongly advised. See: https://urllib3.readthedocs.io/en/latest/advanced-usage.html#ssl-warnings\n",
      "  InsecureRequestWarning)\n"
     ]
    },
    {
     "name": "stdout",
     "output_type": "stream",
     "text": [
      "8 https://digital.tessmann.it/mediaArchive/media/image/Page/BZZ/1845/28_02_1845/BZZ_1845_02_28_4_object_459461.png?auth=cd07124eac8c0ab4b789d3d78ee49aee\n"
     ]
    },
    {
     "name": "stderr",
     "output_type": "stream",
     "text": [
      "/Users/nplattner/miniconda3/envs/AutoSearch/lib/python3.7/site-packages/urllib3/connectionpool.py:847: InsecureRequestWarning: Unverified HTTPS request is being made. Adding certificate verification is strongly advised. See: https://urllib3.readthedocs.io/en/latest/advanced-usage.html#ssl-warnings\n",
      "  InsecureRequestWarning)\n"
     ]
    },
    {
     "name": "stdout",
     "output_type": "stream",
     "text": [
      "8 https://digital.tessmann.it/mediaArchive/media/image/Page/BZZ/1845/28_02_1845/BZZ_1845_02_28_5_object_459464.png?auth=52265250024d2dc217e3f5f0cba11b04\n"
     ]
    },
    {
     "name": "stderr",
     "output_type": "stream",
     "text": [
      "/Users/nplattner/miniconda3/envs/AutoSearch/lib/python3.7/site-packages/urllib3/connectionpool.py:847: InsecureRequestWarning: Unverified HTTPS request is being made. Adding certificate verification is strongly advised. See: https://urllib3.readthedocs.io/en/latest/advanced-usage.html#ssl-warnings\n",
      "  InsecureRequestWarning)\n"
     ]
    },
    {
     "name": "stdout",
     "output_type": "stream",
     "text": [
      "8 https://digital.tessmann.it/mediaArchive/media/image/Page/BZZ/1845/28_02_1845/BZZ_1845_02_28_6_object_459465.png?auth=243174fa494c600a5a185eb57b6fa467\n"
     ]
    },
    {
     "name": "stderr",
     "output_type": "stream",
     "text": [
      "/Users/nplattner/miniconda3/envs/AutoSearch/lib/python3.7/site-packages/urllib3/connectionpool.py:847: InsecureRequestWarning: Unverified HTTPS request is being made. Adding certificate verification is strongly advised. See: https://urllib3.readthedocs.io/en/latest/advanced-usage.html#ssl-warnings\n",
      "  InsecureRequestWarning)\n"
     ]
    },
    {
     "name": "stdout",
     "output_type": "stream",
     "text": [
      "9 https://digital.tessmann.it/mediaArchive/media/image/Page/BZZ/1845/07_03_1845/BZZ_1845_03_07_1_object_459468.png?auth=90b0a512281cbf4faaef56c19180a433\n"
     ]
    },
    {
     "name": "stderr",
     "output_type": "stream",
     "text": [
      "/Users/nplattner/miniconda3/envs/AutoSearch/lib/python3.7/site-packages/urllib3/connectionpool.py:847: InsecureRequestWarning: Unverified HTTPS request is being made. Adding certificate verification is strongly advised. See: https://urllib3.readthedocs.io/en/latest/advanced-usage.html#ssl-warnings\n",
      "  InsecureRequestWarning)\n"
     ]
    },
    {
     "name": "stdout",
     "output_type": "stream",
     "text": [
      "9 https://digital.tessmann.it/mediaArchive/media/image/Page/BZZ/1845/07_03_1845/BZZ_1845_03_07_2_object_459471.png?auth=b88791acfef3a1256ddbc65b674968ea\n"
     ]
    },
    {
     "name": "stderr",
     "output_type": "stream",
     "text": [
      "/Users/nplattner/miniconda3/envs/AutoSearch/lib/python3.7/site-packages/urllib3/connectionpool.py:847: InsecureRequestWarning: Unverified HTTPS request is being made. Adding certificate verification is strongly advised. See: https://urllib3.readthedocs.io/en/latest/advanced-usage.html#ssl-warnings\n",
      "  InsecureRequestWarning)\n"
     ]
    },
    {
     "name": "stdout",
     "output_type": "stream",
     "text": [
      "9 https://digital.tessmann.it/mediaArchive/media/image/Page/BZZ/1845/07_03_1845/BZZ_1845_03_07_3_object_459472.png?auth=34808d6ee3ee0894689d6adbc7145013\n"
     ]
    },
    {
     "name": "stderr",
     "output_type": "stream",
     "text": [
      "/Users/nplattner/miniconda3/envs/AutoSearch/lib/python3.7/site-packages/urllib3/connectionpool.py:847: InsecureRequestWarning: Unverified HTTPS request is being made. Adding certificate verification is strongly advised. See: https://urllib3.readthedocs.io/en/latest/advanced-usage.html#ssl-warnings\n",
      "  InsecureRequestWarning)\n"
     ]
    },
    {
     "name": "stdout",
     "output_type": "stream",
     "text": [
      "9 https://digital.tessmann.it/mediaArchive/media/image/Page/BZZ/1845/07_03_1845/BZZ_1845_03_07_4_object_459475.png?auth=d237a664ea26c86a89811a78fd6ee7de\n"
     ]
    },
    {
     "name": "stderr",
     "output_type": "stream",
     "text": [
      "/Users/nplattner/miniconda3/envs/AutoSearch/lib/python3.7/site-packages/urllib3/connectionpool.py:847: InsecureRequestWarning: Unverified HTTPS request is being made. Adding certificate verification is strongly advised. See: https://urllib3.readthedocs.io/en/latest/advanced-usage.html#ssl-warnings\n",
      "  InsecureRequestWarning)\n"
     ]
    },
    {
     "name": "stdout",
     "output_type": "stream",
     "text": [
      "9 https://digital.tessmann.it/mediaArchive/media/image/Page/BZZ/1845/07_03_1845/BZZ_1845_03_07_5_object_459478.png?auth=24f00762f8532b1d9c0d940a4685d141\n"
     ]
    },
    {
     "name": "stderr",
     "output_type": "stream",
     "text": [
      "/Users/nplattner/miniconda3/envs/AutoSearch/lib/python3.7/site-packages/urllib3/connectionpool.py:847: InsecureRequestWarning: Unverified HTTPS request is being made. Adding certificate verification is strongly advised. See: https://urllib3.readthedocs.io/en/latest/advanced-usage.html#ssl-warnings\n",
      "  InsecureRequestWarning)\n"
     ]
    },
    {
     "name": "stdout",
     "output_type": "stream",
     "text": [
      "9 https://digital.tessmann.it/mediaArchive/media/image/Page/BZZ/1845/07_03_1845/BZZ_1845_03_07_6_object_459479.png?auth=1fb8be3604a8db0c6ad4bf64c4614de2\n"
     ]
    },
    {
     "name": "stderr",
     "output_type": "stream",
     "text": [
      "/Users/nplattner/miniconda3/envs/AutoSearch/lib/python3.7/site-packages/urllib3/connectionpool.py:847: InsecureRequestWarning: Unverified HTTPS request is being made. Adding certificate verification is strongly advised. See: https://urllib3.readthedocs.io/en/latest/advanced-usage.html#ssl-warnings\n",
      "  InsecureRequestWarning)\n"
     ]
    },
    {
     "name": "stdout",
     "output_type": "stream",
     "text": [
      "9 https://digital.tessmann.it/mediaArchive/media/image/Page/BZZ/1845/07_03_1845/BZZ_1845_03_07_7_object_459482.png?auth=76c965abb7fdc1aae963b42a35d29437\n"
     ]
    },
    {
     "name": "stderr",
     "output_type": "stream",
     "text": [
      "/Users/nplattner/miniconda3/envs/AutoSearch/lib/python3.7/site-packages/urllib3/connectionpool.py:847: InsecureRequestWarning: Unverified HTTPS request is being made. Adding certificate verification is strongly advised. See: https://urllib3.readthedocs.io/en/latest/advanced-usage.html#ssl-warnings\n",
      "  InsecureRequestWarning)\n"
     ]
    },
    {
     "name": "stdout",
     "output_type": "stream",
     "text": [
      "9 https://digital.tessmann.it/mediaArchive/media/image/Page/BZZ/1845/07_03_1845/BZZ_1845_03_07_8_object_459485.png?auth=e737d6624b07d2f242b17d81c9d70100\n"
     ]
    },
    {
     "name": "stderr",
     "output_type": "stream",
     "text": [
      "/Users/nplattner/miniconda3/envs/AutoSearch/lib/python3.7/site-packages/urllib3/connectionpool.py:847: InsecureRequestWarning: Unverified HTTPS request is being made. Adding certificate verification is strongly advised. See: https://urllib3.readthedocs.io/en/latest/advanced-usage.html#ssl-warnings\n",
      "  InsecureRequestWarning)\n"
     ]
    },
    {
     "name": "stdout",
     "output_type": "stream",
     "text": [
      "9 https://digital.tessmann.it/mediaArchive/media/image/Page/BZZ/1845/07_03_1845/BZZ_1845_03_07_9_object_459486.png?auth=289ab48b6a11a29c76700b199bd55c35\n"
     ]
    },
    {
     "name": "stderr",
     "output_type": "stream",
     "text": [
      "/Users/nplattner/miniconda3/envs/AutoSearch/lib/python3.7/site-packages/urllib3/connectionpool.py:847: InsecureRequestWarning: Unverified HTTPS request is being made. Adding certificate verification is strongly advised. See: https://urllib3.readthedocs.io/en/latest/advanced-usage.html#ssl-warnings\n",
      "  InsecureRequestWarning)\n"
     ]
    },
    {
     "name": "stdout",
     "output_type": "stream",
     "text": [
      "9 https://digital.tessmann.it/mediaArchive/media/image/Page/BZZ/1845/07_03_1845/BZZ_1845_03_07_10_object_459489.png?auth=7e35411d834b10c76345a8951d7ed59b\n"
     ]
    },
    {
     "name": "stderr",
     "output_type": "stream",
     "text": [
      "/Users/nplattner/miniconda3/envs/AutoSearch/lib/python3.7/site-packages/urllib3/connectionpool.py:847: InsecureRequestWarning: Unverified HTTPS request is being made. Adding certificate verification is strongly advised. See: https://urllib3.readthedocs.io/en/latest/advanced-usage.html#ssl-warnings\n",
      "  InsecureRequestWarning)\n"
     ]
    },
    {
     "name": "stdout",
     "output_type": "stream",
     "text": [
      "9 https://digital.tessmann.it/mediaArchive/media/image/Page/BZZ/1845/07_03_1845/BZZ_1845_03_07_11_object_459491.png?auth=252cb1d1c8ef922a0b7553a253025c35\n"
     ]
    },
    {
     "name": "stderr",
     "output_type": "stream",
     "text": [
      "/Users/nplattner/miniconda3/envs/AutoSearch/lib/python3.7/site-packages/urllib3/connectionpool.py:847: InsecureRequestWarning: Unverified HTTPS request is being made. Adding certificate verification is strongly advised. See: https://urllib3.readthedocs.io/en/latest/advanced-usage.html#ssl-warnings\n",
      "  InsecureRequestWarning)\n"
     ]
    },
    {
     "name": "stdout",
     "output_type": "stream",
     "text": [
      "10 https://digital.tessmann.it/mediaArchive/media/image/Page/BZZ/1845/14_03_1845/BZZ_1845_03_14_1_object_459496.png?auth=da2235e71450f048946f6c8342a9417e\n"
     ]
    },
    {
     "name": "stderr",
     "output_type": "stream",
     "text": [
      "/Users/nplattner/miniconda3/envs/AutoSearch/lib/python3.7/site-packages/urllib3/connectionpool.py:847: InsecureRequestWarning: Unverified HTTPS request is being made. Adding certificate verification is strongly advised. See: https://urllib3.readthedocs.io/en/latest/advanced-usage.html#ssl-warnings\n",
      "  InsecureRequestWarning)\n"
     ]
    },
    {
     "name": "stdout",
     "output_type": "stream",
     "text": [
      "10 https://digital.tessmann.it/mediaArchive/media/image/Page/BZZ/1845/14_03_1845/BZZ_1845_03_14_2_object_459499.png?auth=23dafc82eda273b489e41043732bd36c\n"
     ]
    },
    {
     "name": "stderr",
     "output_type": "stream",
     "text": [
      "/Users/nplattner/miniconda3/envs/AutoSearch/lib/python3.7/site-packages/urllib3/connectionpool.py:847: InsecureRequestWarning: Unverified HTTPS request is being made. Adding certificate verification is strongly advised. See: https://urllib3.readthedocs.io/en/latest/advanced-usage.html#ssl-warnings\n",
      "  InsecureRequestWarning)\n"
     ]
    },
    {
     "name": "stdout",
     "output_type": "stream",
     "text": [
      "10 https://digital.tessmann.it/mediaArchive/media/image/Page/BZZ/1845/14_03_1845/BZZ_1845_03_14_3_object_459500.png?auth=0eb0537dce1867bad2865a693bf61593\n"
     ]
    },
    {
     "name": "stderr",
     "output_type": "stream",
     "text": [
      "/Users/nplattner/miniconda3/envs/AutoSearch/lib/python3.7/site-packages/urllib3/connectionpool.py:847: InsecureRequestWarning: Unverified HTTPS request is being made. Adding certificate verification is strongly advised. See: https://urllib3.readthedocs.io/en/latest/advanced-usage.html#ssl-warnings\n",
      "  InsecureRequestWarning)\n"
     ]
    },
    {
     "name": "stdout",
     "output_type": "stream",
     "text": [
      "10 https://digital.tessmann.it/mediaArchive/media/image/Page/BZZ/1845/14_03_1845/BZZ_1845_03_14_4_object_459503.png?auth=0a681b130cf9cb9b41d9bc827e02f2c0\n"
     ]
    },
    {
     "name": "stderr",
     "output_type": "stream",
     "text": [
      "/Users/nplattner/miniconda3/envs/AutoSearch/lib/python3.7/site-packages/urllib3/connectionpool.py:847: InsecureRequestWarning: Unverified HTTPS request is being made. Adding certificate verification is strongly advised. See: https://urllib3.readthedocs.io/en/latest/advanced-usage.html#ssl-warnings\n",
      "  InsecureRequestWarning)\n"
     ]
    },
    {
     "name": "stdout",
     "output_type": "stream",
     "text": [
      "10 https://digital.tessmann.it/mediaArchive/media/image/Page/BZZ/1845/14_03_1845/BZZ_1845_03_14_5_object_459505.png?auth=bdfa34c322aeb288a727b7dbacb53ce4\n"
     ]
    },
    {
     "name": "stderr",
     "output_type": "stream",
     "text": [
      "/Users/nplattner/miniconda3/envs/AutoSearch/lib/python3.7/site-packages/urllib3/connectionpool.py:847: InsecureRequestWarning: Unverified HTTPS request is being made. Adding certificate verification is strongly advised. See: https://urllib3.readthedocs.io/en/latest/advanced-usage.html#ssl-warnings\n",
      "  InsecureRequestWarning)\n"
     ]
    },
    {
     "name": "stdout",
     "output_type": "stream",
     "text": [
      "10 https://digital.tessmann.it/mediaArchive/media/image/Page/BZZ/1845/14_03_1845/BZZ_1845_03_14_6_object_459508.png?auth=b03e23c076876ed3253261f39ff626bb\n"
     ]
    },
    {
     "name": "stderr",
     "output_type": "stream",
     "text": [
      "/Users/nplattner/miniconda3/envs/AutoSearch/lib/python3.7/site-packages/urllib3/connectionpool.py:847: InsecureRequestWarning: Unverified HTTPS request is being made. Adding certificate verification is strongly advised. See: https://urllib3.readthedocs.io/en/latest/advanced-usage.html#ssl-warnings\n",
      "  InsecureRequestWarning)\n"
     ]
    },
    {
     "name": "stdout",
     "output_type": "stream",
     "text": [
      "10 https://digital.tessmann.it/mediaArchive/media/image/Page/BZZ/1845/14_03_1845/BZZ_1845_03_14_7_object_459510.png?auth=87593ac07980fa16b79547fda4335456\n"
     ]
    },
    {
     "name": "stderr",
     "output_type": "stream",
     "text": [
      "/Users/nplattner/miniconda3/envs/AutoSearch/lib/python3.7/site-packages/urllib3/connectionpool.py:847: InsecureRequestWarning: Unverified HTTPS request is being made. Adding certificate verification is strongly advised. See: https://urllib3.readthedocs.io/en/latest/advanced-usage.html#ssl-warnings\n",
      "  InsecureRequestWarning)\n"
     ]
    },
    {
     "name": "stdout",
     "output_type": "stream",
     "text": [
      "10 https://digital.tessmann.it/mediaArchive/media/image/Page/BZZ/1845/14_03_1845/BZZ_1845_03_14_8_object_459512.png?auth=78f72e2655dafd7becec2c2a3ff61416\n"
     ]
    },
    {
     "name": "stderr",
     "output_type": "stream",
     "text": [
      "/Users/nplattner/miniconda3/envs/AutoSearch/lib/python3.7/site-packages/urllib3/connectionpool.py:847: InsecureRequestWarning: Unverified HTTPS request is being made. Adding certificate verification is strongly advised. See: https://urllib3.readthedocs.io/en/latest/advanced-usage.html#ssl-warnings\n",
      "  InsecureRequestWarning)\n"
     ]
    },
    {
     "name": "stdout",
     "output_type": "stream",
     "text": [
      "10 https://digital.tessmann.it/mediaArchive/media/image/Page/BZZ/1845/14_03_1845/BZZ_1845_03_14_9_object_459515.png?auth=d606f339821ae208b001dcb65dd881af\n"
     ]
    },
    {
     "name": "stderr",
     "output_type": "stream",
     "text": [
      "/Users/nplattner/miniconda3/envs/AutoSearch/lib/python3.7/site-packages/urllib3/connectionpool.py:847: InsecureRequestWarning: Unverified HTTPS request is being made. Adding certificate verification is strongly advised. See: https://urllib3.readthedocs.io/en/latest/advanced-usage.html#ssl-warnings\n",
      "  InsecureRequestWarning)\n"
     ]
    },
    {
     "name": "stdout",
     "output_type": "stream",
     "text": [
      "10 https://digital.tessmann.it/mediaArchive/media/image/Page/BZZ/1845/14_03_1845/BZZ_1845_03_14_10_object_459517.png?auth=a3703b5d3d3a46ce135103209d3933e0\n"
     ]
    },
    {
     "name": "stderr",
     "output_type": "stream",
     "text": [
      "/Users/nplattner/miniconda3/envs/AutoSearch/lib/python3.7/site-packages/urllib3/connectionpool.py:847: InsecureRequestWarning: Unverified HTTPS request is being made. Adding certificate verification is strongly advised. See: https://urllib3.readthedocs.io/en/latest/advanced-usage.html#ssl-warnings\n",
      "  InsecureRequestWarning)\n"
     ]
    },
    {
     "name": "stdout",
     "output_type": "stream",
     "text": [
      "10 https://digital.tessmann.it/mediaArchive/media/image/Page/BZZ/1845/14_03_1845/BZZ_1845_03_14_11_object_459519.png?auth=27b441f97455b1cc4be973ccd9373d7d\n"
     ]
    },
    {
     "name": "stderr",
     "output_type": "stream",
     "text": [
      "/Users/nplattner/miniconda3/envs/AutoSearch/lib/python3.7/site-packages/urllib3/connectionpool.py:847: InsecureRequestWarning: Unverified HTTPS request is being made. Adding certificate verification is strongly advised. See: https://urllib3.readthedocs.io/en/latest/advanced-usage.html#ssl-warnings\n",
      "  InsecureRequestWarning)\n"
     ]
    },
    {
     "name": "stdout",
     "output_type": "stream",
     "text": [
      "11 https://digital.tessmann.it/mediaArchive/media/image/Page/BZZ/1845/21_03_1845/BZZ_1845_03_21_1_object_459524.png?auth=7260cff1c30b49c12ff2d2b65aabaf0a\n"
     ]
    },
    {
     "name": "stderr",
     "output_type": "stream",
     "text": [
      "/Users/nplattner/miniconda3/envs/AutoSearch/lib/python3.7/site-packages/urllib3/connectionpool.py:847: InsecureRequestWarning: Unverified HTTPS request is being made. Adding certificate verification is strongly advised. See: https://urllib3.readthedocs.io/en/latest/advanced-usage.html#ssl-warnings\n",
      "  InsecureRequestWarning)\n"
     ]
    },
    {
     "name": "stdout",
     "output_type": "stream",
     "text": [
      "11 https://digital.tessmann.it/mediaArchive/media/image/Page/BZZ/1845/21_03_1845/BZZ_1845_03_21_2_object_459136.png?auth=8e6b90de06d23a7547253f876c6adab5\n"
     ]
    },
    {
     "name": "stderr",
     "output_type": "stream",
     "text": [
      "/Users/nplattner/miniconda3/envs/AutoSearch/lib/python3.7/site-packages/urllib3/connectionpool.py:847: InsecureRequestWarning: Unverified HTTPS request is being made. Adding certificate verification is strongly advised. See: https://urllib3.readthedocs.io/en/latest/advanced-usage.html#ssl-warnings\n",
      "  InsecureRequestWarning)\n"
     ]
    },
    {
     "name": "stdout",
     "output_type": "stream",
     "text": [
      "11 https://digital.tessmann.it/mediaArchive/media/image/Page/BZZ/1845/21_03_1845/BZZ_1845_03_21_3_object_459139.png?auth=72e21bea697d165a9e10960fa59193de\n"
     ]
    },
    {
     "name": "stderr",
     "output_type": "stream",
     "text": [
      "/Users/nplattner/miniconda3/envs/AutoSearch/lib/python3.7/site-packages/urllib3/connectionpool.py:847: InsecureRequestWarning: Unverified HTTPS request is being made. Adding certificate verification is strongly advised. See: https://urllib3.readthedocs.io/en/latest/advanced-usage.html#ssl-warnings\n",
      "  InsecureRequestWarning)\n"
     ]
    },
    {
     "name": "stdout",
     "output_type": "stream",
     "text": [
      "11 https://digital.tessmann.it/mediaArchive/media/image/Page/BZZ/1845/21_03_1845/BZZ_1845_03_21_4_object_459142.png?auth=2a5c71db1ad6f3a2a59f9e4bf71d4843\n"
     ]
    },
    {
     "name": "stderr",
     "output_type": "stream",
     "text": [
      "/Users/nplattner/miniconda3/envs/AutoSearch/lib/python3.7/site-packages/urllib3/connectionpool.py:847: InsecureRequestWarning: Unverified HTTPS request is being made. Adding certificate verification is strongly advised. See: https://urllib3.readthedocs.io/en/latest/advanced-usage.html#ssl-warnings\n",
      "  InsecureRequestWarning)\n"
     ]
    },
    {
     "name": "stdout",
     "output_type": "stream",
     "text": [
      "11 https://digital.tessmann.it/mediaArchive/media/image/Page/BZZ/1845/21_03_1845/BZZ_1845_03_21_5_object_459146.png?auth=1d36a53d4d280c0b888a51b562b62629\n"
     ]
    },
    {
     "name": "stderr",
     "output_type": "stream",
     "text": [
      "/Users/nplattner/miniconda3/envs/AutoSearch/lib/python3.7/site-packages/urllib3/connectionpool.py:847: InsecureRequestWarning: Unverified HTTPS request is being made. Adding certificate verification is strongly advised. See: https://urllib3.readthedocs.io/en/latest/advanced-usage.html#ssl-warnings\n",
      "  InsecureRequestWarning)\n"
     ]
    },
    {
     "name": "stdout",
     "output_type": "stream",
     "text": [
      "11 https://digital.tessmann.it/mediaArchive/media/image/Page/BZZ/1845/21_03_1845/BZZ_1845_03_21_6_object_459148.png?auth=de645927e99ac7f866bd9835ab691f47\n"
     ]
    },
    {
     "name": "stderr",
     "output_type": "stream",
     "text": [
      "/Users/nplattner/miniconda3/envs/AutoSearch/lib/python3.7/site-packages/urllib3/connectionpool.py:847: InsecureRequestWarning: Unverified HTTPS request is being made. Adding certificate verification is strongly advised. See: https://urllib3.readthedocs.io/en/latest/advanced-usage.html#ssl-warnings\n",
      "  InsecureRequestWarning)\n"
     ]
    },
    {
     "name": "stdout",
     "output_type": "stream",
     "text": [
      "11 https://digital.tessmann.it/mediaArchive/media/image/Page/BZZ/1845/21_03_1845/BZZ_1845_03_21_7_object_459151.png?auth=f8374bf5a2a2ed6f69129dfd2c910c52\n"
     ]
    },
    {
     "name": "stderr",
     "output_type": "stream",
     "text": [
      "/Users/nplattner/miniconda3/envs/AutoSearch/lib/python3.7/site-packages/urllib3/connectionpool.py:847: InsecureRequestWarning: Unverified HTTPS request is being made. Adding certificate verification is strongly advised. See: https://urllib3.readthedocs.io/en/latest/advanced-usage.html#ssl-warnings\n",
      "  InsecureRequestWarning)\n"
     ]
    },
    {
     "name": "stdout",
     "output_type": "stream",
     "text": [
      "11 https://digital.tessmann.it/mediaArchive/media/image/Page/BZZ/1845/21_03_1845/BZZ_1845_03_21_8_object_459155.png?auth=d954ed528022b6839280e5def18c6f22\n"
     ]
    },
    {
     "name": "stderr",
     "output_type": "stream",
     "text": [
      "/Users/nplattner/miniconda3/envs/AutoSearch/lib/python3.7/site-packages/urllib3/connectionpool.py:847: InsecureRequestWarning: Unverified HTTPS request is being made. Adding certificate verification is strongly advised. See: https://urllib3.readthedocs.io/en/latest/advanced-usage.html#ssl-warnings\n",
      "  InsecureRequestWarning)\n"
     ]
    },
    {
     "name": "stdout",
     "output_type": "stream",
     "text": [
      "11 https://digital.tessmann.it/mediaArchive/media/image/Page/BZZ/1845/21_03_1845/BZZ_1845_03_21_9_object_459158.png?auth=1b820c85016057fd469b9ce294f6eaff\n"
     ]
    },
    {
     "name": "stderr",
     "output_type": "stream",
     "text": [
      "/Users/nplattner/miniconda3/envs/AutoSearch/lib/python3.7/site-packages/urllib3/connectionpool.py:847: InsecureRequestWarning: Unverified HTTPS request is being made. Adding certificate verification is strongly advised. See: https://urllib3.readthedocs.io/en/latest/advanced-usage.html#ssl-warnings\n",
      "  InsecureRequestWarning)\n"
     ]
    },
    {
     "name": "stdout",
     "output_type": "stream",
     "text": [
      "11 https://digital.tessmann.it/mediaArchive/media/image/Page/BZZ/1845/21_03_1845/BZZ_1845_03_21_10_object_459160.png?auth=08cfb6b9584fe6bb959ae6142339493e\n"
     ]
    },
    {
     "name": "stderr",
     "output_type": "stream",
     "text": [
      "/Users/nplattner/miniconda3/envs/AutoSearch/lib/python3.7/site-packages/urllib3/connectionpool.py:847: InsecureRequestWarning: Unverified HTTPS request is being made. Adding certificate verification is strongly advised. See: https://urllib3.readthedocs.io/en/latest/advanced-usage.html#ssl-warnings\n",
      "  InsecureRequestWarning)\n"
     ]
    },
    {
     "name": "stdout",
     "output_type": "stream",
     "text": [
      "11 https://digital.tessmann.it/mediaArchive/media/image/Page/BZZ/1845/21_03_1845/BZZ_1845_03_21_11_object_459164.png?auth=466e0e2851ae25a1b0ae5ecdfed04e58\n"
     ]
    },
    {
     "name": "stderr",
     "output_type": "stream",
     "text": [
      "/Users/nplattner/miniconda3/envs/AutoSearch/lib/python3.7/site-packages/urllib3/connectionpool.py:847: InsecureRequestWarning: Unverified HTTPS request is being made. Adding certificate verification is strongly advised. See: https://urllib3.readthedocs.io/en/latest/advanced-usage.html#ssl-warnings\n",
      "  InsecureRequestWarning)\n"
     ]
    },
    {
     "name": "stdout",
     "output_type": "stream",
     "text": [
      "12 https://digital.tessmann.it/mediaArchive/media/image/Page/BZZ/1845/28_03_1845/BZZ_1845_03_28_1_object_459169.png?auth=bf8fb9da4882cca988b36bef829076a3\n"
     ]
    },
    {
     "name": "stderr",
     "output_type": "stream",
     "text": [
      "/Users/nplattner/miniconda3/envs/AutoSearch/lib/python3.7/site-packages/urllib3/connectionpool.py:847: InsecureRequestWarning: Unverified HTTPS request is being made. Adding certificate verification is strongly advised. See: https://urllib3.readthedocs.io/en/latest/advanced-usage.html#ssl-warnings\n",
      "  InsecureRequestWarning)\n"
     ]
    },
    {
     "name": "stdout",
     "output_type": "stream",
     "text": [
      "12 https://digital.tessmann.it/mediaArchive/media/image/Page/BZZ/1845/28_03_1845/BZZ_1845_03_28_2_object_459173.png?auth=af7b742d1c0bb8b8df1c76102efa0ae4\n"
     ]
    },
    {
     "name": "stderr",
     "output_type": "stream",
     "text": [
      "/Users/nplattner/miniconda3/envs/AutoSearch/lib/python3.7/site-packages/urllib3/connectionpool.py:847: InsecureRequestWarning: Unverified HTTPS request is being made. Adding certificate verification is strongly advised. See: https://urllib3.readthedocs.io/en/latest/advanced-usage.html#ssl-warnings\n",
      "  InsecureRequestWarning)\n"
     ]
    },
    {
     "name": "stdout",
     "output_type": "stream",
     "text": [
      "12 https://digital.tessmann.it/mediaArchive/media/image/Page/BZZ/1845/28_03_1845/BZZ_1845_03_28_3_object_459176.png?auth=516cd22fd45a12e6af8bd2e0309f6adf\n"
     ]
    },
    {
     "name": "stderr",
     "output_type": "stream",
     "text": [
      "/Users/nplattner/miniconda3/envs/AutoSearch/lib/python3.7/site-packages/urllib3/connectionpool.py:847: InsecureRequestWarning: Unverified HTTPS request is being made. Adding certificate verification is strongly advised. See: https://urllib3.readthedocs.io/en/latest/advanced-usage.html#ssl-warnings\n",
      "  InsecureRequestWarning)\n"
     ]
    },
    {
     "name": "stdout",
     "output_type": "stream",
     "text": [
      "12 https://digital.tessmann.it/mediaArchive/media/image/Page/BZZ/1845/28_03_1845/BZZ_1845_03_28_4_object_459179.png?auth=b3564d4586509f359d40992b540e929c\n"
     ]
    },
    {
     "name": "stderr",
     "output_type": "stream",
     "text": [
      "/Users/nplattner/miniconda3/envs/AutoSearch/lib/python3.7/site-packages/urllib3/connectionpool.py:847: InsecureRequestWarning: Unverified HTTPS request is being made. Adding certificate verification is strongly advised. See: https://urllib3.readthedocs.io/en/latest/advanced-usage.html#ssl-warnings\n",
      "  InsecureRequestWarning)\n"
     ]
    },
    {
     "name": "stdout",
     "output_type": "stream",
     "text": [
      "12 https://digital.tessmann.it/mediaArchive/media/image/Page/BZZ/1845/28_03_1845/BZZ_1845_03_28_5_object_459182.png?auth=ab6bdc72e8747b77c73c57c6e86fff09\n"
     ]
    },
    {
     "name": "stderr",
     "output_type": "stream",
     "text": [
      "/Users/nplattner/miniconda3/envs/AutoSearch/lib/python3.7/site-packages/urllib3/connectionpool.py:847: InsecureRequestWarning: Unverified HTTPS request is being made. Adding certificate verification is strongly advised. See: https://urllib3.readthedocs.io/en/latest/advanced-usage.html#ssl-warnings\n",
      "  InsecureRequestWarning)\n"
     ]
    },
    {
     "name": "stdout",
     "output_type": "stream",
     "text": [
      "12 https://digital.tessmann.it/mediaArchive/media/image/Page/BZZ/1845/28_03_1845/BZZ_1845_03_28_6_object_459185.png?auth=a999cc094f9d4177931f2b4dfc74defb\n"
     ]
    },
    {
     "name": "stderr",
     "output_type": "stream",
     "text": [
      "/Users/nplattner/miniconda3/envs/AutoSearch/lib/python3.7/site-packages/urllib3/connectionpool.py:847: InsecureRequestWarning: Unverified HTTPS request is being made. Adding certificate verification is strongly advised. See: https://urllib3.readthedocs.io/en/latest/advanced-usage.html#ssl-warnings\n",
      "  InsecureRequestWarning)\n"
     ]
    },
    {
     "name": "stdout",
     "output_type": "stream",
     "text": [
      "12 https://digital.tessmann.it/mediaArchive/media/image/Page/BZZ/1845/28_03_1845/BZZ_1845_03_28_7_object_459188.png?auth=6982d6b200981b9886e59861c7349d9a\n"
     ]
    },
    {
     "name": "stderr",
     "output_type": "stream",
     "text": [
      "/Users/nplattner/miniconda3/envs/AutoSearch/lib/python3.7/site-packages/urllib3/connectionpool.py:847: InsecureRequestWarning: Unverified HTTPS request is being made. Adding certificate verification is strongly advised. See: https://urllib3.readthedocs.io/en/latest/advanced-usage.html#ssl-warnings\n",
      "  InsecureRequestWarning)\n"
     ]
    },
    {
     "name": "stdout",
     "output_type": "stream",
     "text": [
      "12 https://digital.tessmann.it/mediaArchive/media/image/Page/BZZ/1845/28_03_1845/BZZ_1845_03_28_8_object_459192.png?auth=36b692811d92776487ef6e1203140a6b\n"
     ]
    },
    {
     "name": "stderr",
     "output_type": "stream",
     "text": [
      "/Users/nplattner/miniconda3/envs/AutoSearch/lib/python3.7/site-packages/urllib3/connectionpool.py:847: InsecureRequestWarning: Unverified HTTPS request is being made. Adding certificate verification is strongly advised. See: https://urllib3.readthedocs.io/en/latest/advanced-usage.html#ssl-warnings\n",
      "  InsecureRequestWarning)\n"
     ]
    },
    {
     "name": "stdout",
     "output_type": "stream",
     "text": [
      "12 https://digital.tessmann.it/mediaArchive/media/image/Page/BZZ/1845/28_03_1845/BZZ_1845_03_28_9_object_459194.png?auth=1d52ace28ebc8868123a97e2ad08d0fb\n"
     ]
    },
    {
     "name": "stderr",
     "output_type": "stream",
     "text": [
      "/Users/nplattner/miniconda3/envs/AutoSearch/lib/python3.7/site-packages/urllib3/connectionpool.py:847: InsecureRequestWarning: Unverified HTTPS request is being made. Adding certificate verification is strongly advised. See: https://urllib3.readthedocs.io/en/latest/advanced-usage.html#ssl-warnings\n",
      "  InsecureRequestWarning)\n"
     ]
    },
    {
     "name": "stdout",
     "output_type": "stream",
     "text": [
      "12 https://digital.tessmann.it/mediaArchive/media/image/Page/BZZ/1845/28_03_1845/BZZ_1845_03_28_10_object_459197.png?auth=8d68dddcb79fbe26573e9921c3164efd\n"
     ]
    },
    {
     "name": "stderr",
     "output_type": "stream",
     "text": [
      "/Users/nplattner/miniconda3/envs/AutoSearch/lib/python3.7/site-packages/urllib3/connectionpool.py:847: InsecureRequestWarning: Unverified HTTPS request is being made. Adding certificate verification is strongly advised. See: https://urllib3.readthedocs.io/en/latest/advanced-usage.html#ssl-warnings\n",
      "  InsecureRequestWarning)\n"
     ]
    },
    {
     "name": "stdout",
     "output_type": "stream",
     "text": [
      "13 https://digital.tessmann.it/mediaArchive/media/image/Page/BZZ/1845/04_04_1845/BZZ_1845_04_04_1_object_459201.png?auth=9c958f784af1e8749b86d133ec1f3c22\n"
     ]
    },
    {
     "name": "stderr",
     "output_type": "stream",
     "text": [
      "/Users/nplattner/miniconda3/envs/AutoSearch/lib/python3.7/site-packages/urllib3/connectionpool.py:847: InsecureRequestWarning: Unverified HTTPS request is being made. Adding certificate verification is strongly advised. See: https://urllib3.readthedocs.io/en/latest/advanced-usage.html#ssl-warnings\n",
      "  InsecureRequestWarning)\n"
     ]
    },
    {
     "name": "stdout",
     "output_type": "stream",
     "text": [
      "13 https://digital.tessmann.it/mediaArchive/media/image/Page/BZZ/1845/04_04_1845/BZZ_1845_04_04_2_object_459204.png?auth=bb6d7796d8717f277e9eece4d0e6f360\n"
     ]
    },
    {
     "name": "stderr",
     "output_type": "stream",
     "text": [
      "/Users/nplattner/miniconda3/envs/AutoSearch/lib/python3.7/site-packages/urllib3/connectionpool.py:847: InsecureRequestWarning: Unverified HTTPS request is being made. Adding certificate verification is strongly advised. See: https://urllib3.readthedocs.io/en/latest/advanced-usage.html#ssl-warnings\n",
      "  InsecureRequestWarning)\n"
     ]
    },
    {
     "name": "stdout",
     "output_type": "stream",
     "text": [
      "13 https://digital.tessmann.it/mediaArchive/media/image/Page/BZZ/1845/04_04_1845/BZZ_1845_04_04_3_object_459206.png?auth=dd5d79ebabbbbe8874bcf281d480acee\n"
     ]
    },
    {
     "name": "stderr",
     "output_type": "stream",
     "text": [
      "/Users/nplattner/miniconda3/envs/AutoSearch/lib/python3.7/site-packages/urllib3/connectionpool.py:847: InsecureRequestWarning: Unverified HTTPS request is being made. Adding certificate verification is strongly advised. See: https://urllib3.readthedocs.io/en/latest/advanced-usage.html#ssl-warnings\n",
      "  InsecureRequestWarning)\n"
     ]
    },
    {
     "name": "stdout",
     "output_type": "stream",
     "text": [
      "13 https://digital.tessmann.it/mediaArchive/media/image/Page/BZZ/1845/04_04_1845/BZZ_1845_04_04_4_object_459210.png?auth=a834953ae9446f846ecc0d3dd2ef5927\n"
     ]
    },
    {
     "name": "stderr",
     "output_type": "stream",
     "text": [
      "/Users/nplattner/miniconda3/envs/AutoSearch/lib/python3.7/site-packages/urllib3/connectionpool.py:847: InsecureRequestWarning: Unverified HTTPS request is being made. Adding certificate verification is strongly advised. See: https://urllib3.readthedocs.io/en/latest/advanced-usage.html#ssl-warnings\n",
      "  InsecureRequestWarning)\n"
     ]
    },
    {
     "name": "stdout",
     "output_type": "stream",
     "text": [
      "13 https://digital.tessmann.it/mediaArchive/media/image/Page/BZZ/1845/04_04_1845/BZZ_1845_04_04_5_object_459213.png?auth=531edf9523f81d8a56a7248e2bef9ea4\n"
     ]
    },
    {
     "name": "stderr",
     "output_type": "stream",
     "text": [
      "/Users/nplattner/miniconda3/envs/AutoSearch/lib/python3.7/site-packages/urllib3/connectionpool.py:847: InsecureRequestWarning: Unverified HTTPS request is being made. Adding certificate verification is strongly advised. See: https://urllib3.readthedocs.io/en/latest/advanced-usage.html#ssl-warnings\n",
      "  InsecureRequestWarning)\n"
     ]
    },
    {
     "name": "stdout",
     "output_type": "stream",
     "text": [
      "13 https://digital.tessmann.it/mediaArchive/media/image/Page/BZZ/1845/04_04_1845/BZZ_1845_04_04_6_object_459215.png?auth=f349c68a93a6bba7bd8f8435720ee22a\n"
     ]
    },
    {
     "name": "stderr",
     "output_type": "stream",
     "text": [
      "/Users/nplattner/miniconda3/envs/AutoSearch/lib/python3.7/site-packages/urllib3/connectionpool.py:847: InsecureRequestWarning: Unverified HTTPS request is being made. Adding certificate verification is strongly advised. See: https://urllib3.readthedocs.io/en/latest/advanced-usage.html#ssl-warnings\n",
      "  InsecureRequestWarning)\n"
     ]
    },
    {
     "name": "stdout",
     "output_type": "stream",
     "text": [
      "13 https://digital.tessmann.it/mediaArchive/media/image/Page/BZZ/1845/04_04_1845/BZZ_1845_04_04_7_object_459219.png?auth=d128829be3b0e2e3983fc7d710a4877d\n"
     ]
    },
    {
     "name": "stderr",
     "output_type": "stream",
     "text": [
      "/Users/nplattner/miniconda3/envs/AutoSearch/lib/python3.7/site-packages/urllib3/connectionpool.py:847: InsecureRequestWarning: Unverified HTTPS request is being made. Adding certificate verification is strongly advised. See: https://urllib3.readthedocs.io/en/latest/advanced-usage.html#ssl-warnings\n",
      "  InsecureRequestWarning)\n"
     ]
    },
    {
     "name": "stdout",
     "output_type": "stream",
     "text": [
      "13 https://digital.tessmann.it/mediaArchive/media/image/Page/BZZ/1845/04_04_1845/BZZ_1845_04_04_8_object_459222.png?auth=e0768f5ec8ec218be1c59e9b9be419e3\n"
     ]
    },
    {
     "name": "stderr",
     "output_type": "stream",
     "text": [
      "/Users/nplattner/miniconda3/envs/AutoSearch/lib/python3.7/site-packages/urllib3/connectionpool.py:847: InsecureRequestWarning: Unverified HTTPS request is being made. Adding certificate verification is strongly advised. See: https://urllib3.readthedocs.io/en/latest/advanced-usage.html#ssl-warnings\n",
      "  InsecureRequestWarning)\n"
     ]
    },
    {
     "name": "stdout",
     "output_type": "stream",
     "text": [
      "14 https://digital.tessmann.it/mediaArchive/media/image/Page/BZZ/1845/11_04_1845/BZZ_1845_04_11_1_object_459225.png?auth=1e4a88e20d711fe10e655f3cfe57b3f9\n"
     ]
    },
    {
     "name": "stderr",
     "output_type": "stream",
     "text": [
      "/Users/nplattner/miniconda3/envs/AutoSearch/lib/python3.7/site-packages/urllib3/connectionpool.py:847: InsecureRequestWarning: Unverified HTTPS request is being made. Adding certificate verification is strongly advised. See: https://urllib3.readthedocs.io/en/latest/advanced-usage.html#ssl-warnings\n",
      "  InsecureRequestWarning)\n"
     ]
    },
    {
     "name": "stdout",
     "output_type": "stream",
     "text": [
      "14 https://digital.tessmann.it/mediaArchive/media/image/Page/BZZ/1845/11_04_1845/BZZ_1845_04_11_2_object_459227.png?auth=1fa37544e97f889a62f7bd1cbd08729d\n"
     ]
    },
    {
     "name": "stderr",
     "output_type": "stream",
     "text": [
      "/Users/nplattner/miniconda3/envs/AutoSearch/lib/python3.7/site-packages/urllib3/connectionpool.py:847: InsecureRequestWarning: Unverified HTTPS request is being made. Adding certificate verification is strongly advised. See: https://urllib3.readthedocs.io/en/latest/advanced-usage.html#ssl-warnings\n",
      "  InsecureRequestWarning)\n"
     ]
    },
    {
     "name": "stdout",
     "output_type": "stream",
     "text": [
      "14 https://digital.tessmann.it/mediaArchive/media/image/Page/BZZ/1845/11_04_1845/BZZ_1845_04_11_3_object_459230.png?auth=51bb862c303f6ac3e73a54176a0ddabf\n"
     ]
    },
    {
     "name": "stderr",
     "output_type": "stream",
     "text": [
      "/Users/nplattner/miniconda3/envs/AutoSearch/lib/python3.7/site-packages/urllib3/connectionpool.py:847: InsecureRequestWarning: Unverified HTTPS request is being made. Adding certificate verification is strongly advised. See: https://urllib3.readthedocs.io/en/latest/advanced-usage.html#ssl-warnings\n",
      "  InsecureRequestWarning)\n"
     ]
    },
    {
     "name": "stdout",
     "output_type": "stream",
     "text": [
      "14 https://digital.tessmann.it/mediaArchive/media/image/Page/BZZ/1845/11_04_1845/BZZ_1845_04_11_4_object_459234.png?auth=eae7f90de8eee60dc655e7f317e1f5e6\n"
     ]
    },
    {
     "name": "stderr",
     "output_type": "stream",
     "text": [
      "/Users/nplattner/miniconda3/envs/AutoSearch/lib/python3.7/site-packages/urllib3/connectionpool.py:847: InsecureRequestWarning: Unverified HTTPS request is being made. Adding certificate verification is strongly advised. See: https://urllib3.readthedocs.io/en/latest/advanced-usage.html#ssl-warnings\n",
      "  InsecureRequestWarning)\n"
     ]
    },
    {
     "name": "stdout",
     "output_type": "stream",
     "text": [
      "14 https://digital.tessmann.it/mediaArchive/media/image/Page/BZZ/1845/11_04_1845/BZZ_1845_04_11_5_object_459237.png?auth=bf10cf35b2c1debc9c7747e3755d473c\n"
     ]
    },
    {
     "name": "stderr",
     "output_type": "stream",
     "text": [
      "/Users/nplattner/miniconda3/envs/AutoSearch/lib/python3.7/site-packages/urllib3/connectionpool.py:847: InsecureRequestWarning: Unverified HTTPS request is being made. Adding certificate verification is strongly advised. See: https://urllib3.readthedocs.io/en/latest/advanced-usage.html#ssl-warnings\n",
      "  InsecureRequestWarning)\n"
     ]
    },
    {
     "name": "stdout",
     "output_type": "stream",
     "text": [
      "14 https://digital.tessmann.it/mediaArchive/media/image/Page/BZZ/1845/11_04_1845/BZZ_1845_04_11_6_object_459239.png?auth=ba5ce10e2d28c6d7857627b0dcfbeef6\n"
     ]
    },
    {
     "name": "stderr",
     "output_type": "stream",
     "text": [
      "/Users/nplattner/miniconda3/envs/AutoSearch/lib/python3.7/site-packages/urllib3/connectionpool.py:847: InsecureRequestWarning: Unverified HTTPS request is being made. Adding certificate verification is strongly advised. See: https://urllib3.readthedocs.io/en/latest/advanced-usage.html#ssl-warnings\n",
      "  InsecureRequestWarning)\n"
     ]
    },
    {
     "name": "stdout",
     "output_type": "stream",
     "text": [
      "15 https://digital.tessmann.it/mediaArchive/media/image/Page/BZZ/1845/18_04_1845/BZZ_1845_04_18_1_object_459243.png?auth=76b5f45355b440ce102b2bfb27323b5c\n"
     ]
    },
    {
     "name": "stderr",
     "output_type": "stream",
     "text": [
      "/Users/nplattner/miniconda3/envs/AutoSearch/lib/python3.7/site-packages/urllib3/connectionpool.py:847: InsecureRequestWarning: Unverified HTTPS request is being made. Adding certificate verification is strongly advised. See: https://urllib3.readthedocs.io/en/latest/advanced-usage.html#ssl-warnings\n",
      "  InsecureRequestWarning)\n"
     ]
    },
    {
     "name": "stdout",
     "output_type": "stream",
     "text": [
      "15 https://digital.tessmann.it/mediaArchive/media/image/Page/BZZ/1845/18_04_1845/BZZ_1845_04_18_2_object_459246.png?auth=440aa2134332ffcc06653727ebeb69fe\n"
     ]
    },
    {
     "name": "stderr",
     "output_type": "stream",
     "text": [
      "/Users/nplattner/miniconda3/envs/AutoSearch/lib/python3.7/site-packages/urllib3/connectionpool.py:847: InsecureRequestWarning: Unverified HTTPS request is being made. Adding certificate verification is strongly advised. See: https://urllib3.readthedocs.io/en/latest/advanced-usage.html#ssl-warnings\n",
      "  InsecureRequestWarning)\n"
     ]
    },
    {
     "name": "stdout",
     "output_type": "stream",
     "text": [
      "15 https://digital.tessmann.it/mediaArchive/media/image/Page/BZZ/1845/18_04_1845/BZZ_1845_04_18_3_object_459248.png?auth=49baecd5dc9fdb4301d5dd9bae7bbf0e\n"
     ]
    },
    {
     "name": "stderr",
     "output_type": "stream",
     "text": [
      "/Users/nplattner/miniconda3/envs/AutoSearch/lib/python3.7/site-packages/urllib3/connectionpool.py:847: InsecureRequestWarning: Unverified HTTPS request is being made. Adding certificate verification is strongly advised. See: https://urllib3.readthedocs.io/en/latest/advanced-usage.html#ssl-warnings\n",
      "  InsecureRequestWarning)\n"
     ]
    },
    {
     "name": "stdout",
     "output_type": "stream",
     "text": [
      "15 https://digital.tessmann.it/mediaArchive/media/image/Page/BZZ/1845/18_04_1845/BZZ_1845_04_18_4_object_459252.png?auth=cd310e0c51737200bb46b5163339f00b\n"
     ]
    },
    {
     "name": "stderr",
     "output_type": "stream",
     "text": [
      "/Users/nplattner/miniconda3/envs/AutoSearch/lib/python3.7/site-packages/urllib3/connectionpool.py:847: InsecureRequestWarning: Unverified HTTPS request is being made. Adding certificate verification is strongly advised. See: https://urllib3.readthedocs.io/en/latest/advanced-usage.html#ssl-warnings\n",
      "  InsecureRequestWarning)\n"
     ]
    },
    {
     "name": "stdout",
     "output_type": "stream",
     "text": [
      "15 https://digital.tessmann.it/mediaArchive/media/image/Page/BZZ/1845/18_04_1845/BZZ_1845_04_18_5_object_459255.png?auth=8ba0f16f94eedc1c420861fd5f3cec2d\n"
     ]
    },
    {
     "name": "stderr",
     "output_type": "stream",
     "text": [
      "/Users/nplattner/miniconda3/envs/AutoSearch/lib/python3.7/site-packages/urllib3/connectionpool.py:847: InsecureRequestWarning: Unverified HTTPS request is being made. Adding certificate verification is strongly advised. See: https://urllib3.readthedocs.io/en/latest/advanced-usage.html#ssl-warnings\n",
      "  InsecureRequestWarning)\n"
     ]
    },
    {
     "name": "stdout",
     "output_type": "stream",
     "text": [
      "15 https://digital.tessmann.it/mediaArchive/media/image/Page/BZZ/1845/18_04_1845/BZZ_1845_04_18_6_object_459257.png?auth=88696fb93c9196b2a594c2b8d6b4a0a5\n"
     ]
    },
    {
     "name": "stderr",
     "output_type": "stream",
     "text": [
      "/Users/nplattner/miniconda3/envs/AutoSearch/lib/python3.7/site-packages/urllib3/connectionpool.py:847: InsecureRequestWarning: Unverified HTTPS request is being made. Adding certificate verification is strongly advised. See: https://urllib3.readthedocs.io/en/latest/advanced-usage.html#ssl-warnings\n",
      "  InsecureRequestWarning)\n"
     ]
    },
    {
     "name": "stdout",
     "output_type": "stream",
     "text": [
      "16 https://digital.tessmann.it/mediaArchive/media/image/Page/BZZ/1845/25_04_1845/BZZ_1845_04_25_1_object_459261.png?auth=2d6a6352ceeeaf040bd85a22e372f05e\n"
     ]
    },
    {
     "name": "stderr",
     "output_type": "stream",
     "text": [
      "/Users/nplattner/miniconda3/envs/AutoSearch/lib/python3.7/site-packages/urllib3/connectionpool.py:847: InsecureRequestWarning: Unverified HTTPS request is being made. Adding certificate verification is strongly advised. See: https://urllib3.readthedocs.io/en/latest/advanced-usage.html#ssl-warnings\n",
      "  InsecureRequestWarning)\n"
     ]
    },
    {
     "name": "stdout",
     "output_type": "stream",
     "text": [
      "16 https://digital.tessmann.it/mediaArchive/media/image/Page/BZZ/1845/25_04_1845/BZZ_1845_04_25_2_object_459264.png?auth=f5ceb2bc6044498bb34a6bef8b3a1bda\n"
     ]
    },
    {
     "name": "stderr",
     "output_type": "stream",
     "text": [
      "/Users/nplattner/miniconda3/envs/AutoSearch/lib/python3.7/site-packages/urllib3/connectionpool.py:847: InsecureRequestWarning: Unverified HTTPS request is being made. Adding certificate verification is strongly advised. See: https://urllib3.readthedocs.io/en/latest/advanced-usage.html#ssl-warnings\n",
      "  InsecureRequestWarning)\n"
     ]
    },
    {
     "name": "stdout",
     "output_type": "stream",
     "text": [
      "16 https://digital.tessmann.it/mediaArchive/media/image/Page/BZZ/1845/25_04_1845/BZZ_1845_04_25_3_object_459266.png?auth=99a3ea820a26e47e81617ae5d4143953\n"
     ]
    },
    {
     "name": "stderr",
     "output_type": "stream",
     "text": [
      "/Users/nplattner/miniconda3/envs/AutoSearch/lib/python3.7/site-packages/urllib3/connectionpool.py:847: InsecureRequestWarning: Unverified HTTPS request is being made. Adding certificate verification is strongly advised. See: https://urllib3.readthedocs.io/en/latest/advanced-usage.html#ssl-warnings\n",
      "  InsecureRequestWarning)\n"
     ]
    },
    {
     "name": "stdout",
     "output_type": "stream",
     "text": [
      "16 https://digital.tessmann.it/mediaArchive/media/image/Page/BZZ/1845/25_04_1845/BZZ_1845_04_25_4_object_459269.png?auth=a10f998a54605d27768d99fa5d5a6b15\n"
     ]
    },
    {
     "name": "stderr",
     "output_type": "stream",
     "text": [
      "/Users/nplattner/miniconda3/envs/AutoSearch/lib/python3.7/site-packages/urllib3/connectionpool.py:847: InsecureRequestWarning: Unverified HTTPS request is being made. Adding certificate verification is strongly advised. See: https://urllib3.readthedocs.io/en/latest/advanced-usage.html#ssl-warnings\n",
      "  InsecureRequestWarning)\n"
     ]
    },
    {
     "name": "stdout",
     "output_type": "stream",
     "text": [
      "16 https://digital.tessmann.it/mediaArchive/media/image/Page/BZZ/1845/25_04_1845/BZZ_1845_04_25_5_object_459272.png?auth=dcd61d43222a2ed511daac79ae095588\n"
     ]
    },
    {
     "name": "stderr",
     "output_type": "stream",
     "text": [
      "/Users/nplattner/miniconda3/envs/AutoSearch/lib/python3.7/site-packages/urllib3/connectionpool.py:847: InsecureRequestWarning: Unverified HTTPS request is being made. Adding certificate verification is strongly advised. See: https://urllib3.readthedocs.io/en/latest/advanced-usage.html#ssl-warnings\n",
      "  InsecureRequestWarning)\n"
     ]
    },
    {
     "name": "stdout",
     "output_type": "stream",
     "text": [
      "16 https://digital.tessmann.it/mediaArchive/media/image/Page/BZZ/1845/25_04_1845/BZZ_1845_04_25_6_object_459276.png?auth=54b99859ba69eac0cd6a2746ef5063b8\n"
     ]
    },
    {
     "name": "stderr",
     "output_type": "stream",
     "text": [
      "/Users/nplattner/miniconda3/envs/AutoSearch/lib/python3.7/site-packages/urllib3/connectionpool.py:847: InsecureRequestWarning: Unverified HTTPS request is being made. Adding certificate verification is strongly advised. See: https://urllib3.readthedocs.io/en/latest/advanced-usage.html#ssl-warnings\n",
      "  InsecureRequestWarning)\n"
     ]
    },
    {
     "name": "stdout",
     "output_type": "stream",
     "text": [
      "16 https://digital.tessmann.it/mediaArchive/media/image/Page/BZZ/1845/25_04_1845/BZZ_1845_04_25_7_object_459279.png?auth=6461f78b67f595a0b6c3bdde81cdb002\n"
     ]
    },
    {
     "name": "stderr",
     "output_type": "stream",
     "text": [
      "/Users/nplattner/miniconda3/envs/AutoSearch/lib/python3.7/site-packages/urllib3/connectionpool.py:847: InsecureRequestWarning: Unverified HTTPS request is being made. Adding certificate verification is strongly advised. See: https://urllib3.readthedocs.io/en/latest/advanced-usage.html#ssl-warnings\n",
      "  InsecureRequestWarning)\n"
     ]
    },
    {
     "name": "stdout",
     "output_type": "stream",
     "text": [
      "17 https://digital.tessmann.it/mediaArchive/media/image/Page/BZZ/1845/02_05_1845/BZZ_1845_05_02_1_object_459282.png?auth=fc29272a81afe97d7602fed9f5c3ab62\n"
     ]
    },
    {
     "name": "stderr",
     "output_type": "stream",
     "text": [
      "/Users/nplattner/miniconda3/envs/AutoSearch/lib/python3.7/site-packages/urllib3/connectionpool.py:847: InsecureRequestWarning: Unverified HTTPS request is being made. Adding certificate verification is strongly advised. See: https://urllib3.readthedocs.io/en/latest/advanced-usage.html#ssl-warnings\n",
      "  InsecureRequestWarning)\n"
     ]
    },
    {
     "name": "stdout",
     "output_type": "stream",
     "text": [
      "17 https://digital.tessmann.it/mediaArchive/media/image/Page/BZZ/1845/02_05_1845/BZZ_1845_05_02_2_object_459285.png?auth=c0d7bae13557092142e2a7175ade3ddb\n"
     ]
    },
    {
     "name": "stderr",
     "output_type": "stream",
     "text": [
      "/Users/nplattner/miniconda3/envs/AutoSearch/lib/python3.7/site-packages/urllib3/connectionpool.py:847: InsecureRequestWarning: Unverified HTTPS request is being made. Adding certificate verification is strongly advised. See: https://urllib3.readthedocs.io/en/latest/advanced-usage.html#ssl-warnings\n",
      "  InsecureRequestWarning)\n"
     ]
    },
    {
     "name": "stdout",
     "output_type": "stream",
     "text": [
      "17 https://digital.tessmann.it/mediaArchive/media/image/Page/BZZ/1845/02_05_1845/BZZ_1845_05_02_3_object_459288.png?auth=84ee80dcd36b0d9685eda104b5dfd3c0\n"
     ]
    },
    {
     "name": "stderr",
     "output_type": "stream",
     "text": [
      "/Users/nplattner/miniconda3/envs/AutoSearch/lib/python3.7/site-packages/urllib3/connectionpool.py:847: InsecureRequestWarning: Unverified HTTPS request is being made. Adding certificate verification is strongly advised. See: https://urllib3.readthedocs.io/en/latest/advanced-usage.html#ssl-warnings\n",
      "  InsecureRequestWarning)\n"
     ]
    },
    {
     "name": "stdout",
     "output_type": "stream",
     "text": [
      "17 https://digital.tessmann.it/mediaArchive/media/image/Page/BZZ/1845/02_05_1845/BZZ_1845_05_02_4_object_459291.png?auth=a63948cc80d8f5b22fe1a7ddf3c4c82c\n"
     ]
    },
    {
     "name": "stderr",
     "output_type": "stream",
     "text": [
      "/Users/nplattner/miniconda3/envs/AutoSearch/lib/python3.7/site-packages/urllib3/connectionpool.py:847: InsecureRequestWarning: Unverified HTTPS request is being made. Adding certificate verification is strongly advised. See: https://urllib3.readthedocs.io/en/latest/advanced-usage.html#ssl-warnings\n",
      "  InsecureRequestWarning)\n"
     ]
    },
    {
     "name": "stdout",
     "output_type": "stream",
     "text": [
      "17 https://digital.tessmann.it/mediaArchive/media/image/Page/BZZ/1845/02_05_1845/BZZ_1845_05_02_5_object_459293.png?auth=c8db24a7b4b4eabfad24c5c8a3abe5c3\n"
     ]
    },
    {
     "name": "stderr",
     "output_type": "stream",
     "text": [
      "/Users/nplattner/miniconda3/envs/AutoSearch/lib/python3.7/site-packages/urllib3/connectionpool.py:847: InsecureRequestWarning: Unverified HTTPS request is being made. Adding certificate verification is strongly advised. See: https://urllib3.readthedocs.io/en/latest/advanced-usage.html#ssl-warnings\n",
      "  InsecureRequestWarning)\n"
     ]
    },
    {
     "name": "stdout",
     "output_type": "stream",
     "text": [
      "17 https://digital.tessmann.it/mediaArchive/media/image/Page/BZZ/1845/02_05_1845/BZZ_1845_05_02_6_object_459296.png?auth=c8a629492219b58eb94381dde28e375e\n"
     ]
    },
    {
     "name": "stderr",
     "output_type": "stream",
     "text": [
      "/Users/nplattner/miniconda3/envs/AutoSearch/lib/python3.7/site-packages/urllib3/connectionpool.py:847: InsecureRequestWarning: Unverified HTTPS request is being made. Adding certificate verification is strongly advised. See: https://urllib3.readthedocs.io/en/latest/advanced-usage.html#ssl-warnings\n",
      "  InsecureRequestWarning)\n"
     ]
    },
    {
     "name": "stdout",
     "output_type": "stream",
     "text": [
      "17 https://digital.tessmann.it/mediaArchive/media/image/Page/BZZ/1845/02_05_1845/BZZ_1845_05_02_7_object_459298.png?auth=ec61f8eee6d3f029576c723d023da84e\n"
     ]
    },
    {
     "name": "stderr",
     "output_type": "stream",
     "text": [
      "/Users/nplattner/miniconda3/envs/AutoSearch/lib/python3.7/site-packages/urllib3/connectionpool.py:847: InsecureRequestWarning: Unverified HTTPS request is being made. Adding certificate verification is strongly advised. See: https://urllib3.readthedocs.io/en/latest/advanced-usage.html#ssl-warnings\n",
      "  InsecureRequestWarning)\n"
     ]
    },
    {
     "name": "stdout",
     "output_type": "stream",
     "text": [
      "17 https://digital.tessmann.it/mediaArchive/media/image/Page/BZZ/1845/02_05_1845/BZZ_1845_05_02_8_object_459301.png?auth=3056689e42043064fd190724d9df24ba\n"
     ]
    },
    {
     "name": "stderr",
     "output_type": "stream",
     "text": [
      "/Users/nplattner/miniconda3/envs/AutoSearch/lib/python3.7/site-packages/urllib3/connectionpool.py:847: InsecureRequestWarning: Unverified HTTPS request is being made. Adding certificate verification is strongly advised. See: https://urllib3.readthedocs.io/en/latest/advanced-usage.html#ssl-warnings\n",
      "  InsecureRequestWarning)\n"
     ]
    },
    {
     "name": "stdout",
     "output_type": "stream",
     "text": [
      "18 https://digital.tessmann.it/mediaArchive/media/image/Page/BZZ/1845/09_05_1845/BZZ_1845_05_09_1_object_459303.png?auth=d70adc62274f3a2b4785b4b82960af7f\n"
     ]
    },
    {
     "name": "stderr",
     "output_type": "stream",
     "text": [
      "/Users/nplattner/miniconda3/envs/AutoSearch/lib/python3.7/site-packages/urllib3/connectionpool.py:847: InsecureRequestWarning: Unverified HTTPS request is being made. Adding certificate verification is strongly advised. See: https://urllib3.readthedocs.io/en/latest/advanced-usage.html#ssl-warnings\n",
      "  InsecureRequestWarning)\n"
     ]
    },
    {
     "name": "stdout",
     "output_type": "stream",
     "text": [
      "18 https://digital.tessmann.it/mediaArchive/media/image/Page/BZZ/1845/09_05_1845/BZZ_1845_05_09_2_object_459305.png?auth=34c8b240cf7aaad230c27a74812e4663\n"
     ]
    },
    {
     "name": "stderr",
     "output_type": "stream",
     "text": [
      "/Users/nplattner/miniconda3/envs/AutoSearch/lib/python3.7/site-packages/urllib3/connectionpool.py:847: InsecureRequestWarning: Unverified HTTPS request is being made. Adding certificate verification is strongly advised. See: https://urllib3.readthedocs.io/en/latest/advanced-usage.html#ssl-warnings\n",
      "  InsecureRequestWarning)\n"
     ]
    },
    {
     "name": "stdout",
     "output_type": "stream",
     "text": [
      "18 https://digital.tessmann.it/mediaArchive/media/image/Page/BZZ/1845/09_05_1845/BZZ_1845_05_09_3_object_459308.png?auth=6a68e9cefe35afa24f9c21210dfc5096\n"
     ]
    },
    {
     "name": "stderr",
     "output_type": "stream",
     "text": [
      "/Users/nplattner/miniconda3/envs/AutoSearch/lib/python3.7/site-packages/urllib3/connectionpool.py:847: InsecureRequestWarning: Unverified HTTPS request is being made. Adding certificate verification is strongly advised. See: https://urllib3.readthedocs.io/en/latest/advanced-usage.html#ssl-warnings\n",
      "  InsecureRequestWarning)\n"
     ]
    },
    {
     "name": "stdout",
     "output_type": "stream",
     "text": [
      "18 https://digital.tessmann.it/mediaArchive/media/image/Page/BZZ/1845/09_05_1845/BZZ_1845_05_09_4_object_459310.png?auth=70ee0404514d842e00c5679cc9a34dd7\n"
     ]
    },
    {
     "name": "stderr",
     "output_type": "stream",
     "text": [
      "/Users/nplattner/miniconda3/envs/AutoSearch/lib/python3.7/site-packages/urllib3/connectionpool.py:847: InsecureRequestWarning: Unverified HTTPS request is being made. Adding certificate verification is strongly advised. See: https://urllib3.readthedocs.io/en/latest/advanced-usage.html#ssl-warnings\n",
      "  InsecureRequestWarning)\n"
     ]
    },
    {
     "name": "stdout",
     "output_type": "stream",
     "text": [
      "18 https://digital.tessmann.it/mediaArchive/media/image/Page/BZZ/1845/09_05_1845/BZZ_1845_05_09_5_object_459312.png?auth=3838554d721cb364084acad28a4c3d55\n"
     ]
    },
    {
     "name": "stderr",
     "output_type": "stream",
     "text": [
      "/Users/nplattner/miniconda3/envs/AutoSearch/lib/python3.7/site-packages/urllib3/connectionpool.py:847: InsecureRequestWarning: Unverified HTTPS request is being made. Adding certificate verification is strongly advised. See: https://urllib3.readthedocs.io/en/latest/advanced-usage.html#ssl-warnings\n",
      "  InsecureRequestWarning)\n"
     ]
    },
    {
     "name": "stdout",
     "output_type": "stream",
     "text": [
      "18 https://digital.tessmann.it/mediaArchive/media/image/Page/BZZ/1845/09_05_1845/BZZ_1845_05_09_6_object_459315.png?auth=9ea4533b38a6d0fede4a8b34be53203c\n"
     ]
    },
    {
     "name": "stderr",
     "output_type": "stream",
     "text": [
      "/Users/nplattner/miniconda3/envs/AutoSearch/lib/python3.7/site-packages/urllib3/connectionpool.py:847: InsecureRequestWarning: Unverified HTTPS request is being made. Adding certificate verification is strongly advised. See: https://urllib3.readthedocs.io/en/latest/advanced-usage.html#ssl-warnings\n",
      "  InsecureRequestWarning)\n"
     ]
    },
    {
     "name": "stdout",
     "output_type": "stream",
     "text": [
      "18 https://digital.tessmann.it/mediaArchive/media/image/Page/BZZ/1845/09_05_1845/BZZ_1845_05_09_7_object_459317.png?auth=150ef6e2a4851e3c96af4dcaa0e3d705\n"
     ]
    },
    {
     "name": "stderr",
     "output_type": "stream",
     "text": [
      "/Users/nplattner/miniconda3/envs/AutoSearch/lib/python3.7/site-packages/urllib3/connectionpool.py:847: InsecureRequestWarning: Unverified HTTPS request is being made. Adding certificate verification is strongly advised. See: https://urllib3.readthedocs.io/en/latest/advanced-usage.html#ssl-warnings\n",
      "  InsecureRequestWarning)\n"
     ]
    },
    {
     "name": "stdout",
     "output_type": "stream",
     "text": [
      "18 https://digital.tessmann.it/mediaArchive/media/image/Page/BZZ/1845/09_05_1845/BZZ_1845_05_09_8_object_459319.png?auth=93a7ee36a70c31fd0c4b8eebf51dea52\n"
     ]
    },
    {
     "name": "stderr",
     "output_type": "stream",
     "text": [
      "/Users/nplattner/miniconda3/envs/AutoSearch/lib/python3.7/site-packages/urllib3/connectionpool.py:847: InsecureRequestWarning: Unverified HTTPS request is being made. Adding certificate verification is strongly advised. See: https://urllib3.readthedocs.io/en/latest/advanced-usage.html#ssl-warnings\n",
      "  InsecureRequestWarning)\n"
     ]
    },
    {
     "name": "stdout",
     "output_type": "stream",
     "text": [
      "18 https://digital.tessmann.it/mediaArchive/media/image/Page/BZZ/1845/09_05_1845/BZZ_1845_05_09_9_object_459322.png?auth=49fa9d2187916e44927402e165139cb0\n"
     ]
    },
    {
     "name": "stderr",
     "output_type": "stream",
     "text": [
      "/Users/nplattner/miniconda3/envs/AutoSearch/lib/python3.7/site-packages/urllib3/connectionpool.py:847: InsecureRequestWarning: Unverified HTTPS request is being made. Adding certificate verification is strongly advised. See: https://urllib3.readthedocs.io/en/latest/advanced-usage.html#ssl-warnings\n",
      "  InsecureRequestWarning)\n"
     ]
    },
    {
     "name": "stdout",
     "output_type": "stream",
     "text": [
      "18 https://digital.tessmann.it/mediaArchive/media/image/Page/BZZ/1845/09_05_1845/BZZ_1845_05_09_10_object_459324.png?auth=d0a6fdda6481f7bd8302b9cc2d7662aa\n"
     ]
    },
    {
     "name": "stderr",
     "output_type": "stream",
     "text": [
      "/Users/nplattner/miniconda3/envs/AutoSearch/lib/python3.7/site-packages/urllib3/connectionpool.py:847: InsecureRequestWarning: Unverified HTTPS request is being made. Adding certificate verification is strongly advised. See: https://urllib3.readthedocs.io/en/latest/advanced-usage.html#ssl-warnings\n",
      "  InsecureRequestWarning)\n"
     ]
    },
    {
     "name": "stdout",
     "output_type": "stream",
     "text": [
      "19 https://digital.tessmann.it/mediaArchive/media/image/Page/BZZ/1845/16_05_1845/BZZ_1845_05_16_1_object_459326.png?auth=de7176d29b4cf3754fe89b3dc6bd15c8\n"
     ]
    },
    {
     "name": "stderr",
     "output_type": "stream",
     "text": [
      "/Users/nplattner/miniconda3/envs/AutoSearch/lib/python3.7/site-packages/urllib3/connectionpool.py:847: InsecureRequestWarning: Unverified HTTPS request is being made. Adding certificate verification is strongly advised. See: https://urllib3.readthedocs.io/en/latest/advanced-usage.html#ssl-warnings\n",
      "  InsecureRequestWarning)\n"
     ]
    },
    {
     "name": "stdout",
     "output_type": "stream",
     "text": [
      "19 https://digital.tessmann.it/mediaArchive/media/image/Page/BZZ/1845/16_05_1845/BZZ_1845_05_16_2_object_459328.png?auth=15bcf6b267eae610e09465650d4dfb91\n"
     ]
    },
    {
     "name": "stderr",
     "output_type": "stream",
     "text": [
      "/Users/nplattner/miniconda3/envs/AutoSearch/lib/python3.7/site-packages/urllib3/connectionpool.py:847: InsecureRequestWarning: Unverified HTTPS request is being made. Adding certificate verification is strongly advised. See: https://urllib3.readthedocs.io/en/latest/advanced-usage.html#ssl-warnings\n",
      "  InsecureRequestWarning)\n"
     ]
    },
    {
     "name": "stdout",
     "output_type": "stream",
     "text": [
      "19 https://digital.tessmann.it/mediaArchive/media/image/Page/BZZ/1845/16_05_1845/BZZ_1845_05_16_3_object_459331.png?auth=3998d85879d3d09effec60d913f2d515\n"
     ]
    },
    {
     "name": "stderr",
     "output_type": "stream",
     "text": [
      "/Users/nplattner/miniconda3/envs/AutoSearch/lib/python3.7/site-packages/urllib3/connectionpool.py:847: InsecureRequestWarning: Unverified HTTPS request is being made. Adding certificate verification is strongly advised. See: https://urllib3.readthedocs.io/en/latest/advanced-usage.html#ssl-warnings\n",
      "  InsecureRequestWarning)\n"
     ]
    },
    {
     "name": "stdout",
     "output_type": "stream",
     "text": [
      "19 https://digital.tessmann.it/mediaArchive/media/image/Page/BZZ/1845/16_05_1845/BZZ_1845_05_16_4_object_459333.png?auth=c71bff28bbfcd2c15676dcc9e56f001a\n"
     ]
    },
    {
     "name": "stderr",
     "output_type": "stream",
     "text": [
      "/Users/nplattner/miniconda3/envs/AutoSearch/lib/python3.7/site-packages/urllib3/connectionpool.py:847: InsecureRequestWarning: Unverified HTTPS request is being made. Adding certificate verification is strongly advised. See: https://urllib3.readthedocs.io/en/latest/advanced-usage.html#ssl-warnings\n",
      "  InsecureRequestWarning)\n"
     ]
    },
    {
     "name": "stdout",
     "output_type": "stream",
     "text": [
      "19 https://digital.tessmann.it/mediaArchive/media/image/Page/BZZ/1845/16_05_1845/BZZ_1845_05_16_5_object_459335.png?auth=2ad80648523fc4720174bdc38ac7799e\n"
     ]
    },
    {
     "name": "stderr",
     "output_type": "stream",
     "text": [
      "/Users/nplattner/miniconda3/envs/AutoSearch/lib/python3.7/site-packages/urllib3/connectionpool.py:847: InsecureRequestWarning: Unverified HTTPS request is being made. Adding certificate verification is strongly advised. See: https://urllib3.readthedocs.io/en/latest/advanced-usage.html#ssl-warnings\n",
      "  InsecureRequestWarning)\n"
     ]
    },
    {
     "name": "stdout",
     "output_type": "stream",
     "text": [
      "19 https://digital.tessmann.it/mediaArchive/media/image/Page/BZZ/1845/16_05_1845/BZZ_1845_05_16_6_object_459338.png?auth=b8117fe7d1031a6adfc4dd20144d8202\n"
     ]
    },
    {
     "name": "stderr",
     "output_type": "stream",
     "text": [
      "/Users/nplattner/miniconda3/envs/AutoSearch/lib/python3.7/site-packages/urllib3/connectionpool.py:847: InsecureRequestWarning: Unverified HTTPS request is being made. Adding certificate verification is strongly advised. See: https://urllib3.readthedocs.io/en/latest/advanced-usage.html#ssl-warnings\n",
      "  InsecureRequestWarning)\n"
     ]
    },
    {
     "name": "stdout",
     "output_type": "stream",
     "text": [
      "19 https://digital.tessmann.it/mediaArchive/media/image/Page/BZZ/1845/16_05_1845/BZZ_1845_05_16_7_object_459340.png?auth=bec4eeb7b62dc3bf462712ad9afbb061\n"
     ]
    },
    {
     "name": "stderr",
     "output_type": "stream",
     "text": [
      "/Users/nplattner/miniconda3/envs/AutoSearch/lib/python3.7/site-packages/urllib3/connectionpool.py:847: InsecureRequestWarning: Unverified HTTPS request is being made. Adding certificate verification is strongly advised. See: https://urllib3.readthedocs.io/en/latest/advanced-usage.html#ssl-warnings\n",
      "  InsecureRequestWarning)\n"
     ]
    },
    {
     "name": "stdout",
     "output_type": "stream",
     "text": [
      "19 https://digital.tessmann.it/mediaArchive/media/image/Page/BZZ/1845/16_05_1845/BZZ_1845_05_16_8_object_459342.png?auth=b584591bdbc1d59b06f3d163c388eb20\n"
     ]
    },
    {
     "name": "stderr",
     "output_type": "stream",
     "text": [
      "/Users/nplattner/miniconda3/envs/AutoSearch/lib/python3.7/site-packages/urllib3/connectionpool.py:847: InsecureRequestWarning: Unverified HTTPS request is being made. Adding certificate verification is strongly advised. See: https://urllib3.readthedocs.io/en/latest/advanced-usage.html#ssl-warnings\n",
      "  InsecureRequestWarning)\n"
     ]
    },
    {
     "name": "stdout",
     "output_type": "stream",
     "text": [
      "20 https://digital.tessmann.it/mediaArchive/media/image/Page/BZZ/1845/23_05_1845/BZZ_1845_05_23_1_object_459345.png?auth=0334cb729f7d5c3cc032ed7548245000\n"
     ]
    },
    {
     "name": "stderr",
     "output_type": "stream",
     "text": [
      "/Users/nplattner/miniconda3/envs/AutoSearch/lib/python3.7/site-packages/urllib3/connectionpool.py:847: InsecureRequestWarning: Unverified HTTPS request is being made. Adding certificate verification is strongly advised. See: https://urllib3.readthedocs.io/en/latest/advanced-usage.html#ssl-warnings\n",
      "  InsecureRequestWarning)\n"
     ]
    },
    {
     "name": "stdout",
     "output_type": "stream",
     "text": [
      "20 https://digital.tessmann.it/mediaArchive/media/image/Page/BZZ/1845/23_05_1845/BZZ_1845_05_23_2_object_459347.png?auth=c23c44b8866f38051b9ee4cfc2b61ade\n"
     ]
    },
    {
     "name": "stderr",
     "output_type": "stream",
     "text": [
      "/Users/nplattner/miniconda3/envs/AutoSearch/lib/python3.7/site-packages/urllib3/connectionpool.py:847: InsecureRequestWarning: Unverified HTTPS request is being made. Adding certificate verification is strongly advised. See: https://urllib3.readthedocs.io/en/latest/advanced-usage.html#ssl-warnings\n",
      "  InsecureRequestWarning)\n"
     ]
    },
    {
     "name": "stdout",
     "output_type": "stream",
     "text": [
      "20 https://digital.tessmann.it/mediaArchive/media/image/Page/BZZ/1845/23_05_1845/BZZ_1845_05_23_3_object_458926.png?auth=a9b5b5a0d5c6ed1cae794c4342e0482a\n"
     ]
    },
    {
     "name": "stderr",
     "output_type": "stream",
     "text": [
      "/Users/nplattner/miniconda3/envs/AutoSearch/lib/python3.7/site-packages/urllib3/connectionpool.py:847: InsecureRequestWarning: Unverified HTTPS request is being made. Adding certificate verification is strongly advised. See: https://urllib3.readthedocs.io/en/latest/advanced-usage.html#ssl-warnings\n",
      "  InsecureRequestWarning)\n"
     ]
    },
    {
     "name": "stdout",
     "output_type": "stream",
     "text": [
      "20 https://digital.tessmann.it/mediaArchive/media/image/Page/BZZ/1845/23_05_1845/BZZ_1845_05_23_4_object_458928.png?auth=6dcc127b533a9c585165ff98cede38e0\n"
     ]
    },
    {
     "name": "stderr",
     "output_type": "stream",
     "text": [
      "/Users/nplattner/miniconda3/envs/AutoSearch/lib/python3.7/site-packages/urllib3/connectionpool.py:847: InsecureRequestWarning: Unverified HTTPS request is being made. Adding certificate verification is strongly advised. See: https://urllib3.readthedocs.io/en/latest/advanced-usage.html#ssl-warnings\n",
      "  InsecureRequestWarning)\n"
     ]
    },
    {
     "name": "stdout",
     "output_type": "stream",
     "text": [
      "20 https://digital.tessmann.it/mediaArchive/media/image/Page/BZZ/1845/23_05_1845/BZZ_1845_05_23_5_object_458931.png?auth=4d0d57d3c7ec093ebe9dc8cc2b0392e5\n"
     ]
    },
    {
     "name": "stderr",
     "output_type": "stream",
     "text": [
      "/Users/nplattner/miniconda3/envs/AutoSearch/lib/python3.7/site-packages/urllib3/connectionpool.py:847: InsecureRequestWarning: Unverified HTTPS request is being made. Adding certificate verification is strongly advised. See: https://urllib3.readthedocs.io/en/latest/advanced-usage.html#ssl-warnings\n",
      "  InsecureRequestWarning)\n"
     ]
    },
    {
     "name": "stdout",
     "output_type": "stream",
     "text": [
      "20 https://digital.tessmann.it/mediaArchive/media/image/Page/BZZ/1845/23_05_1845/BZZ_1845_05_23_6_object_458934.png?auth=16e7ace094f04bc395bf121303968c9f\n"
     ]
    },
    {
     "name": "stderr",
     "output_type": "stream",
     "text": [
      "/Users/nplattner/miniconda3/envs/AutoSearch/lib/python3.7/site-packages/urllib3/connectionpool.py:847: InsecureRequestWarning: Unverified HTTPS request is being made. Adding certificate verification is strongly advised. See: https://urllib3.readthedocs.io/en/latest/advanced-usage.html#ssl-warnings\n",
      "  InsecureRequestWarning)\n"
     ]
    },
    {
     "name": "stdout",
     "output_type": "stream",
     "text": [
      "20 https://digital.tessmann.it/mediaArchive/media/image/Page/BZZ/1845/23_05_1845/BZZ_1845_05_23_7_object_458936.png?auth=794141cd4b444b5eb90d9cd70fb66d5e\n"
     ]
    },
    {
     "name": "stderr",
     "output_type": "stream",
     "text": [
      "/Users/nplattner/miniconda3/envs/AutoSearch/lib/python3.7/site-packages/urllib3/connectionpool.py:847: InsecureRequestWarning: Unverified HTTPS request is being made. Adding certificate verification is strongly advised. See: https://urllib3.readthedocs.io/en/latest/advanced-usage.html#ssl-warnings\n",
      "  InsecureRequestWarning)\n"
     ]
    },
    {
     "name": "stdout",
     "output_type": "stream",
     "text": [
      "20 https://digital.tessmann.it/mediaArchive/media/image/Page/BZZ/1845/23_05_1845/BZZ_1845_05_23_8_object_458938.png?auth=c80f23eb07333e29f41024a19732bf90\n"
     ]
    },
    {
     "name": "stderr",
     "output_type": "stream",
     "text": [
      "/Users/nplattner/miniconda3/envs/AutoSearch/lib/python3.7/site-packages/urllib3/connectionpool.py:847: InsecureRequestWarning: Unverified HTTPS request is being made. Adding certificate verification is strongly advised. See: https://urllib3.readthedocs.io/en/latest/advanced-usage.html#ssl-warnings\n",
      "  InsecureRequestWarning)\n"
     ]
    },
    {
     "name": "stdout",
     "output_type": "stream",
     "text": [
      "20 https://digital.tessmann.it/mediaArchive/media/image/Page/BZZ/1845/23_05_1845/BZZ_1845_05_23_9_object_458941.png?auth=0f66e2af742354160de8e8bb21b65b89\n"
     ]
    },
    {
     "name": "stderr",
     "output_type": "stream",
     "text": [
      "/Users/nplattner/miniconda3/envs/AutoSearch/lib/python3.7/site-packages/urllib3/connectionpool.py:847: InsecureRequestWarning: Unverified HTTPS request is being made. Adding certificate verification is strongly advised. See: https://urllib3.readthedocs.io/en/latest/advanced-usage.html#ssl-warnings\n",
      "  InsecureRequestWarning)\n"
     ]
    },
    {
     "name": "stdout",
     "output_type": "stream",
     "text": [
      "20 https://digital.tessmann.it/mediaArchive/media/image/Page/BZZ/1845/23_05_1845/BZZ_1845_05_23_10_object_458943.png?auth=db763814b69f26dcade32db555b3db38\n"
     ]
    },
    {
     "name": "stderr",
     "output_type": "stream",
     "text": [
      "/Users/nplattner/miniconda3/envs/AutoSearch/lib/python3.7/site-packages/urllib3/connectionpool.py:847: InsecureRequestWarning: Unverified HTTPS request is being made. Adding certificate verification is strongly advised. See: https://urllib3.readthedocs.io/en/latest/advanced-usage.html#ssl-warnings\n",
      "  InsecureRequestWarning)\n"
     ]
    },
    {
     "name": "stdout",
     "output_type": "stream",
     "text": [
      "20 https://digital.tessmann.it/mediaArchive/media/image/Page/BZZ/1845/23_05_1845/BZZ_1845_05_23_11_object_458945.png?auth=0a6b587a7f9ea2fe1d7dcb6d839979dc\n"
     ]
    },
    {
     "name": "stderr",
     "output_type": "stream",
     "text": [
      "/Users/nplattner/miniconda3/envs/AutoSearch/lib/python3.7/site-packages/urllib3/connectionpool.py:847: InsecureRequestWarning: Unverified HTTPS request is being made. Adding certificate verification is strongly advised. See: https://urllib3.readthedocs.io/en/latest/advanced-usage.html#ssl-warnings\n",
      "  InsecureRequestWarning)\n"
     ]
    },
    {
     "name": "stdout",
     "output_type": "stream",
     "text": [
      "21 https://digital.tessmann.it/mediaArchive/media/image/Page/BZZ/1845/30_05_1845/BZZ_1845_05_30_1_object_458950.png?auth=919503d0797dfeb5dfb33b2f25dcbaee\n"
     ]
    },
    {
     "name": "stderr",
     "output_type": "stream",
     "text": [
      "/Users/nplattner/miniconda3/envs/AutoSearch/lib/python3.7/site-packages/urllib3/connectionpool.py:847: InsecureRequestWarning: Unverified HTTPS request is being made. Adding certificate verification is strongly advised. See: https://urllib3.readthedocs.io/en/latest/advanced-usage.html#ssl-warnings\n",
      "  InsecureRequestWarning)\n"
     ]
    },
    {
     "name": "stdout",
     "output_type": "stream",
     "text": [
      "21 https://digital.tessmann.it/mediaArchive/media/image/Page/BZZ/1845/30_05_1845/BZZ_1845_05_30_2_object_458953.png?auth=9c19f2aafb3a60edb3d90ab2845bbb9f\n"
     ]
    },
    {
     "name": "stderr",
     "output_type": "stream",
     "text": [
      "/Users/nplattner/miniconda3/envs/AutoSearch/lib/python3.7/site-packages/urllib3/connectionpool.py:847: InsecureRequestWarning: Unverified HTTPS request is being made. Adding certificate verification is strongly advised. See: https://urllib3.readthedocs.io/en/latest/advanced-usage.html#ssl-warnings\n",
      "  InsecureRequestWarning)\n"
     ]
    },
    {
     "name": "stdout",
     "output_type": "stream",
     "text": [
      "21 https://digital.tessmann.it/mediaArchive/media/image/Page/BZZ/1845/30_05_1845/BZZ_1845_05_30_3_object_458954.png?auth=a8ddef5e991602e19f778c5a5624b1d1\n"
     ]
    },
    {
     "name": "stderr",
     "output_type": "stream",
     "text": [
      "/Users/nplattner/miniconda3/envs/AutoSearch/lib/python3.7/site-packages/urllib3/connectionpool.py:847: InsecureRequestWarning: Unverified HTTPS request is being made. Adding certificate verification is strongly advised. See: https://urllib3.readthedocs.io/en/latest/advanced-usage.html#ssl-warnings\n",
      "  InsecureRequestWarning)\n"
     ]
    },
    {
     "name": "stdout",
     "output_type": "stream",
     "text": [
      "21 https://digital.tessmann.it/mediaArchive/media/image/Page/BZZ/1845/30_05_1845/BZZ_1845_05_30_4_object_458957.png?auth=8590de080485d54445766707891cea30\n"
     ]
    },
    {
     "name": "stderr",
     "output_type": "stream",
     "text": [
      "/Users/nplattner/miniconda3/envs/AutoSearch/lib/python3.7/site-packages/urllib3/connectionpool.py:847: InsecureRequestWarning: Unverified HTTPS request is being made. Adding certificate verification is strongly advised. See: https://urllib3.readthedocs.io/en/latest/advanced-usage.html#ssl-warnings\n",
      "  InsecureRequestWarning)\n"
     ]
    },
    {
     "name": "stdout",
     "output_type": "stream",
     "text": [
      "21 https://digital.tessmann.it/mediaArchive/media/image/Page/BZZ/1845/30_05_1845/BZZ_1845_05_30_5_object_458960.png?auth=7cecb84c388733d1b3d29f314dcfe71a\n"
     ]
    },
    {
     "name": "stderr",
     "output_type": "stream",
     "text": [
      "/Users/nplattner/miniconda3/envs/AutoSearch/lib/python3.7/site-packages/urllib3/connectionpool.py:847: InsecureRequestWarning: Unverified HTTPS request is being made. Adding certificate verification is strongly advised. See: https://urllib3.readthedocs.io/en/latest/advanced-usage.html#ssl-warnings\n",
      "  InsecureRequestWarning)\n"
     ]
    },
    {
     "name": "stdout",
     "output_type": "stream",
     "text": [
      "21 https://digital.tessmann.it/mediaArchive/media/image/Page/BZZ/1845/30_05_1845/BZZ_1845_05_30_6_object_458961.png?auth=fded4a1e8dd760773554dc6eebbdec12\n"
     ]
    },
    {
     "name": "stderr",
     "output_type": "stream",
     "text": [
      "/Users/nplattner/miniconda3/envs/AutoSearch/lib/python3.7/site-packages/urllib3/connectionpool.py:847: InsecureRequestWarning: Unverified HTTPS request is being made. Adding certificate verification is strongly advised. See: https://urllib3.readthedocs.io/en/latest/advanced-usage.html#ssl-warnings\n",
      "  InsecureRequestWarning)\n"
     ]
    },
    {
     "name": "stdout",
     "output_type": "stream",
     "text": [
      "22 https://digital.tessmann.it/mediaArchive/media/image/Page/BZZ/1845/06_06_1845/BZZ_1845_06_06_1_object_458964.png?auth=3032d2cff99eb4093a6660528fbb7d45\n"
     ]
    },
    {
     "name": "stderr",
     "output_type": "stream",
     "text": [
      "/Users/nplattner/miniconda3/envs/AutoSearch/lib/python3.7/site-packages/urllib3/connectionpool.py:847: InsecureRequestWarning: Unverified HTTPS request is being made. Adding certificate verification is strongly advised. See: https://urllib3.readthedocs.io/en/latest/advanced-usage.html#ssl-warnings\n",
      "  InsecureRequestWarning)\n"
     ]
    },
    {
     "name": "stdout",
     "output_type": "stream",
     "text": [
      "22 https://digital.tessmann.it/mediaArchive/media/image/Page/BZZ/1845/06_06_1845/BZZ_1845_06_06_2_object_458967.png?auth=d81c3d0d1a85c2034d58658187efe489\n"
     ]
    },
    {
     "name": "stderr",
     "output_type": "stream",
     "text": [
      "/Users/nplattner/miniconda3/envs/AutoSearch/lib/python3.7/site-packages/urllib3/connectionpool.py:847: InsecureRequestWarning: Unverified HTTPS request is being made. Adding certificate verification is strongly advised. See: https://urllib3.readthedocs.io/en/latest/advanced-usage.html#ssl-warnings\n",
      "  InsecureRequestWarning)\n"
     ]
    },
    {
     "name": "stdout",
     "output_type": "stream",
     "text": [
      "22 https://digital.tessmann.it/mediaArchive/media/image/Page/BZZ/1845/06_06_1845/BZZ_1845_06_06_3_object_458969.png?auth=462d4665e6596158586e1482b3e08bf8\n"
     ]
    },
    {
     "name": "stderr",
     "output_type": "stream",
     "text": [
      "/Users/nplattner/miniconda3/envs/AutoSearch/lib/python3.7/site-packages/urllib3/connectionpool.py:847: InsecureRequestWarning: Unverified HTTPS request is being made. Adding certificate verification is strongly advised. See: https://urllib3.readthedocs.io/en/latest/advanced-usage.html#ssl-warnings\n",
      "  InsecureRequestWarning)\n"
     ]
    },
    {
     "name": "stdout",
     "output_type": "stream",
     "text": [
      "22 https://digital.tessmann.it/mediaArchive/media/image/Page/BZZ/1845/06_06_1845/BZZ_1845_06_06_4_object_458971.png?auth=25496d436286b2636b741309944b24a7\n"
     ]
    },
    {
     "name": "stderr",
     "output_type": "stream",
     "text": [
      "/Users/nplattner/miniconda3/envs/AutoSearch/lib/python3.7/site-packages/urllib3/connectionpool.py:847: InsecureRequestWarning: Unverified HTTPS request is being made. Adding certificate verification is strongly advised. See: https://urllib3.readthedocs.io/en/latest/advanced-usage.html#ssl-warnings\n",
      "  InsecureRequestWarning)\n"
     ]
    },
    {
     "name": "stdout",
     "output_type": "stream",
     "text": [
      "22 https://digital.tessmann.it/mediaArchive/media/image/Page/BZZ/1845/06_06_1845/BZZ_1845_06_06_5_object_458974.png?auth=f758bfebb60b400235de4d7a55045c63\n"
     ]
    },
    {
     "name": "stderr",
     "output_type": "stream",
     "text": [
      "/Users/nplattner/miniconda3/envs/AutoSearch/lib/python3.7/site-packages/urllib3/connectionpool.py:847: InsecureRequestWarning: Unverified HTTPS request is being made. Adding certificate verification is strongly advised. See: https://urllib3.readthedocs.io/en/latest/advanced-usage.html#ssl-warnings\n",
      "  InsecureRequestWarning)\n"
     ]
    },
    {
     "name": "stdout",
     "output_type": "stream",
     "text": [
      "22 https://digital.tessmann.it/mediaArchive/media/image/Page/BZZ/1845/06_06_1845/BZZ_1845_06_06_6_object_458976.png?auth=67ce4d967ead0868a73134f15f514e30\n"
     ]
    },
    {
     "name": "stderr",
     "output_type": "stream",
     "text": [
      "/Users/nplattner/miniconda3/envs/AutoSearch/lib/python3.7/site-packages/urllib3/connectionpool.py:847: InsecureRequestWarning: Unverified HTTPS request is being made. Adding certificate verification is strongly advised. See: https://urllib3.readthedocs.io/en/latest/advanced-usage.html#ssl-warnings\n",
      "  InsecureRequestWarning)\n"
     ]
    },
    {
     "name": "stdout",
     "output_type": "stream",
     "text": [
      "23 https://digital.tessmann.it/mediaArchive/media/image/Page/BZZ/1845/13_06_1845/BZZ_1845_06_13_1_object_458978.png?auth=f30d4799fa9535c9b36f2572751eff4e\n"
     ]
    },
    {
     "name": "stderr",
     "output_type": "stream",
     "text": [
      "/Users/nplattner/miniconda3/envs/AutoSearch/lib/python3.7/site-packages/urllib3/connectionpool.py:847: InsecureRequestWarning: Unverified HTTPS request is being made. Adding certificate verification is strongly advised. See: https://urllib3.readthedocs.io/en/latest/advanced-usage.html#ssl-warnings\n",
      "  InsecureRequestWarning)\n"
     ]
    },
    {
     "name": "stdout",
     "output_type": "stream",
     "text": [
      "23 https://digital.tessmann.it/mediaArchive/media/image/Page/BZZ/1845/13_06_1845/BZZ_1845_06_13_2_object_458981.png?auth=ea0f62a0feb3ad9aaab05eeb4f87d0b4\n"
     ]
    },
    {
     "name": "stderr",
     "output_type": "stream",
     "text": [
      "/Users/nplattner/miniconda3/envs/AutoSearch/lib/python3.7/site-packages/urllib3/connectionpool.py:847: InsecureRequestWarning: Unverified HTTPS request is being made. Adding certificate verification is strongly advised. See: https://urllib3.readthedocs.io/en/latest/advanced-usage.html#ssl-warnings\n",
      "  InsecureRequestWarning)\n"
     ]
    },
    {
     "name": "stdout",
     "output_type": "stream",
     "text": [
      "23 https://digital.tessmann.it/mediaArchive/media/image/Page/BZZ/1845/13_06_1845/BZZ_1845_06_13_3_object_458983.png?auth=eeed902b19deaab095a349597feb5f0d\n"
     ]
    },
    {
     "name": "stderr",
     "output_type": "stream",
     "text": [
      "/Users/nplattner/miniconda3/envs/AutoSearch/lib/python3.7/site-packages/urllib3/connectionpool.py:847: InsecureRequestWarning: Unverified HTTPS request is being made. Adding certificate verification is strongly advised. See: https://urllib3.readthedocs.io/en/latest/advanced-usage.html#ssl-warnings\n",
      "  InsecureRequestWarning)\n"
     ]
    },
    {
     "name": "stdout",
     "output_type": "stream",
     "text": [
      "23 https://digital.tessmann.it/mediaArchive/media/image/Page/BZZ/1845/13_06_1845/BZZ_1845_06_13_4_object_458986.png?auth=b84bf14c35efef08ca8b1dc8db8a3773\n"
     ]
    },
    {
     "name": "stderr",
     "output_type": "stream",
     "text": [
      "/Users/nplattner/miniconda3/envs/AutoSearch/lib/python3.7/site-packages/urllib3/connectionpool.py:847: InsecureRequestWarning: Unverified HTTPS request is being made. Adding certificate verification is strongly advised. See: https://urllib3.readthedocs.io/en/latest/advanced-usage.html#ssl-warnings\n",
      "  InsecureRequestWarning)\n"
     ]
    },
    {
     "name": "stdout",
     "output_type": "stream",
     "text": [
      "23 https://digital.tessmann.it/mediaArchive/media/image/Page/BZZ/1845/13_06_1845/BZZ_1845_06_13_5_object_458988.png?auth=16f18aee8ce2e9daac6fd393e06e68bd\n"
     ]
    },
    {
     "name": "stderr",
     "output_type": "stream",
     "text": [
      "/Users/nplattner/miniconda3/envs/AutoSearch/lib/python3.7/site-packages/urllib3/connectionpool.py:847: InsecureRequestWarning: Unverified HTTPS request is being made. Adding certificate verification is strongly advised. See: https://urllib3.readthedocs.io/en/latest/advanced-usage.html#ssl-warnings\n",
      "  InsecureRequestWarning)\n"
     ]
    },
    {
     "name": "stdout",
     "output_type": "stream",
     "text": [
      "23 https://digital.tessmann.it/mediaArchive/media/image/Page/BZZ/1845/13_06_1845/BZZ_1845_06_13_6_object_458990.png?auth=1539c572a8926d91a5ae8c650ef89660\n"
     ]
    },
    {
     "name": "stderr",
     "output_type": "stream",
     "text": [
      "/Users/nplattner/miniconda3/envs/AutoSearch/lib/python3.7/site-packages/urllib3/connectionpool.py:847: InsecureRequestWarning: Unverified HTTPS request is being made. Adding certificate verification is strongly advised. See: https://urllib3.readthedocs.io/en/latest/advanced-usage.html#ssl-warnings\n",
      "  InsecureRequestWarning)\n"
     ]
    },
    {
     "name": "stdout",
     "output_type": "stream",
     "text": [
      "24 https://digital.tessmann.it/mediaArchive/media/image/Page/BZZ/1845/20_06_1845/BZZ_1845_06_20_1_object_458993.png?auth=46cc8d3a90e80fa016d60175207cce83\n"
     ]
    },
    {
     "name": "stderr",
     "output_type": "stream",
     "text": [
      "/Users/nplattner/miniconda3/envs/AutoSearch/lib/python3.7/site-packages/urllib3/connectionpool.py:847: InsecureRequestWarning: Unverified HTTPS request is being made. Adding certificate verification is strongly advised. See: https://urllib3.readthedocs.io/en/latest/advanced-usage.html#ssl-warnings\n",
      "  InsecureRequestWarning)\n"
     ]
    },
    {
     "name": "stdout",
     "output_type": "stream",
     "text": [
      "24 https://digital.tessmann.it/mediaArchive/media/image/Page/BZZ/1845/20_06_1845/BZZ_1845_06_20_2_object_458995.png?auth=e918c53055176339566d890cd248a3f6\n"
     ]
    },
    {
     "name": "stderr",
     "output_type": "stream",
     "text": [
      "/Users/nplattner/miniconda3/envs/AutoSearch/lib/python3.7/site-packages/urllib3/connectionpool.py:847: InsecureRequestWarning: Unverified HTTPS request is being made. Adding certificate verification is strongly advised. See: https://urllib3.readthedocs.io/en/latest/advanced-usage.html#ssl-warnings\n",
      "  InsecureRequestWarning)\n"
     ]
    },
    {
     "name": "stdout",
     "output_type": "stream",
     "text": [
      "24 https://digital.tessmann.it/mediaArchive/media/image/Page/BZZ/1845/20_06_1845/BZZ_1845_06_20_3_object_458997.png?auth=0c524a8c887e43d433cd0976b568b9db\n"
     ]
    },
    {
     "name": "stderr",
     "output_type": "stream",
     "text": [
      "/Users/nplattner/miniconda3/envs/AutoSearch/lib/python3.7/site-packages/urllib3/connectionpool.py:847: InsecureRequestWarning: Unverified HTTPS request is being made. Adding certificate verification is strongly advised. See: https://urllib3.readthedocs.io/en/latest/advanced-usage.html#ssl-warnings\n",
      "  InsecureRequestWarning)\n"
     ]
    },
    {
     "name": "stdout",
     "output_type": "stream",
     "text": [
      "24 https://digital.tessmann.it/mediaArchive/media/image/Page/BZZ/1845/20_06_1845/BZZ_1845_06_20_4_object_459000.png?auth=ab36677dbd14873ffefb60f509399b64\n"
     ]
    },
    {
     "name": "stderr",
     "output_type": "stream",
     "text": [
      "/Users/nplattner/miniconda3/envs/AutoSearch/lib/python3.7/site-packages/urllib3/connectionpool.py:847: InsecureRequestWarning: Unverified HTTPS request is being made. Adding certificate verification is strongly advised. See: https://urllib3.readthedocs.io/en/latest/advanced-usage.html#ssl-warnings\n",
      "  InsecureRequestWarning)\n"
     ]
    },
    {
     "name": "stdout",
     "output_type": "stream",
     "text": [
      "24 https://digital.tessmann.it/mediaArchive/media/image/Page/BZZ/1845/20_06_1845/BZZ_1845_06_20_5_object_459003.png?auth=7dd78221aaf997feee13752d6dc8c249\n"
     ]
    },
    {
     "name": "stderr",
     "output_type": "stream",
     "text": [
      "/Users/nplattner/miniconda3/envs/AutoSearch/lib/python3.7/site-packages/urllib3/connectionpool.py:847: InsecureRequestWarning: Unverified HTTPS request is being made. Adding certificate verification is strongly advised. See: https://urllib3.readthedocs.io/en/latest/advanced-usage.html#ssl-warnings\n",
      "  InsecureRequestWarning)\n"
     ]
    },
    {
     "name": "stdout",
     "output_type": "stream",
     "text": [
      "24 https://digital.tessmann.it/mediaArchive/media/image/Page/BZZ/1845/20_06_1845/BZZ_1845_06_20_6_object_459005.png?auth=df5b9c2424eebc15dcad03ea6ac49802\n"
     ]
    },
    {
     "name": "stderr",
     "output_type": "stream",
     "text": [
      "/Users/nplattner/miniconda3/envs/AutoSearch/lib/python3.7/site-packages/urllib3/connectionpool.py:847: InsecureRequestWarning: Unverified HTTPS request is being made. Adding certificate verification is strongly advised. See: https://urllib3.readthedocs.io/en/latest/advanced-usage.html#ssl-warnings\n",
      "  InsecureRequestWarning)\n"
     ]
    },
    {
     "name": "stdout",
     "output_type": "stream",
     "text": [
      "24 https://digital.tessmann.it/mediaArchive/media/image/Page/BZZ/1845/20_06_1845/BZZ_1845_06_20_7_object_459009.png?auth=dd33b0a3aa6321a382b8c1d2a3f9b97e\n"
     ]
    },
    {
     "name": "stderr",
     "output_type": "stream",
     "text": [
      "/Users/nplattner/miniconda3/envs/AutoSearch/lib/python3.7/site-packages/urllib3/connectionpool.py:847: InsecureRequestWarning: Unverified HTTPS request is being made. Adding certificate verification is strongly advised. See: https://urllib3.readthedocs.io/en/latest/advanced-usage.html#ssl-warnings\n",
      "  InsecureRequestWarning)\n"
     ]
    },
    {
     "name": "stdout",
     "output_type": "stream",
     "text": [
      "24 https://digital.tessmann.it/mediaArchive/media/image/Page/BZZ/1845/20_06_1845/BZZ_1845_06_20_8_object_459012.png?auth=838e53115f201b45a5bb6a65ce4e9f5c\n"
     ]
    },
    {
     "name": "stderr",
     "output_type": "stream",
     "text": [
      "/Users/nplattner/miniconda3/envs/AutoSearch/lib/python3.7/site-packages/urllib3/connectionpool.py:847: InsecureRequestWarning: Unverified HTTPS request is being made. Adding certificate verification is strongly advised. See: https://urllib3.readthedocs.io/en/latest/advanced-usage.html#ssl-warnings\n",
      "  InsecureRequestWarning)\n"
     ]
    },
    {
     "name": "stdout",
     "output_type": "stream",
     "text": [
      "25 https://digital.tessmann.it/mediaArchive/media/image/Page/BZZ/1845/27_06_1845/BZZ_1845_06_27_1_object_459014.png?auth=0436b72d72cefc6fb9b92f755dc715cd\n"
     ]
    },
    {
     "name": "stderr",
     "output_type": "stream",
     "text": [
      "/Users/nplattner/miniconda3/envs/AutoSearch/lib/python3.7/site-packages/urllib3/connectionpool.py:847: InsecureRequestWarning: Unverified HTTPS request is being made. Adding certificate verification is strongly advised. See: https://urllib3.readthedocs.io/en/latest/advanced-usage.html#ssl-warnings\n",
      "  InsecureRequestWarning)\n"
     ]
    },
    {
     "name": "stdout",
     "output_type": "stream",
     "text": [
      "25 https://digital.tessmann.it/mediaArchive/media/image/Page/BZZ/1845/27_06_1845/BZZ_1845_06_27_2_object_459018.png?auth=17c2cf6054b153fa75b68432f30d93f5\n"
     ]
    },
    {
     "name": "stderr",
     "output_type": "stream",
     "text": [
      "/Users/nplattner/miniconda3/envs/AutoSearch/lib/python3.7/site-packages/urllib3/connectionpool.py:847: InsecureRequestWarning: Unverified HTTPS request is being made. Adding certificate verification is strongly advised. See: https://urllib3.readthedocs.io/en/latest/advanced-usage.html#ssl-warnings\n",
      "  InsecureRequestWarning)\n"
     ]
    },
    {
     "name": "stdout",
     "output_type": "stream",
     "text": [
      "25 https://digital.tessmann.it/mediaArchive/media/image/Page/BZZ/1845/27_06_1845/BZZ_1845_06_27_3_object_459021.png?auth=f7e28cfbd5ab3c1ecf607fe50306c713\n"
     ]
    },
    {
     "name": "stderr",
     "output_type": "stream",
     "text": [
      "/Users/nplattner/miniconda3/envs/AutoSearch/lib/python3.7/site-packages/urllib3/connectionpool.py:847: InsecureRequestWarning: Unverified HTTPS request is being made. Adding certificate verification is strongly advised. See: https://urllib3.readthedocs.io/en/latest/advanced-usage.html#ssl-warnings\n",
      "  InsecureRequestWarning)\n"
     ]
    },
    {
     "name": "stdout",
     "output_type": "stream",
     "text": [
      "25 https://digital.tessmann.it/mediaArchive/media/image/Page/BZZ/1845/27_06_1845/BZZ_1845_06_27_4_object_459024.png?auth=fc248aa0f78293c3465bfd7d09710fe5\n"
     ]
    },
    {
     "name": "stderr",
     "output_type": "stream",
     "text": [
      "/Users/nplattner/miniconda3/envs/AutoSearch/lib/python3.7/site-packages/urllib3/connectionpool.py:847: InsecureRequestWarning: Unverified HTTPS request is being made. Adding certificate verification is strongly advised. See: https://urllib3.readthedocs.io/en/latest/advanced-usage.html#ssl-warnings\n",
      "  InsecureRequestWarning)\n"
     ]
    },
    {
     "name": "stdout",
     "output_type": "stream",
     "text": [
      "25 https://digital.tessmann.it/mediaArchive/media/image/Page/BZZ/1845/27_06_1845/BZZ_1845_06_27_5_object_459027.png?auth=e251a5368c1facf8a491fd3034ee63f8\n"
     ]
    },
    {
     "name": "stderr",
     "output_type": "stream",
     "text": [
      "/Users/nplattner/miniconda3/envs/AutoSearch/lib/python3.7/site-packages/urllib3/connectionpool.py:847: InsecureRequestWarning: Unverified HTTPS request is being made. Adding certificate verification is strongly advised. See: https://urllib3.readthedocs.io/en/latest/advanced-usage.html#ssl-warnings\n",
      "  InsecureRequestWarning)\n"
     ]
    },
    {
     "name": "stdout",
     "output_type": "stream",
     "text": [
      "25 https://digital.tessmann.it/mediaArchive/media/image/Page/BZZ/1845/27_06_1845/BZZ_1845_06_27_6_object_459030.png?auth=a43dfb3f2f6bfe8b6e50511ec2adf546\n"
     ]
    },
    {
     "name": "stderr",
     "output_type": "stream",
     "text": [
      "/Users/nplattner/miniconda3/envs/AutoSearch/lib/python3.7/site-packages/urllib3/connectionpool.py:847: InsecureRequestWarning: Unverified HTTPS request is being made. Adding certificate verification is strongly advised. See: https://urllib3.readthedocs.io/en/latest/advanced-usage.html#ssl-warnings\n",
      "  InsecureRequestWarning)\n"
     ]
    },
    {
     "name": "stdout",
     "output_type": "stream",
     "text": [
      "25 https://digital.tessmann.it/mediaArchive/media/image/Page/BZZ/1845/27_06_1845/BZZ_1845_06_27_7_object_459033.png?auth=af563679207b621a38a404d83d529dce\n"
     ]
    },
    {
     "name": "stderr",
     "output_type": "stream",
     "text": [
      "/Users/nplattner/miniconda3/envs/AutoSearch/lib/python3.7/site-packages/urllib3/connectionpool.py:847: InsecureRequestWarning: Unverified HTTPS request is being made. Adding certificate verification is strongly advised. See: https://urllib3.readthedocs.io/en/latest/advanced-usage.html#ssl-warnings\n",
      "  InsecureRequestWarning)\n"
     ]
    },
    {
     "name": "stdout",
     "output_type": "stream",
     "text": [
      "25 https://digital.tessmann.it/mediaArchive/media/image/Page/BZZ/1845/27_06_1845/BZZ_1845_06_27_8_object_459037.png?auth=9d675b28410fed838759173168c02449\n"
     ]
    },
    {
     "name": "stderr",
     "output_type": "stream",
     "text": [
      "/Users/nplattner/miniconda3/envs/AutoSearch/lib/python3.7/site-packages/urllib3/connectionpool.py:847: InsecureRequestWarning: Unverified HTTPS request is being made. Adding certificate verification is strongly advised. See: https://urllib3.readthedocs.io/en/latest/advanced-usage.html#ssl-warnings\n",
      "  InsecureRequestWarning)\n"
     ]
    },
    {
     "name": "stdout",
     "output_type": "stream",
     "text": [
      "26 https://digital.tessmann.it/mediaArchive/media/image/Page/BZZ/1845/04_07_1845/BZZ_1845_07_04_1_object_459039.png?auth=d44ba75359585afcc6bdda1f7cda64c5\n"
     ]
    },
    {
     "name": "stderr",
     "output_type": "stream",
     "text": [
      "/Users/nplattner/miniconda3/envs/AutoSearch/lib/python3.7/site-packages/urllib3/connectionpool.py:847: InsecureRequestWarning: Unverified HTTPS request is being made. Adding certificate verification is strongly advised. See: https://urllib3.readthedocs.io/en/latest/advanced-usage.html#ssl-warnings\n",
      "  InsecureRequestWarning)\n"
     ]
    },
    {
     "name": "stdout",
     "output_type": "stream",
     "text": [
      "26 https://digital.tessmann.it/mediaArchive/media/image/Page/BZZ/1845/04_07_1845/BZZ_1845_07_04_2_object_459042.png?auth=45360c649be5256297ff2b73b7760551\n"
     ]
    },
    {
     "name": "stderr",
     "output_type": "stream",
     "text": [
      "/Users/nplattner/miniconda3/envs/AutoSearch/lib/python3.7/site-packages/urllib3/connectionpool.py:847: InsecureRequestWarning: Unverified HTTPS request is being made. Adding certificate verification is strongly advised. See: https://urllib3.readthedocs.io/en/latest/advanced-usage.html#ssl-warnings\n",
      "  InsecureRequestWarning)\n"
     ]
    },
    {
     "name": "stdout",
     "output_type": "stream",
     "text": [
      "26 https://digital.tessmann.it/mediaArchive/media/image/Page/BZZ/1845/04_07_1845/BZZ_1845_07_04_3_object_459045.png?auth=f192cd1f23d19813cb16c8418c4219dc\n"
     ]
    },
    {
     "name": "stderr",
     "output_type": "stream",
     "text": [
      "/Users/nplattner/miniconda3/envs/AutoSearch/lib/python3.7/site-packages/urllib3/connectionpool.py:847: InsecureRequestWarning: Unverified HTTPS request is being made. Adding certificate verification is strongly advised. See: https://urllib3.readthedocs.io/en/latest/advanced-usage.html#ssl-warnings\n",
      "  InsecureRequestWarning)\n"
     ]
    },
    {
     "name": "stdout",
     "output_type": "stream",
     "text": [
      "26 https://digital.tessmann.it/mediaArchive/media/image/Page/BZZ/1845/04_07_1845/BZZ_1845_07_04_4_object_459048.png?auth=0f9847265c986af0b3d77c093fc5a617\n"
     ]
    },
    {
     "name": "stderr",
     "output_type": "stream",
     "text": [
      "/Users/nplattner/miniconda3/envs/AutoSearch/lib/python3.7/site-packages/urllib3/connectionpool.py:847: InsecureRequestWarning: Unverified HTTPS request is being made. Adding certificate verification is strongly advised. See: https://urllib3.readthedocs.io/en/latest/advanced-usage.html#ssl-warnings\n",
      "  InsecureRequestWarning)\n"
     ]
    },
    {
     "name": "stdout",
     "output_type": "stream",
     "text": [
      "26 https://digital.tessmann.it/mediaArchive/media/image/Page/BZZ/1845/04_07_1845/BZZ_1845_07_04_5_object_459051.png?auth=42384d45fcab242ebd3b4fb5de2300f1\n"
     ]
    },
    {
     "name": "stderr",
     "output_type": "stream",
     "text": [
      "/Users/nplattner/miniconda3/envs/AutoSearch/lib/python3.7/site-packages/urllib3/connectionpool.py:847: InsecureRequestWarning: Unverified HTTPS request is being made. Adding certificate verification is strongly advised. See: https://urllib3.readthedocs.io/en/latest/advanced-usage.html#ssl-warnings\n",
      "  InsecureRequestWarning)\n"
     ]
    },
    {
     "name": "stdout",
     "output_type": "stream",
     "text": [
      "26 https://digital.tessmann.it/mediaArchive/media/image/Page/BZZ/1845/04_07_1845/BZZ_1845_07_04_6_object_459055.png?auth=5a0b098855627a56dc71385a5d6247e6\n"
     ]
    },
    {
     "name": "stderr",
     "output_type": "stream",
     "text": [
      "/Users/nplattner/miniconda3/envs/AutoSearch/lib/python3.7/site-packages/urllib3/connectionpool.py:847: InsecureRequestWarning: Unverified HTTPS request is being made. Adding certificate verification is strongly advised. See: https://urllib3.readthedocs.io/en/latest/advanced-usage.html#ssl-warnings\n",
      "  InsecureRequestWarning)\n"
     ]
    },
    {
     "name": "stdout",
     "output_type": "stream",
     "text": [
      "26 https://digital.tessmann.it/mediaArchive/media/image/Page/BZZ/1845/04_07_1845/BZZ_1845_07_04_7_object_459058.png?auth=efcd8acbee0ac0902301849432a703db\n"
     ]
    },
    {
     "name": "stderr",
     "output_type": "stream",
     "text": [
      "/Users/nplattner/miniconda3/envs/AutoSearch/lib/python3.7/site-packages/urllib3/connectionpool.py:847: InsecureRequestWarning: Unverified HTTPS request is being made. Adding certificate verification is strongly advised. See: https://urllib3.readthedocs.io/en/latest/advanced-usage.html#ssl-warnings\n",
      "  InsecureRequestWarning)\n"
     ]
    },
    {
     "name": "stdout",
     "output_type": "stream",
     "text": [
      "26 https://digital.tessmann.it/mediaArchive/media/image/Page/BZZ/1845/04_07_1845/BZZ_1845_07_04_8_object_459060.png?auth=2ffa11babab37cb85449ca23509cc921\n"
     ]
    },
    {
     "name": "stderr",
     "output_type": "stream",
     "text": [
      "/Users/nplattner/miniconda3/envs/AutoSearch/lib/python3.7/site-packages/urllib3/connectionpool.py:847: InsecureRequestWarning: Unverified HTTPS request is being made. Adding certificate verification is strongly advised. See: https://urllib3.readthedocs.io/en/latest/advanced-usage.html#ssl-warnings\n",
      "  InsecureRequestWarning)\n"
     ]
    },
    {
     "name": "stdout",
     "output_type": "stream",
     "text": [
      "27 https://digital.tessmann.it/mediaArchive/media/image/Page/BZZ/1845/11_07_1845/BZZ_1845_07_11_1_object_459063.png?auth=656a9f28015959f9e545be11ab49238a\n"
     ]
    },
    {
     "name": "stderr",
     "output_type": "stream",
     "text": [
      "/Users/nplattner/miniconda3/envs/AutoSearch/lib/python3.7/site-packages/urllib3/connectionpool.py:847: InsecureRequestWarning: Unverified HTTPS request is being made. Adding certificate verification is strongly advised. See: https://urllib3.readthedocs.io/en/latest/advanced-usage.html#ssl-warnings\n",
      "  InsecureRequestWarning)\n"
     ]
    },
    {
     "name": "stdout",
     "output_type": "stream",
     "text": [
      "27 https://digital.tessmann.it/mediaArchive/media/image/Page/BZZ/1845/11_07_1845/BZZ_1845_07_11_2_object_459067.png?auth=34feeceb67fe54bba3a1cbb50c5a69f6\n"
     ]
    },
    {
     "name": "stderr",
     "output_type": "stream",
     "text": [
      "/Users/nplattner/miniconda3/envs/AutoSearch/lib/python3.7/site-packages/urllib3/connectionpool.py:847: InsecureRequestWarning: Unverified HTTPS request is being made. Adding certificate verification is strongly advised. See: https://urllib3.readthedocs.io/en/latest/advanced-usage.html#ssl-warnings\n",
      "  InsecureRequestWarning)\n"
     ]
    },
    {
     "name": "stdout",
     "output_type": "stream",
     "text": [
      "27 https://digital.tessmann.it/mediaArchive/media/image/Page/BZZ/1845/11_07_1845/BZZ_1845_07_11_3_object_459069.png?auth=04db84700c1d3b13becde00fd0887f1e\n"
     ]
    },
    {
     "name": "stderr",
     "output_type": "stream",
     "text": [
      "/Users/nplattner/miniconda3/envs/AutoSearch/lib/python3.7/site-packages/urllib3/connectionpool.py:847: InsecureRequestWarning: Unverified HTTPS request is being made. Adding certificate verification is strongly advised. See: https://urllib3.readthedocs.io/en/latest/advanced-usage.html#ssl-warnings\n",
      "  InsecureRequestWarning)\n"
     ]
    },
    {
     "name": "stdout",
     "output_type": "stream",
     "text": [
      "27 https://digital.tessmann.it/mediaArchive/media/image/Page/BZZ/1845/11_07_1845/BZZ_1845_07_11_4_object_459072.png?auth=bc59bc54bc201516f8dbb43e89a8bbd2\n"
     ]
    },
    {
     "name": "stderr",
     "output_type": "stream",
     "text": [
      "/Users/nplattner/miniconda3/envs/AutoSearch/lib/python3.7/site-packages/urllib3/connectionpool.py:847: InsecureRequestWarning: Unverified HTTPS request is being made. Adding certificate verification is strongly advised. See: https://urllib3.readthedocs.io/en/latest/advanced-usage.html#ssl-warnings\n",
      "  InsecureRequestWarning)\n"
     ]
    },
    {
     "name": "stdout",
     "output_type": "stream",
     "text": [
      "27 https://digital.tessmann.it/mediaArchive/media/image/Page/BZZ/1845/11_07_1845/BZZ_1845_07_11_5_object_459075.png?auth=45fcb81b67f586a7507e25cc0f0d334c\n"
     ]
    },
    {
     "name": "stderr",
     "output_type": "stream",
     "text": [
      "/Users/nplattner/miniconda3/envs/AutoSearch/lib/python3.7/site-packages/urllib3/connectionpool.py:847: InsecureRequestWarning: Unverified HTTPS request is being made. Adding certificate verification is strongly advised. See: https://urllib3.readthedocs.io/en/latest/advanced-usage.html#ssl-warnings\n",
      "  InsecureRequestWarning)\n"
     ]
    },
    {
     "name": "stdout",
     "output_type": "stream",
     "text": [
      "27 https://digital.tessmann.it/mediaArchive/media/image/Page/BZZ/1845/11_07_1845/BZZ_1845_07_11_6_object_459079.png?auth=c923310a146ffb07fc4704ea83ad994a\n"
     ]
    },
    {
     "name": "stderr",
     "output_type": "stream",
     "text": [
      "/Users/nplattner/miniconda3/envs/AutoSearch/lib/python3.7/site-packages/urllib3/connectionpool.py:847: InsecureRequestWarning: Unverified HTTPS request is being made. Adding certificate verification is strongly advised. See: https://urllib3.readthedocs.io/en/latest/advanced-usage.html#ssl-warnings\n",
      "  InsecureRequestWarning)\n"
     ]
    },
    {
     "name": "stdout",
     "output_type": "stream",
     "text": [
      "28 https://digital.tessmann.it/mediaArchive/media/image/Page/BZZ/1845/18_07_1845/BZZ_1845_07_18_1_object_459081.png?auth=8aeedc9f2b7f1c233120e6f328c066a5\n"
     ]
    },
    {
     "name": "stderr",
     "output_type": "stream",
     "text": [
      "/Users/nplattner/miniconda3/envs/AutoSearch/lib/python3.7/site-packages/urllib3/connectionpool.py:847: InsecureRequestWarning: Unverified HTTPS request is being made. Adding certificate verification is strongly advised. See: https://urllib3.readthedocs.io/en/latest/advanced-usage.html#ssl-warnings\n",
      "  InsecureRequestWarning)\n"
     ]
    },
    {
     "name": "stdout",
     "output_type": "stream",
     "text": [
      "28 https://digital.tessmann.it/mediaArchive/media/image/Page/BZZ/1845/18_07_1845/BZZ_1845_07_18_2_object_459084.png?auth=35bb5b47606ff1a9e02a5f79b8ad1519\n"
     ]
    },
    {
     "name": "stderr",
     "output_type": "stream",
     "text": [
      "/Users/nplattner/miniconda3/envs/AutoSearch/lib/python3.7/site-packages/urllib3/connectionpool.py:847: InsecureRequestWarning: Unverified HTTPS request is being made. Adding certificate verification is strongly advised. See: https://urllib3.readthedocs.io/en/latest/advanced-usage.html#ssl-warnings\n",
      "  InsecureRequestWarning)\n"
     ]
    },
    {
     "name": "stdout",
     "output_type": "stream",
     "text": [
      "28 https://digital.tessmann.it/mediaArchive/media/image/Page/BZZ/1845/18_07_1845/BZZ_1845_07_18_3_object_459088.png?auth=4ef19d6b295b30a67157604128a871bf\n"
     ]
    },
    {
     "name": "stderr",
     "output_type": "stream",
     "text": [
      "/Users/nplattner/miniconda3/envs/AutoSearch/lib/python3.7/site-packages/urllib3/connectionpool.py:847: InsecureRequestWarning: Unverified HTTPS request is being made. Adding certificate verification is strongly advised. See: https://urllib3.readthedocs.io/en/latest/advanced-usage.html#ssl-warnings\n",
      "  InsecureRequestWarning)\n"
     ]
    },
    {
     "name": "stdout",
     "output_type": "stream",
     "text": [
      "28 https://digital.tessmann.it/mediaArchive/media/image/Page/BZZ/1845/18_07_1845/BZZ_1845_07_18_4_object_459091.png?auth=b416504629eda09508ba6e07abda02aa\n"
     ]
    },
    {
     "name": "stderr",
     "output_type": "stream",
     "text": [
      "/Users/nplattner/miniconda3/envs/AutoSearch/lib/python3.7/site-packages/urllib3/connectionpool.py:847: InsecureRequestWarning: Unverified HTTPS request is being made. Adding certificate verification is strongly advised. See: https://urllib3.readthedocs.io/en/latest/advanced-usage.html#ssl-warnings\n",
      "  InsecureRequestWarning)\n"
     ]
    },
    {
     "name": "stdout",
     "output_type": "stream",
     "text": [
      "28 https://digital.tessmann.it/mediaArchive/media/image/Page/BZZ/1845/18_07_1845/BZZ_1845_07_18_5_object_459093.png?auth=19dcbf0dedfde795866d004d0b2621cd\n"
     ]
    },
    {
     "name": "stderr",
     "output_type": "stream",
     "text": [
      "/Users/nplattner/miniconda3/envs/AutoSearch/lib/python3.7/site-packages/urllib3/connectionpool.py:847: InsecureRequestWarning: Unverified HTTPS request is being made. Adding certificate verification is strongly advised. See: https://urllib3.readthedocs.io/en/latest/advanced-usage.html#ssl-warnings\n",
      "  InsecureRequestWarning)\n"
     ]
    },
    {
     "name": "stdout",
     "output_type": "stream",
     "text": [
      "28 https://digital.tessmann.it/mediaArchive/media/image/Page/BZZ/1845/18_07_1845/BZZ_1845_07_18_6_object_459097.png?auth=89f8e765787467a9edcb10acbe643134\n"
     ]
    },
    {
     "name": "stderr",
     "output_type": "stream",
     "text": [
      "/Users/nplattner/miniconda3/envs/AutoSearch/lib/python3.7/site-packages/urllib3/connectionpool.py:847: InsecureRequestWarning: Unverified HTTPS request is being made. Adding certificate verification is strongly advised. See: https://urllib3.readthedocs.io/en/latest/advanced-usage.html#ssl-warnings\n",
      "  InsecureRequestWarning)\n"
     ]
    },
    {
     "name": "stdout",
     "output_type": "stream",
     "text": [
      "29 https://digital.tessmann.it/mediaArchive/media/image/Page/BZZ/1845/25_07_1845/BZZ_1845_07_25_1_object_459100.png?auth=b47e2ba44aa9a5edaaac8c43a0a1af9b\n"
     ]
    },
    {
     "name": "stderr",
     "output_type": "stream",
     "text": [
      "/Users/nplattner/miniconda3/envs/AutoSearch/lib/python3.7/site-packages/urllib3/connectionpool.py:847: InsecureRequestWarning: Unverified HTTPS request is being made. Adding certificate verification is strongly advised. See: https://urllib3.readthedocs.io/en/latest/advanced-usage.html#ssl-warnings\n",
      "  InsecureRequestWarning)\n"
     ]
    },
    {
     "name": "stdout",
     "output_type": "stream",
     "text": [
      "29 https://digital.tessmann.it/mediaArchive/media/image/Page/BZZ/1845/25_07_1845/BZZ_1845_07_25_2_object_459102.png?auth=fd2e88e4f626d69d97ba9df9d0460812\n"
     ]
    },
    {
     "name": "stderr",
     "output_type": "stream",
     "text": [
      "/Users/nplattner/miniconda3/envs/AutoSearch/lib/python3.7/site-packages/urllib3/connectionpool.py:847: InsecureRequestWarning: Unverified HTTPS request is being made. Adding certificate verification is strongly advised. See: https://urllib3.readthedocs.io/en/latest/advanced-usage.html#ssl-warnings\n",
      "  InsecureRequestWarning)\n"
     ]
    },
    {
     "name": "stdout",
     "output_type": "stream",
     "text": [
      "29 https://digital.tessmann.it/mediaArchive/media/image/Page/BZZ/1845/25_07_1845/BZZ_1845_07_25_3_object_459106.png?auth=f13cdb47534fe4632f7fa4cd35a63e0b\n"
     ]
    },
    {
     "name": "stderr",
     "output_type": "stream",
     "text": [
      "/Users/nplattner/miniconda3/envs/AutoSearch/lib/python3.7/site-packages/urllib3/connectionpool.py:847: InsecureRequestWarning: Unverified HTTPS request is being made. Adding certificate verification is strongly advised. See: https://urllib3.readthedocs.io/en/latest/advanced-usage.html#ssl-warnings\n",
      "  InsecureRequestWarning)\n"
     ]
    },
    {
     "name": "stdout",
     "output_type": "stream",
     "text": [
      "29 https://digital.tessmann.it/mediaArchive/media/image/Page/BZZ/1845/25_07_1845/BZZ_1845_07_25_4_object_459109.png?auth=e572765341a5550f56e042f82b7d66ff\n"
     ]
    },
    {
     "name": "stderr",
     "output_type": "stream",
     "text": [
      "/Users/nplattner/miniconda3/envs/AutoSearch/lib/python3.7/site-packages/urllib3/connectionpool.py:847: InsecureRequestWarning: Unverified HTTPS request is being made. Adding certificate verification is strongly advised. See: https://urllib3.readthedocs.io/en/latest/advanced-usage.html#ssl-warnings\n",
      "  InsecureRequestWarning)\n"
     ]
    },
    {
     "name": "stdout",
     "output_type": "stream",
     "text": [
      "29 https://digital.tessmann.it/mediaArchive/media/image/Page/BZZ/1845/25_07_1845/BZZ_1845_07_25_5_object_459112.png?auth=7b567895196cfd2de80317a2d2f39ac6\n"
     ]
    },
    {
     "name": "stderr",
     "output_type": "stream",
     "text": [
      "/Users/nplattner/miniconda3/envs/AutoSearch/lib/python3.7/site-packages/urllib3/connectionpool.py:847: InsecureRequestWarning: Unverified HTTPS request is being made. Adding certificate verification is strongly advised. See: https://urllib3.readthedocs.io/en/latest/advanced-usage.html#ssl-warnings\n",
      "  InsecureRequestWarning)\n"
     ]
    },
    {
     "name": "stdout",
     "output_type": "stream",
     "text": [
      "29 https://digital.tessmann.it/mediaArchive/media/image/Page/BZZ/1845/25_07_1845/BZZ_1845_07_25_6_object_459115.png?auth=62529af6a5bcd287db99833716df6051\n"
     ]
    },
    {
     "name": "stderr",
     "output_type": "stream",
     "text": [
      "/Users/nplattner/miniconda3/envs/AutoSearch/lib/python3.7/site-packages/urllib3/connectionpool.py:847: InsecureRequestWarning: Unverified HTTPS request is being made. Adding certificate verification is strongly advised. See: https://urllib3.readthedocs.io/en/latest/advanced-usage.html#ssl-warnings\n",
      "  InsecureRequestWarning)\n"
     ]
    },
    {
     "name": "stdout",
     "output_type": "stream",
     "text": [
      "30 https://digital.tessmann.it/mediaArchive/media/image/Page/BZZ/1845/01_08_1845/BZZ_1845_08_01_1_object_459118.png?auth=e7f22ab0c485f85d3449d6bd0a815e49\n"
     ]
    },
    {
     "name": "stderr",
     "output_type": "stream",
     "text": [
      "/Users/nplattner/miniconda3/envs/AutoSearch/lib/python3.7/site-packages/urllib3/connectionpool.py:847: InsecureRequestWarning: Unverified HTTPS request is being made. Adding certificate verification is strongly advised. See: https://urllib3.readthedocs.io/en/latest/advanced-usage.html#ssl-warnings\n",
      "  InsecureRequestWarning)\n"
     ]
    },
    {
     "name": "stdout",
     "output_type": "stream",
     "text": [
      "30 https://digital.tessmann.it/mediaArchive/media/image/Page/BZZ/1845/01_08_1845/BZZ_1845_08_01_2_object_459121.png?auth=670fec928f44bfd15fe3b1585dc565d6\n"
     ]
    },
    {
     "name": "stderr",
     "output_type": "stream",
     "text": [
      "/Users/nplattner/miniconda3/envs/AutoSearch/lib/python3.7/site-packages/urllib3/connectionpool.py:847: InsecureRequestWarning: Unverified HTTPS request is being made. Adding certificate verification is strongly advised. See: https://urllib3.readthedocs.io/en/latest/advanced-usage.html#ssl-warnings\n",
      "  InsecureRequestWarning)\n"
     ]
    },
    {
     "name": "stdout",
     "output_type": "stream",
     "text": [
      "30 https://digital.tessmann.it/mediaArchive/media/image/Page/BZZ/1845/01_08_1845/BZZ_1845_08_01_3_object_459124.png?auth=f271d6b9dbd571421bdf2ea6ab296906\n"
     ]
    },
    {
     "name": "stderr",
     "output_type": "stream",
     "text": [
      "/Users/nplattner/miniconda3/envs/AutoSearch/lib/python3.7/site-packages/urllib3/connectionpool.py:847: InsecureRequestWarning: Unverified HTTPS request is being made. Adding certificate verification is strongly advised. See: https://urllib3.readthedocs.io/en/latest/advanced-usage.html#ssl-warnings\n",
      "  InsecureRequestWarning)\n"
     ]
    },
    {
     "name": "stdout",
     "output_type": "stream",
     "text": [
      "30 https://digital.tessmann.it/mediaArchive/media/image/Page/BZZ/1845/01_08_1845/BZZ_1845_08_01_4_object_459127.png?auth=da60d2c6ceca4396026bb7322e240157\n"
     ]
    },
    {
     "name": "stderr",
     "output_type": "stream",
     "text": [
      "/Users/nplattner/miniconda3/envs/AutoSearch/lib/python3.7/site-packages/urllib3/connectionpool.py:847: InsecureRequestWarning: Unverified HTTPS request is being made. Adding certificate verification is strongly advised. See: https://urllib3.readthedocs.io/en/latest/advanced-usage.html#ssl-warnings\n",
      "  InsecureRequestWarning)\n"
     ]
    },
    {
     "name": "stdout",
     "output_type": "stream",
     "text": [
      "30 https://digital.tessmann.it/mediaArchive/media/image/Page/BZZ/1845/01_08_1845/BZZ_1845_08_01_5_object_459130.png?auth=73ea74079789a6a893f07d22c21300c7\n"
     ]
    },
    {
     "name": "stderr",
     "output_type": "stream",
     "text": [
      "/Users/nplattner/miniconda3/envs/AutoSearch/lib/python3.7/site-packages/urllib3/connectionpool.py:847: InsecureRequestWarning: Unverified HTTPS request is being made. Adding certificate verification is strongly advised. See: https://urllib3.readthedocs.io/en/latest/advanced-usage.html#ssl-warnings\n",
      "  InsecureRequestWarning)\n"
     ]
    },
    {
     "name": "stdout",
     "output_type": "stream",
     "text": [
      "30 https://digital.tessmann.it/mediaArchive/media/image/Page/BZZ/1845/01_08_1845/BZZ_1845_08_01_6_object_459133.png?auth=f70688675019e6218ac10ca08daacbff\n"
     ]
    },
    {
     "name": "stderr",
     "output_type": "stream",
     "text": [
      "/Users/nplattner/miniconda3/envs/AutoSearch/lib/python3.7/site-packages/urllib3/connectionpool.py:847: InsecureRequestWarning: Unverified HTTPS request is being made. Adding certificate verification is strongly advised. See: https://urllib3.readthedocs.io/en/latest/advanced-usage.html#ssl-warnings\n",
      "  InsecureRequestWarning)\n"
     ]
    },
    {
     "name": "stdout",
     "output_type": "stream",
     "text": [
      "31 https://digital.tessmann.it/mediaArchive/media/image/Page/BZZ/1845/08_08_1845/BZZ_1845_08_08_1_object_458749.png?auth=c9f0552ece6e9acd08070b06b41bbef8\n"
     ]
    },
    {
     "name": "stderr",
     "output_type": "stream",
     "text": [
      "/Users/nplattner/miniconda3/envs/AutoSearch/lib/python3.7/site-packages/urllib3/connectionpool.py:847: InsecureRequestWarning: Unverified HTTPS request is being made. Adding certificate verification is strongly advised. See: https://urllib3.readthedocs.io/en/latest/advanced-usage.html#ssl-warnings\n",
      "  InsecureRequestWarning)\n"
     ]
    },
    {
     "name": "stdout",
     "output_type": "stream",
     "text": [
      "31 https://digital.tessmann.it/mediaArchive/media/image/Page/BZZ/1845/08_08_1845/BZZ_1845_08_08_2_object_458751.png?auth=9480e011cd4bedf113c13fa254563f94\n"
     ]
    },
    {
     "name": "stderr",
     "output_type": "stream",
     "text": [
      "/Users/nplattner/miniconda3/envs/AutoSearch/lib/python3.7/site-packages/urllib3/connectionpool.py:847: InsecureRequestWarning: Unverified HTTPS request is being made. Adding certificate verification is strongly advised. See: https://urllib3.readthedocs.io/en/latest/advanced-usage.html#ssl-warnings\n",
      "  InsecureRequestWarning)\n"
     ]
    },
    {
     "name": "stdout",
     "output_type": "stream",
     "text": [
      "31 https://digital.tessmann.it/mediaArchive/media/image/Page/BZZ/1845/08_08_1845/BZZ_1845_08_08_3_object_458753.png?auth=3717e54e568143daf2d4deec4462ced1\n"
     ]
    },
    {
     "name": "stderr",
     "output_type": "stream",
     "text": [
      "/Users/nplattner/miniconda3/envs/AutoSearch/lib/python3.7/site-packages/urllib3/connectionpool.py:847: InsecureRequestWarning: Unverified HTTPS request is being made. Adding certificate verification is strongly advised. See: https://urllib3.readthedocs.io/en/latest/advanced-usage.html#ssl-warnings\n",
      "  InsecureRequestWarning)\n"
     ]
    },
    {
     "name": "stdout",
     "output_type": "stream",
     "text": [
      "31 https://digital.tessmann.it/mediaArchive/media/image/Page/BZZ/1845/08_08_1845/BZZ_1845_08_08_4_object_458756.png?auth=856ec90eac2adb25642b860c657c501f\n"
     ]
    },
    {
     "name": "stderr",
     "output_type": "stream",
     "text": [
      "/Users/nplattner/miniconda3/envs/AutoSearch/lib/python3.7/site-packages/urllib3/connectionpool.py:847: InsecureRequestWarning: Unverified HTTPS request is being made. Adding certificate verification is strongly advised. See: https://urllib3.readthedocs.io/en/latest/advanced-usage.html#ssl-warnings\n",
      "  InsecureRequestWarning)\n"
     ]
    },
    {
     "name": "stdout",
     "output_type": "stream",
     "text": [
      "31 https://digital.tessmann.it/mediaArchive/media/image/Page/BZZ/1845/08_08_1845/BZZ_1845_08_08_5_object_458758.png?auth=da169a4eb6ee84856b0cb47f9c019085\n"
     ]
    },
    {
     "name": "stderr",
     "output_type": "stream",
     "text": [
      "/Users/nplattner/miniconda3/envs/AutoSearch/lib/python3.7/site-packages/urllib3/connectionpool.py:847: InsecureRequestWarning: Unverified HTTPS request is being made. Adding certificate verification is strongly advised. See: https://urllib3.readthedocs.io/en/latest/advanced-usage.html#ssl-warnings\n",
      "  InsecureRequestWarning)\n"
     ]
    },
    {
     "name": "stdout",
     "output_type": "stream",
     "text": [
      "31 https://digital.tessmann.it/mediaArchive/media/image/Page/BZZ/1845/08_08_1845/BZZ_1845_08_08_6_object_458760.png?auth=aac991a91953a9621c0ee89894d90326\n"
     ]
    },
    {
     "name": "stderr",
     "output_type": "stream",
     "text": [
      "/Users/nplattner/miniconda3/envs/AutoSearch/lib/python3.7/site-packages/urllib3/connectionpool.py:847: InsecureRequestWarning: Unverified HTTPS request is being made. Adding certificate verification is strongly advised. See: https://urllib3.readthedocs.io/en/latest/advanced-usage.html#ssl-warnings\n",
      "  InsecureRequestWarning)\n"
     ]
    },
    {
     "name": "stdout",
     "output_type": "stream",
     "text": [
      "31 https://digital.tessmann.it/mediaArchive/media/image/Page/BZZ/1845/08_08_1845/BZZ_1845_08_08_7_object_458763.png?auth=7aba13ee6bd19b43f31a1c23c8c2a192\n"
     ]
    },
    {
     "name": "stderr",
     "output_type": "stream",
     "text": [
      "/Users/nplattner/miniconda3/envs/AutoSearch/lib/python3.7/site-packages/urllib3/connectionpool.py:847: InsecureRequestWarning: Unverified HTTPS request is being made. Adding certificate verification is strongly advised. See: https://urllib3.readthedocs.io/en/latest/advanced-usage.html#ssl-warnings\n",
      "  InsecureRequestWarning)\n"
     ]
    },
    {
     "name": "stdout",
     "output_type": "stream",
     "text": [
      "31 https://digital.tessmann.it/mediaArchive/media/image/Page/BZZ/1845/08_08_1845/BZZ_1845_08_08_8_object_458766.png?auth=90324241124ec77163b6971094706d4f\n"
     ]
    },
    {
     "name": "stderr",
     "output_type": "stream",
     "text": [
      "/Users/nplattner/miniconda3/envs/AutoSearch/lib/python3.7/site-packages/urllib3/connectionpool.py:847: InsecureRequestWarning: Unverified HTTPS request is being made. Adding certificate verification is strongly advised. See: https://urllib3.readthedocs.io/en/latest/advanced-usage.html#ssl-warnings\n",
      "  InsecureRequestWarning)\n"
     ]
    },
    {
     "name": "stdout",
     "output_type": "stream",
     "text": [
      "32 https://digital.tessmann.it/mediaArchive/media/image/Page/BZZ/1845/15_08_1845/BZZ_1845_08_15_1_object_458767.png?auth=be99682f036fcf7a7ca07f681acfd36c\n"
     ]
    },
    {
     "name": "stderr",
     "output_type": "stream",
     "text": [
      "/Users/nplattner/miniconda3/envs/AutoSearch/lib/python3.7/site-packages/urllib3/connectionpool.py:847: InsecureRequestWarning: Unverified HTTPS request is being made. Adding certificate verification is strongly advised. See: https://urllib3.readthedocs.io/en/latest/advanced-usage.html#ssl-warnings\n",
      "  InsecureRequestWarning)\n"
     ]
    },
    {
     "name": "stdout",
     "output_type": "stream",
     "text": [
      "32 https://digital.tessmann.it/mediaArchive/media/image/Page/BZZ/1845/15_08_1845/BZZ_1845_08_15_2_object_458770.png?auth=90e3313a499505ab8168c50d36cac3f4\n"
     ]
    },
    {
     "name": "stderr",
     "output_type": "stream",
     "text": [
      "/Users/nplattner/miniconda3/envs/AutoSearch/lib/python3.7/site-packages/urllib3/connectionpool.py:847: InsecureRequestWarning: Unverified HTTPS request is being made. Adding certificate verification is strongly advised. See: https://urllib3.readthedocs.io/en/latest/advanced-usage.html#ssl-warnings\n",
      "  InsecureRequestWarning)\n"
     ]
    },
    {
     "name": "stdout",
     "output_type": "stream",
     "text": [
      "32 https://digital.tessmann.it/mediaArchive/media/image/Page/BZZ/1845/15_08_1845/BZZ_1845_08_15_3_object_458773.png?auth=807533148316463d3a80e86d7c1bae82\n"
     ]
    },
    {
     "name": "stderr",
     "output_type": "stream",
     "text": [
      "/Users/nplattner/miniconda3/envs/AutoSearch/lib/python3.7/site-packages/urllib3/connectionpool.py:847: InsecureRequestWarning: Unverified HTTPS request is being made. Adding certificate verification is strongly advised. See: https://urllib3.readthedocs.io/en/latest/advanced-usage.html#ssl-warnings\n",
      "  InsecureRequestWarning)\n"
     ]
    },
    {
     "name": "stdout",
     "output_type": "stream",
     "text": [
      "32 https://digital.tessmann.it/mediaArchive/media/image/Page/BZZ/1845/15_08_1845/BZZ_1845_08_15_4_object_458774.png?auth=6f48fba9dd74e8d3167fd3124272fa47\n"
     ]
    },
    {
     "name": "stderr",
     "output_type": "stream",
     "text": [
      "/Users/nplattner/miniconda3/envs/AutoSearch/lib/python3.7/site-packages/urllib3/connectionpool.py:847: InsecureRequestWarning: Unverified HTTPS request is being made. Adding certificate verification is strongly advised. See: https://urllib3.readthedocs.io/en/latest/advanced-usage.html#ssl-warnings\n",
      "  InsecureRequestWarning)\n"
     ]
    },
    {
     "name": "stdout",
     "output_type": "stream",
     "text": [
      "32 https://digital.tessmann.it/mediaArchive/media/image/Page/BZZ/1845/15_08_1845/BZZ_1845_08_15_5_object_458777.png?auth=ef98dbd2eb8014a5a9de0f864d80a9d7\n"
     ]
    },
    {
     "name": "stderr",
     "output_type": "stream",
     "text": [
      "/Users/nplattner/miniconda3/envs/AutoSearch/lib/python3.7/site-packages/urllib3/connectionpool.py:847: InsecureRequestWarning: Unverified HTTPS request is being made. Adding certificate verification is strongly advised. See: https://urllib3.readthedocs.io/en/latest/advanced-usage.html#ssl-warnings\n",
      "  InsecureRequestWarning)\n"
     ]
    },
    {
     "name": "stdout",
     "output_type": "stream",
     "text": [
      "32 https://digital.tessmann.it/mediaArchive/media/image/Page/BZZ/1845/15_08_1845/BZZ_1845_08_15_6_object_458780.png?auth=5d6cfb59f18dd9ff75ae0818f73ba0e6\n"
     ]
    },
    {
     "name": "stderr",
     "output_type": "stream",
     "text": [
      "/Users/nplattner/miniconda3/envs/AutoSearch/lib/python3.7/site-packages/urllib3/connectionpool.py:847: InsecureRequestWarning: Unverified HTTPS request is being made. Adding certificate verification is strongly advised. See: https://urllib3.readthedocs.io/en/latest/advanced-usage.html#ssl-warnings\n",
      "  InsecureRequestWarning)\n"
     ]
    },
    {
     "name": "stdout",
     "output_type": "stream",
     "text": [
      "32 https://digital.tessmann.it/mediaArchive/media/image/Page/BZZ/1845/15_08_1845/BZZ_1845_08_15_7_object_458782.png?auth=347be67ba0957e15079bcd11459b5e54\n"
     ]
    },
    {
     "name": "stderr",
     "output_type": "stream",
     "text": [
      "/Users/nplattner/miniconda3/envs/AutoSearch/lib/python3.7/site-packages/urllib3/connectionpool.py:847: InsecureRequestWarning: Unverified HTTPS request is being made. Adding certificate verification is strongly advised. See: https://urllib3.readthedocs.io/en/latest/advanced-usage.html#ssl-warnings\n",
      "  InsecureRequestWarning)\n"
     ]
    },
    {
     "name": "stdout",
     "output_type": "stream",
     "text": [
      "32 https://digital.tessmann.it/mediaArchive/media/image/Page/BZZ/1845/15_08_1845/BZZ_1845_08_15_8_object_458784.png?auth=1fc9844933a04f416151d273ecf0e326\n"
     ]
    },
    {
     "name": "stderr",
     "output_type": "stream",
     "text": [
      "/Users/nplattner/miniconda3/envs/AutoSearch/lib/python3.7/site-packages/urllib3/connectionpool.py:847: InsecureRequestWarning: Unverified HTTPS request is being made. Adding certificate verification is strongly advised. See: https://urllib3.readthedocs.io/en/latest/advanced-usage.html#ssl-warnings\n",
      "  InsecureRequestWarning)\n"
     ]
    },
    {
     "name": "stdout",
     "output_type": "stream",
     "text": [
      "32 https://digital.tessmann.it/mediaArchive/media/image/Page/BZZ/1845/15_08_1845/BZZ_1845_08_15_9_object_458787.png?auth=a8f731d44cef1e5126425aafa992b675\n"
     ]
    },
    {
     "name": "stderr",
     "output_type": "stream",
     "text": [
      "/Users/nplattner/miniconda3/envs/AutoSearch/lib/python3.7/site-packages/urllib3/connectionpool.py:847: InsecureRequestWarning: Unverified HTTPS request is being made. Adding certificate verification is strongly advised. See: https://urllib3.readthedocs.io/en/latest/advanced-usage.html#ssl-warnings\n",
      "  InsecureRequestWarning)\n"
     ]
    },
    {
     "name": "stdout",
     "output_type": "stream",
     "text": [
      "32 https://digital.tessmann.it/mediaArchive/media/image/Page/BZZ/1845/15_08_1845/BZZ_1845_08_15_10_object_458789.png?auth=0122c128e7f7579fe14a2a97f49c00c9\n"
     ]
    },
    {
     "name": "stderr",
     "output_type": "stream",
     "text": [
      "/Users/nplattner/miniconda3/envs/AutoSearch/lib/python3.7/site-packages/urllib3/connectionpool.py:847: InsecureRequestWarning: Unverified HTTPS request is being made. Adding certificate verification is strongly advised. See: https://urllib3.readthedocs.io/en/latest/advanced-usage.html#ssl-warnings\n",
      "  InsecureRequestWarning)\n"
     ]
    },
    {
     "name": "stdout",
     "output_type": "stream",
     "text": [
      "33 https://digital.tessmann.it/mediaArchive/media/image/Page/BZZ/1845/22_08_1845/BZZ_1845_08_22_1_object_458791.png?auth=399354a7559c144f663d9b2851142a19\n"
     ]
    },
    {
     "name": "stderr",
     "output_type": "stream",
     "text": [
      "/Users/nplattner/miniconda3/envs/AutoSearch/lib/python3.7/site-packages/urllib3/connectionpool.py:847: InsecureRequestWarning: Unverified HTTPS request is being made. Adding certificate verification is strongly advised. See: https://urllib3.readthedocs.io/en/latest/advanced-usage.html#ssl-warnings\n",
      "  InsecureRequestWarning)\n"
     ]
    },
    {
     "name": "stdout",
     "output_type": "stream",
     "text": [
      "33 https://digital.tessmann.it/mediaArchive/media/image/Page/BZZ/1845/22_08_1845/BZZ_1845_08_22_2_object_458794.png?auth=c23f3aec4dee00dd0097f80a87c6b2c9\n"
     ]
    },
    {
     "name": "stderr",
     "output_type": "stream",
     "text": [
      "/Users/nplattner/miniconda3/envs/AutoSearch/lib/python3.7/site-packages/urllib3/connectionpool.py:847: InsecureRequestWarning: Unverified HTTPS request is being made. Adding certificate verification is strongly advised. See: https://urllib3.readthedocs.io/en/latest/advanced-usage.html#ssl-warnings\n",
      "  InsecureRequestWarning)\n"
     ]
    },
    {
     "name": "stdout",
     "output_type": "stream",
     "text": [
      "33 https://digital.tessmann.it/mediaArchive/media/image/Page/BZZ/1845/22_08_1845/BZZ_1845_08_22_3_object_458796.png?auth=cb8e58958b1972edb90ba066e990c7e5\n"
     ]
    },
    {
     "name": "stderr",
     "output_type": "stream",
     "text": [
      "/Users/nplattner/miniconda3/envs/AutoSearch/lib/python3.7/site-packages/urllib3/connectionpool.py:847: InsecureRequestWarning: Unverified HTTPS request is being made. Adding certificate verification is strongly advised. See: https://urllib3.readthedocs.io/en/latest/advanced-usage.html#ssl-warnings\n",
      "  InsecureRequestWarning)\n"
     ]
    },
    {
     "name": "stdout",
     "output_type": "stream",
     "text": [
      "33 https://digital.tessmann.it/mediaArchive/media/image/Page/BZZ/1845/22_08_1845/BZZ_1845_08_22_4_object_458799.png?auth=35d62386ad49b9e9d12f649fa0be841f\n"
     ]
    },
    {
     "name": "stderr",
     "output_type": "stream",
     "text": [
      "/Users/nplattner/miniconda3/envs/AutoSearch/lib/python3.7/site-packages/urllib3/connectionpool.py:847: InsecureRequestWarning: Unverified HTTPS request is being made. Adding certificate verification is strongly advised. See: https://urllib3.readthedocs.io/en/latest/advanced-usage.html#ssl-warnings\n",
      "  InsecureRequestWarning)\n"
     ]
    },
    {
     "name": "stdout",
     "output_type": "stream",
     "text": [
      "33 https://digital.tessmann.it/mediaArchive/media/image/Page/BZZ/1845/22_08_1845/BZZ_1845_08_22_5_object_458802.png?auth=1c76d9befb56e96a3db9f2be3d7decda\n"
     ]
    },
    {
     "name": "stderr",
     "output_type": "stream",
     "text": [
      "/Users/nplattner/miniconda3/envs/AutoSearch/lib/python3.7/site-packages/urllib3/connectionpool.py:847: InsecureRequestWarning: Unverified HTTPS request is being made. Adding certificate verification is strongly advised. See: https://urllib3.readthedocs.io/en/latest/advanced-usage.html#ssl-warnings\n",
      "  InsecureRequestWarning)\n"
     ]
    },
    {
     "name": "stdout",
     "output_type": "stream",
     "text": [
      "33 https://digital.tessmann.it/mediaArchive/media/image/Page/BZZ/1845/22_08_1845/BZZ_1845_08_22_6_object_458803.png?auth=7649a1e7a2ba74041ace378c03049f3a\n"
     ]
    },
    {
     "name": "stderr",
     "output_type": "stream",
     "text": [
      "/Users/nplattner/miniconda3/envs/AutoSearch/lib/python3.7/site-packages/urllib3/connectionpool.py:847: InsecureRequestWarning: Unverified HTTPS request is being made. Adding certificate verification is strongly advised. See: https://urllib3.readthedocs.io/en/latest/advanced-usage.html#ssl-warnings\n",
      "  InsecureRequestWarning)\n"
     ]
    },
    {
     "name": "stdout",
     "output_type": "stream",
     "text": [
      "33 https://digital.tessmann.it/mediaArchive/media/image/Page/BZZ/1845/22_08_1845/BZZ_1845_08_22_7_object_458806.png?auth=6889f0726b9d9ccd727af2c1f02f45dd\n"
     ]
    },
    {
     "name": "stderr",
     "output_type": "stream",
     "text": [
      "/Users/nplattner/miniconda3/envs/AutoSearch/lib/python3.7/site-packages/urllib3/connectionpool.py:847: InsecureRequestWarning: Unverified HTTPS request is being made. Adding certificate verification is strongly advised. See: https://urllib3.readthedocs.io/en/latest/advanced-usage.html#ssl-warnings\n",
      "  InsecureRequestWarning)\n"
     ]
    },
    {
     "name": "stdout",
     "output_type": "stream",
     "text": [
      "33 https://digital.tessmann.it/mediaArchive/media/image/Page/BZZ/1845/22_08_1845/BZZ_1845_08_22_8_object_458809.png?auth=c2db92167e0f12e8e87d9b96f8019d19\n"
     ]
    },
    {
     "name": "stderr",
     "output_type": "stream",
     "text": [
      "/Users/nplattner/miniconda3/envs/AutoSearch/lib/python3.7/site-packages/urllib3/connectionpool.py:847: InsecureRequestWarning: Unverified HTTPS request is being made. Adding certificate verification is strongly advised. See: https://urllib3.readthedocs.io/en/latest/advanced-usage.html#ssl-warnings\n",
      "  InsecureRequestWarning)\n"
     ]
    },
    {
     "name": "stdout",
     "output_type": "stream",
     "text": [
      "33 https://digital.tessmann.it/mediaArchive/media/image/Page/BZZ/1845/22_08_1845/BZZ_1845_08_22_9_object_458810.png?auth=9c5faf3a3290e68b675a98cee0a04485\n"
     ]
    },
    {
     "name": "stderr",
     "output_type": "stream",
     "text": [
      "/Users/nplattner/miniconda3/envs/AutoSearch/lib/python3.7/site-packages/urllib3/connectionpool.py:847: InsecureRequestWarning: Unverified HTTPS request is being made. Adding certificate verification is strongly advised. See: https://urllib3.readthedocs.io/en/latest/advanced-usage.html#ssl-warnings\n",
      "  InsecureRequestWarning)\n"
     ]
    },
    {
     "name": "stdout",
     "output_type": "stream",
     "text": [
      "33 https://digital.tessmann.it/mediaArchive/media/image/Page/BZZ/1845/22_08_1845/BZZ_1845_08_22_10_object_458813.png?auth=c584ee64bbf1a4466c073b3569b63a7e\n"
     ]
    },
    {
     "name": "stderr",
     "output_type": "stream",
     "text": [
      "/Users/nplattner/miniconda3/envs/AutoSearch/lib/python3.7/site-packages/urllib3/connectionpool.py:847: InsecureRequestWarning: Unverified HTTPS request is being made. Adding certificate verification is strongly advised. See: https://urllib3.readthedocs.io/en/latest/advanced-usage.html#ssl-warnings\n",
      "  InsecureRequestWarning)\n"
     ]
    },
    {
     "name": "stdout",
     "output_type": "stream",
     "text": [
      "34 https://digital.tessmann.it/mediaArchive/media/image/Page/BZZ/1845/29_08_1845/BZZ_1845_08_29_1_object_458816.png?auth=5dac05fd67f0c0e4c6453d4a17580d23\n"
     ]
    },
    {
     "name": "stderr",
     "output_type": "stream",
     "text": [
      "/Users/nplattner/miniconda3/envs/AutoSearch/lib/python3.7/site-packages/urllib3/connectionpool.py:847: InsecureRequestWarning: Unverified HTTPS request is being made. Adding certificate verification is strongly advised. See: https://urllib3.readthedocs.io/en/latest/advanced-usage.html#ssl-warnings\n",
      "  InsecureRequestWarning)\n"
     ]
    },
    {
     "name": "stdout",
     "output_type": "stream",
     "text": [
      "34 https://digital.tessmann.it/mediaArchive/media/image/Page/BZZ/1845/29_08_1845/BZZ_1845_08_29_2_object_458818.png?auth=a51f3146daf9473164c7784395a9624f\n"
     ]
    },
    {
     "name": "stderr",
     "output_type": "stream",
     "text": [
      "/Users/nplattner/miniconda3/envs/AutoSearch/lib/python3.7/site-packages/urllib3/connectionpool.py:847: InsecureRequestWarning: Unverified HTTPS request is being made. Adding certificate verification is strongly advised. See: https://urllib3.readthedocs.io/en/latest/advanced-usage.html#ssl-warnings\n",
      "  InsecureRequestWarning)\n"
     ]
    },
    {
     "name": "stdout",
     "output_type": "stream",
     "text": [
      "34 https://digital.tessmann.it/mediaArchive/media/image/Page/BZZ/1845/29_08_1845/BZZ_1845_08_29_3_object_458820.png?auth=74e123554cda87a7fdcc3da66b49a42e\n"
     ]
    },
    {
     "name": "stderr",
     "output_type": "stream",
     "text": [
      "/Users/nplattner/miniconda3/envs/AutoSearch/lib/python3.7/site-packages/urllib3/connectionpool.py:847: InsecureRequestWarning: Unverified HTTPS request is being made. Adding certificate verification is strongly advised. See: https://urllib3.readthedocs.io/en/latest/advanced-usage.html#ssl-warnings\n",
      "  InsecureRequestWarning)\n"
     ]
    },
    {
     "name": "stdout",
     "output_type": "stream",
     "text": [
      "34 https://digital.tessmann.it/mediaArchive/media/image/Page/BZZ/1845/29_08_1845/BZZ_1845_08_29_4_object_458823.png?auth=dc2537298e9fdac9ff9629c3f4081109\n"
     ]
    },
    {
     "name": "stderr",
     "output_type": "stream",
     "text": [
      "/Users/nplattner/miniconda3/envs/AutoSearch/lib/python3.7/site-packages/urllib3/connectionpool.py:847: InsecureRequestWarning: Unverified HTTPS request is being made. Adding certificate verification is strongly advised. See: https://urllib3.readthedocs.io/en/latest/advanced-usage.html#ssl-warnings\n",
      "  InsecureRequestWarning)\n"
     ]
    },
    {
     "name": "stdout",
     "output_type": "stream",
     "text": [
      "34 https://digital.tessmann.it/mediaArchive/media/image/Page/BZZ/1845/29_08_1845/BZZ_1845_08_29_5_object_458825.png?auth=62aaae452b419d6f14488f6953202be6\n"
     ]
    },
    {
     "name": "stderr",
     "output_type": "stream",
     "text": [
      "/Users/nplattner/miniconda3/envs/AutoSearch/lib/python3.7/site-packages/urllib3/connectionpool.py:847: InsecureRequestWarning: Unverified HTTPS request is being made. Adding certificate verification is strongly advised. See: https://urllib3.readthedocs.io/en/latest/advanced-usage.html#ssl-warnings\n",
      "  InsecureRequestWarning)\n"
     ]
    },
    {
     "name": "stdout",
     "output_type": "stream",
     "text": [
      "34 https://digital.tessmann.it/mediaArchive/media/image/Page/BZZ/1845/29_08_1845/BZZ_1845_08_29_6_object_458827.png?auth=f9b9df5e431eff407bb1661b52b9892b\n"
     ]
    },
    {
     "name": "stderr",
     "output_type": "stream",
     "text": [
      "/Users/nplattner/miniconda3/envs/AutoSearch/lib/python3.7/site-packages/urllib3/connectionpool.py:847: InsecureRequestWarning: Unverified HTTPS request is being made. Adding certificate verification is strongly advised. See: https://urllib3.readthedocs.io/en/latest/advanced-usage.html#ssl-warnings\n",
      "  InsecureRequestWarning)\n"
     ]
    },
    {
     "name": "stdout",
     "output_type": "stream",
     "text": [
      "34 https://digital.tessmann.it/mediaArchive/media/image/Page/BZZ/1845/29_08_1845/BZZ_1845_08_29_7_object_458830.png?auth=1ef2fe9e17006bef062e7ef272f12d1a\n"
     ]
    },
    {
     "name": "stderr",
     "output_type": "stream",
     "text": [
      "/Users/nplattner/miniconda3/envs/AutoSearch/lib/python3.7/site-packages/urllib3/connectionpool.py:847: InsecureRequestWarning: Unverified HTTPS request is being made. Adding certificate verification is strongly advised. See: https://urllib3.readthedocs.io/en/latest/advanced-usage.html#ssl-warnings\n",
      "  InsecureRequestWarning)\n"
     ]
    },
    {
     "name": "stdout",
     "output_type": "stream",
     "text": [
      "34 https://digital.tessmann.it/mediaArchive/media/image/Page/BZZ/1845/29_08_1845/BZZ_1845_08_29_8_object_458832.png?auth=184ae2deca1ee2b89094dc0d535159d6\n"
     ]
    },
    {
     "name": "stderr",
     "output_type": "stream",
     "text": [
      "/Users/nplattner/miniconda3/envs/AutoSearch/lib/python3.7/site-packages/urllib3/connectionpool.py:847: InsecureRequestWarning: Unverified HTTPS request is being made. Adding certificate verification is strongly advised. See: https://urllib3.readthedocs.io/en/latest/advanced-usage.html#ssl-warnings\n",
      "  InsecureRequestWarning)\n"
     ]
    },
    {
     "name": "stdout",
     "output_type": "stream",
     "text": [
      "34 https://digital.tessmann.it/mediaArchive/media/image/Page/BZZ/1845/29_08_1845/BZZ_1845_08_29_9_object_458835.png?auth=61df6e33a98a2ea01ddbcb999afbab31\n"
     ]
    },
    {
     "name": "stderr",
     "output_type": "stream",
     "text": [
      "/Users/nplattner/miniconda3/envs/AutoSearch/lib/python3.7/site-packages/urllib3/connectionpool.py:847: InsecureRequestWarning: Unverified HTTPS request is being made. Adding certificate verification is strongly advised. See: https://urllib3.readthedocs.io/en/latest/advanced-usage.html#ssl-warnings\n",
      "  InsecureRequestWarning)\n"
     ]
    },
    {
     "name": "stdout",
     "output_type": "stream",
     "text": [
      "34 https://digital.tessmann.it/mediaArchive/media/image/Page/BZZ/1845/29_08_1845/BZZ_1845_08_29_10_object_458837.png?auth=5c59995e5163cd1d17dc08fe034b373f\n"
     ]
    },
    {
     "name": "stderr",
     "output_type": "stream",
     "text": [
      "/Users/nplattner/miniconda3/envs/AutoSearch/lib/python3.7/site-packages/urllib3/connectionpool.py:847: InsecureRequestWarning: Unverified HTTPS request is being made. Adding certificate verification is strongly advised. See: https://urllib3.readthedocs.io/en/latest/advanced-usage.html#ssl-warnings\n",
      "  InsecureRequestWarning)\n"
     ]
    },
    {
     "name": "stdout",
     "output_type": "stream",
     "text": [
      "35 https://digital.tessmann.it/mediaArchive/media/image/Page/BZZ/1845/05_09_1845/BZZ_1845_09_05_1_object_458839.png?auth=8dee645a54d6c75ac4eb006f84c1c436\n"
     ]
    },
    {
     "name": "stderr",
     "output_type": "stream",
     "text": [
      "/Users/nplattner/miniconda3/envs/AutoSearch/lib/python3.7/site-packages/urllib3/connectionpool.py:847: InsecureRequestWarning: Unverified HTTPS request is being made. Adding certificate verification is strongly advised. See: https://urllib3.readthedocs.io/en/latest/advanced-usage.html#ssl-warnings\n",
      "  InsecureRequestWarning)\n"
     ]
    },
    {
     "name": "stdout",
     "output_type": "stream",
     "text": [
      "35 https://digital.tessmann.it/mediaArchive/media/image/Page/BZZ/1845/05_09_1845/BZZ_1845_09_05_2_object_458842.png?auth=3953c0f6d386437f5a285a33d57901f0\n"
     ]
    },
    {
     "name": "stderr",
     "output_type": "stream",
     "text": [
      "/Users/nplattner/miniconda3/envs/AutoSearch/lib/python3.7/site-packages/urllib3/connectionpool.py:847: InsecureRequestWarning: Unverified HTTPS request is being made. Adding certificate verification is strongly advised. See: https://urllib3.readthedocs.io/en/latest/advanced-usage.html#ssl-warnings\n",
      "  InsecureRequestWarning)\n"
     ]
    },
    {
     "name": "stdout",
     "output_type": "stream",
     "text": [
      "35 https://digital.tessmann.it/mediaArchive/media/image/Page/BZZ/1845/05_09_1845/BZZ_1845_09_05_3_object_458845.png?auth=fb2ec8ad9002413c04d514e83bd46160\n"
     ]
    },
    {
     "name": "stderr",
     "output_type": "stream",
     "text": [
      "/Users/nplattner/miniconda3/envs/AutoSearch/lib/python3.7/site-packages/urllib3/connectionpool.py:847: InsecureRequestWarning: Unverified HTTPS request is being made. Adding certificate verification is strongly advised. See: https://urllib3.readthedocs.io/en/latest/advanced-usage.html#ssl-warnings\n",
      "  InsecureRequestWarning)\n"
     ]
    },
    {
     "name": "stdout",
     "output_type": "stream",
     "text": [
      "35 https://digital.tessmann.it/mediaArchive/media/image/Page/BZZ/1845/05_09_1845/BZZ_1845_09_05_4_object_458846.png?auth=f98b2cca434910ef7e4af1e00ec12264\n"
     ]
    },
    {
     "name": "stderr",
     "output_type": "stream",
     "text": [
      "/Users/nplattner/miniconda3/envs/AutoSearch/lib/python3.7/site-packages/urllib3/connectionpool.py:847: InsecureRequestWarning: Unverified HTTPS request is being made. Adding certificate verification is strongly advised. See: https://urllib3.readthedocs.io/en/latest/advanced-usage.html#ssl-warnings\n",
      "  InsecureRequestWarning)\n"
     ]
    },
    {
     "name": "stdout",
     "output_type": "stream",
     "text": [
      "35 https://digital.tessmann.it/mediaArchive/media/image/Page/BZZ/1845/05_09_1845/BZZ_1845_09_05_5_object_458849.png?auth=b32178cb900230bda40301404fd602d7\n"
     ]
    },
    {
     "name": "stderr",
     "output_type": "stream",
     "text": [
      "/Users/nplattner/miniconda3/envs/AutoSearch/lib/python3.7/site-packages/urllib3/connectionpool.py:847: InsecureRequestWarning: Unverified HTTPS request is being made. Adding certificate verification is strongly advised. See: https://urllib3.readthedocs.io/en/latest/advanced-usage.html#ssl-warnings\n",
      "  InsecureRequestWarning)\n"
     ]
    },
    {
     "name": "stdout",
     "output_type": "stream",
     "text": [
      "35 https://digital.tessmann.it/mediaArchive/media/image/Page/BZZ/1845/05_09_1845/BZZ_1845_09_05_6_object_458852.png?auth=1b7be7ba252de98f4fdcd7bb8e7e9d97\n"
     ]
    },
    {
     "name": "stderr",
     "output_type": "stream",
     "text": [
      "/Users/nplattner/miniconda3/envs/AutoSearch/lib/python3.7/site-packages/urllib3/connectionpool.py:847: InsecureRequestWarning: Unverified HTTPS request is being made. Adding certificate verification is strongly advised. See: https://urllib3.readthedocs.io/en/latest/advanced-usage.html#ssl-warnings\n",
      "  InsecureRequestWarning)\n"
     ]
    },
    {
     "name": "stdout",
     "output_type": "stream",
     "text": [
      "35 https://digital.tessmann.it/mediaArchive/media/image/Page/BZZ/1845/05_09_1845/BZZ_1845_09_05_7_object_458854.png?auth=aeab9419ce50f63f1d7042860ac91b0a\n"
     ]
    },
    {
     "name": "stderr",
     "output_type": "stream",
     "text": [
      "/Users/nplattner/miniconda3/envs/AutoSearch/lib/python3.7/site-packages/urllib3/connectionpool.py:847: InsecureRequestWarning: Unverified HTTPS request is being made. Adding certificate verification is strongly advised. See: https://urllib3.readthedocs.io/en/latest/advanced-usage.html#ssl-warnings\n",
      "  InsecureRequestWarning)\n"
     ]
    },
    {
     "name": "stdout",
     "output_type": "stream",
     "text": [
      "35 https://digital.tessmann.it/mediaArchive/media/image/Page/BZZ/1845/05_09_1845/BZZ_1845_09_05_8_object_458856.png?auth=2ed0d18c57c69d3d37600cbab9ba59f6\n"
     ]
    },
    {
     "name": "stderr",
     "output_type": "stream",
     "text": [
      "/Users/nplattner/miniconda3/envs/AutoSearch/lib/python3.7/site-packages/urllib3/connectionpool.py:847: InsecureRequestWarning: Unverified HTTPS request is being made. Adding certificate verification is strongly advised. See: https://urllib3.readthedocs.io/en/latest/advanced-usage.html#ssl-warnings\n",
      "  InsecureRequestWarning)\n"
     ]
    },
    {
     "name": "stdout",
     "output_type": "stream",
     "text": [
      "35 https://digital.tessmann.it/mediaArchive/media/image/Page/BZZ/1845/05_09_1845/BZZ_1845_09_05_9_object_458859.png?auth=c211b7f761fac422e1bfb53787e7cb07\n"
     ]
    },
    {
     "name": "stderr",
     "output_type": "stream",
     "text": [
      "/Users/nplattner/miniconda3/envs/AutoSearch/lib/python3.7/site-packages/urllib3/connectionpool.py:847: InsecureRequestWarning: Unverified HTTPS request is being made. Adding certificate verification is strongly advised. See: https://urllib3.readthedocs.io/en/latest/advanced-usage.html#ssl-warnings\n",
      "  InsecureRequestWarning)\n"
     ]
    },
    {
     "name": "stdout",
     "output_type": "stream",
     "text": [
      "35 https://digital.tessmann.it/mediaArchive/media/image/Page/BZZ/1845/05_09_1845/BZZ_1845_09_05_10_object_458861.png?auth=175cfc8ef373b7e11973199aa71dec49\n"
     ]
    },
    {
     "name": "stderr",
     "output_type": "stream",
     "text": [
      "/Users/nplattner/miniconda3/envs/AutoSearch/lib/python3.7/site-packages/urllib3/connectionpool.py:847: InsecureRequestWarning: Unverified HTTPS request is being made. Adding certificate verification is strongly advised. See: https://urllib3.readthedocs.io/en/latest/advanced-usage.html#ssl-warnings\n",
      "  InsecureRequestWarning)\n"
     ]
    },
    {
     "name": "stdout",
     "output_type": "stream",
     "text": [
      "35 https://digital.tessmann.it/mediaArchive/media/image/Page/BZZ/1845/05_09_1845/BZZ_1845_09_05_11_object_458864.png?auth=f1c93e2206136a5ee8b30235d48f0c09\n"
     ]
    },
    {
     "name": "stderr",
     "output_type": "stream",
     "text": [
      "/Users/nplattner/miniconda3/envs/AutoSearch/lib/python3.7/site-packages/urllib3/connectionpool.py:847: InsecureRequestWarning: Unverified HTTPS request is being made. Adding certificate verification is strongly advised. See: https://urllib3.readthedocs.io/en/latest/advanced-usage.html#ssl-warnings\n",
      "  InsecureRequestWarning)\n"
     ]
    },
    {
     "name": "stdout",
     "output_type": "stream",
     "text": [
      "36 https://digital.tessmann.it/mediaArchive/media/image/Page/BZZ/1845/12_09_1845/BZZ_1845_09_12_1_object_458868.png?auth=64cf0d300fe6448a2b0acdffb0181c15\n"
     ]
    },
    {
     "name": "stderr",
     "output_type": "stream",
     "text": [
      "/Users/nplattner/miniconda3/envs/AutoSearch/lib/python3.7/site-packages/urllib3/connectionpool.py:847: InsecureRequestWarning: Unverified HTTPS request is being made. Adding certificate verification is strongly advised. See: https://urllib3.readthedocs.io/en/latest/advanced-usage.html#ssl-warnings\n",
      "  InsecureRequestWarning)\n"
     ]
    },
    {
     "name": "stdout",
     "output_type": "stream",
     "text": [
      "36 https://digital.tessmann.it/mediaArchive/media/image/Page/BZZ/1845/12_09_1845/BZZ_1845_09_12_2_object_458871.png?auth=342d73a6ec269f89d43108b283e214ab\n"
     ]
    },
    {
     "name": "stderr",
     "output_type": "stream",
     "text": [
      "/Users/nplattner/miniconda3/envs/AutoSearch/lib/python3.7/site-packages/urllib3/connectionpool.py:847: InsecureRequestWarning: Unverified HTTPS request is being made. Adding certificate verification is strongly advised. See: https://urllib3.readthedocs.io/en/latest/advanced-usage.html#ssl-warnings\n",
      "  InsecureRequestWarning)\n"
     ]
    },
    {
     "name": "stdout",
     "output_type": "stream",
     "text": [
      "36 https://digital.tessmann.it/mediaArchive/media/image/Page/BZZ/1845/12_09_1845/BZZ_1845_09_12_3_object_458873.png?auth=47f065612e2c6f872791ad526442cf8f\n"
     ]
    },
    {
     "name": "stderr",
     "output_type": "stream",
     "text": [
      "/Users/nplattner/miniconda3/envs/AutoSearch/lib/python3.7/site-packages/urllib3/connectionpool.py:847: InsecureRequestWarning: Unverified HTTPS request is being made. Adding certificate verification is strongly advised. See: https://urllib3.readthedocs.io/en/latest/advanced-usage.html#ssl-warnings\n",
      "  InsecureRequestWarning)\n"
     ]
    },
    {
     "name": "stdout",
     "output_type": "stream",
     "text": [
      "36 https://digital.tessmann.it/mediaArchive/media/image/Page/BZZ/1845/12_09_1845/BZZ_1845_09_12_4_object_458876.png?auth=f35cf934ea170ac6ab63860ed19e735b\n"
     ]
    },
    {
     "name": "stderr",
     "output_type": "stream",
     "text": [
      "/Users/nplattner/miniconda3/envs/AutoSearch/lib/python3.7/site-packages/urllib3/connectionpool.py:847: InsecureRequestWarning: Unverified HTTPS request is being made. Adding certificate verification is strongly advised. See: https://urllib3.readthedocs.io/en/latest/advanced-usage.html#ssl-warnings\n",
      "  InsecureRequestWarning)\n"
     ]
    },
    {
     "name": "stdout",
     "output_type": "stream",
     "text": [
      "36 https://digital.tessmann.it/mediaArchive/media/image/Page/BZZ/1845/12_09_1845/BZZ_1845_09_12_5_object_458878.png?auth=43653f4471ef2d7d08b4e03ede49dc88\n"
     ]
    },
    {
     "name": "stderr",
     "output_type": "stream",
     "text": [
      "/Users/nplattner/miniconda3/envs/AutoSearch/lib/python3.7/site-packages/urllib3/connectionpool.py:847: InsecureRequestWarning: Unverified HTTPS request is being made. Adding certificate verification is strongly advised. See: https://urllib3.readthedocs.io/en/latest/advanced-usage.html#ssl-warnings\n",
      "  InsecureRequestWarning)\n"
     ]
    },
    {
     "name": "stdout",
     "output_type": "stream",
     "text": [
      "36 https://digital.tessmann.it/mediaArchive/media/image/Page/BZZ/1845/12_09_1845/BZZ_1845_09_12_6_object_458881.png?auth=8c59e3984590e8c146933a831ee31ece\n"
     ]
    },
    {
     "name": "stderr",
     "output_type": "stream",
     "text": [
      "/Users/nplattner/miniconda3/envs/AutoSearch/lib/python3.7/site-packages/urllib3/connectionpool.py:847: InsecureRequestWarning: Unverified HTTPS request is being made. Adding certificate verification is strongly advised. See: https://urllib3.readthedocs.io/en/latest/advanced-usage.html#ssl-warnings\n",
      "  InsecureRequestWarning)\n"
     ]
    },
    {
     "name": "stdout",
     "output_type": "stream",
     "text": [
      "36 https://digital.tessmann.it/mediaArchive/media/image/Page/BZZ/1845/12_09_1845/BZZ_1845_09_12_7_object_458883.png?auth=bdaa3d710ed265885245063340b168e7\n"
     ]
    },
    {
     "name": "stderr",
     "output_type": "stream",
     "text": [
      "/Users/nplattner/miniconda3/envs/AutoSearch/lib/python3.7/site-packages/urllib3/connectionpool.py:847: InsecureRequestWarning: Unverified HTTPS request is being made. Adding certificate verification is strongly advised. See: https://urllib3.readthedocs.io/en/latest/advanced-usage.html#ssl-warnings\n",
      "  InsecureRequestWarning)\n"
     ]
    },
    {
     "name": "stdout",
     "output_type": "stream",
     "text": [
      "36 https://digital.tessmann.it/mediaArchive/media/image/Page/BZZ/1845/12_09_1845/BZZ_1845_09_12_8_object_458885.png?auth=31d1f61253fb8ffd93469fc547acd022\n"
     ]
    },
    {
     "name": "stderr",
     "output_type": "stream",
     "text": [
      "/Users/nplattner/miniconda3/envs/AutoSearch/lib/python3.7/site-packages/urllib3/connectionpool.py:847: InsecureRequestWarning: Unverified HTTPS request is being made. Adding certificate verification is strongly advised. See: https://urllib3.readthedocs.io/en/latest/advanced-usage.html#ssl-warnings\n",
      "  InsecureRequestWarning)\n"
     ]
    },
    {
     "name": "stdout",
     "output_type": "stream",
     "text": [
      "36 https://digital.tessmann.it/mediaArchive/media/image/Page/BZZ/1845/12_09_1845/BZZ_1845_09_12_9_object_458888.png?auth=2d7229eae8ef45a9456405d00c74e882\n"
     ]
    },
    {
     "name": "stderr",
     "output_type": "stream",
     "text": [
      "/Users/nplattner/miniconda3/envs/AutoSearch/lib/python3.7/site-packages/urllib3/connectionpool.py:847: InsecureRequestWarning: Unverified HTTPS request is being made. Adding certificate verification is strongly advised. See: https://urllib3.readthedocs.io/en/latest/advanced-usage.html#ssl-warnings\n",
      "  InsecureRequestWarning)\n"
     ]
    },
    {
     "name": "stdout",
     "output_type": "stream",
     "text": [
      "36 https://digital.tessmann.it/mediaArchive/media/image/Page/BZZ/1845/12_09_1845/BZZ_1845_09_12_10_object_458891.png?auth=1c5c913c304127a1c8a599449a028a5f\n"
     ]
    },
    {
     "name": "stderr",
     "output_type": "stream",
     "text": [
      "/Users/nplattner/miniconda3/envs/AutoSearch/lib/python3.7/site-packages/urllib3/connectionpool.py:847: InsecureRequestWarning: Unverified HTTPS request is being made. Adding certificate verification is strongly advised. See: https://urllib3.readthedocs.io/en/latest/advanced-usage.html#ssl-warnings\n",
      "  InsecureRequestWarning)\n"
     ]
    },
    {
     "name": "stdout",
     "output_type": "stream",
     "text": [
      "36 https://digital.tessmann.it/mediaArchive/media/image/Page/BZZ/1845/12_09_1845/BZZ_1845_09_12_11_object_458892.png?auth=b47d894075ddf0b3e4ece5b0a4576b64\n"
     ]
    },
    {
     "name": "stderr",
     "output_type": "stream",
     "text": [
      "/Users/nplattner/miniconda3/envs/AutoSearch/lib/python3.7/site-packages/urllib3/connectionpool.py:847: InsecureRequestWarning: Unverified HTTPS request is being made. Adding certificate verification is strongly advised. See: https://urllib3.readthedocs.io/en/latest/advanced-usage.html#ssl-warnings\n",
      "  InsecureRequestWarning)\n"
     ]
    },
    {
     "name": "stdout",
     "output_type": "stream",
     "text": [
      "37 https://digital.tessmann.it/mediaArchive/media/image/Page/BZZ/1845/19_09_1845/BZZ_1845_09_19_1_object_458897.png?auth=4c10fbef21d85e17ea3ae0a193bdea56\n"
     ]
    },
    {
     "name": "stderr",
     "output_type": "stream",
     "text": [
      "/Users/nplattner/miniconda3/envs/AutoSearch/lib/python3.7/site-packages/urllib3/connectionpool.py:847: InsecureRequestWarning: Unverified HTTPS request is being made. Adding certificate verification is strongly advised. See: https://urllib3.readthedocs.io/en/latest/advanced-usage.html#ssl-warnings\n",
      "  InsecureRequestWarning)\n"
     ]
    },
    {
     "name": "stdout",
     "output_type": "stream",
     "text": [
      "37 https://digital.tessmann.it/mediaArchive/media/image/Page/BZZ/1845/19_09_1845/BZZ_1845_09_19_2_object_458900.png?auth=27d197c2aefdb37f49b267beeb946e9e\n"
     ]
    },
    {
     "name": "stderr",
     "output_type": "stream",
     "text": [
      "/Users/nplattner/miniconda3/envs/AutoSearch/lib/python3.7/site-packages/urllib3/connectionpool.py:847: InsecureRequestWarning: Unverified HTTPS request is being made. Adding certificate verification is strongly advised. See: https://urllib3.readthedocs.io/en/latest/advanced-usage.html#ssl-warnings\n",
      "  InsecureRequestWarning)\n"
     ]
    },
    {
     "name": "stdout",
     "output_type": "stream",
     "text": [
      "37 https://digital.tessmann.it/mediaArchive/media/image/Page/BZZ/1845/19_09_1845/BZZ_1845_09_19_3_object_458902.png?auth=c80a1467722815bb0b152532810405c9\n"
     ]
    },
    {
     "name": "stderr",
     "output_type": "stream",
     "text": [
      "/Users/nplattner/miniconda3/envs/AutoSearch/lib/python3.7/site-packages/urllib3/connectionpool.py:847: InsecureRequestWarning: Unverified HTTPS request is being made. Adding certificate verification is strongly advised. See: https://urllib3.readthedocs.io/en/latest/advanced-usage.html#ssl-warnings\n",
      "  InsecureRequestWarning)\n"
     ]
    },
    {
     "name": "stdout",
     "output_type": "stream",
     "text": [
      "37 https://digital.tessmann.it/mediaArchive/media/image/Page/BZZ/1845/19_09_1845/BZZ_1845_09_19_4_object_458904.png?auth=e71b31a12b69646490f46e122f714b44\n"
     ]
    },
    {
     "name": "stderr",
     "output_type": "stream",
     "text": [
      "/Users/nplattner/miniconda3/envs/AutoSearch/lib/python3.7/site-packages/urllib3/connectionpool.py:847: InsecureRequestWarning: Unverified HTTPS request is being made. Adding certificate verification is strongly advised. See: https://urllib3.readthedocs.io/en/latest/advanced-usage.html#ssl-warnings\n",
      "  InsecureRequestWarning)\n"
     ]
    },
    {
     "name": "stdout",
     "output_type": "stream",
     "text": [
      "37 https://digital.tessmann.it/mediaArchive/media/image/Page/BZZ/1845/19_09_1845/BZZ_1845_09_19_5_object_458907.png?auth=2e12f3fc63dddd1967c43f5aef9b6db9\n"
     ]
    },
    {
     "name": "stderr",
     "output_type": "stream",
     "text": [
      "/Users/nplattner/miniconda3/envs/AutoSearch/lib/python3.7/site-packages/urllib3/connectionpool.py:847: InsecureRequestWarning: Unverified HTTPS request is being made. Adding certificate verification is strongly advised. See: https://urllib3.readthedocs.io/en/latest/advanced-usage.html#ssl-warnings\n",
      "  InsecureRequestWarning)\n"
     ]
    },
    {
     "name": "stdout",
     "output_type": "stream",
     "text": [
      "37 https://digital.tessmann.it/mediaArchive/media/image/Page/BZZ/1845/19_09_1845/BZZ_1845_09_19_6_object_458910.png?auth=231349e15edfa16381018f36ce81b7c5\n"
     ]
    },
    {
     "name": "stderr",
     "output_type": "stream",
     "text": [
      "/Users/nplattner/miniconda3/envs/AutoSearch/lib/python3.7/site-packages/urllib3/connectionpool.py:847: InsecureRequestWarning: Unverified HTTPS request is being made. Adding certificate verification is strongly advised. See: https://urllib3.readthedocs.io/en/latest/advanced-usage.html#ssl-warnings\n",
      "  InsecureRequestWarning)\n"
     ]
    },
    {
     "name": "stdout",
     "output_type": "stream",
     "text": [
      "37 https://digital.tessmann.it/mediaArchive/media/image/Page/BZZ/1845/19_09_1845/BZZ_1845_09_19_7_object_458911.png?auth=bcb641886c2f1965c62c7eb7581193f0\n"
     ]
    },
    {
     "name": "stderr",
     "output_type": "stream",
     "text": [
      "/Users/nplattner/miniconda3/envs/AutoSearch/lib/python3.7/site-packages/urllib3/connectionpool.py:847: InsecureRequestWarning: Unverified HTTPS request is being made. Adding certificate verification is strongly advised. See: https://urllib3.readthedocs.io/en/latest/advanced-usage.html#ssl-warnings\n",
      "  InsecureRequestWarning)\n"
     ]
    },
    {
     "name": "stdout",
     "output_type": "stream",
     "text": [
      "37 https://digital.tessmann.it/mediaArchive/media/image/Page/BZZ/1845/19_09_1845/BZZ_1845_09_19_8_object_458914.png?auth=609d696f5de5b9d1b77d4b6a7031a9fc\n"
     ]
    },
    {
     "name": "stderr",
     "output_type": "stream",
     "text": [
      "/Users/nplattner/miniconda3/envs/AutoSearch/lib/python3.7/site-packages/urllib3/connectionpool.py:847: InsecureRequestWarning: Unverified HTTPS request is being made. Adding certificate verification is strongly advised. See: https://urllib3.readthedocs.io/en/latest/advanced-usage.html#ssl-warnings\n",
      "  InsecureRequestWarning)\n"
     ]
    },
    {
     "name": "stdout",
     "output_type": "stream",
     "text": [
      "37 https://digital.tessmann.it/mediaArchive/media/image/Page/BZZ/1845/19_09_1845/BZZ_1845_09_19_9_object_458917.png?auth=b0fdb42f9a37accb19682b49a1db88e8\n"
     ]
    },
    {
     "name": "stderr",
     "output_type": "stream",
     "text": [
      "/Users/nplattner/miniconda3/envs/AutoSearch/lib/python3.7/site-packages/urllib3/connectionpool.py:847: InsecureRequestWarning: Unverified HTTPS request is being made. Adding certificate verification is strongly advised. See: https://urllib3.readthedocs.io/en/latest/advanced-usage.html#ssl-warnings\n",
      "  InsecureRequestWarning)\n"
     ]
    },
    {
     "name": "stdout",
     "output_type": "stream",
     "text": [
      "37 https://digital.tessmann.it/mediaArchive/media/image/Page/BZZ/1845/19_09_1845/BZZ_1845_09_19_10_object_458918.png?auth=250903ea13235eda5cab55039ffbec43\n"
     ]
    },
    {
     "name": "stderr",
     "output_type": "stream",
     "text": [
      "/Users/nplattner/miniconda3/envs/AutoSearch/lib/python3.7/site-packages/urllib3/connectionpool.py:847: InsecureRequestWarning: Unverified HTTPS request is being made. Adding certificate verification is strongly advised. See: https://urllib3.readthedocs.io/en/latest/advanced-usage.html#ssl-warnings\n",
      "  InsecureRequestWarning)\n"
     ]
    },
    {
     "name": "stdout",
     "output_type": "stream",
     "text": [
      "37 https://digital.tessmann.it/mediaArchive/media/image/Page/BZZ/1845/19_09_1845/BZZ_1845_09_19_11_object_458921.png?auth=59075a68ceccaf24dbd28527e9bdc78d\n"
     ]
    },
    {
     "name": "stderr",
     "output_type": "stream",
     "text": [
      "/Users/nplattner/miniconda3/envs/AutoSearch/lib/python3.7/site-packages/urllib3/connectionpool.py:847: InsecureRequestWarning: Unverified HTTPS request is being made. Adding certificate verification is strongly advised. See: https://urllib3.readthedocs.io/en/latest/advanced-usage.html#ssl-warnings\n",
      "  InsecureRequestWarning)\n"
     ]
    },
    {
     "name": "stdout",
     "output_type": "stream",
     "text": [
      "38 https://digital.tessmann.it/mediaArchive/media/image/Page/BZZ/1845/03_10_1845/BZZ_1845_10_03_1_object_458566.png?auth=eb0fbcd2a16fc7d058b3134b85ae28fe\n"
     ]
    },
    {
     "name": "stderr",
     "output_type": "stream",
     "text": [
      "/Users/nplattner/miniconda3/envs/AutoSearch/lib/python3.7/site-packages/urllib3/connectionpool.py:847: InsecureRequestWarning: Unverified HTTPS request is being made. Adding certificate verification is strongly advised. See: https://urllib3.readthedocs.io/en/latest/advanced-usage.html#ssl-warnings\n",
      "  InsecureRequestWarning)\n"
     ]
    },
    {
     "name": "stdout",
     "output_type": "stream",
     "text": [
      "38 https://digital.tessmann.it/mediaArchive/media/image/Page/BZZ/1845/03_10_1845/BZZ_1845_10_03_2_object_458568.png?auth=63038ba4d00c74a002315cbbf45e23d3\n"
     ]
    },
    {
     "name": "stderr",
     "output_type": "stream",
     "text": [
      "/Users/nplattner/miniconda3/envs/AutoSearch/lib/python3.7/site-packages/urllib3/connectionpool.py:847: InsecureRequestWarning: Unverified HTTPS request is being made. Adding certificate verification is strongly advised. See: https://urllib3.readthedocs.io/en/latest/advanced-usage.html#ssl-warnings\n",
      "  InsecureRequestWarning)\n"
     ]
    },
    {
     "name": "stdout",
     "output_type": "stream",
     "text": [
      "38 https://digital.tessmann.it/mediaArchive/media/image/Page/BZZ/1845/03_10_1845/BZZ_1845_10_03_3_object_458571.png?auth=7fa6781fcea4c7faf3148873dfce0397\n"
     ]
    },
    {
     "name": "stderr",
     "output_type": "stream",
     "text": [
      "/Users/nplattner/miniconda3/envs/AutoSearch/lib/python3.7/site-packages/urllib3/connectionpool.py:847: InsecureRequestWarning: Unverified HTTPS request is being made. Adding certificate verification is strongly advised. See: https://urllib3.readthedocs.io/en/latest/advanced-usage.html#ssl-warnings\n",
      "  InsecureRequestWarning)\n"
     ]
    },
    {
     "name": "stdout",
     "output_type": "stream",
     "text": [
      "38 https://digital.tessmann.it/mediaArchive/media/image/Page/BZZ/1845/03_10_1845/BZZ_1845_10_03_4_object_458573.png?auth=07a7ac73e4e1a018fc640621378179c0\n"
     ]
    },
    {
     "name": "stderr",
     "output_type": "stream",
     "text": [
      "/Users/nplattner/miniconda3/envs/AutoSearch/lib/python3.7/site-packages/urllib3/connectionpool.py:847: InsecureRequestWarning: Unverified HTTPS request is being made. Adding certificate verification is strongly advised. See: https://urllib3.readthedocs.io/en/latest/advanced-usage.html#ssl-warnings\n",
      "  InsecureRequestWarning)\n"
     ]
    },
    {
     "name": "stdout",
     "output_type": "stream",
     "text": [
      "38 https://digital.tessmann.it/mediaArchive/media/image/Page/BZZ/1845/03_10_1845/BZZ_1845_10_03_5_object_458575.png?auth=17fe9729fe814493eee9885c7e09f374\n"
     ]
    },
    {
     "name": "stderr",
     "output_type": "stream",
     "text": [
      "/Users/nplattner/miniconda3/envs/AutoSearch/lib/python3.7/site-packages/urllib3/connectionpool.py:847: InsecureRequestWarning: Unverified HTTPS request is being made. Adding certificate verification is strongly advised. See: https://urllib3.readthedocs.io/en/latest/advanced-usage.html#ssl-warnings\n",
      "  InsecureRequestWarning)\n"
     ]
    },
    {
     "name": "stdout",
     "output_type": "stream",
     "text": [
      "38 https://digital.tessmann.it/mediaArchive/media/image/Page/BZZ/1845/03_10_1845/BZZ_1845_10_03_6_object_458578.png?auth=b174fe31f03a8419a7eb7c3ecb9bf586\n"
     ]
    },
    {
     "name": "stderr",
     "output_type": "stream",
     "text": [
      "/Users/nplattner/miniconda3/envs/AutoSearch/lib/python3.7/site-packages/urllib3/connectionpool.py:847: InsecureRequestWarning: Unverified HTTPS request is being made. Adding certificate verification is strongly advised. See: https://urllib3.readthedocs.io/en/latest/advanced-usage.html#ssl-warnings\n",
      "  InsecureRequestWarning)\n"
     ]
    },
    {
     "name": "stdout",
     "output_type": "stream",
     "text": [
      "38 https://digital.tessmann.it/mediaArchive/media/image/Page/BZZ/1845/03_10_1845/BZZ_1845_10_03_7_object_458580.png?auth=222037209d3a51805368c79b316bd3e5\n"
     ]
    },
    {
     "name": "stderr",
     "output_type": "stream",
     "text": [
      "/Users/nplattner/miniconda3/envs/AutoSearch/lib/python3.7/site-packages/urllib3/connectionpool.py:847: InsecureRequestWarning: Unverified HTTPS request is being made. Adding certificate verification is strongly advised. See: https://urllib3.readthedocs.io/en/latest/advanced-usage.html#ssl-warnings\n",
      "  InsecureRequestWarning)\n"
     ]
    },
    {
     "name": "stdout",
     "output_type": "stream",
     "text": [
      "38 https://digital.tessmann.it/mediaArchive/media/image/Page/BZZ/1845/03_10_1845/BZZ_1845_10_03_8_object_458583.png?auth=3b03ce7b14af8700815c7d9522e15d0f\n"
     ]
    },
    {
     "name": "stderr",
     "output_type": "stream",
     "text": [
      "/Users/nplattner/miniconda3/envs/AutoSearch/lib/python3.7/site-packages/urllib3/connectionpool.py:847: InsecureRequestWarning: Unverified HTTPS request is being made. Adding certificate verification is strongly advised. See: https://urllib3.readthedocs.io/en/latest/advanced-usage.html#ssl-warnings\n",
      "  InsecureRequestWarning)\n"
     ]
    },
    {
     "name": "stdout",
     "output_type": "stream",
     "text": [
      "38 https://digital.tessmann.it/mediaArchive/media/image/Page/BZZ/1845/03_10_1845/BZZ_1845_10_03_9_object_458585.png?auth=f117961457559983ef1898a555d30e47\n"
     ]
    },
    {
     "name": "stderr",
     "output_type": "stream",
     "text": [
      "/Users/nplattner/miniconda3/envs/AutoSearch/lib/python3.7/site-packages/urllib3/connectionpool.py:847: InsecureRequestWarning: Unverified HTTPS request is being made. Adding certificate verification is strongly advised. See: https://urllib3.readthedocs.io/en/latest/advanced-usage.html#ssl-warnings\n",
      "  InsecureRequestWarning)\n"
     ]
    },
    {
     "name": "stdout",
     "output_type": "stream",
     "text": [
      "39 https://digital.tessmann.it/mediaArchive/media/image/Page/BZZ/1845/10_10_1845/BZZ_1845_10_10_1_object_458587.png?auth=c04b8a64f9d8492efcd56f85c4bc8d65\n"
     ]
    },
    {
     "name": "stderr",
     "output_type": "stream",
     "text": [
      "/Users/nplattner/miniconda3/envs/AutoSearch/lib/python3.7/site-packages/urllib3/connectionpool.py:847: InsecureRequestWarning: Unverified HTTPS request is being made. Adding certificate verification is strongly advised. See: https://urllib3.readthedocs.io/en/latest/advanced-usage.html#ssl-warnings\n",
      "  InsecureRequestWarning)\n"
     ]
    },
    {
     "name": "stdout",
     "output_type": "stream",
     "text": [
      "39 https://digital.tessmann.it/mediaArchive/media/image/Page/BZZ/1845/10_10_1845/BZZ_1845_10_10_2_object_458590.png?auth=5595649358d0005b010acce918a9f77b\n"
     ]
    },
    {
     "name": "stderr",
     "output_type": "stream",
     "text": [
      "/Users/nplattner/miniconda3/envs/AutoSearch/lib/python3.7/site-packages/urllib3/connectionpool.py:847: InsecureRequestWarning: Unverified HTTPS request is being made. Adding certificate verification is strongly advised. See: https://urllib3.readthedocs.io/en/latest/advanced-usage.html#ssl-warnings\n",
      "  InsecureRequestWarning)\n"
     ]
    },
    {
     "name": "stdout",
     "output_type": "stream",
     "text": [
      "39 https://digital.tessmann.it/mediaArchive/media/image/Page/BZZ/1845/10_10_1845/BZZ_1845_10_10_3_object_458593.png?auth=e2ec9351581616412622819ec711314e\n"
     ]
    },
    {
     "name": "stderr",
     "output_type": "stream",
     "text": [
      "/Users/nplattner/miniconda3/envs/AutoSearch/lib/python3.7/site-packages/urllib3/connectionpool.py:847: InsecureRequestWarning: Unverified HTTPS request is being made. Adding certificate verification is strongly advised. See: https://urllib3.readthedocs.io/en/latest/advanced-usage.html#ssl-warnings\n",
      "  InsecureRequestWarning)\n"
     ]
    },
    {
     "name": "stdout",
     "output_type": "stream",
     "text": [
      "39 https://digital.tessmann.it/mediaArchive/media/image/Page/BZZ/1845/10_10_1845/BZZ_1845_10_10_4_object_458594.png?auth=de599e711245860099741a3640bcfa93\n"
     ]
    },
    {
     "name": "stderr",
     "output_type": "stream",
     "text": [
      "/Users/nplattner/miniconda3/envs/AutoSearch/lib/python3.7/site-packages/urllib3/connectionpool.py:847: InsecureRequestWarning: Unverified HTTPS request is being made. Adding certificate verification is strongly advised. See: https://urllib3.readthedocs.io/en/latest/advanced-usage.html#ssl-warnings\n",
      "  InsecureRequestWarning)\n"
     ]
    },
    {
     "name": "stdout",
     "output_type": "stream",
     "text": [
      "39 https://digital.tessmann.it/mediaArchive/media/image/Page/BZZ/1845/10_10_1845/BZZ_1845_10_10_5_object_458597.png?auth=8228814c1fb13e152af7315b92da971a\n"
     ]
    },
    {
     "name": "stderr",
     "output_type": "stream",
     "text": [
      "/Users/nplattner/miniconda3/envs/AutoSearch/lib/python3.7/site-packages/urllib3/connectionpool.py:847: InsecureRequestWarning: Unverified HTTPS request is being made. Adding certificate verification is strongly advised. See: https://urllib3.readthedocs.io/en/latest/advanced-usage.html#ssl-warnings\n",
      "  InsecureRequestWarning)\n"
     ]
    },
    {
     "name": "stdout",
     "output_type": "stream",
     "text": [
      "39 https://digital.tessmann.it/mediaArchive/media/image/Page/BZZ/1845/10_10_1845/BZZ_1845_10_10_6_object_458600.png?auth=b56836f8a91b5dd6a5d9b70831cdae98\n"
     ]
    },
    {
     "name": "stderr",
     "output_type": "stream",
     "text": [
      "/Users/nplattner/miniconda3/envs/AutoSearch/lib/python3.7/site-packages/urllib3/connectionpool.py:847: InsecureRequestWarning: Unverified HTTPS request is being made. Adding certificate verification is strongly advised. See: https://urllib3.readthedocs.io/en/latest/advanced-usage.html#ssl-warnings\n",
      "  InsecureRequestWarning)\n"
     ]
    },
    {
     "name": "stdout",
     "output_type": "stream",
     "text": [
      "39 https://digital.tessmann.it/mediaArchive/media/image/Page/BZZ/1845/10_10_1845/BZZ_1845_10_10_7_object_458602.png?auth=044f9236ae41a5d6a57516d8cc4562cd\n"
     ]
    },
    {
     "name": "stderr",
     "output_type": "stream",
     "text": [
      "/Users/nplattner/miniconda3/envs/AutoSearch/lib/python3.7/site-packages/urllib3/connectionpool.py:847: InsecureRequestWarning: Unverified HTTPS request is being made. Adding certificate verification is strongly advised. See: https://urllib3.readthedocs.io/en/latest/advanced-usage.html#ssl-warnings\n",
      "  InsecureRequestWarning)\n"
     ]
    },
    {
     "name": "stdout",
     "output_type": "stream",
     "text": [
      "39 https://digital.tessmann.it/mediaArchive/media/image/Page/BZZ/1845/10_10_1845/BZZ_1845_10_10_8_object_458604.png?auth=9385839c517178cd875c051bc102f08d\n"
     ]
    },
    {
     "name": "stderr",
     "output_type": "stream",
     "text": [
      "/Users/nplattner/miniconda3/envs/AutoSearch/lib/python3.7/site-packages/urllib3/connectionpool.py:847: InsecureRequestWarning: Unverified HTTPS request is being made. Adding certificate verification is strongly advised. See: https://urllib3.readthedocs.io/en/latest/advanced-usage.html#ssl-warnings\n",
      "  InsecureRequestWarning)\n"
     ]
    },
    {
     "name": "stdout",
     "output_type": "stream",
     "text": [
      "40 https://digital.tessmann.it/mediaArchive/media/image/Page/BZZ/1845/17_10_1845/BZZ_1845_10_17_1_object_458607.png?auth=8ccf42ddc15346d4e6379949313ce22f\n"
     ]
    },
    {
     "name": "stderr",
     "output_type": "stream",
     "text": [
      "/Users/nplattner/miniconda3/envs/AutoSearch/lib/python3.7/site-packages/urllib3/connectionpool.py:847: InsecureRequestWarning: Unverified HTTPS request is being made. Adding certificate verification is strongly advised. See: https://urllib3.readthedocs.io/en/latest/advanced-usage.html#ssl-warnings\n",
      "  InsecureRequestWarning)\n"
     ]
    },
    {
     "name": "stdout",
     "output_type": "stream",
     "text": [
      "40 https://digital.tessmann.it/mediaArchive/media/image/Page/BZZ/1845/17_10_1845/BZZ_1845_10_17_2_object_458609.png?auth=f39cd83bf47140f7325d3727ea6962e0\n"
     ]
    },
    {
     "name": "stderr",
     "output_type": "stream",
     "text": [
      "/Users/nplattner/miniconda3/envs/AutoSearch/lib/python3.7/site-packages/urllib3/connectionpool.py:847: InsecureRequestWarning: Unverified HTTPS request is being made. Adding certificate verification is strongly advised. See: https://urllib3.readthedocs.io/en/latest/advanced-usage.html#ssl-warnings\n",
      "  InsecureRequestWarning)\n"
     ]
    },
    {
     "name": "stdout",
     "output_type": "stream",
     "text": [
      "40 https://digital.tessmann.it/mediaArchive/media/image/Page/BZZ/1845/17_10_1845/BZZ_1845_10_17_3_object_458612.png?auth=c5cf8c10e7da8e2380ada3b0d8f9d88e\n"
     ]
    },
    {
     "name": "stderr",
     "output_type": "stream",
     "text": [
      "/Users/nplattner/miniconda3/envs/AutoSearch/lib/python3.7/site-packages/urllib3/connectionpool.py:847: InsecureRequestWarning: Unverified HTTPS request is being made. Adding certificate verification is strongly advised. See: https://urllib3.readthedocs.io/en/latest/advanced-usage.html#ssl-warnings\n",
      "  InsecureRequestWarning)\n"
     ]
    },
    {
     "name": "stdout",
     "output_type": "stream",
     "text": [
      "40 https://digital.tessmann.it/mediaArchive/media/image/Page/BZZ/1845/17_10_1845/BZZ_1845_10_17_4_object_458614.png?auth=b074fa4ebc0fa55e2e3080da21fa0e22\n"
     ]
    },
    {
     "name": "stderr",
     "output_type": "stream",
     "text": [
      "/Users/nplattner/miniconda3/envs/AutoSearch/lib/python3.7/site-packages/urllib3/connectionpool.py:847: InsecureRequestWarning: Unverified HTTPS request is being made. Adding certificate verification is strongly advised. See: https://urllib3.readthedocs.io/en/latest/advanced-usage.html#ssl-warnings\n",
      "  InsecureRequestWarning)\n"
     ]
    },
    {
     "name": "stdout",
     "output_type": "stream",
     "text": [
      "40 https://digital.tessmann.it/mediaArchive/media/image/Page/BZZ/1845/17_10_1845/BZZ_1845_10_17_5_object_458616.png?auth=f708b028c66b69f29b3dd38b558cf29f\n"
     ]
    },
    {
     "name": "stderr",
     "output_type": "stream",
     "text": [
      "/Users/nplattner/miniconda3/envs/AutoSearch/lib/python3.7/site-packages/urllib3/connectionpool.py:847: InsecureRequestWarning: Unverified HTTPS request is being made. Adding certificate verification is strongly advised. See: https://urllib3.readthedocs.io/en/latest/advanced-usage.html#ssl-warnings\n",
      "  InsecureRequestWarning)\n"
     ]
    },
    {
     "name": "stdout",
     "output_type": "stream",
     "text": [
      "40 https://digital.tessmann.it/mediaArchive/media/image/Page/BZZ/1845/17_10_1845/BZZ_1845_10_17_6_object_458619.png?auth=c35ffc6c064edda608829ab602b42bd3\n"
     ]
    },
    {
     "name": "stderr",
     "output_type": "stream",
     "text": [
      "/Users/nplattner/miniconda3/envs/AutoSearch/lib/python3.7/site-packages/urllib3/connectionpool.py:847: InsecureRequestWarning: Unverified HTTPS request is being made. Adding certificate verification is strongly advised. See: https://urllib3.readthedocs.io/en/latest/advanced-usage.html#ssl-warnings\n",
      "  InsecureRequestWarning)\n"
     ]
    },
    {
     "name": "stdout",
     "output_type": "stream",
     "text": [
      "40 https://digital.tessmann.it/mediaArchive/media/image/Page/BZZ/1845/17_10_1845/BZZ_1845_10_17_7_object_458622.png?auth=bc1f04ac865863e768ad2e982389df52\n"
     ]
    },
    {
     "name": "stderr",
     "output_type": "stream",
     "text": [
      "/Users/nplattner/miniconda3/envs/AutoSearch/lib/python3.7/site-packages/urllib3/connectionpool.py:847: InsecureRequestWarning: Unverified HTTPS request is being made. Adding certificate verification is strongly advised. See: https://urllib3.readthedocs.io/en/latest/advanced-usage.html#ssl-warnings\n",
      "  InsecureRequestWarning)\n"
     ]
    },
    {
     "name": "stdout",
     "output_type": "stream",
     "text": [
      "40 https://digital.tessmann.it/mediaArchive/media/image/Page/BZZ/1845/17_10_1845/BZZ_1845_10_17_8_object_458623.png?auth=7322f3d28ff521367119e6b024c2b2f9\n"
     ]
    },
    {
     "name": "stderr",
     "output_type": "stream",
     "text": [
      "/Users/nplattner/miniconda3/envs/AutoSearch/lib/python3.7/site-packages/urllib3/connectionpool.py:847: InsecureRequestWarning: Unverified HTTPS request is being made. Adding certificate verification is strongly advised. See: https://urllib3.readthedocs.io/en/latest/advanced-usage.html#ssl-warnings\n",
      "  InsecureRequestWarning)\n"
     ]
    },
    {
     "name": "stdout",
     "output_type": "stream",
     "text": [
      "41 https://digital.tessmann.it/mediaArchive/media/image/Page/BZZ/1845/24_10_1845/BZZ_1845_10_24_1_object_458626.png?auth=95a2a563f6fa98bd1050aa374ae2f88c\n"
     ]
    },
    {
     "name": "stderr",
     "output_type": "stream",
     "text": [
      "/Users/nplattner/miniconda3/envs/AutoSearch/lib/python3.7/site-packages/urllib3/connectionpool.py:847: InsecureRequestWarning: Unverified HTTPS request is being made. Adding certificate verification is strongly advised. See: https://urllib3.readthedocs.io/en/latest/advanced-usage.html#ssl-warnings\n",
      "  InsecureRequestWarning)\n"
     ]
    },
    {
     "name": "stdout",
     "output_type": "stream",
     "text": [
      "41 https://digital.tessmann.it/mediaArchive/media/image/Page/BZZ/1845/24_10_1845/BZZ_1845_10_24_2_object_458629.png?auth=dbd39a825a3ab130638f5a38b6370f67\n"
     ]
    },
    {
     "name": "stderr",
     "output_type": "stream",
     "text": [
      "/Users/nplattner/miniconda3/envs/AutoSearch/lib/python3.7/site-packages/urllib3/connectionpool.py:847: InsecureRequestWarning: Unverified HTTPS request is being made. Adding certificate verification is strongly advised. See: https://urllib3.readthedocs.io/en/latest/advanced-usage.html#ssl-warnings\n",
      "  InsecureRequestWarning)\n"
     ]
    },
    {
     "name": "stdout",
     "output_type": "stream",
     "text": [
      "41 https://digital.tessmann.it/mediaArchive/media/image/Page/BZZ/1845/24_10_1845/BZZ_1845_10_24_3_object_458630.png?auth=9ae98e97dc9006da8c71c2bfa1d2437b\n"
     ]
    },
    {
     "name": "stderr",
     "output_type": "stream",
     "text": [
      "/Users/nplattner/miniconda3/envs/AutoSearch/lib/python3.7/site-packages/urllib3/connectionpool.py:847: InsecureRequestWarning: Unverified HTTPS request is being made. Adding certificate verification is strongly advised. See: https://urllib3.readthedocs.io/en/latest/advanced-usage.html#ssl-warnings\n",
      "  InsecureRequestWarning)\n"
     ]
    },
    {
     "name": "stdout",
     "output_type": "stream",
     "text": [
      "41 https://digital.tessmann.it/mediaArchive/media/image/Page/BZZ/1845/24_10_1845/BZZ_1845_10_24_4_object_458633.png?auth=7bd8a7386e393bf24467a812b7a5fdb9\n"
     ]
    },
    {
     "name": "stderr",
     "output_type": "stream",
     "text": [
      "/Users/nplattner/miniconda3/envs/AutoSearch/lib/python3.7/site-packages/urllib3/connectionpool.py:847: InsecureRequestWarning: Unverified HTTPS request is being made. Adding certificate verification is strongly advised. See: https://urllib3.readthedocs.io/en/latest/advanced-usage.html#ssl-warnings\n",
      "  InsecureRequestWarning)\n"
     ]
    },
    {
     "name": "stdout",
     "output_type": "stream",
     "text": [
      "42 https://digital.tessmann.it/mediaArchive/media/image/Page/BZZ/1845/31_10_1845/BZZ_1845_10_31_1_object_458636.png?auth=e8c877a9c45c8d965815df514db50554\n"
     ]
    },
    {
     "name": "stderr",
     "output_type": "stream",
     "text": [
      "/Users/nplattner/miniconda3/envs/AutoSearch/lib/python3.7/site-packages/urllib3/connectionpool.py:847: InsecureRequestWarning: Unverified HTTPS request is being made. Adding certificate verification is strongly advised. See: https://urllib3.readthedocs.io/en/latest/advanced-usage.html#ssl-warnings\n",
      "  InsecureRequestWarning)\n"
     ]
    },
    {
     "name": "stdout",
     "output_type": "stream",
     "text": [
      "42 https://digital.tessmann.it/mediaArchive/media/image/Page/BZZ/1845/31_10_1845/BZZ_1845_10_31_2_object_458638.png?auth=be3db3b7a4f7b7722e2d009a89741613\n"
     ]
    },
    {
     "name": "stderr",
     "output_type": "stream",
     "text": [
      "/Users/nplattner/miniconda3/envs/AutoSearch/lib/python3.7/site-packages/urllib3/connectionpool.py:847: InsecureRequestWarning: Unverified HTTPS request is being made. Adding certificate verification is strongly advised. See: https://urllib3.readthedocs.io/en/latest/advanced-usage.html#ssl-warnings\n",
      "  InsecureRequestWarning)\n"
     ]
    },
    {
     "name": "stdout",
     "output_type": "stream",
     "text": [
      "42 https://digital.tessmann.it/mediaArchive/media/image/Page/BZZ/1845/31_10_1845/BZZ_1845_10_31_3_object_458640.png?auth=40eb20b7a8fd2e77b028a82fef8ec1b5\n"
     ]
    },
    {
     "name": "stderr",
     "output_type": "stream",
     "text": [
      "/Users/nplattner/miniconda3/envs/AutoSearch/lib/python3.7/site-packages/urllib3/connectionpool.py:847: InsecureRequestWarning: Unverified HTTPS request is being made. Adding certificate verification is strongly advised. See: https://urllib3.readthedocs.io/en/latest/advanced-usage.html#ssl-warnings\n",
      "  InsecureRequestWarning)\n"
     ]
    },
    {
     "name": "stdout",
     "output_type": "stream",
     "text": [
      "42 https://digital.tessmann.it/mediaArchive/media/image/Page/BZZ/1845/31_10_1845/BZZ_1845_10_31_4_object_458643.png?auth=0157af5e4a9f50241fc37b9fc4ea3070\n"
     ]
    },
    {
     "name": "stderr",
     "output_type": "stream",
     "text": [
      "/Users/nplattner/miniconda3/envs/AutoSearch/lib/python3.7/site-packages/urllib3/connectionpool.py:847: InsecureRequestWarning: Unverified HTTPS request is being made. Adding certificate verification is strongly advised. See: https://urllib3.readthedocs.io/en/latest/advanced-usage.html#ssl-warnings\n",
      "  InsecureRequestWarning)\n"
     ]
    },
    {
     "name": "stdout",
     "output_type": "stream",
     "text": [
      "42 https://digital.tessmann.it/mediaArchive/media/image/Page/BZZ/1845/31_10_1845/BZZ_1845_10_31_5_object_458645.png?auth=4fd611a1f03f133f16aed6cbbe744c7b\n"
     ]
    },
    {
     "name": "stderr",
     "output_type": "stream",
     "text": [
      "/Users/nplattner/miniconda3/envs/AutoSearch/lib/python3.7/site-packages/urllib3/connectionpool.py:847: InsecureRequestWarning: Unverified HTTPS request is being made. Adding certificate verification is strongly advised. See: https://urllib3.readthedocs.io/en/latest/advanced-usage.html#ssl-warnings\n",
      "  InsecureRequestWarning)\n"
     ]
    },
    {
     "name": "stdout",
     "output_type": "stream",
     "text": [
      "42 https://digital.tessmann.it/mediaArchive/media/image/Page/BZZ/1845/31_10_1845/BZZ_1845_10_31_6_object_458648.png?auth=8541da004e479c777890405247026a53\n"
     ]
    },
    {
     "name": "stderr",
     "output_type": "stream",
     "text": [
      "/Users/nplattner/miniconda3/envs/AutoSearch/lib/python3.7/site-packages/urllib3/connectionpool.py:847: InsecureRequestWarning: Unverified HTTPS request is being made. Adding certificate verification is strongly advised. See: https://urllib3.readthedocs.io/en/latest/advanced-usage.html#ssl-warnings\n",
      "  InsecureRequestWarning)\n"
     ]
    },
    {
     "name": "stdout",
     "output_type": "stream",
     "text": [
      "43 https://digital.tessmann.it/mediaArchive/media/image/Page/BZZ/1845/07_11_1845/BZZ_1845_11_07_1_object_458650.png?auth=df76a9f98d82edb4ef8bfb581283a015\n"
     ]
    },
    {
     "name": "stderr",
     "output_type": "stream",
     "text": [
      "/Users/nplattner/miniconda3/envs/AutoSearch/lib/python3.7/site-packages/urllib3/connectionpool.py:847: InsecureRequestWarning: Unverified HTTPS request is being made. Adding certificate verification is strongly advised. See: https://urllib3.readthedocs.io/en/latest/advanced-usage.html#ssl-warnings\n",
      "  InsecureRequestWarning)\n"
     ]
    },
    {
     "name": "stdout",
     "output_type": "stream",
     "text": [
      "43 https://digital.tessmann.it/mediaArchive/media/image/Page/BZZ/1845/07_11_1845/BZZ_1845_11_07_2_object_458652.png?auth=e7c37b675a4f1f36f917fc7e60fe069d\n"
     ]
    },
    {
     "name": "stderr",
     "output_type": "stream",
     "text": [
      "/Users/nplattner/miniconda3/envs/AutoSearch/lib/python3.7/site-packages/urllib3/connectionpool.py:847: InsecureRequestWarning: Unverified HTTPS request is being made. Adding certificate verification is strongly advised. See: https://urllib3.readthedocs.io/en/latest/advanced-usage.html#ssl-warnings\n",
      "  InsecureRequestWarning)\n"
     ]
    },
    {
     "name": "stdout",
     "output_type": "stream",
     "text": [
      "43 https://digital.tessmann.it/mediaArchive/media/image/Page/BZZ/1845/07_11_1845/BZZ_1845_11_07_3_object_458655.png?auth=8bdb5061c4b3524b7d6aceac358e3231\n"
     ]
    },
    {
     "name": "stderr",
     "output_type": "stream",
     "text": [
      "/Users/nplattner/miniconda3/envs/AutoSearch/lib/python3.7/site-packages/urllib3/connectionpool.py:847: InsecureRequestWarning: Unverified HTTPS request is being made. Adding certificate verification is strongly advised. See: https://urllib3.readthedocs.io/en/latest/advanced-usage.html#ssl-warnings\n",
      "  InsecureRequestWarning)\n"
     ]
    },
    {
     "name": "stdout",
     "output_type": "stream",
     "text": [
      "43 https://digital.tessmann.it/mediaArchive/media/image/Page/BZZ/1845/07_11_1845/BZZ_1845_11_07_4_object_458657.png?auth=904c35af822adcc07899cfbfaacd82e3\n"
     ]
    },
    {
     "name": "stderr",
     "output_type": "stream",
     "text": [
      "/Users/nplattner/miniconda3/envs/AutoSearch/lib/python3.7/site-packages/urllib3/connectionpool.py:847: InsecureRequestWarning: Unverified HTTPS request is being made. Adding certificate verification is strongly advised. See: https://urllib3.readthedocs.io/en/latest/advanced-usage.html#ssl-warnings\n",
      "  InsecureRequestWarning)\n"
     ]
    },
    {
     "name": "stdout",
     "output_type": "stream",
     "text": [
      "43 https://digital.tessmann.it/mediaArchive/media/image/Page/BZZ/1845/07_11_1845/BZZ_1845_11_07_5_object_458659.png?auth=c92d0c2b4c19edbaddb6618f9ab54dd3\n"
     ]
    },
    {
     "name": "stderr",
     "output_type": "stream",
     "text": [
      "/Users/nplattner/miniconda3/envs/AutoSearch/lib/python3.7/site-packages/urllib3/connectionpool.py:847: InsecureRequestWarning: Unverified HTTPS request is being made. Adding certificate verification is strongly advised. See: https://urllib3.readthedocs.io/en/latest/advanced-usage.html#ssl-warnings\n",
      "  InsecureRequestWarning)\n"
     ]
    },
    {
     "name": "stdout",
     "output_type": "stream",
     "text": [
      "43 https://digital.tessmann.it/mediaArchive/media/image/Page/BZZ/1845/07_11_1845/BZZ_1845_11_07_6_object_458662.png?auth=4bfb4b15a60be88f563e4930812b12f0\n"
     ]
    },
    {
     "name": "stderr",
     "output_type": "stream",
     "text": [
      "/Users/nplattner/miniconda3/envs/AutoSearch/lib/python3.7/site-packages/urllib3/connectionpool.py:847: InsecureRequestWarning: Unverified HTTPS request is being made. Adding certificate verification is strongly advised. See: https://urllib3.readthedocs.io/en/latest/advanced-usage.html#ssl-warnings\n",
      "  InsecureRequestWarning)\n"
     ]
    },
    {
     "name": "stdout",
     "output_type": "stream",
     "text": [
      "43 https://digital.tessmann.it/mediaArchive/media/image/Page/BZZ/1845/07_11_1845/BZZ_1845_11_07_7_object_458665.png?auth=db1afe38cb41e3320d66b3b1cbea4a4a\n"
     ]
    },
    {
     "name": "stderr",
     "output_type": "stream",
     "text": [
      "/Users/nplattner/miniconda3/envs/AutoSearch/lib/python3.7/site-packages/urllib3/connectionpool.py:847: InsecureRequestWarning: Unverified HTTPS request is being made. Adding certificate verification is strongly advised. See: https://urllib3.readthedocs.io/en/latest/advanced-usage.html#ssl-warnings\n",
      "  InsecureRequestWarning)\n"
     ]
    },
    {
     "name": "stdout",
     "output_type": "stream",
     "text": [
      "43 https://digital.tessmann.it/mediaArchive/media/image/Page/BZZ/1845/07_11_1845/BZZ_1845_11_07_8_object_458667.png?auth=e6021c26e43bcf09fd0dd3eb70dafda0\n"
     ]
    },
    {
     "name": "stderr",
     "output_type": "stream",
     "text": [
      "/Users/nplattner/miniconda3/envs/AutoSearch/lib/python3.7/site-packages/urllib3/connectionpool.py:847: InsecureRequestWarning: Unverified HTTPS request is being made. Adding certificate verification is strongly advised. See: https://urllib3.readthedocs.io/en/latest/advanced-usage.html#ssl-warnings\n",
      "  InsecureRequestWarning)\n"
     ]
    },
    {
     "name": "stdout",
     "output_type": "stream",
     "text": [
      "44 https://digital.tessmann.it/mediaArchive/media/image/Page/BZZ/1845/14_11_1845/BZZ_1845_11_14_1_object_458669.png?auth=c203560000ac1506a164405a90e3bf79\n"
     ]
    },
    {
     "name": "stderr",
     "output_type": "stream",
     "text": [
      "/Users/nplattner/miniconda3/envs/AutoSearch/lib/python3.7/site-packages/urllib3/connectionpool.py:847: InsecureRequestWarning: Unverified HTTPS request is being made. Adding certificate verification is strongly advised. See: https://urllib3.readthedocs.io/en/latest/advanced-usage.html#ssl-warnings\n",
      "  InsecureRequestWarning)\n"
     ]
    },
    {
     "name": "stdout",
     "output_type": "stream",
     "text": [
      "44 https://digital.tessmann.it/mediaArchive/media/image/Page/BZZ/1845/14_11_1845/BZZ_1845_11_14_2_object_458672.png?auth=f8bc0c0ef2a79aab79bf96f51b7782cc\n"
     ]
    },
    {
     "name": "stderr",
     "output_type": "stream",
     "text": [
      "/Users/nplattner/miniconda3/envs/AutoSearch/lib/python3.7/site-packages/urllib3/connectionpool.py:847: InsecureRequestWarning: Unverified HTTPS request is being made. Adding certificate verification is strongly advised. See: https://urllib3.readthedocs.io/en/latest/advanced-usage.html#ssl-warnings\n",
      "  InsecureRequestWarning)\n"
     ]
    },
    {
     "name": "stdout",
     "output_type": "stream",
     "text": [
      "44 https://digital.tessmann.it/mediaArchive/media/image/Page/BZZ/1845/14_11_1845/BZZ_1845_11_14_3_object_458674.png?auth=7ec78fbec0ada7b4f2f556cd5a4baee2\n"
     ]
    },
    {
     "name": "stderr",
     "output_type": "stream",
     "text": [
      "/Users/nplattner/miniconda3/envs/AutoSearch/lib/python3.7/site-packages/urllib3/connectionpool.py:847: InsecureRequestWarning: Unverified HTTPS request is being made. Adding certificate verification is strongly advised. See: https://urllib3.readthedocs.io/en/latest/advanced-usage.html#ssl-warnings\n",
      "  InsecureRequestWarning)\n"
     ]
    },
    {
     "name": "stdout",
     "output_type": "stream",
     "text": [
      "44 https://digital.tessmann.it/mediaArchive/media/image/Page/BZZ/1845/14_11_1845/BZZ_1845_11_14_4_object_458676.png?auth=5e480692dab02f34d8ca893b127c08e9\n"
     ]
    },
    {
     "name": "stderr",
     "output_type": "stream",
     "text": [
      "/Users/nplattner/miniconda3/envs/AutoSearch/lib/python3.7/site-packages/urllib3/connectionpool.py:847: InsecureRequestWarning: Unverified HTTPS request is being made. Adding certificate verification is strongly advised. See: https://urllib3.readthedocs.io/en/latest/advanced-usage.html#ssl-warnings\n",
      "  InsecureRequestWarning)\n"
     ]
    },
    {
     "name": "stdout",
     "output_type": "stream",
     "text": [
      "44 https://digital.tessmann.it/mediaArchive/media/image/Page/BZZ/1845/14_11_1845/BZZ_1845_11_14_5_object_458678.png?auth=d98307ad89fa93fb5315bab1d0076992\n"
     ]
    },
    {
     "name": "stderr",
     "output_type": "stream",
     "text": [
      "/Users/nplattner/miniconda3/envs/AutoSearch/lib/python3.7/site-packages/urllib3/connectionpool.py:847: InsecureRequestWarning: Unverified HTTPS request is being made. Adding certificate verification is strongly advised. See: https://urllib3.readthedocs.io/en/latest/advanced-usage.html#ssl-warnings\n",
      "  InsecureRequestWarning)\n"
     ]
    },
    {
     "name": "stdout",
     "output_type": "stream",
     "text": [
      "44 https://digital.tessmann.it/mediaArchive/media/image/Page/BZZ/1845/14_11_1845/BZZ_1845_11_14_6_object_458681.png?auth=31da3255d85eb0dd78242f9c4b358d0c\n"
     ]
    },
    {
     "name": "stderr",
     "output_type": "stream",
     "text": [
      "/Users/nplattner/miniconda3/envs/AutoSearch/lib/python3.7/site-packages/urllib3/connectionpool.py:847: InsecureRequestWarning: Unverified HTTPS request is being made. Adding certificate verification is strongly advised. See: https://urllib3.readthedocs.io/en/latest/advanced-usage.html#ssl-warnings\n",
      "  InsecureRequestWarning)\n"
     ]
    },
    {
     "name": "stdout",
     "output_type": "stream",
     "text": [
      "45 https://digital.tessmann.it/mediaArchive/media/image/Page/BZZ/1845/21_11_1845/BZZ_1845_11_21_1_object_458684.png?auth=5a3c964cabedfc8344c451b29a321390\n"
     ]
    },
    {
     "name": "stderr",
     "output_type": "stream",
     "text": [
      "/Users/nplattner/miniconda3/envs/AutoSearch/lib/python3.7/site-packages/urllib3/connectionpool.py:847: InsecureRequestWarning: Unverified HTTPS request is being made. Adding certificate verification is strongly advised. See: https://urllib3.readthedocs.io/en/latest/advanced-usage.html#ssl-warnings\n",
      "  InsecureRequestWarning)\n"
     ]
    },
    {
     "name": "stdout",
     "output_type": "stream",
     "text": [
      "45 https://digital.tessmann.it/mediaArchive/media/image/Page/BZZ/1845/21_11_1845/BZZ_1845_11_21_2_object_458686.png?auth=7c687080fbadfca0020334e6644433e8\n"
     ]
    },
    {
     "name": "stderr",
     "output_type": "stream",
     "text": [
      "/Users/nplattner/miniconda3/envs/AutoSearch/lib/python3.7/site-packages/urllib3/connectionpool.py:847: InsecureRequestWarning: Unverified HTTPS request is being made. Adding certificate verification is strongly advised. See: https://urllib3.readthedocs.io/en/latest/advanced-usage.html#ssl-warnings\n",
      "  InsecureRequestWarning)\n"
     ]
    },
    {
     "name": "stdout",
     "output_type": "stream",
     "text": [
      "45 https://digital.tessmann.it/mediaArchive/media/image/Page/BZZ/1845/21_11_1845/BZZ_1845_11_21_3_object_458688.png?auth=fafeb7ea0c50a31ad4d0bbda54d139e7\n"
     ]
    },
    {
     "name": "stderr",
     "output_type": "stream",
     "text": [
      "/Users/nplattner/miniconda3/envs/AutoSearch/lib/python3.7/site-packages/urllib3/connectionpool.py:847: InsecureRequestWarning: Unverified HTTPS request is being made. Adding certificate verification is strongly advised. See: https://urllib3.readthedocs.io/en/latest/advanced-usage.html#ssl-warnings\n",
      "  InsecureRequestWarning)\n"
     ]
    },
    {
     "name": "stdout",
     "output_type": "stream",
     "text": [
      "45 https://digital.tessmann.it/mediaArchive/media/image/Page/BZZ/1845/21_11_1845/BZZ_1845_11_21_4_object_458691.png?auth=5c7a698d997aa65a02160372836f92e9\n"
     ]
    },
    {
     "name": "stderr",
     "output_type": "stream",
     "text": [
      "/Users/nplattner/miniconda3/envs/AutoSearch/lib/python3.7/site-packages/urllib3/connectionpool.py:847: InsecureRequestWarning: Unverified HTTPS request is being made. Adding certificate verification is strongly advised. See: https://urllib3.readthedocs.io/en/latest/advanced-usage.html#ssl-warnings\n",
      "  InsecureRequestWarning)\n"
     ]
    },
    {
     "name": "stdout",
     "output_type": "stream",
     "text": [
      "46 https://digital.tessmann.it/mediaArchive/media/image/Page/BZZ/1845/28_11_1845/BZZ_1845_11_28_1_object_458694.png?auth=0f2f2639a116db4cfd03c1f834b23642\n"
     ]
    },
    {
     "name": "stderr",
     "output_type": "stream",
     "text": [
      "/Users/nplattner/miniconda3/envs/AutoSearch/lib/python3.7/site-packages/urllib3/connectionpool.py:847: InsecureRequestWarning: Unverified HTTPS request is being made. Adding certificate verification is strongly advised. See: https://urllib3.readthedocs.io/en/latest/advanced-usage.html#ssl-warnings\n",
      "  InsecureRequestWarning)\n"
     ]
    },
    {
     "name": "stdout",
     "output_type": "stream",
     "text": [
      "46 https://digital.tessmann.it/mediaArchive/media/image/Page/BZZ/1845/28_11_1845/BZZ_1845_11_28_2_object_458695.png?auth=9717bf48e822e483eb4f3347e1bc83e7\n"
     ]
    },
    {
     "name": "stderr",
     "output_type": "stream",
     "text": [
      "/Users/nplattner/miniconda3/envs/AutoSearch/lib/python3.7/site-packages/urllib3/connectionpool.py:847: InsecureRequestWarning: Unverified HTTPS request is being made. Adding certificate verification is strongly advised. See: https://urllib3.readthedocs.io/en/latest/advanced-usage.html#ssl-warnings\n",
      "  InsecureRequestWarning)\n"
     ]
    },
    {
     "name": "stdout",
     "output_type": "stream",
     "text": [
      "46 https://digital.tessmann.it/mediaArchive/media/image/Page/BZZ/1845/28_11_1845/BZZ_1845_11_28_3_object_458698.png?auth=cc6ed5d8168639d946b8015a8d852234\n"
     ]
    },
    {
     "name": "stderr",
     "output_type": "stream",
     "text": [
      "/Users/nplattner/miniconda3/envs/AutoSearch/lib/python3.7/site-packages/urllib3/connectionpool.py:847: InsecureRequestWarning: Unverified HTTPS request is being made. Adding certificate verification is strongly advised. See: https://urllib3.readthedocs.io/en/latest/advanced-usage.html#ssl-warnings\n",
      "  InsecureRequestWarning)\n"
     ]
    },
    {
     "name": "stdout",
     "output_type": "stream",
     "text": [
      "46 https://digital.tessmann.it/mediaArchive/media/image/Page/BZZ/1845/28_11_1845/BZZ_1845_11_28_4_object_458701.png?auth=b396096d5a5c4d1e5da9da061a4c6bcb\n"
     ]
    },
    {
     "name": "stderr",
     "output_type": "stream",
     "text": [
      "/Users/nplattner/miniconda3/envs/AutoSearch/lib/python3.7/site-packages/urllib3/connectionpool.py:847: InsecureRequestWarning: Unverified HTTPS request is being made. Adding certificate verification is strongly advised. See: https://urllib3.readthedocs.io/en/latest/advanced-usage.html#ssl-warnings\n",
      "  InsecureRequestWarning)\n"
     ]
    },
    {
     "name": "stdout",
     "output_type": "stream",
     "text": [
      "46 https://digital.tessmann.it/mediaArchive/media/image/Page/BZZ/1845/28_11_1845/BZZ_1845_11_28_5_object_458703.png?auth=d8ff42d63c24fba0122809a559dd84b5\n"
     ]
    },
    {
     "name": "stderr",
     "output_type": "stream",
     "text": [
      "/Users/nplattner/miniconda3/envs/AutoSearch/lib/python3.7/site-packages/urllib3/connectionpool.py:847: InsecureRequestWarning: Unverified HTTPS request is being made. Adding certificate verification is strongly advised. See: https://urllib3.readthedocs.io/en/latest/advanced-usage.html#ssl-warnings\n",
      "  InsecureRequestWarning)\n"
     ]
    },
    {
     "name": "stdout",
     "output_type": "stream",
     "text": [
      "46 https://digital.tessmann.it/mediaArchive/media/image/Page/BZZ/1845/28_11_1845/BZZ_1845_11_28_6_object_458705.png?auth=e5f698320ee464947716310650b11bc7\n"
     ]
    },
    {
     "name": "stderr",
     "output_type": "stream",
     "text": [
      "/Users/nplattner/miniconda3/envs/AutoSearch/lib/python3.7/site-packages/urllib3/connectionpool.py:847: InsecureRequestWarning: Unverified HTTPS request is being made. Adding certificate verification is strongly advised. See: https://urllib3.readthedocs.io/en/latest/advanced-usage.html#ssl-warnings\n",
      "  InsecureRequestWarning)\n"
     ]
    },
    {
     "name": "stdout",
     "output_type": "stream",
     "text": [
      "47 https://digital.tessmann.it/mediaArchive/media/image/Page/BZZ/1845/05_12_1845/BZZ_1845_12_05_1_object_458708.png?auth=8fdd454eff6a038523473398a6194ec0\n"
     ]
    },
    {
     "name": "stderr",
     "output_type": "stream",
     "text": [
      "/Users/nplattner/miniconda3/envs/AutoSearch/lib/python3.7/site-packages/urllib3/connectionpool.py:847: InsecureRequestWarning: Unverified HTTPS request is being made. Adding certificate verification is strongly advised. See: https://urllib3.readthedocs.io/en/latest/advanced-usage.html#ssl-warnings\n",
      "  InsecureRequestWarning)\n"
     ]
    },
    {
     "name": "stdout",
     "output_type": "stream",
     "text": [
      "47 https://digital.tessmann.it/mediaArchive/media/image/Page/BZZ/1845/05_12_1845/BZZ_1845_12_05_2_object_458710.png?auth=67790c52b40165878bd4a4b3f7a5a97f\n"
     ]
    },
    {
     "name": "stderr",
     "output_type": "stream",
     "text": [
      "/Users/nplattner/miniconda3/envs/AutoSearch/lib/python3.7/site-packages/urllib3/connectionpool.py:847: InsecureRequestWarning: Unverified HTTPS request is being made. Adding certificate verification is strongly advised. See: https://urllib3.readthedocs.io/en/latest/advanced-usage.html#ssl-warnings\n",
      "  InsecureRequestWarning)\n"
     ]
    },
    {
     "name": "stdout",
     "output_type": "stream",
     "text": [
      "47 https://digital.tessmann.it/mediaArchive/media/image/Page/BZZ/1845/05_12_1845/BZZ_1845_12_05_3_object_458713.png?auth=b3043077fe94db6f96e4b49d82ff279a\n"
     ]
    },
    {
     "name": "stderr",
     "output_type": "stream",
     "text": [
      "/Users/nplattner/miniconda3/envs/AutoSearch/lib/python3.7/site-packages/urllib3/connectionpool.py:847: InsecureRequestWarning: Unverified HTTPS request is being made. Adding certificate verification is strongly advised. See: https://urllib3.readthedocs.io/en/latest/advanced-usage.html#ssl-warnings\n",
      "  InsecureRequestWarning)\n"
     ]
    },
    {
     "name": "stdout",
     "output_type": "stream",
     "text": [
      "47 https://digital.tessmann.it/mediaArchive/media/image/Page/BZZ/1845/05_12_1845/BZZ_1845_12_05_4_object_458715.png?auth=09cbfb540071a61b536489324e08794a\n"
     ]
    },
    {
     "name": "stderr",
     "output_type": "stream",
     "text": [
      "/Users/nplattner/miniconda3/envs/AutoSearch/lib/python3.7/site-packages/urllib3/connectionpool.py:847: InsecureRequestWarning: Unverified HTTPS request is being made. Adding certificate verification is strongly advised. See: https://urllib3.readthedocs.io/en/latest/advanced-usage.html#ssl-warnings\n",
      "  InsecureRequestWarning)\n"
     ]
    },
    {
     "name": "stdout",
     "output_type": "stream",
     "text": [
      "47 https://digital.tessmann.it/mediaArchive/media/image/Page/BZZ/1845/05_12_1845/BZZ_1845_12_05_5_object_458717.png?auth=4b0ef98b6d0f6f3dbdb6edaa2e6e093f\n"
     ]
    },
    {
     "name": "stderr",
     "output_type": "stream",
     "text": [
      "/Users/nplattner/miniconda3/envs/AutoSearch/lib/python3.7/site-packages/urllib3/connectionpool.py:847: InsecureRequestWarning: Unverified HTTPS request is being made. Adding certificate verification is strongly advised. See: https://urllib3.readthedocs.io/en/latest/advanced-usage.html#ssl-warnings\n",
      "  InsecureRequestWarning)\n"
     ]
    },
    {
     "name": "stdout",
     "output_type": "stream",
     "text": [
      "47 https://digital.tessmann.it/mediaArchive/media/image/Page/BZZ/1845/05_12_1845/BZZ_1845_12_05_6_object_458720.png?auth=735468209b7c44ec2a4a31186c9130b6\n"
     ]
    },
    {
     "name": "stderr",
     "output_type": "stream",
     "text": [
      "/Users/nplattner/miniconda3/envs/AutoSearch/lib/python3.7/site-packages/urllib3/connectionpool.py:847: InsecureRequestWarning: Unverified HTTPS request is being made. Adding certificate verification is strongly advised. See: https://urllib3.readthedocs.io/en/latest/advanced-usage.html#ssl-warnings\n",
      "  InsecureRequestWarning)\n"
     ]
    },
    {
     "name": "stdout",
     "output_type": "stream",
     "text": [
      "47 https://digital.tessmann.it/mediaArchive/media/image/Page/BZZ/1845/05_12_1845/BZZ_1845_12_05_7_object_458723.png?auth=13b3358568c424c58300f27d7a49892d\n"
     ]
    },
    {
     "name": "stderr",
     "output_type": "stream",
     "text": [
      "/Users/nplattner/miniconda3/envs/AutoSearch/lib/python3.7/site-packages/urllib3/connectionpool.py:847: InsecureRequestWarning: Unverified HTTPS request is being made. Adding certificate verification is strongly advised. See: https://urllib3.readthedocs.io/en/latest/advanced-usage.html#ssl-warnings\n",
      "  InsecureRequestWarning)\n"
     ]
    },
    {
     "name": "stdout",
     "output_type": "stream",
     "text": [
      "47 https://digital.tessmann.it/mediaArchive/media/image/Page/BZZ/1845/05_12_1845/BZZ_1845_12_05_8_object_458724.png?auth=752f35eac86486de2eabc142df9b7c88\n"
     ]
    },
    {
     "name": "stderr",
     "output_type": "stream",
     "text": [
      "/Users/nplattner/miniconda3/envs/AutoSearch/lib/python3.7/site-packages/urllib3/connectionpool.py:847: InsecureRequestWarning: Unverified HTTPS request is being made. Adding certificate verification is strongly advised. See: https://urllib3.readthedocs.io/en/latest/advanced-usage.html#ssl-warnings\n",
      "  InsecureRequestWarning)\n"
     ]
    },
    {
     "name": "stdout",
     "output_type": "stream",
     "text": [
      "48 https://digital.tessmann.it/mediaArchive/media/image/Page/BZZ/1845/12_12_1845/BZZ_1845_12_12_1_object_458727.png?auth=6a28629c29c26324ef2b2afc69303d6f\n"
     ]
    },
    {
     "name": "stderr",
     "output_type": "stream",
     "text": [
      "/Users/nplattner/miniconda3/envs/AutoSearch/lib/python3.7/site-packages/urllib3/connectionpool.py:847: InsecureRequestWarning: Unverified HTTPS request is being made. Adding certificate verification is strongly advised. See: https://urllib3.readthedocs.io/en/latest/advanced-usage.html#ssl-warnings\n",
      "  InsecureRequestWarning)\n"
     ]
    },
    {
     "name": "stdout",
     "output_type": "stream",
     "text": [
      "48 https://digital.tessmann.it/mediaArchive/media/image/Page/BZZ/1845/12_12_1845/BZZ_1845_12_12_2_object_458730.png?auth=2e7f43f79163097fee15da2da521ca5e\n"
     ]
    },
    {
     "name": "stderr",
     "output_type": "stream",
     "text": [
      "/Users/nplattner/miniconda3/envs/AutoSearch/lib/python3.7/site-packages/urllib3/connectionpool.py:847: InsecureRequestWarning: Unverified HTTPS request is being made. Adding certificate verification is strongly advised. See: https://urllib3.readthedocs.io/en/latest/advanced-usage.html#ssl-warnings\n",
      "  InsecureRequestWarning)\n"
     ]
    },
    {
     "name": "stdout",
     "output_type": "stream",
     "text": [
      "48 https://digital.tessmann.it/mediaArchive/media/image/Page/BZZ/1845/12_12_1845/BZZ_1845_12_12_3_object_458731.png?auth=871ad2ef7bb96e1707233b4f38464050\n"
     ]
    },
    {
     "name": "stderr",
     "output_type": "stream",
     "text": [
      "/Users/nplattner/miniconda3/envs/AutoSearch/lib/python3.7/site-packages/urllib3/connectionpool.py:847: InsecureRequestWarning: Unverified HTTPS request is being made. Adding certificate verification is strongly advised. See: https://urllib3.readthedocs.io/en/latest/advanced-usage.html#ssl-warnings\n",
      "  InsecureRequestWarning)\n"
     ]
    },
    {
     "name": "stdout",
     "output_type": "stream",
     "text": [
      "48 https://digital.tessmann.it/mediaArchive/media/image/Page/BZZ/1845/12_12_1845/BZZ_1845_12_12_4_object_458734.png?auth=1eafc9dc9c7e17ed6f44fa7704e09375\n"
     ]
    },
    {
     "name": "stderr",
     "output_type": "stream",
     "text": [
      "/Users/nplattner/miniconda3/envs/AutoSearch/lib/python3.7/site-packages/urllib3/connectionpool.py:847: InsecureRequestWarning: Unverified HTTPS request is being made. Adding certificate verification is strongly advised. See: https://urllib3.readthedocs.io/en/latest/advanced-usage.html#ssl-warnings\n",
      "  InsecureRequestWarning)\n"
     ]
    },
    {
     "name": "stdout",
     "output_type": "stream",
     "text": [
      "48 https://digital.tessmann.it/mediaArchive/media/image/Page/BZZ/1845/12_12_1845/BZZ_1845_12_12_5_object_458737.png?auth=48b0ec2f36884642f6a4d58e57ccba59\n"
     ]
    },
    {
     "name": "stderr",
     "output_type": "stream",
     "text": [
      "/Users/nplattner/miniconda3/envs/AutoSearch/lib/python3.7/site-packages/urllib3/connectionpool.py:847: InsecureRequestWarning: Unverified HTTPS request is being made. Adding certificate verification is strongly advised. See: https://urllib3.readthedocs.io/en/latest/advanced-usage.html#ssl-warnings\n",
      "  InsecureRequestWarning)\n"
     ]
    },
    {
     "name": "stdout",
     "output_type": "stream",
     "text": [
      "48 https://digital.tessmann.it/mediaArchive/media/image/Page/BZZ/1845/12_12_1845/BZZ_1845_12_12_6_object_458739.png?auth=05ca66d792499d677cc2a00f91aa192a\n"
     ]
    },
    {
     "name": "stderr",
     "output_type": "stream",
     "text": [
      "/Users/nplattner/miniconda3/envs/AutoSearch/lib/python3.7/site-packages/urllib3/connectionpool.py:847: InsecureRequestWarning: Unverified HTTPS request is being made. Adding certificate verification is strongly advised. See: https://urllib3.readthedocs.io/en/latest/advanced-usage.html#ssl-warnings\n",
      "  InsecureRequestWarning)\n"
     ]
    },
    {
     "name": "stdout",
     "output_type": "stream",
     "text": [
      "49 https://digital.tessmann.it/mediaArchive/media/image/Page/BZZ/1845/19_12_1845/BZZ_1845_12_19_1_object_458741.png?auth=de1adbc1d54f624ea81639e9210d060f\n"
     ]
    },
    {
     "name": "stderr",
     "output_type": "stream",
     "text": [
      "/Users/nplattner/miniconda3/envs/AutoSearch/lib/python3.7/site-packages/urllib3/connectionpool.py:847: InsecureRequestWarning: Unverified HTTPS request is being made. Adding certificate verification is strongly advised. See: https://urllib3.readthedocs.io/en/latest/advanced-usage.html#ssl-warnings\n",
      "  InsecureRequestWarning)\n"
     ]
    },
    {
     "name": "stdout",
     "output_type": "stream",
     "text": [
      "49 https://digital.tessmann.it/mediaArchive/media/image/Page/BZZ/1845/19_12_1845/BZZ_1845_12_19_2_object_458744.png?auth=df297e88d50dce313fa5de0992483cf1\n"
     ]
    },
    {
     "name": "stderr",
     "output_type": "stream",
     "text": [
      "/Users/nplattner/miniconda3/envs/AutoSearch/lib/python3.7/site-packages/urllib3/connectionpool.py:847: InsecureRequestWarning: Unverified HTTPS request is being made. Adding certificate verification is strongly advised. See: https://urllib3.readthedocs.io/en/latest/advanced-usage.html#ssl-warnings\n",
      "  InsecureRequestWarning)\n"
     ]
    },
    {
     "name": "stdout",
     "output_type": "stream",
     "text": [
      "49 https://digital.tessmann.it/mediaArchive/media/image/Page/BZZ/1845/19_12_1845/BZZ_1845_12_19_3_object_458746.png?auth=999b00236fc7ba982083562c20f49fec\n"
     ]
    },
    {
     "name": "stderr",
     "output_type": "stream",
     "text": [
      "/Users/nplattner/miniconda3/envs/AutoSearch/lib/python3.7/site-packages/urllib3/connectionpool.py:847: InsecureRequestWarning: Unverified HTTPS request is being made. Adding certificate verification is strongly advised. See: https://urllib3.readthedocs.io/en/latest/advanced-usage.html#ssl-warnings\n",
      "  InsecureRequestWarning)\n"
     ]
    },
    {
     "name": "stdout",
     "output_type": "stream",
     "text": [
      "49 https://digital.tessmann.it/mediaArchive/media/image/Page/BZZ/1845/19_12_1845/BZZ_1845_12_19_4_object_458379.png?auth=31a5481d855a7f5637cdae9a3c15af05\n"
     ]
    },
    {
     "name": "stderr",
     "output_type": "stream",
     "text": [
      "/Users/nplattner/miniconda3/envs/AutoSearch/lib/python3.7/site-packages/urllib3/connectionpool.py:847: InsecureRequestWarning: Unverified HTTPS request is being made. Adding certificate verification is strongly advised. See: https://urllib3.readthedocs.io/en/latest/advanced-usage.html#ssl-warnings\n",
      "  InsecureRequestWarning)\n"
     ]
    },
    {
     "name": "stdout",
     "output_type": "stream",
     "text": [
      "49 https://digital.tessmann.it/mediaArchive/media/image/Page/BZZ/1845/19_12_1845/BZZ_1845_12_19_5_object_458381.png?auth=7bca98fd7599b1c1e958ce68773aae64\n"
     ]
    },
    {
     "name": "stderr",
     "output_type": "stream",
     "text": [
      "/Users/nplattner/miniconda3/envs/AutoSearch/lib/python3.7/site-packages/urllib3/connectionpool.py:847: InsecureRequestWarning: Unverified HTTPS request is being made. Adding certificate verification is strongly advised. See: https://urllib3.readthedocs.io/en/latest/advanced-usage.html#ssl-warnings\n",
      "  InsecureRequestWarning)\n"
     ]
    },
    {
     "name": "stdout",
     "output_type": "stream",
     "text": [
      "49 https://digital.tessmann.it/mediaArchive/media/image/Page/BZZ/1845/19_12_1845/BZZ_1845_12_19_6_object_458384.png?auth=033cd92af2e5bcd5a332c86b56870849\n"
     ]
    },
    {
     "name": "stderr",
     "output_type": "stream",
     "text": [
      "/Users/nplattner/miniconda3/envs/AutoSearch/lib/python3.7/site-packages/urllib3/connectionpool.py:847: InsecureRequestWarning: Unverified HTTPS request is being made. Adding certificate verification is strongly advised. See: https://urllib3.readthedocs.io/en/latest/advanced-usage.html#ssl-warnings\n",
      "  InsecureRequestWarning)\n"
     ]
    },
    {
     "name": "stdout",
     "output_type": "stream",
     "text": [
      "50 https://digital.tessmann.it/mediaArchive/media/image/Page/BZZ/1845/26_12_1845/BZZ_1845_12_26_1_object_458386.png?auth=ff642e64239f47a6f686745e73b88fd7\n"
     ]
    },
    {
     "name": "stderr",
     "output_type": "stream",
     "text": [
      "/Users/nplattner/miniconda3/envs/AutoSearch/lib/python3.7/site-packages/urllib3/connectionpool.py:847: InsecureRequestWarning: Unverified HTTPS request is being made. Adding certificate verification is strongly advised. See: https://urllib3.readthedocs.io/en/latest/advanced-usage.html#ssl-warnings\n",
      "  InsecureRequestWarning)\n"
     ]
    },
    {
     "name": "stdout",
     "output_type": "stream",
     "text": [
      "50 https://digital.tessmann.it/mediaArchive/media/image/Page/BZZ/1845/26_12_1845/BZZ_1845_12_26_2_object_458388.png?auth=87b5054332f04b1d569c45272d892827\n"
     ]
    },
    {
     "name": "stderr",
     "output_type": "stream",
     "text": [
      "/Users/nplattner/miniconda3/envs/AutoSearch/lib/python3.7/site-packages/urllib3/connectionpool.py:847: InsecureRequestWarning: Unverified HTTPS request is being made. Adding certificate verification is strongly advised. See: https://urllib3.readthedocs.io/en/latest/advanced-usage.html#ssl-warnings\n",
      "  InsecureRequestWarning)\n"
     ]
    },
    {
     "name": "stdout",
     "output_type": "stream",
     "text": [
      "50 https://digital.tessmann.it/mediaArchive/media/image/Page/BZZ/1845/26_12_1845/BZZ_1845_12_26_3_object_458391.png?auth=00e5e9c3194bae42e98774f21b3b51fc\n"
     ]
    },
    {
     "name": "stderr",
     "output_type": "stream",
     "text": [
      "/Users/nplattner/miniconda3/envs/AutoSearch/lib/python3.7/site-packages/urllib3/connectionpool.py:847: InsecureRequestWarning: Unverified HTTPS request is being made. Adding certificate verification is strongly advised. See: https://urllib3.readthedocs.io/en/latest/advanced-usage.html#ssl-warnings\n",
      "  InsecureRequestWarning)\n"
     ]
    },
    {
     "name": "stdout",
     "output_type": "stream",
     "text": [
      "50 https://digital.tessmann.it/mediaArchive/media/image/Page/BZZ/1845/26_12_1845/BZZ_1845_12_26_4_object_458394.png?auth=b7fe5750e2fc1727b182c4be5e152c6b\n"
     ]
    }
   ],
   "source": [
    "# from these links, we get a list of the picture links\n",
    "pictures = []\n",
    "for num in range(len(page_url_list)):\n",
    "    pictures.append([])\n",
    "    for p in range(len(page_url_list[num])):\n",
    "        http = urllib3.PoolManager()\n",
    "        response = http.request('GET', page_url_list[num][p])\n",
    "        soup = BeautifulSoup(response.data)\n",
    "        for item in soup.find_all('a'):\n",
    "            adress = item.attrs['href']\n",
    "            if adress.find('media/image') != -1 :\n",
    "                print (num, adress)\n",
    "                pictures[num].append(adress)"
   ]
  },
  {
   "cell_type": "code",
   "execution_count": 27,
   "metadata": {},
   "outputs": [
    {
     "data": {
      "text/plain": [
       "[['https://digital.tessmann.it/mediaArchive/media/image/Page/BZZ/1845/03_01_1845/BZZ_1845_01_03_1_object_459681.png?auth=32ba81b0586768bd4acffca31de634a4',\n",
       "  'https://digital.tessmann.it/mediaArchive/media/image/Page/BZZ/1845/03_01_1845/BZZ_1845_01_03_2_object_459683.png?auth=a7592f24b7b2efda8aad9f154d40295c',\n",
       "  'https://digital.tessmann.it/mediaArchive/media/image/Page/BZZ/1845/03_01_1845/BZZ_1845_01_03_3_object_459686.png?auth=3b7af8e547106266bfbf39779907d00c',\n",
       "  'https://digital.tessmann.it/mediaArchive/media/image/Page/BZZ/1845/03_01_1845/BZZ_1845_01_03_4_object_459688.png?auth=e9647f33f2df1a9696bab4c5b2093d3d',\n",
       "  'https://digital.tessmann.it/mediaArchive/media/image/Page/BZZ/1845/03_01_1845/BZZ_1845_01_03_5_object_459690.png?auth=ff954a098abe00068e791b7348bf2dd3',\n",
       "  'https://digital.tessmann.it/mediaArchive/media/image/Page/BZZ/1845/03_01_1845/BZZ_1845_01_03_6_object_459693.png?auth=d811da803e8cadbc113397e79f310be9'],\n",
       " ['https://digital.tessmann.it/mediaArchive/media/image/Page/BZZ/1845/10_01_1845/BZZ_1845_01_10_1_object_459695.png?auth=a279b8bf89344a9f6d4136659c8583af',\n",
       "  'https://digital.tessmann.it/mediaArchive/media/image/Page/BZZ/1845/10_01_1845/BZZ_1845_01_10_2_object_459697.png?auth=226460e0c4aa8ba9b05aeeb86845f7fb',\n",
       "  'https://digital.tessmann.it/mediaArchive/media/image/Page/BZZ/1845/10_01_1845/BZZ_1845_01_10_3_object_459700.png?auth=b7372919f31f83b0d5ecaed8f0e8b3ed',\n",
       "  'https://digital.tessmann.it/mediaArchive/media/image/Page/BZZ/1845/10_01_1845/BZZ_1845_01_10_4_object_459349.png?auth=c43a8cb223d4c3e0bf4573e655cd4141',\n",
       "  'https://digital.tessmann.it/mediaArchive/media/image/Page/BZZ/1845/10_01_1845/BZZ_1845_01_10_5_object_459351.png?auth=7af0972cd7e6e02dde432a5c3f01bc16',\n",
       "  'https://digital.tessmann.it/mediaArchive/media/image/Page/BZZ/1845/10_01_1845/BZZ_1845_01_10_6_object_459354.png?auth=b9a930792d7a3959d9cb0be049bb3456'],\n",
       " ['https://digital.tessmann.it/mediaArchive/media/image/Page/BZZ/1845/17_01_1845/BZZ_1845_01_17_1_object_459356.png?auth=852c21b79dc4f0048f4b72cde77a6167',\n",
       "  'https://digital.tessmann.it/mediaArchive/media/image/Page/BZZ/1845/17_01_1845/BZZ_1845_01_17_2_object_459359.png?auth=c090519feaf0ffc482c44d85d8a2557f',\n",
       "  'https://digital.tessmann.it/mediaArchive/media/image/Page/BZZ/1845/17_01_1845/BZZ_1845_01_17_3_object_459360.png?auth=95435269cae31546bdda0b19f8903b24',\n",
       "  'https://digital.tessmann.it/mediaArchive/media/image/Page/BZZ/1845/17_01_1845/BZZ_1845_01_17_4_object_459363.png?auth=9949ad61e254b39626bc7af8a211ef62'],\n",
       " ['https://digital.tessmann.it/mediaArchive/media/image/Page/BZZ/1845/24_01_1845/BZZ_1845_01_24_1_object_459366.png?auth=84b8557741877916161f766482cb4301',\n",
       "  'https://digital.tessmann.it/mediaArchive/media/image/Page/BZZ/1845/24_01_1845/BZZ_1845_01_24_2_object_459367.png?auth=8ce25afe2c3bfaa535abe46a2d60426f',\n",
       "  'https://digital.tessmann.it/mediaArchive/media/image/Page/BZZ/1845/24_01_1845/BZZ_1845_01_24_3_object_459370.png?auth=f8e6500565f82e0859a66f4254862c44',\n",
       "  'https://digital.tessmann.it/mediaArchive/media/image/Page/BZZ/1845/24_01_1845/BZZ_1845_01_24_4_object_459373.png?auth=b41f77f04b66d0caedff3a4fbd99318e',\n",
       "  'https://digital.tessmann.it/mediaArchive/media/image/Page/BZZ/1845/24_01_1845/BZZ_1845_01_24_5_object_459374.png?auth=36a1e29c2d7be1139750af850191f296',\n",
       "  'https://digital.tessmann.it/mediaArchive/media/image/Page/BZZ/1845/24_01_1845/BZZ_1845_01_24_6_object_459377.png?auth=e80de775d9a60cacb35beb4a35897c56'],\n",
       " ['https://digital.tessmann.it/mediaArchive/media/image/Page/BZZ/1845/31_01_1845/BZZ_1845_01_31_1_object_459379.png?auth=c46aa79c4fd8ea1e4d9ad387c7e055a0',\n",
       "  'https://digital.tessmann.it/mediaArchive/media/image/Page/BZZ/1845/31_01_1845/BZZ_1845_01_31_2_object_459381.png?auth=6fe9f3d18611e6c733bb06755c782438',\n",
       "  'https://digital.tessmann.it/mediaArchive/media/image/Page/BZZ/1845/31_01_1845/BZZ_1845_01_31_3_object_459384.png?auth=b82070ff0971cb82627b343f081e2f22',\n",
       "  'https://digital.tessmann.it/mediaArchive/media/image/Page/BZZ/1845/31_01_1845/BZZ_1845_01_31_4_object_459387.png?auth=9865e75bca61d66335f58c4096b2b983',\n",
       "  'https://digital.tessmann.it/mediaArchive/media/image/Page/BZZ/1845/31_01_1845/BZZ_1845_01_31_5_object_459388.png?auth=9c3eb5de1ac8b4e2a0c2e191c8c06f49',\n",
       "  'https://digital.tessmann.it/mediaArchive/media/image/Page/BZZ/1845/31_01_1845/BZZ_1845_01_31_6_object_459391.png?auth=c33d42e4d59d18922a50e8a36de59aa5',\n",
       "  'https://digital.tessmann.it/mediaArchive/media/image/Page/BZZ/1845/31_01_1845/BZZ_1845_01_31_7_object_459393.png?auth=8a5d03992359360b16fc08131193cf01',\n",
       "  'https://digital.tessmann.it/mediaArchive/media/image/Page/BZZ/1845/31_01_1845/BZZ_1845_01_31_8_object_459395.png?auth=863bb111c44dae8b7c017585ce1352d0'],\n",
       " ['https://digital.tessmann.it/mediaArchive/media/image/Page/BZZ/1845/07_02_1845/BZZ_1845_02_07_1_object_459398.png?auth=0eeed9c15012ef48ea312a31b8b0894d',\n",
       "  'https://digital.tessmann.it/mediaArchive/media/image/Page/BZZ/1845/07_02_1845/BZZ_1845_02_07_2_object_459401.png?auth=554a581c45a2bf2d0e90dd3c13de72f1',\n",
       "  'https://digital.tessmann.it/mediaArchive/media/image/Page/BZZ/1845/07_02_1845/BZZ_1845_02_07_3_object_459402.png?auth=c49701f5f326215a1d27e61053e46d29',\n",
       "  'https://digital.tessmann.it/mediaArchive/media/image/Page/BZZ/1845/07_02_1845/BZZ_1845_02_07_4_object_459405.png?auth=1316f86402806efe1b831e1226cb541e',\n",
       "  'https://digital.tessmann.it/mediaArchive/media/image/Page/BZZ/1845/07_02_1845/BZZ_1845_02_07_5_object_459408.png?auth=f71ba4ab19d768b3cfdb749695b3bd9e',\n",
       "  'https://digital.tessmann.it/mediaArchive/media/image/Page/BZZ/1845/07_02_1845/BZZ_1845_02_07_6_object_459409.png?auth=9a723688fc5c88024e42fef877f1916e',\n",
       "  'https://digital.tessmann.it/mediaArchive/media/image/Page/BZZ/1845/07_02_1845/BZZ_1845_02_07_7_object_459412.png?auth=b94b3ff0ac9e4166b06bd76a060607e9',\n",
       "  'https://digital.tessmann.it/mediaArchive/media/image/Page/BZZ/1845/07_02_1845/BZZ_1845_02_07_8_object_459415.png?auth=5ea1832099bfe94d33965c1dcf0ad0f9'],\n",
       " ['https://digital.tessmann.it/mediaArchive/media/image/Page/BZZ/1845/14_02_1845/BZZ_1845_02_14_1_object_459416.png?auth=2a367d003d4131500e66a7503d079268',\n",
       "  'https://digital.tessmann.it/mediaArchive/media/image/Page/BZZ/1845/14_02_1845/BZZ_1845_02_14_2_object_459419.png?auth=bc2e32dfa9221011cd6ffd7ca2d6023d',\n",
       "  'https://digital.tessmann.it/mediaArchive/media/image/Page/BZZ/1845/14_02_1845/BZZ_1845_02_14_3_object_459422.png?auth=2b005c293dfc8084335c59e36d441f5d',\n",
       "  'https://digital.tessmann.it/mediaArchive/media/image/Page/BZZ/1845/14_02_1845/BZZ_1845_02_14_4_object_459423.png?auth=1d60a260dc0a99cb0fe7dfb20104109d',\n",
       "  'https://digital.tessmann.it/mediaArchive/media/image/Page/BZZ/1845/14_02_1845/BZZ_1845_02_14_5_object_459426.png?auth=73b42956306e7733dce238bb020c8e91',\n",
       "  'https://digital.tessmann.it/mediaArchive/media/image/Page/BZZ/1845/14_02_1845/BZZ_1845_02_14_6_object_459429.png?auth=b0eb3c5decd8e28f6d3552993c1701bf',\n",
       "  'https://digital.tessmann.it/mediaArchive/media/image/Page/BZZ/1845/14_02_1845/BZZ_1845_02_14_7_object_459430.png?auth=46e8a85abfe2ddf287f38a212b43b08e',\n",
       "  'https://digital.tessmann.it/mediaArchive/media/image/Page/BZZ/1845/14_02_1845/BZZ_1845_02_14_8_object_459433.png?auth=d2d97ea112c3d52f89b269cf2cc9261a'],\n",
       " ['https://digital.tessmann.it/mediaArchive/media/image/Page/BZZ/1845/21_02_1845/BZZ_1845_02_21_1_object_459436.png?auth=c6a154b762c1d0880b3a9409416cba9a',\n",
       "  'https://digital.tessmann.it/mediaArchive/media/image/Page/BZZ/1845/21_02_1845/BZZ_1845_02_21_2_object_459437.png?auth=bdd5fd28c7d6a0bdfc5668a3778430fd',\n",
       "  'https://digital.tessmann.it/mediaArchive/media/image/Page/BZZ/1845/21_02_1845/BZZ_1845_02_21_3_object_459440.png?auth=c058ea64ae951cdc513742d09a944c5a',\n",
       "  'https://digital.tessmann.it/mediaArchive/media/image/Page/BZZ/1845/21_02_1845/BZZ_1845_02_21_4_object_459443.png?auth=7b04156bf11b4d218cb9edea37c61814',\n",
       "  'https://digital.tessmann.it/mediaArchive/media/image/Page/BZZ/1845/21_02_1845/BZZ_1845_02_21_5_object_459444.png?auth=e330f94ee21c448ec5f0d4b248b2deed',\n",
       "  'https://digital.tessmann.it/mediaArchive/media/image/Page/BZZ/1845/21_02_1845/BZZ_1845_02_21_6_object_459447.png?auth=a3ba13f2faf9b585cc2d81db25549f2c',\n",
       "  'https://digital.tessmann.it/mediaArchive/media/image/Page/BZZ/1845/21_02_1845/BZZ_1845_02_21_7_object_459450.png?auth=77900eb0c80258ec7731424e12220af8',\n",
       "  'https://digital.tessmann.it/mediaArchive/media/image/Page/BZZ/1845/21_02_1845/BZZ_1845_02_21_8_object_459451.png?auth=ed23d80c88736eb237eb27285d81a14f'],\n",
       " ['https://digital.tessmann.it/mediaArchive/media/image/Page/BZZ/1845/28_02_1845/BZZ_1845_02_28_1_object_459454.png?auth=bb9d53ae8f08a7c45c4fff24fc09fc41',\n",
       "  'https://digital.tessmann.it/mediaArchive/media/image/Page/BZZ/1845/28_02_1845/BZZ_1845_02_28_2_object_459457.png?auth=1030152269fdb9baaad9806527d0e79d',\n",
       "  'https://digital.tessmann.it/mediaArchive/media/image/Page/BZZ/1845/28_02_1845/BZZ_1845_02_28_3_object_459458.png?auth=49ce7fcce88a727a57e9e9dd3a036a69',\n",
       "  'https://digital.tessmann.it/mediaArchive/media/image/Page/BZZ/1845/28_02_1845/BZZ_1845_02_28_4_object_459461.png?auth=cd07124eac8c0ab4b789d3d78ee49aee',\n",
       "  'https://digital.tessmann.it/mediaArchive/media/image/Page/BZZ/1845/28_02_1845/BZZ_1845_02_28_5_object_459464.png?auth=52265250024d2dc217e3f5f0cba11b04',\n",
       "  'https://digital.tessmann.it/mediaArchive/media/image/Page/BZZ/1845/28_02_1845/BZZ_1845_02_28_6_object_459465.png?auth=243174fa494c600a5a185eb57b6fa467'],\n",
       " ['https://digital.tessmann.it/mediaArchive/media/image/Page/BZZ/1845/07_03_1845/BZZ_1845_03_07_1_object_459468.png?auth=90b0a512281cbf4faaef56c19180a433',\n",
       "  'https://digital.tessmann.it/mediaArchive/media/image/Page/BZZ/1845/07_03_1845/BZZ_1845_03_07_2_object_459471.png?auth=b88791acfef3a1256ddbc65b674968ea',\n",
       "  'https://digital.tessmann.it/mediaArchive/media/image/Page/BZZ/1845/07_03_1845/BZZ_1845_03_07_3_object_459472.png?auth=34808d6ee3ee0894689d6adbc7145013',\n",
       "  'https://digital.tessmann.it/mediaArchive/media/image/Page/BZZ/1845/07_03_1845/BZZ_1845_03_07_4_object_459475.png?auth=d237a664ea26c86a89811a78fd6ee7de',\n",
       "  'https://digital.tessmann.it/mediaArchive/media/image/Page/BZZ/1845/07_03_1845/BZZ_1845_03_07_5_object_459478.png?auth=24f00762f8532b1d9c0d940a4685d141',\n",
       "  'https://digital.tessmann.it/mediaArchive/media/image/Page/BZZ/1845/07_03_1845/BZZ_1845_03_07_6_object_459479.png?auth=1fb8be3604a8db0c6ad4bf64c4614de2',\n",
       "  'https://digital.tessmann.it/mediaArchive/media/image/Page/BZZ/1845/07_03_1845/BZZ_1845_03_07_7_object_459482.png?auth=76c965abb7fdc1aae963b42a35d29437',\n",
       "  'https://digital.tessmann.it/mediaArchive/media/image/Page/BZZ/1845/07_03_1845/BZZ_1845_03_07_8_object_459485.png?auth=e737d6624b07d2f242b17d81c9d70100',\n",
       "  'https://digital.tessmann.it/mediaArchive/media/image/Page/BZZ/1845/07_03_1845/BZZ_1845_03_07_9_object_459486.png?auth=289ab48b6a11a29c76700b199bd55c35',\n",
       "  'https://digital.tessmann.it/mediaArchive/media/image/Page/BZZ/1845/07_03_1845/BZZ_1845_03_07_10_object_459489.png?auth=7e35411d834b10c76345a8951d7ed59b',\n",
       "  'https://digital.tessmann.it/mediaArchive/media/image/Page/BZZ/1845/07_03_1845/BZZ_1845_03_07_11_object_459491.png?auth=252cb1d1c8ef922a0b7553a253025c35'],\n",
       " ['https://digital.tessmann.it/mediaArchive/media/image/Page/BZZ/1845/14_03_1845/BZZ_1845_03_14_1_object_459496.png?auth=da2235e71450f048946f6c8342a9417e',\n",
       "  'https://digital.tessmann.it/mediaArchive/media/image/Page/BZZ/1845/14_03_1845/BZZ_1845_03_14_2_object_459499.png?auth=23dafc82eda273b489e41043732bd36c',\n",
       "  'https://digital.tessmann.it/mediaArchive/media/image/Page/BZZ/1845/14_03_1845/BZZ_1845_03_14_3_object_459500.png?auth=0eb0537dce1867bad2865a693bf61593',\n",
       "  'https://digital.tessmann.it/mediaArchive/media/image/Page/BZZ/1845/14_03_1845/BZZ_1845_03_14_4_object_459503.png?auth=0a681b130cf9cb9b41d9bc827e02f2c0',\n",
       "  'https://digital.tessmann.it/mediaArchive/media/image/Page/BZZ/1845/14_03_1845/BZZ_1845_03_14_5_object_459505.png?auth=bdfa34c322aeb288a727b7dbacb53ce4',\n",
       "  'https://digital.tessmann.it/mediaArchive/media/image/Page/BZZ/1845/14_03_1845/BZZ_1845_03_14_6_object_459508.png?auth=b03e23c076876ed3253261f39ff626bb',\n",
       "  'https://digital.tessmann.it/mediaArchive/media/image/Page/BZZ/1845/14_03_1845/BZZ_1845_03_14_7_object_459510.png?auth=87593ac07980fa16b79547fda4335456',\n",
       "  'https://digital.tessmann.it/mediaArchive/media/image/Page/BZZ/1845/14_03_1845/BZZ_1845_03_14_8_object_459512.png?auth=78f72e2655dafd7becec2c2a3ff61416',\n",
       "  'https://digital.tessmann.it/mediaArchive/media/image/Page/BZZ/1845/14_03_1845/BZZ_1845_03_14_9_object_459515.png?auth=d606f339821ae208b001dcb65dd881af',\n",
       "  'https://digital.tessmann.it/mediaArchive/media/image/Page/BZZ/1845/14_03_1845/BZZ_1845_03_14_10_object_459517.png?auth=a3703b5d3d3a46ce135103209d3933e0',\n",
       "  'https://digital.tessmann.it/mediaArchive/media/image/Page/BZZ/1845/14_03_1845/BZZ_1845_03_14_11_object_459519.png?auth=27b441f97455b1cc4be973ccd9373d7d'],\n",
       " ['https://digital.tessmann.it/mediaArchive/media/image/Page/BZZ/1845/21_03_1845/BZZ_1845_03_21_1_object_459524.png?auth=7260cff1c30b49c12ff2d2b65aabaf0a',\n",
       "  'https://digital.tessmann.it/mediaArchive/media/image/Page/BZZ/1845/21_03_1845/BZZ_1845_03_21_2_object_459136.png?auth=8e6b90de06d23a7547253f876c6adab5',\n",
       "  'https://digital.tessmann.it/mediaArchive/media/image/Page/BZZ/1845/21_03_1845/BZZ_1845_03_21_3_object_459139.png?auth=72e21bea697d165a9e10960fa59193de',\n",
       "  'https://digital.tessmann.it/mediaArchive/media/image/Page/BZZ/1845/21_03_1845/BZZ_1845_03_21_4_object_459142.png?auth=2a5c71db1ad6f3a2a59f9e4bf71d4843',\n",
       "  'https://digital.tessmann.it/mediaArchive/media/image/Page/BZZ/1845/21_03_1845/BZZ_1845_03_21_5_object_459146.png?auth=1d36a53d4d280c0b888a51b562b62629',\n",
       "  'https://digital.tessmann.it/mediaArchive/media/image/Page/BZZ/1845/21_03_1845/BZZ_1845_03_21_6_object_459148.png?auth=de645927e99ac7f866bd9835ab691f47',\n",
       "  'https://digital.tessmann.it/mediaArchive/media/image/Page/BZZ/1845/21_03_1845/BZZ_1845_03_21_7_object_459151.png?auth=f8374bf5a2a2ed6f69129dfd2c910c52',\n",
       "  'https://digital.tessmann.it/mediaArchive/media/image/Page/BZZ/1845/21_03_1845/BZZ_1845_03_21_8_object_459155.png?auth=d954ed528022b6839280e5def18c6f22',\n",
       "  'https://digital.tessmann.it/mediaArchive/media/image/Page/BZZ/1845/21_03_1845/BZZ_1845_03_21_9_object_459158.png?auth=1b820c85016057fd469b9ce294f6eaff',\n",
       "  'https://digital.tessmann.it/mediaArchive/media/image/Page/BZZ/1845/21_03_1845/BZZ_1845_03_21_10_object_459160.png?auth=08cfb6b9584fe6bb959ae6142339493e',\n",
       "  'https://digital.tessmann.it/mediaArchive/media/image/Page/BZZ/1845/21_03_1845/BZZ_1845_03_21_11_object_459164.png?auth=466e0e2851ae25a1b0ae5ecdfed04e58'],\n",
       " ['https://digital.tessmann.it/mediaArchive/media/image/Page/BZZ/1845/28_03_1845/BZZ_1845_03_28_1_object_459169.png?auth=bf8fb9da4882cca988b36bef829076a3',\n",
       "  'https://digital.tessmann.it/mediaArchive/media/image/Page/BZZ/1845/28_03_1845/BZZ_1845_03_28_2_object_459173.png?auth=af7b742d1c0bb8b8df1c76102efa0ae4',\n",
       "  'https://digital.tessmann.it/mediaArchive/media/image/Page/BZZ/1845/28_03_1845/BZZ_1845_03_28_3_object_459176.png?auth=516cd22fd45a12e6af8bd2e0309f6adf',\n",
       "  'https://digital.tessmann.it/mediaArchive/media/image/Page/BZZ/1845/28_03_1845/BZZ_1845_03_28_4_object_459179.png?auth=b3564d4586509f359d40992b540e929c',\n",
       "  'https://digital.tessmann.it/mediaArchive/media/image/Page/BZZ/1845/28_03_1845/BZZ_1845_03_28_5_object_459182.png?auth=ab6bdc72e8747b77c73c57c6e86fff09',\n",
       "  'https://digital.tessmann.it/mediaArchive/media/image/Page/BZZ/1845/28_03_1845/BZZ_1845_03_28_6_object_459185.png?auth=a999cc094f9d4177931f2b4dfc74defb',\n",
       "  'https://digital.tessmann.it/mediaArchive/media/image/Page/BZZ/1845/28_03_1845/BZZ_1845_03_28_7_object_459188.png?auth=6982d6b200981b9886e59861c7349d9a',\n",
       "  'https://digital.tessmann.it/mediaArchive/media/image/Page/BZZ/1845/28_03_1845/BZZ_1845_03_28_8_object_459192.png?auth=36b692811d92776487ef6e1203140a6b',\n",
       "  'https://digital.tessmann.it/mediaArchive/media/image/Page/BZZ/1845/28_03_1845/BZZ_1845_03_28_9_object_459194.png?auth=1d52ace28ebc8868123a97e2ad08d0fb',\n",
       "  'https://digital.tessmann.it/mediaArchive/media/image/Page/BZZ/1845/28_03_1845/BZZ_1845_03_28_10_object_459197.png?auth=8d68dddcb79fbe26573e9921c3164efd'],\n",
       " ['https://digital.tessmann.it/mediaArchive/media/image/Page/BZZ/1845/04_04_1845/BZZ_1845_04_04_1_object_459201.png?auth=9c958f784af1e8749b86d133ec1f3c22',\n",
       "  'https://digital.tessmann.it/mediaArchive/media/image/Page/BZZ/1845/04_04_1845/BZZ_1845_04_04_2_object_459204.png?auth=bb6d7796d8717f277e9eece4d0e6f360',\n",
       "  'https://digital.tessmann.it/mediaArchive/media/image/Page/BZZ/1845/04_04_1845/BZZ_1845_04_04_3_object_459206.png?auth=dd5d79ebabbbbe8874bcf281d480acee',\n",
       "  'https://digital.tessmann.it/mediaArchive/media/image/Page/BZZ/1845/04_04_1845/BZZ_1845_04_04_4_object_459210.png?auth=a834953ae9446f846ecc0d3dd2ef5927',\n",
       "  'https://digital.tessmann.it/mediaArchive/media/image/Page/BZZ/1845/04_04_1845/BZZ_1845_04_04_5_object_459213.png?auth=531edf9523f81d8a56a7248e2bef9ea4',\n",
       "  'https://digital.tessmann.it/mediaArchive/media/image/Page/BZZ/1845/04_04_1845/BZZ_1845_04_04_6_object_459215.png?auth=f349c68a93a6bba7bd8f8435720ee22a',\n",
       "  'https://digital.tessmann.it/mediaArchive/media/image/Page/BZZ/1845/04_04_1845/BZZ_1845_04_04_7_object_459219.png?auth=d128829be3b0e2e3983fc7d710a4877d',\n",
       "  'https://digital.tessmann.it/mediaArchive/media/image/Page/BZZ/1845/04_04_1845/BZZ_1845_04_04_8_object_459222.png?auth=e0768f5ec8ec218be1c59e9b9be419e3'],\n",
       " ['https://digital.tessmann.it/mediaArchive/media/image/Page/BZZ/1845/11_04_1845/BZZ_1845_04_11_1_object_459225.png?auth=1e4a88e20d711fe10e655f3cfe57b3f9',\n",
       "  'https://digital.tessmann.it/mediaArchive/media/image/Page/BZZ/1845/11_04_1845/BZZ_1845_04_11_2_object_459227.png?auth=1fa37544e97f889a62f7bd1cbd08729d',\n",
       "  'https://digital.tessmann.it/mediaArchive/media/image/Page/BZZ/1845/11_04_1845/BZZ_1845_04_11_3_object_459230.png?auth=51bb862c303f6ac3e73a54176a0ddabf',\n",
       "  'https://digital.tessmann.it/mediaArchive/media/image/Page/BZZ/1845/11_04_1845/BZZ_1845_04_11_4_object_459234.png?auth=eae7f90de8eee60dc655e7f317e1f5e6',\n",
       "  'https://digital.tessmann.it/mediaArchive/media/image/Page/BZZ/1845/11_04_1845/BZZ_1845_04_11_5_object_459237.png?auth=bf10cf35b2c1debc9c7747e3755d473c',\n",
       "  'https://digital.tessmann.it/mediaArchive/media/image/Page/BZZ/1845/11_04_1845/BZZ_1845_04_11_6_object_459239.png?auth=ba5ce10e2d28c6d7857627b0dcfbeef6'],\n",
       " ['https://digital.tessmann.it/mediaArchive/media/image/Page/BZZ/1845/18_04_1845/BZZ_1845_04_18_1_object_459243.png?auth=76b5f45355b440ce102b2bfb27323b5c',\n",
       "  'https://digital.tessmann.it/mediaArchive/media/image/Page/BZZ/1845/18_04_1845/BZZ_1845_04_18_2_object_459246.png?auth=440aa2134332ffcc06653727ebeb69fe',\n",
       "  'https://digital.tessmann.it/mediaArchive/media/image/Page/BZZ/1845/18_04_1845/BZZ_1845_04_18_3_object_459248.png?auth=49baecd5dc9fdb4301d5dd9bae7bbf0e',\n",
       "  'https://digital.tessmann.it/mediaArchive/media/image/Page/BZZ/1845/18_04_1845/BZZ_1845_04_18_4_object_459252.png?auth=cd310e0c51737200bb46b5163339f00b',\n",
       "  'https://digital.tessmann.it/mediaArchive/media/image/Page/BZZ/1845/18_04_1845/BZZ_1845_04_18_5_object_459255.png?auth=8ba0f16f94eedc1c420861fd5f3cec2d',\n",
       "  'https://digital.tessmann.it/mediaArchive/media/image/Page/BZZ/1845/18_04_1845/BZZ_1845_04_18_6_object_459257.png?auth=88696fb93c9196b2a594c2b8d6b4a0a5'],\n",
       " ['https://digital.tessmann.it/mediaArchive/media/image/Page/BZZ/1845/25_04_1845/BZZ_1845_04_25_1_object_459261.png?auth=2d6a6352ceeeaf040bd85a22e372f05e',\n",
       "  'https://digital.tessmann.it/mediaArchive/media/image/Page/BZZ/1845/25_04_1845/BZZ_1845_04_25_2_object_459264.png?auth=f5ceb2bc6044498bb34a6bef8b3a1bda',\n",
       "  'https://digital.tessmann.it/mediaArchive/media/image/Page/BZZ/1845/25_04_1845/BZZ_1845_04_25_3_object_459266.png?auth=99a3ea820a26e47e81617ae5d4143953',\n",
       "  'https://digital.tessmann.it/mediaArchive/media/image/Page/BZZ/1845/25_04_1845/BZZ_1845_04_25_4_object_459269.png?auth=a10f998a54605d27768d99fa5d5a6b15',\n",
       "  'https://digital.tessmann.it/mediaArchive/media/image/Page/BZZ/1845/25_04_1845/BZZ_1845_04_25_5_object_459272.png?auth=dcd61d43222a2ed511daac79ae095588',\n",
       "  'https://digital.tessmann.it/mediaArchive/media/image/Page/BZZ/1845/25_04_1845/BZZ_1845_04_25_6_object_459276.png?auth=54b99859ba69eac0cd6a2746ef5063b8',\n",
       "  'https://digital.tessmann.it/mediaArchive/media/image/Page/BZZ/1845/25_04_1845/BZZ_1845_04_25_7_object_459279.png?auth=6461f78b67f595a0b6c3bdde81cdb002'],\n",
       " ['https://digital.tessmann.it/mediaArchive/media/image/Page/BZZ/1845/02_05_1845/BZZ_1845_05_02_1_object_459282.png?auth=fc29272a81afe97d7602fed9f5c3ab62',\n",
       "  'https://digital.tessmann.it/mediaArchive/media/image/Page/BZZ/1845/02_05_1845/BZZ_1845_05_02_2_object_459285.png?auth=c0d7bae13557092142e2a7175ade3ddb',\n",
       "  'https://digital.tessmann.it/mediaArchive/media/image/Page/BZZ/1845/02_05_1845/BZZ_1845_05_02_3_object_459288.png?auth=84ee80dcd36b0d9685eda104b5dfd3c0',\n",
       "  'https://digital.tessmann.it/mediaArchive/media/image/Page/BZZ/1845/02_05_1845/BZZ_1845_05_02_4_object_459291.png?auth=a63948cc80d8f5b22fe1a7ddf3c4c82c',\n",
       "  'https://digital.tessmann.it/mediaArchive/media/image/Page/BZZ/1845/02_05_1845/BZZ_1845_05_02_5_object_459293.png?auth=c8db24a7b4b4eabfad24c5c8a3abe5c3',\n",
       "  'https://digital.tessmann.it/mediaArchive/media/image/Page/BZZ/1845/02_05_1845/BZZ_1845_05_02_6_object_459296.png?auth=c8a629492219b58eb94381dde28e375e',\n",
       "  'https://digital.tessmann.it/mediaArchive/media/image/Page/BZZ/1845/02_05_1845/BZZ_1845_05_02_7_object_459298.png?auth=ec61f8eee6d3f029576c723d023da84e',\n",
       "  'https://digital.tessmann.it/mediaArchive/media/image/Page/BZZ/1845/02_05_1845/BZZ_1845_05_02_8_object_459301.png?auth=3056689e42043064fd190724d9df24ba'],\n",
       " ['https://digital.tessmann.it/mediaArchive/media/image/Page/BZZ/1845/09_05_1845/BZZ_1845_05_09_1_object_459303.png?auth=d70adc62274f3a2b4785b4b82960af7f',\n",
       "  'https://digital.tessmann.it/mediaArchive/media/image/Page/BZZ/1845/09_05_1845/BZZ_1845_05_09_2_object_459305.png?auth=34c8b240cf7aaad230c27a74812e4663',\n",
       "  'https://digital.tessmann.it/mediaArchive/media/image/Page/BZZ/1845/09_05_1845/BZZ_1845_05_09_3_object_459308.png?auth=6a68e9cefe35afa24f9c21210dfc5096',\n",
       "  'https://digital.tessmann.it/mediaArchive/media/image/Page/BZZ/1845/09_05_1845/BZZ_1845_05_09_4_object_459310.png?auth=70ee0404514d842e00c5679cc9a34dd7',\n",
       "  'https://digital.tessmann.it/mediaArchive/media/image/Page/BZZ/1845/09_05_1845/BZZ_1845_05_09_5_object_459312.png?auth=3838554d721cb364084acad28a4c3d55',\n",
       "  'https://digital.tessmann.it/mediaArchive/media/image/Page/BZZ/1845/09_05_1845/BZZ_1845_05_09_6_object_459315.png?auth=9ea4533b38a6d0fede4a8b34be53203c',\n",
       "  'https://digital.tessmann.it/mediaArchive/media/image/Page/BZZ/1845/09_05_1845/BZZ_1845_05_09_7_object_459317.png?auth=150ef6e2a4851e3c96af4dcaa0e3d705',\n",
       "  'https://digital.tessmann.it/mediaArchive/media/image/Page/BZZ/1845/09_05_1845/BZZ_1845_05_09_8_object_459319.png?auth=93a7ee36a70c31fd0c4b8eebf51dea52',\n",
       "  'https://digital.tessmann.it/mediaArchive/media/image/Page/BZZ/1845/09_05_1845/BZZ_1845_05_09_9_object_459322.png?auth=49fa9d2187916e44927402e165139cb0',\n",
       "  'https://digital.tessmann.it/mediaArchive/media/image/Page/BZZ/1845/09_05_1845/BZZ_1845_05_09_10_object_459324.png?auth=d0a6fdda6481f7bd8302b9cc2d7662aa'],\n",
       " ['https://digital.tessmann.it/mediaArchive/media/image/Page/BZZ/1845/16_05_1845/BZZ_1845_05_16_1_object_459326.png?auth=de7176d29b4cf3754fe89b3dc6bd15c8',\n",
       "  'https://digital.tessmann.it/mediaArchive/media/image/Page/BZZ/1845/16_05_1845/BZZ_1845_05_16_2_object_459328.png?auth=15bcf6b267eae610e09465650d4dfb91',\n",
       "  'https://digital.tessmann.it/mediaArchive/media/image/Page/BZZ/1845/16_05_1845/BZZ_1845_05_16_3_object_459331.png?auth=3998d85879d3d09effec60d913f2d515',\n",
       "  'https://digital.tessmann.it/mediaArchive/media/image/Page/BZZ/1845/16_05_1845/BZZ_1845_05_16_4_object_459333.png?auth=c71bff28bbfcd2c15676dcc9e56f001a',\n",
       "  'https://digital.tessmann.it/mediaArchive/media/image/Page/BZZ/1845/16_05_1845/BZZ_1845_05_16_5_object_459335.png?auth=2ad80648523fc4720174bdc38ac7799e',\n",
       "  'https://digital.tessmann.it/mediaArchive/media/image/Page/BZZ/1845/16_05_1845/BZZ_1845_05_16_6_object_459338.png?auth=b8117fe7d1031a6adfc4dd20144d8202',\n",
       "  'https://digital.tessmann.it/mediaArchive/media/image/Page/BZZ/1845/16_05_1845/BZZ_1845_05_16_7_object_459340.png?auth=bec4eeb7b62dc3bf462712ad9afbb061',\n",
       "  'https://digital.tessmann.it/mediaArchive/media/image/Page/BZZ/1845/16_05_1845/BZZ_1845_05_16_8_object_459342.png?auth=b584591bdbc1d59b06f3d163c388eb20'],\n",
       " ['https://digital.tessmann.it/mediaArchive/media/image/Page/BZZ/1845/23_05_1845/BZZ_1845_05_23_1_object_459345.png?auth=0334cb729f7d5c3cc032ed7548245000',\n",
       "  'https://digital.tessmann.it/mediaArchive/media/image/Page/BZZ/1845/23_05_1845/BZZ_1845_05_23_2_object_459347.png?auth=c23c44b8866f38051b9ee4cfc2b61ade',\n",
       "  'https://digital.tessmann.it/mediaArchive/media/image/Page/BZZ/1845/23_05_1845/BZZ_1845_05_23_3_object_458926.png?auth=a9b5b5a0d5c6ed1cae794c4342e0482a',\n",
       "  'https://digital.tessmann.it/mediaArchive/media/image/Page/BZZ/1845/23_05_1845/BZZ_1845_05_23_4_object_458928.png?auth=6dcc127b533a9c585165ff98cede38e0',\n",
       "  'https://digital.tessmann.it/mediaArchive/media/image/Page/BZZ/1845/23_05_1845/BZZ_1845_05_23_5_object_458931.png?auth=4d0d57d3c7ec093ebe9dc8cc2b0392e5',\n",
       "  'https://digital.tessmann.it/mediaArchive/media/image/Page/BZZ/1845/23_05_1845/BZZ_1845_05_23_6_object_458934.png?auth=16e7ace094f04bc395bf121303968c9f',\n",
       "  'https://digital.tessmann.it/mediaArchive/media/image/Page/BZZ/1845/23_05_1845/BZZ_1845_05_23_7_object_458936.png?auth=794141cd4b444b5eb90d9cd70fb66d5e',\n",
       "  'https://digital.tessmann.it/mediaArchive/media/image/Page/BZZ/1845/23_05_1845/BZZ_1845_05_23_8_object_458938.png?auth=c80f23eb07333e29f41024a19732bf90',\n",
       "  'https://digital.tessmann.it/mediaArchive/media/image/Page/BZZ/1845/23_05_1845/BZZ_1845_05_23_9_object_458941.png?auth=0f66e2af742354160de8e8bb21b65b89',\n",
       "  'https://digital.tessmann.it/mediaArchive/media/image/Page/BZZ/1845/23_05_1845/BZZ_1845_05_23_10_object_458943.png?auth=db763814b69f26dcade32db555b3db38',\n",
       "  'https://digital.tessmann.it/mediaArchive/media/image/Page/BZZ/1845/23_05_1845/BZZ_1845_05_23_11_object_458945.png?auth=0a6b587a7f9ea2fe1d7dcb6d839979dc'],\n",
       " ['https://digital.tessmann.it/mediaArchive/media/image/Page/BZZ/1845/30_05_1845/BZZ_1845_05_30_1_object_458950.png?auth=919503d0797dfeb5dfb33b2f25dcbaee',\n",
       "  'https://digital.tessmann.it/mediaArchive/media/image/Page/BZZ/1845/30_05_1845/BZZ_1845_05_30_2_object_458953.png?auth=9c19f2aafb3a60edb3d90ab2845bbb9f',\n",
       "  'https://digital.tessmann.it/mediaArchive/media/image/Page/BZZ/1845/30_05_1845/BZZ_1845_05_30_3_object_458954.png?auth=a8ddef5e991602e19f778c5a5624b1d1',\n",
       "  'https://digital.tessmann.it/mediaArchive/media/image/Page/BZZ/1845/30_05_1845/BZZ_1845_05_30_4_object_458957.png?auth=8590de080485d54445766707891cea30',\n",
       "  'https://digital.tessmann.it/mediaArchive/media/image/Page/BZZ/1845/30_05_1845/BZZ_1845_05_30_5_object_458960.png?auth=7cecb84c388733d1b3d29f314dcfe71a',\n",
       "  'https://digital.tessmann.it/mediaArchive/media/image/Page/BZZ/1845/30_05_1845/BZZ_1845_05_30_6_object_458961.png?auth=fded4a1e8dd760773554dc6eebbdec12'],\n",
       " ['https://digital.tessmann.it/mediaArchive/media/image/Page/BZZ/1845/06_06_1845/BZZ_1845_06_06_1_object_458964.png?auth=3032d2cff99eb4093a6660528fbb7d45',\n",
       "  'https://digital.tessmann.it/mediaArchive/media/image/Page/BZZ/1845/06_06_1845/BZZ_1845_06_06_2_object_458967.png?auth=d81c3d0d1a85c2034d58658187efe489',\n",
       "  'https://digital.tessmann.it/mediaArchive/media/image/Page/BZZ/1845/06_06_1845/BZZ_1845_06_06_3_object_458969.png?auth=462d4665e6596158586e1482b3e08bf8',\n",
       "  'https://digital.tessmann.it/mediaArchive/media/image/Page/BZZ/1845/06_06_1845/BZZ_1845_06_06_4_object_458971.png?auth=25496d436286b2636b741309944b24a7',\n",
       "  'https://digital.tessmann.it/mediaArchive/media/image/Page/BZZ/1845/06_06_1845/BZZ_1845_06_06_5_object_458974.png?auth=f758bfebb60b400235de4d7a55045c63',\n",
       "  'https://digital.tessmann.it/mediaArchive/media/image/Page/BZZ/1845/06_06_1845/BZZ_1845_06_06_6_object_458976.png?auth=67ce4d967ead0868a73134f15f514e30'],\n",
       " ['https://digital.tessmann.it/mediaArchive/media/image/Page/BZZ/1845/13_06_1845/BZZ_1845_06_13_1_object_458978.png?auth=f30d4799fa9535c9b36f2572751eff4e',\n",
       "  'https://digital.tessmann.it/mediaArchive/media/image/Page/BZZ/1845/13_06_1845/BZZ_1845_06_13_2_object_458981.png?auth=ea0f62a0feb3ad9aaab05eeb4f87d0b4',\n",
       "  'https://digital.tessmann.it/mediaArchive/media/image/Page/BZZ/1845/13_06_1845/BZZ_1845_06_13_3_object_458983.png?auth=eeed902b19deaab095a349597feb5f0d',\n",
       "  'https://digital.tessmann.it/mediaArchive/media/image/Page/BZZ/1845/13_06_1845/BZZ_1845_06_13_4_object_458986.png?auth=b84bf14c35efef08ca8b1dc8db8a3773',\n",
       "  'https://digital.tessmann.it/mediaArchive/media/image/Page/BZZ/1845/13_06_1845/BZZ_1845_06_13_5_object_458988.png?auth=16f18aee8ce2e9daac6fd393e06e68bd',\n",
       "  'https://digital.tessmann.it/mediaArchive/media/image/Page/BZZ/1845/13_06_1845/BZZ_1845_06_13_6_object_458990.png?auth=1539c572a8926d91a5ae8c650ef89660'],\n",
       " ['https://digital.tessmann.it/mediaArchive/media/image/Page/BZZ/1845/20_06_1845/BZZ_1845_06_20_1_object_458993.png?auth=46cc8d3a90e80fa016d60175207cce83',\n",
       "  'https://digital.tessmann.it/mediaArchive/media/image/Page/BZZ/1845/20_06_1845/BZZ_1845_06_20_2_object_458995.png?auth=e918c53055176339566d890cd248a3f6',\n",
       "  'https://digital.tessmann.it/mediaArchive/media/image/Page/BZZ/1845/20_06_1845/BZZ_1845_06_20_3_object_458997.png?auth=0c524a8c887e43d433cd0976b568b9db',\n",
       "  'https://digital.tessmann.it/mediaArchive/media/image/Page/BZZ/1845/20_06_1845/BZZ_1845_06_20_4_object_459000.png?auth=ab36677dbd14873ffefb60f509399b64',\n",
       "  'https://digital.tessmann.it/mediaArchive/media/image/Page/BZZ/1845/20_06_1845/BZZ_1845_06_20_5_object_459003.png?auth=7dd78221aaf997feee13752d6dc8c249',\n",
       "  'https://digital.tessmann.it/mediaArchive/media/image/Page/BZZ/1845/20_06_1845/BZZ_1845_06_20_6_object_459005.png?auth=df5b9c2424eebc15dcad03ea6ac49802',\n",
       "  'https://digital.tessmann.it/mediaArchive/media/image/Page/BZZ/1845/20_06_1845/BZZ_1845_06_20_7_object_459009.png?auth=dd33b0a3aa6321a382b8c1d2a3f9b97e',\n",
       "  'https://digital.tessmann.it/mediaArchive/media/image/Page/BZZ/1845/20_06_1845/BZZ_1845_06_20_8_object_459012.png?auth=838e53115f201b45a5bb6a65ce4e9f5c'],\n",
       " ['https://digital.tessmann.it/mediaArchive/media/image/Page/BZZ/1845/27_06_1845/BZZ_1845_06_27_1_object_459014.png?auth=0436b72d72cefc6fb9b92f755dc715cd',\n",
       "  'https://digital.tessmann.it/mediaArchive/media/image/Page/BZZ/1845/27_06_1845/BZZ_1845_06_27_2_object_459018.png?auth=17c2cf6054b153fa75b68432f30d93f5',\n",
       "  'https://digital.tessmann.it/mediaArchive/media/image/Page/BZZ/1845/27_06_1845/BZZ_1845_06_27_3_object_459021.png?auth=f7e28cfbd5ab3c1ecf607fe50306c713',\n",
       "  'https://digital.tessmann.it/mediaArchive/media/image/Page/BZZ/1845/27_06_1845/BZZ_1845_06_27_4_object_459024.png?auth=fc248aa0f78293c3465bfd7d09710fe5',\n",
       "  'https://digital.tessmann.it/mediaArchive/media/image/Page/BZZ/1845/27_06_1845/BZZ_1845_06_27_5_object_459027.png?auth=e251a5368c1facf8a491fd3034ee63f8',\n",
       "  'https://digital.tessmann.it/mediaArchive/media/image/Page/BZZ/1845/27_06_1845/BZZ_1845_06_27_6_object_459030.png?auth=a43dfb3f2f6bfe8b6e50511ec2adf546',\n",
       "  'https://digital.tessmann.it/mediaArchive/media/image/Page/BZZ/1845/27_06_1845/BZZ_1845_06_27_7_object_459033.png?auth=af563679207b621a38a404d83d529dce',\n",
       "  'https://digital.tessmann.it/mediaArchive/media/image/Page/BZZ/1845/27_06_1845/BZZ_1845_06_27_8_object_459037.png?auth=9d675b28410fed838759173168c02449'],\n",
       " ['https://digital.tessmann.it/mediaArchive/media/image/Page/BZZ/1845/04_07_1845/BZZ_1845_07_04_1_object_459039.png?auth=d44ba75359585afcc6bdda1f7cda64c5',\n",
       "  'https://digital.tessmann.it/mediaArchive/media/image/Page/BZZ/1845/04_07_1845/BZZ_1845_07_04_2_object_459042.png?auth=45360c649be5256297ff2b73b7760551',\n",
       "  'https://digital.tessmann.it/mediaArchive/media/image/Page/BZZ/1845/04_07_1845/BZZ_1845_07_04_3_object_459045.png?auth=f192cd1f23d19813cb16c8418c4219dc',\n",
       "  'https://digital.tessmann.it/mediaArchive/media/image/Page/BZZ/1845/04_07_1845/BZZ_1845_07_04_4_object_459048.png?auth=0f9847265c986af0b3d77c093fc5a617',\n",
       "  'https://digital.tessmann.it/mediaArchive/media/image/Page/BZZ/1845/04_07_1845/BZZ_1845_07_04_5_object_459051.png?auth=42384d45fcab242ebd3b4fb5de2300f1',\n",
       "  'https://digital.tessmann.it/mediaArchive/media/image/Page/BZZ/1845/04_07_1845/BZZ_1845_07_04_6_object_459055.png?auth=5a0b098855627a56dc71385a5d6247e6',\n",
       "  'https://digital.tessmann.it/mediaArchive/media/image/Page/BZZ/1845/04_07_1845/BZZ_1845_07_04_7_object_459058.png?auth=efcd8acbee0ac0902301849432a703db',\n",
       "  'https://digital.tessmann.it/mediaArchive/media/image/Page/BZZ/1845/04_07_1845/BZZ_1845_07_04_8_object_459060.png?auth=2ffa11babab37cb85449ca23509cc921'],\n",
       " ['https://digital.tessmann.it/mediaArchive/media/image/Page/BZZ/1845/11_07_1845/BZZ_1845_07_11_1_object_459063.png?auth=656a9f28015959f9e545be11ab49238a',\n",
       "  'https://digital.tessmann.it/mediaArchive/media/image/Page/BZZ/1845/11_07_1845/BZZ_1845_07_11_2_object_459067.png?auth=34feeceb67fe54bba3a1cbb50c5a69f6',\n",
       "  'https://digital.tessmann.it/mediaArchive/media/image/Page/BZZ/1845/11_07_1845/BZZ_1845_07_11_3_object_459069.png?auth=04db84700c1d3b13becde00fd0887f1e',\n",
       "  'https://digital.tessmann.it/mediaArchive/media/image/Page/BZZ/1845/11_07_1845/BZZ_1845_07_11_4_object_459072.png?auth=bc59bc54bc201516f8dbb43e89a8bbd2',\n",
       "  'https://digital.tessmann.it/mediaArchive/media/image/Page/BZZ/1845/11_07_1845/BZZ_1845_07_11_5_object_459075.png?auth=45fcb81b67f586a7507e25cc0f0d334c',\n",
       "  'https://digital.tessmann.it/mediaArchive/media/image/Page/BZZ/1845/11_07_1845/BZZ_1845_07_11_6_object_459079.png?auth=c923310a146ffb07fc4704ea83ad994a'],\n",
       " ['https://digital.tessmann.it/mediaArchive/media/image/Page/BZZ/1845/18_07_1845/BZZ_1845_07_18_1_object_459081.png?auth=8aeedc9f2b7f1c233120e6f328c066a5',\n",
       "  'https://digital.tessmann.it/mediaArchive/media/image/Page/BZZ/1845/18_07_1845/BZZ_1845_07_18_2_object_459084.png?auth=35bb5b47606ff1a9e02a5f79b8ad1519',\n",
       "  'https://digital.tessmann.it/mediaArchive/media/image/Page/BZZ/1845/18_07_1845/BZZ_1845_07_18_3_object_459088.png?auth=4ef19d6b295b30a67157604128a871bf',\n",
       "  'https://digital.tessmann.it/mediaArchive/media/image/Page/BZZ/1845/18_07_1845/BZZ_1845_07_18_4_object_459091.png?auth=b416504629eda09508ba6e07abda02aa',\n",
       "  'https://digital.tessmann.it/mediaArchive/media/image/Page/BZZ/1845/18_07_1845/BZZ_1845_07_18_5_object_459093.png?auth=19dcbf0dedfde795866d004d0b2621cd',\n",
       "  'https://digital.tessmann.it/mediaArchive/media/image/Page/BZZ/1845/18_07_1845/BZZ_1845_07_18_6_object_459097.png?auth=89f8e765787467a9edcb10acbe643134'],\n",
       " ['https://digital.tessmann.it/mediaArchive/media/image/Page/BZZ/1845/25_07_1845/BZZ_1845_07_25_1_object_459100.png?auth=b47e2ba44aa9a5edaaac8c43a0a1af9b',\n",
       "  'https://digital.tessmann.it/mediaArchive/media/image/Page/BZZ/1845/25_07_1845/BZZ_1845_07_25_2_object_459102.png?auth=fd2e88e4f626d69d97ba9df9d0460812',\n",
       "  'https://digital.tessmann.it/mediaArchive/media/image/Page/BZZ/1845/25_07_1845/BZZ_1845_07_25_3_object_459106.png?auth=f13cdb47534fe4632f7fa4cd35a63e0b',\n",
       "  'https://digital.tessmann.it/mediaArchive/media/image/Page/BZZ/1845/25_07_1845/BZZ_1845_07_25_4_object_459109.png?auth=e572765341a5550f56e042f82b7d66ff',\n",
       "  'https://digital.tessmann.it/mediaArchive/media/image/Page/BZZ/1845/25_07_1845/BZZ_1845_07_25_5_object_459112.png?auth=7b567895196cfd2de80317a2d2f39ac6',\n",
       "  'https://digital.tessmann.it/mediaArchive/media/image/Page/BZZ/1845/25_07_1845/BZZ_1845_07_25_6_object_459115.png?auth=62529af6a5bcd287db99833716df6051'],\n",
       " ['https://digital.tessmann.it/mediaArchive/media/image/Page/BZZ/1845/01_08_1845/BZZ_1845_08_01_1_object_459118.png?auth=e7f22ab0c485f85d3449d6bd0a815e49',\n",
       "  'https://digital.tessmann.it/mediaArchive/media/image/Page/BZZ/1845/01_08_1845/BZZ_1845_08_01_2_object_459121.png?auth=670fec928f44bfd15fe3b1585dc565d6',\n",
       "  'https://digital.tessmann.it/mediaArchive/media/image/Page/BZZ/1845/01_08_1845/BZZ_1845_08_01_3_object_459124.png?auth=f271d6b9dbd571421bdf2ea6ab296906',\n",
       "  'https://digital.tessmann.it/mediaArchive/media/image/Page/BZZ/1845/01_08_1845/BZZ_1845_08_01_4_object_459127.png?auth=da60d2c6ceca4396026bb7322e240157',\n",
       "  'https://digital.tessmann.it/mediaArchive/media/image/Page/BZZ/1845/01_08_1845/BZZ_1845_08_01_5_object_459130.png?auth=73ea74079789a6a893f07d22c21300c7',\n",
       "  'https://digital.tessmann.it/mediaArchive/media/image/Page/BZZ/1845/01_08_1845/BZZ_1845_08_01_6_object_459133.png?auth=f70688675019e6218ac10ca08daacbff'],\n",
       " ['https://digital.tessmann.it/mediaArchive/media/image/Page/BZZ/1845/08_08_1845/BZZ_1845_08_08_1_object_458749.png?auth=c9f0552ece6e9acd08070b06b41bbef8',\n",
       "  'https://digital.tessmann.it/mediaArchive/media/image/Page/BZZ/1845/08_08_1845/BZZ_1845_08_08_2_object_458751.png?auth=9480e011cd4bedf113c13fa254563f94',\n",
       "  'https://digital.tessmann.it/mediaArchive/media/image/Page/BZZ/1845/08_08_1845/BZZ_1845_08_08_3_object_458753.png?auth=3717e54e568143daf2d4deec4462ced1',\n",
       "  'https://digital.tessmann.it/mediaArchive/media/image/Page/BZZ/1845/08_08_1845/BZZ_1845_08_08_4_object_458756.png?auth=856ec90eac2adb25642b860c657c501f',\n",
       "  'https://digital.tessmann.it/mediaArchive/media/image/Page/BZZ/1845/08_08_1845/BZZ_1845_08_08_5_object_458758.png?auth=da169a4eb6ee84856b0cb47f9c019085',\n",
       "  'https://digital.tessmann.it/mediaArchive/media/image/Page/BZZ/1845/08_08_1845/BZZ_1845_08_08_6_object_458760.png?auth=aac991a91953a9621c0ee89894d90326',\n",
       "  'https://digital.tessmann.it/mediaArchive/media/image/Page/BZZ/1845/08_08_1845/BZZ_1845_08_08_7_object_458763.png?auth=7aba13ee6bd19b43f31a1c23c8c2a192',\n",
       "  'https://digital.tessmann.it/mediaArchive/media/image/Page/BZZ/1845/08_08_1845/BZZ_1845_08_08_8_object_458766.png?auth=90324241124ec77163b6971094706d4f'],\n",
       " ['https://digital.tessmann.it/mediaArchive/media/image/Page/BZZ/1845/15_08_1845/BZZ_1845_08_15_1_object_458767.png?auth=be99682f036fcf7a7ca07f681acfd36c',\n",
       "  'https://digital.tessmann.it/mediaArchive/media/image/Page/BZZ/1845/15_08_1845/BZZ_1845_08_15_2_object_458770.png?auth=90e3313a499505ab8168c50d36cac3f4',\n",
       "  'https://digital.tessmann.it/mediaArchive/media/image/Page/BZZ/1845/15_08_1845/BZZ_1845_08_15_3_object_458773.png?auth=807533148316463d3a80e86d7c1bae82',\n",
       "  'https://digital.tessmann.it/mediaArchive/media/image/Page/BZZ/1845/15_08_1845/BZZ_1845_08_15_4_object_458774.png?auth=6f48fba9dd74e8d3167fd3124272fa47',\n",
       "  'https://digital.tessmann.it/mediaArchive/media/image/Page/BZZ/1845/15_08_1845/BZZ_1845_08_15_5_object_458777.png?auth=ef98dbd2eb8014a5a9de0f864d80a9d7',\n",
       "  'https://digital.tessmann.it/mediaArchive/media/image/Page/BZZ/1845/15_08_1845/BZZ_1845_08_15_6_object_458780.png?auth=5d6cfb59f18dd9ff75ae0818f73ba0e6',\n",
       "  'https://digital.tessmann.it/mediaArchive/media/image/Page/BZZ/1845/15_08_1845/BZZ_1845_08_15_7_object_458782.png?auth=347be67ba0957e15079bcd11459b5e54',\n",
       "  'https://digital.tessmann.it/mediaArchive/media/image/Page/BZZ/1845/15_08_1845/BZZ_1845_08_15_8_object_458784.png?auth=1fc9844933a04f416151d273ecf0e326',\n",
       "  'https://digital.tessmann.it/mediaArchive/media/image/Page/BZZ/1845/15_08_1845/BZZ_1845_08_15_9_object_458787.png?auth=a8f731d44cef1e5126425aafa992b675',\n",
       "  'https://digital.tessmann.it/mediaArchive/media/image/Page/BZZ/1845/15_08_1845/BZZ_1845_08_15_10_object_458789.png?auth=0122c128e7f7579fe14a2a97f49c00c9'],\n",
       " ['https://digital.tessmann.it/mediaArchive/media/image/Page/BZZ/1845/22_08_1845/BZZ_1845_08_22_1_object_458791.png?auth=399354a7559c144f663d9b2851142a19',\n",
       "  'https://digital.tessmann.it/mediaArchive/media/image/Page/BZZ/1845/22_08_1845/BZZ_1845_08_22_2_object_458794.png?auth=c23f3aec4dee00dd0097f80a87c6b2c9',\n",
       "  'https://digital.tessmann.it/mediaArchive/media/image/Page/BZZ/1845/22_08_1845/BZZ_1845_08_22_3_object_458796.png?auth=cb8e58958b1972edb90ba066e990c7e5',\n",
       "  'https://digital.tessmann.it/mediaArchive/media/image/Page/BZZ/1845/22_08_1845/BZZ_1845_08_22_4_object_458799.png?auth=35d62386ad49b9e9d12f649fa0be841f',\n",
       "  'https://digital.tessmann.it/mediaArchive/media/image/Page/BZZ/1845/22_08_1845/BZZ_1845_08_22_5_object_458802.png?auth=1c76d9befb56e96a3db9f2be3d7decda',\n",
       "  'https://digital.tessmann.it/mediaArchive/media/image/Page/BZZ/1845/22_08_1845/BZZ_1845_08_22_6_object_458803.png?auth=7649a1e7a2ba74041ace378c03049f3a',\n",
       "  'https://digital.tessmann.it/mediaArchive/media/image/Page/BZZ/1845/22_08_1845/BZZ_1845_08_22_7_object_458806.png?auth=6889f0726b9d9ccd727af2c1f02f45dd',\n",
       "  'https://digital.tessmann.it/mediaArchive/media/image/Page/BZZ/1845/22_08_1845/BZZ_1845_08_22_8_object_458809.png?auth=c2db92167e0f12e8e87d9b96f8019d19',\n",
       "  'https://digital.tessmann.it/mediaArchive/media/image/Page/BZZ/1845/22_08_1845/BZZ_1845_08_22_9_object_458810.png?auth=9c5faf3a3290e68b675a98cee0a04485',\n",
       "  'https://digital.tessmann.it/mediaArchive/media/image/Page/BZZ/1845/22_08_1845/BZZ_1845_08_22_10_object_458813.png?auth=c584ee64bbf1a4466c073b3569b63a7e'],\n",
       " ['https://digital.tessmann.it/mediaArchive/media/image/Page/BZZ/1845/29_08_1845/BZZ_1845_08_29_1_object_458816.png?auth=5dac05fd67f0c0e4c6453d4a17580d23',\n",
       "  'https://digital.tessmann.it/mediaArchive/media/image/Page/BZZ/1845/29_08_1845/BZZ_1845_08_29_2_object_458818.png?auth=a51f3146daf9473164c7784395a9624f',\n",
       "  'https://digital.tessmann.it/mediaArchive/media/image/Page/BZZ/1845/29_08_1845/BZZ_1845_08_29_3_object_458820.png?auth=74e123554cda87a7fdcc3da66b49a42e',\n",
       "  'https://digital.tessmann.it/mediaArchive/media/image/Page/BZZ/1845/29_08_1845/BZZ_1845_08_29_4_object_458823.png?auth=dc2537298e9fdac9ff9629c3f4081109',\n",
       "  'https://digital.tessmann.it/mediaArchive/media/image/Page/BZZ/1845/29_08_1845/BZZ_1845_08_29_5_object_458825.png?auth=62aaae452b419d6f14488f6953202be6',\n",
       "  'https://digital.tessmann.it/mediaArchive/media/image/Page/BZZ/1845/29_08_1845/BZZ_1845_08_29_6_object_458827.png?auth=f9b9df5e431eff407bb1661b52b9892b',\n",
       "  'https://digital.tessmann.it/mediaArchive/media/image/Page/BZZ/1845/29_08_1845/BZZ_1845_08_29_7_object_458830.png?auth=1ef2fe9e17006bef062e7ef272f12d1a',\n",
       "  'https://digital.tessmann.it/mediaArchive/media/image/Page/BZZ/1845/29_08_1845/BZZ_1845_08_29_8_object_458832.png?auth=184ae2deca1ee2b89094dc0d535159d6',\n",
       "  'https://digital.tessmann.it/mediaArchive/media/image/Page/BZZ/1845/29_08_1845/BZZ_1845_08_29_9_object_458835.png?auth=61df6e33a98a2ea01ddbcb999afbab31',\n",
       "  'https://digital.tessmann.it/mediaArchive/media/image/Page/BZZ/1845/29_08_1845/BZZ_1845_08_29_10_object_458837.png?auth=5c59995e5163cd1d17dc08fe034b373f'],\n",
       " ['https://digital.tessmann.it/mediaArchive/media/image/Page/BZZ/1845/05_09_1845/BZZ_1845_09_05_1_object_458839.png?auth=8dee645a54d6c75ac4eb006f84c1c436',\n",
       "  'https://digital.tessmann.it/mediaArchive/media/image/Page/BZZ/1845/05_09_1845/BZZ_1845_09_05_2_object_458842.png?auth=3953c0f6d386437f5a285a33d57901f0',\n",
       "  'https://digital.tessmann.it/mediaArchive/media/image/Page/BZZ/1845/05_09_1845/BZZ_1845_09_05_3_object_458845.png?auth=fb2ec8ad9002413c04d514e83bd46160',\n",
       "  'https://digital.tessmann.it/mediaArchive/media/image/Page/BZZ/1845/05_09_1845/BZZ_1845_09_05_4_object_458846.png?auth=f98b2cca434910ef7e4af1e00ec12264',\n",
       "  'https://digital.tessmann.it/mediaArchive/media/image/Page/BZZ/1845/05_09_1845/BZZ_1845_09_05_5_object_458849.png?auth=b32178cb900230bda40301404fd602d7',\n",
       "  'https://digital.tessmann.it/mediaArchive/media/image/Page/BZZ/1845/05_09_1845/BZZ_1845_09_05_6_object_458852.png?auth=1b7be7ba252de98f4fdcd7bb8e7e9d97',\n",
       "  'https://digital.tessmann.it/mediaArchive/media/image/Page/BZZ/1845/05_09_1845/BZZ_1845_09_05_7_object_458854.png?auth=aeab9419ce50f63f1d7042860ac91b0a',\n",
       "  'https://digital.tessmann.it/mediaArchive/media/image/Page/BZZ/1845/05_09_1845/BZZ_1845_09_05_8_object_458856.png?auth=2ed0d18c57c69d3d37600cbab9ba59f6',\n",
       "  'https://digital.tessmann.it/mediaArchive/media/image/Page/BZZ/1845/05_09_1845/BZZ_1845_09_05_9_object_458859.png?auth=c211b7f761fac422e1bfb53787e7cb07',\n",
       "  'https://digital.tessmann.it/mediaArchive/media/image/Page/BZZ/1845/05_09_1845/BZZ_1845_09_05_10_object_458861.png?auth=175cfc8ef373b7e11973199aa71dec49',\n",
       "  'https://digital.tessmann.it/mediaArchive/media/image/Page/BZZ/1845/05_09_1845/BZZ_1845_09_05_11_object_458864.png?auth=f1c93e2206136a5ee8b30235d48f0c09'],\n",
       " ['https://digital.tessmann.it/mediaArchive/media/image/Page/BZZ/1845/12_09_1845/BZZ_1845_09_12_1_object_458868.png?auth=64cf0d300fe6448a2b0acdffb0181c15',\n",
       "  'https://digital.tessmann.it/mediaArchive/media/image/Page/BZZ/1845/12_09_1845/BZZ_1845_09_12_2_object_458871.png?auth=342d73a6ec269f89d43108b283e214ab',\n",
       "  'https://digital.tessmann.it/mediaArchive/media/image/Page/BZZ/1845/12_09_1845/BZZ_1845_09_12_3_object_458873.png?auth=47f065612e2c6f872791ad526442cf8f',\n",
       "  'https://digital.tessmann.it/mediaArchive/media/image/Page/BZZ/1845/12_09_1845/BZZ_1845_09_12_4_object_458876.png?auth=f35cf934ea170ac6ab63860ed19e735b',\n",
       "  'https://digital.tessmann.it/mediaArchive/media/image/Page/BZZ/1845/12_09_1845/BZZ_1845_09_12_5_object_458878.png?auth=43653f4471ef2d7d08b4e03ede49dc88',\n",
       "  'https://digital.tessmann.it/mediaArchive/media/image/Page/BZZ/1845/12_09_1845/BZZ_1845_09_12_6_object_458881.png?auth=8c59e3984590e8c146933a831ee31ece',\n",
       "  'https://digital.tessmann.it/mediaArchive/media/image/Page/BZZ/1845/12_09_1845/BZZ_1845_09_12_7_object_458883.png?auth=bdaa3d710ed265885245063340b168e7',\n",
       "  'https://digital.tessmann.it/mediaArchive/media/image/Page/BZZ/1845/12_09_1845/BZZ_1845_09_12_8_object_458885.png?auth=31d1f61253fb8ffd93469fc547acd022',\n",
       "  'https://digital.tessmann.it/mediaArchive/media/image/Page/BZZ/1845/12_09_1845/BZZ_1845_09_12_9_object_458888.png?auth=2d7229eae8ef45a9456405d00c74e882',\n",
       "  'https://digital.tessmann.it/mediaArchive/media/image/Page/BZZ/1845/12_09_1845/BZZ_1845_09_12_10_object_458891.png?auth=1c5c913c304127a1c8a599449a028a5f',\n",
       "  'https://digital.tessmann.it/mediaArchive/media/image/Page/BZZ/1845/12_09_1845/BZZ_1845_09_12_11_object_458892.png?auth=b47d894075ddf0b3e4ece5b0a4576b64'],\n",
       " ['https://digital.tessmann.it/mediaArchive/media/image/Page/BZZ/1845/19_09_1845/BZZ_1845_09_19_1_object_458897.png?auth=4c10fbef21d85e17ea3ae0a193bdea56',\n",
       "  'https://digital.tessmann.it/mediaArchive/media/image/Page/BZZ/1845/19_09_1845/BZZ_1845_09_19_2_object_458900.png?auth=27d197c2aefdb37f49b267beeb946e9e',\n",
       "  'https://digital.tessmann.it/mediaArchive/media/image/Page/BZZ/1845/19_09_1845/BZZ_1845_09_19_3_object_458902.png?auth=c80a1467722815bb0b152532810405c9',\n",
       "  'https://digital.tessmann.it/mediaArchive/media/image/Page/BZZ/1845/19_09_1845/BZZ_1845_09_19_4_object_458904.png?auth=e71b31a12b69646490f46e122f714b44',\n",
       "  'https://digital.tessmann.it/mediaArchive/media/image/Page/BZZ/1845/19_09_1845/BZZ_1845_09_19_5_object_458907.png?auth=2e12f3fc63dddd1967c43f5aef9b6db9',\n",
       "  'https://digital.tessmann.it/mediaArchive/media/image/Page/BZZ/1845/19_09_1845/BZZ_1845_09_19_6_object_458910.png?auth=231349e15edfa16381018f36ce81b7c5',\n",
       "  'https://digital.tessmann.it/mediaArchive/media/image/Page/BZZ/1845/19_09_1845/BZZ_1845_09_19_7_object_458911.png?auth=bcb641886c2f1965c62c7eb7581193f0',\n",
       "  'https://digital.tessmann.it/mediaArchive/media/image/Page/BZZ/1845/19_09_1845/BZZ_1845_09_19_8_object_458914.png?auth=609d696f5de5b9d1b77d4b6a7031a9fc',\n",
       "  'https://digital.tessmann.it/mediaArchive/media/image/Page/BZZ/1845/19_09_1845/BZZ_1845_09_19_9_object_458917.png?auth=b0fdb42f9a37accb19682b49a1db88e8',\n",
       "  'https://digital.tessmann.it/mediaArchive/media/image/Page/BZZ/1845/19_09_1845/BZZ_1845_09_19_10_object_458918.png?auth=250903ea13235eda5cab55039ffbec43',\n",
       "  'https://digital.tessmann.it/mediaArchive/media/image/Page/BZZ/1845/19_09_1845/BZZ_1845_09_19_11_object_458921.png?auth=59075a68ceccaf24dbd28527e9bdc78d'],\n",
       " ['https://digital.tessmann.it/mediaArchive/media/image/Page/BZZ/1845/03_10_1845/BZZ_1845_10_03_1_object_458566.png?auth=eb0fbcd2a16fc7d058b3134b85ae28fe',\n",
       "  'https://digital.tessmann.it/mediaArchive/media/image/Page/BZZ/1845/03_10_1845/BZZ_1845_10_03_2_object_458568.png?auth=63038ba4d00c74a002315cbbf45e23d3',\n",
       "  'https://digital.tessmann.it/mediaArchive/media/image/Page/BZZ/1845/03_10_1845/BZZ_1845_10_03_3_object_458571.png?auth=7fa6781fcea4c7faf3148873dfce0397',\n",
       "  'https://digital.tessmann.it/mediaArchive/media/image/Page/BZZ/1845/03_10_1845/BZZ_1845_10_03_4_object_458573.png?auth=07a7ac73e4e1a018fc640621378179c0',\n",
       "  'https://digital.tessmann.it/mediaArchive/media/image/Page/BZZ/1845/03_10_1845/BZZ_1845_10_03_5_object_458575.png?auth=17fe9729fe814493eee9885c7e09f374',\n",
       "  'https://digital.tessmann.it/mediaArchive/media/image/Page/BZZ/1845/03_10_1845/BZZ_1845_10_03_6_object_458578.png?auth=b174fe31f03a8419a7eb7c3ecb9bf586',\n",
       "  'https://digital.tessmann.it/mediaArchive/media/image/Page/BZZ/1845/03_10_1845/BZZ_1845_10_03_7_object_458580.png?auth=222037209d3a51805368c79b316bd3e5',\n",
       "  'https://digital.tessmann.it/mediaArchive/media/image/Page/BZZ/1845/03_10_1845/BZZ_1845_10_03_8_object_458583.png?auth=3b03ce7b14af8700815c7d9522e15d0f',\n",
       "  'https://digital.tessmann.it/mediaArchive/media/image/Page/BZZ/1845/03_10_1845/BZZ_1845_10_03_9_object_458585.png?auth=f117961457559983ef1898a555d30e47'],\n",
       " ['https://digital.tessmann.it/mediaArchive/media/image/Page/BZZ/1845/10_10_1845/BZZ_1845_10_10_1_object_458587.png?auth=c04b8a64f9d8492efcd56f85c4bc8d65',\n",
       "  'https://digital.tessmann.it/mediaArchive/media/image/Page/BZZ/1845/10_10_1845/BZZ_1845_10_10_2_object_458590.png?auth=5595649358d0005b010acce918a9f77b',\n",
       "  'https://digital.tessmann.it/mediaArchive/media/image/Page/BZZ/1845/10_10_1845/BZZ_1845_10_10_3_object_458593.png?auth=e2ec9351581616412622819ec711314e',\n",
       "  'https://digital.tessmann.it/mediaArchive/media/image/Page/BZZ/1845/10_10_1845/BZZ_1845_10_10_4_object_458594.png?auth=de599e711245860099741a3640bcfa93',\n",
       "  'https://digital.tessmann.it/mediaArchive/media/image/Page/BZZ/1845/10_10_1845/BZZ_1845_10_10_5_object_458597.png?auth=8228814c1fb13e152af7315b92da971a',\n",
       "  'https://digital.tessmann.it/mediaArchive/media/image/Page/BZZ/1845/10_10_1845/BZZ_1845_10_10_6_object_458600.png?auth=b56836f8a91b5dd6a5d9b70831cdae98',\n",
       "  'https://digital.tessmann.it/mediaArchive/media/image/Page/BZZ/1845/10_10_1845/BZZ_1845_10_10_7_object_458602.png?auth=044f9236ae41a5d6a57516d8cc4562cd',\n",
       "  'https://digital.tessmann.it/mediaArchive/media/image/Page/BZZ/1845/10_10_1845/BZZ_1845_10_10_8_object_458604.png?auth=9385839c517178cd875c051bc102f08d'],\n",
       " ['https://digital.tessmann.it/mediaArchive/media/image/Page/BZZ/1845/17_10_1845/BZZ_1845_10_17_1_object_458607.png?auth=8ccf42ddc15346d4e6379949313ce22f',\n",
       "  'https://digital.tessmann.it/mediaArchive/media/image/Page/BZZ/1845/17_10_1845/BZZ_1845_10_17_2_object_458609.png?auth=f39cd83bf47140f7325d3727ea6962e0',\n",
       "  'https://digital.tessmann.it/mediaArchive/media/image/Page/BZZ/1845/17_10_1845/BZZ_1845_10_17_3_object_458612.png?auth=c5cf8c10e7da8e2380ada3b0d8f9d88e',\n",
       "  'https://digital.tessmann.it/mediaArchive/media/image/Page/BZZ/1845/17_10_1845/BZZ_1845_10_17_4_object_458614.png?auth=b074fa4ebc0fa55e2e3080da21fa0e22',\n",
       "  'https://digital.tessmann.it/mediaArchive/media/image/Page/BZZ/1845/17_10_1845/BZZ_1845_10_17_5_object_458616.png?auth=f708b028c66b69f29b3dd38b558cf29f',\n",
       "  'https://digital.tessmann.it/mediaArchive/media/image/Page/BZZ/1845/17_10_1845/BZZ_1845_10_17_6_object_458619.png?auth=c35ffc6c064edda608829ab602b42bd3',\n",
       "  'https://digital.tessmann.it/mediaArchive/media/image/Page/BZZ/1845/17_10_1845/BZZ_1845_10_17_7_object_458622.png?auth=bc1f04ac865863e768ad2e982389df52',\n",
       "  'https://digital.tessmann.it/mediaArchive/media/image/Page/BZZ/1845/17_10_1845/BZZ_1845_10_17_8_object_458623.png?auth=7322f3d28ff521367119e6b024c2b2f9'],\n",
       " ['https://digital.tessmann.it/mediaArchive/media/image/Page/BZZ/1845/24_10_1845/BZZ_1845_10_24_1_object_458626.png?auth=95a2a563f6fa98bd1050aa374ae2f88c',\n",
       "  'https://digital.tessmann.it/mediaArchive/media/image/Page/BZZ/1845/24_10_1845/BZZ_1845_10_24_2_object_458629.png?auth=dbd39a825a3ab130638f5a38b6370f67',\n",
       "  'https://digital.tessmann.it/mediaArchive/media/image/Page/BZZ/1845/24_10_1845/BZZ_1845_10_24_3_object_458630.png?auth=9ae98e97dc9006da8c71c2bfa1d2437b',\n",
       "  'https://digital.tessmann.it/mediaArchive/media/image/Page/BZZ/1845/24_10_1845/BZZ_1845_10_24_4_object_458633.png?auth=7bd8a7386e393bf24467a812b7a5fdb9'],\n",
       " ['https://digital.tessmann.it/mediaArchive/media/image/Page/BZZ/1845/31_10_1845/BZZ_1845_10_31_1_object_458636.png?auth=e8c877a9c45c8d965815df514db50554',\n",
       "  'https://digital.tessmann.it/mediaArchive/media/image/Page/BZZ/1845/31_10_1845/BZZ_1845_10_31_2_object_458638.png?auth=be3db3b7a4f7b7722e2d009a89741613',\n",
       "  'https://digital.tessmann.it/mediaArchive/media/image/Page/BZZ/1845/31_10_1845/BZZ_1845_10_31_3_object_458640.png?auth=40eb20b7a8fd2e77b028a82fef8ec1b5',\n",
       "  'https://digital.tessmann.it/mediaArchive/media/image/Page/BZZ/1845/31_10_1845/BZZ_1845_10_31_4_object_458643.png?auth=0157af5e4a9f50241fc37b9fc4ea3070',\n",
       "  'https://digital.tessmann.it/mediaArchive/media/image/Page/BZZ/1845/31_10_1845/BZZ_1845_10_31_5_object_458645.png?auth=4fd611a1f03f133f16aed6cbbe744c7b',\n",
       "  'https://digital.tessmann.it/mediaArchive/media/image/Page/BZZ/1845/31_10_1845/BZZ_1845_10_31_6_object_458648.png?auth=8541da004e479c777890405247026a53'],\n",
       " ['https://digital.tessmann.it/mediaArchive/media/image/Page/BZZ/1845/07_11_1845/BZZ_1845_11_07_1_object_458650.png?auth=df76a9f98d82edb4ef8bfb581283a015',\n",
       "  'https://digital.tessmann.it/mediaArchive/media/image/Page/BZZ/1845/07_11_1845/BZZ_1845_11_07_2_object_458652.png?auth=e7c37b675a4f1f36f917fc7e60fe069d',\n",
       "  'https://digital.tessmann.it/mediaArchive/media/image/Page/BZZ/1845/07_11_1845/BZZ_1845_11_07_3_object_458655.png?auth=8bdb5061c4b3524b7d6aceac358e3231',\n",
       "  'https://digital.tessmann.it/mediaArchive/media/image/Page/BZZ/1845/07_11_1845/BZZ_1845_11_07_4_object_458657.png?auth=904c35af822adcc07899cfbfaacd82e3',\n",
       "  'https://digital.tessmann.it/mediaArchive/media/image/Page/BZZ/1845/07_11_1845/BZZ_1845_11_07_5_object_458659.png?auth=c92d0c2b4c19edbaddb6618f9ab54dd3',\n",
       "  'https://digital.tessmann.it/mediaArchive/media/image/Page/BZZ/1845/07_11_1845/BZZ_1845_11_07_6_object_458662.png?auth=4bfb4b15a60be88f563e4930812b12f0',\n",
       "  'https://digital.tessmann.it/mediaArchive/media/image/Page/BZZ/1845/07_11_1845/BZZ_1845_11_07_7_object_458665.png?auth=db1afe38cb41e3320d66b3b1cbea4a4a',\n",
       "  'https://digital.tessmann.it/mediaArchive/media/image/Page/BZZ/1845/07_11_1845/BZZ_1845_11_07_8_object_458667.png?auth=e6021c26e43bcf09fd0dd3eb70dafda0'],\n",
       " ['https://digital.tessmann.it/mediaArchive/media/image/Page/BZZ/1845/14_11_1845/BZZ_1845_11_14_1_object_458669.png?auth=c203560000ac1506a164405a90e3bf79',\n",
       "  'https://digital.tessmann.it/mediaArchive/media/image/Page/BZZ/1845/14_11_1845/BZZ_1845_11_14_2_object_458672.png?auth=f8bc0c0ef2a79aab79bf96f51b7782cc',\n",
       "  'https://digital.tessmann.it/mediaArchive/media/image/Page/BZZ/1845/14_11_1845/BZZ_1845_11_14_3_object_458674.png?auth=7ec78fbec0ada7b4f2f556cd5a4baee2',\n",
       "  'https://digital.tessmann.it/mediaArchive/media/image/Page/BZZ/1845/14_11_1845/BZZ_1845_11_14_4_object_458676.png?auth=5e480692dab02f34d8ca893b127c08e9',\n",
       "  'https://digital.tessmann.it/mediaArchive/media/image/Page/BZZ/1845/14_11_1845/BZZ_1845_11_14_5_object_458678.png?auth=d98307ad89fa93fb5315bab1d0076992',\n",
       "  'https://digital.tessmann.it/mediaArchive/media/image/Page/BZZ/1845/14_11_1845/BZZ_1845_11_14_6_object_458681.png?auth=31da3255d85eb0dd78242f9c4b358d0c'],\n",
       " ['https://digital.tessmann.it/mediaArchive/media/image/Page/BZZ/1845/21_11_1845/BZZ_1845_11_21_1_object_458684.png?auth=5a3c964cabedfc8344c451b29a321390',\n",
       "  'https://digital.tessmann.it/mediaArchive/media/image/Page/BZZ/1845/21_11_1845/BZZ_1845_11_21_2_object_458686.png?auth=7c687080fbadfca0020334e6644433e8',\n",
       "  'https://digital.tessmann.it/mediaArchive/media/image/Page/BZZ/1845/21_11_1845/BZZ_1845_11_21_3_object_458688.png?auth=fafeb7ea0c50a31ad4d0bbda54d139e7',\n",
       "  'https://digital.tessmann.it/mediaArchive/media/image/Page/BZZ/1845/21_11_1845/BZZ_1845_11_21_4_object_458691.png?auth=5c7a698d997aa65a02160372836f92e9'],\n",
       " ['https://digital.tessmann.it/mediaArchive/media/image/Page/BZZ/1845/28_11_1845/BZZ_1845_11_28_1_object_458694.png?auth=0f2f2639a116db4cfd03c1f834b23642',\n",
       "  'https://digital.tessmann.it/mediaArchive/media/image/Page/BZZ/1845/28_11_1845/BZZ_1845_11_28_2_object_458695.png?auth=9717bf48e822e483eb4f3347e1bc83e7',\n",
       "  'https://digital.tessmann.it/mediaArchive/media/image/Page/BZZ/1845/28_11_1845/BZZ_1845_11_28_3_object_458698.png?auth=cc6ed5d8168639d946b8015a8d852234',\n",
       "  'https://digital.tessmann.it/mediaArchive/media/image/Page/BZZ/1845/28_11_1845/BZZ_1845_11_28_4_object_458701.png?auth=b396096d5a5c4d1e5da9da061a4c6bcb',\n",
       "  'https://digital.tessmann.it/mediaArchive/media/image/Page/BZZ/1845/28_11_1845/BZZ_1845_11_28_5_object_458703.png?auth=d8ff42d63c24fba0122809a559dd84b5',\n",
       "  'https://digital.tessmann.it/mediaArchive/media/image/Page/BZZ/1845/28_11_1845/BZZ_1845_11_28_6_object_458705.png?auth=e5f698320ee464947716310650b11bc7'],\n",
       " ['https://digital.tessmann.it/mediaArchive/media/image/Page/BZZ/1845/05_12_1845/BZZ_1845_12_05_1_object_458708.png?auth=8fdd454eff6a038523473398a6194ec0',\n",
       "  'https://digital.tessmann.it/mediaArchive/media/image/Page/BZZ/1845/05_12_1845/BZZ_1845_12_05_2_object_458710.png?auth=67790c52b40165878bd4a4b3f7a5a97f',\n",
       "  'https://digital.tessmann.it/mediaArchive/media/image/Page/BZZ/1845/05_12_1845/BZZ_1845_12_05_3_object_458713.png?auth=b3043077fe94db6f96e4b49d82ff279a',\n",
       "  'https://digital.tessmann.it/mediaArchive/media/image/Page/BZZ/1845/05_12_1845/BZZ_1845_12_05_4_object_458715.png?auth=09cbfb540071a61b536489324e08794a',\n",
       "  'https://digital.tessmann.it/mediaArchive/media/image/Page/BZZ/1845/05_12_1845/BZZ_1845_12_05_5_object_458717.png?auth=4b0ef98b6d0f6f3dbdb6edaa2e6e093f',\n",
       "  'https://digital.tessmann.it/mediaArchive/media/image/Page/BZZ/1845/05_12_1845/BZZ_1845_12_05_6_object_458720.png?auth=735468209b7c44ec2a4a31186c9130b6',\n",
       "  'https://digital.tessmann.it/mediaArchive/media/image/Page/BZZ/1845/05_12_1845/BZZ_1845_12_05_7_object_458723.png?auth=13b3358568c424c58300f27d7a49892d',\n",
       "  'https://digital.tessmann.it/mediaArchive/media/image/Page/BZZ/1845/05_12_1845/BZZ_1845_12_05_8_object_458724.png?auth=752f35eac86486de2eabc142df9b7c88'],\n",
       " ['https://digital.tessmann.it/mediaArchive/media/image/Page/BZZ/1845/12_12_1845/BZZ_1845_12_12_1_object_458727.png?auth=6a28629c29c26324ef2b2afc69303d6f',\n",
       "  'https://digital.tessmann.it/mediaArchive/media/image/Page/BZZ/1845/12_12_1845/BZZ_1845_12_12_2_object_458730.png?auth=2e7f43f79163097fee15da2da521ca5e',\n",
       "  'https://digital.tessmann.it/mediaArchive/media/image/Page/BZZ/1845/12_12_1845/BZZ_1845_12_12_3_object_458731.png?auth=871ad2ef7bb96e1707233b4f38464050',\n",
       "  'https://digital.tessmann.it/mediaArchive/media/image/Page/BZZ/1845/12_12_1845/BZZ_1845_12_12_4_object_458734.png?auth=1eafc9dc9c7e17ed6f44fa7704e09375',\n",
       "  'https://digital.tessmann.it/mediaArchive/media/image/Page/BZZ/1845/12_12_1845/BZZ_1845_12_12_5_object_458737.png?auth=48b0ec2f36884642f6a4d58e57ccba59',\n",
       "  'https://digital.tessmann.it/mediaArchive/media/image/Page/BZZ/1845/12_12_1845/BZZ_1845_12_12_6_object_458739.png?auth=05ca66d792499d677cc2a00f91aa192a'],\n",
       " ['https://digital.tessmann.it/mediaArchive/media/image/Page/BZZ/1845/19_12_1845/BZZ_1845_12_19_1_object_458741.png?auth=de1adbc1d54f624ea81639e9210d060f',\n",
       "  'https://digital.tessmann.it/mediaArchive/media/image/Page/BZZ/1845/19_12_1845/BZZ_1845_12_19_2_object_458744.png?auth=df297e88d50dce313fa5de0992483cf1',\n",
       "  'https://digital.tessmann.it/mediaArchive/media/image/Page/BZZ/1845/19_12_1845/BZZ_1845_12_19_3_object_458746.png?auth=999b00236fc7ba982083562c20f49fec',\n",
       "  'https://digital.tessmann.it/mediaArchive/media/image/Page/BZZ/1845/19_12_1845/BZZ_1845_12_19_4_object_458379.png?auth=31a5481d855a7f5637cdae9a3c15af05',\n",
       "  'https://digital.tessmann.it/mediaArchive/media/image/Page/BZZ/1845/19_12_1845/BZZ_1845_12_19_5_object_458381.png?auth=7bca98fd7599b1c1e958ce68773aae64',\n",
       "  'https://digital.tessmann.it/mediaArchive/media/image/Page/BZZ/1845/19_12_1845/BZZ_1845_12_19_6_object_458384.png?auth=033cd92af2e5bcd5a332c86b56870849'],\n",
       " ['https://digital.tessmann.it/mediaArchive/media/image/Page/BZZ/1845/26_12_1845/BZZ_1845_12_26_1_object_458386.png?auth=ff642e64239f47a6f686745e73b88fd7',\n",
       "  'https://digital.tessmann.it/mediaArchive/media/image/Page/BZZ/1845/26_12_1845/BZZ_1845_12_26_2_object_458388.png?auth=87b5054332f04b1d569c45272d892827',\n",
       "  'https://digital.tessmann.it/mediaArchive/media/image/Page/BZZ/1845/26_12_1845/BZZ_1845_12_26_3_object_458391.png?auth=00e5e9c3194bae42e98774f21b3b51fc',\n",
       "  'https://digital.tessmann.it/mediaArchive/media/image/Page/BZZ/1845/26_12_1845/BZZ_1845_12_26_4_object_458394.png?auth=b7fe5750e2fc1727b182c4be5e152c6b']]"
      ]
     },
     "execution_count": 27,
     "metadata": {},
     "output_type": "execute_result"
    }
   ],
   "source": [
    "pictures"
   ]
  },
  {
   "cell_type": "markdown",
   "metadata": {},
   "source": [
    "Now we have all the download links. We create a folder for the given year and all pages of all issues into a subfolder labelled with the corresponding date."
   ]
  },
  {
   "cell_type": "code",
   "execution_count": 28,
   "metadata": {},
   "outputs": [],
   "source": [
    "# make folder\n",
    "folder = 'wy_BZ_'+str(year_list[year_index])\n",
    "if not os.path.exists(folder):\n",
    "    os.mkdir(folder)"
   ]
  },
  {
   "cell_type": "code",
   "execution_count": 29,
   "metadata": {
    "scrolled": true
   },
   "outputs": [
    {
     "name": "stdout",
     "output_type": "stream",
     "text": [
      "03.01.1845 ['https://digital.tessmann.it/mediaArchive/media/image/Page/BZZ/1845/03_01_1845/BZZ_1845_01_03_1_object_459681.png?auth=32ba81b0586768bd4acffca31de634a4', 'https://digital.tessmann.it/mediaArchive/media/image/Page/BZZ/1845/03_01_1845/BZZ_1845_01_03_2_object_459683.png?auth=a7592f24b7b2efda8aad9f154d40295c', 'https://digital.tessmann.it/mediaArchive/media/image/Page/BZZ/1845/03_01_1845/BZZ_1845_01_03_3_object_459686.png?auth=3b7af8e547106266bfbf39779907d00c', 'https://digital.tessmann.it/mediaArchive/media/image/Page/BZZ/1845/03_01_1845/BZZ_1845_01_03_4_object_459688.png?auth=e9647f33f2df1a9696bab4c5b2093d3d', 'https://digital.tessmann.it/mediaArchive/media/image/Page/BZZ/1845/03_01_1845/BZZ_1845_01_03_5_object_459690.png?auth=ff954a098abe00068e791b7348bf2dd3', 'https://digital.tessmann.it/mediaArchive/media/image/Page/BZZ/1845/03_01_1845/BZZ_1845_01_03_6_object_459693.png?auth=d811da803e8cadbc113397e79f310be9']\n",
      "10.01.1845 ['https://digital.tessmann.it/mediaArchive/media/image/Page/BZZ/1845/10_01_1845/BZZ_1845_01_10_1_object_459695.png?auth=a279b8bf89344a9f6d4136659c8583af', 'https://digital.tessmann.it/mediaArchive/media/image/Page/BZZ/1845/10_01_1845/BZZ_1845_01_10_2_object_459697.png?auth=226460e0c4aa8ba9b05aeeb86845f7fb', 'https://digital.tessmann.it/mediaArchive/media/image/Page/BZZ/1845/10_01_1845/BZZ_1845_01_10_3_object_459700.png?auth=b7372919f31f83b0d5ecaed8f0e8b3ed', 'https://digital.tessmann.it/mediaArchive/media/image/Page/BZZ/1845/10_01_1845/BZZ_1845_01_10_4_object_459349.png?auth=c43a8cb223d4c3e0bf4573e655cd4141', 'https://digital.tessmann.it/mediaArchive/media/image/Page/BZZ/1845/10_01_1845/BZZ_1845_01_10_5_object_459351.png?auth=7af0972cd7e6e02dde432a5c3f01bc16', 'https://digital.tessmann.it/mediaArchive/media/image/Page/BZZ/1845/10_01_1845/BZZ_1845_01_10_6_object_459354.png?auth=b9a930792d7a3959d9cb0be049bb3456']\n",
      "17.01.1845 ['https://digital.tessmann.it/mediaArchive/media/image/Page/BZZ/1845/17_01_1845/BZZ_1845_01_17_1_object_459356.png?auth=852c21b79dc4f0048f4b72cde77a6167', 'https://digital.tessmann.it/mediaArchive/media/image/Page/BZZ/1845/17_01_1845/BZZ_1845_01_17_2_object_459359.png?auth=c090519feaf0ffc482c44d85d8a2557f', 'https://digital.tessmann.it/mediaArchive/media/image/Page/BZZ/1845/17_01_1845/BZZ_1845_01_17_3_object_459360.png?auth=95435269cae31546bdda0b19f8903b24', 'https://digital.tessmann.it/mediaArchive/media/image/Page/BZZ/1845/17_01_1845/BZZ_1845_01_17_4_object_459363.png?auth=9949ad61e254b39626bc7af8a211ef62']\n",
      "24.01.1845 ['https://digital.tessmann.it/mediaArchive/media/image/Page/BZZ/1845/24_01_1845/BZZ_1845_01_24_1_object_459366.png?auth=84b8557741877916161f766482cb4301', 'https://digital.tessmann.it/mediaArchive/media/image/Page/BZZ/1845/24_01_1845/BZZ_1845_01_24_2_object_459367.png?auth=8ce25afe2c3bfaa535abe46a2d60426f', 'https://digital.tessmann.it/mediaArchive/media/image/Page/BZZ/1845/24_01_1845/BZZ_1845_01_24_3_object_459370.png?auth=f8e6500565f82e0859a66f4254862c44', 'https://digital.tessmann.it/mediaArchive/media/image/Page/BZZ/1845/24_01_1845/BZZ_1845_01_24_4_object_459373.png?auth=b41f77f04b66d0caedff3a4fbd99318e', 'https://digital.tessmann.it/mediaArchive/media/image/Page/BZZ/1845/24_01_1845/BZZ_1845_01_24_5_object_459374.png?auth=36a1e29c2d7be1139750af850191f296', 'https://digital.tessmann.it/mediaArchive/media/image/Page/BZZ/1845/24_01_1845/BZZ_1845_01_24_6_object_459377.png?auth=e80de775d9a60cacb35beb4a35897c56']\n",
      "31.01.1845 ['https://digital.tessmann.it/mediaArchive/media/image/Page/BZZ/1845/31_01_1845/BZZ_1845_01_31_1_object_459379.png?auth=c46aa79c4fd8ea1e4d9ad387c7e055a0', 'https://digital.tessmann.it/mediaArchive/media/image/Page/BZZ/1845/31_01_1845/BZZ_1845_01_31_2_object_459381.png?auth=6fe9f3d18611e6c733bb06755c782438', 'https://digital.tessmann.it/mediaArchive/media/image/Page/BZZ/1845/31_01_1845/BZZ_1845_01_31_3_object_459384.png?auth=b82070ff0971cb82627b343f081e2f22', 'https://digital.tessmann.it/mediaArchive/media/image/Page/BZZ/1845/31_01_1845/BZZ_1845_01_31_4_object_459387.png?auth=9865e75bca61d66335f58c4096b2b983', 'https://digital.tessmann.it/mediaArchive/media/image/Page/BZZ/1845/31_01_1845/BZZ_1845_01_31_5_object_459388.png?auth=9c3eb5de1ac8b4e2a0c2e191c8c06f49', 'https://digital.tessmann.it/mediaArchive/media/image/Page/BZZ/1845/31_01_1845/BZZ_1845_01_31_6_object_459391.png?auth=c33d42e4d59d18922a50e8a36de59aa5', 'https://digital.tessmann.it/mediaArchive/media/image/Page/BZZ/1845/31_01_1845/BZZ_1845_01_31_7_object_459393.png?auth=8a5d03992359360b16fc08131193cf01', 'https://digital.tessmann.it/mediaArchive/media/image/Page/BZZ/1845/31_01_1845/BZZ_1845_01_31_8_object_459395.png?auth=863bb111c44dae8b7c017585ce1352d0']\n",
      "07.02.1845 ['https://digital.tessmann.it/mediaArchive/media/image/Page/BZZ/1845/07_02_1845/BZZ_1845_02_07_1_object_459398.png?auth=0eeed9c15012ef48ea312a31b8b0894d', 'https://digital.tessmann.it/mediaArchive/media/image/Page/BZZ/1845/07_02_1845/BZZ_1845_02_07_2_object_459401.png?auth=554a581c45a2bf2d0e90dd3c13de72f1', 'https://digital.tessmann.it/mediaArchive/media/image/Page/BZZ/1845/07_02_1845/BZZ_1845_02_07_3_object_459402.png?auth=c49701f5f326215a1d27e61053e46d29', 'https://digital.tessmann.it/mediaArchive/media/image/Page/BZZ/1845/07_02_1845/BZZ_1845_02_07_4_object_459405.png?auth=1316f86402806efe1b831e1226cb541e', 'https://digital.tessmann.it/mediaArchive/media/image/Page/BZZ/1845/07_02_1845/BZZ_1845_02_07_5_object_459408.png?auth=f71ba4ab19d768b3cfdb749695b3bd9e', 'https://digital.tessmann.it/mediaArchive/media/image/Page/BZZ/1845/07_02_1845/BZZ_1845_02_07_6_object_459409.png?auth=9a723688fc5c88024e42fef877f1916e', 'https://digital.tessmann.it/mediaArchive/media/image/Page/BZZ/1845/07_02_1845/BZZ_1845_02_07_7_object_459412.png?auth=b94b3ff0ac9e4166b06bd76a060607e9', 'https://digital.tessmann.it/mediaArchive/media/image/Page/BZZ/1845/07_02_1845/BZZ_1845_02_07_8_object_459415.png?auth=5ea1832099bfe94d33965c1dcf0ad0f9']\n",
      "14.02.1845 ['https://digital.tessmann.it/mediaArchive/media/image/Page/BZZ/1845/14_02_1845/BZZ_1845_02_14_1_object_459416.png?auth=2a367d003d4131500e66a7503d079268', 'https://digital.tessmann.it/mediaArchive/media/image/Page/BZZ/1845/14_02_1845/BZZ_1845_02_14_2_object_459419.png?auth=bc2e32dfa9221011cd6ffd7ca2d6023d', 'https://digital.tessmann.it/mediaArchive/media/image/Page/BZZ/1845/14_02_1845/BZZ_1845_02_14_3_object_459422.png?auth=2b005c293dfc8084335c59e36d441f5d', 'https://digital.tessmann.it/mediaArchive/media/image/Page/BZZ/1845/14_02_1845/BZZ_1845_02_14_4_object_459423.png?auth=1d60a260dc0a99cb0fe7dfb20104109d', 'https://digital.tessmann.it/mediaArchive/media/image/Page/BZZ/1845/14_02_1845/BZZ_1845_02_14_5_object_459426.png?auth=73b42956306e7733dce238bb020c8e91', 'https://digital.tessmann.it/mediaArchive/media/image/Page/BZZ/1845/14_02_1845/BZZ_1845_02_14_6_object_459429.png?auth=b0eb3c5decd8e28f6d3552993c1701bf', 'https://digital.tessmann.it/mediaArchive/media/image/Page/BZZ/1845/14_02_1845/BZZ_1845_02_14_7_object_459430.png?auth=46e8a85abfe2ddf287f38a212b43b08e', 'https://digital.tessmann.it/mediaArchive/media/image/Page/BZZ/1845/14_02_1845/BZZ_1845_02_14_8_object_459433.png?auth=d2d97ea112c3d52f89b269cf2cc9261a']\n",
      "21.02.1845 ['https://digital.tessmann.it/mediaArchive/media/image/Page/BZZ/1845/21_02_1845/BZZ_1845_02_21_1_object_459436.png?auth=c6a154b762c1d0880b3a9409416cba9a', 'https://digital.tessmann.it/mediaArchive/media/image/Page/BZZ/1845/21_02_1845/BZZ_1845_02_21_2_object_459437.png?auth=bdd5fd28c7d6a0bdfc5668a3778430fd', 'https://digital.tessmann.it/mediaArchive/media/image/Page/BZZ/1845/21_02_1845/BZZ_1845_02_21_3_object_459440.png?auth=c058ea64ae951cdc513742d09a944c5a', 'https://digital.tessmann.it/mediaArchive/media/image/Page/BZZ/1845/21_02_1845/BZZ_1845_02_21_4_object_459443.png?auth=7b04156bf11b4d218cb9edea37c61814', 'https://digital.tessmann.it/mediaArchive/media/image/Page/BZZ/1845/21_02_1845/BZZ_1845_02_21_5_object_459444.png?auth=e330f94ee21c448ec5f0d4b248b2deed', 'https://digital.tessmann.it/mediaArchive/media/image/Page/BZZ/1845/21_02_1845/BZZ_1845_02_21_6_object_459447.png?auth=a3ba13f2faf9b585cc2d81db25549f2c', 'https://digital.tessmann.it/mediaArchive/media/image/Page/BZZ/1845/21_02_1845/BZZ_1845_02_21_7_object_459450.png?auth=77900eb0c80258ec7731424e12220af8', 'https://digital.tessmann.it/mediaArchive/media/image/Page/BZZ/1845/21_02_1845/BZZ_1845_02_21_8_object_459451.png?auth=ed23d80c88736eb237eb27285d81a14f']\n",
      "28.02.1845 ['https://digital.tessmann.it/mediaArchive/media/image/Page/BZZ/1845/28_02_1845/BZZ_1845_02_28_1_object_459454.png?auth=bb9d53ae8f08a7c45c4fff24fc09fc41', 'https://digital.tessmann.it/mediaArchive/media/image/Page/BZZ/1845/28_02_1845/BZZ_1845_02_28_2_object_459457.png?auth=1030152269fdb9baaad9806527d0e79d', 'https://digital.tessmann.it/mediaArchive/media/image/Page/BZZ/1845/28_02_1845/BZZ_1845_02_28_3_object_459458.png?auth=49ce7fcce88a727a57e9e9dd3a036a69', 'https://digital.tessmann.it/mediaArchive/media/image/Page/BZZ/1845/28_02_1845/BZZ_1845_02_28_4_object_459461.png?auth=cd07124eac8c0ab4b789d3d78ee49aee', 'https://digital.tessmann.it/mediaArchive/media/image/Page/BZZ/1845/28_02_1845/BZZ_1845_02_28_5_object_459464.png?auth=52265250024d2dc217e3f5f0cba11b04', 'https://digital.tessmann.it/mediaArchive/media/image/Page/BZZ/1845/28_02_1845/BZZ_1845_02_28_6_object_459465.png?auth=243174fa494c600a5a185eb57b6fa467']\n",
      "07.03.1845 ['https://digital.tessmann.it/mediaArchive/media/image/Page/BZZ/1845/07_03_1845/BZZ_1845_03_07_1_object_459468.png?auth=90b0a512281cbf4faaef56c19180a433', 'https://digital.tessmann.it/mediaArchive/media/image/Page/BZZ/1845/07_03_1845/BZZ_1845_03_07_2_object_459471.png?auth=b88791acfef3a1256ddbc65b674968ea', 'https://digital.tessmann.it/mediaArchive/media/image/Page/BZZ/1845/07_03_1845/BZZ_1845_03_07_3_object_459472.png?auth=34808d6ee3ee0894689d6adbc7145013', 'https://digital.tessmann.it/mediaArchive/media/image/Page/BZZ/1845/07_03_1845/BZZ_1845_03_07_4_object_459475.png?auth=d237a664ea26c86a89811a78fd6ee7de', 'https://digital.tessmann.it/mediaArchive/media/image/Page/BZZ/1845/07_03_1845/BZZ_1845_03_07_5_object_459478.png?auth=24f00762f8532b1d9c0d940a4685d141', 'https://digital.tessmann.it/mediaArchive/media/image/Page/BZZ/1845/07_03_1845/BZZ_1845_03_07_6_object_459479.png?auth=1fb8be3604a8db0c6ad4bf64c4614de2', 'https://digital.tessmann.it/mediaArchive/media/image/Page/BZZ/1845/07_03_1845/BZZ_1845_03_07_7_object_459482.png?auth=76c965abb7fdc1aae963b42a35d29437', 'https://digital.tessmann.it/mediaArchive/media/image/Page/BZZ/1845/07_03_1845/BZZ_1845_03_07_8_object_459485.png?auth=e737d6624b07d2f242b17d81c9d70100', 'https://digital.tessmann.it/mediaArchive/media/image/Page/BZZ/1845/07_03_1845/BZZ_1845_03_07_9_object_459486.png?auth=289ab48b6a11a29c76700b199bd55c35', 'https://digital.tessmann.it/mediaArchive/media/image/Page/BZZ/1845/07_03_1845/BZZ_1845_03_07_10_object_459489.png?auth=7e35411d834b10c76345a8951d7ed59b', 'https://digital.tessmann.it/mediaArchive/media/image/Page/BZZ/1845/07_03_1845/BZZ_1845_03_07_11_object_459491.png?auth=252cb1d1c8ef922a0b7553a253025c35']\n",
      "14.03.1845 ['https://digital.tessmann.it/mediaArchive/media/image/Page/BZZ/1845/14_03_1845/BZZ_1845_03_14_1_object_459496.png?auth=da2235e71450f048946f6c8342a9417e', 'https://digital.tessmann.it/mediaArchive/media/image/Page/BZZ/1845/14_03_1845/BZZ_1845_03_14_2_object_459499.png?auth=23dafc82eda273b489e41043732bd36c', 'https://digital.tessmann.it/mediaArchive/media/image/Page/BZZ/1845/14_03_1845/BZZ_1845_03_14_3_object_459500.png?auth=0eb0537dce1867bad2865a693bf61593', 'https://digital.tessmann.it/mediaArchive/media/image/Page/BZZ/1845/14_03_1845/BZZ_1845_03_14_4_object_459503.png?auth=0a681b130cf9cb9b41d9bc827e02f2c0', 'https://digital.tessmann.it/mediaArchive/media/image/Page/BZZ/1845/14_03_1845/BZZ_1845_03_14_5_object_459505.png?auth=bdfa34c322aeb288a727b7dbacb53ce4', 'https://digital.tessmann.it/mediaArchive/media/image/Page/BZZ/1845/14_03_1845/BZZ_1845_03_14_6_object_459508.png?auth=b03e23c076876ed3253261f39ff626bb', 'https://digital.tessmann.it/mediaArchive/media/image/Page/BZZ/1845/14_03_1845/BZZ_1845_03_14_7_object_459510.png?auth=87593ac07980fa16b79547fda4335456', 'https://digital.tessmann.it/mediaArchive/media/image/Page/BZZ/1845/14_03_1845/BZZ_1845_03_14_8_object_459512.png?auth=78f72e2655dafd7becec2c2a3ff61416', 'https://digital.tessmann.it/mediaArchive/media/image/Page/BZZ/1845/14_03_1845/BZZ_1845_03_14_9_object_459515.png?auth=d606f339821ae208b001dcb65dd881af', 'https://digital.tessmann.it/mediaArchive/media/image/Page/BZZ/1845/14_03_1845/BZZ_1845_03_14_10_object_459517.png?auth=a3703b5d3d3a46ce135103209d3933e0', 'https://digital.tessmann.it/mediaArchive/media/image/Page/BZZ/1845/14_03_1845/BZZ_1845_03_14_11_object_459519.png?auth=27b441f97455b1cc4be973ccd9373d7d']\n",
      "21.03.1845 ['https://digital.tessmann.it/mediaArchive/media/image/Page/BZZ/1845/21_03_1845/BZZ_1845_03_21_1_object_459524.png?auth=7260cff1c30b49c12ff2d2b65aabaf0a', 'https://digital.tessmann.it/mediaArchive/media/image/Page/BZZ/1845/21_03_1845/BZZ_1845_03_21_2_object_459136.png?auth=8e6b90de06d23a7547253f876c6adab5', 'https://digital.tessmann.it/mediaArchive/media/image/Page/BZZ/1845/21_03_1845/BZZ_1845_03_21_3_object_459139.png?auth=72e21bea697d165a9e10960fa59193de', 'https://digital.tessmann.it/mediaArchive/media/image/Page/BZZ/1845/21_03_1845/BZZ_1845_03_21_4_object_459142.png?auth=2a5c71db1ad6f3a2a59f9e4bf71d4843', 'https://digital.tessmann.it/mediaArchive/media/image/Page/BZZ/1845/21_03_1845/BZZ_1845_03_21_5_object_459146.png?auth=1d36a53d4d280c0b888a51b562b62629', 'https://digital.tessmann.it/mediaArchive/media/image/Page/BZZ/1845/21_03_1845/BZZ_1845_03_21_6_object_459148.png?auth=de645927e99ac7f866bd9835ab691f47', 'https://digital.tessmann.it/mediaArchive/media/image/Page/BZZ/1845/21_03_1845/BZZ_1845_03_21_7_object_459151.png?auth=f8374bf5a2a2ed6f69129dfd2c910c52', 'https://digital.tessmann.it/mediaArchive/media/image/Page/BZZ/1845/21_03_1845/BZZ_1845_03_21_8_object_459155.png?auth=d954ed528022b6839280e5def18c6f22', 'https://digital.tessmann.it/mediaArchive/media/image/Page/BZZ/1845/21_03_1845/BZZ_1845_03_21_9_object_459158.png?auth=1b820c85016057fd469b9ce294f6eaff', 'https://digital.tessmann.it/mediaArchive/media/image/Page/BZZ/1845/21_03_1845/BZZ_1845_03_21_10_object_459160.png?auth=08cfb6b9584fe6bb959ae6142339493e', 'https://digital.tessmann.it/mediaArchive/media/image/Page/BZZ/1845/21_03_1845/BZZ_1845_03_21_11_object_459164.png?auth=466e0e2851ae25a1b0ae5ecdfed04e58']\n",
      "28.03.1845 ['https://digital.tessmann.it/mediaArchive/media/image/Page/BZZ/1845/28_03_1845/BZZ_1845_03_28_1_object_459169.png?auth=bf8fb9da4882cca988b36bef829076a3', 'https://digital.tessmann.it/mediaArchive/media/image/Page/BZZ/1845/28_03_1845/BZZ_1845_03_28_2_object_459173.png?auth=af7b742d1c0bb8b8df1c76102efa0ae4', 'https://digital.tessmann.it/mediaArchive/media/image/Page/BZZ/1845/28_03_1845/BZZ_1845_03_28_3_object_459176.png?auth=516cd22fd45a12e6af8bd2e0309f6adf', 'https://digital.tessmann.it/mediaArchive/media/image/Page/BZZ/1845/28_03_1845/BZZ_1845_03_28_4_object_459179.png?auth=b3564d4586509f359d40992b540e929c', 'https://digital.tessmann.it/mediaArchive/media/image/Page/BZZ/1845/28_03_1845/BZZ_1845_03_28_5_object_459182.png?auth=ab6bdc72e8747b77c73c57c6e86fff09', 'https://digital.tessmann.it/mediaArchive/media/image/Page/BZZ/1845/28_03_1845/BZZ_1845_03_28_6_object_459185.png?auth=a999cc094f9d4177931f2b4dfc74defb', 'https://digital.tessmann.it/mediaArchive/media/image/Page/BZZ/1845/28_03_1845/BZZ_1845_03_28_7_object_459188.png?auth=6982d6b200981b9886e59861c7349d9a', 'https://digital.tessmann.it/mediaArchive/media/image/Page/BZZ/1845/28_03_1845/BZZ_1845_03_28_8_object_459192.png?auth=36b692811d92776487ef6e1203140a6b', 'https://digital.tessmann.it/mediaArchive/media/image/Page/BZZ/1845/28_03_1845/BZZ_1845_03_28_9_object_459194.png?auth=1d52ace28ebc8868123a97e2ad08d0fb', 'https://digital.tessmann.it/mediaArchive/media/image/Page/BZZ/1845/28_03_1845/BZZ_1845_03_28_10_object_459197.png?auth=8d68dddcb79fbe26573e9921c3164efd']\n",
      "04.04.1845 ['https://digital.tessmann.it/mediaArchive/media/image/Page/BZZ/1845/04_04_1845/BZZ_1845_04_04_1_object_459201.png?auth=9c958f784af1e8749b86d133ec1f3c22', 'https://digital.tessmann.it/mediaArchive/media/image/Page/BZZ/1845/04_04_1845/BZZ_1845_04_04_2_object_459204.png?auth=bb6d7796d8717f277e9eece4d0e6f360', 'https://digital.tessmann.it/mediaArchive/media/image/Page/BZZ/1845/04_04_1845/BZZ_1845_04_04_3_object_459206.png?auth=dd5d79ebabbbbe8874bcf281d480acee', 'https://digital.tessmann.it/mediaArchive/media/image/Page/BZZ/1845/04_04_1845/BZZ_1845_04_04_4_object_459210.png?auth=a834953ae9446f846ecc0d3dd2ef5927', 'https://digital.tessmann.it/mediaArchive/media/image/Page/BZZ/1845/04_04_1845/BZZ_1845_04_04_5_object_459213.png?auth=531edf9523f81d8a56a7248e2bef9ea4', 'https://digital.tessmann.it/mediaArchive/media/image/Page/BZZ/1845/04_04_1845/BZZ_1845_04_04_6_object_459215.png?auth=f349c68a93a6bba7bd8f8435720ee22a', 'https://digital.tessmann.it/mediaArchive/media/image/Page/BZZ/1845/04_04_1845/BZZ_1845_04_04_7_object_459219.png?auth=d128829be3b0e2e3983fc7d710a4877d', 'https://digital.tessmann.it/mediaArchive/media/image/Page/BZZ/1845/04_04_1845/BZZ_1845_04_04_8_object_459222.png?auth=e0768f5ec8ec218be1c59e9b9be419e3']\n",
      "11.04.1845 ['https://digital.tessmann.it/mediaArchive/media/image/Page/BZZ/1845/11_04_1845/BZZ_1845_04_11_1_object_459225.png?auth=1e4a88e20d711fe10e655f3cfe57b3f9', 'https://digital.tessmann.it/mediaArchive/media/image/Page/BZZ/1845/11_04_1845/BZZ_1845_04_11_2_object_459227.png?auth=1fa37544e97f889a62f7bd1cbd08729d', 'https://digital.tessmann.it/mediaArchive/media/image/Page/BZZ/1845/11_04_1845/BZZ_1845_04_11_3_object_459230.png?auth=51bb862c303f6ac3e73a54176a0ddabf', 'https://digital.tessmann.it/mediaArchive/media/image/Page/BZZ/1845/11_04_1845/BZZ_1845_04_11_4_object_459234.png?auth=eae7f90de8eee60dc655e7f317e1f5e6', 'https://digital.tessmann.it/mediaArchive/media/image/Page/BZZ/1845/11_04_1845/BZZ_1845_04_11_5_object_459237.png?auth=bf10cf35b2c1debc9c7747e3755d473c', 'https://digital.tessmann.it/mediaArchive/media/image/Page/BZZ/1845/11_04_1845/BZZ_1845_04_11_6_object_459239.png?auth=ba5ce10e2d28c6d7857627b0dcfbeef6']\n",
      "18.04.1845 ['https://digital.tessmann.it/mediaArchive/media/image/Page/BZZ/1845/18_04_1845/BZZ_1845_04_18_1_object_459243.png?auth=76b5f45355b440ce102b2bfb27323b5c', 'https://digital.tessmann.it/mediaArchive/media/image/Page/BZZ/1845/18_04_1845/BZZ_1845_04_18_2_object_459246.png?auth=440aa2134332ffcc06653727ebeb69fe', 'https://digital.tessmann.it/mediaArchive/media/image/Page/BZZ/1845/18_04_1845/BZZ_1845_04_18_3_object_459248.png?auth=49baecd5dc9fdb4301d5dd9bae7bbf0e', 'https://digital.tessmann.it/mediaArchive/media/image/Page/BZZ/1845/18_04_1845/BZZ_1845_04_18_4_object_459252.png?auth=cd310e0c51737200bb46b5163339f00b', 'https://digital.tessmann.it/mediaArchive/media/image/Page/BZZ/1845/18_04_1845/BZZ_1845_04_18_5_object_459255.png?auth=8ba0f16f94eedc1c420861fd5f3cec2d', 'https://digital.tessmann.it/mediaArchive/media/image/Page/BZZ/1845/18_04_1845/BZZ_1845_04_18_6_object_459257.png?auth=88696fb93c9196b2a594c2b8d6b4a0a5']\n",
      "25.04.1845 ['https://digital.tessmann.it/mediaArchive/media/image/Page/BZZ/1845/25_04_1845/BZZ_1845_04_25_1_object_459261.png?auth=2d6a6352ceeeaf040bd85a22e372f05e', 'https://digital.tessmann.it/mediaArchive/media/image/Page/BZZ/1845/25_04_1845/BZZ_1845_04_25_2_object_459264.png?auth=f5ceb2bc6044498bb34a6bef8b3a1bda', 'https://digital.tessmann.it/mediaArchive/media/image/Page/BZZ/1845/25_04_1845/BZZ_1845_04_25_3_object_459266.png?auth=99a3ea820a26e47e81617ae5d4143953', 'https://digital.tessmann.it/mediaArchive/media/image/Page/BZZ/1845/25_04_1845/BZZ_1845_04_25_4_object_459269.png?auth=a10f998a54605d27768d99fa5d5a6b15', 'https://digital.tessmann.it/mediaArchive/media/image/Page/BZZ/1845/25_04_1845/BZZ_1845_04_25_5_object_459272.png?auth=dcd61d43222a2ed511daac79ae095588', 'https://digital.tessmann.it/mediaArchive/media/image/Page/BZZ/1845/25_04_1845/BZZ_1845_04_25_6_object_459276.png?auth=54b99859ba69eac0cd6a2746ef5063b8', 'https://digital.tessmann.it/mediaArchive/media/image/Page/BZZ/1845/25_04_1845/BZZ_1845_04_25_7_object_459279.png?auth=6461f78b67f595a0b6c3bdde81cdb002']\n",
      "02.05.1845 ['https://digital.tessmann.it/mediaArchive/media/image/Page/BZZ/1845/02_05_1845/BZZ_1845_05_02_1_object_459282.png?auth=fc29272a81afe97d7602fed9f5c3ab62', 'https://digital.tessmann.it/mediaArchive/media/image/Page/BZZ/1845/02_05_1845/BZZ_1845_05_02_2_object_459285.png?auth=c0d7bae13557092142e2a7175ade3ddb', 'https://digital.tessmann.it/mediaArchive/media/image/Page/BZZ/1845/02_05_1845/BZZ_1845_05_02_3_object_459288.png?auth=84ee80dcd36b0d9685eda104b5dfd3c0', 'https://digital.tessmann.it/mediaArchive/media/image/Page/BZZ/1845/02_05_1845/BZZ_1845_05_02_4_object_459291.png?auth=a63948cc80d8f5b22fe1a7ddf3c4c82c', 'https://digital.tessmann.it/mediaArchive/media/image/Page/BZZ/1845/02_05_1845/BZZ_1845_05_02_5_object_459293.png?auth=c8db24a7b4b4eabfad24c5c8a3abe5c3', 'https://digital.tessmann.it/mediaArchive/media/image/Page/BZZ/1845/02_05_1845/BZZ_1845_05_02_6_object_459296.png?auth=c8a629492219b58eb94381dde28e375e', 'https://digital.tessmann.it/mediaArchive/media/image/Page/BZZ/1845/02_05_1845/BZZ_1845_05_02_7_object_459298.png?auth=ec61f8eee6d3f029576c723d023da84e', 'https://digital.tessmann.it/mediaArchive/media/image/Page/BZZ/1845/02_05_1845/BZZ_1845_05_02_8_object_459301.png?auth=3056689e42043064fd190724d9df24ba']\n",
      "09.05.1845 ['https://digital.tessmann.it/mediaArchive/media/image/Page/BZZ/1845/09_05_1845/BZZ_1845_05_09_1_object_459303.png?auth=d70adc62274f3a2b4785b4b82960af7f', 'https://digital.tessmann.it/mediaArchive/media/image/Page/BZZ/1845/09_05_1845/BZZ_1845_05_09_2_object_459305.png?auth=34c8b240cf7aaad230c27a74812e4663', 'https://digital.tessmann.it/mediaArchive/media/image/Page/BZZ/1845/09_05_1845/BZZ_1845_05_09_3_object_459308.png?auth=6a68e9cefe35afa24f9c21210dfc5096', 'https://digital.tessmann.it/mediaArchive/media/image/Page/BZZ/1845/09_05_1845/BZZ_1845_05_09_4_object_459310.png?auth=70ee0404514d842e00c5679cc9a34dd7', 'https://digital.tessmann.it/mediaArchive/media/image/Page/BZZ/1845/09_05_1845/BZZ_1845_05_09_5_object_459312.png?auth=3838554d721cb364084acad28a4c3d55', 'https://digital.tessmann.it/mediaArchive/media/image/Page/BZZ/1845/09_05_1845/BZZ_1845_05_09_6_object_459315.png?auth=9ea4533b38a6d0fede4a8b34be53203c', 'https://digital.tessmann.it/mediaArchive/media/image/Page/BZZ/1845/09_05_1845/BZZ_1845_05_09_7_object_459317.png?auth=150ef6e2a4851e3c96af4dcaa0e3d705', 'https://digital.tessmann.it/mediaArchive/media/image/Page/BZZ/1845/09_05_1845/BZZ_1845_05_09_8_object_459319.png?auth=93a7ee36a70c31fd0c4b8eebf51dea52', 'https://digital.tessmann.it/mediaArchive/media/image/Page/BZZ/1845/09_05_1845/BZZ_1845_05_09_9_object_459322.png?auth=49fa9d2187916e44927402e165139cb0', 'https://digital.tessmann.it/mediaArchive/media/image/Page/BZZ/1845/09_05_1845/BZZ_1845_05_09_10_object_459324.png?auth=d0a6fdda6481f7bd8302b9cc2d7662aa']\n",
      "16.05.1845 ['https://digital.tessmann.it/mediaArchive/media/image/Page/BZZ/1845/16_05_1845/BZZ_1845_05_16_1_object_459326.png?auth=de7176d29b4cf3754fe89b3dc6bd15c8', 'https://digital.tessmann.it/mediaArchive/media/image/Page/BZZ/1845/16_05_1845/BZZ_1845_05_16_2_object_459328.png?auth=15bcf6b267eae610e09465650d4dfb91', 'https://digital.tessmann.it/mediaArchive/media/image/Page/BZZ/1845/16_05_1845/BZZ_1845_05_16_3_object_459331.png?auth=3998d85879d3d09effec60d913f2d515', 'https://digital.tessmann.it/mediaArchive/media/image/Page/BZZ/1845/16_05_1845/BZZ_1845_05_16_4_object_459333.png?auth=c71bff28bbfcd2c15676dcc9e56f001a', 'https://digital.tessmann.it/mediaArchive/media/image/Page/BZZ/1845/16_05_1845/BZZ_1845_05_16_5_object_459335.png?auth=2ad80648523fc4720174bdc38ac7799e', 'https://digital.tessmann.it/mediaArchive/media/image/Page/BZZ/1845/16_05_1845/BZZ_1845_05_16_6_object_459338.png?auth=b8117fe7d1031a6adfc4dd20144d8202', 'https://digital.tessmann.it/mediaArchive/media/image/Page/BZZ/1845/16_05_1845/BZZ_1845_05_16_7_object_459340.png?auth=bec4eeb7b62dc3bf462712ad9afbb061', 'https://digital.tessmann.it/mediaArchive/media/image/Page/BZZ/1845/16_05_1845/BZZ_1845_05_16_8_object_459342.png?auth=b584591bdbc1d59b06f3d163c388eb20']\n",
      "23.05.1845 ['https://digital.tessmann.it/mediaArchive/media/image/Page/BZZ/1845/23_05_1845/BZZ_1845_05_23_1_object_459345.png?auth=0334cb729f7d5c3cc032ed7548245000', 'https://digital.tessmann.it/mediaArchive/media/image/Page/BZZ/1845/23_05_1845/BZZ_1845_05_23_2_object_459347.png?auth=c23c44b8866f38051b9ee4cfc2b61ade', 'https://digital.tessmann.it/mediaArchive/media/image/Page/BZZ/1845/23_05_1845/BZZ_1845_05_23_3_object_458926.png?auth=a9b5b5a0d5c6ed1cae794c4342e0482a', 'https://digital.tessmann.it/mediaArchive/media/image/Page/BZZ/1845/23_05_1845/BZZ_1845_05_23_4_object_458928.png?auth=6dcc127b533a9c585165ff98cede38e0', 'https://digital.tessmann.it/mediaArchive/media/image/Page/BZZ/1845/23_05_1845/BZZ_1845_05_23_5_object_458931.png?auth=4d0d57d3c7ec093ebe9dc8cc2b0392e5', 'https://digital.tessmann.it/mediaArchive/media/image/Page/BZZ/1845/23_05_1845/BZZ_1845_05_23_6_object_458934.png?auth=16e7ace094f04bc395bf121303968c9f', 'https://digital.tessmann.it/mediaArchive/media/image/Page/BZZ/1845/23_05_1845/BZZ_1845_05_23_7_object_458936.png?auth=794141cd4b444b5eb90d9cd70fb66d5e', 'https://digital.tessmann.it/mediaArchive/media/image/Page/BZZ/1845/23_05_1845/BZZ_1845_05_23_8_object_458938.png?auth=c80f23eb07333e29f41024a19732bf90', 'https://digital.tessmann.it/mediaArchive/media/image/Page/BZZ/1845/23_05_1845/BZZ_1845_05_23_9_object_458941.png?auth=0f66e2af742354160de8e8bb21b65b89', 'https://digital.tessmann.it/mediaArchive/media/image/Page/BZZ/1845/23_05_1845/BZZ_1845_05_23_10_object_458943.png?auth=db763814b69f26dcade32db555b3db38', 'https://digital.tessmann.it/mediaArchive/media/image/Page/BZZ/1845/23_05_1845/BZZ_1845_05_23_11_object_458945.png?auth=0a6b587a7f9ea2fe1d7dcb6d839979dc']\n",
      "30.05.1845 ['https://digital.tessmann.it/mediaArchive/media/image/Page/BZZ/1845/30_05_1845/BZZ_1845_05_30_1_object_458950.png?auth=919503d0797dfeb5dfb33b2f25dcbaee', 'https://digital.tessmann.it/mediaArchive/media/image/Page/BZZ/1845/30_05_1845/BZZ_1845_05_30_2_object_458953.png?auth=9c19f2aafb3a60edb3d90ab2845bbb9f', 'https://digital.tessmann.it/mediaArchive/media/image/Page/BZZ/1845/30_05_1845/BZZ_1845_05_30_3_object_458954.png?auth=a8ddef5e991602e19f778c5a5624b1d1', 'https://digital.tessmann.it/mediaArchive/media/image/Page/BZZ/1845/30_05_1845/BZZ_1845_05_30_4_object_458957.png?auth=8590de080485d54445766707891cea30', 'https://digital.tessmann.it/mediaArchive/media/image/Page/BZZ/1845/30_05_1845/BZZ_1845_05_30_5_object_458960.png?auth=7cecb84c388733d1b3d29f314dcfe71a', 'https://digital.tessmann.it/mediaArchive/media/image/Page/BZZ/1845/30_05_1845/BZZ_1845_05_30_6_object_458961.png?auth=fded4a1e8dd760773554dc6eebbdec12']\n",
      "06.06.1845 ['https://digital.tessmann.it/mediaArchive/media/image/Page/BZZ/1845/06_06_1845/BZZ_1845_06_06_1_object_458964.png?auth=3032d2cff99eb4093a6660528fbb7d45', 'https://digital.tessmann.it/mediaArchive/media/image/Page/BZZ/1845/06_06_1845/BZZ_1845_06_06_2_object_458967.png?auth=d81c3d0d1a85c2034d58658187efe489', 'https://digital.tessmann.it/mediaArchive/media/image/Page/BZZ/1845/06_06_1845/BZZ_1845_06_06_3_object_458969.png?auth=462d4665e6596158586e1482b3e08bf8', 'https://digital.tessmann.it/mediaArchive/media/image/Page/BZZ/1845/06_06_1845/BZZ_1845_06_06_4_object_458971.png?auth=25496d436286b2636b741309944b24a7', 'https://digital.tessmann.it/mediaArchive/media/image/Page/BZZ/1845/06_06_1845/BZZ_1845_06_06_5_object_458974.png?auth=f758bfebb60b400235de4d7a55045c63', 'https://digital.tessmann.it/mediaArchive/media/image/Page/BZZ/1845/06_06_1845/BZZ_1845_06_06_6_object_458976.png?auth=67ce4d967ead0868a73134f15f514e30']\n",
      "13.06.1845 ['https://digital.tessmann.it/mediaArchive/media/image/Page/BZZ/1845/13_06_1845/BZZ_1845_06_13_1_object_458978.png?auth=f30d4799fa9535c9b36f2572751eff4e', 'https://digital.tessmann.it/mediaArchive/media/image/Page/BZZ/1845/13_06_1845/BZZ_1845_06_13_2_object_458981.png?auth=ea0f62a0feb3ad9aaab05eeb4f87d0b4', 'https://digital.tessmann.it/mediaArchive/media/image/Page/BZZ/1845/13_06_1845/BZZ_1845_06_13_3_object_458983.png?auth=eeed902b19deaab095a349597feb5f0d', 'https://digital.tessmann.it/mediaArchive/media/image/Page/BZZ/1845/13_06_1845/BZZ_1845_06_13_4_object_458986.png?auth=b84bf14c35efef08ca8b1dc8db8a3773', 'https://digital.tessmann.it/mediaArchive/media/image/Page/BZZ/1845/13_06_1845/BZZ_1845_06_13_5_object_458988.png?auth=16f18aee8ce2e9daac6fd393e06e68bd', 'https://digital.tessmann.it/mediaArchive/media/image/Page/BZZ/1845/13_06_1845/BZZ_1845_06_13_6_object_458990.png?auth=1539c572a8926d91a5ae8c650ef89660']\n",
      "20.06.1845 ['https://digital.tessmann.it/mediaArchive/media/image/Page/BZZ/1845/20_06_1845/BZZ_1845_06_20_1_object_458993.png?auth=46cc8d3a90e80fa016d60175207cce83', 'https://digital.tessmann.it/mediaArchive/media/image/Page/BZZ/1845/20_06_1845/BZZ_1845_06_20_2_object_458995.png?auth=e918c53055176339566d890cd248a3f6', 'https://digital.tessmann.it/mediaArchive/media/image/Page/BZZ/1845/20_06_1845/BZZ_1845_06_20_3_object_458997.png?auth=0c524a8c887e43d433cd0976b568b9db', 'https://digital.tessmann.it/mediaArchive/media/image/Page/BZZ/1845/20_06_1845/BZZ_1845_06_20_4_object_459000.png?auth=ab36677dbd14873ffefb60f509399b64', 'https://digital.tessmann.it/mediaArchive/media/image/Page/BZZ/1845/20_06_1845/BZZ_1845_06_20_5_object_459003.png?auth=7dd78221aaf997feee13752d6dc8c249', 'https://digital.tessmann.it/mediaArchive/media/image/Page/BZZ/1845/20_06_1845/BZZ_1845_06_20_6_object_459005.png?auth=df5b9c2424eebc15dcad03ea6ac49802', 'https://digital.tessmann.it/mediaArchive/media/image/Page/BZZ/1845/20_06_1845/BZZ_1845_06_20_7_object_459009.png?auth=dd33b0a3aa6321a382b8c1d2a3f9b97e', 'https://digital.tessmann.it/mediaArchive/media/image/Page/BZZ/1845/20_06_1845/BZZ_1845_06_20_8_object_459012.png?auth=838e53115f201b45a5bb6a65ce4e9f5c']\n",
      "27.06.1845 ['https://digital.tessmann.it/mediaArchive/media/image/Page/BZZ/1845/27_06_1845/BZZ_1845_06_27_1_object_459014.png?auth=0436b72d72cefc6fb9b92f755dc715cd', 'https://digital.tessmann.it/mediaArchive/media/image/Page/BZZ/1845/27_06_1845/BZZ_1845_06_27_2_object_459018.png?auth=17c2cf6054b153fa75b68432f30d93f5', 'https://digital.tessmann.it/mediaArchive/media/image/Page/BZZ/1845/27_06_1845/BZZ_1845_06_27_3_object_459021.png?auth=f7e28cfbd5ab3c1ecf607fe50306c713', 'https://digital.tessmann.it/mediaArchive/media/image/Page/BZZ/1845/27_06_1845/BZZ_1845_06_27_4_object_459024.png?auth=fc248aa0f78293c3465bfd7d09710fe5', 'https://digital.tessmann.it/mediaArchive/media/image/Page/BZZ/1845/27_06_1845/BZZ_1845_06_27_5_object_459027.png?auth=e251a5368c1facf8a491fd3034ee63f8', 'https://digital.tessmann.it/mediaArchive/media/image/Page/BZZ/1845/27_06_1845/BZZ_1845_06_27_6_object_459030.png?auth=a43dfb3f2f6bfe8b6e50511ec2adf546', 'https://digital.tessmann.it/mediaArchive/media/image/Page/BZZ/1845/27_06_1845/BZZ_1845_06_27_7_object_459033.png?auth=af563679207b621a38a404d83d529dce', 'https://digital.tessmann.it/mediaArchive/media/image/Page/BZZ/1845/27_06_1845/BZZ_1845_06_27_8_object_459037.png?auth=9d675b28410fed838759173168c02449']\n",
      "04.07.1845 ['https://digital.tessmann.it/mediaArchive/media/image/Page/BZZ/1845/04_07_1845/BZZ_1845_07_04_1_object_459039.png?auth=d44ba75359585afcc6bdda1f7cda64c5', 'https://digital.tessmann.it/mediaArchive/media/image/Page/BZZ/1845/04_07_1845/BZZ_1845_07_04_2_object_459042.png?auth=45360c649be5256297ff2b73b7760551', 'https://digital.tessmann.it/mediaArchive/media/image/Page/BZZ/1845/04_07_1845/BZZ_1845_07_04_3_object_459045.png?auth=f192cd1f23d19813cb16c8418c4219dc', 'https://digital.tessmann.it/mediaArchive/media/image/Page/BZZ/1845/04_07_1845/BZZ_1845_07_04_4_object_459048.png?auth=0f9847265c986af0b3d77c093fc5a617', 'https://digital.tessmann.it/mediaArchive/media/image/Page/BZZ/1845/04_07_1845/BZZ_1845_07_04_5_object_459051.png?auth=42384d45fcab242ebd3b4fb5de2300f1', 'https://digital.tessmann.it/mediaArchive/media/image/Page/BZZ/1845/04_07_1845/BZZ_1845_07_04_6_object_459055.png?auth=5a0b098855627a56dc71385a5d6247e6', 'https://digital.tessmann.it/mediaArchive/media/image/Page/BZZ/1845/04_07_1845/BZZ_1845_07_04_7_object_459058.png?auth=efcd8acbee0ac0902301849432a703db', 'https://digital.tessmann.it/mediaArchive/media/image/Page/BZZ/1845/04_07_1845/BZZ_1845_07_04_8_object_459060.png?auth=2ffa11babab37cb85449ca23509cc921']\n",
      "11.07.1845 ['https://digital.tessmann.it/mediaArchive/media/image/Page/BZZ/1845/11_07_1845/BZZ_1845_07_11_1_object_459063.png?auth=656a9f28015959f9e545be11ab49238a', 'https://digital.tessmann.it/mediaArchive/media/image/Page/BZZ/1845/11_07_1845/BZZ_1845_07_11_2_object_459067.png?auth=34feeceb67fe54bba3a1cbb50c5a69f6', 'https://digital.tessmann.it/mediaArchive/media/image/Page/BZZ/1845/11_07_1845/BZZ_1845_07_11_3_object_459069.png?auth=04db84700c1d3b13becde00fd0887f1e', 'https://digital.tessmann.it/mediaArchive/media/image/Page/BZZ/1845/11_07_1845/BZZ_1845_07_11_4_object_459072.png?auth=bc59bc54bc201516f8dbb43e89a8bbd2', 'https://digital.tessmann.it/mediaArchive/media/image/Page/BZZ/1845/11_07_1845/BZZ_1845_07_11_5_object_459075.png?auth=45fcb81b67f586a7507e25cc0f0d334c', 'https://digital.tessmann.it/mediaArchive/media/image/Page/BZZ/1845/11_07_1845/BZZ_1845_07_11_6_object_459079.png?auth=c923310a146ffb07fc4704ea83ad994a']\n",
      "18.07.1845 ['https://digital.tessmann.it/mediaArchive/media/image/Page/BZZ/1845/18_07_1845/BZZ_1845_07_18_1_object_459081.png?auth=8aeedc9f2b7f1c233120e6f328c066a5', 'https://digital.tessmann.it/mediaArchive/media/image/Page/BZZ/1845/18_07_1845/BZZ_1845_07_18_2_object_459084.png?auth=35bb5b47606ff1a9e02a5f79b8ad1519', 'https://digital.tessmann.it/mediaArchive/media/image/Page/BZZ/1845/18_07_1845/BZZ_1845_07_18_3_object_459088.png?auth=4ef19d6b295b30a67157604128a871bf', 'https://digital.tessmann.it/mediaArchive/media/image/Page/BZZ/1845/18_07_1845/BZZ_1845_07_18_4_object_459091.png?auth=b416504629eda09508ba6e07abda02aa', 'https://digital.tessmann.it/mediaArchive/media/image/Page/BZZ/1845/18_07_1845/BZZ_1845_07_18_5_object_459093.png?auth=19dcbf0dedfde795866d004d0b2621cd', 'https://digital.tessmann.it/mediaArchive/media/image/Page/BZZ/1845/18_07_1845/BZZ_1845_07_18_6_object_459097.png?auth=89f8e765787467a9edcb10acbe643134']\n",
      "25.07.1845 ['https://digital.tessmann.it/mediaArchive/media/image/Page/BZZ/1845/25_07_1845/BZZ_1845_07_25_1_object_459100.png?auth=b47e2ba44aa9a5edaaac8c43a0a1af9b', 'https://digital.tessmann.it/mediaArchive/media/image/Page/BZZ/1845/25_07_1845/BZZ_1845_07_25_2_object_459102.png?auth=fd2e88e4f626d69d97ba9df9d0460812', 'https://digital.tessmann.it/mediaArchive/media/image/Page/BZZ/1845/25_07_1845/BZZ_1845_07_25_3_object_459106.png?auth=f13cdb47534fe4632f7fa4cd35a63e0b', 'https://digital.tessmann.it/mediaArchive/media/image/Page/BZZ/1845/25_07_1845/BZZ_1845_07_25_4_object_459109.png?auth=e572765341a5550f56e042f82b7d66ff', 'https://digital.tessmann.it/mediaArchive/media/image/Page/BZZ/1845/25_07_1845/BZZ_1845_07_25_5_object_459112.png?auth=7b567895196cfd2de80317a2d2f39ac6', 'https://digital.tessmann.it/mediaArchive/media/image/Page/BZZ/1845/25_07_1845/BZZ_1845_07_25_6_object_459115.png?auth=62529af6a5bcd287db99833716df6051']\n",
      "01.08.1845 ['https://digital.tessmann.it/mediaArchive/media/image/Page/BZZ/1845/01_08_1845/BZZ_1845_08_01_1_object_459118.png?auth=e7f22ab0c485f85d3449d6bd0a815e49', 'https://digital.tessmann.it/mediaArchive/media/image/Page/BZZ/1845/01_08_1845/BZZ_1845_08_01_2_object_459121.png?auth=670fec928f44bfd15fe3b1585dc565d6', 'https://digital.tessmann.it/mediaArchive/media/image/Page/BZZ/1845/01_08_1845/BZZ_1845_08_01_3_object_459124.png?auth=f271d6b9dbd571421bdf2ea6ab296906', 'https://digital.tessmann.it/mediaArchive/media/image/Page/BZZ/1845/01_08_1845/BZZ_1845_08_01_4_object_459127.png?auth=da60d2c6ceca4396026bb7322e240157', 'https://digital.tessmann.it/mediaArchive/media/image/Page/BZZ/1845/01_08_1845/BZZ_1845_08_01_5_object_459130.png?auth=73ea74079789a6a893f07d22c21300c7', 'https://digital.tessmann.it/mediaArchive/media/image/Page/BZZ/1845/01_08_1845/BZZ_1845_08_01_6_object_459133.png?auth=f70688675019e6218ac10ca08daacbff']\n",
      "08.08.1845 ['https://digital.tessmann.it/mediaArchive/media/image/Page/BZZ/1845/08_08_1845/BZZ_1845_08_08_1_object_458749.png?auth=c9f0552ece6e9acd08070b06b41bbef8', 'https://digital.tessmann.it/mediaArchive/media/image/Page/BZZ/1845/08_08_1845/BZZ_1845_08_08_2_object_458751.png?auth=9480e011cd4bedf113c13fa254563f94', 'https://digital.tessmann.it/mediaArchive/media/image/Page/BZZ/1845/08_08_1845/BZZ_1845_08_08_3_object_458753.png?auth=3717e54e568143daf2d4deec4462ced1', 'https://digital.tessmann.it/mediaArchive/media/image/Page/BZZ/1845/08_08_1845/BZZ_1845_08_08_4_object_458756.png?auth=856ec90eac2adb25642b860c657c501f', 'https://digital.tessmann.it/mediaArchive/media/image/Page/BZZ/1845/08_08_1845/BZZ_1845_08_08_5_object_458758.png?auth=da169a4eb6ee84856b0cb47f9c019085', 'https://digital.tessmann.it/mediaArchive/media/image/Page/BZZ/1845/08_08_1845/BZZ_1845_08_08_6_object_458760.png?auth=aac991a91953a9621c0ee89894d90326', 'https://digital.tessmann.it/mediaArchive/media/image/Page/BZZ/1845/08_08_1845/BZZ_1845_08_08_7_object_458763.png?auth=7aba13ee6bd19b43f31a1c23c8c2a192', 'https://digital.tessmann.it/mediaArchive/media/image/Page/BZZ/1845/08_08_1845/BZZ_1845_08_08_8_object_458766.png?auth=90324241124ec77163b6971094706d4f']\n",
      "15.08.1845 ['https://digital.tessmann.it/mediaArchive/media/image/Page/BZZ/1845/15_08_1845/BZZ_1845_08_15_1_object_458767.png?auth=be99682f036fcf7a7ca07f681acfd36c', 'https://digital.tessmann.it/mediaArchive/media/image/Page/BZZ/1845/15_08_1845/BZZ_1845_08_15_2_object_458770.png?auth=90e3313a499505ab8168c50d36cac3f4', 'https://digital.tessmann.it/mediaArchive/media/image/Page/BZZ/1845/15_08_1845/BZZ_1845_08_15_3_object_458773.png?auth=807533148316463d3a80e86d7c1bae82', 'https://digital.tessmann.it/mediaArchive/media/image/Page/BZZ/1845/15_08_1845/BZZ_1845_08_15_4_object_458774.png?auth=6f48fba9dd74e8d3167fd3124272fa47', 'https://digital.tessmann.it/mediaArchive/media/image/Page/BZZ/1845/15_08_1845/BZZ_1845_08_15_5_object_458777.png?auth=ef98dbd2eb8014a5a9de0f864d80a9d7', 'https://digital.tessmann.it/mediaArchive/media/image/Page/BZZ/1845/15_08_1845/BZZ_1845_08_15_6_object_458780.png?auth=5d6cfb59f18dd9ff75ae0818f73ba0e6', 'https://digital.tessmann.it/mediaArchive/media/image/Page/BZZ/1845/15_08_1845/BZZ_1845_08_15_7_object_458782.png?auth=347be67ba0957e15079bcd11459b5e54', 'https://digital.tessmann.it/mediaArchive/media/image/Page/BZZ/1845/15_08_1845/BZZ_1845_08_15_8_object_458784.png?auth=1fc9844933a04f416151d273ecf0e326', 'https://digital.tessmann.it/mediaArchive/media/image/Page/BZZ/1845/15_08_1845/BZZ_1845_08_15_9_object_458787.png?auth=a8f731d44cef1e5126425aafa992b675', 'https://digital.tessmann.it/mediaArchive/media/image/Page/BZZ/1845/15_08_1845/BZZ_1845_08_15_10_object_458789.png?auth=0122c128e7f7579fe14a2a97f49c00c9']\n",
      "22.08.1845 ['https://digital.tessmann.it/mediaArchive/media/image/Page/BZZ/1845/22_08_1845/BZZ_1845_08_22_1_object_458791.png?auth=399354a7559c144f663d9b2851142a19', 'https://digital.tessmann.it/mediaArchive/media/image/Page/BZZ/1845/22_08_1845/BZZ_1845_08_22_2_object_458794.png?auth=c23f3aec4dee00dd0097f80a87c6b2c9', 'https://digital.tessmann.it/mediaArchive/media/image/Page/BZZ/1845/22_08_1845/BZZ_1845_08_22_3_object_458796.png?auth=cb8e58958b1972edb90ba066e990c7e5', 'https://digital.tessmann.it/mediaArchive/media/image/Page/BZZ/1845/22_08_1845/BZZ_1845_08_22_4_object_458799.png?auth=35d62386ad49b9e9d12f649fa0be841f', 'https://digital.tessmann.it/mediaArchive/media/image/Page/BZZ/1845/22_08_1845/BZZ_1845_08_22_5_object_458802.png?auth=1c76d9befb56e96a3db9f2be3d7decda', 'https://digital.tessmann.it/mediaArchive/media/image/Page/BZZ/1845/22_08_1845/BZZ_1845_08_22_6_object_458803.png?auth=7649a1e7a2ba74041ace378c03049f3a', 'https://digital.tessmann.it/mediaArchive/media/image/Page/BZZ/1845/22_08_1845/BZZ_1845_08_22_7_object_458806.png?auth=6889f0726b9d9ccd727af2c1f02f45dd', 'https://digital.tessmann.it/mediaArchive/media/image/Page/BZZ/1845/22_08_1845/BZZ_1845_08_22_8_object_458809.png?auth=c2db92167e0f12e8e87d9b96f8019d19', 'https://digital.tessmann.it/mediaArchive/media/image/Page/BZZ/1845/22_08_1845/BZZ_1845_08_22_9_object_458810.png?auth=9c5faf3a3290e68b675a98cee0a04485', 'https://digital.tessmann.it/mediaArchive/media/image/Page/BZZ/1845/22_08_1845/BZZ_1845_08_22_10_object_458813.png?auth=c584ee64bbf1a4466c073b3569b63a7e']\n",
      "29.08.1845 ['https://digital.tessmann.it/mediaArchive/media/image/Page/BZZ/1845/29_08_1845/BZZ_1845_08_29_1_object_458816.png?auth=5dac05fd67f0c0e4c6453d4a17580d23', 'https://digital.tessmann.it/mediaArchive/media/image/Page/BZZ/1845/29_08_1845/BZZ_1845_08_29_2_object_458818.png?auth=a51f3146daf9473164c7784395a9624f', 'https://digital.tessmann.it/mediaArchive/media/image/Page/BZZ/1845/29_08_1845/BZZ_1845_08_29_3_object_458820.png?auth=74e123554cda87a7fdcc3da66b49a42e', 'https://digital.tessmann.it/mediaArchive/media/image/Page/BZZ/1845/29_08_1845/BZZ_1845_08_29_4_object_458823.png?auth=dc2537298e9fdac9ff9629c3f4081109', 'https://digital.tessmann.it/mediaArchive/media/image/Page/BZZ/1845/29_08_1845/BZZ_1845_08_29_5_object_458825.png?auth=62aaae452b419d6f14488f6953202be6', 'https://digital.tessmann.it/mediaArchive/media/image/Page/BZZ/1845/29_08_1845/BZZ_1845_08_29_6_object_458827.png?auth=f9b9df5e431eff407bb1661b52b9892b', 'https://digital.tessmann.it/mediaArchive/media/image/Page/BZZ/1845/29_08_1845/BZZ_1845_08_29_7_object_458830.png?auth=1ef2fe9e17006bef062e7ef272f12d1a', 'https://digital.tessmann.it/mediaArchive/media/image/Page/BZZ/1845/29_08_1845/BZZ_1845_08_29_8_object_458832.png?auth=184ae2deca1ee2b89094dc0d535159d6', 'https://digital.tessmann.it/mediaArchive/media/image/Page/BZZ/1845/29_08_1845/BZZ_1845_08_29_9_object_458835.png?auth=61df6e33a98a2ea01ddbcb999afbab31', 'https://digital.tessmann.it/mediaArchive/media/image/Page/BZZ/1845/29_08_1845/BZZ_1845_08_29_10_object_458837.png?auth=5c59995e5163cd1d17dc08fe034b373f']\n",
      "05.09.1845 ['https://digital.tessmann.it/mediaArchive/media/image/Page/BZZ/1845/05_09_1845/BZZ_1845_09_05_1_object_458839.png?auth=8dee645a54d6c75ac4eb006f84c1c436', 'https://digital.tessmann.it/mediaArchive/media/image/Page/BZZ/1845/05_09_1845/BZZ_1845_09_05_2_object_458842.png?auth=3953c0f6d386437f5a285a33d57901f0', 'https://digital.tessmann.it/mediaArchive/media/image/Page/BZZ/1845/05_09_1845/BZZ_1845_09_05_3_object_458845.png?auth=fb2ec8ad9002413c04d514e83bd46160', 'https://digital.tessmann.it/mediaArchive/media/image/Page/BZZ/1845/05_09_1845/BZZ_1845_09_05_4_object_458846.png?auth=f98b2cca434910ef7e4af1e00ec12264', 'https://digital.tessmann.it/mediaArchive/media/image/Page/BZZ/1845/05_09_1845/BZZ_1845_09_05_5_object_458849.png?auth=b32178cb900230bda40301404fd602d7', 'https://digital.tessmann.it/mediaArchive/media/image/Page/BZZ/1845/05_09_1845/BZZ_1845_09_05_6_object_458852.png?auth=1b7be7ba252de98f4fdcd7bb8e7e9d97', 'https://digital.tessmann.it/mediaArchive/media/image/Page/BZZ/1845/05_09_1845/BZZ_1845_09_05_7_object_458854.png?auth=aeab9419ce50f63f1d7042860ac91b0a', 'https://digital.tessmann.it/mediaArchive/media/image/Page/BZZ/1845/05_09_1845/BZZ_1845_09_05_8_object_458856.png?auth=2ed0d18c57c69d3d37600cbab9ba59f6', 'https://digital.tessmann.it/mediaArchive/media/image/Page/BZZ/1845/05_09_1845/BZZ_1845_09_05_9_object_458859.png?auth=c211b7f761fac422e1bfb53787e7cb07', 'https://digital.tessmann.it/mediaArchive/media/image/Page/BZZ/1845/05_09_1845/BZZ_1845_09_05_10_object_458861.png?auth=175cfc8ef373b7e11973199aa71dec49', 'https://digital.tessmann.it/mediaArchive/media/image/Page/BZZ/1845/05_09_1845/BZZ_1845_09_05_11_object_458864.png?auth=f1c93e2206136a5ee8b30235d48f0c09']\n",
      "12.09.1845 ['https://digital.tessmann.it/mediaArchive/media/image/Page/BZZ/1845/12_09_1845/BZZ_1845_09_12_1_object_458868.png?auth=64cf0d300fe6448a2b0acdffb0181c15', 'https://digital.tessmann.it/mediaArchive/media/image/Page/BZZ/1845/12_09_1845/BZZ_1845_09_12_2_object_458871.png?auth=342d73a6ec269f89d43108b283e214ab', 'https://digital.tessmann.it/mediaArchive/media/image/Page/BZZ/1845/12_09_1845/BZZ_1845_09_12_3_object_458873.png?auth=47f065612e2c6f872791ad526442cf8f', 'https://digital.tessmann.it/mediaArchive/media/image/Page/BZZ/1845/12_09_1845/BZZ_1845_09_12_4_object_458876.png?auth=f35cf934ea170ac6ab63860ed19e735b', 'https://digital.tessmann.it/mediaArchive/media/image/Page/BZZ/1845/12_09_1845/BZZ_1845_09_12_5_object_458878.png?auth=43653f4471ef2d7d08b4e03ede49dc88', 'https://digital.tessmann.it/mediaArchive/media/image/Page/BZZ/1845/12_09_1845/BZZ_1845_09_12_6_object_458881.png?auth=8c59e3984590e8c146933a831ee31ece', 'https://digital.tessmann.it/mediaArchive/media/image/Page/BZZ/1845/12_09_1845/BZZ_1845_09_12_7_object_458883.png?auth=bdaa3d710ed265885245063340b168e7', 'https://digital.tessmann.it/mediaArchive/media/image/Page/BZZ/1845/12_09_1845/BZZ_1845_09_12_8_object_458885.png?auth=31d1f61253fb8ffd93469fc547acd022', 'https://digital.tessmann.it/mediaArchive/media/image/Page/BZZ/1845/12_09_1845/BZZ_1845_09_12_9_object_458888.png?auth=2d7229eae8ef45a9456405d00c74e882', 'https://digital.tessmann.it/mediaArchive/media/image/Page/BZZ/1845/12_09_1845/BZZ_1845_09_12_10_object_458891.png?auth=1c5c913c304127a1c8a599449a028a5f', 'https://digital.tessmann.it/mediaArchive/media/image/Page/BZZ/1845/12_09_1845/BZZ_1845_09_12_11_object_458892.png?auth=b47d894075ddf0b3e4ece5b0a4576b64']\n",
      "19.09.1845 ['https://digital.tessmann.it/mediaArchive/media/image/Page/BZZ/1845/19_09_1845/BZZ_1845_09_19_1_object_458897.png?auth=4c10fbef21d85e17ea3ae0a193bdea56', 'https://digital.tessmann.it/mediaArchive/media/image/Page/BZZ/1845/19_09_1845/BZZ_1845_09_19_2_object_458900.png?auth=27d197c2aefdb37f49b267beeb946e9e', 'https://digital.tessmann.it/mediaArchive/media/image/Page/BZZ/1845/19_09_1845/BZZ_1845_09_19_3_object_458902.png?auth=c80a1467722815bb0b152532810405c9', 'https://digital.tessmann.it/mediaArchive/media/image/Page/BZZ/1845/19_09_1845/BZZ_1845_09_19_4_object_458904.png?auth=e71b31a12b69646490f46e122f714b44', 'https://digital.tessmann.it/mediaArchive/media/image/Page/BZZ/1845/19_09_1845/BZZ_1845_09_19_5_object_458907.png?auth=2e12f3fc63dddd1967c43f5aef9b6db9', 'https://digital.tessmann.it/mediaArchive/media/image/Page/BZZ/1845/19_09_1845/BZZ_1845_09_19_6_object_458910.png?auth=231349e15edfa16381018f36ce81b7c5', 'https://digital.tessmann.it/mediaArchive/media/image/Page/BZZ/1845/19_09_1845/BZZ_1845_09_19_7_object_458911.png?auth=bcb641886c2f1965c62c7eb7581193f0', 'https://digital.tessmann.it/mediaArchive/media/image/Page/BZZ/1845/19_09_1845/BZZ_1845_09_19_8_object_458914.png?auth=609d696f5de5b9d1b77d4b6a7031a9fc', 'https://digital.tessmann.it/mediaArchive/media/image/Page/BZZ/1845/19_09_1845/BZZ_1845_09_19_9_object_458917.png?auth=b0fdb42f9a37accb19682b49a1db88e8', 'https://digital.tessmann.it/mediaArchive/media/image/Page/BZZ/1845/19_09_1845/BZZ_1845_09_19_10_object_458918.png?auth=250903ea13235eda5cab55039ffbec43', 'https://digital.tessmann.it/mediaArchive/media/image/Page/BZZ/1845/19_09_1845/BZZ_1845_09_19_11_object_458921.png?auth=59075a68ceccaf24dbd28527e9bdc78d']\n",
      "03.10.1845 ['https://digital.tessmann.it/mediaArchive/media/image/Page/BZZ/1845/03_10_1845/BZZ_1845_10_03_1_object_458566.png?auth=eb0fbcd2a16fc7d058b3134b85ae28fe', 'https://digital.tessmann.it/mediaArchive/media/image/Page/BZZ/1845/03_10_1845/BZZ_1845_10_03_2_object_458568.png?auth=63038ba4d00c74a002315cbbf45e23d3', 'https://digital.tessmann.it/mediaArchive/media/image/Page/BZZ/1845/03_10_1845/BZZ_1845_10_03_3_object_458571.png?auth=7fa6781fcea4c7faf3148873dfce0397', 'https://digital.tessmann.it/mediaArchive/media/image/Page/BZZ/1845/03_10_1845/BZZ_1845_10_03_4_object_458573.png?auth=07a7ac73e4e1a018fc640621378179c0', 'https://digital.tessmann.it/mediaArchive/media/image/Page/BZZ/1845/03_10_1845/BZZ_1845_10_03_5_object_458575.png?auth=17fe9729fe814493eee9885c7e09f374', 'https://digital.tessmann.it/mediaArchive/media/image/Page/BZZ/1845/03_10_1845/BZZ_1845_10_03_6_object_458578.png?auth=b174fe31f03a8419a7eb7c3ecb9bf586', 'https://digital.tessmann.it/mediaArchive/media/image/Page/BZZ/1845/03_10_1845/BZZ_1845_10_03_7_object_458580.png?auth=222037209d3a51805368c79b316bd3e5', 'https://digital.tessmann.it/mediaArchive/media/image/Page/BZZ/1845/03_10_1845/BZZ_1845_10_03_8_object_458583.png?auth=3b03ce7b14af8700815c7d9522e15d0f', 'https://digital.tessmann.it/mediaArchive/media/image/Page/BZZ/1845/03_10_1845/BZZ_1845_10_03_9_object_458585.png?auth=f117961457559983ef1898a555d30e47']\n",
      "10.10.1845 ['https://digital.tessmann.it/mediaArchive/media/image/Page/BZZ/1845/10_10_1845/BZZ_1845_10_10_1_object_458587.png?auth=c04b8a64f9d8492efcd56f85c4bc8d65', 'https://digital.tessmann.it/mediaArchive/media/image/Page/BZZ/1845/10_10_1845/BZZ_1845_10_10_2_object_458590.png?auth=5595649358d0005b010acce918a9f77b', 'https://digital.tessmann.it/mediaArchive/media/image/Page/BZZ/1845/10_10_1845/BZZ_1845_10_10_3_object_458593.png?auth=e2ec9351581616412622819ec711314e', 'https://digital.tessmann.it/mediaArchive/media/image/Page/BZZ/1845/10_10_1845/BZZ_1845_10_10_4_object_458594.png?auth=de599e711245860099741a3640bcfa93', 'https://digital.tessmann.it/mediaArchive/media/image/Page/BZZ/1845/10_10_1845/BZZ_1845_10_10_5_object_458597.png?auth=8228814c1fb13e152af7315b92da971a', 'https://digital.tessmann.it/mediaArchive/media/image/Page/BZZ/1845/10_10_1845/BZZ_1845_10_10_6_object_458600.png?auth=b56836f8a91b5dd6a5d9b70831cdae98', 'https://digital.tessmann.it/mediaArchive/media/image/Page/BZZ/1845/10_10_1845/BZZ_1845_10_10_7_object_458602.png?auth=044f9236ae41a5d6a57516d8cc4562cd', 'https://digital.tessmann.it/mediaArchive/media/image/Page/BZZ/1845/10_10_1845/BZZ_1845_10_10_8_object_458604.png?auth=9385839c517178cd875c051bc102f08d']\n",
      "17.10.1845 ['https://digital.tessmann.it/mediaArchive/media/image/Page/BZZ/1845/17_10_1845/BZZ_1845_10_17_1_object_458607.png?auth=8ccf42ddc15346d4e6379949313ce22f', 'https://digital.tessmann.it/mediaArchive/media/image/Page/BZZ/1845/17_10_1845/BZZ_1845_10_17_2_object_458609.png?auth=f39cd83bf47140f7325d3727ea6962e0', 'https://digital.tessmann.it/mediaArchive/media/image/Page/BZZ/1845/17_10_1845/BZZ_1845_10_17_3_object_458612.png?auth=c5cf8c10e7da8e2380ada3b0d8f9d88e', 'https://digital.tessmann.it/mediaArchive/media/image/Page/BZZ/1845/17_10_1845/BZZ_1845_10_17_4_object_458614.png?auth=b074fa4ebc0fa55e2e3080da21fa0e22', 'https://digital.tessmann.it/mediaArchive/media/image/Page/BZZ/1845/17_10_1845/BZZ_1845_10_17_5_object_458616.png?auth=f708b028c66b69f29b3dd38b558cf29f', 'https://digital.tessmann.it/mediaArchive/media/image/Page/BZZ/1845/17_10_1845/BZZ_1845_10_17_6_object_458619.png?auth=c35ffc6c064edda608829ab602b42bd3', 'https://digital.tessmann.it/mediaArchive/media/image/Page/BZZ/1845/17_10_1845/BZZ_1845_10_17_7_object_458622.png?auth=bc1f04ac865863e768ad2e982389df52', 'https://digital.tessmann.it/mediaArchive/media/image/Page/BZZ/1845/17_10_1845/BZZ_1845_10_17_8_object_458623.png?auth=7322f3d28ff521367119e6b024c2b2f9']\n",
      "24.10.1845 ['https://digital.tessmann.it/mediaArchive/media/image/Page/BZZ/1845/24_10_1845/BZZ_1845_10_24_1_object_458626.png?auth=95a2a563f6fa98bd1050aa374ae2f88c', 'https://digital.tessmann.it/mediaArchive/media/image/Page/BZZ/1845/24_10_1845/BZZ_1845_10_24_2_object_458629.png?auth=dbd39a825a3ab130638f5a38b6370f67', 'https://digital.tessmann.it/mediaArchive/media/image/Page/BZZ/1845/24_10_1845/BZZ_1845_10_24_3_object_458630.png?auth=9ae98e97dc9006da8c71c2bfa1d2437b', 'https://digital.tessmann.it/mediaArchive/media/image/Page/BZZ/1845/24_10_1845/BZZ_1845_10_24_4_object_458633.png?auth=7bd8a7386e393bf24467a812b7a5fdb9']\n",
      "31.10.1845 ['https://digital.tessmann.it/mediaArchive/media/image/Page/BZZ/1845/31_10_1845/BZZ_1845_10_31_1_object_458636.png?auth=e8c877a9c45c8d965815df514db50554', 'https://digital.tessmann.it/mediaArchive/media/image/Page/BZZ/1845/31_10_1845/BZZ_1845_10_31_2_object_458638.png?auth=be3db3b7a4f7b7722e2d009a89741613', 'https://digital.tessmann.it/mediaArchive/media/image/Page/BZZ/1845/31_10_1845/BZZ_1845_10_31_3_object_458640.png?auth=40eb20b7a8fd2e77b028a82fef8ec1b5', 'https://digital.tessmann.it/mediaArchive/media/image/Page/BZZ/1845/31_10_1845/BZZ_1845_10_31_4_object_458643.png?auth=0157af5e4a9f50241fc37b9fc4ea3070', 'https://digital.tessmann.it/mediaArchive/media/image/Page/BZZ/1845/31_10_1845/BZZ_1845_10_31_5_object_458645.png?auth=4fd611a1f03f133f16aed6cbbe744c7b', 'https://digital.tessmann.it/mediaArchive/media/image/Page/BZZ/1845/31_10_1845/BZZ_1845_10_31_6_object_458648.png?auth=8541da004e479c777890405247026a53']\n",
      "07.11.1845 ['https://digital.tessmann.it/mediaArchive/media/image/Page/BZZ/1845/07_11_1845/BZZ_1845_11_07_1_object_458650.png?auth=df76a9f98d82edb4ef8bfb581283a015', 'https://digital.tessmann.it/mediaArchive/media/image/Page/BZZ/1845/07_11_1845/BZZ_1845_11_07_2_object_458652.png?auth=e7c37b675a4f1f36f917fc7e60fe069d', 'https://digital.tessmann.it/mediaArchive/media/image/Page/BZZ/1845/07_11_1845/BZZ_1845_11_07_3_object_458655.png?auth=8bdb5061c4b3524b7d6aceac358e3231', 'https://digital.tessmann.it/mediaArchive/media/image/Page/BZZ/1845/07_11_1845/BZZ_1845_11_07_4_object_458657.png?auth=904c35af822adcc07899cfbfaacd82e3', 'https://digital.tessmann.it/mediaArchive/media/image/Page/BZZ/1845/07_11_1845/BZZ_1845_11_07_5_object_458659.png?auth=c92d0c2b4c19edbaddb6618f9ab54dd3', 'https://digital.tessmann.it/mediaArchive/media/image/Page/BZZ/1845/07_11_1845/BZZ_1845_11_07_6_object_458662.png?auth=4bfb4b15a60be88f563e4930812b12f0', 'https://digital.tessmann.it/mediaArchive/media/image/Page/BZZ/1845/07_11_1845/BZZ_1845_11_07_7_object_458665.png?auth=db1afe38cb41e3320d66b3b1cbea4a4a', 'https://digital.tessmann.it/mediaArchive/media/image/Page/BZZ/1845/07_11_1845/BZZ_1845_11_07_8_object_458667.png?auth=e6021c26e43bcf09fd0dd3eb70dafda0']\n",
      "14.11.1845 ['https://digital.tessmann.it/mediaArchive/media/image/Page/BZZ/1845/14_11_1845/BZZ_1845_11_14_1_object_458669.png?auth=c203560000ac1506a164405a90e3bf79', 'https://digital.tessmann.it/mediaArchive/media/image/Page/BZZ/1845/14_11_1845/BZZ_1845_11_14_2_object_458672.png?auth=f8bc0c0ef2a79aab79bf96f51b7782cc', 'https://digital.tessmann.it/mediaArchive/media/image/Page/BZZ/1845/14_11_1845/BZZ_1845_11_14_3_object_458674.png?auth=7ec78fbec0ada7b4f2f556cd5a4baee2', 'https://digital.tessmann.it/mediaArchive/media/image/Page/BZZ/1845/14_11_1845/BZZ_1845_11_14_4_object_458676.png?auth=5e480692dab02f34d8ca893b127c08e9', 'https://digital.tessmann.it/mediaArchive/media/image/Page/BZZ/1845/14_11_1845/BZZ_1845_11_14_5_object_458678.png?auth=d98307ad89fa93fb5315bab1d0076992', 'https://digital.tessmann.it/mediaArchive/media/image/Page/BZZ/1845/14_11_1845/BZZ_1845_11_14_6_object_458681.png?auth=31da3255d85eb0dd78242f9c4b358d0c']\n",
      "21.11.1845 ['https://digital.tessmann.it/mediaArchive/media/image/Page/BZZ/1845/21_11_1845/BZZ_1845_11_21_1_object_458684.png?auth=5a3c964cabedfc8344c451b29a321390', 'https://digital.tessmann.it/mediaArchive/media/image/Page/BZZ/1845/21_11_1845/BZZ_1845_11_21_2_object_458686.png?auth=7c687080fbadfca0020334e6644433e8', 'https://digital.tessmann.it/mediaArchive/media/image/Page/BZZ/1845/21_11_1845/BZZ_1845_11_21_3_object_458688.png?auth=fafeb7ea0c50a31ad4d0bbda54d139e7', 'https://digital.tessmann.it/mediaArchive/media/image/Page/BZZ/1845/21_11_1845/BZZ_1845_11_21_4_object_458691.png?auth=5c7a698d997aa65a02160372836f92e9']\n",
      "28.11.1845 ['https://digital.tessmann.it/mediaArchive/media/image/Page/BZZ/1845/28_11_1845/BZZ_1845_11_28_1_object_458694.png?auth=0f2f2639a116db4cfd03c1f834b23642', 'https://digital.tessmann.it/mediaArchive/media/image/Page/BZZ/1845/28_11_1845/BZZ_1845_11_28_2_object_458695.png?auth=9717bf48e822e483eb4f3347e1bc83e7', 'https://digital.tessmann.it/mediaArchive/media/image/Page/BZZ/1845/28_11_1845/BZZ_1845_11_28_3_object_458698.png?auth=cc6ed5d8168639d946b8015a8d852234', 'https://digital.tessmann.it/mediaArchive/media/image/Page/BZZ/1845/28_11_1845/BZZ_1845_11_28_4_object_458701.png?auth=b396096d5a5c4d1e5da9da061a4c6bcb', 'https://digital.tessmann.it/mediaArchive/media/image/Page/BZZ/1845/28_11_1845/BZZ_1845_11_28_5_object_458703.png?auth=d8ff42d63c24fba0122809a559dd84b5', 'https://digital.tessmann.it/mediaArchive/media/image/Page/BZZ/1845/28_11_1845/BZZ_1845_11_28_6_object_458705.png?auth=e5f698320ee464947716310650b11bc7']\n",
      "05.12.1845 ['https://digital.tessmann.it/mediaArchive/media/image/Page/BZZ/1845/05_12_1845/BZZ_1845_12_05_1_object_458708.png?auth=8fdd454eff6a038523473398a6194ec0', 'https://digital.tessmann.it/mediaArchive/media/image/Page/BZZ/1845/05_12_1845/BZZ_1845_12_05_2_object_458710.png?auth=67790c52b40165878bd4a4b3f7a5a97f', 'https://digital.tessmann.it/mediaArchive/media/image/Page/BZZ/1845/05_12_1845/BZZ_1845_12_05_3_object_458713.png?auth=b3043077fe94db6f96e4b49d82ff279a', 'https://digital.tessmann.it/mediaArchive/media/image/Page/BZZ/1845/05_12_1845/BZZ_1845_12_05_4_object_458715.png?auth=09cbfb540071a61b536489324e08794a', 'https://digital.tessmann.it/mediaArchive/media/image/Page/BZZ/1845/05_12_1845/BZZ_1845_12_05_5_object_458717.png?auth=4b0ef98b6d0f6f3dbdb6edaa2e6e093f', 'https://digital.tessmann.it/mediaArchive/media/image/Page/BZZ/1845/05_12_1845/BZZ_1845_12_05_6_object_458720.png?auth=735468209b7c44ec2a4a31186c9130b6', 'https://digital.tessmann.it/mediaArchive/media/image/Page/BZZ/1845/05_12_1845/BZZ_1845_12_05_7_object_458723.png?auth=13b3358568c424c58300f27d7a49892d', 'https://digital.tessmann.it/mediaArchive/media/image/Page/BZZ/1845/05_12_1845/BZZ_1845_12_05_8_object_458724.png?auth=752f35eac86486de2eabc142df9b7c88']\n",
      "12.12.1845 ['https://digital.tessmann.it/mediaArchive/media/image/Page/BZZ/1845/12_12_1845/BZZ_1845_12_12_1_object_458727.png?auth=6a28629c29c26324ef2b2afc69303d6f', 'https://digital.tessmann.it/mediaArchive/media/image/Page/BZZ/1845/12_12_1845/BZZ_1845_12_12_2_object_458730.png?auth=2e7f43f79163097fee15da2da521ca5e', 'https://digital.tessmann.it/mediaArchive/media/image/Page/BZZ/1845/12_12_1845/BZZ_1845_12_12_3_object_458731.png?auth=871ad2ef7bb96e1707233b4f38464050', 'https://digital.tessmann.it/mediaArchive/media/image/Page/BZZ/1845/12_12_1845/BZZ_1845_12_12_4_object_458734.png?auth=1eafc9dc9c7e17ed6f44fa7704e09375', 'https://digital.tessmann.it/mediaArchive/media/image/Page/BZZ/1845/12_12_1845/BZZ_1845_12_12_5_object_458737.png?auth=48b0ec2f36884642f6a4d58e57ccba59', 'https://digital.tessmann.it/mediaArchive/media/image/Page/BZZ/1845/12_12_1845/BZZ_1845_12_12_6_object_458739.png?auth=05ca66d792499d677cc2a00f91aa192a']\n",
      "19.12.1845 ['https://digital.tessmann.it/mediaArchive/media/image/Page/BZZ/1845/19_12_1845/BZZ_1845_12_19_1_object_458741.png?auth=de1adbc1d54f624ea81639e9210d060f', 'https://digital.tessmann.it/mediaArchive/media/image/Page/BZZ/1845/19_12_1845/BZZ_1845_12_19_2_object_458744.png?auth=df297e88d50dce313fa5de0992483cf1', 'https://digital.tessmann.it/mediaArchive/media/image/Page/BZZ/1845/19_12_1845/BZZ_1845_12_19_3_object_458746.png?auth=999b00236fc7ba982083562c20f49fec', 'https://digital.tessmann.it/mediaArchive/media/image/Page/BZZ/1845/19_12_1845/BZZ_1845_12_19_4_object_458379.png?auth=31a5481d855a7f5637cdae9a3c15af05', 'https://digital.tessmann.it/mediaArchive/media/image/Page/BZZ/1845/19_12_1845/BZZ_1845_12_19_5_object_458381.png?auth=7bca98fd7599b1c1e958ce68773aae64', 'https://digital.tessmann.it/mediaArchive/media/image/Page/BZZ/1845/19_12_1845/BZZ_1845_12_19_6_object_458384.png?auth=033cd92af2e5bcd5a332c86b56870849']\n",
      "26.12.1845 ['https://digital.tessmann.it/mediaArchive/media/image/Page/BZZ/1845/26_12_1845/BZZ_1845_12_26_1_object_458386.png?auth=ff642e64239f47a6f686745e73b88fd7', 'https://digital.tessmann.it/mediaArchive/media/image/Page/BZZ/1845/26_12_1845/BZZ_1845_12_26_2_object_458388.png?auth=87b5054332f04b1d569c45272d892827', 'https://digital.tessmann.it/mediaArchive/media/image/Page/BZZ/1845/26_12_1845/BZZ_1845_12_26_3_object_458391.png?auth=00e5e9c3194bae42e98774f21b3b51fc', 'https://digital.tessmann.it/mediaArchive/media/image/Page/BZZ/1845/26_12_1845/BZZ_1845_12_26_4_object_458394.png?auth=b7fe5750e2fc1727b182c4be5e152c6b']\n"
     ]
    }
   ],
   "source": [
    "# show list\n",
    "for num in range(len(datelist)):\n",
    "    print (new_list[num][1], pictures[num])"
   ]
  },
  {
   "cell_type": "code",
   "execution_count": 30,
   "metadata": {},
   "outputs": [
    {
     "name": "stderr",
     "output_type": "stream",
     "text": [
      "/Users/nplattner/miniconda3/envs/AutoSearch/lib/python3.7/site-packages/urllib3/connectionpool.py:847: InsecureRequestWarning: Unverified HTTPS request is being made. Adding certificate verification is strongly advised. See: https://urllib3.readthedocs.io/en/latest/advanced-usage.html#ssl-warnings\n",
      "  InsecureRequestWarning)\n",
      "/Users/nplattner/miniconda3/envs/AutoSearch/lib/python3.7/site-packages/urllib3/connectionpool.py:847: InsecureRequestWarning: Unverified HTTPS request is being made. Adding certificate verification is strongly advised. See: https://urllib3.readthedocs.io/en/latest/advanced-usage.html#ssl-warnings\n",
      "  InsecureRequestWarning)\n",
      "/Users/nplattner/miniconda3/envs/AutoSearch/lib/python3.7/site-packages/urllib3/connectionpool.py:847: InsecureRequestWarning: Unverified HTTPS request is being made. Adding certificate verification is strongly advised. See: https://urllib3.readthedocs.io/en/latest/advanced-usage.html#ssl-warnings\n",
      "  InsecureRequestWarning)\n",
      "/Users/nplattner/miniconda3/envs/AutoSearch/lib/python3.7/site-packages/urllib3/connectionpool.py:847: InsecureRequestWarning: Unverified HTTPS request is being made. Adding certificate verification is strongly advised. See: https://urllib3.readthedocs.io/en/latest/advanced-usage.html#ssl-warnings\n",
      "  InsecureRequestWarning)\n",
      "/Users/nplattner/miniconda3/envs/AutoSearch/lib/python3.7/site-packages/urllib3/connectionpool.py:847: InsecureRequestWarning: Unverified HTTPS request is being made. Adding certificate verification is strongly advised. See: https://urllib3.readthedocs.io/en/latest/advanced-usage.html#ssl-warnings\n",
      "  InsecureRequestWarning)\n",
      "/Users/nplattner/miniconda3/envs/AutoSearch/lib/python3.7/site-packages/urllib3/connectionpool.py:847: InsecureRequestWarning: Unverified HTTPS request is being made. Adding certificate verification is strongly advised. See: https://urllib3.readthedocs.io/en/latest/advanced-usage.html#ssl-warnings\n",
      "  InsecureRequestWarning)\n"
     ]
    }
   ],
   "source": [
    "### testblock; test downloading for a single issue here!!!!\n",
    "num = 0\n",
    "subfolder = os.path.join(folder,str(new_list[num][0]))\n",
    "if not os.path.exists(subfolder):\n",
    "    os.mkdir(subfolder)\n",
    "for p in range(len(new_list[num][2])):\n",
    "    filename = os.path.join(subfolder,(str(new_list[num][0])+'_'+str(p)+'.png'))\n",
    "    http = urllib3.PoolManager()\n",
    "    c = urllib3.PoolManager()\n",
    "\n",
    "    with c.request('GET',pictures[num][p], preload_content=False) as resp, open(filename, 'wb') as out_file:\n",
    "        shutil.copyfileobj(resp, out_file)\n",
    "\n",
    "    resp.release_conn()  "
   ]
  },
  {
   "cell_type": "code",
   "execution_count": 31,
   "metadata": {},
   "outputs": [
    {
     "name": "stderr",
     "output_type": "stream",
     "text": [
      "/Users/nplattner/miniconda3/envs/AutoSearch/lib/python3.7/site-packages/urllib3/connectionpool.py:847: InsecureRequestWarning: Unverified HTTPS request is being made. Adding certificate verification is strongly advised. See: https://urllib3.readthedocs.io/en/latest/advanced-usage.html#ssl-warnings\n",
      "  InsecureRequestWarning)\n",
      "/Users/nplattner/miniconda3/envs/AutoSearch/lib/python3.7/site-packages/urllib3/connectionpool.py:847: InsecureRequestWarning: Unverified HTTPS request is being made. Adding certificate verification is strongly advised. See: https://urllib3.readthedocs.io/en/latest/advanced-usage.html#ssl-warnings\n",
      "  InsecureRequestWarning)\n",
      "/Users/nplattner/miniconda3/envs/AutoSearch/lib/python3.7/site-packages/urllib3/connectionpool.py:847: InsecureRequestWarning: Unverified HTTPS request is being made. Adding certificate verification is strongly advised. See: https://urllib3.readthedocs.io/en/latest/advanced-usage.html#ssl-warnings\n",
      "  InsecureRequestWarning)\n",
      "/Users/nplattner/miniconda3/envs/AutoSearch/lib/python3.7/site-packages/urllib3/connectionpool.py:847: InsecureRequestWarning: Unverified HTTPS request is being made. Adding certificate verification is strongly advised. See: https://urllib3.readthedocs.io/en/latest/advanced-usage.html#ssl-warnings\n",
      "  InsecureRequestWarning)\n",
      "/Users/nplattner/miniconda3/envs/AutoSearch/lib/python3.7/site-packages/urllib3/connectionpool.py:847: InsecureRequestWarning: Unverified HTTPS request is being made. Adding certificate verification is strongly advised. See: https://urllib3.readthedocs.io/en/latest/advanced-usage.html#ssl-warnings\n",
      "  InsecureRequestWarning)\n",
      "/Users/nplattner/miniconda3/envs/AutoSearch/lib/python3.7/site-packages/urllib3/connectionpool.py:847: InsecureRequestWarning: Unverified HTTPS request is being made. Adding certificate verification is strongly advised. See: https://urllib3.readthedocs.io/en/latest/advanced-usage.html#ssl-warnings\n",
      "  InsecureRequestWarning)\n",
      "/Users/nplattner/miniconda3/envs/AutoSearch/lib/python3.7/site-packages/urllib3/connectionpool.py:847: InsecureRequestWarning: Unverified HTTPS request is being made. Adding certificate verification is strongly advised. See: https://urllib3.readthedocs.io/en/latest/advanced-usage.html#ssl-warnings\n",
      "  InsecureRequestWarning)\n",
      "/Users/nplattner/miniconda3/envs/AutoSearch/lib/python3.7/site-packages/urllib3/connectionpool.py:847: InsecureRequestWarning: Unverified HTTPS request is being made. Adding certificate verification is strongly advised. See: https://urllib3.readthedocs.io/en/latest/advanced-usage.html#ssl-warnings\n",
      "  InsecureRequestWarning)\n",
      "/Users/nplattner/miniconda3/envs/AutoSearch/lib/python3.7/site-packages/urllib3/connectionpool.py:847: InsecureRequestWarning: Unverified HTTPS request is being made. Adding certificate verification is strongly advised. See: https://urllib3.readthedocs.io/en/latest/advanced-usage.html#ssl-warnings\n",
      "  InsecureRequestWarning)\n",
      "/Users/nplattner/miniconda3/envs/AutoSearch/lib/python3.7/site-packages/urllib3/connectionpool.py:847: InsecureRequestWarning: Unverified HTTPS request is being made. Adding certificate verification is strongly advised. See: https://urllib3.readthedocs.io/en/latest/advanced-usage.html#ssl-warnings\n",
      "  InsecureRequestWarning)\n",
      "/Users/nplattner/miniconda3/envs/AutoSearch/lib/python3.7/site-packages/urllib3/connectionpool.py:847: InsecureRequestWarning: Unverified HTTPS request is being made. Adding certificate verification is strongly advised. See: https://urllib3.readthedocs.io/en/latest/advanced-usage.html#ssl-warnings\n",
      "  InsecureRequestWarning)\n",
      "/Users/nplattner/miniconda3/envs/AutoSearch/lib/python3.7/site-packages/urllib3/connectionpool.py:847: InsecureRequestWarning: Unverified HTTPS request is being made. Adding certificate verification is strongly advised. See: https://urllib3.readthedocs.io/en/latest/advanced-usage.html#ssl-warnings\n",
      "  InsecureRequestWarning)\n",
      "/Users/nplattner/miniconda3/envs/AutoSearch/lib/python3.7/site-packages/urllib3/connectionpool.py:847: InsecureRequestWarning: Unverified HTTPS request is being made. Adding certificate verification is strongly advised. See: https://urllib3.readthedocs.io/en/latest/advanced-usage.html#ssl-warnings\n",
      "  InsecureRequestWarning)\n",
      "/Users/nplattner/miniconda3/envs/AutoSearch/lib/python3.7/site-packages/urllib3/connectionpool.py:847: InsecureRequestWarning: Unverified HTTPS request is being made. Adding certificate verification is strongly advised. See: https://urllib3.readthedocs.io/en/latest/advanced-usage.html#ssl-warnings\n",
      "  InsecureRequestWarning)\n",
      "/Users/nplattner/miniconda3/envs/AutoSearch/lib/python3.7/site-packages/urllib3/connectionpool.py:847: InsecureRequestWarning: Unverified HTTPS request is being made. Adding certificate verification is strongly advised. See: https://urllib3.readthedocs.io/en/latest/advanced-usage.html#ssl-warnings\n",
      "  InsecureRequestWarning)\n",
      "/Users/nplattner/miniconda3/envs/AutoSearch/lib/python3.7/site-packages/urllib3/connectionpool.py:847: InsecureRequestWarning: Unverified HTTPS request is being made. Adding certificate verification is strongly advised. See: https://urllib3.readthedocs.io/en/latest/advanced-usage.html#ssl-warnings\n",
      "  InsecureRequestWarning)\n",
      "/Users/nplattner/miniconda3/envs/AutoSearch/lib/python3.7/site-packages/urllib3/connectionpool.py:847: InsecureRequestWarning: Unverified HTTPS request is being made. Adding certificate verification is strongly advised. See: https://urllib3.readthedocs.io/en/latest/advanced-usage.html#ssl-warnings\n",
      "  InsecureRequestWarning)\n",
      "/Users/nplattner/miniconda3/envs/AutoSearch/lib/python3.7/site-packages/urllib3/connectionpool.py:847: InsecureRequestWarning: Unverified HTTPS request is being made. Adding certificate verification is strongly advised. See: https://urllib3.readthedocs.io/en/latest/advanced-usage.html#ssl-warnings\n",
      "  InsecureRequestWarning)\n",
      "/Users/nplattner/miniconda3/envs/AutoSearch/lib/python3.7/site-packages/urllib3/connectionpool.py:847: InsecureRequestWarning: Unverified HTTPS request is being made. Adding certificate verification is strongly advised. See: https://urllib3.readthedocs.io/en/latest/advanced-usage.html#ssl-warnings\n",
      "  InsecureRequestWarning)\n",
      "/Users/nplattner/miniconda3/envs/AutoSearch/lib/python3.7/site-packages/urllib3/connectionpool.py:847: InsecureRequestWarning: Unverified HTTPS request is being made. Adding certificate verification is strongly advised. See: https://urllib3.readthedocs.io/en/latest/advanced-usage.html#ssl-warnings\n",
      "  InsecureRequestWarning)\n",
      "/Users/nplattner/miniconda3/envs/AutoSearch/lib/python3.7/site-packages/urllib3/connectionpool.py:847: InsecureRequestWarning: Unverified HTTPS request is being made. Adding certificate verification is strongly advised. See: https://urllib3.readthedocs.io/en/latest/advanced-usage.html#ssl-warnings\n",
      "  InsecureRequestWarning)\n",
      "/Users/nplattner/miniconda3/envs/AutoSearch/lib/python3.7/site-packages/urllib3/connectionpool.py:847: InsecureRequestWarning: Unverified HTTPS request is being made. Adding certificate verification is strongly advised. See: https://urllib3.readthedocs.io/en/latest/advanced-usage.html#ssl-warnings\n",
      "  InsecureRequestWarning)\n",
      "/Users/nplattner/miniconda3/envs/AutoSearch/lib/python3.7/site-packages/urllib3/connectionpool.py:847: InsecureRequestWarning: Unverified HTTPS request is being made. Adding certificate verification is strongly advised. See: https://urllib3.readthedocs.io/en/latest/advanced-usage.html#ssl-warnings\n",
      "  InsecureRequestWarning)\n",
      "/Users/nplattner/miniconda3/envs/AutoSearch/lib/python3.7/site-packages/urllib3/connectionpool.py:847: InsecureRequestWarning: Unverified HTTPS request is being made. Adding certificate verification is strongly advised. See: https://urllib3.readthedocs.io/en/latest/advanced-usage.html#ssl-warnings\n",
      "  InsecureRequestWarning)\n",
      "/Users/nplattner/miniconda3/envs/AutoSearch/lib/python3.7/site-packages/urllib3/connectionpool.py:847: InsecureRequestWarning: Unverified HTTPS request is being made. Adding certificate verification is strongly advised. See: https://urllib3.readthedocs.io/en/latest/advanced-usage.html#ssl-warnings\n",
      "  InsecureRequestWarning)\n",
      "/Users/nplattner/miniconda3/envs/AutoSearch/lib/python3.7/site-packages/urllib3/connectionpool.py:847: InsecureRequestWarning: Unverified HTTPS request is being made. Adding certificate verification is strongly advised. See: https://urllib3.readthedocs.io/en/latest/advanced-usage.html#ssl-warnings\n",
      "  InsecureRequestWarning)\n"
     ]
    },
    {
     "name": "stderr",
     "output_type": "stream",
     "text": [
      "/Users/nplattner/miniconda3/envs/AutoSearch/lib/python3.7/site-packages/urllib3/connectionpool.py:847: InsecureRequestWarning: Unverified HTTPS request is being made. Adding certificate verification is strongly advised. See: https://urllib3.readthedocs.io/en/latest/advanced-usage.html#ssl-warnings\n",
      "  InsecureRequestWarning)\n",
      "/Users/nplattner/miniconda3/envs/AutoSearch/lib/python3.7/site-packages/urllib3/connectionpool.py:847: InsecureRequestWarning: Unverified HTTPS request is being made. Adding certificate verification is strongly advised. See: https://urllib3.readthedocs.io/en/latest/advanced-usage.html#ssl-warnings\n",
      "  InsecureRequestWarning)\n",
      "/Users/nplattner/miniconda3/envs/AutoSearch/lib/python3.7/site-packages/urllib3/connectionpool.py:847: InsecureRequestWarning: Unverified HTTPS request is being made. Adding certificate verification is strongly advised. See: https://urllib3.readthedocs.io/en/latest/advanced-usage.html#ssl-warnings\n",
      "  InsecureRequestWarning)\n",
      "/Users/nplattner/miniconda3/envs/AutoSearch/lib/python3.7/site-packages/urllib3/connectionpool.py:847: InsecureRequestWarning: Unverified HTTPS request is being made. Adding certificate verification is strongly advised. See: https://urllib3.readthedocs.io/en/latest/advanced-usage.html#ssl-warnings\n",
      "  InsecureRequestWarning)\n",
      "/Users/nplattner/miniconda3/envs/AutoSearch/lib/python3.7/site-packages/urllib3/connectionpool.py:847: InsecureRequestWarning: Unverified HTTPS request is being made. Adding certificate verification is strongly advised. See: https://urllib3.readthedocs.io/en/latest/advanced-usage.html#ssl-warnings\n",
      "  InsecureRequestWarning)\n",
      "/Users/nplattner/miniconda3/envs/AutoSearch/lib/python3.7/site-packages/urllib3/connectionpool.py:847: InsecureRequestWarning: Unverified HTTPS request is being made. Adding certificate verification is strongly advised. See: https://urllib3.readthedocs.io/en/latest/advanced-usage.html#ssl-warnings\n",
      "  InsecureRequestWarning)\n",
      "/Users/nplattner/miniconda3/envs/AutoSearch/lib/python3.7/site-packages/urllib3/connectionpool.py:847: InsecureRequestWarning: Unverified HTTPS request is being made. Adding certificate verification is strongly advised. See: https://urllib3.readthedocs.io/en/latest/advanced-usage.html#ssl-warnings\n",
      "  InsecureRequestWarning)\n",
      "/Users/nplattner/miniconda3/envs/AutoSearch/lib/python3.7/site-packages/urllib3/connectionpool.py:847: InsecureRequestWarning: Unverified HTTPS request is being made. Adding certificate verification is strongly advised. See: https://urllib3.readthedocs.io/en/latest/advanced-usage.html#ssl-warnings\n",
      "  InsecureRequestWarning)\n",
      "/Users/nplattner/miniconda3/envs/AutoSearch/lib/python3.7/site-packages/urllib3/connectionpool.py:847: InsecureRequestWarning: Unverified HTTPS request is being made. Adding certificate verification is strongly advised. See: https://urllib3.readthedocs.io/en/latest/advanced-usage.html#ssl-warnings\n",
      "  InsecureRequestWarning)\n",
      "/Users/nplattner/miniconda3/envs/AutoSearch/lib/python3.7/site-packages/urllib3/connectionpool.py:847: InsecureRequestWarning: Unverified HTTPS request is being made. Adding certificate verification is strongly advised. See: https://urllib3.readthedocs.io/en/latest/advanced-usage.html#ssl-warnings\n",
      "  InsecureRequestWarning)\n",
      "/Users/nplattner/miniconda3/envs/AutoSearch/lib/python3.7/site-packages/urllib3/connectionpool.py:847: InsecureRequestWarning: Unverified HTTPS request is being made. Adding certificate verification is strongly advised. See: https://urllib3.readthedocs.io/en/latest/advanced-usage.html#ssl-warnings\n",
      "  InsecureRequestWarning)\n",
      "/Users/nplattner/miniconda3/envs/AutoSearch/lib/python3.7/site-packages/urllib3/connectionpool.py:847: InsecureRequestWarning: Unverified HTTPS request is being made. Adding certificate verification is strongly advised. See: https://urllib3.readthedocs.io/en/latest/advanced-usage.html#ssl-warnings\n",
      "  InsecureRequestWarning)\n",
      "/Users/nplattner/miniconda3/envs/AutoSearch/lib/python3.7/site-packages/urllib3/connectionpool.py:847: InsecureRequestWarning: Unverified HTTPS request is being made. Adding certificate verification is strongly advised. See: https://urllib3.readthedocs.io/en/latest/advanced-usage.html#ssl-warnings\n",
      "  InsecureRequestWarning)\n",
      "/Users/nplattner/miniconda3/envs/AutoSearch/lib/python3.7/site-packages/urllib3/connectionpool.py:847: InsecureRequestWarning: Unverified HTTPS request is being made. Adding certificate verification is strongly advised. See: https://urllib3.readthedocs.io/en/latest/advanced-usage.html#ssl-warnings\n",
      "  InsecureRequestWarning)\n",
      "/Users/nplattner/miniconda3/envs/AutoSearch/lib/python3.7/site-packages/urllib3/connectionpool.py:847: InsecureRequestWarning: Unverified HTTPS request is being made. Adding certificate verification is strongly advised. See: https://urllib3.readthedocs.io/en/latest/advanced-usage.html#ssl-warnings\n",
      "  InsecureRequestWarning)\n",
      "/Users/nplattner/miniconda3/envs/AutoSearch/lib/python3.7/site-packages/urllib3/connectionpool.py:847: InsecureRequestWarning: Unverified HTTPS request is being made. Adding certificate verification is strongly advised. See: https://urllib3.readthedocs.io/en/latest/advanced-usage.html#ssl-warnings\n",
      "  InsecureRequestWarning)\n",
      "/Users/nplattner/miniconda3/envs/AutoSearch/lib/python3.7/site-packages/urllib3/connectionpool.py:847: InsecureRequestWarning: Unverified HTTPS request is being made. Adding certificate verification is strongly advised. See: https://urllib3.readthedocs.io/en/latest/advanced-usage.html#ssl-warnings\n",
      "  InsecureRequestWarning)\n",
      "/Users/nplattner/miniconda3/envs/AutoSearch/lib/python3.7/site-packages/urllib3/connectionpool.py:847: InsecureRequestWarning: Unverified HTTPS request is being made. Adding certificate verification is strongly advised. See: https://urllib3.readthedocs.io/en/latest/advanced-usage.html#ssl-warnings\n",
      "  InsecureRequestWarning)\n",
      "/Users/nplattner/miniconda3/envs/AutoSearch/lib/python3.7/site-packages/urllib3/connectionpool.py:847: InsecureRequestWarning: Unverified HTTPS request is being made. Adding certificate verification is strongly advised. See: https://urllib3.readthedocs.io/en/latest/advanced-usage.html#ssl-warnings\n",
      "  InsecureRequestWarning)\n",
      "/Users/nplattner/miniconda3/envs/AutoSearch/lib/python3.7/site-packages/urllib3/connectionpool.py:847: InsecureRequestWarning: Unverified HTTPS request is being made. Adding certificate verification is strongly advised. See: https://urllib3.readthedocs.io/en/latest/advanced-usage.html#ssl-warnings\n",
      "  InsecureRequestWarning)\n",
      "/Users/nplattner/miniconda3/envs/AutoSearch/lib/python3.7/site-packages/urllib3/connectionpool.py:847: InsecureRequestWarning: Unverified HTTPS request is being made. Adding certificate verification is strongly advised. See: https://urllib3.readthedocs.io/en/latest/advanced-usage.html#ssl-warnings\n",
      "  InsecureRequestWarning)\n",
      "/Users/nplattner/miniconda3/envs/AutoSearch/lib/python3.7/site-packages/urllib3/connectionpool.py:847: InsecureRequestWarning: Unverified HTTPS request is being made. Adding certificate verification is strongly advised. See: https://urllib3.readthedocs.io/en/latest/advanced-usage.html#ssl-warnings\n",
      "  InsecureRequestWarning)\n",
      "/Users/nplattner/miniconda3/envs/AutoSearch/lib/python3.7/site-packages/urllib3/connectionpool.py:847: InsecureRequestWarning: Unverified HTTPS request is being made. Adding certificate verification is strongly advised. See: https://urllib3.readthedocs.io/en/latest/advanced-usage.html#ssl-warnings\n",
      "  InsecureRequestWarning)\n",
      "/Users/nplattner/miniconda3/envs/AutoSearch/lib/python3.7/site-packages/urllib3/connectionpool.py:847: InsecureRequestWarning: Unverified HTTPS request is being made. Adding certificate verification is strongly advised. See: https://urllib3.readthedocs.io/en/latest/advanced-usage.html#ssl-warnings\n",
      "  InsecureRequestWarning)\n",
      "/Users/nplattner/miniconda3/envs/AutoSearch/lib/python3.7/site-packages/urllib3/connectionpool.py:847: InsecureRequestWarning: Unverified HTTPS request is being made. Adding certificate verification is strongly advised. See: https://urllib3.readthedocs.io/en/latest/advanced-usage.html#ssl-warnings\n",
      "  InsecureRequestWarning)\n",
      "/Users/nplattner/miniconda3/envs/AutoSearch/lib/python3.7/site-packages/urllib3/connectionpool.py:847: InsecureRequestWarning: Unverified HTTPS request is being made. Adding certificate verification is strongly advised. See: https://urllib3.readthedocs.io/en/latest/advanced-usage.html#ssl-warnings\n",
      "  InsecureRequestWarning)\n"
     ]
    },
    {
     "name": "stderr",
     "output_type": "stream",
     "text": [
      "/Users/nplattner/miniconda3/envs/AutoSearch/lib/python3.7/site-packages/urllib3/connectionpool.py:847: InsecureRequestWarning: Unverified HTTPS request is being made. Adding certificate verification is strongly advised. See: https://urllib3.readthedocs.io/en/latest/advanced-usage.html#ssl-warnings\n",
      "  InsecureRequestWarning)\n",
      "/Users/nplattner/miniconda3/envs/AutoSearch/lib/python3.7/site-packages/urllib3/connectionpool.py:847: InsecureRequestWarning: Unverified HTTPS request is being made. Adding certificate verification is strongly advised. See: https://urllib3.readthedocs.io/en/latest/advanced-usage.html#ssl-warnings\n",
      "  InsecureRequestWarning)\n",
      "/Users/nplattner/miniconda3/envs/AutoSearch/lib/python3.7/site-packages/urllib3/connectionpool.py:847: InsecureRequestWarning: Unverified HTTPS request is being made. Adding certificate verification is strongly advised. See: https://urllib3.readthedocs.io/en/latest/advanced-usage.html#ssl-warnings\n",
      "  InsecureRequestWarning)\n",
      "/Users/nplattner/miniconda3/envs/AutoSearch/lib/python3.7/site-packages/urllib3/connectionpool.py:847: InsecureRequestWarning: Unverified HTTPS request is being made. Adding certificate verification is strongly advised. See: https://urllib3.readthedocs.io/en/latest/advanced-usage.html#ssl-warnings\n",
      "  InsecureRequestWarning)\n",
      "/Users/nplattner/miniconda3/envs/AutoSearch/lib/python3.7/site-packages/urllib3/connectionpool.py:847: InsecureRequestWarning: Unverified HTTPS request is being made. Adding certificate verification is strongly advised. See: https://urllib3.readthedocs.io/en/latest/advanced-usage.html#ssl-warnings\n",
      "  InsecureRequestWarning)\n",
      "/Users/nplattner/miniconda3/envs/AutoSearch/lib/python3.7/site-packages/urllib3/connectionpool.py:847: InsecureRequestWarning: Unverified HTTPS request is being made. Adding certificate verification is strongly advised. See: https://urllib3.readthedocs.io/en/latest/advanced-usage.html#ssl-warnings\n",
      "  InsecureRequestWarning)\n",
      "/Users/nplattner/miniconda3/envs/AutoSearch/lib/python3.7/site-packages/urllib3/connectionpool.py:847: InsecureRequestWarning: Unverified HTTPS request is being made. Adding certificate verification is strongly advised. See: https://urllib3.readthedocs.io/en/latest/advanced-usage.html#ssl-warnings\n",
      "  InsecureRequestWarning)\n",
      "/Users/nplattner/miniconda3/envs/AutoSearch/lib/python3.7/site-packages/urllib3/connectionpool.py:847: InsecureRequestWarning: Unverified HTTPS request is being made. Adding certificate verification is strongly advised. See: https://urllib3.readthedocs.io/en/latest/advanced-usage.html#ssl-warnings\n",
      "  InsecureRequestWarning)\n",
      "/Users/nplattner/miniconda3/envs/AutoSearch/lib/python3.7/site-packages/urllib3/connectionpool.py:847: InsecureRequestWarning: Unverified HTTPS request is being made. Adding certificate verification is strongly advised. See: https://urllib3.readthedocs.io/en/latest/advanced-usage.html#ssl-warnings\n",
      "  InsecureRequestWarning)\n",
      "/Users/nplattner/miniconda3/envs/AutoSearch/lib/python3.7/site-packages/urllib3/connectionpool.py:847: InsecureRequestWarning: Unverified HTTPS request is being made. Adding certificate verification is strongly advised. See: https://urllib3.readthedocs.io/en/latest/advanced-usage.html#ssl-warnings\n",
      "  InsecureRequestWarning)\n",
      "/Users/nplattner/miniconda3/envs/AutoSearch/lib/python3.7/site-packages/urllib3/connectionpool.py:847: InsecureRequestWarning: Unverified HTTPS request is being made. Adding certificate verification is strongly advised. See: https://urllib3.readthedocs.io/en/latest/advanced-usage.html#ssl-warnings\n",
      "  InsecureRequestWarning)\n",
      "/Users/nplattner/miniconda3/envs/AutoSearch/lib/python3.7/site-packages/urllib3/connectionpool.py:847: InsecureRequestWarning: Unverified HTTPS request is being made. Adding certificate verification is strongly advised. See: https://urllib3.readthedocs.io/en/latest/advanced-usage.html#ssl-warnings\n",
      "  InsecureRequestWarning)\n",
      "/Users/nplattner/miniconda3/envs/AutoSearch/lib/python3.7/site-packages/urllib3/connectionpool.py:847: InsecureRequestWarning: Unverified HTTPS request is being made. Adding certificate verification is strongly advised. See: https://urllib3.readthedocs.io/en/latest/advanced-usage.html#ssl-warnings\n",
      "  InsecureRequestWarning)\n",
      "/Users/nplattner/miniconda3/envs/AutoSearch/lib/python3.7/site-packages/urllib3/connectionpool.py:847: InsecureRequestWarning: Unverified HTTPS request is being made. Adding certificate verification is strongly advised. See: https://urllib3.readthedocs.io/en/latest/advanced-usage.html#ssl-warnings\n",
      "  InsecureRequestWarning)\n",
      "/Users/nplattner/miniconda3/envs/AutoSearch/lib/python3.7/site-packages/urllib3/connectionpool.py:847: InsecureRequestWarning: Unverified HTTPS request is being made. Adding certificate verification is strongly advised. See: https://urllib3.readthedocs.io/en/latest/advanced-usage.html#ssl-warnings\n",
      "  InsecureRequestWarning)\n",
      "/Users/nplattner/miniconda3/envs/AutoSearch/lib/python3.7/site-packages/urllib3/connectionpool.py:847: InsecureRequestWarning: Unverified HTTPS request is being made. Adding certificate verification is strongly advised. See: https://urllib3.readthedocs.io/en/latest/advanced-usage.html#ssl-warnings\n",
      "  InsecureRequestWarning)\n",
      "/Users/nplattner/miniconda3/envs/AutoSearch/lib/python3.7/site-packages/urllib3/connectionpool.py:847: InsecureRequestWarning: Unverified HTTPS request is being made. Adding certificate verification is strongly advised. See: https://urllib3.readthedocs.io/en/latest/advanced-usage.html#ssl-warnings\n",
      "  InsecureRequestWarning)\n",
      "/Users/nplattner/miniconda3/envs/AutoSearch/lib/python3.7/site-packages/urllib3/connectionpool.py:847: InsecureRequestWarning: Unverified HTTPS request is being made. Adding certificate verification is strongly advised. See: https://urllib3.readthedocs.io/en/latest/advanced-usage.html#ssl-warnings\n",
      "  InsecureRequestWarning)\n",
      "/Users/nplattner/miniconda3/envs/AutoSearch/lib/python3.7/site-packages/urllib3/connectionpool.py:847: InsecureRequestWarning: Unverified HTTPS request is being made. Adding certificate verification is strongly advised. See: https://urllib3.readthedocs.io/en/latest/advanced-usage.html#ssl-warnings\n",
      "  InsecureRequestWarning)\n",
      "/Users/nplattner/miniconda3/envs/AutoSearch/lib/python3.7/site-packages/urllib3/connectionpool.py:847: InsecureRequestWarning: Unverified HTTPS request is being made. Adding certificate verification is strongly advised. See: https://urllib3.readthedocs.io/en/latest/advanced-usage.html#ssl-warnings\n",
      "  InsecureRequestWarning)\n",
      "/Users/nplattner/miniconda3/envs/AutoSearch/lib/python3.7/site-packages/urllib3/connectionpool.py:847: InsecureRequestWarning: Unverified HTTPS request is being made. Adding certificate verification is strongly advised. See: https://urllib3.readthedocs.io/en/latest/advanced-usage.html#ssl-warnings\n",
      "  InsecureRequestWarning)\n",
      "/Users/nplattner/miniconda3/envs/AutoSearch/lib/python3.7/site-packages/urllib3/connectionpool.py:847: InsecureRequestWarning: Unverified HTTPS request is being made. Adding certificate verification is strongly advised. See: https://urllib3.readthedocs.io/en/latest/advanced-usage.html#ssl-warnings\n",
      "  InsecureRequestWarning)\n",
      "/Users/nplattner/miniconda3/envs/AutoSearch/lib/python3.7/site-packages/urllib3/connectionpool.py:847: InsecureRequestWarning: Unverified HTTPS request is being made. Adding certificate verification is strongly advised. See: https://urllib3.readthedocs.io/en/latest/advanced-usage.html#ssl-warnings\n",
      "  InsecureRequestWarning)\n",
      "/Users/nplattner/miniconda3/envs/AutoSearch/lib/python3.7/site-packages/urllib3/connectionpool.py:847: InsecureRequestWarning: Unverified HTTPS request is being made. Adding certificate verification is strongly advised. See: https://urllib3.readthedocs.io/en/latest/advanced-usage.html#ssl-warnings\n",
      "  InsecureRequestWarning)\n",
      "/Users/nplattner/miniconda3/envs/AutoSearch/lib/python3.7/site-packages/urllib3/connectionpool.py:847: InsecureRequestWarning: Unverified HTTPS request is being made. Adding certificate verification is strongly advised. See: https://urllib3.readthedocs.io/en/latest/advanced-usage.html#ssl-warnings\n",
      "  InsecureRequestWarning)\n",
      "/Users/nplattner/miniconda3/envs/AutoSearch/lib/python3.7/site-packages/urllib3/connectionpool.py:847: InsecureRequestWarning: Unverified HTTPS request is being made. Adding certificate verification is strongly advised. See: https://urllib3.readthedocs.io/en/latest/advanced-usage.html#ssl-warnings\n",
      "  InsecureRequestWarning)\n"
     ]
    },
    {
     "name": "stderr",
     "output_type": "stream",
     "text": [
      "/Users/nplattner/miniconda3/envs/AutoSearch/lib/python3.7/site-packages/urllib3/connectionpool.py:847: InsecureRequestWarning: Unverified HTTPS request is being made. Adding certificate verification is strongly advised. See: https://urllib3.readthedocs.io/en/latest/advanced-usage.html#ssl-warnings\n",
      "  InsecureRequestWarning)\n",
      "/Users/nplattner/miniconda3/envs/AutoSearch/lib/python3.7/site-packages/urllib3/connectionpool.py:847: InsecureRequestWarning: Unverified HTTPS request is being made. Adding certificate verification is strongly advised. See: https://urllib3.readthedocs.io/en/latest/advanced-usage.html#ssl-warnings\n",
      "  InsecureRequestWarning)\n",
      "/Users/nplattner/miniconda3/envs/AutoSearch/lib/python3.7/site-packages/urllib3/connectionpool.py:847: InsecureRequestWarning: Unverified HTTPS request is being made. Adding certificate verification is strongly advised. See: https://urllib3.readthedocs.io/en/latest/advanced-usage.html#ssl-warnings\n",
      "  InsecureRequestWarning)\n",
      "/Users/nplattner/miniconda3/envs/AutoSearch/lib/python3.7/site-packages/urllib3/connectionpool.py:847: InsecureRequestWarning: Unverified HTTPS request is being made. Adding certificate verification is strongly advised. See: https://urllib3.readthedocs.io/en/latest/advanced-usage.html#ssl-warnings\n",
      "  InsecureRequestWarning)\n",
      "/Users/nplattner/miniconda3/envs/AutoSearch/lib/python3.7/site-packages/urllib3/connectionpool.py:847: InsecureRequestWarning: Unverified HTTPS request is being made. Adding certificate verification is strongly advised. See: https://urllib3.readthedocs.io/en/latest/advanced-usage.html#ssl-warnings\n",
      "  InsecureRequestWarning)\n",
      "/Users/nplattner/miniconda3/envs/AutoSearch/lib/python3.7/site-packages/urllib3/connectionpool.py:847: InsecureRequestWarning: Unverified HTTPS request is being made. Adding certificate verification is strongly advised. See: https://urllib3.readthedocs.io/en/latest/advanced-usage.html#ssl-warnings\n",
      "  InsecureRequestWarning)\n",
      "/Users/nplattner/miniconda3/envs/AutoSearch/lib/python3.7/site-packages/urllib3/connectionpool.py:847: InsecureRequestWarning: Unverified HTTPS request is being made. Adding certificate verification is strongly advised. See: https://urllib3.readthedocs.io/en/latest/advanced-usage.html#ssl-warnings\n",
      "  InsecureRequestWarning)\n",
      "/Users/nplattner/miniconda3/envs/AutoSearch/lib/python3.7/site-packages/urllib3/connectionpool.py:847: InsecureRequestWarning: Unverified HTTPS request is being made. Adding certificate verification is strongly advised. See: https://urllib3.readthedocs.io/en/latest/advanced-usage.html#ssl-warnings\n",
      "  InsecureRequestWarning)\n",
      "/Users/nplattner/miniconda3/envs/AutoSearch/lib/python3.7/site-packages/urllib3/connectionpool.py:847: InsecureRequestWarning: Unverified HTTPS request is being made. Adding certificate verification is strongly advised. See: https://urllib3.readthedocs.io/en/latest/advanced-usage.html#ssl-warnings\n",
      "  InsecureRequestWarning)\n",
      "/Users/nplattner/miniconda3/envs/AutoSearch/lib/python3.7/site-packages/urllib3/connectionpool.py:847: InsecureRequestWarning: Unverified HTTPS request is being made. Adding certificate verification is strongly advised. See: https://urllib3.readthedocs.io/en/latest/advanced-usage.html#ssl-warnings\n",
      "  InsecureRequestWarning)\n",
      "/Users/nplattner/miniconda3/envs/AutoSearch/lib/python3.7/site-packages/urllib3/connectionpool.py:847: InsecureRequestWarning: Unverified HTTPS request is being made. Adding certificate verification is strongly advised. See: https://urllib3.readthedocs.io/en/latest/advanced-usage.html#ssl-warnings\n",
      "  InsecureRequestWarning)\n",
      "/Users/nplattner/miniconda3/envs/AutoSearch/lib/python3.7/site-packages/urllib3/connectionpool.py:847: InsecureRequestWarning: Unverified HTTPS request is being made. Adding certificate verification is strongly advised. See: https://urllib3.readthedocs.io/en/latest/advanced-usage.html#ssl-warnings\n",
      "  InsecureRequestWarning)\n",
      "/Users/nplattner/miniconda3/envs/AutoSearch/lib/python3.7/site-packages/urllib3/connectionpool.py:847: InsecureRequestWarning: Unverified HTTPS request is being made. Adding certificate verification is strongly advised. See: https://urllib3.readthedocs.io/en/latest/advanced-usage.html#ssl-warnings\n",
      "  InsecureRequestWarning)\n",
      "/Users/nplattner/miniconda3/envs/AutoSearch/lib/python3.7/site-packages/urllib3/connectionpool.py:847: InsecureRequestWarning: Unverified HTTPS request is being made. Adding certificate verification is strongly advised. See: https://urllib3.readthedocs.io/en/latest/advanced-usage.html#ssl-warnings\n",
      "  InsecureRequestWarning)\n",
      "/Users/nplattner/miniconda3/envs/AutoSearch/lib/python3.7/site-packages/urllib3/connectionpool.py:847: InsecureRequestWarning: Unverified HTTPS request is being made. Adding certificate verification is strongly advised. See: https://urllib3.readthedocs.io/en/latest/advanced-usage.html#ssl-warnings\n",
      "  InsecureRequestWarning)\n",
      "/Users/nplattner/miniconda3/envs/AutoSearch/lib/python3.7/site-packages/urllib3/connectionpool.py:847: InsecureRequestWarning: Unverified HTTPS request is being made. Adding certificate verification is strongly advised. See: https://urllib3.readthedocs.io/en/latest/advanced-usage.html#ssl-warnings\n",
      "  InsecureRequestWarning)\n",
      "/Users/nplattner/miniconda3/envs/AutoSearch/lib/python3.7/site-packages/urllib3/connectionpool.py:847: InsecureRequestWarning: Unverified HTTPS request is being made. Adding certificate verification is strongly advised. See: https://urllib3.readthedocs.io/en/latest/advanced-usage.html#ssl-warnings\n",
      "  InsecureRequestWarning)\n",
      "/Users/nplattner/miniconda3/envs/AutoSearch/lib/python3.7/site-packages/urllib3/connectionpool.py:847: InsecureRequestWarning: Unverified HTTPS request is being made. Adding certificate verification is strongly advised. See: https://urllib3.readthedocs.io/en/latest/advanced-usage.html#ssl-warnings\n",
      "  InsecureRequestWarning)\n",
      "/Users/nplattner/miniconda3/envs/AutoSearch/lib/python3.7/site-packages/urllib3/connectionpool.py:847: InsecureRequestWarning: Unverified HTTPS request is being made. Adding certificate verification is strongly advised. See: https://urllib3.readthedocs.io/en/latest/advanced-usage.html#ssl-warnings\n",
      "  InsecureRequestWarning)\n",
      "/Users/nplattner/miniconda3/envs/AutoSearch/lib/python3.7/site-packages/urllib3/connectionpool.py:847: InsecureRequestWarning: Unverified HTTPS request is being made. Adding certificate verification is strongly advised. See: https://urllib3.readthedocs.io/en/latest/advanced-usage.html#ssl-warnings\n",
      "  InsecureRequestWarning)\n",
      "/Users/nplattner/miniconda3/envs/AutoSearch/lib/python3.7/site-packages/urllib3/connectionpool.py:847: InsecureRequestWarning: Unverified HTTPS request is being made. Adding certificate verification is strongly advised. See: https://urllib3.readthedocs.io/en/latest/advanced-usage.html#ssl-warnings\n",
      "  InsecureRequestWarning)\n",
      "/Users/nplattner/miniconda3/envs/AutoSearch/lib/python3.7/site-packages/urllib3/connectionpool.py:847: InsecureRequestWarning: Unverified HTTPS request is being made. Adding certificate verification is strongly advised. See: https://urllib3.readthedocs.io/en/latest/advanced-usage.html#ssl-warnings\n",
      "  InsecureRequestWarning)\n",
      "/Users/nplattner/miniconda3/envs/AutoSearch/lib/python3.7/site-packages/urllib3/connectionpool.py:847: InsecureRequestWarning: Unverified HTTPS request is being made. Adding certificate verification is strongly advised. See: https://urllib3.readthedocs.io/en/latest/advanced-usage.html#ssl-warnings\n",
      "  InsecureRequestWarning)\n",
      "/Users/nplattner/miniconda3/envs/AutoSearch/lib/python3.7/site-packages/urllib3/connectionpool.py:847: InsecureRequestWarning: Unverified HTTPS request is being made. Adding certificate verification is strongly advised. See: https://urllib3.readthedocs.io/en/latest/advanced-usage.html#ssl-warnings\n",
      "  InsecureRequestWarning)\n",
      "/Users/nplattner/miniconda3/envs/AutoSearch/lib/python3.7/site-packages/urllib3/connectionpool.py:847: InsecureRequestWarning: Unverified HTTPS request is being made. Adding certificate verification is strongly advised. See: https://urllib3.readthedocs.io/en/latest/advanced-usage.html#ssl-warnings\n",
      "  InsecureRequestWarning)\n",
      "/Users/nplattner/miniconda3/envs/AutoSearch/lib/python3.7/site-packages/urllib3/connectionpool.py:847: InsecureRequestWarning: Unverified HTTPS request is being made. Adding certificate verification is strongly advised. See: https://urllib3.readthedocs.io/en/latest/advanced-usage.html#ssl-warnings\n",
      "  InsecureRequestWarning)\n"
     ]
    },
    {
     "name": "stderr",
     "output_type": "stream",
     "text": [
      "/Users/nplattner/miniconda3/envs/AutoSearch/lib/python3.7/site-packages/urllib3/connectionpool.py:847: InsecureRequestWarning: Unverified HTTPS request is being made. Adding certificate verification is strongly advised. See: https://urllib3.readthedocs.io/en/latest/advanced-usage.html#ssl-warnings\n",
      "  InsecureRequestWarning)\n",
      "/Users/nplattner/miniconda3/envs/AutoSearch/lib/python3.7/site-packages/urllib3/connectionpool.py:847: InsecureRequestWarning: Unverified HTTPS request is being made. Adding certificate verification is strongly advised. See: https://urllib3.readthedocs.io/en/latest/advanced-usage.html#ssl-warnings\n",
      "  InsecureRequestWarning)\n",
      "/Users/nplattner/miniconda3/envs/AutoSearch/lib/python3.7/site-packages/urllib3/connectionpool.py:847: InsecureRequestWarning: Unverified HTTPS request is being made. Adding certificate verification is strongly advised. See: https://urllib3.readthedocs.io/en/latest/advanced-usage.html#ssl-warnings\n",
      "  InsecureRequestWarning)\n",
      "/Users/nplattner/miniconda3/envs/AutoSearch/lib/python3.7/site-packages/urllib3/connectionpool.py:847: InsecureRequestWarning: Unverified HTTPS request is being made. Adding certificate verification is strongly advised. See: https://urllib3.readthedocs.io/en/latest/advanced-usage.html#ssl-warnings\n",
      "  InsecureRequestWarning)\n",
      "/Users/nplattner/miniconda3/envs/AutoSearch/lib/python3.7/site-packages/urllib3/connectionpool.py:847: InsecureRequestWarning: Unverified HTTPS request is being made. Adding certificate verification is strongly advised. See: https://urllib3.readthedocs.io/en/latest/advanced-usage.html#ssl-warnings\n",
      "  InsecureRequestWarning)\n",
      "/Users/nplattner/miniconda3/envs/AutoSearch/lib/python3.7/site-packages/urllib3/connectionpool.py:847: InsecureRequestWarning: Unverified HTTPS request is being made. Adding certificate verification is strongly advised. See: https://urllib3.readthedocs.io/en/latest/advanced-usage.html#ssl-warnings\n",
      "  InsecureRequestWarning)\n",
      "/Users/nplattner/miniconda3/envs/AutoSearch/lib/python3.7/site-packages/urllib3/connectionpool.py:847: InsecureRequestWarning: Unverified HTTPS request is being made. Adding certificate verification is strongly advised. See: https://urllib3.readthedocs.io/en/latest/advanced-usage.html#ssl-warnings\n",
      "  InsecureRequestWarning)\n",
      "/Users/nplattner/miniconda3/envs/AutoSearch/lib/python3.7/site-packages/urllib3/connectionpool.py:847: InsecureRequestWarning: Unverified HTTPS request is being made. Adding certificate verification is strongly advised. See: https://urllib3.readthedocs.io/en/latest/advanced-usage.html#ssl-warnings\n",
      "  InsecureRequestWarning)\n",
      "/Users/nplattner/miniconda3/envs/AutoSearch/lib/python3.7/site-packages/urllib3/connectionpool.py:847: InsecureRequestWarning: Unverified HTTPS request is being made. Adding certificate verification is strongly advised. See: https://urllib3.readthedocs.io/en/latest/advanced-usage.html#ssl-warnings\n",
      "  InsecureRequestWarning)\n",
      "/Users/nplattner/miniconda3/envs/AutoSearch/lib/python3.7/site-packages/urllib3/connectionpool.py:847: InsecureRequestWarning: Unverified HTTPS request is being made. Adding certificate verification is strongly advised. See: https://urllib3.readthedocs.io/en/latest/advanced-usage.html#ssl-warnings\n",
      "  InsecureRequestWarning)\n",
      "/Users/nplattner/miniconda3/envs/AutoSearch/lib/python3.7/site-packages/urllib3/connectionpool.py:847: InsecureRequestWarning: Unverified HTTPS request is being made. Adding certificate verification is strongly advised. See: https://urllib3.readthedocs.io/en/latest/advanced-usage.html#ssl-warnings\n",
      "  InsecureRequestWarning)\n",
      "/Users/nplattner/miniconda3/envs/AutoSearch/lib/python3.7/site-packages/urllib3/connectionpool.py:847: InsecureRequestWarning: Unverified HTTPS request is being made. Adding certificate verification is strongly advised. See: https://urllib3.readthedocs.io/en/latest/advanced-usage.html#ssl-warnings\n",
      "  InsecureRequestWarning)\n",
      "/Users/nplattner/miniconda3/envs/AutoSearch/lib/python3.7/site-packages/urllib3/connectionpool.py:847: InsecureRequestWarning: Unverified HTTPS request is being made. Adding certificate verification is strongly advised. See: https://urllib3.readthedocs.io/en/latest/advanced-usage.html#ssl-warnings\n",
      "  InsecureRequestWarning)\n",
      "/Users/nplattner/miniconda3/envs/AutoSearch/lib/python3.7/site-packages/urllib3/connectionpool.py:847: InsecureRequestWarning: Unverified HTTPS request is being made. Adding certificate verification is strongly advised. See: https://urllib3.readthedocs.io/en/latest/advanced-usage.html#ssl-warnings\n",
      "  InsecureRequestWarning)\n",
      "/Users/nplattner/miniconda3/envs/AutoSearch/lib/python3.7/site-packages/urllib3/connectionpool.py:847: InsecureRequestWarning: Unverified HTTPS request is being made. Adding certificate verification is strongly advised. See: https://urllib3.readthedocs.io/en/latest/advanced-usage.html#ssl-warnings\n",
      "  InsecureRequestWarning)\n",
      "/Users/nplattner/miniconda3/envs/AutoSearch/lib/python3.7/site-packages/urllib3/connectionpool.py:847: InsecureRequestWarning: Unverified HTTPS request is being made. Adding certificate verification is strongly advised. See: https://urllib3.readthedocs.io/en/latest/advanced-usage.html#ssl-warnings\n",
      "  InsecureRequestWarning)\n",
      "/Users/nplattner/miniconda3/envs/AutoSearch/lib/python3.7/site-packages/urllib3/connectionpool.py:847: InsecureRequestWarning: Unverified HTTPS request is being made. Adding certificate verification is strongly advised. See: https://urllib3.readthedocs.io/en/latest/advanced-usage.html#ssl-warnings\n",
      "  InsecureRequestWarning)\n",
      "/Users/nplattner/miniconda3/envs/AutoSearch/lib/python3.7/site-packages/urllib3/connectionpool.py:847: InsecureRequestWarning: Unverified HTTPS request is being made. Adding certificate verification is strongly advised. See: https://urllib3.readthedocs.io/en/latest/advanced-usage.html#ssl-warnings\n",
      "  InsecureRequestWarning)\n",
      "/Users/nplattner/miniconda3/envs/AutoSearch/lib/python3.7/site-packages/urllib3/connectionpool.py:847: InsecureRequestWarning: Unverified HTTPS request is being made. Adding certificate verification is strongly advised. See: https://urllib3.readthedocs.io/en/latest/advanced-usage.html#ssl-warnings\n",
      "  InsecureRequestWarning)\n",
      "/Users/nplattner/miniconda3/envs/AutoSearch/lib/python3.7/site-packages/urllib3/connectionpool.py:847: InsecureRequestWarning: Unverified HTTPS request is being made. Adding certificate verification is strongly advised. See: https://urllib3.readthedocs.io/en/latest/advanced-usage.html#ssl-warnings\n",
      "  InsecureRequestWarning)\n",
      "/Users/nplattner/miniconda3/envs/AutoSearch/lib/python3.7/site-packages/urllib3/connectionpool.py:847: InsecureRequestWarning: Unverified HTTPS request is being made. Adding certificate verification is strongly advised. See: https://urllib3.readthedocs.io/en/latest/advanced-usage.html#ssl-warnings\n",
      "  InsecureRequestWarning)\n",
      "/Users/nplattner/miniconda3/envs/AutoSearch/lib/python3.7/site-packages/urllib3/connectionpool.py:847: InsecureRequestWarning: Unverified HTTPS request is being made. Adding certificate verification is strongly advised. See: https://urllib3.readthedocs.io/en/latest/advanced-usage.html#ssl-warnings\n",
      "  InsecureRequestWarning)\n",
      "/Users/nplattner/miniconda3/envs/AutoSearch/lib/python3.7/site-packages/urllib3/connectionpool.py:847: InsecureRequestWarning: Unverified HTTPS request is being made. Adding certificate verification is strongly advised. See: https://urllib3.readthedocs.io/en/latest/advanced-usage.html#ssl-warnings\n",
      "  InsecureRequestWarning)\n",
      "/Users/nplattner/miniconda3/envs/AutoSearch/lib/python3.7/site-packages/urllib3/connectionpool.py:847: InsecureRequestWarning: Unverified HTTPS request is being made. Adding certificate verification is strongly advised. See: https://urllib3.readthedocs.io/en/latest/advanced-usage.html#ssl-warnings\n",
      "  InsecureRequestWarning)\n",
      "/Users/nplattner/miniconda3/envs/AutoSearch/lib/python3.7/site-packages/urllib3/connectionpool.py:847: InsecureRequestWarning: Unverified HTTPS request is being made. Adding certificate verification is strongly advised. See: https://urllib3.readthedocs.io/en/latest/advanced-usage.html#ssl-warnings\n",
      "  InsecureRequestWarning)\n",
      "/Users/nplattner/miniconda3/envs/AutoSearch/lib/python3.7/site-packages/urllib3/connectionpool.py:847: InsecureRequestWarning: Unverified HTTPS request is being made. Adding certificate verification is strongly advised. See: https://urllib3.readthedocs.io/en/latest/advanced-usage.html#ssl-warnings\n",
      "  InsecureRequestWarning)\n"
     ]
    },
    {
     "name": "stderr",
     "output_type": "stream",
     "text": [
      "/Users/nplattner/miniconda3/envs/AutoSearch/lib/python3.7/site-packages/urllib3/connectionpool.py:847: InsecureRequestWarning: Unverified HTTPS request is being made. Adding certificate verification is strongly advised. See: https://urllib3.readthedocs.io/en/latest/advanced-usage.html#ssl-warnings\n",
      "  InsecureRequestWarning)\n",
      "/Users/nplattner/miniconda3/envs/AutoSearch/lib/python3.7/site-packages/urllib3/connectionpool.py:847: InsecureRequestWarning: Unverified HTTPS request is being made. Adding certificate verification is strongly advised. See: https://urllib3.readthedocs.io/en/latest/advanced-usage.html#ssl-warnings\n",
      "  InsecureRequestWarning)\n",
      "/Users/nplattner/miniconda3/envs/AutoSearch/lib/python3.7/site-packages/urllib3/connectionpool.py:847: InsecureRequestWarning: Unverified HTTPS request is being made. Adding certificate verification is strongly advised. See: https://urllib3.readthedocs.io/en/latest/advanced-usage.html#ssl-warnings\n",
      "  InsecureRequestWarning)\n",
      "/Users/nplattner/miniconda3/envs/AutoSearch/lib/python3.7/site-packages/urllib3/connectionpool.py:847: InsecureRequestWarning: Unverified HTTPS request is being made. Adding certificate verification is strongly advised. See: https://urllib3.readthedocs.io/en/latest/advanced-usage.html#ssl-warnings\n",
      "  InsecureRequestWarning)\n",
      "/Users/nplattner/miniconda3/envs/AutoSearch/lib/python3.7/site-packages/urllib3/connectionpool.py:847: InsecureRequestWarning: Unverified HTTPS request is being made. Adding certificate verification is strongly advised. See: https://urllib3.readthedocs.io/en/latest/advanced-usage.html#ssl-warnings\n",
      "  InsecureRequestWarning)\n",
      "/Users/nplattner/miniconda3/envs/AutoSearch/lib/python3.7/site-packages/urllib3/connectionpool.py:847: InsecureRequestWarning: Unverified HTTPS request is being made. Adding certificate verification is strongly advised. See: https://urllib3.readthedocs.io/en/latest/advanced-usage.html#ssl-warnings\n",
      "  InsecureRequestWarning)\n",
      "/Users/nplattner/miniconda3/envs/AutoSearch/lib/python3.7/site-packages/urllib3/connectionpool.py:847: InsecureRequestWarning: Unverified HTTPS request is being made. Adding certificate verification is strongly advised. See: https://urllib3.readthedocs.io/en/latest/advanced-usage.html#ssl-warnings\n",
      "  InsecureRequestWarning)\n",
      "/Users/nplattner/miniconda3/envs/AutoSearch/lib/python3.7/site-packages/urllib3/connectionpool.py:847: InsecureRequestWarning: Unverified HTTPS request is being made. Adding certificate verification is strongly advised. See: https://urllib3.readthedocs.io/en/latest/advanced-usage.html#ssl-warnings\n",
      "  InsecureRequestWarning)\n",
      "/Users/nplattner/miniconda3/envs/AutoSearch/lib/python3.7/site-packages/urllib3/connectionpool.py:847: InsecureRequestWarning: Unverified HTTPS request is being made. Adding certificate verification is strongly advised. See: https://urllib3.readthedocs.io/en/latest/advanced-usage.html#ssl-warnings\n",
      "  InsecureRequestWarning)\n",
      "/Users/nplattner/miniconda3/envs/AutoSearch/lib/python3.7/site-packages/urllib3/connectionpool.py:847: InsecureRequestWarning: Unverified HTTPS request is being made. Adding certificate verification is strongly advised. See: https://urllib3.readthedocs.io/en/latest/advanced-usage.html#ssl-warnings\n",
      "  InsecureRequestWarning)\n",
      "/Users/nplattner/miniconda3/envs/AutoSearch/lib/python3.7/site-packages/urllib3/connectionpool.py:847: InsecureRequestWarning: Unverified HTTPS request is being made. Adding certificate verification is strongly advised. See: https://urllib3.readthedocs.io/en/latest/advanced-usage.html#ssl-warnings\n",
      "  InsecureRequestWarning)\n",
      "/Users/nplattner/miniconda3/envs/AutoSearch/lib/python3.7/site-packages/urllib3/connectionpool.py:847: InsecureRequestWarning: Unverified HTTPS request is being made. Adding certificate verification is strongly advised. See: https://urllib3.readthedocs.io/en/latest/advanced-usage.html#ssl-warnings\n",
      "  InsecureRequestWarning)\n",
      "/Users/nplattner/miniconda3/envs/AutoSearch/lib/python3.7/site-packages/urllib3/connectionpool.py:847: InsecureRequestWarning: Unverified HTTPS request is being made. Adding certificate verification is strongly advised. See: https://urllib3.readthedocs.io/en/latest/advanced-usage.html#ssl-warnings\n",
      "  InsecureRequestWarning)\n",
      "/Users/nplattner/miniconda3/envs/AutoSearch/lib/python3.7/site-packages/urllib3/connectionpool.py:847: InsecureRequestWarning: Unverified HTTPS request is being made. Adding certificate verification is strongly advised. See: https://urllib3.readthedocs.io/en/latest/advanced-usage.html#ssl-warnings\n",
      "  InsecureRequestWarning)\n",
      "/Users/nplattner/miniconda3/envs/AutoSearch/lib/python3.7/site-packages/urllib3/connectionpool.py:847: InsecureRequestWarning: Unverified HTTPS request is being made. Adding certificate verification is strongly advised. See: https://urllib3.readthedocs.io/en/latest/advanced-usage.html#ssl-warnings\n",
      "  InsecureRequestWarning)\n",
      "/Users/nplattner/miniconda3/envs/AutoSearch/lib/python3.7/site-packages/urllib3/connectionpool.py:847: InsecureRequestWarning: Unverified HTTPS request is being made. Adding certificate verification is strongly advised. See: https://urllib3.readthedocs.io/en/latest/advanced-usage.html#ssl-warnings\n",
      "  InsecureRequestWarning)\n",
      "/Users/nplattner/miniconda3/envs/AutoSearch/lib/python3.7/site-packages/urllib3/connectionpool.py:847: InsecureRequestWarning: Unverified HTTPS request is being made. Adding certificate verification is strongly advised. See: https://urllib3.readthedocs.io/en/latest/advanced-usage.html#ssl-warnings\n",
      "  InsecureRequestWarning)\n",
      "/Users/nplattner/miniconda3/envs/AutoSearch/lib/python3.7/site-packages/urllib3/connectionpool.py:847: InsecureRequestWarning: Unverified HTTPS request is being made. Adding certificate verification is strongly advised. See: https://urllib3.readthedocs.io/en/latest/advanced-usage.html#ssl-warnings\n",
      "  InsecureRequestWarning)\n",
      "/Users/nplattner/miniconda3/envs/AutoSearch/lib/python3.7/site-packages/urllib3/connectionpool.py:847: InsecureRequestWarning: Unverified HTTPS request is being made. Adding certificate verification is strongly advised. See: https://urllib3.readthedocs.io/en/latest/advanced-usage.html#ssl-warnings\n",
      "  InsecureRequestWarning)\n",
      "/Users/nplattner/miniconda3/envs/AutoSearch/lib/python3.7/site-packages/urllib3/connectionpool.py:847: InsecureRequestWarning: Unverified HTTPS request is being made. Adding certificate verification is strongly advised. See: https://urllib3.readthedocs.io/en/latest/advanced-usage.html#ssl-warnings\n",
      "  InsecureRequestWarning)\n",
      "/Users/nplattner/miniconda3/envs/AutoSearch/lib/python3.7/site-packages/urllib3/connectionpool.py:847: InsecureRequestWarning: Unverified HTTPS request is being made. Adding certificate verification is strongly advised. See: https://urllib3.readthedocs.io/en/latest/advanced-usage.html#ssl-warnings\n",
      "  InsecureRequestWarning)\n",
      "/Users/nplattner/miniconda3/envs/AutoSearch/lib/python3.7/site-packages/urllib3/connectionpool.py:847: InsecureRequestWarning: Unverified HTTPS request is being made. Adding certificate verification is strongly advised. See: https://urllib3.readthedocs.io/en/latest/advanced-usage.html#ssl-warnings\n",
      "  InsecureRequestWarning)\n",
      "/Users/nplattner/miniconda3/envs/AutoSearch/lib/python3.7/site-packages/urllib3/connectionpool.py:847: InsecureRequestWarning: Unverified HTTPS request is being made. Adding certificate verification is strongly advised. See: https://urllib3.readthedocs.io/en/latest/advanced-usage.html#ssl-warnings\n",
      "  InsecureRequestWarning)\n",
      "/Users/nplattner/miniconda3/envs/AutoSearch/lib/python3.7/site-packages/urllib3/connectionpool.py:847: InsecureRequestWarning: Unverified HTTPS request is being made. Adding certificate verification is strongly advised. See: https://urllib3.readthedocs.io/en/latest/advanced-usage.html#ssl-warnings\n",
      "  InsecureRequestWarning)\n",
      "/Users/nplattner/miniconda3/envs/AutoSearch/lib/python3.7/site-packages/urllib3/connectionpool.py:847: InsecureRequestWarning: Unverified HTTPS request is being made. Adding certificate verification is strongly advised. See: https://urllib3.readthedocs.io/en/latest/advanced-usage.html#ssl-warnings\n",
      "  InsecureRequestWarning)\n",
      "/Users/nplattner/miniconda3/envs/AutoSearch/lib/python3.7/site-packages/urllib3/connectionpool.py:847: InsecureRequestWarning: Unverified HTTPS request is being made. Adding certificate verification is strongly advised. See: https://urllib3.readthedocs.io/en/latest/advanced-usage.html#ssl-warnings\n",
      "  InsecureRequestWarning)\n"
     ]
    },
    {
     "name": "stderr",
     "output_type": "stream",
     "text": [
      "/Users/nplattner/miniconda3/envs/AutoSearch/lib/python3.7/site-packages/urllib3/connectionpool.py:847: InsecureRequestWarning: Unverified HTTPS request is being made. Adding certificate verification is strongly advised. See: https://urllib3.readthedocs.io/en/latest/advanced-usage.html#ssl-warnings\n",
      "  InsecureRequestWarning)\n",
      "/Users/nplattner/miniconda3/envs/AutoSearch/lib/python3.7/site-packages/urllib3/connectionpool.py:847: InsecureRequestWarning: Unverified HTTPS request is being made. Adding certificate verification is strongly advised. See: https://urllib3.readthedocs.io/en/latest/advanced-usage.html#ssl-warnings\n",
      "  InsecureRequestWarning)\n",
      "/Users/nplattner/miniconda3/envs/AutoSearch/lib/python3.7/site-packages/urllib3/connectionpool.py:847: InsecureRequestWarning: Unverified HTTPS request is being made. Adding certificate verification is strongly advised. See: https://urllib3.readthedocs.io/en/latest/advanced-usage.html#ssl-warnings\n",
      "  InsecureRequestWarning)\n",
      "/Users/nplattner/miniconda3/envs/AutoSearch/lib/python3.7/site-packages/urllib3/connectionpool.py:847: InsecureRequestWarning: Unverified HTTPS request is being made. Adding certificate verification is strongly advised. See: https://urllib3.readthedocs.io/en/latest/advanced-usage.html#ssl-warnings\n",
      "  InsecureRequestWarning)\n",
      "/Users/nplattner/miniconda3/envs/AutoSearch/lib/python3.7/site-packages/urllib3/connectionpool.py:847: InsecureRequestWarning: Unverified HTTPS request is being made. Adding certificate verification is strongly advised. See: https://urllib3.readthedocs.io/en/latest/advanced-usage.html#ssl-warnings\n",
      "  InsecureRequestWarning)\n",
      "/Users/nplattner/miniconda3/envs/AutoSearch/lib/python3.7/site-packages/urllib3/connectionpool.py:847: InsecureRequestWarning: Unverified HTTPS request is being made. Adding certificate verification is strongly advised. See: https://urllib3.readthedocs.io/en/latest/advanced-usage.html#ssl-warnings\n",
      "  InsecureRequestWarning)\n",
      "/Users/nplattner/miniconda3/envs/AutoSearch/lib/python3.7/site-packages/urllib3/connectionpool.py:847: InsecureRequestWarning: Unverified HTTPS request is being made. Adding certificate verification is strongly advised. See: https://urllib3.readthedocs.io/en/latest/advanced-usage.html#ssl-warnings\n",
      "  InsecureRequestWarning)\n",
      "/Users/nplattner/miniconda3/envs/AutoSearch/lib/python3.7/site-packages/urllib3/connectionpool.py:847: InsecureRequestWarning: Unverified HTTPS request is being made. Adding certificate verification is strongly advised. See: https://urllib3.readthedocs.io/en/latest/advanced-usage.html#ssl-warnings\n",
      "  InsecureRequestWarning)\n",
      "/Users/nplattner/miniconda3/envs/AutoSearch/lib/python3.7/site-packages/urllib3/connectionpool.py:847: InsecureRequestWarning: Unverified HTTPS request is being made. Adding certificate verification is strongly advised. See: https://urllib3.readthedocs.io/en/latest/advanced-usage.html#ssl-warnings\n",
      "  InsecureRequestWarning)\n",
      "/Users/nplattner/miniconda3/envs/AutoSearch/lib/python3.7/site-packages/urllib3/connectionpool.py:847: InsecureRequestWarning: Unverified HTTPS request is being made. Adding certificate verification is strongly advised. See: https://urllib3.readthedocs.io/en/latest/advanced-usage.html#ssl-warnings\n",
      "  InsecureRequestWarning)\n",
      "/Users/nplattner/miniconda3/envs/AutoSearch/lib/python3.7/site-packages/urllib3/connectionpool.py:847: InsecureRequestWarning: Unverified HTTPS request is being made. Adding certificate verification is strongly advised. See: https://urllib3.readthedocs.io/en/latest/advanced-usage.html#ssl-warnings\n",
      "  InsecureRequestWarning)\n",
      "/Users/nplattner/miniconda3/envs/AutoSearch/lib/python3.7/site-packages/urllib3/connectionpool.py:847: InsecureRequestWarning: Unverified HTTPS request is being made. Adding certificate verification is strongly advised. See: https://urllib3.readthedocs.io/en/latest/advanced-usage.html#ssl-warnings\n",
      "  InsecureRequestWarning)\n",
      "/Users/nplattner/miniconda3/envs/AutoSearch/lib/python3.7/site-packages/urllib3/connectionpool.py:847: InsecureRequestWarning: Unverified HTTPS request is being made. Adding certificate verification is strongly advised. See: https://urllib3.readthedocs.io/en/latest/advanced-usage.html#ssl-warnings\n",
      "  InsecureRequestWarning)\n",
      "/Users/nplattner/miniconda3/envs/AutoSearch/lib/python3.7/site-packages/urllib3/connectionpool.py:847: InsecureRequestWarning: Unverified HTTPS request is being made. Adding certificate verification is strongly advised. See: https://urllib3.readthedocs.io/en/latest/advanced-usage.html#ssl-warnings\n",
      "  InsecureRequestWarning)\n",
      "/Users/nplattner/miniconda3/envs/AutoSearch/lib/python3.7/site-packages/urllib3/connectionpool.py:847: InsecureRequestWarning: Unverified HTTPS request is being made. Adding certificate verification is strongly advised. See: https://urllib3.readthedocs.io/en/latest/advanced-usage.html#ssl-warnings\n",
      "  InsecureRequestWarning)\n",
      "/Users/nplattner/miniconda3/envs/AutoSearch/lib/python3.7/site-packages/urllib3/connectionpool.py:847: InsecureRequestWarning: Unverified HTTPS request is being made. Adding certificate verification is strongly advised. See: https://urllib3.readthedocs.io/en/latest/advanced-usage.html#ssl-warnings\n",
      "  InsecureRequestWarning)\n",
      "/Users/nplattner/miniconda3/envs/AutoSearch/lib/python3.7/site-packages/urllib3/connectionpool.py:847: InsecureRequestWarning: Unverified HTTPS request is being made. Adding certificate verification is strongly advised. See: https://urllib3.readthedocs.io/en/latest/advanced-usage.html#ssl-warnings\n",
      "  InsecureRequestWarning)\n",
      "/Users/nplattner/miniconda3/envs/AutoSearch/lib/python3.7/site-packages/urllib3/connectionpool.py:847: InsecureRequestWarning: Unverified HTTPS request is being made. Adding certificate verification is strongly advised. See: https://urllib3.readthedocs.io/en/latest/advanced-usage.html#ssl-warnings\n",
      "  InsecureRequestWarning)\n",
      "/Users/nplattner/miniconda3/envs/AutoSearch/lib/python3.7/site-packages/urllib3/connectionpool.py:847: InsecureRequestWarning: Unverified HTTPS request is being made. Adding certificate verification is strongly advised. See: https://urllib3.readthedocs.io/en/latest/advanced-usage.html#ssl-warnings\n",
      "  InsecureRequestWarning)\n",
      "/Users/nplattner/miniconda3/envs/AutoSearch/lib/python3.7/site-packages/urllib3/connectionpool.py:847: InsecureRequestWarning: Unverified HTTPS request is being made. Adding certificate verification is strongly advised. See: https://urllib3.readthedocs.io/en/latest/advanced-usage.html#ssl-warnings\n",
      "  InsecureRequestWarning)\n",
      "/Users/nplattner/miniconda3/envs/AutoSearch/lib/python3.7/site-packages/urllib3/connectionpool.py:847: InsecureRequestWarning: Unverified HTTPS request is being made. Adding certificate verification is strongly advised. See: https://urllib3.readthedocs.io/en/latest/advanced-usage.html#ssl-warnings\n",
      "  InsecureRequestWarning)\n",
      "/Users/nplattner/miniconda3/envs/AutoSearch/lib/python3.7/site-packages/urllib3/connectionpool.py:847: InsecureRequestWarning: Unverified HTTPS request is being made. Adding certificate verification is strongly advised. See: https://urllib3.readthedocs.io/en/latest/advanced-usage.html#ssl-warnings\n",
      "  InsecureRequestWarning)\n",
      "/Users/nplattner/miniconda3/envs/AutoSearch/lib/python3.7/site-packages/urllib3/connectionpool.py:847: InsecureRequestWarning: Unverified HTTPS request is being made. Adding certificate verification is strongly advised. See: https://urllib3.readthedocs.io/en/latest/advanced-usage.html#ssl-warnings\n",
      "  InsecureRequestWarning)\n",
      "/Users/nplattner/miniconda3/envs/AutoSearch/lib/python3.7/site-packages/urllib3/connectionpool.py:847: InsecureRequestWarning: Unverified HTTPS request is being made. Adding certificate verification is strongly advised. See: https://urllib3.readthedocs.io/en/latest/advanced-usage.html#ssl-warnings\n",
      "  InsecureRequestWarning)\n",
      "/Users/nplattner/miniconda3/envs/AutoSearch/lib/python3.7/site-packages/urllib3/connectionpool.py:847: InsecureRequestWarning: Unverified HTTPS request is being made. Adding certificate verification is strongly advised. See: https://urllib3.readthedocs.io/en/latest/advanced-usage.html#ssl-warnings\n",
      "  InsecureRequestWarning)\n",
      "/Users/nplattner/miniconda3/envs/AutoSearch/lib/python3.7/site-packages/urllib3/connectionpool.py:847: InsecureRequestWarning: Unverified HTTPS request is being made. Adding certificate verification is strongly advised. See: https://urllib3.readthedocs.io/en/latest/advanced-usage.html#ssl-warnings\n",
      "  InsecureRequestWarning)\n"
     ]
    },
    {
     "name": "stderr",
     "output_type": "stream",
     "text": [
      "/Users/nplattner/miniconda3/envs/AutoSearch/lib/python3.7/site-packages/urllib3/connectionpool.py:847: InsecureRequestWarning: Unverified HTTPS request is being made. Adding certificate verification is strongly advised. See: https://urllib3.readthedocs.io/en/latest/advanced-usage.html#ssl-warnings\n",
      "  InsecureRequestWarning)\n",
      "/Users/nplattner/miniconda3/envs/AutoSearch/lib/python3.7/site-packages/urllib3/connectionpool.py:847: InsecureRequestWarning: Unverified HTTPS request is being made. Adding certificate verification is strongly advised. See: https://urllib3.readthedocs.io/en/latest/advanced-usage.html#ssl-warnings\n",
      "  InsecureRequestWarning)\n",
      "/Users/nplattner/miniconda3/envs/AutoSearch/lib/python3.7/site-packages/urllib3/connectionpool.py:847: InsecureRequestWarning: Unverified HTTPS request is being made. Adding certificate verification is strongly advised. See: https://urllib3.readthedocs.io/en/latest/advanced-usage.html#ssl-warnings\n",
      "  InsecureRequestWarning)\n",
      "/Users/nplattner/miniconda3/envs/AutoSearch/lib/python3.7/site-packages/urllib3/connectionpool.py:847: InsecureRequestWarning: Unverified HTTPS request is being made. Adding certificate verification is strongly advised. See: https://urllib3.readthedocs.io/en/latest/advanced-usage.html#ssl-warnings\n",
      "  InsecureRequestWarning)\n",
      "/Users/nplattner/miniconda3/envs/AutoSearch/lib/python3.7/site-packages/urllib3/connectionpool.py:847: InsecureRequestWarning: Unverified HTTPS request is being made. Adding certificate verification is strongly advised. See: https://urllib3.readthedocs.io/en/latest/advanced-usage.html#ssl-warnings\n",
      "  InsecureRequestWarning)\n",
      "/Users/nplattner/miniconda3/envs/AutoSearch/lib/python3.7/site-packages/urllib3/connectionpool.py:847: InsecureRequestWarning: Unverified HTTPS request is being made. Adding certificate verification is strongly advised. See: https://urllib3.readthedocs.io/en/latest/advanced-usage.html#ssl-warnings\n",
      "  InsecureRequestWarning)\n",
      "/Users/nplattner/miniconda3/envs/AutoSearch/lib/python3.7/site-packages/urllib3/connectionpool.py:847: InsecureRequestWarning: Unverified HTTPS request is being made. Adding certificate verification is strongly advised. See: https://urllib3.readthedocs.io/en/latest/advanced-usage.html#ssl-warnings\n",
      "  InsecureRequestWarning)\n",
      "/Users/nplattner/miniconda3/envs/AutoSearch/lib/python3.7/site-packages/urllib3/connectionpool.py:847: InsecureRequestWarning: Unverified HTTPS request is being made. Adding certificate verification is strongly advised. See: https://urllib3.readthedocs.io/en/latest/advanced-usage.html#ssl-warnings\n",
      "  InsecureRequestWarning)\n",
      "/Users/nplattner/miniconda3/envs/AutoSearch/lib/python3.7/site-packages/urllib3/connectionpool.py:847: InsecureRequestWarning: Unverified HTTPS request is being made. Adding certificate verification is strongly advised. See: https://urllib3.readthedocs.io/en/latest/advanced-usage.html#ssl-warnings\n",
      "  InsecureRequestWarning)\n",
      "/Users/nplattner/miniconda3/envs/AutoSearch/lib/python3.7/site-packages/urllib3/connectionpool.py:847: InsecureRequestWarning: Unverified HTTPS request is being made. Adding certificate verification is strongly advised. See: https://urllib3.readthedocs.io/en/latest/advanced-usage.html#ssl-warnings\n",
      "  InsecureRequestWarning)\n",
      "/Users/nplattner/miniconda3/envs/AutoSearch/lib/python3.7/site-packages/urllib3/connectionpool.py:847: InsecureRequestWarning: Unverified HTTPS request is being made. Adding certificate verification is strongly advised. See: https://urllib3.readthedocs.io/en/latest/advanced-usage.html#ssl-warnings\n",
      "  InsecureRequestWarning)\n",
      "/Users/nplattner/miniconda3/envs/AutoSearch/lib/python3.7/site-packages/urllib3/connectionpool.py:847: InsecureRequestWarning: Unverified HTTPS request is being made. Adding certificate verification is strongly advised. See: https://urllib3.readthedocs.io/en/latest/advanced-usage.html#ssl-warnings\n",
      "  InsecureRequestWarning)\n",
      "/Users/nplattner/miniconda3/envs/AutoSearch/lib/python3.7/site-packages/urllib3/connectionpool.py:847: InsecureRequestWarning: Unverified HTTPS request is being made. Adding certificate verification is strongly advised. See: https://urllib3.readthedocs.io/en/latest/advanced-usage.html#ssl-warnings\n",
      "  InsecureRequestWarning)\n",
      "/Users/nplattner/miniconda3/envs/AutoSearch/lib/python3.7/site-packages/urllib3/connectionpool.py:847: InsecureRequestWarning: Unverified HTTPS request is being made. Adding certificate verification is strongly advised. See: https://urllib3.readthedocs.io/en/latest/advanced-usage.html#ssl-warnings\n",
      "  InsecureRequestWarning)\n",
      "/Users/nplattner/miniconda3/envs/AutoSearch/lib/python3.7/site-packages/urllib3/connectionpool.py:847: InsecureRequestWarning: Unverified HTTPS request is being made. Adding certificate verification is strongly advised. See: https://urllib3.readthedocs.io/en/latest/advanced-usage.html#ssl-warnings\n",
      "  InsecureRequestWarning)\n",
      "/Users/nplattner/miniconda3/envs/AutoSearch/lib/python3.7/site-packages/urllib3/connectionpool.py:847: InsecureRequestWarning: Unverified HTTPS request is being made. Adding certificate verification is strongly advised. See: https://urllib3.readthedocs.io/en/latest/advanced-usage.html#ssl-warnings\n",
      "  InsecureRequestWarning)\n",
      "/Users/nplattner/miniconda3/envs/AutoSearch/lib/python3.7/site-packages/urllib3/connectionpool.py:847: InsecureRequestWarning: Unverified HTTPS request is being made. Adding certificate verification is strongly advised. See: https://urllib3.readthedocs.io/en/latest/advanced-usage.html#ssl-warnings\n",
      "  InsecureRequestWarning)\n",
      "/Users/nplattner/miniconda3/envs/AutoSearch/lib/python3.7/site-packages/urllib3/connectionpool.py:847: InsecureRequestWarning: Unverified HTTPS request is being made. Adding certificate verification is strongly advised. See: https://urllib3.readthedocs.io/en/latest/advanced-usage.html#ssl-warnings\n",
      "  InsecureRequestWarning)\n",
      "/Users/nplattner/miniconda3/envs/AutoSearch/lib/python3.7/site-packages/urllib3/connectionpool.py:847: InsecureRequestWarning: Unverified HTTPS request is being made. Adding certificate verification is strongly advised. See: https://urllib3.readthedocs.io/en/latest/advanced-usage.html#ssl-warnings\n",
      "  InsecureRequestWarning)\n",
      "/Users/nplattner/miniconda3/envs/AutoSearch/lib/python3.7/site-packages/urllib3/connectionpool.py:847: InsecureRequestWarning: Unverified HTTPS request is being made. Adding certificate verification is strongly advised. See: https://urllib3.readthedocs.io/en/latest/advanced-usage.html#ssl-warnings\n",
      "  InsecureRequestWarning)\n",
      "/Users/nplattner/miniconda3/envs/AutoSearch/lib/python3.7/site-packages/urllib3/connectionpool.py:847: InsecureRequestWarning: Unverified HTTPS request is being made. Adding certificate verification is strongly advised. See: https://urllib3.readthedocs.io/en/latest/advanced-usage.html#ssl-warnings\n",
      "  InsecureRequestWarning)\n",
      "/Users/nplattner/miniconda3/envs/AutoSearch/lib/python3.7/site-packages/urllib3/connectionpool.py:847: InsecureRequestWarning: Unverified HTTPS request is being made. Adding certificate verification is strongly advised. See: https://urllib3.readthedocs.io/en/latest/advanced-usage.html#ssl-warnings\n",
      "  InsecureRequestWarning)\n",
      "/Users/nplattner/miniconda3/envs/AutoSearch/lib/python3.7/site-packages/urllib3/connectionpool.py:847: InsecureRequestWarning: Unverified HTTPS request is being made. Adding certificate verification is strongly advised. See: https://urllib3.readthedocs.io/en/latest/advanced-usage.html#ssl-warnings\n",
      "  InsecureRequestWarning)\n",
      "/Users/nplattner/miniconda3/envs/AutoSearch/lib/python3.7/site-packages/urllib3/connectionpool.py:847: InsecureRequestWarning: Unverified HTTPS request is being made. Adding certificate verification is strongly advised. See: https://urllib3.readthedocs.io/en/latest/advanced-usage.html#ssl-warnings\n",
      "  InsecureRequestWarning)\n",
      "/Users/nplattner/miniconda3/envs/AutoSearch/lib/python3.7/site-packages/urllib3/connectionpool.py:847: InsecureRequestWarning: Unverified HTTPS request is being made. Adding certificate verification is strongly advised. See: https://urllib3.readthedocs.io/en/latest/advanced-usage.html#ssl-warnings\n",
      "  InsecureRequestWarning)\n",
      "/Users/nplattner/miniconda3/envs/AutoSearch/lib/python3.7/site-packages/urllib3/connectionpool.py:847: InsecureRequestWarning: Unverified HTTPS request is being made. Adding certificate verification is strongly advised. See: https://urllib3.readthedocs.io/en/latest/advanced-usage.html#ssl-warnings\n",
      "  InsecureRequestWarning)\n"
     ]
    },
    {
     "name": "stderr",
     "output_type": "stream",
     "text": [
      "/Users/nplattner/miniconda3/envs/AutoSearch/lib/python3.7/site-packages/urllib3/connectionpool.py:847: InsecureRequestWarning: Unverified HTTPS request is being made. Adding certificate verification is strongly advised. See: https://urllib3.readthedocs.io/en/latest/advanced-usage.html#ssl-warnings\n",
      "  InsecureRequestWarning)\n",
      "/Users/nplattner/miniconda3/envs/AutoSearch/lib/python3.7/site-packages/urllib3/connectionpool.py:847: InsecureRequestWarning: Unverified HTTPS request is being made. Adding certificate verification is strongly advised. See: https://urllib3.readthedocs.io/en/latest/advanced-usage.html#ssl-warnings\n",
      "  InsecureRequestWarning)\n",
      "/Users/nplattner/miniconda3/envs/AutoSearch/lib/python3.7/site-packages/urllib3/connectionpool.py:847: InsecureRequestWarning: Unverified HTTPS request is being made. Adding certificate verification is strongly advised. See: https://urllib3.readthedocs.io/en/latest/advanced-usage.html#ssl-warnings\n",
      "  InsecureRequestWarning)\n",
      "/Users/nplattner/miniconda3/envs/AutoSearch/lib/python3.7/site-packages/urllib3/connectionpool.py:847: InsecureRequestWarning: Unverified HTTPS request is being made. Adding certificate verification is strongly advised. See: https://urllib3.readthedocs.io/en/latest/advanced-usage.html#ssl-warnings\n",
      "  InsecureRequestWarning)\n",
      "/Users/nplattner/miniconda3/envs/AutoSearch/lib/python3.7/site-packages/urllib3/connectionpool.py:847: InsecureRequestWarning: Unverified HTTPS request is being made. Adding certificate verification is strongly advised. See: https://urllib3.readthedocs.io/en/latest/advanced-usage.html#ssl-warnings\n",
      "  InsecureRequestWarning)\n",
      "/Users/nplattner/miniconda3/envs/AutoSearch/lib/python3.7/site-packages/urllib3/connectionpool.py:847: InsecureRequestWarning: Unverified HTTPS request is being made. Adding certificate verification is strongly advised. See: https://urllib3.readthedocs.io/en/latest/advanced-usage.html#ssl-warnings\n",
      "  InsecureRequestWarning)\n",
      "/Users/nplattner/miniconda3/envs/AutoSearch/lib/python3.7/site-packages/urllib3/connectionpool.py:847: InsecureRequestWarning: Unverified HTTPS request is being made. Adding certificate verification is strongly advised. See: https://urllib3.readthedocs.io/en/latest/advanced-usage.html#ssl-warnings\n",
      "  InsecureRequestWarning)\n",
      "/Users/nplattner/miniconda3/envs/AutoSearch/lib/python3.7/site-packages/urllib3/connectionpool.py:847: InsecureRequestWarning: Unverified HTTPS request is being made. Adding certificate verification is strongly advised. See: https://urllib3.readthedocs.io/en/latest/advanced-usage.html#ssl-warnings\n",
      "  InsecureRequestWarning)\n",
      "/Users/nplattner/miniconda3/envs/AutoSearch/lib/python3.7/site-packages/urllib3/connectionpool.py:847: InsecureRequestWarning: Unverified HTTPS request is being made. Adding certificate verification is strongly advised. See: https://urllib3.readthedocs.io/en/latest/advanced-usage.html#ssl-warnings\n",
      "  InsecureRequestWarning)\n",
      "/Users/nplattner/miniconda3/envs/AutoSearch/lib/python3.7/site-packages/urllib3/connectionpool.py:847: InsecureRequestWarning: Unverified HTTPS request is being made. Adding certificate verification is strongly advised. See: https://urllib3.readthedocs.io/en/latest/advanced-usage.html#ssl-warnings\n",
      "  InsecureRequestWarning)\n",
      "/Users/nplattner/miniconda3/envs/AutoSearch/lib/python3.7/site-packages/urllib3/connectionpool.py:847: InsecureRequestWarning: Unverified HTTPS request is being made. Adding certificate verification is strongly advised. See: https://urllib3.readthedocs.io/en/latest/advanced-usage.html#ssl-warnings\n",
      "  InsecureRequestWarning)\n",
      "/Users/nplattner/miniconda3/envs/AutoSearch/lib/python3.7/site-packages/urllib3/connectionpool.py:847: InsecureRequestWarning: Unverified HTTPS request is being made. Adding certificate verification is strongly advised. See: https://urllib3.readthedocs.io/en/latest/advanced-usage.html#ssl-warnings\n",
      "  InsecureRequestWarning)\n",
      "/Users/nplattner/miniconda3/envs/AutoSearch/lib/python3.7/site-packages/urllib3/connectionpool.py:847: InsecureRequestWarning: Unverified HTTPS request is being made. Adding certificate verification is strongly advised. See: https://urllib3.readthedocs.io/en/latest/advanced-usage.html#ssl-warnings\n",
      "  InsecureRequestWarning)\n",
      "/Users/nplattner/miniconda3/envs/AutoSearch/lib/python3.7/site-packages/urllib3/connectionpool.py:847: InsecureRequestWarning: Unverified HTTPS request is being made. Adding certificate verification is strongly advised. See: https://urllib3.readthedocs.io/en/latest/advanced-usage.html#ssl-warnings\n",
      "  InsecureRequestWarning)\n",
      "/Users/nplattner/miniconda3/envs/AutoSearch/lib/python3.7/site-packages/urllib3/connectionpool.py:847: InsecureRequestWarning: Unverified HTTPS request is being made. Adding certificate verification is strongly advised. See: https://urllib3.readthedocs.io/en/latest/advanced-usage.html#ssl-warnings\n",
      "  InsecureRequestWarning)\n",
      "/Users/nplattner/miniconda3/envs/AutoSearch/lib/python3.7/site-packages/urllib3/connectionpool.py:847: InsecureRequestWarning: Unverified HTTPS request is being made. Adding certificate verification is strongly advised. See: https://urllib3.readthedocs.io/en/latest/advanced-usage.html#ssl-warnings\n",
      "  InsecureRequestWarning)\n",
      "/Users/nplattner/miniconda3/envs/AutoSearch/lib/python3.7/site-packages/urllib3/connectionpool.py:847: InsecureRequestWarning: Unverified HTTPS request is being made. Adding certificate verification is strongly advised. See: https://urllib3.readthedocs.io/en/latest/advanced-usage.html#ssl-warnings\n",
      "  InsecureRequestWarning)\n",
      "/Users/nplattner/miniconda3/envs/AutoSearch/lib/python3.7/site-packages/urllib3/connectionpool.py:847: InsecureRequestWarning: Unverified HTTPS request is being made. Adding certificate verification is strongly advised. See: https://urllib3.readthedocs.io/en/latest/advanced-usage.html#ssl-warnings\n",
      "  InsecureRequestWarning)\n",
      "/Users/nplattner/miniconda3/envs/AutoSearch/lib/python3.7/site-packages/urllib3/connectionpool.py:847: InsecureRequestWarning: Unverified HTTPS request is being made. Adding certificate verification is strongly advised. See: https://urllib3.readthedocs.io/en/latest/advanced-usage.html#ssl-warnings\n",
      "  InsecureRequestWarning)\n",
      "/Users/nplattner/miniconda3/envs/AutoSearch/lib/python3.7/site-packages/urllib3/connectionpool.py:847: InsecureRequestWarning: Unverified HTTPS request is being made. Adding certificate verification is strongly advised. See: https://urllib3.readthedocs.io/en/latest/advanced-usage.html#ssl-warnings\n",
      "  InsecureRequestWarning)\n",
      "/Users/nplattner/miniconda3/envs/AutoSearch/lib/python3.7/site-packages/urllib3/connectionpool.py:847: InsecureRequestWarning: Unverified HTTPS request is being made. Adding certificate verification is strongly advised. See: https://urllib3.readthedocs.io/en/latest/advanced-usage.html#ssl-warnings\n",
      "  InsecureRequestWarning)\n",
      "/Users/nplattner/miniconda3/envs/AutoSearch/lib/python3.7/site-packages/urllib3/connectionpool.py:847: InsecureRequestWarning: Unverified HTTPS request is being made. Adding certificate verification is strongly advised. See: https://urllib3.readthedocs.io/en/latest/advanced-usage.html#ssl-warnings\n",
      "  InsecureRequestWarning)\n",
      "/Users/nplattner/miniconda3/envs/AutoSearch/lib/python3.7/site-packages/urllib3/connectionpool.py:847: InsecureRequestWarning: Unverified HTTPS request is being made. Adding certificate verification is strongly advised. See: https://urllib3.readthedocs.io/en/latest/advanced-usage.html#ssl-warnings\n",
      "  InsecureRequestWarning)\n",
      "/Users/nplattner/miniconda3/envs/AutoSearch/lib/python3.7/site-packages/urllib3/connectionpool.py:847: InsecureRequestWarning: Unverified HTTPS request is being made. Adding certificate verification is strongly advised. See: https://urllib3.readthedocs.io/en/latest/advanced-usage.html#ssl-warnings\n",
      "  InsecureRequestWarning)\n",
      "/Users/nplattner/miniconda3/envs/AutoSearch/lib/python3.7/site-packages/urllib3/connectionpool.py:847: InsecureRequestWarning: Unverified HTTPS request is being made. Adding certificate verification is strongly advised. See: https://urllib3.readthedocs.io/en/latest/advanced-usage.html#ssl-warnings\n",
      "  InsecureRequestWarning)\n",
      "/Users/nplattner/miniconda3/envs/AutoSearch/lib/python3.7/site-packages/urllib3/connectionpool.py:847: InsecureRequestWarning: Unverified HTTPS request is being made. Adding certificate verification is strongly advised. See: https://urllib3.readthedocs.io/en/latest/advanced-usage.html#ssl-warnings\n",
      "  InsecureRequestWarning)\n"
     ]
    },
    {
     "name": "stderr",
     "output_type": "stream",
     "text": [
      "/Users/nplattner/miniconda3/envs/AutoSearch/lib/python3.7/site-packages/urllib3/connectionpool.py:847: InsecureRequestWarning: Unverified HTTPS request is being made. Adding certificate verification is strongly advised. See: https://urllib3.readthedocs.io/en/latest/advanced-usage.html#ssl-warnings\n",
      "  InsecureRequestWarning)\n",
      "/Users/nplattner/miniconda3/envs/AutoSearch/lib/python3.7/site-packages/urllib3/connectionpool.py:847: InsecureRequestWarning: Unverified HTTPS request is being made. Adding certificate verification is strongly advised. See: https://urllib3.readthedocs.io/en/latest/advanced-usage.html#ssl-warnings\n",
      "  InsecureRequestWarning)\n",
      "/Users/nplattner/miniconda3/envs/AutoSearch/lib/python3.7/site-packages/urllib3/connectionpool.py:847: InsecureRequestWarning: Unverified HTTPS request is being made. Adding certificate verification is strongly advised. See: https://urllib3.readthedocs.io/en/latest/advanced-usage.html#ssl-warnings\n",
      "  InsecureRequestWarning)\n",
      "/Users/nplattner/miniconda3/envs/AutoSearch/lib/python3.7/site-packages/urllib3/connectionpool.py:847: InsecureRequestWarning: Unverified HTTPS request is being made. Adding certificate verification is strongly advised. See: https://urllib3.readthedocs.io/en/latest/advanced-usage.html#ssl-warnings\n",
      "  InsecureRequestWarning)\n",
      "/Users/nplattner/miniconda3/envs/AutoSearch/lib/python3.7/site-packages/urllib3/connectionpool.py:847: InsecureRequestWarning: Unverified HTTPS request is being made. Adding certificate verification is strongly advised. See: https://urllib3.readthedocs.io/en/latest/advanced-usage.html#ssl-warnings\n",
      "  InsecureRequestWarning)\n",
      "/Users/nplattner/miniconda3/envs/AutoSearch/lib/python3.7/site-packages/urllib3/connectionpool.py:847: InsecureRequestWarning: Unverified HTTPS request is being made. Adding certificate verification is strongly advised. See: https://urllib3.readthedocs.io/en/latest/advanced-usage.html#ssl-warnings\n",
      "  InsecureRequestWarning)\n",
      "/Users/nplattner/miniconda3/envs/AutoSearch/lib/python3.7/site-packages/urllib3/connectionpool.py:847: InsecureRequestWarning: Unverified HTTPS request is being made. Adding certificate verification is strongly advised. See: https://urllib3.readthedocs.io/en/latest/advanced-usage.html#ssl-warnings\n",
      "  InsecureRequestWarning)\n",
      "/Users/nplattner/miniconda3/envs/AutoSearch/lib/python3.7/site-packages/urllib3/connectionpool.py:847: InsecureRequestWarning: Unverified HTTPS request is being made. Adding certificate verification is strongly advised. See: https://urllib3.readthedocs.io/en/latest/advanced-usage.html#ssl-warnings\n",
      "  InsecureRequestWarning)\n",
      "/Users/nplattner/miniconda3/envs/AutoSearch/lib/python3.7/site-packages/urllib3/connectionpool.py:847: InsecureRequestWarning: Unverified HTTPS request is being made. Adding certificate verification is strongly advised. See: https://urllib3.readthedocs.io/en/latest/advanced-usage.html#ssl-warnings\n",
      "  InsecureRequestWarning)\n",
      "/Users/nplattner/miniconda3/envs/AutoSearch/lib/python3.7/site-packages/urllib3/connectionpool.py:847: InsecureRequestWarning: Unverified HTTPS request is being made. Adding certificate verification is strongly advised. See: https://urllib3.readthedocs.io/en/latest/advanced-usage.html#ssl-warnings\n",
      "  InsecureRequestWarning)\n",
      "/Users/nplattner/miniconda3/envs/AutoSearch/lib/python3.7/site-packages/urllib3/connectionpool.py:847: InsecureRequestWarning: Unverified HTTPS request is being made. Adding certificate verification is strongly advised. See: https://urllib3.readthedocs.io/en/latest/advanced-usage.html#ssl-warnings\n",
      "  InsecureRequestWarning)\n",
      "/Users/nplattner/miniconda3/envs/AutoSearch/lib/python3.7/site-packages/urllib3/connectionpool.py:847: InsecureRequestWarning: Unverified HTTPS request is being made. Adding certificate verification is strongly advised. See: https://urllib3.readthedocs.io/en/latest/advanced-usage.html#ssl-warnings\n",
      "  InsecureRequestWarning)\n",
      "/Users/nplattner/miniconda3/envs/AutoSearch/lib/python3.7/site-packages/urllib3/connectionpool.py:847: InsecureRequestWarning: Unverified HTTPS request is being made. Adding certificate verification is strongly advised. See: https://urllib3.readthedocs.io/en/latest/advanced-usage.html#ssl-warnings\n",
      "  InsecureRequestWarning)\n",
      "/Users/nplattner/miniconda3/envs/AutoSearch/lib/python3.7/site-packages/urllib3/connectionpool.py:847: InsecureRequestWarning: Unverified HTTPS request is being made. Adding certificate verification is strongly advised. See: https://urllib3.readthedocs.io/en/latest/advanced-usage.html#ssl-warnings\n",
      "  InsecureRequestWarning)\n",
      "/Users/nplattner/miniconda3/envs/AutoSearch/lib/python3.7/site-packages/urllib3/connectionpool.py:847: InsecureRequestWarning: Unverified HTTPS request is being made. Adding certificate verification is strongly advised. See: https://urllib3.readthedocs.io/en/latest/advanced-usage.html#ssl-warnings\n",
      "  InsecureRequestWarning)\n",
      "/Users/nplattner/miniconda3/envs/AutoSearch/lib/python3.7/site-packages/urllib3/connectionpool.py:847: InsecureRequestWarning: Unverified HTTPS request is being made. Adding certificate verification is strongly advised. See: https://urllib3.readthedocs.io/en/latest/advanced-usage.html#ssl-warnings\n",
      "  InsecureRequestWarning)\n",
      "/Users/nplattner/miniconda3/envs/AutoSearch/lib/python3.7/site-packages/urllib3/connectionpool.py:847: InsecureRequestWarning: Unverified HTTPS request is being made. Adding certificate verification is strongly advised. See: https://urllib3.readthedocs.io/en/latest/advanced-usage.html#ssl-warnings\n",
      "  InsecureRequestWarning)\n",
      "/Users/nplattner/miniconda3/envs/AutoSearch/lib/python3.7/site-packages/urllib3/connectionpool.py:847: InsecureRequestWarning: Unverified HTTPS request is being made. Adding certificate verification is strongly advised. See: https://urllib3.readthedocs.io/en/latest/advanced-usage.html#ssl-warnings\n",
      "  InsecureRequestWarning)\n",
      "/Users/nplattner/miniconda3/envs/AutoSearch/lib/python3.7/site-packages/urllib3/connectionpool.py:847: InsecureRequestWarning: Unverified HTTPS request is being made. Adding certificate verification is strongly advised. See: https://urllib3.readthedocs.io/en/latest/advanced-usage.html#ssl-warnings\n",
      "  InsecureRequestWarning)\n",
      "/Users/nplattner/miniconda3/envs/AutoSearch/lib/python3.7/site-packages/urllib3/connectionpool.py:847: InsecureRequestWarning: Unverified HTTPS request is being made. Adding certificate verification is strongly advised. See: https://urllib3.readthedocs.io/en/latest/advanced-usage.html#ssl-warnings\n",
      "  InsecureRequestWarning)\n",
      "/Users/nplattner/miniconda3/envs/AutoSearch/lib/python3.7/site-packages/urllib3/connectionpool.py:847: InsecureRequestWarning: Unverified HTTPS request is being made. Adding certificate verification is strongly advised. See: https://urllib3.readthedocs.io/en/latest/advanced-usage.html#ssl-warnings\n",
      "  InsecureRequestWarning)\n",
      "/Users/nplattner/miniconda3/envs/AutoSearch/lib/python3.7/site-packages/urllib3/connectionpool.py:847: InsecureRequestWarning: Unverified HTTPS request is being made. Adding certificate verification is strongly advised. See: https://urllib3.readthedocs.io/en/latest/advanced-usage.html#ssl-warnings\n",
      "  InsecureRequestWarning)\n",
      "/Users/nplattner/miniconda3/envs/AutoSearch/lib/python3.7/site-packages/urllib3/connectionpool.py:847: InsecureRequestWarning: Unverified HTTPS request is being made. Adding certificate verification is strongly advised. See: https://urllib3.readthedocs.io/en/latest/advanced-usage.html#ssl-warnings\n",
      "  InsecureRequestWarning)\n",
      "/Users/nplattner/miniconda3/envs/AutoSearch/lib/python3.7/site-packages/urllib3/connectionpool.py:847: InsecureRequestWarning: Unverified HTTPS request is being made. Adding certificate verification is strongly advised. See: https://urllib3.readthedocs.io/en/latest/advanced-usage.html#ssl-warnings\n",
      "  InsecureRequestWarning)\n",
      "/Users/nplattner/miniconda3/envs/AutoSearch/lib/python3.7/site-packages/urllib3/connectionpool.py:847: InsecureRequestWarning: Unverified HTTPS request is being made. Adding certificate verification is strongly advised. See: https://urllib3.readthedocs.io/en/latest/advanced-usage.html#ssl-warnings\n",
      "  InsecureRequestWarning)\n",
      "/Users/nplattner/miniconda3/envs/AutoSearch/lib/python3.7/site-packages/urllib3/connectionpool.py:847: InsecureRequestWarning: Unverified HTTPS request is being made. Adding certificate verification is strongly advised. See: https://urllib3.readthedocs.io/en/latest/advanced-usage.html#ssl-warnings\n",
      "  InsecureRequestWarning)\n"
     ]
    },
    {
     "name": "stderr",
     "output_type": "stream",
     "text": [
      "/Users/nplattner/miniconda3/envs/AutoSearch/lib/python3.7/site-packages/urllib3/connectionpool.py:847: InsecureRequestWarning: Unverified HTTPS request is being made. Adding certificate verification is strongly advised. See: https://urllib3.readthedocs.io/en/latest/advanced-usage.html#ssl-warnings\n",
      "  InsecureRequestWarning)\n",
      "/Users/nplattner/miniconda3/envs/AutoSearch/lib/python3.7/site-packages/urllib3/connectionpool.py:847: InsecureRequestWarning: Unverified HTTPS request is being made. Adding certificate verification is strongly advised. See: https://urllib3.readthedocs.io/en/latest/advanced-usage.html#ssl-warnings\n",
      "  InsecureRequestWarning)\n",
      "/Users/nplattner/miniconda3/envs/AutoSearch/lib/python3.7/site-packages/urllib3/connectionpool.py:847: InsecureRequestWarning: Unverified HTTPS request is being made. Adding certificate verification is strongly advised. See: https://urllib3.readthedocs.io/en/latest/advanced-usage.html#ssl-warnings\n",
      "  InsecureRequestWarning)\n",
      "/Users/nplattner/miniconda3/envs/AutoSearch/lib/python3.7/site-packages/urllib3/connectionpool.py:847: InsecureRequestWarning: Unverified HTTPS request is being made. Adding certificate verification is strongly advised. See: https://urllib3.readthedocs.io/en/latest/advanced-usage.html#ssl-warnings\n",
      "  InsecureRequestWarning)\n",
      "/Users/nplattner/miniconda3/envs/AutoSearch/lib/python3.7/site-packages/urllib3/connectionpool.py:847: InsecureRequestWarning: Unverified HTTPS request is being made. Adding certificate verification is strongly advised. See: https://urllib3.readthedocs.io/en/latest/advanced-usage.html#ssl-warnings\n",
      "  InsecureRequestWarning)\n",
      "/Users/nplattner/miniconda3/envs/AutoSearch/lib/python3.7/site-packages/urllib3/connectionpool.py:847: InsecureRequestWarning: Unverified HTTPS request is being made. Adding certificate verification is strongly advised. See: https://urllib3.readthedocs.io/en/latest/advanced-usage.html#ssl-warnings\n",
      "  InsecureRequestWarning)\n",
      "/Users/nplattner/miniconda3/envs/AutoSearch/lib/python3.7/site-packages/urllib3/connectionpool.py:847: InsecureRequestWarning: Unverified HTTPS request is being made. Adding certificate verification is strongly advised. See: https://urllib3.readthedocs.io/en/latest/advanced-usage.html#ssl-warnings\n",
      "  InsecureRequestWarning)\n",
      "/Users/nplattner/miniconda3/envs/AutoSearch/lib/python3.7/site-packages/urllib3/connectionpool.py:847: InsecureRequestWarning: Unverified HTTPS request is being made. Adding certificate verification is strongly advised. See: https://urllib3.readthedocs.io/en/latest/advanced-usage.html#ssl-warnings\n",
      "  InsecureRequestWarning)\n",
      "/Users/nplattner/miniconda3/envs/AutoSearch/lib/python3.7/site-packages/urllib3/connectionpool.py:847: InsecureRequestWarning: Unverified HTTPS request is being made. Adding certificate verification is strongly advised. See: https://urllib3.readthedocs.io/en/latest/advanced-usage.html#ssl-warnings\n",
      "  InsecureRequestWarning)\n",
      "/Users/nplattner/miniconda3/envs/AutoSearch/lib/python3.7/site-packages/urllib3/connectionpool.py:847: InsecureRequestWarning: Unverified HTTPS request is being made. Adding certificate verification is strongly advised. See: https://urllib3.readthedocs.io/en/latest/advanced-usage.html#ssl-warnings\n",
      "  InsecureRequestWarning)\n",
      "/Users/nplattner/miniconda3/envs/AutoSearch/lib/python3.7/site-packages/urllib3/connectionpool.py:847: InsecureRequestWarning: Unverified HTTPS request is being made. Adding certificate verification is strongly advised. See: https://urllib3.readthedocs.io/en/latest/advanced-usage.html#ssl-warnings\n",
      "  InsecureRequestWarning)\n",
      "/Users/nplattner/miniconda3/envs/AutoSearch/lib/python3.7/site-packages/urllib3/connectionpool.py:847: InsecureRequestWarning: Unverified HTTPS request is being made. Adding certificate verification is strongly advised. See: https://urllib3.readthedocs.io/en/latest/advanced-usage.html#ssl-warnings\n",
      "  InsecureRequestWarning)\n",
      "/Users/nplattner/miniconda3/envs/AutoSearch/lib/python3.7/site-packages/urllib3/connectionpool.py:847: InsecureRequestWarning: Unverified HTTPS request is being made. Adding certificate verification is strongly advised. See: https://urllib3.readthedocs.io/en/latest/advanced-usage.html#ssl-warnings\n",
      "  InsecureRequestWarning)\n",
      "/Users/nplattner/miniconda3/envs/AutoSearch/lib/python3.7/site-packages/urllib3/connectionpool.py:847: InsecureRequestWarning: Unverified HTTPS request is being made. Adding certificate verification is strongly advised. See: https://urllib3.readthedocs.io/en/latest/advanced-usage.html#ssl-warnings\n",
      "  InsecureRequestWarning)\n",
      "/Users/nplattner/miniconda3/envs/AutoSearch/lib/python3.7/site-packages/urllib3/connectionpool.py:847: InsecureRequestWarning: Unverified HTTPS request is being made. Adding certificate verification is strongly advised. See: https://urllib3.readthedocs.io/en/latest/advanced-usage.html#ssl-warnings\n",
      "  InsecureRequestWarning)\n",
      "/Users/nplattner/miniconda3/envs/AutoSearch/lib/python3.7/site-packages/urllib3/connectionpool.py:847: InsecureRequestWarning: Unverified HTTPS request is being made. Adding certificate verification is strongly advised. See: https://urllib3.readthedocs.io/en/latest/advanced-usage.html#ssl-warnings\n",
      "  InsecureRequestWarning)\n",
      "/Users/nplattner/miniconda3/envs/AutoSearch/lib/python3.7/site-packages/urllib3/connectionpool.py:847: InsecureRequestWarning: Unverified HTTPS request is being made. Adding certificate verification is strongly advised. See: https://urllib3.readthedocs.io/en/latest/advanced-usage.html#ssl-warnings\n",
      "  InsecureRequestWarning)\n",
      "/Users/nplattner/miniconda3/envs/AutoSearch/lib/python3.7/site-packages/urllib3/connectionpool.py:847: InsecureRequestWarning: Unverified HTTPS request is being made. Adding certificate verification is strongly advised. See: https://urllib3.readthedocs.io/en/latest/advanced-usage.html#ssl-warnings\n",
      "  InsecureRequestWarning)\n",
      "/Users/nplattner/miniconda3/envs/AutoSearch/lib/python3.7/site-packages/urllib3/connectionpool.py:847: InsecureRequestWarning: Unverified HTTPS request is being made. Adding certificate verification is strongly advised. See: https://urllib3.readthedocs.io/en/latest/advanced-usage.html#ssl-warnings\n",
      "  InsecureRequestWarning)\n",
      "/Users/nplattner/miniconda3/envs/AutoSearch/lib/python3.7/site-packages/urllib3/connectionpool.py:847: InsecureRequestWarning: Unverified HTTPS request is being made. Adding certificate verification is strongly advised. See: https://urllib3.readthedocs.io/en/latest/advanced-usage.html#ssl-warnings\n",
      "  InsecureRequestWarning)\n",
      "/Users/nplattner/miniconda3/envs/AutoSearch/lib/python3.7/site-packages/urllib3/connectionpool.py:847: InsecureRequestWarning: Unverified HTTPS request is being made. Adding certificate verification is strongly advised. See: https://urllib3.readthedocs.io/en/latest/advanced-usage.html#ssl-warnings\n",
      "  InsecureRequestWarning)\n",
      "/Users/nplattner/miniconda3/envs/AutoSearch/lib/python3.7/site-packages/urllib3/connectionpool.py:847: InsecureRequestWarning: Unverified HTTPS request is being made. Adding certificate verification is strongly advised. See: https://urllib3.readthedocs.io/en/latest/advanced-usage.html#ssl-warnings\n",
      "  InsecureRequestWarning)\n",
      "/Users/nplattner/miniconda3/envs/AutoSearch/lib/python3.7/site-packages/urllib3/connectionpool.py:847: InsecureRequestWarning: Unverified HTTPS request is being made. Adding certificate verification is strongly advised. See: https://urllib3.readthedocs.io/en/latest/advanced-usage.html#ssl-warnings\n",
      "  InsecureRequestWarning)\n",
      "/Users/nplattner/miniconda3/envs/AutoSearch/lib/python3.7/site-packages/urllib3/connectionpool.py:847: InsecureRequestWarning: Unverified HTTPS request is being made. Adding certificate verification is strongly advised. See: https://urllib3.readthedocs.io/en/latest/advanced-usage.html#ssl-warnings\n",
      "  InsecureRequestWarning)\n",
      "/Users/nplattner/miniconda3/envs/AutoSearch/lib/python3.7/site-packages/urllib3/connectionpool.py:847: InsecureRequestWarning: Unverified HTTPS request is being made. Adding certificate verification is strongly advised. See: https://urllib3.readthedocs.io/en/latest/advanced-usage.html#ssl-warnings\n",
      "  InsecureRequestWarning)\n",
      "/Users/nplattner/miniconda3/envs/AutoSearch/lib/python3.7/site-packages/urllib3/connectionpool.py:847: InsecureRequestWarning: Unverified HTTPS request is being made. Adding certificate verification is strongly advised. See: https://urllib3.readthedocs.io/en/latest/advanced-usage.html#ssl-warnings\n",
      "  InsecureRequestWarning)\n"
     ]
    },
    {
     "name": "stderr",
     "output_type": "stream",
     "text": [
      "/Users/nplattner/miniconda3/envs/AutoSearch/lib/python3.7/site-packages/urllib3/connectionpool.py:847: InsecureRequestWarning: Unverified HTTPS request is being made. Adding certificate verification is strongly advised. See: https://urllib3.readthedocs.io/en/latest/advanced-usage.html#ssl-warnings\n",
      "  InsecureRequestWarning)\n",
      "/Users/nplattner/miniconda3/envs/AutoSearch/lib/python3.7/site-packages/urllib3/connectionpool.py:847: InsecureRequestWarning: Unverified HTTPS request is being made. Adding certificate verification is strongly advised. See: https://urllib3.readthedocs.io/en/latest/advanced-usage.html#ssl-warnings\n",
      "  InsecureRequestWarning)\n",
      "/Users/nplattner/miniconda3/envs/AutoSearch/lib/python3.7/site-packages/urllib3/connectionpool.py:847: InsecureRequestWarning: Unverified HTTPS request is being made. Adding certificate verification is strongly advised. See: https://urllib3.readthedocs.io/en/latest/advanced-usage.html#ssl-warnings\n",
      "  InsecureRequestWarning)\n",
      "/Users/nplattner/miniconda3/envs/AutoSearch/lib/python3.7/site-packages/urllib3/connectionpool.py:847: InsecureRequestWarning: Unverified HTTPS request is being made. Adding certificate verification is strongly advised. See: https://urllib3.readthedocs.io/en/latest/advanced-usage.html#ssl-warnings\n",
      "  InsecureRequestWarning)\n",
      "/Users/nplattner/miniconda3/envs/AutoSearch/lib/python3.7/site-packages/urllib3/connectionpool.py:847: InsecureRequestWarning: Unverified HTTPS request is being made. Adding certificate verification is strongly advised. See: https://urllib3.readthedocs.io/en/latest/advanced-usage.html#ssl-warnings\n",
      "  InsecureRequestWarning)\n",
      "/Users/nplattner/miniconda3/envs/AutoSearch/lib/python3.7/site-packages/urllib3/connectionpool.py:847: InsecureRequestWarning: Unverified HTTPS request is being made. Adding certificate verification is strongly advised. See: https://urllib3.readthedocs.io/en/latest/advanced-usage.html#ssl-warnings\n",
      "  InsecureRequestWarning)\n",
      "/Users/nplattner/miniconda3/envs/AutoSearch/lib/python3.7/site-packages/urllib3/connectionpool.py:847: InsecureRequestWarning: Unverified HTTPS request is being made. Adding certificate verification is strongly advised. See: https://urllib3.readthedocs.io/en/latest/advanced-usage.html#ssl-warnings\n",
      "  InsecureRequestWarning)\n",
      "/Users/nplattner/miniconda3/envs/AutoSearch/lib/python3.7/site-packages/urllib3/connectionpool.py:847: InsecureRequestWarning: Unverified HTTPS request is being made. Adding certificate verification is strongly advised. See: https://urllib3.readthedocs.io/en/latest/advanced-usage.html#ssl-warnings\n",
      "  InsecureRequestWarning)\n",
      "/Users/nplattner/miniconda3/envs/AutoSearch/lib/python3.7/site-packages/urllib3/connectionpool.py:847: InsecureRequestWarning: Unverified HTTPS request is being made. Adding certificate verification is strongly advised. See: https://urllib3.readthedocs.io/en/latest/advanced-usage.html#ssl-warnings\n",
      "  InsecureRequestWarning)\n",
      "/Users/nplattner/miniconda3/envs/AutoSearch/lib/python3.7/site-packages/urllib3/connectionpool.py:847: InsecureRequestWarning: Unverified HTTPS request is being made. Adding certificate verification is strongly advised. See: https://urllib3.readthedocs.io/en/latest/advanced-usage.html#ssl-warnings\n",
      "  InsecureRequestWarning)\n",
      "/Users/nplattner/miniconda3/envs/AutoSearch/lib/python3.7/site-packages/urllib3/connectionpool.py:847: InsecureRequestWarning: Unverified HTTPS request is being made. Adding certificate verification is strongly advised. See: https://urllib3.readthedocs.io/en/latest/advanced-usage.html#ssl-warnings\n",
      "  InsecureRequestWarning)\n",
      "/Users/nplattner/miniconda3/envs/AutoSearch/lib/python3.7/site-packages/urllib3/connectionpool.py:847: InsecureRequestWarning: Unverified HTTPS request is being made. Adding certificate verification is strongly advised. See: https://urllib3.readthedocs.io/en/latest/advanced-usage.html#ssl-warnings\n",
      "  InsecureRequestWarning)\n",
      "/Users/nplattner/miniconda3/envs/AutoSearch/lib/python3.7/site-packages/urllib3/connectionpool.py:847: InsecureRequestWarning: Unverified HTTPS request is being made. Adding certificate verification is strongly advised. See: https://urllib3.readthedocs.io/en/latest/advanced-usage.html#ssl-warnings\n",
      "  InsecureRequestWarning)\n",
      "/Users/nplattner/miniconda3/envs/AutoSearch/lib/python3.7/site-packages/urllib3/connectionpool.py:847: InsecureRequestWarning: Unverified HTTPS request is being made. Adding certificate verification is strongly advised. See: https://urllib3.readthedocs.io/en/latest/advanced-usage.html#ssl-warnings\n",
      "  InsecureRequestWarning)\n",
      "/Users/nplattner/miniconda3/envs/AutoSearch/lib/python3.7/site-packages/urllib3/connectionpool.py:847: InsecureRequestWarning: Unverified HTTPS request is being made. Adding certificate verification is strongly advised. See: https://urllib3.readthedocs.io/en/latest/advanced-usage.html#ssl-warnings\n",
      "  InsecureRequestWarning)\n",
      "/Users/nplattner/miniconda3/envs/AutoSearch/lib/python3.7/site-packages/urllib3/connectionpool.py:847: InsecureRequestWarning: Unverified HTTPS request is being made. Adding certificate verification is strongly advised. See: https://urllib3.readthedocs.io/en/latest/advanced-usage.html#ssl-warnings\n",
      "  InsecureRequestWarning)\n",
      "/Users/nplattner/miniconda3/envs/AutoSearch/lib/python3.7/site-packages/urllib3/connectionpool.py:847: InsecureRequestWarning: Unverified HTTPS request is being made. Adding certificate verification is strongly advised. See: https://urllib3.readthedocs.io/en/latest/advanced-usage.html#ssl-warnings\n",
      "  InsecureRequestWarning)\n",
      "/Users/nplattner/miniconda3/envs/AutoSearch/lib/python3.7/site-packages/urllib3/connectionpool.py:847: InsecureRequestWarning: Unverified HTTPS request is being made. Adding certificate verification is strongly advised. See: https://urllib3.readthedocs.io/en/latest/advanced-usage.html#ssl-warnings\n",
      "  InsecureRequestWarning)\n",
      "/Users/nplattner/miniconda3/envs/AutoSearch/lib/python3.7/site-packages/urllib3/connectionpool.py:847: InsecureRequestWarning: Unverified HTTPS request is being made. Adding certificate verification is strongly advised. See: https://urllib3.readthedocs.io/en/latest/advanced-usage.html#ssl-warnings\n",
      "  InsecureRequestWarning)\n",
      "/Users/nplattner/miniconda3/envs/AutoSearch/lib/python3.7/site-packages/urllib3/connectionpool.py:847: InsecureRequestWarning: Unverified HTTPS request is being made. Adding certificate verification is strongly advised. See: https://urllib3.readthedocs.io/en/latest/advanced-usage.html#ssl-warnings\n",
      "  InsecureRequestWarning)\n",
      "/Users/nplattner/miniconda3/envs/AutoSearch/lib/python3.7/site-packages/urllib3/connectionpool.py:847: InsecureRequestWarning: Unverified HTTPS request is being made. Adding certificate verification is strongly advised. See: https://urllib3.readthedocs.io/en/latest/advanced-usage.html#ssl-warnings\n",
      "  InsecureRequestWarning)\n",
      "/Users/nplattner/miniconda3/envs/AutoSearch/lib/python3.7/site-packages/urllib3/connectionpool.py:847: InsecureRequestWarning: Unverified HTTPS request is being made. Adding certificate verification is strongly advised. See: https://urllib3.readthedocs.io/en/latest/advanced-usage.html#ssl-warnings\n",
      "  InsecureRequestWarning)\n",
      "/Users/nplattner/miniconda3/envs/AutoSearch/lib/python3.7/site-packages/urllib3/connectionpool.py:847: InsecureRequestWarning: Unverified HTTPS request is being made. Adding certificate verification is strongly advised. See: https://urllib3.readthedocs.io/en/latest/advanced-usage.html#ssl-warnings\n",
      "  InsecureRequestWarning)\n",
      "/Users/nplattner/miniconda3/envs/AutoSearch/lib/python3.7/site-packages/urllib3/connectionpool.py:847: InsecureRequestWarning: Unverified HTTPS request is being made. Adding certificate verification is strongly advised. See: https://urllib3.readthedocs.io/en/latest/advanced-usage.html#ssl-warnings\n",
      "  InsecureRequestWarning)\n",
      "/Users/nplattner/miniconda3/envs/AutoSearch/lib/python3.7/site-packages/urllib3/connectionpool.py:847: InsecureRequestWarning: Unverified HTTPS request is being made. Adding certificate verification is strongly advised. See: https://urllib3.readthedocs.io/en/latest/advanced-usage.html#ssl-warnings\n",
      "  InsecureRequestWarning)\n",
      "/Users/nplattner/miniconda3/envs/AutoSearch/lib/python3.7/site-packages/urllib3/connectionpool.py:847: InsecureRequestWarning: Unverified HTTPS request is being made. Adding certificate verification is strongly advised. See: https://urllib3.readthedocs.io/en/latest/advanced-usage.html#ssl-warnings\n",
      "  InsecureRequestWarning)\n"
     ]
    },
    {
     "name": "stderr",
     "output_type": "stream",
     "text": [
      "/Users/nplattner/miniconda3/envs/AutoSearch/lib/python3.7/site-packages/urllib3/connectionpool.py:847: InsecureRequestWarning: Unverified HTTPS request is being made. Adding certificate verification is strongly advised. See: https://urllib3.readthedocs.io/en/latest/advanced-usage.html#ssl-warnings\n",
      "  InsecureRequestWarning)\n",
      "/Users/nplattner/miniconda3/envs/AutoSearch/lib/python3.7/site-packages/urllib3/connectionpool.py:847: InsecureRequestWarning: Unverified HTTPS request is being made. Adding certificate verification is strongly advised. See: https://urllib3.readthedocs.io/en/latest/advanced-usage.html#ssl-warnings\n",
      "  InsecureRequestWarning)\n",
      "/Users/nplattner/miniconda3/envs/AutoSearch/lib/python3.7/site-packages/urllib3/connectionpool.py:847: InsecureRequestWarning: Unverified HTTPS request is being made. Adding certificate verification is strongly advised. See: https://urllib3.readthedocs.io/en/latest/advanced-usage.html#ssl-warnings\n",
      "  InsecureRequestWarning)\n",
      "/Users/nplattner/miniconda3/envs/AutoSearch/lib/python3.7/site-packages/urllib3/connectionpool.py:847: InsecureRequestWarning: Unverified HTTPS request is being made. Adding certificate verification is strongly advised. See: https://urllib3.readthedocs.io/en/latest/advanced-usage.html#ssl-warnings\n",
      "  InsecureRequestWarning)\n",
      "/Users/nplattner/miniconda3/envs/AutoSearch/lib/python3.7/site-packages/urllib3/connectionpool.py:847: InsecureRequestWarning: Unverified HTTPS request is being made. Adding certificate verification is strongly advised. See: https://urllib3.readthedocs.io/en/latest/advanced-usage.html#ssl-warnings\n",
      "  InsecureRequestWarning)\n",
      "/Users/nplattner/miniconda3/envs/AutoSearch/lib/python3.7/site-packages/urllib3/connectionpool.py:847: InsecureRequestWarning: Unverified HTTPS request is being made. Adding certificate verification is strongly advised. See: https://urllib3.readthedocs.io/en/latest/advanced-usage.html#ssl-warnings\n",
      "  InsecureRequestWarning)\n",
      "/Users/nplattner/miniconda3/envs/AutoSearch/lib/python3.7/site-packages/urllib3/connectionpool.py:847: InsecureRequestWarning: Unverified HTTPS request is being made. Adding certificate verification is strongly advised. See: https://urllib3.readthedocs.io/en/latest/advanced-usage.html#ssl-warnings\n",
      "  InsecureRequestWarning)\n",
      "/Users/nplattner/miniconda3/envs/AutoSearch/lib/python3.7/site-packages/urllib3/connectionpool.py:847: InsecureRequestWarning: Unverified HTTPS request is being made. Adding certificate verification is strongly advised. See: https://urllib3.readthedocs.io/en/latest/advanced-usage.html#ssl-warnings\n",
      "  InsecureRequestWarning)\n",
      "/Users/nplattner/miniconda3/envs/AutoSearch/lib/python3.7/site-packages/urllib3/connectionpool.py:847: InsecureRequestWarning: Unverified HTTPS request is being made. Adding certificate verification is strongly advised. See: https://urllib3.readthedocs.io/en/latest/advanced-usage.html#ssl-warnings\n",
      "  InsecureRequestWarning)\n",
      "/Users/nplattner/miniconda3/envs/AutoSearch/lib/python3.7/site-packages/urllib3/connectionpool.py:847: InsecureRequestWarning: Unverified HTTPS request is being made. Adding certificate verification is strongly advised. See: https://urllib3.readthedocs.io/en/latest/advanced-usage.html#ssl-warnings\n",
      "  InsecureRequestWarning)\n",
      "/Users/nplattner/miniconda3/envs/AutoSearch/lib/python3.7/site-packages/urllib3/connectionpool.py:847: InsecureRequestWarning: Unverified HTTPS request is being made. Adding certificate verification is strongly advised. See: https://urllib3.readthedocs.io/en/latest/advanced-usage.html#ssl-warnings\n",
      "  InsecureRequestWarning)\n",
      "/Users/nplattner/miniconda3/envs/AutoSearch/lib/python3.7/site-packages/urllib3/connectionpool.py:847: InsecureRequestWarning: Unverified HTTPS request is being made. Adding certificate verification is strongly advised. See: https://urllib3.readthedocs.io/en/latest/advanced-usage.html#ssl-warnings\n",
      "  InsecureRequestWarning)\n",
      "/Users/nplattner/miniconda3/envs/AutoSearch/lib/python3.7/site-packages/urllib3/connectionpool.py:847: InsecureRequestWarning: Unverified HTTPS request is being made. Adding certificate verification is strongly advised. See: https://urllib3.readthedocs.io/en/latest/advanced-usage.html#ssl-warnings\n",
      "  InsecureRequestWarning)\n",
      "/Users/nplattner/miniconda3/envs/AutoSearch/lib/python3.7/site-packages/urllib3/connectionpool.py:847: InsecureRequestWarning: Unverified HTTPS request is being made. Adding certificate verification is strongly advised. See: https://urllib3.readthedocs.io/en/latest/advanced-usage.html#ssl-warnings\n",
      "  InsecureRequestWarning)\n",
      "/Users/nplattner/miniconda3/envs/AutoSearch/lib/python3.7/site-packages/urllib3/connectionpool.py:847: InsecureRequestWarning: Unverified HTTPS request is being made. Adding certificate verification is strongly advised. See: https://urllib3.readthedocs.io/en/latest/advanced-usage.html#ssl-warnings\n",
      "  InsecureRequestWarning)\n",
      "/Users/nplattner/miniconda3/envs/AutoSearch/lib/python3.7/site-packages/urllib3/connectionpool.py:847: InsecureRequestWarning: Unverified HTTPS request is being made. Adding certificate verification is strongly advised. See: https://urllib3.readthedocs.io/en/latest/advanced-usage.html#ssl-warnings\n",
      "  InsecureRequestWarning)\n",
      "/Users/nplattner/miniconda3/envs/AutoSearch/lib/python3.7/site-packages/urllib3/connectionpool.py:847: InsecureRequestWarning: Unverified HTTPS request is being made. Adding certificate verification is strongly advised. See: https://urllib3.readthedocs.io/en/latest/advanced-usage.html#ssl-warnings\n",
      "  InsecureRequestWarning)\n",
      "/Users/nplattner/miniconda3/envs/AutoSearch/lib/python3.7/site-packages/urllib3/connectionpool.py:847: InsecureRequestWarning: Unverified HTTPS request is being made. Adding certificate verification is strongly advised. See: https://urllib3.readthedocs.io/en/latest/advanced-usage.html#ssl-warnings\n",
      "  InsecureRequestWarning)\n",
      "/Users/nplattner/miniconda3/envs/AutoSearch/lib/python3.7/site-packages/urllib3/connectionpool.py:847: InsecureRequestWarning: Unverified HTTPS request is being made. Adding certificate verification is strongly advised. See: https://urllib3.readthedocs.io/en/latest/advanced-usage.html#ssl-warnings\n",
      "  InsecureRequestWarning)\n",
      "/Users/nplattner/miniconda3/envs/AutoSearch/lib/python3.7/site-packages/urllib3/connectionpool.py:847: InsecureRequestWarning: Unverified HTTPS request is being made. Adding certificate verification is strongly advised. See: https://urllib3.readthedocs.io/en/latest/advanced-usage.html#ssl-warnings\n",
      "  InsecureRequestWarning)\n",
      "/Users/nplattner/miniconda3/envs/AutoSearch/lib/python3.7/site-packages/urllib3/connectionpool.py:847: InsecureRequestWarning: Unverified HTTPS request is being made. Adding certificate verification is strongly advised. See: https://urllib3.readthedocs.io/en/latest/advanced-usage.html#ssl-warnings\n",
      "  InsecureRequestWarning)\n",
      "/Users/nplattner/miniconda3/envs/AutoSearch/lib/python3.7/site-packages/urllib3/connectionpool.py:847: InsecureRequestWarning: Unverified HTTPS request is being made. Adding certificate verification is strongly advised. See: https://urllib3.readthedocs.io/en/latest/advanced-usage.html#ssl-warnings\n",
      "  InsecureRequestWarning)\n",
      "/Users/nplattner/miniconda3/envs/AutoSearch/lib/python3.7/site-packages/urllib3/connectionpool.py:847: InsecureRequestWarning: Unverified HTTPS request is being made. Adding certificate verification is strongly advised. See: https://urllib3.readthedocs.io/en/latest/advanced-usage.html#ssl-warnings\n",
      "  InsecureRequestWarning)\n",
      "/Users/nplattner/miniconda3/envs/AutoSearch/lib/python3.7/site-packages/urllib3/connectionpool.py:847: InsecureRequestWarning: Unverified HTTPS request is being made. Adding certificate verification is strongly advised. See: https://urllib3.readthedocs.io/en/latest/advanced-usage.html#ssl-warnings\n",
      "  InsecureRequestWarning)\n",
      "/Users/nplattner/miniconda3/envs/AutoSearch/lib/python3.7/site-packages/urllib3/connectionpool.py:847: InsecureRequestWarning: Unverified HTTPS request is being made. Adding certificate verification is strongly advised. See: https://urllib3.readthedocs.io/en/latest/advanced-usage.html#ssl-warnings\n",
      "  InsecureRequestWarning)\n",
      "/Users/nplattner/miniconda3/envs/AutoSearch/lib/python3.7/site-packages/urllib3/connectionpool.py:847: InsecureRequestWarning: Unverified HTTPS request is being made. Adding certificate verification is strongly advised. See: https://urllib3.readthedocs.io/en/latest/advanced-usage.html#ssl-warnings\n",
      "  InsecureRequestWarning)\n"
     ]
    },
    {
     "name": "stderr",
     "output_type": "stream",
     "text": [
      "/Users/nplattner/miniconda3/envs/AutoSearch/lib/python3.7/site-packages/urllib3/connectionpool.py:847: InsecureRequestWarning: Unverified HTTPS request is being made. Adding certificate verification is strongly advised. See: https://urllib3.readthedocs.io/en/latest/advanced-usage.html#ssl-warnings\n",
      "  InsecureRequestWarning)\n",
      "/Users/nplattner/miniconda3/envs/AutoSearch/lib/python3.7/site-packages/urllib3/connectionpool.py:847: InsecureRequestWarning: Unverified HTTPS request is being made. Adding certificate verification is strongly advised. See: https://urllib3.readthedocs.io/en/latest/advanced-usage.html#ssl-warnings\n",
      "  InsecureRequestWarning)\n",
      "/Users/nplattner/miniconda3/envs/AutoSearch/lib/python3.7/site-packages/urllib3/connectionpool.py:847: InsecureRequestWarning: Unverified HTTPS request is being made. Adding certificate verification is strongly advised. See: https://urllib3.readthedocs.io/en/latest/advanced-usage.html#ssl-warnings\n",
      "  InsecureRequestWarning)\n",
      "/Users/nplattner/miniconda3/envs/AutoSearch/lib/python3.7/site-packages/urllib3/connectionpool.py:847: InsecureRequestWarning: Unverified HTTPS request is being made. Adding certificate verification is strongly advised. See: https://urllib3.readthedocs.io/en/latest/advanced-usage.html#ssl-warnings\n",
      "  InsecureRequestWarning)\n",
      "/Users/nplattner/miniconda3/envs/AutoSearch/lib/python3.7/site-packages/urllib3/connectionpool.py:847: InsecureRequestWarning: Unverified HTTPS request is being made. Adding certificate verification is strongly advised. See: https://urllib3.readthedocs.io/en/latest/advanced-usage.html#ssl-warnings\n",
      "  InsecureRequestWarning)\n",
      "/Users/nplattner/miniconda3/envs/AutoSearch/lib/python3.7/site-packages/urllib3/connectionpool.py:847: InsecureRequestWarning: Unverified HTTPS request is being made. Adding certificate verification is strongly advised. See: https://urllib3.readthedocs.io/en/latest/advanced-usage.html#ssl-warnings\n",
      "  InsecureRequestWarning)\n",
      "/Users/nplattner/miniconda3/envs/AutoSearch/lib/python3.7/site-packages/urllib3/connectionpool.py:847: InsecureRequestWarning: Unverified HTTPS request is being made. Adding certificate verification is strongly advised. See: https://urllib3.readthedocs.io/en/latest/advanced-usage.html#ssl-warnings\n",
      "  InsecureRequestWarning)\n",
      "/Users/nplattner/miniconda3/envs/AutoSearch/lib/python3.7/site-packages/urllib3/connectionpool.py:847: InsecureRequestWarning: Unverified HTTPS request is being made. Adding certificate verification is strongly advised. See: https://urllib3.readthedocs.io/en/latest/advanced-usage.html#ssl-warnings\n",
      "  InsecureRequestWarning)\n",
      "/Users/nplattner/miniconda3/envs/AutoSearch/lib/python3.7/site-packages/urllib3/connectionpool.py:847: InsecureRequestWarning: Unverified HTTPS request is being made. Adding certificate verification is strongly advised. See: https://urllib3.readthedocs.io/en/latest/advanced-usage.html#ssl-warnings\n",
      "  InsecureRequestWarning)\n",
      "/Users/nplattner/miniconda3/envs/AutoSearch/lib/python3.7/site-packages/urllib3/connectionpool.py:847: InsecureRequestWarning: Unverified HTTPS request is being made. Adding certificate verification is strongly advised. See: https://urllib3.readthedocs.io/en/latest/advanced-usage.html#ssl-warnings\n",
      "  InsecureRequestWarning)\n",
      "/Users/nplattner/miniconda3/envs/AutoSearch/lib/python3.7/site-packages/urllib3/connectionpool.py:847: InsecureRequestWarning: Unverified HTTPS request is being made. Adding certificate verification is strongly advised. See: https://urllib3.readthedocs.io/en/latest/advanced-usage.html#ssl-warnings\n",
      "  InsecureRequestWarning)\n",
      "/Users/nplattner/miniconda3/envs/AutoSearch/lib/python3.7/site-packages/urllib3/connectionpool.py:847: InsecureRequestWarning: Unverified HTTPS request is being made. Adding certificate verification is strongly advised. See: https://urllib3.readthedocs.io/en/latest/advanced-usage.html#ssl-warnings\n",
      "  InsecureRequestWarning)\n",
      "/Users/nplattner/miniconda3/envs/AutoSearch/lib/python3.7/site-packages/urllib3/connectionpool.py:847: InsecureRequestWarning: Unverified HTTPS request is being made. Adding certificate verification is strongly advised. See: https://urllib3.readthedocs.io/en/latest/advanced-usage.html#ssl-warnings\n",
      "  InsecureRequestWarning)\n",
      "/Users/nplattner/miniconda3/envs/AutoSearch/lib/python3.7/site-packages/urllib3/connectionpool.py:847: InsecureRequestWarning: Unverified HTTPS request is being made. Adding certificate verification is strongly advised. See: https://urllib3.readthedocs.io/en/latest/advanced-usage.html#ssl-warnings\n",
      "  InsecureRequestWarning)\n",
      "/Users/nplattner/miniconda3/envs/AutoSearch/lib/python3.7/site-packages/urllib3/connectionpool.py:847: InsecureRequestWarning: Unverified HTTPS request is being made. Adding certificate verification is strongly advised. See: https://urllib3.readthedocs.io/en/latest/advanced-usage.html#ssl-warnings\n",
      "  InsecureRequestWarning)\n",
      "/Users/nplattner/miniconda3/envs/AutoSearch/lib/python3.7/site-packages/urllib3/connectionpool.py:847: InsecureRequestWarning: Unverified HTTPS request is being made. Adding certificate verification is strongly advised. See: https://urllib3.readthedocs.io/en/latest/advanced-usage.html#ssl-warnings\n",
      "  InsecureRequestWarning)\n",
      "/Users/nplattner/miniconda3/envs/AutoSearch/lib/python3.7/site-packages/urllib3/connectionpool.py:847: InsecureRequestWarning: Unverified HTTPS request is being made. Adding certificate verification is strongly advised. See: https://urllib3.readthedocs.io/en/latest/advanced-usage.html#ssl-warnings\n",
      "  InsecureRequestWarning)\n",
      "/Users/nplattner/miniconda3/envs/AutoSearch/lib/python3.7/site-packages/urllib3/connectionpool.py:847: InsecureRequestWarning: Unverified HTTPS request is being made. Adding certificate verification is strongly advised. See: https://urllib3.readthedocs.io/en/latest/advanced-usage.html#ssl-warnings\n",
      "  InsecureRequestWarning)\n",
      "/Users/nplattner/miniconda3/envs/AutoSearch/lib/python3.7/site-packages/urllib3/connectionpool.py:847: InsecureRequestWarning: Unverified HTTPS request is being made. Adding certificate verification is strongly advised. See: https://urllib3.readthedocs.io/en/latest/advanced-usage.html#ssl-warnings\n",
      "  InsecureRequestWarning)\n",
      "/Users/nplattner/miniconda3/envs/AutoSearch/lib/python3.7/site-packages/urllib3/connectionpool.py:847: InsecureRequestWarning: Unverified HTTPS request is being made. Adding certificate verification is strongly advised. See: https://urllib3.readthedocs.io/en/latest/advanced-usage.html#ssl-warnings\n",
      "  InsecureRequestWarning)\n",
      "/Users/nplattner/miniconda3/envs/AutoSearch/lib/python3.7/site-packages/urllib3/connectionpool.py:847: InsecureRequestWarning: Unverified HTTPS request is being made. Adding certificate verification is strongly advised. See: https://urllib3.readthedocs.io/en/latest/advanced-usage.html#ssl-warnings\n",
      "  InsecureRequestWarning)\n",
      "/Users/nplattner/miniconda3/envs/AutoSearch/lib/python3.7/site-packages/urllib3/connectionpool.py:847: InsecureRequestWarning: Unverified HTTPS request is being made. Adding certificate verification is strongly advised. See: https://urllib3.readthedocs.io/en/latest/advanced-usage.html#ssl-warnings\n",
      "  InsecureRequestWarning)\n",
      "/Users/nplattner/miniconda3/envs/AutoSearch/lib/python3.7/site-packages/urllib3/connectionpool.py:847: InsecureRequestWarning: Unverified HTTPS request is being made. Adding certificate verification is strongly advised. See: https://urllib3.readthedocs.io/en/latest/advanced-usage.html#ssl-warnings\n",
      "  InsecureRequestWarning)\n",
      "/Users/nplattner/miniconda3/envs/AutoSearch/lib/python3.7/site-packages/urllib3/connectionpool.py:847: InsecureRequestWarning: Unverified HTTPS request is being made. Adding certificate verification is strongly advised. See: https://urllib3.readthedocs.io/en/latest/advanced-usage.html#ssl-warnings\n",
      "  InsecureRequestWarning)\n",
      "/Users/nplattner/miniconda3/envs/AutoSearch/lib/python3.7/site-packages/urllib3/connectionpool.py:847: InsecureRequestWarning: Unverified HTTPS request is being made. Adding certificate verification is strongly advised. See: https://urllib3.readthedocs.io/en/latest/advanced-usage.html#ssl-warnings\n",
      "  InsecureRequestWarning)\n",
      "/Users/nplattner/miniconda3/envs/AutoSearch/lib/python3.7/site-packages/urllib3/connectionpool.py:847: InsecureRequestWarning: Unverified HTTPS request is being made. Adding certificate verification is strongly advised. See: https://urllib3.readthedocs.io/en/latest/advanced-usage.html#ssl-warnings\n",
      "  InsecureRequestWarning)\n"
     ]
    },
    {
     "name": "stderr",
     "output_type": "stream",
     "text": [
      "/Users/nplattner/miniconda3/envs/AutoSearch/lib/python3.7/site-packages/urllib3/connectionpool.py:847: InsecureRequestWarning: Unverified HTTPS request is being made. Adding certificate verification is strongly advised. See: https://urllib3.readthedocs.io/en/latest/advanced-usage.html#ssl-warnings\n",
      "  InsecureRequestWarning)\n",
      "/Users/nplattner/miniconda3/envs/AutoSearch/lib/python3.7/site-packages/urllib3/connectionpool.py:847: InsecureRequestWarning: Unverified HTTPS request is being made. Adding certificate verification is strongly advised. See: https://urllib3.readthedocs.io/en/latest/advanced-usage.html#ssl-warnings\n",
      "  InsecureRequestWarning)\n",
      "/Users/nplattner/miniconda3/envs/AutoSearch/lib/python3.7/site-packages/urllib3/connectionpool.py:847: InsecureRequestWarning: Unverified HTTPS request is being made. Adding certificate verification is strongly advised. See: https://urllib3.readthedocs.io/en/latest/advanced-usage.html#ssl-warnings\n",
      "  InsecureRequestWarning)\n",
      "/Users/nplattner/miniconda3/envs/AutoSearch/lib/python3.7/site-packages/urllib3/connectionpool.py:847: InsecureRequestWarning: Unverified HTTPS request is being made. Adding certificate verification is strongly advised. See: https://urllib3.readthedocs.io/en/latest/advanced-usage.html#ssl-warnings\n",
      "  InsecureRequestWarning)\n",
      "/Users/nplattner/miniconda3/envs/AutoSearch/lib/python3.7/site-packages/urllib3/connectionpool.py:847: InsecureRequestWarning: Unverified HTTPS request is being made. Adding certificate verification is strongly advised. See: https://urllib3.readthedocs.io/en/latest/advanced-usage.html#ssl-warnings\n",
      "  InsecureRequestWarning)\n",
      "/Users/nplattner/miniconda3/envs/AutoSearch/lib/python3.7/site-packages/urllib3/connectionpool.py:847: InsecureRequestWarning: Unverified HTTPS request is being made. Adding certificate verification is strongly advised. See: https://urllib3.readthedocs.io/en/latest/advanced-usage.html#ssl-warnings\n",
      "  InsecureRequestWarning)\n",
      "/Users/nplattner/miniconda3/envs/AutoSearch/lib/python3.7/site-packages/urllib3/connectionpool.py:847: InsecureRequestWarning: Unverified HTTPS request is being made. Adding certificate verification is strongly advised. See: https://urllib3.readthedocs.io/en/latest/advanced-usage.html#ssl-warnings\n",
      "  InsecureRequestWarning)\n",
      "/Users/nplattner/miniconda3/envs/AutoSearch/lib/python3.7/site-packages/urllib3/connectionpool.py:847: InsecureRequestWarning: Unverified HTTPS request is being made. Adding certificate verification is strongly advised. See: https://urllib3.readthedocs.io/en/latest/advanced-usage.html#ssl-warnings\n",
      "  InsecureRequestWarning)\n",
      "/Users/nplattner/miniconda3/envs/AutoSearch/lib/python3.7/site-packages/urllib3/connectionpool.py:847: InsecureRequestWarning: Unverified HTTPS request is being made. Adding certificate verification is strongly advised. See: https://urllib3.readthedocs.io/en/latest/advanced-usage.html#ssl-warnings\n",
      "  InsecureRequestWarning)\n",
      "/Users/nplattner/miniconda3/envs/AutoSearch/lib/python3.7/site-packages/urllib3/connectionpool.py:847: InsecureRequestWarning: Unverified HTTPS request is being made. Adding certificate verification is strongly advised. See: https://urllib3.readthedocs.io/en/latest/advanced-usage.html#ssl-warnings\n",
      "  InsecureRequestWarning)\n",
      "/Users/nplattner/miniconda3/envs/AutoSearch/lib/python3.7/site-packages/urllib3/connectionpool.py:847: InsecureRequestWarning: Unverified HTTPS request is being made. Adding certificate verification is strongly advised. See: https://urllib3.readthedocs.io/en/latest/advanced-usage.html#ssl-warnings\n",
      "  InsecureRequestWarning)\n",
      "/Users/nplattner/miniconda3/envs/AutoSearch/lib/python3.7/site-packages/urllib3/connectionpool.py:847: InsecureRequestWarning: Unverified HTTPS request is being made. Adding certificate verification is strongly advised. See: https://urllib3.readthedocs.io/en/latest/advanced-usage.html#ssl-warnings\n",
      "  InsecureRequestWarning)\n",
      "/Users/nplattner/miniconda3/envs/AutoSearch/lib/python3.7/site-packages/urllib3/connectionpool.py:847: InsecureRequestWarning: Unverified HTTPS request is being made. Adding certificate verification is strongly advised. See: https://urllib3.readthedocs.io/en/latest/advanced-usage.html#ssl-warnings\n",
      "  InsecureRequestWarning)\n",
      "/Users/nplattner/miniconda3/envs/AutoSearch/lib/python3.7/site-packages/urllib3/connectionpool.py:847: InsecureRequestWarning: Unverified HTTPS request is being made. Adding certificate verification is strongly advised. See: https://urllib3.readthedocs.io/en/latest/advanced-usage.html#ssl-warnings\n",
      "  InsecureRequestWarning)\n",
      "/Users/nplattner/miniconda3/envs/AutoSearch/lib/python3.7/site-packages/urllib3/connectionpool.py:847: InsecureRequestWarning: Unverified HTTPS request is being made. Adding certificate verification is strongly advised. See: https://urllib3.readthedocs.io/en/latest/advanced-usage.html#ssl-warnings\n",
      "  InsecureRequestWarning)\n",
      "/Users/nplattner/miniconda3/envs/AutoSearch/lib/python3.7/site-packages/urllib3/connectionpool.py:847: InsecureRequestWarning: Unverified HTTPS request is being made. Adding certificate verification is strongly advised. See: https://urllib3.readthedocs.io/en/latest/advanced-usage.html#ssl-warnings\n",
      "  InsecureRequestWarning)\n",
      "/Users/nplattner/miniconda3/envs/AutoSearch/lib/python3.7/site-packages/urllib3/connectionpool.py:847: InsecureRequestWarning: Unverified HTTPS request is being made. Adding certificate verification is strongly advised. See: https://urllib3.readthedocs.io/en/latest/advanced-usage.html#ssl-warnings\n",
      "  InsecureRequestWarning)\n",
      "/Users/nplattner/miniconda3/envs/AutoSearch/lib/python3.7/site-packages/urllib3/connectionpool.py:847: InsecureRequestWarning: Unverified HTTPS request is being made. Adding certificate verification is strongly advised. See: https://urllib3.readthedocs.io/en/latest/advanced-usage.html#ssl-warnings\n",
      "  InsecureRequestWarning)\n",
      "/Users/nplattner/miniconda3/envs/AutoSearch/lib/python3.7/site-packages/urllib3/connectionpool.py:847: InsecureRequestWarning: Unverified HTTPS request is being made. Adding certificate verification is strongly advised. See: https://urllib3.readthedocs.io/en/latest/advanced-usage.html#ssl-warnings\n",
      "  InsecureRequestWarning)\n",
      "/Users/nplattner/miniconda3/envs/AutoSearch/lib/python3.7/site-packages/urllib3/connectionpool.py:847: InsecureRequestWarning: Unverified HTTPS request is being made. Adding certificate verification is strongly advised. See: https://urllib3.readthedocs.io/en/latest/advanced-usage.html#ssl-warnings\n",
      "  InsecureRequestWarning)\n",
      "/Users/nplattner/miniconda3/envs/AutoSearch/lib/python3.7/site-packages/urllib3/connectionpool.py:847: InsecureRequestWarning: Unverified HTTPS request is being made. Adding certificate verification is strongly advised. See: https://urllib3.readthedocs.io/en/latest/advanced-usage.html#ssl-warnings\n",
      "  InsecureRequestWarning)\n",
      "/Users/nplattner/miniconda3/envs/AutoSearch/lib/python3.7/site-packages/urllib3/connectionpool.py:847: InsecureRequestWarning: Unverified HTTPS request is being made. Adding certificate verification is strongly advised. See: https://urllib3.readthedocs.io/en/latest/advanced-usage.html#ssl-warnings\n",
      "  InsecureRequestWarning)\n",
      "/Users/nplattner/miniconda3/envs/AutoSearch/lib/python3.7/site-packages/urllib3/connectionpool.py:847: InsecureRequestWarning: Unverified HTTPS request is being made. Adding certificate verification is strongly advised. See: https://urllib3.readthedocs.io/en/latest/advanced-usage.html#ssl-warnings\n",
      "  InsecureRequestWarning)\n"
     ]
    }
   ],
   "source": [
    "## Download loop: here we download all the files for the selected year\n",
    "for num in range(len(new_list)):\n",
    "    subfolder = os.path.join(folder,str(new_list[num][0]))\n",
    "    if not os.path.exists(subfolder):\n",
    "        os.mkdir(subfolder)\n",
    "    for p in range(len(new_list[num][2])):\n",
    "        filename = os.path.join(subfolder,(str(new_list[num][0])+'_'+str(p)+'.png'))     \n",
    "        http = urllib3.PoolManager()\n",
    "        c = urllib3.PoolManager()\n",
    "        with c.request('GET',pictures[num][p], preload_content=False) as resp, open(filename, 'wb') as out_file:\n",
    "            shutil.copyfileobj(resp, out_file)\n",
    "\n",
    "        resp.release_conn()  "
   ]
  },
  {
   "cell_type": "code",
   "execution_count": null,
   "metadata": {},
   "outputs": [],
   "source": []
  },
  {
   "cell_type": "code",
   "execution_count": null,
   "metadata": {},
   "outputs": [],
   "source": []
  }
 ],
 "metadata": {
  "kernelspec": {
   "display_name": "Python 3",
   "language": "python",
   "name": "python3"
  },
  "language_info": {
   "codemirror_mode": {
    "name": "ipython",
    "version": 3
   },
   "file_extension": ".py",
   "mimetype": "text/x-python",
   "name": "python",
   "nbconvert_exporter": "python",
   "pygments_lexer": "ipython3",
   "version": "3.7.1"
  }
 },
 "nbformat": 4,
 "nbformat_minor": 2
}
